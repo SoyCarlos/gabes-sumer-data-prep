{
 "cells": [
  {
   "cell_type": "code",
   "metadata": {
    "deletable": false,
    "editable": false,
    "cell_id": "7517204c-562a-4669-8a40-45046e61f44b",
    "deepnote_to_be_reexecuted": false,
    "source_hash": "77f31a9",
    "execution_start": 1655413748168,
    "execution_millis": 7665,
    "deepnote_cell_type": "code",
    "deepnote_cell_height": 755
   },
   "source": "# Initialize Otter\n!pip install otter-grader\nimport otter\ngrader = otter.Notebook(\"lab02.ipynb\")",
   "execution_count": null,
   "outputs": [
    {
     "name": "stdout",
     "text": "Collecting otter-grader\n  Downloading otter_grader-3.3.0-py3-none-any.whl (165 kB)\n\u001b[2K     \u001b[90m━━━━━━━━━━━━━━━━━━━━━━━━━━━━━━━━━━━━━━\u001b[0m \u001b[32m166.0/166.0 KB\u001b[0m \u001b[31m23.2 MB/s\u001b[0m eta \u001b[36m0:00:00\u001b[0m\n\u001b[?25hRequirement already satisfied: dill in /shared-libs/python3.9/py/lib/python3.9/site-packages (from otter-grader) (0.3.5.1)\nRequirement already satisfied: six in /shared-libs/python3.9/py-core/lib/python3.9/site-packages (from otter-grader) (1.16.0)\nCollecting PyYAML\n  Downloading PyYAML-6.0-cp39-cp39-manylinux_2_5_x86_64.manylinux1_x86_64.manylinux_2_12_x86_64.manylinux2010_x86_64.whl (661 kB)\n\u001b[2K     \u001b[90m━━━━━━━━━━━━━━━━━━━━━━━━━━━━━━━━━━━━━━\u001b[0m \u001b[32m661.8/661.8 KB\u001b[0m \u001b[31m10.7 MB/s\u001b[0m eta \u001b[36m0:00:00\u001b[0m\n\u001b[?25hCollecting pdfkit\n  Downloading pdfkit-1.0.0-py3-none-any.whl (12 kB)\nRequirement already satisfied: google-auth-oauthlib in /shared-libs/python3.9/py/lib/python3.9/site-packages (from otter-grader) (0.4.6)\nCollecting PyPDF2\n  Downloading PyPDF2-2.2.0-py3-none-any.whl (189 kB)\n\u001b[2K     \u001b[90m━━━━━━━━━━━━━━━━━━━━━━━━━━━━━━━━━━━━━━\u001b[0m \u001b[32m189.3/189.3 KB\u001b[0m \u001b[31m32.2 MB/s\u001b[0m eta \u001b[36m0:00:00\u001b[0m\n\u001b[?25hRequirement already satisfied: requests in /shared-libs/python3.9/py/lib/python3.9/site-packages (from otter-grader) (2.27.1)\nRequirement already satisfied: ipykernel in /shared-libs/python3.9/py-core/lib/python3.9/site-packages (from otter-grader) (5.5.5)\nRequirement already satisfied: pandas in /shared-libs/python3.9/py/lib/python3.9/site-packages (from otter-grader) (1.2.5)\nCollecting python-on-whales\n  Downloading python_on_whales-0.46.0-py3-none-any.whl (94 kB)\n\u001b[2K     \u001b[90m━━━━━━━━━━━━━━━━━━━━━━━━━━━━━━━━━━━━━━━━\u001b[0m \u001b[32m94.7/94.7 KB\u001b[0m \u001b[31m23.7 MB/s\u001b[0m eta \u001b[36m0:00:00\u001b[0m\n\u001b[?25hRequirement already satisfied: nbconvert in /shared-libs/python3.9/py-core/lib/python3.9/site-packages (from otter-grader) (6.0.7)\nCollecting gspread\n  Downloading gspread-5.4.0-py3-none-any.whl (37 kB)\nRequirement already satisfied: jinja2 in /shared-libs/python3.9/py-core/lib/python3.9/site-packages (from otter-grader) (2.11.3)\nCollecting google-api-python-client\n  Downloading google_api_python_client-2.51.0-py2.py3-none-any.whl (8.6 MB)\n\u001b[2K     \u001b[90m━━━━━━━━━━━━━━━━━━━━━━━━━━━━━━━━━━━━━━━━\u001b[0m \u001b[32m8.6/8.6 MB\u001b[0m \u001b[31m86.3 MB/s\u001b[0m eta \u001b[36m0:00:00\u001b[0m\n\u001b[?25hRequirement already satisfied: jupyter-client in /shared-libs/python3.9/py-core/lib/python3.9/site-packages (from otter-grader) (6.1.12)\nRequirement already satisfied: nbformat in /shared-libs/python3.9/py-core/lib/python3.9/site-packages (from otter-grader) (5.1.3)\nRequirement already satisfied: matplotlib in /shared-libs/python3.9/py/lib/python3.9/site-packages (from otter-grader) (3.5.2)\nRequirement already satisfied: google-auth<3.0.0dev,>=1.16.0 in /shared-libs/python3.9/py/lib/python3.9/site-packages (from google-api-python-client->otter-grader) (2.7.0)\nRequirement already satisfied: google-api-core!=2.0.*,!=2.1.*,!=2.2.*,!=2.3.0,<3.0.0dev,>=1.31.5 in /shared-libs/python3.9/py/lib/python3.9/site-packages (from google-api-python-client->otter-grader) (2.8.1)\nCollecting google-auth-httplib2>=0.1.0\n  Downloading google_auth_httplib2-0.1.0-py2.py3-none-any.whl (9.3 kB)\nCollecting uritemplate<5,>=3.0.1\n  Downloading uritemplate-4.1.1-py2.py3-none-any.whl (10 kB)\nCollecting httplib2<1dev,>=0.15.0\n  Downloading httplib2-0.20.4-py3-none-any.whl (96 kB)\n\u001b[2K     \u001b[90m━━━━━━━━━━━━━━━━━━━━━━━━━━━━━━━━━━━━━━━━\u001b[0m \u001b[32m96.6/96.6 KB\u001b[0m \u001b[31m23.2 MB/s\u001b[0m eta \u001b[36m0:00:00\u001b[0m\n\u001b[?25hRequirement already satisfied: requests-oauthlib>=0.7.0 in /shared-libs/python3.9/py/lib/python3.9/site-packages (from google-auth-oauthlib->otter-grader) (1.3.1)\nRequirement already satisfied: ipython>=5.0.0 in /shared-libs/python3.9/py-core/lib/python3.9/site-packages (from ipykernel->otter-grader) (7.34.0)\nRequirement already satisfied: tornado>=4.2 in /shared-libs/python3.9/py-core/lib/python3.9/site-packages (from ipykernel->otter-grader) (6.1)\nRequirement already satisfied: traitlets>=4.1.0 in /shared-libs/python3.9/py-core/lib/python3.9/site-packages (from ipykernel->otter-grader) (4.3.3)\nRequirement already satisfied: MarkupSafe>=0.23 in /shared-libs/python3.9/py-core/lib/python3.9/site-packages (from jinja2->otter-grader) (2.0.1)\nRequirement already satisfied: python-dateutil>=2.1 in /shared-libs/python3.9/py-core/lib/python3.9/site-packages (from jupyter-client->otter-grader) (2.8.2)\nRequirement already satisfied: pyzmq>=13 in /shared-libs/python3.9/py-core/lib/python3.9/site-packages (from jupyter-client->otter-grader) (23.1.0)\nRequirement already satisfied: jupyter-core>=4.6.0 in /shared-libs/python3.9/py-core/lib/python3.9/site-packages (from jupyter-client->otter-grader) (4.7.1)\nRequirement already satisfied: fonttools>=4.22.0 in /shared-libs/python3.9/py/lib/python3.9/site-packages (from matplotlib->otter-grader) (4.33.3)\nRequirement already satisfied: kiwisolver>=1.0.1 in /shared-libs/python3.9/py/lib/python3.9/site-packages (from matplotlib->otter-grader) (1.4.2)\nRequirement already satisfied: pyparsing>=2.2.1 in /shared-libs/python3.9/py/lib/python3.9/site-packages (from matplotlib->otter-grader) (3.0.9)\nRequirement already satisfied: numpy>=1.17 in /shared-libs/python3.9/py/lib/python3.9/site-packages (from matplotlib->otter-grader) (1.22.4)\nRequirement already satisfied: pillow>=6.2.0 in /shared-libs/python3.9/py/lib/python3.9/site-packages (from matplotlib->otter-grader) (9.1.1)\nRequirement already satisfied: cycler>=0.10 in /shared-libs/python3.9/py/lib/python3.9/site-packages (from matplotlib->otter-grader) (0.11.0)\nRequirement already satisfied: packaging>=20.0 in /shared-libs/python3.9/py/lib/python3.9/site-packages (from matplotlib->otter-grader) (21.3)\nRequirement already satisfied: entrypoints>=0.2.2 in /shared-libs/python3.9/py-core/lib/python3.9/site-packages (from nbconvert->otter-grader) (0.4)\nRequirement already satisfied: bleach in /shared-libs/python3.9/py-core/lib/python3.9/site-packages (from nbconvert->otter-grader) (5.0.0)\nRequirement already satisfied: pygments>=2.4.1 in /shared-libs/python3.9/py-core/lib/python3.9/site-packages (from nbconvert->otter-grader) (2.12.0)\nRequirement already satisfied: defusedxml in /shared-libs/python3.9/py-core/lib/python3.9/site-packages (from nbconvert->otter-grader) (0.7.1)\nRequirement already satisfied: mistune<2,>=0.8.1 in /shared-libs/python3.9/py-core/lib/python3.9/site-packages (from nbconvert->otter-grader) (0.8.4)\nRequirement already satisfied: jupyterlab-pygments in /shared-libs/python3.9/py-core/lib/python3.9/site-packages (from nbconvert->otter-grader) (0.2.2)\nRequirement already satisfied: testpath in /shared-libs/python3.9/py-core/lib/python3.9/site-packages (from nbconvert->otter-grader) (0.6.0)\nRequirement already satisfied: nbclient<0.6.0,>=0.5.0 in /shared-libs/python3.9/py-core/lib/python3.9/site-packages (from nbconvert->otter-grader) (0.5.9)\nRequirement already satisfied: pandocfilters>=1.4.1 in /shared-libs/python3.9/py-core/lib/python3.9/site-packages (from nbconvert->otter-grader) (1.5.0)\nRequirement already satisfied: ipython-genutils in /shared-libs/python3.9/py-core/lib/python3.9/site-packages (from nbformat->otter-grader) (0.2.0)\nRequirement already satisfied: jsonschema!=2.5.0,>=2.4 in /shared-libs/python3.9/py-core/lib/python3.9/site-packages (from nbformat->otter-grader) (3.2.0)\nRequirement already satisfied: pytz>=2017.3 in /shared-libs/python3.9/py/lib/python3.9/site-packages (from pandas->otter-grader) (2022.1)\nRequirement already satisfied: typing-extensions in /shared-libs/python3.9/py/lib/python3.9/site-packages (from PyPDF2->otter-grader) (4.2.0)\nRequirement already satisfied: pydantic in /shared-libs/python3.9/py/lib/python3.9/site-packages (from python-on-whales->otter-grader) (1.8.2)\nRequirement already satisfied: tqdm in /shared-libs/python3.9/py/lib/python3.9/site-packages (from python-on-whales->otter-grader) (4.64.0)\nRequirement already satisfied: typer>=0.4.1 in /shared-libs/python3.9/py/lib/python3.9/site-packages (from python-on-whales->otter-grader) (0.4.1)\nRequirement already satisfied: urllib3<1.27,>=1.21.1 in /shared-libs/python3.9/py/lib/python3.9/site-packages (from requests->otter-grader) (1.26.9)\nRequirement already satisfied: idna<4,>=2.5 in /shared-libs/python3.9/py-core/lib/python3.9/site-packages (from requests->otter-grader) (3.3)\nRequirement already satisfied: charset-normalizer~=2.0.0 in /shared-libs/python3.9/py-core/lib/python3.9/site-packages (from requests->otter-grader) (2.0.12)\nRequirement already satisfied: certifi>=2017.4.17 in /shared-libs/python3.9/py/lib/python3.9/site-packages (from requests->otter-grader) (2022.5.18.1)\nRequirement already satisfied: protobuf<4.0.0dev,>=3.15.0 in /shared-libs/python3.9/py/lib/python3.9/site-packages (from google-api-core!=2.0.*,!=2.1.*,!=2.2.*,!=2.3.0,<3.0.0dev,>=1.31.5->google-api-python-client->otter-grader) (3.19.4)\nRequirement already satisfied: googleapis-common-protos<2.0dev,>=1.56.2 in /shared-libs/python3.9/py/lib/python3.9/site-packages (from google-api-core!=2.0.*,!=2.1.*,!=2.2.*,!=2.3.0,<3.0.0dev,>=1.31.5->google-api-python-client->otter-grader) (1.56.2)\nRequirement already satisfied: rsa<5,>=3.1.4 in /shared-libs/python3.9/py/lib/python3.9/site-packages (from google-auth<3.0.0dev,>=1.16.0->google-api-python-client->otter-grader) (4.8)\nRequirement already satisfied: cachetools<6.0,>=2.0.0 in /shared-libs/python3.9/py/lib/python3.9/site-packages (from google-auth<3.0.0dev,>=1.16.0->google-api-python-client->otter-grader) (5.2.0)\nRequirement already satisfied: pyasn1-modules>=0.2.1 in /shared-libs/python3.9/py/lib/python3.9/site-packages (from google-auth<3.0.0dev,>=1.16.0->google-api-python-client->otter-grader) (0.2.8)\nRequirement already satisfied: pexpect>4.3 in /shared-libs/python3.9/py-core/lib/python3.9/site-packages (from ipython>=5.0.0->ipykernel->otter-grader) (4.8.0)\nRequirement already satisfied: matplotlib-inline in /shared-libs/python3.9/py-core/lib/python3.9/site-packages (from ipython>=5.0.0->ipykernel->otter-grader) (0.1.3)\nRequirement already satisfied: pickleshare in /shared-libs/python3.9/py-core/lib/python3.9/site-packages (from ipython>=5.0.0->ipykernel->otter-grader) (0.7.5)\nRequirement already satisfied: setuptools>=18.5 in /root/venv/lib/python3.9/site-packages (from ipython>=5.0.0->ipykernel->otter-grader) (58.1.0)\nRequirement already satisfied: decorator in /shared-libs/python3.9/py-core/lib/python3.9/site-packages (from ipython>=5.0.0->ipykernel->otter-grader) (5.1.1)\nRequirement already satisfied: prompt-toolkit!=3.0.0,!=3.0.1,<3.1.0,>=2.0.0 in /shared-libs/python3.9/py-core/lib/python3.9/site-packages (from ipython>=5.0.0->ipykernel->otter-grader) (3.0.29)\nRequirement already satisfied: backcall in /shared-libs/python3.9/py-core/lib/python3.9/site-packages (from ipython>=5.0.0->ipykernel->otter-grader) (0.2.0)\nRequirement already satisfied: jedi>=0.16 in /shared-libs/python3.9/py-core/lib/python3.9/site-packages (from ipython>=5.0.0->ipykernel->otter-grader) (0.17.2)\nRequirement already satisfied: pyrsistent>=0.14.0 in /shared-libs/python3.9/py-core/lib/python3.9/site-packages (from jsonschema!=2.5.0,>=2.4->nbformat->otter-grader) (0.18.1)\nRequirement already satisfied: attrs>=17.4.0 in /shared-libs/python3.9/py-core/lib/python3.9/site-packages (from jsonschema!=2.5.0,>=2.4->nbformat->otter-grader) (21.4.0)\nRequirement already satisfied: nest-asyncio in /shared-libs/python3.9/py-core/lib/python3.9/site-packages (from nbclient<0.6.0,>=0.5.0->nbconvert->otter-grader) (1.5.5)\nRequirement already satisfied: oauthlib>=3.0.0 in /shared-libs/python3.9/py/lib/python3.9/site-packages (from requests-oauthlib>=0.7.0->google-auth-oauthlib->otter-grader) (3.2.0)\nRequirement already satisfied: click<9.0.0,>=7.1.1 in /shared-libs/python3.9/py/lib/python3.9/site-packages (from typer>=0.4.1->python-on-whales->otter-grader) (8.1.3)\nRequirement already satisfied: webencodings in /shared-libs/python3.9/py-core/lib/python3.9/site-packages (from bleach->nbconvert->otter-grader) (0.5.1)\nRequirement already satisfied: parso<0.8.0,>=0.7.0 in /shared-libs/python3.9/py-core/lib/python3.9/site-packages (from jedi>=0.16->ipython>=5.0.0->ipykernel->otter-grader) (0.7.1)\nRequirement already satisfied: ptyprocess>=0.5 in /shared-libs/python3.9/py-core/lib/python3.9/site-packages (from pexpect>4.3->ipython>=5.0.0->ipykernel->otter-grader) (0.7.0)\nRequirement already satisfied: wcwidth in /shared-libs/python3.9/py-core/lib/python3.9/site-packages (from prompt-toolkit!=3.0.0,!=3.0.1,<3.1.0,>=2.0.0->ipython>=5.0.0->ipykernel->otter-grader) (0.2.5)\nRequirement already satisfied: pyasn1<0.5.0,>=0.4.6 in /shared-libs/python3.9/py/lib/python3.9/site-packages (from pyasn1-modules>=0.2.1->google-auth<3.0.0dev,>=1.16.0->google-api-python-client->otter-grader) (0.4.8)\nInstalling collected packages: pdfkit, uritemplate, PyYAML, PyPDF2, httplib2, python-on-whales, google-auth-httplib2, gspread, google-api-python-client, otter-grader\nSuccessfully installed PyPDF2-2.2.0 PyYAML-6.0 google-api-python-client-2.51.0 google-auth-httplib2-0.1.0 gspread-5.4.0 httplib2-0.20.4 otter-grader-3.3.0 pdfkit-1.0.0 python-on-whales-0.46.0 uritemplate-4.1.1\n\u001b[33mWARNING: You are using pip version 22.0.4; however, version 22.1.2 is available.\nYou should consider upgrading via the '/root/venv/bin/python -m pip install --upgrade pip' command.\u001b[0m\u001b[33m\n\u001b[0m",
     "output_type": "stream"
    }
   ]
  },
  {
   "cell_type": "markdown",
   "source": "# Lab 2: Table Operations\n\nWelcome to Lab 2!  This week, we'll learn how to import a module and practice table operations. The [Python Reference](http://data8.org/sp22/python-reference.html) has information that will be useful for this lab.\n\n**Recommended Reading**:\n * [Introduction to Tables](https://www.inferentialthinking.com/chapters/03/4/Introduction_to_Tables)\n\n**Lab Queue**: You can find the Lab Queue at [lab.data8.org](https://lab.data8.org/). Whenever you feel stuck or need some further clarification, add yourself to the queue to get help from a GSI or academic intern! If you are in an online lab, please list your name, breakout room number, and purpose on your ticket!\n\n**Grading**: Here are the policies for getting full credit:\n\n1. To receive credit for this lab notebook (8% final grade), you must submit it by **Friday Jan 28th at 5pm**.\n\n2. To receive credit for the lab attendance (2% final grade), you must attend at least 5 out of the 14 labs. \n\n**Submission**: Once you’re finished, run all cells besides the last one, select File > Save Notebook, and then execute the final cell. The result will contain a zip file that you can use to submit on Gradescope.\n\nLet's begin by setting up the tests and imports by running the cell below.",
   "metadata": {
    "cell_id": "00001-1fd71def-2e8a-44bd-8a8e-2779c51bded5",
    "deepnote_cell_type": "markdown",
    "deepnote_cell_height": 490.20001220703125
   }
  },
  {
   "cell_type": "code",
   "metadata": {
    "execution": {
     "iopub.execute_input": "2022-01-24T23:01:28.002167Z",
     "iopub.status.busy": "2022-01-24T23:01:28.001055Z",
     "iopub.status.idle": "2022-01-24T23:01:29.739020Z",
     "shell.execute_reply": "2022-01-24T23:01:29.739446Z"
    },
    "cell_id": "00002-d6b4f538-08b9-4e0f-8684-aafdc604e5de",
    "deepnote_to_be_reexecuted": false,
    "source_hash": "383b4a1c",
    "execution_start": 1655413793193,
    "execution_millis": 5999,
    "owner_user_id": "80fe8cbc-043d-4a7e-9c6f-799b39be207a",
    "deepnote_cell_type": "code",
    "deepnote_cell_height": 809
   },
   "source": "# Don't change this cell; just run it. \n!pip install datascience\n!pip install ipywidgets==7.7.0\n\nimport numpy as np\nfrom datascience import *\nimport d8error",
   "execution_count": null,
   "outputs": [
    {
     "name": "stdout",
     "text": "Requirement already satisfied: datascience in /shared-libs/python3.9/py/lib/python3.9/site-packages (0.17.2)\nRequirement already satisfied: numpy in /shared-libs/python3.9/py/lib/python3.9/site-packages (from datascience) (1.22.4)\nRequirement already satisfied: scipy in /shared-libs/python3.9/py/lib/python3.9/site-packages (from datascience) (1.8.1)\nRequirement already satisfied: matplotlib>=3.0.0 in /shared-libs/python3.9/py/lib/python3.9/site-packages (from datascience) (3.5.2)\nRequirement already satisfied: pandas in /shared-libs/python3.9/py/lib/python3.9/site-packages (from datascience) (1.2.5)\nRequirement already satisfied: plotly in /shared-libs/python3.9/py/lib/python3.9/site-packages (from datascience) (5.8.1)\nRequirement already satisfied: folium>=0.9.1 in /shared-libs/python3.9/py/lib/python3.9/site-packages (from datascience) (0.12.1.post1)\nRequirement already satisfied: ipython in /shared-libs/python3.9/py-core/lib/python3.9/site-packages (from datascience) (7.34.0)\nRequirement already satisfied: branca in /shared-libs/python3.9/py/lib/python3.9/site-packages (from datascience) (0.5.0)\nRequirement already satisfied: setuptools in /root/venv/lib/python3.9/site-packages (from datascience) (58.1.0)\nRequirement already satisfied: jinja2>=2.9 in /shared-libs/python3.9/py-core/lib/python3.9/site-packages (from folium>=0.9.1->datascience) (2.11.3)\nRequirement already satisfied: requests in /shared-libs/python3.9/py/lib/python3.9/site-packages (from folium>=0.9.1->datascience) (2.27.1)\nRequirement already satisfied: python-dateutil>=2.7 in /shared-libs/python3.9/py-core/lib/python3.9/site-packages (from matplotlib>=3.0.0->datascience) (2.8.2)\nRequirement already satisfied: packaging>=20.0 in /shared-libs/python3.9/py/lib/python3.9/site-packages (from matplotlib>=3.0.0->datascience) (21.3)\nRequirement already satisfied: fonttools>=4.22.0 in /shared-libs/python3.9/py/lib/python3.9/site-packages (from matplotlib>=3.0.0->datascience) (4.33.3)\nRequirement already satisfied: kiwisolver>=1.0.1 in /shared-libs/python3.9/py/lib/python3.9/site-packages (from matplotlib>=3.0.0->datascience) (1.4.2)\nRequirement already satisfied: pillow>=6.2.0 in /shared-libs/python3.9/py/lib/python3.9/site-packages (from matplotlib>=3.0.0->datascience) (9.1.1)\nRequirement already satisfied: cycler>=0.10 in /shared-libs/python3.9/py/lib/python3.9/site-packages (from matplotlib>=3.0.0->datascience) (0.11.0)\nRequirement already satisfied: pyparsing>=2.2.1 in /shared-libs/python3.9/py/lib/python3.9/site-packages (from matplotlib>=3.0.0->datascience) (3.0.9)\nRequirement already satisfied: traitlets>=4.2 in /shared-libs/python3.9/py-core/lib/python3.9/site-packages (from ipython->datascience) (4.3.3)\nRequirement already satisfied: pickleshare in /shared-libs/python3.9/py-core/lib/python3.9/site-packages (from ipython->datascience) (0.7.5)\nRequirement already satisfied: matplotlib-inline in /shared-libs/python3.9/py-core/lib/python3.9/site-packages (from ipython->datascience) (0.1.3)\nRequirement already satisfied: prompt-toolkit!=3.0.0,!=3.0.1,<3.1.0,>=2.0.0 in /shared-libs/python3.9/py-core/lib/python3.9/site-packages (from ipython->datascience) (3.0.29)\nRequirement already satisfied: pexpect>4.3 in /shared-libs/python3.9/py-core/lib/python3.9/site-packages (from ipython->datascience) (4.8.0)\nRequirement already satisfied: backcall in /shared-libs/python3.9/py-core/lib/python3.9/site-packages (from ipython->datascience) (0.2.0)\nRequirement already satisfied: jedi>=0.16 in /shared-libs/python3.9/py-core/lib/python3.9/site-packages (from ipython->datascience) (0.17.2)\nRequirement already satisfied: decorator in /shared-libs/python3.9/py-core/lib/python3.9/site-packages (from ipython->datascience) (5.1.1)\nRequirement already satisfied: pygments in /shared-libs/python3.9/py-core/lib/python3.9/site-packages (from ipython->datascience) (2.12.0)\nRequirement already satisfied: pytz>=2017.3 in /shared-libs/python3.9/py/lib/python3.9/site-packages (from pandas->datascience) (2022.1)\nRequirement already satisfied: tenacity>=6.2.0 in /shared-libs/python3.9/py/lib/python3.9/site-packages (from plotly->datascience) (8.0.1)\nRequirement already satisfied: parso<0.8.0,>=0.7.0 in /shared-libs/python3.9/py-core/lib/python3.9/site-packages (from jedi>=0.16->ipython->datascience) (0.7.1)\nRequirement already satisfied: MarkupSafe>=0.23 in /shared-libs/python3.9/py-core/lib/python3.9/site-packages (from jinja2>=2.9->folium>=0.9.1->datascience) (2.0.1)\nRequirement already satisfied: ptyprocess>=0.5 in /shared-libs/python3.9/py-core/lib/python3.9/site-packages (from pexpect>4.3->ipython->datascience) (0.7.0)\nRequirement already satisfied: wcwidth in /shared-libs/python3.9/py-core/lib/python3.9/site-packages (from prompt-toolkit!=3.0.0,!=3.0.1,<3.1.0,>=2.0.0->ipython->datascience) (0.2.5)\nRequirement already satisfied: six>=1.5 in /shared-libs/python3.9/py-core/lib/python3.9/site-packages (from python-dateutil>=2.7->matplotlib>=3.0.0->datascience) (1.16.0)\nRequirement already satisfied: ipython-genutils in /shared-libs/python3.9/py-core/lib/python3.9/site-packages (from traitlets>=4.2->ipython->datascience) (0.2.0)\nRequirement already satisfied: certifi>=2017.4.17 in /shared-libs/python3.9/py/lib/python3.9/site-packages (from requests->folium>=0.9.1->datascience) (2022.5.18.1)\nRequirement already satisfied: idna<4,>=2.5 in /shared-libs/python3.9/py-core/lib/python3.9/site-packages (from requests->folium>=0.9.1->datascience) (3.3)\nRequirement already satisfied: urllib3<1.27,>=1.21.1 in /shared-libs/python3.9/py/lib/python3.9/site-packages (from requests->folium>=0.9.1->datascience) (1.26.9)\nRequirement already satisfied: charset-normalizer~=2.0.0 in /shared-libs/python3.9/py-core/lib/python3.9/site-packages (from requests->folium>=0.9.1->datascience) (2.0.12)\n\u001b[33mWARNING: You are using pip version 22.0.4; however, version 22.1.2 is available.\nYou should consider upgrading via the '/root/venv/bin/python -m pip install --upgrade pip' command.\u001b[0m\u001b[33m\n\u001b[0mRequirement already satisfied: ipywidgets==7.7.0 in /root/venv/lib/python3.9/site-packages (7.7.0)\nRequirement already satisfied: jupyterlab-widgets>=1.0.0 in /root/venv/lib/python3.9/site-packages (from ipywidgets==7.7.0) (1.1.0)\nRequirement already satisfied: nbformat>=4.2.0 in /shared-libs/python3.9/py-core/lib/python3.9/site-packages (from ipywidgets==7.7.0) (5.1.3)\nRequirement already satisfied: widgetsnbextension~=3.6.0 in /root/venv/lib/python3.9/site-packages (from ipywidgets==7.7.0) (3.6.0)\nRequirement already satisfied: ipython-genutils~=0.2.0 in /shared-libs/python3.9/py-core/lib/python3.9/site-packages (from ipywidgets==7.7.0) (0.2.0)\nRequirement already satisfied: ipython>=4.0.0 in /shared-libs/python3.9/py-core/lib/python3.9/site-packages (from ipywidgets==7.7.0) (7.34.0)\nRequirement already satisfied: ipykernel>=4.5.1 in /shared-libs/python3.9/py-core/lib/python3.9/site-packages (from ipywidgets==7.7.0) (5.5.5)\nRequirement already satisfied: traitlets>=4.3.1 in /shared-libs/python3.9/py-core/lib/python3.9/site-packages (from ipywidgets==7.7.0) (4.3.3)\nRequirement already satisfied: tornado>=4.2 in /shared-libs/python3.9/py-core/lib/python3.9/site-packages (from ipykernel>=4.5.1->ipywidgets==7.7.0) (6.1)\nRequirement already satisfied: jupyter-client in /shared-libs/python3.9/py-core/lib/python3.9/site-packages (from ipykernel>=4.5.1->ipywidgets==7.7.0) (6.1.12)\nRequirement already satisfied: pexpect>4.3 in /shared-libs/python3.9/py-core/lib/python3.9/site-packages (from ipython>=4.0.0->ipywidgets==7.7.0) (4.8.0)\nRequirement already satisfied: jedi>=0.16 in /shared-libs/python3.9/py-core/lib/python3.9/site-packages (from ipython>=4.0.0->ipywidgets==7.7.0) (0.17.2)\nRequirement already satisfied: prompt-toolkit!=3.0.0,!=3.0.1,<3.1.0,>=2.0.0 in /shared-libs/python3.9/py-core/lib/python3.9/site-packages (from ipython>=4.0.0->ipywidgets==7.7.0) (3.0.29)\nRequirement already satisfied: pickleshare in /shared-libs/python3.9/py-core/lib/python3.9/site-packages (from ipython>=4.0.0->ipywidgets==7.7.0) (0.7.5)\nRequirement already satisfied: backcall in /shared-libs/python3.9/py-core/lib/python3.9/site-packages (from ipython>=4.0.0->ipywidgets==7.7.0) (0.2.0)\nRequirement already satisfied: matplotlib-inline in /shared-libs/python3.9/py-core/lib/python3.9/site-packages (from ipython>=4.0.0->ipywidgets==7.7.0) (0.1.3)\nRequirement already satisfied: pygments in /shared-libs/python3.9/py-core/lib/python3.9/site-packages (from ipython>=4.0.0->ipywidgets==7.7.0) (2.12.0)\nRequirement already satisfied: decorator in /shared-libs/python3.9/py-core/lib/python3.9/site-packages (from ipython>=4.0.0->ipywidgets==7.7.0) (5.1.1)\nRequirement already satisfied: setuptools>=18.5 in /root/venv/lib/python3.9/site-packages (from ipython>=4.0.0->ipywidgets==7.7.0) (58.1.0)\nRequirement already satisfied: jsonschema!=2.5.0,>=2.4 in /shared-libs/python3.9/py-core/lib/python3.9/site-packages (from nbformat>=4.2.0->ipywidgets==7.7.0) (3.2.0)\nRequirement already satisfied: jupyter-core in /shared-libs/python3.9/py-core/lib/python3.9/site-packages (from nbformat>=4.2.0->ipywidgets==7.7.0) (4.7.1)\nRequirement already satisfied: six in /shared-libs/python3.9/py-core/lib/python3.9/site-packages (from traitlets>=4.3.1->ipywidgets==7.7.0) (1.16.0)\nRequirement already satisfied: notebook>=4.4.1 in /shared-libs/python3.9/py-core/lib/python3.9/site-packages (from widgetsnbextension~=3.6.0->ipywidgets==7.7.0) (6.3.0)\nRequirement already satisfied: parso<0.8.0,>=0.7.0 in /shared-libs/python3.9/py-core/lib/python3.9/site-packages (from jedi>=0.16->ipython>=4.0.0->ipywidgets==7.7.0) (0.7.1)\nRequirement already satisfied: attrs>=17.4.0 in /shared-libs/python3.9/py-core/lib/python3.9/site-packages (from jsonschema!=2.5.0,>=2.4->nbformat>=4.2.0->ipywidgets==7.7.0) (21.4.0)\nRequirement already satisfied: pyrsistent>=0.14.0 in /shared-libs/python3.9/py-core/lib/python3.9/site-packages (from jsonschema!=2.5.0,>=2.4->nbformat>=4.2.0->ipywidgets==7.7.0) (0.18.1)\nRequirement already satisfied: Send2Trash>=1.5.0 in /shared-libs/python3.9/py-core/lib/python3.9/site-packages (from notebook>=4.4.1->widgetsnbextension~=3.6.0->ipywidgets==7.7.0) (1.8.0)\nRequirement already satisfied: nbconvert==6.0.7 in /shared-libs/python3.9/py-core/lib/python3.9/site-packages (from notebook>=4.4.1->widgetsnbextension~=3.6.0->ipywidgets==7.7.0) (6.0.7)\nRequirement already satisfied: pyzmq>=17 in /shared-libs/python3.9/py-core/lib/python3.9/site-packages (from notebook>=4.4.1->widgetsnbextension~=3.6.0->ipywidgets==7.7.0) (23.1.0)\nRequirement already satisfied: jinja2 in /shared-libs/python3.9/py-core/lib/python3.9/site-packages (from notebook>=4.4.1->widgetsnbextension~=3.6.0->ipywidgets==7.7.0) (2.11.3)\nRequirement already satisfied: prometheus-client in /shared-libs/python3.9/py-core/lib/python3.9/site-packages (from notebook>=4.4.1->widgetsnbextension~=3.6.0->ipywidgets==7.7.0) (0.14.1)\nRequirement already satisfied: argon2-cffi in /shared-libs/python3.9/py-core/lib/python3.9/site-packages (from notebook>=4.4.1->widgetsnbextension~=3.6.0->ipywidgets==7.7.0) (21.3.0)\nRequirement already satisfied: terminado>=0.8.3 in /shared-libs/python3.9/py-core/lib/python3.9/site-packages (from notebook>=4.4.1->widgetsnbextension~=3.6.0->ipywidgets==7.7.0) (0.15.0)\nRequirement already satisfied: python-dateutil>=2.1 in /shared-libs/python3.9/py-core/lib/python3.9/site-packages (from jupyter-client->ipykernel>=4.5.1->ipywidgets==7.7.0) (2.8.2)\nRequirement already satisfied: entrypoints>=0.2.2 in /shared-libs/python3.9/py-core/lib/python3.9/site-packages (from nbconvert==6.0.7->notebook>=4.4.1->widgetsnbextension~=3.6.0->ipywidgets==7.7.0) (0.4)\nRequirement already satisfied: nbclient<0.6.0,>=0.5.0 in /shared-libs/python3.9/py-core/lib/python3.9/site-packages (from nbconvert==6.0.7->notebook>=4.4.1->widgetsnbextension~=3.6.0->ipywidgets==7.7.0) (0.5.9)\nRequirement already satisfied: defusedxml in /shared-libs/python3.9/py-core/lib/python3.9/site-packages (from nbconvert==6.0.7->notebook>=4.4.1->widgetsnbextension~=3.6.0->ipywidgets==7.7.0) (0.7.1)\nRequirement already satisfied: mistune<2,>=0.8.1 in /shared-libs/python3.9/py-core/lib/python3.9/site-packages (from nbconvert==6.0.7->notebook>=4.4.1->widgetsnbextension~=3.6.0->ipywidgets==7.7.0) (0.8.4)\nRequirement already satisfied: pandocfilters>=1.4.1 in /shared-libs/python3.9/py-core/lib/python3.9/site-packages (from nbconvert==6.0.7->notebook>=4.4.1->widgetsnbextension~=3.6.0->ipywidgets==7.7.0) (1.5.0)\nRequirement already satisfied: jupyterlab-pygments in /shared-libs/python3.9/py-core/lib/python3.9/site-packages (from nbconvert==6.0.7->notebook>=4.4.1->widgetsnbextension~=3.6.0->ipywidgets==7.7.0) (0.2.2)\nRequirement already satisfied: bleach in /shared-libs/python3.9/py-core/lib/python3.9/site-packages (from nbconvert==6.0.7->notebook>=4.4.1->widgetsnbextension~=3.6.0->ipywidgets==7.7.0) (5.0.0)\nRequirement already satisfied: testpath in /shared-libs/python3.9/py-core/lib/python3.9/site-packages (from nbconvert==6.0.7->notebook>=4.4.1->widgetsnbextension~=3.6.0->ipywidgets==7.7.0) (0.6.0)\nRequirement already satisfied: ptyprocess>=0.5 in /shared-libs/python3.9/py-core/lib/python3.9/site-packages (from pexpect>4.3->ipython>=4.0.0->ipywidgets==7.7.0) (0.7.0)\nRequirement already satisfied: wcwidth in /shared-libs/python3.9/py-core/lib/python3.9/site-packages (from prompt-toolkit!=3.0.0,!=3.0.1,<3.1.0,>=2.0.0->ipython>=4.0.0->ipywidgets==7.7.0) (0.2.5)\nRequirement already satisfied: MarkupSafe>=0.23 in /shared-libs/python3.9/py-core/lib/python3.9/site-packages (from jinja2->notebook>=4.4.1->widgetsnbextension~=3.6.0->ipywidgets==7.7.0) (2.0.1)\nRequirement already satisfied: argon2-cffi-bindings in /shared-libs/python3.9/py-core/lib/python3.9/site-packages (from argon2-cffi->notebook>=4.4.1->widgetsnbextension~=3.6.0->ipywidgets==7.7.0) (21.2.0)\nRequirement already satisfied: nest-asyncio in /shared-libs/python3.9/py-core/lib/python3.9/site-packages (from nbclient<0.6.0,>=0.5.0->nbconvert==6.0.7->notebook>=4.4.1->widgetsnbextension~=3.6.0->ipywidgets==7.7.0) (1.5.5)\nRequirement already satisfied: cffi>=1.0.1 in /shared-libs/python3.9/py-core/lib/python3.9/site-packages (from argon2-cffi-bindings->argon2-cffi->notebook>=4.4.1->widgetsnbextension~=3.6.0->ipywidgets==7.7.0) (1.15.0)\nRequirement already satisfied: webencodings in /shared-libs/python3.9/py-core/lib/python3.9/site-packages (from bleach->nbconvert==6.0.7->notebook>=4.4.1->widgetsnbextension~=3.6.0->ipywidgets==7.7.0) (0.5.1)\nRequirement already satisfied: pycparser in /shared-libs/python3.9/py-core/lib/python3.9/site-packages (from cffi>=1.0.1->argon2-cffi-bindings->argon2-cffi->notebook>=4.4.1->widgetsnbextension~=3.6.0->ipywidgets==7.7.0) (2.21)\n\u001b[33mWARNING: You are using pip version 22.0.4; however, version 22.1.2 is available.\nYou should consider upgrading via the '/root/venv/bin/python -m pip install --upgrade pip' command.\u001b[0m\u001b[33m\n\u001b[0m",
     "output_type": "stream"
    }
   ]
  },
  {
   "cell_type": "markdown",
   "source": "# 1. Review: The Building Blocks of Python Code\n\nThe two building blocks of Python code are *expressions* and *statements*.  An **expression** is a piece of code that\n\n* is self-contained, meaning it would make sense to write it on a line by itself, and\n* usually evaluates to a value.\n\n\nHere are two expressions that both evaluate to 3:\n\n    3\n    5 - 2\n    \nOne important type of expression is the **call expression**. A call expression begins with the name of a function and is followed by the argument(s) of that function in parentheses. The function returns some value, based on its arguments. Some important mathematical functions are listed below.\n\n| Function | Description                                                   |\n|----------|---------------------------------------------------------------|\n| `abs`      | Returns the absolute value of its argument                    |\n| `max`      | Returns the maximum of all its arguments                      |\n| `min`      | Returns the minimum of all its arguments                      |\n| `pow`      | Raises its first argument to the power of its second argument |\n| `round`    | Rounds its argument to the nearest integer                     |\n\nHere are two call expressions that both evaluate to 3:\n\n    abs(2 - 5)\n    max(round(2.8), min(pow(2, 10), -1 * pow(2, 10)))\n\nThe expression `2 - 5` and the two call expressions given above are examples of **compound expressions**, meaning that they are actually combinations of several smaller expressions.  `2 - 5` combines the expressions `2` and `5` by subtraction.  In this case, `2` and `5` are called **subexpressions** because they're expressions that are part of a larger expression.\n\nA **statement** is a whole line of code.  Some statements are just expressions.  The expressions listed above are examples.\n\nOther statements *make something happen* rather than *having a value*. For example, an **assignment statement** assigns a value to a name. \n\nA good way to think about this is that we're **evaluating the right-hand side** of the equals sign and **assigning it to the left-hand side**. Here are some assignment statements:\n    \n    height = 1.3\n    the_number_five = abs(-5)\n    absolute_height_difference = abs(height - 1.688)\n\nAn important idea in programming is that large, interesting things can be built by combining many simple, uninteresting things.  The key to understanding a complicated piece of code is breaking it down into its simple components.\n\nFor example, a lot is going on in the last statement above, but it's really just a combination of a few things.  This picture describes what's going on.\n\n<img src=\"/work/gabes-sumer-data-prep/Week 1/Day 3/lab02/statement.png\">",
   "metadata": {
    "cell_id": "00003-2e53d4a0-b4ee-40ba-8c0c-e254b74a3ae3",
    "deepnote_cell_type": "markdown",
    "deepnote_cell_height": 1428.88330078125
   }
  },
  {
   "cell_type": "markdown",
   "source": "**Question 1.1.** In the next cell, assign the name `new_year` to the larger number among the following two numbers:\n\n* the **absolute value** of $2^{5}-2^{11}-2^1 + 1$, and \n* $5 \\times 13 \\times 31 + 7$.\n\nTry to use just one statement (one line of code). Be sure to check your work by executing the test cell afterward.\n\n<!--\nBEGIN QUESTION\nname: q11\n-->",
   "metadata": {
    "deletable": false,
    "editable": false,
    "cell_id": "00004-0006a374-d7ff-4b62-b0d8-32580e6222d8",
    "deepnote_cell_type": "markdown",
    "deepnote_cell_height": 164.60000610351562
   }
  },
  {
   "cell_type": "code",
   "metadata": {
    "deletable": false,
    "execution": {
     "iopub.execute_input": "2022-01-24T23:01:29.752009Z",
     "iopub.status.busy": "2022-01-24T23:01:29.750747Z",
     "iopub.status.idle": "2022-01-24T23:01:29.758127Z",
     "shell.execute_reply": "2022-01-24T23:01:29.757553Z"
    },
    "cell_id": "00005-a2491cf0-659c-48e8-864d-028e058a88af",
    "deepnote_to_be_reexecuted": false,
    "source_hash": "ab3c4bb4",
    "execution_start": 1655414471720,
    "execution_millis": 19,
    "deepnote_cell_type": "code",
    "deepnote_cell_height": 136,
    "deepnote_output_heights": [
     21
    ]
   },
   "source": "new_year = max(abs(2 ** 5 - 2 ** 11 - 2 ** 1 + 1),(5 * 13 * 31 + 7))\nnew_year",
   "execution_count": null,
   "outputs": [
    {
     "output_type": "execute_result",
     "execution_count": 30,
     "data": {
      "text/plain": "2022"
     },
     "metadata": {}
    }
   ]
  },
  {
   "cell_type": "code",
   "metadata": {
    "deletable": false,
    "editable": false,
    "cell_id": "00006-a1aebac9-301f-4369-95a9-e8298dbd85d3",
    "deepnote_to_be_reexecuted": false,
    "source_hash": "74350b1b",
    "execution_start": 1655414478812,
    "execution_millis": 112,
    "deepnote_cell_type": "code",
    "deepnote_cell_height": 143,
    "deepnote_output_heights": [
     46
    ]
   },
   "source": "grader.check(\"q11\")",
   "execution_count": null,
   "outputs": [
    {
     "output_type": "execute_result",
     "execution_count": 31,
     "data": {
      "text/plain": "q11 results: All test cases passed!",
      "text/html": "<p><strong><pre style='display: inline;'>q11</pre></strong> passed!</p>"
     },
     "metadata": {}
    }
   ]
  },
  {
   "cell_type": "markdown",
   "source": "We've asked you to use one line of code in the question above because it only involves mathematical operations. However, more complicated programming questions will more require more steps. It isn’t always a good idea to jam these steps into a single line because it can make the code harder to read and harder to debug.\n\nGood programming practice involves splitting up your code into smaller steps and using appropriate names. You'll have plenty of practice in the rest of this course!",
   "metadata": {
    "cell_id": "00007-5dd23c8a-0762-43b0-a558-748ddf2d3a19",
    "deepnote_cell_type": "markdown",
    "deepnote_cell_height": 156
   }
  },
  {
   "cell_type": "markdown",
   "source": "# 2. Importing Code\n\nMost programming involves work that is very similar to work that has been done before.  Since writing code is time-consuming, it's good to rely on others' published code when you can.  Rather than copy-pasting, Python allows us to **import modules**. A module is a file with Python code that has defined variables and functions. By importing a module, we are able to use its code in our own notebook.\n\nPython includes many useful modules that are just an `import` away.  We'll look at the `math` module as a first example. The `math` module is extremely useful in computing mathematical expressions in Python. \n\nSuppose we want to very accurately compute the area of a circle with a radius of 5 meters.  For that, we need the constant $\\pi$, which is roughly 3.14.  Conveniently, the `math` module has `pi` defined for us. Run the following cell to import the math module:",
   "metadata": {
    "cell_id": "00008-8ced1dec-9708-40d2-b2fa-8c7cc5d7ce3a",
    "deepnote_cell_type": "markdown",
    "deepnote_cell_height": 305.20001220703125
   }
  },
  {
   "cell_type": "code",
   "metadata": {
    "execution": {
     "iopub.execute_input": "2022-01-24T23:01:29.773712Z",
     "iopub.status.busy": "2022-01-24T23:01:29.772987Z",
     "iopub.status.idle": "2022-01-24T23:01:29.776186Z",
     "shell.execute_reply": "2022-01-24T23:01:29.776601Z"
    },
    "cell_id": "00009-4d6599d9-b5e6-43f0-852a-25b276c1ca9e",
    "deepnote_to_be_reexecuted": false,
    "source_hash": "4d63b322",
    "execution_start": 1655414585704,
    "execution_millis": 260,
    "deepnote_cell_type": "code",
    "deepnote_cell_height": 172,
    "deepnote_output_heights": [
     21
    ]
   },
   "source": "import math\nradius = 5\narea_of_circle = radius**2 * math.pi\narea_of_circle",
   "execution_count": null,
   "outputs": [
    {
     "output_type": "execute_result",
     "execution_count": 32,
     "data": {
      "text/plain": "78.53981633974483"
     },
     "metadata": {}
    }
   ]
  },
  {
   "cell_type": "markdown",
   "source": "In the code above, the line `import math` imports the math module. This statement creates a module and then assigns the name `math` to that module. We are now able to access any variables or functions defined within `math` by typing the name of the module followed by a dot, then followed by the name of the variable or function we want.\n\n    <module name>.<name>",
   "metadata": {
    "cell_id": "00010-26f41f17-2d1c-4501-a699-0a2e0a92a39d",
    "deepnote_cell_type": "markdown",
    "deepnote_cell_height": 152
   }
  },
  {
   "cell_type": "markdown",
   "source": "**Question 2.1.** The module `math` also provides the name `e` for the base of the natural logarithm, which is roughly 2.71. Compute $e^{\\pi}-\\pi$, giving it the name `near_twenty`.\n\n*Remember: You can access `pi` from the `math` module as well!*\n\n<!--\nBEGIN QUESTION\nname: q21\n-->",
   "metadata": {
    "deletable": false,
    "editable": false,
    "cell_id": "00011-58c77d28-3753-48a4-af8a-93c9b0920884",
    "deepnote_cell_type": "markdown",
    "deepnote_cell_height": 125.19999694824219
   }
  },
  {
   "cell_type": "code",
   "metadata": {
    "deletable": false,
    "execution": {
     "iopub.execute_input": "2022-01-24T23:01:29.782493Z",
     "iopub.status.busy": "2022-01-24T23:01:29.781917Z",
     "iopub.status.idle": "2022-01-24T23:01:29.785574Z",
     "shell.execute_reply": "2022-01-24T23:01:29.785023Z"
    },
    "cell_id": "00012-d0fc4db3-ccc0-4375-9df8-664b12ad60c2",
    "deepnote_to_be_reexecuted": false,
    "source_hash": "7f0b62f",
    "execution_start": 1655414609377,
    "execution_millis": 9,
    "deepnote_cell_type": "code",
    "deepnote_cell_height": 136,
    "deepnote_output_heights": [
     21
    ]
   },
   "source": "near_twenty = math.e ** math.pi - math.pi\nnear_twenty",
   "execution_count": null,
   "outputs": [
    {
     "output_type": "execute_result",
     "execution_count": 33,
     "data": {
      "text/plain": "19.99909997918947"
     },
     "metadata": {}
    }
   ]
  },
  {
   "cell_type": "code",
   "metadata": {
    "deletable": false,
    "editable": false,
    "cell_id": "00013-7d6793e4-98be-4de3-bd07-8ff4276af55b",
    "deepnote_to_be_reexecuted": false,
    "source_hash": "d87864e6",
    "execution_start": 1655414612135,
    "execution_millis": 37,
    "deepnote_cell_type": "code",
    "deepnote_cell_height": 143,
    "deepnote_output_heights": [
     46
    ]
   },
   "source": "grader.check(\"q21\")",
   "execution_count": null,
   "outputs": [
    {
     "output_type": "execute_result",
     "execution_count": 34,
     "data": {
      "text/plain": "q21 results: All test cases passed!",
      "text/html": "<p><strong><pre style='display: inline;'>q21</pre></strong> passed!</p>"
     },
     "metadata": {}
    }
   ]
  },
  {
   "cell_type": "markdown",
   "source": "## 2.1. Accessing Functions\n\nIn the question above, you accessed variables within the `math` module. \n\n**Modules** also define **functions**.  For example, `math` provides the name `floor` for the floor function.  Having imported `math` already, we can write `math.floor(7.5)` to compute the floor of 7.5.  (Note that the floor function returns the largest integer less than or equal to a given number.)\n\n**Question 2.1.1.** Compute the floor of pi using `floor` and `pi` from the `math` module.  Give the result the name `floor_of_pi`.\n\n<!--\nBEGIN QUESTION\nname: q211\n-->",
   "metadata": {
    "deletable": false,
    "editable": false,
    "cell_id": "00014-d4f324b4-3659-4a01-9c85-7e3f45d6cfc8",
    "deepnote_cell_type": "markdown",
    "deepnote_cell_height": 240
   }
  },
  {
   "cell_type": "code",
   "metadata": {
    "deletable": false,
    "execution": {
     "iopub.execute_input": "2022-01-24T23:01:29.820549Z",
     "iopub.status.busy": "2022-01-24T23:01:29.820008Z",
     "iopub.status.idle": "2022-01-24T23:01:29.823442Z",
     "shell.execute_reply": "2022-01-24T23:01:29.822937Z"
    },
    "cell_id": "00015-a4e77425-4594-433e-8f4b-72606e6a76af",
    "deepnote_to_be_reexecuted": false,
    "source_hash": "a94db7c7",
    "execution_start": 1655414741639,
    "execution_millis": 9,
    "deepnote_cell_type": "code",
    "deepnote_cell_height": 136,
    "deepnote_output_heights": [
     21
    ]
   },
   "source": "floor_of_pi = math.floor(math.pi)\nfloor_of_pi",
   "execution_count": null,
   "outputs": [
    {
     "output_type": "execute_result",
     "execution_count": 39,
     "data": {
      "text/plain": "3"
     },
     "metadata": {}
    }
   ]
  },
  {
   "cell_type": "code",
   "metadata": {
    "deletable": false,
    "editable": false,
    "cell_id": "00016-5a233a5e-b79c-4e02-8ebe-79afe1275691",
    "deepnote_to_be_reexecuted": false,
    "source_hash": "788ad328",
    "execution_start": 1655414744287,
    "execution_millis": 34,
    "deepnote_cell_type": "code",
    "deepnote_cell_height": 143,
    "deepnote_output_heights": [
     46
    ]
   },
   "source": "grader.check(\"q211\")",
   "execution_count": null,
   "outputs": [
    {
     "output_type": "execute_result",
     "execution_count": 40,
     "data": {
      "text/plain": "q211 results: All test cases passed!",
      "text/html": "<p><strong><pre style='display: inline;'>q211</pre></strong> passed!</p>"
     },
     "metadata": {}
    }
   ]
  },
  {
   "cell_type": "markdown",
   "source": "For your reference, below are some more examples of functions from the `math` module.\n\nNotice how different functions take in different numbers of arguments. Often, the [documentation](https://docs.python.org/3/library/math.html) of the module will provide information on how many arguments are required for each function.\n\n*Hint: If you press `shift+tab` while next to the function call, the documentation for that function will appear.*",
   "metadata": {
    "cell_id": "00017-ce1bb1ca-1a8c-48a6-b51c-57ef39e55ef7",
    "deepnote_cell_type": "markdown",
    "deepnote_cell_height": 147.60000610351562
   }
  },
  {
   "cell_type": "code",
   "metadata": {
    "execution": {
     "iopub.execute_input": "2022-01-24T23:01:29.839322Z",
     "iopub.status.busy": "2022-01-24T23:01:29.838729Z",
     "iopub.status.idle": "2022-01-24T23:01:29.841856Z",
     "shell.execute_reply": "2022-01-24T23:01:29.842259Z"
    },
    "cell_id": "00018-f73d6f1a-10ac-4c6f-a5eb-817d6c18fc6e",
    "deepnote_to_be_reexecuted": false,
    "source_hash": "731b9ae5",
    "execution_start": 1655413764963,
    "execution_millis": 6,
    "deepnote_cell_type": "code",
    "deepnote_cell_height": 154,
    "deepnote_output_heights": [
     21
    ]
   },
   "source": "# Calculating logarithms (the logarithm of 8 in base 2).\n# The result is 3 because 2 to the power of 3 is 8.\nmath.log(8, 2)",
   "execution_count": null,
   "outputs": [
    {
     "output_type": "execute_result",
     "execution_count": 10,
     "data": {
      "text/plain": "3.0"
     },
     "metadata": {}
    }
   ]
  },
  {
   "cell_type": "code",
   "metadata": {
    "execution": {
     "iopub.execute_input": "2022-01-24T23:01:29.847211Z",
     "iopub.status.busy": "2022-01-24T23:01:29.846387Z",
     "iopub.status.idle": "2022-01-24T23:01:29.850242Z",
     "shell.execute_reply": "2022-01-24T23:01:29.850667Z"
    },
    "cell_id": "00019-5e15a577-d68f-4e84-a7fc-d6fabd8fc3e0",
    "deepnote_to_be_reexecuted": false,
    "source_hash": "a702b9c8",
    "execution_start": 1655413764973,
    "execution_millis": 4,
    "deepnote_cell_type": "code",
    "deepnote_cell_height": 136,
    "deepnote_output_heights": [
     21
    ]
   },
   "source": "# Calculating square roots.\nmath.sqrt(5)",
   "execution_count": null,
   "outputs": [
    {
     "output_type": "execute_result",
     "execution_count": 11,
     "data": {
      "text/plain": "2.23606797749979"
     },
     "metadata": {}
    }
   ]
  },
  {
   "cell_type": "markdown",
   "source": "There are various ways to import and access code from outside sources. The method we used above — `import <module_name>` — imports the entire module and requires that we use `<module_name>.<name>` to access its code. \n\nWe can also import a specific constant or function instead of the entire module. Notice that you don't have to use the module name beforehand to reference that particular value. However, you do have to be careful about reassigning the names of the constants or functions to other values!",
   "metadata": {
    "cell_id": "00020-b4f98ff4-a9c0-48da-969a-9fdc05b69e65",
    "deepnote_cell_type": "markdown",
    "deepnote_cell_height": 156
   }
  },
  {
   "cell_type": "code",
   "metadata": {
    "execution": {
     "iopub.execute_input": "2022-01-24T23:01:29.856384Z",
     "iopub.status.busy": "2022-01-24T23:01:29.855757Z",
     "iopub.status.idle": "2022-01-24T23:01:29.859531Z",
     "shell.execute_reply": "2022-01-24T23:01:29.860057Z"
    },
    "cell_id": "00021-0d0e0834-4aad-429e-8405-4f142eaaceeb",
    "deepnote_to_be_reexecuted": false,
    "source_hash": "aca33ce1",
    "execution_start": 1655413764977,
    "execution_millis": 6,
    "deepnote_cell_type": "code",
    "deepnote_cell_height": 271.70001220703125,
    "deepnote_output_heights": [
     null,
     21
    ]
   },
   "source": "# Importing just cos and pi from math.\n# We don't have to use `math.` in front of cos or pi\nfrom math import cos, pi\nprint(cos(pi))\n\n# We do have to use it in front of other functions from math, though\nmath.log(pi)",
   "execution_count": null,
   "outputs": [
    {
     "name": "stdout",
     "text": "-1.0\n",
     "output_type": "stream"
    },
    {
     "output_type": "execute_result",
     "execution_count": 12,
     "data": {
      "text/plain": "1.1447298858494002"
     },
     "metadata": {}
    }
   ]
  },
  {
   "cell_type": "markdown",
   "source": "Or we can import every function and value from the entire module.",
   "metadata": {
    "cell_id": "00022-280c1291-6811-4c3b-9b9d-19159904e088",
    "deepnote_cell_type": "markdown",
    "deepnote_cell_height": 52.399993896484375
   }
  },
  {
   "cell_type": "code",
   "metadata": {
    "execution": {
     "iopub.execute_input": "2022-01-24T23:01:29.865351Z",
     "iopub.status.busy": "2022-01-24T23:01:29.864648Z",
     "iopub.status.idle": "2022-01-24T23:01:29.869285Z",
     "shell.execute_reply": "2022-01-24T23:01:29.868781Z"
    },
    "cell_id": "00023-e3675b9a-6f7f-479a-bd1a-e9b2ab104418",
    "deepnote_to_be_reexecuted": false,
    "source_hash": "e678530",
    "execution_start": 1655413765026,
    "execution_millis": 1,
    "deepnote_cell_type": "code",
    "deepnote_cell_height": 172,
    "deepnote_output_heights": [
     21
    ]
   },
   "source": "# Lastly, we can import everything from math using the *\n# Once again, we don't have to use 'math.' beforehand \nfrom math import *\nlog(pi)",
   "execution_count": null,
   "outputs": [
    {
     "output_type": "execute_result",
     "execution_count": 13,
     "data": {
      "text/plain": "1.1447298858494002"
     },
     "metadata": {}
    }
   ]
  },
  {
   "cell_type": "markdown",
   "source": "Don't worry too much about which type of import to use. It's often a coding style choice left up to each programmer. In this course, you'll always import the necessary modules when you run the setup cell (like the first code cell in this lab).\n\nLet's move on to practicing some of the table operations you've learned in lecture!",
   "metadata": {
    "cell_id": "00024-95291724-46be-4be6-883d-5f60f8d02c2e",
    "deepnote_cell_type": "markdown",
    "deepnote_cell_height": 111.19999694824219
   }
  },
  {
   "cell_type": "markdown",
   "source": "# 3. Table Operations\n\nThe table `farmers_markets.csv` contains data on farmers' markets in the United States  (data associated with [the USDA](https://apps.ams.usda.gov/FarmersMarketsExport/ExcelExport.aspx)).  Each row represents one such market.\n\nRun the next cell to load the `farmers_markets` table. There will be no output -- no output is expected as the cell contains an assignment statement. An assignment statement does not produce any output (it does not yield any value).",
   "metadata": {
    "cell_id": "00025-a295951a-a08b-4430-b0e6-ec4f5809c595",
    "deepnote_cell_type": "markdown",
    "deepnote_cell_height": 201.60000610351562
   }
  },
  {
   "cell_type": "code",
   "metadata": {
    "deletable": false,
    "execution": {
     "iopub.execute_input": "2022-01-24T23:01:29.874658Z",
     "iopub.status.busy": "2022-01-24T23:01:29.874042Z",
     "iopub.status.idle": "2022-01-24T23:01:30.189640Z",
     "shell.execute_reply": "2022-01-24T23:01:30.189066Z"
    },
    "cell_id": "00026-5c4e415d-fedf-4df2-8c43-b2dd2e5a9816",
    "deepnote_to_be_reexecuted": false,
    "source_hash": "be6ffec1",
    "execution_start": 1655414785281,
    "execution_millis": 250,
    "deepnote_cell_type": "code",
    "deepnote_cell_height": 117
   },
   "source": "# Just run this cell\n\nfarmers_markets = Table.read_table('farmers_markets.csv')",
   "execution_count": null,
   "outputs": []
  },
  {
   "cell_type": "markdown",
   "source": "Let's examine our table to see what data it contains.\n\n**Question 3.1.** Use the method `show` to display the first 5 rows of `farmers_markets`. \n\n*Note:* The terms \"method\" and \"function\" are technically not the same thing, but for the purposes of this course, we will use them interchangeably.\n\n**Hint:** `tbl.show(3)` will show the first 3 rows of the table named `tbl`. Additionally, make sure not to call `.show()` without an argument, as this will crash your kernel!\n",
   "metadata": {
    "cell_id": "00027-814a9925-8719-4c66-bd6d-9f82ca524ccd",
    "deepnote_cell_type": "markdown",
    "deepnote_cell_height": 206.39999389648438
   }
  },
  {
   "cell_type": "code",
   "metadata": {
    "deletable": false,
    "execution": {
     "iopub.execute_input": "2022-01-24T23:01:30.196903Z",
     "iopub.status.busy": "2022-01-24T23:01:30.196333Z",
     "iopub.status.idle": "2022-01-24T23:01:30.200221Z",
     "shell.execute_reply": "2022-01-24T23:01:30.200608Z"
    },
    "cell_id": "00028-09f9593b-abca-42b5-9369-ef0680e62b96",
    "deepnote_to_be_reexecuted": false,
    "source_hash": "6b080696",
    "execution_start": 1655414840755,
    "execution_millis": 7,
    "deepnote_cell_type": "code",
    "deepnote_cell_height": 262,
    "deepnote_output_heights": [
     165
    ]
   },
   "source": "farmers_markets.show(3)",
   "execution_count": null,
   "outputs": [
    {
     "data": {
      "text/plain": "<IPython.core.display.HTML object>",
      "text/html": "<table border=\"1\" class=\"dataframe\">\n    <thead>\n        <tr>\n            <th>FMID</th> <th>MarketName</th> <th>street</th> <th>city</th> <th>County</th> <th>State</th> <th>zip</th> <th>x</th> <th>y</th> <th>Website</th> <th>Facebook</th> <th>Twitter</th> <th>Youtube</th> <th>OtherMedia</th> <th>Organic</th> <th>Tofu</th> <th>Bakedgoods</th> <th>Cheese</th> <th>Crafts</th> <th>Flowers</th> <th>Eggs</th> <th>Seafood</th> <th>Herbs</th> <th>Vegetables</th> <th>Honey</th> <th>Jams</th> <th>Maple</th> <th>Meat</th> <th>Nursery</th> <th>Nuts</th> <th>Plants</th> <th>Poultry</th> <th>Prepared</th> <th>Soap</th> <th>Trees</th> <th>Wine</th> <th>Coffee</th> <th>Beans</th> <th>Fruits</th> <th>Grains</th> <th>Juices</th> <th>Mushrooms</th> <th>PetFood</th> <th>WildHarvested</th> <th>updateTime</th> <th>Location</th> <th>Credit</th> <th>WIC</th> <th>WICcash</th> <th>SFMNP</th> <th>SNAP</th> <th>Season1Date</th> <th>Season1Time</th> <th>Season2Date</th> <th>Season2Time</th> <th>Season3Date</th> <th>Season3Time</th> <th>Season4Date</th> <th>Season4Time</th>\n        </tr>\n    </thead>\n    <tbody>\n        <tr>\n            <td>1012063</td> <td> Caledonia Farmers Market Association - Danville</td> <td>nan            </td> <td>Danville </td> <td>Caledonia</td> <td>Vermont </td> <td>05828</td> <td>-72.1403</td> <td>44.411 </td> <td>https://sites.google.com/site/caledoniafarmersmarket/</td> <td>https://www.facebook.com/Danville.VT.Farmers.Market/</td> <td>nan    </td> <td>nan    </td> <td>nan                                     </td> <td>Y      </td> <td>N   </td> <td>Y         </td> <td>Y     </td> <td>Y     </td> <td>Y      </td> <td>Y   </td> <td>N      </td> <td>Y    </td> <td>Y         </td> <td>Y    </td> <td>Y   </td> <td>Y    </td> <td>Y   </td> <td>N      </td> <td>N   </td> <td>Y     </td> <td>Y      </td> <td>Y       </td> <td>Y   </td> <td>Y    </td> <td>N   </td> <td>Y     </td> <td>Y    </td> <td>Y     </td> <td>N     </td> <td>Y     </td> <td>N        </td> <td>Y      </td> <td>N            </td> <td>6/28/2016 12:10:09 PM</td> <td>nan     </td> <td>Y     </td> <td>Y   </td> <td>N      </td> <td>Y    </td> <td>N   </td> <td>06/08/2016 to 10/12/2016</td> <td>Wed: 9:00 AM-1:00 PM;</td> <td>nan        </td> <td>nan        </td> <td>nan        </td> <td>nan        </td> <td>nan        </td> <td>nan        </td>\n        </tr>\n        <tr>\n            <td>1011871</td> <td> Stearns Homestead Farmers' Market              </td> <td>6975 Ridge Road</td> <td>Parma    </td> <td>Cuyahoga </td> <td>Ohio    </td> <td>44130</td> <td>-81.7286</td> <td>41.3751</td> <td>http://Stearnshomestead.com                          </td> <td>nan                                                 </td> <td>nan    </td> <td>nan    </td> <td>nan                                     </td> <td>-      </td> <td>N   </td> <td>Y         </td> <td>N     </td> <td>N     </td> <td>Y      </td> <td>Y   </td> <td>N      </td> <td>Y    </td> <td>Y         </td> <td>Y    </td> <td>Y   </td> <td>Y    </td> <td>Y   </td> <td>N      </td> <td>N   </td> <td>Y     </td> <td>N      </td> <td>N       </td> <td>N   </td> <td>N    </td> <td>N   </td> <td>N     </td> <td>N    </td> <td>Y     </td> <td>N     </td> <td>N     </td> <td>N        </td> <td>Y      </td> <td>N            </td> <td>4/9/2016 8:05:17 PM  </td> <td>nan     </td> <td>Y     </td> <td>Y   </td> <td>N      </td> <td>Y    </td> <td>Y   </td> <td>06/25/2016 to 10/01/2016</td> <td>Sat: 9:00 AM-1:00 PM;</td> <td>nan        </td> <td>nan        </td> <td>nan        </td> <td>nan        </td> <td>nan        </td> <td>nan        </td>\n        </tr>\n        <tr>\n            <td>1011878</td> <td>100 Mile Market                                 </td> <td>507 Harrison St</td> <td>Kalamazoo</td> <td>Kalamazoo</td> <td>Michigan</td> <td>49007</td> <td>-85.5749</td> <td>42.296 </td> <td>http://www.pfcmarkets.com                            </td> <td>https://www.facebook.com/100MileMarket/?fref=ts     </td> <td>nan    </td> <td>nan    </td> <td>https://www.instagram.com/100milemarket/</td> <td>N      </td> <td>N   </td> <td>Y         </td> <td>Y     </td> <td>N     </td> <td>Y      </td> <td>Y   </td> <td>N      </td> <td>Y    </td> <td>Y         </td> <td>Y    </td> <td>Y   </td> <td>Y    </td> <td>Y   </td> <td>N      </td> <td>N   </td> <td>N     </td> <td>Y      </td> <td>Y       </td> <td>Y   </td> <td>N    </td> <td>Y   </td> <td>N     </td> <td>N    </td> <td>Y     </td> <td>Y     </td> <td>N     </td> <td>N        </td> <td>N      </td> <td>N            </td> <td>4/16/2016 12:37:56 PM</td> <td>nan     </td> <td>Y     </td> <td>Y   </td> <td>N      </td> <td>Y    </td> <td>Y   </td> <td>05/04/2016 to 10/12/2016</td> <td>Wed: 3:00 PM-7:00 PM;</td> <td>nan        </td> <td>nan        </td> <td>nan        </td> <td>nan        </td> <td>nan        </td> <td>nan        </td>\n        </tr>\n    </tbody>\n</table>\n<p>... (8543 rows omitted)</p>"
     },
     "metadata": {},
     "output_type": "display_data"
    }
   ]
  },
  {
   "cell_type": "markdown",
   "source": "Notice that some of the values in this table are missing, as denoted by \"nan.\" This means either that the value is not available (e.g. if we don’t know the market’s street address) or not applicable (e.g. if the market doesn’t have a street address). You'll also notice that the table has a large number of columns in it!\n\n### `num_columns`\n\nThe table property `num_columns` returns the number of columns in a table. (A \"property\" is just a method that doesn't need to be called by adding parentheses.)\n\nExample call: `tbl.num_columns` will return the number of columns in a table called `tbl`\n\n**Question 3.2.** Use `num_columns` to find the number of columns in our farmers' markets dataset.\n\nAssign the number of columns to `num_farmers_markets_columns`.\n\n<!--\nBEGIN QUESTION\nname: q32\n-->",
   "metadata": {
    "deletable": false,
    "editable": false,
    "cell_id": "00029-bfcf6e7c-15ba-4a69-a567-548bc42251bf",
    "deepnote_cell_type": "markdown",
    "deepnote_cell_height": 327.95001220703125
   }
  },
  {
   "cell_type": "code",
   "metadata": {
    "deletable": false,
    "execution": {
     "iopub.execute_input": "2022-01-24T23:01:30.210632Z",
     "iopub.status.busy": "2022-01-24T23:01:30.210007Z",
     "iopub.status.idle": "2022-01-24T23:01:30.213062Z",
     "shell.execute_reply": "2022-01-24T23:01:30.212553Z"
    },
    "cell_id": "00030-e16cb784-f6a1-4500-9ac4-1ff2aea3a43c",
    "deepnote_to_be_reexecuted": false,
    "source_hash": "413baa01",
    "execution_start": 1655415117780,
    "execution_millis": 10,
    "deepnote_cell_type": "code",
    "deepnote_cell_height": 129.6999969482422
   },
   "source": "num_farmers_markets_columns = 59\nprint(\"The table has\", num_farmers_markets_columns, \"columns in it!\")",
   "execution_count": null,
   "outputs": [
    {
     "name": "stdout",
     "text": "The table has 59 columns in it!\n",
     "output_type": "stream"
    }
   ]
  },
  {
   "cell_type": "code",
   "metadata": {
    "deletable": false,
    "editable": false,
    "cell_id": "00031-7d11195c-65b4-4289-bc7f-ce03c1b395c4",
    "deepnote_to_be_reexecuted": false,
    "source_hash": "88de721c",
    "execution_start": 1655415120591,
    "execution_millis": 677,
    "deepnote_cell_type": "code",
    "deepnote_cell_height": 143,
    "deepnote_output_heights": [
     46
    ]
   },
   "source": "grader.check(\"q32\")",
   "execution_count": null,
   "outputs": [
    {
     "output_type": "execute_result",
     "execution_count": 48,
     "data": {
      "text/plain": "q32 results: All test cases passed!",
      "text/html": "<p><strong><pre style='display: inline;'>q32</pre></strong> passed!</p>"
     },
     "metadata": {}
    }
   ]
  },
  {
   "cell_type": "markdown",
   "source": "### `num_rows`\n\nSimilarly, the property `num_rows` tells you how many rows are in a table.",
   "metadata": {
    "cell_id": "00032-9abd3384-fac5-4eb9-9fe4-c56f0fcf5309",
    "deepnote_cell_type": "markdown",
    "deepnote_cell_height": 101.14999389648438
   }
  },
  {
   "cell_type": "code",
   "metadata": {
    "deletable": false,
    "execution": {
     "iopub.execute_input": "2022-01-24T23:01:30.226746Z",
     "iopub.status.busy": "2022-01-24T23:01:30.225978Z",
     "iopub.status.idle": "2022-01-24T23:01:30.229272Z",
     "shell.execute_reply": "2022-01-24T23:01:30.229668Z"
    },
    "cell_id": "00033-6cfe0105-d031-447b-8bb9-f013d6e02010",
    "deepnote_to_be_reexecuted": false,
    "source_hash": "77466b6b",
    "execution_start": 1655413765309,
    "execution_millis": 415,
    "deepnote_cell_type": "code",
    "deepnote_cell_height": 165.6999969482422
   },
   "source": "# Just run this cell\n\nnum_farmers_markets_rows = farmers_markets.num_rows\nprint(\"The table has\", num_farmers_markets_rows, \"rows in it!\")",
   "execution_count": null,
   "outputs": [
    {
     "name": "stdout",
     "text": "The table has 8546 rows in it!\n",
     "output_type": "stream"
    }
   ]
  },
  {
   "cell_type": "markdown",
   "source": "### `select`\n\nMost of the columns are about particular products -- whether the market sells tofu, pet food, etc.  If we're not interested in that information, it just makes the table difficult to read.  This comes up more than you might think, because people who collect and publish data may not know ahead of time what people will want to do with it.\n\nIn such situations, we can use the table method `select` to choose only the columns that we want in a particular table. It takes any number of arguments. Each should be the name of a column in the table. It returns a new table with only those columns in it. The columns are in the order *in which they were listed as arguments*.\n\nFor example, the value of `farmers_markets.select(\"MarketName\", \"State\")` is a table with only the name and the state of each farmers' market in `farmers_markets`.\n\n\n\n**Question 3.3.** Use `select` to create a table with only the name, city, state, latitude (`y`), and longitude (`x`) of each market.  Call that new table `farmers_markets_locations`.\n\n*Hint:* Make sure to be exact when using column names with `select`; double-check capitalization!\n\n<!--\nBEGIN QUESTION\nname: q33\n-->",
   "metadata": {
    "deletable": false,
    "editable": false,
    "cell_id": "00034-4b1efd22-645a-431e-9abd-46fd3ac3c545",
    "deepnote_cell_type": "markdown",
    "deepnote_cell_height": 395.1499938964844
   }
  },
  {
   "cell_type": "code",
   "metadata": {
    "deletable": false,
    "execution": {
     "iopub.execute_input": "2022-01-24T23:01:30.236633Z",
     "iopub.status.busy": "2022-01-24T23:01:30.233653Z",
     "iopub.status.idle": "2022-01-24T23:01:30.245331Z",
     "shell.execute_reply": "2022-01-24T23:01:30.244745Z"
    },
    "cell_id": "00035-0e7297a0-1a68-4317-a4a6-98cf5f6af4ba",
    "deepnote_to_be_reexecuted": false,
    "source_hash": "2f896833",
    "execution_start": 1655415256781,
    "execution_millis": 69,
    "deepnote_cell_type": "code",
    "deepnote_cell_height": 721.2000122070312,
    "deepnote_output_heights": [
     49,
     33,
     37,
     38,
     37,
     33,
     52
    ]
   },
   "source": "farmers_markets_locations = farmers_markets.sort(labels)\nfarmers_markets_locations",
   "execution_count": null,
   "outputs": [
    {
     "data": {
      "text/plain": "<IPython.core.display.Markdown object>",
      "text/markdown": "## **Uh-o it seems we have an error!**"
     },
     "metadata": {},
     "output_type": "display_data"
    },
    {
     "data": {
      "text/plain": "<IPython.core.display.Markdown object>",
      "text/markdown": "It seems we have a NameError. NameErrors are usually because of:"
     },
     "metadata": {},
     "output_type": "display_data"
    },
    {
     "data": {
      "text/plain": "<IPython.core.display.Markdown object>",
      "text/markdown": "1. Misspelling a variable, function, or method name "
     },
     "metadata": {},
     "output_type": "display_data"
    },
    {
     "data": {
      "text/plain": "<IPython.core.display.Markdown object>",
      "text/markdown": "2. Not importing required libraries, i.e not running the cell with `import numpy as np`"
     },
     "metadata": {},
     "output_type": "display_data"
    },
    {
     "data": {
      "text/plain": "<IPython.core.display.Markdown object>",
      "text/markdown": "3. Kernel died. You might need to re-run cells to redefine variables"
     },
     "metadata": {},
     "output_type": "display_data"
    },
    {
     "data": {
      "text/plain": "<IPython.core.display.Markdown object>",
      "text/markdown": "The Data 8 Reference might be helpful to look over for examples and usage: [Data 8 Reference](http://data8.org/fa21/python-reference.html)"
     },
     "metadata": {},
     "output_type": "display_data"
    },
    {
     "data": {
      "text/plain": "<IPython.core.display.Markdown object>",
      "text/markdown": "If you are having more trouble please feel free to consult a staff member at [Office Hours](https://oh.data8.org)                        \n or see the error message below "
     },
     "metadata": {},
     "output_type": "display_data"
    },
    {
     "data": {
      "text/plain": "Accordion(children=(VBox(children=(VBox(children=(Label(value='Was the message you saw useful?'), Dropdown(opt…",
      "application/vnd.jupyter.widget-view+json": {
       "version_major": 2,
       "version_minor": 0,
       "model_id": "6a40f56a2770401299f60db8f1facd08"
      }
     },
     "metadata": {},
     "output_type": "display_data"
    },
    {
     "output_type": "error",
     "ename": "NameError",
     "evalue": "name 'labels' is not defined",
     "traceback": [
      "\u001b[0;31m---------------------------------------------------------------------------\u001b[0m",
      "\u001b[0;31mNameError\u001b[0m                                 Traceback (most recent call last)",
      "\u001b[0;32m<ipython-input-50-6db4399aee28>\u001b[0m in \u001b[0;36m<cell line: 1>\u001b[0;34m()\u001b[0m\n\u001b[0;32m----> 1\u001b[0;31m \u001b[0mfarmers_markets_locations\u001b[0m \u001b[0;34m=\u001b[0m \u001b[0mfarmers_markets\u001b[0m\u001b[0;34m.\u001b[0m\u001b[0msort\u001b[0m\u001b[0;34m(\u001b[0m\u001b[0mlabels\u001b[0m\u001b[0;34m)\u001b[0m\u001b[0;34m\u001b[0m\u001b[0;34m\u001b[0m\u001b[0m\n\u001b[0m\u001b[1;32m      2\u001b[0m \u001b[0mfarmers_markets_locations\u001b[0m\u001b[0;34m\u001b[0m\u001b[0;34m\u001b[0m\u001b[0m\n",
      "\u001b[0;31mNameError\u001b[0m: name 'labels' is not defined"
     ]
    }
   ]
  },
  {
   "cell_type": "code",
   "metadata": {
    "deletable": false,
    "editable": false,
    "cell_id": "00036-94cdfb2f-a29c-45f3-abaa-29ebc754a570",
    "deepnote_to_be_reexecuted": false,
    "source_hash": "b0b81894",
    "execution_start": 1655413765313,
    "execution_millis": 416,
    "deepnote_cell_type": "code",
    "deepnote_cell_height": 708,
    "deepnote_output_heights": [
     611
    ]
   },
   "source": "grader.check(\"q33\")",
   "execution_count": null,
   "outputs": [
    {
     "output_type": "execute_result",
     "execution_count": 20,
     "data": {
      "text/plain": "q33 results:\n    q33 - 1 result:\n        Trying:\n            sorted(farmers_markets_locations.labels)\n        Expecting:\n            ['MarketName', 'State', 'city', 'x', 'y']\n        **********************************************************************\n        Line 1, in q33 0\n        Failed example:\n            sorted(farmers_markets_locations.labels)\n        Exception raised:\n            Traceback (most recent call last):\n              File \"/usr/local/lib/python3.9/doctest.py\", line 1334, in __run\n                exec(compile(example.source, filename, \"single\",\n              File \"<doctest q33 0[0]>\", line 1, in <module>\n                sorted(farmers_markets_locations.labels)\n            AttributeError: 'ellipsis' object has no attribute 'labels'\n\n    q33 - 2 result:\n        Trying:\n            farmers_markets_locations.num_rows == 8546\n        Expecting:\n            True\n        **********************************************************************\n        Line 1, in q33 1\n        Failed example:\n            farmers_markets_locations.num_rows == 8546\n        Exception raised:\n            Traceback (most recent call last):\n              File \"/usr/local/lib/python3.9/doctest.py\", line 1334, in __run\n                exec(compile(example.source, filename, \"single\",\n              File \"<doctest q33 1[0]>\", line 1, in <module>\n                farmers_markets_locations.num_rows == 8546\n            AttributeError: 'ellipsis' object has no attribute 'num_rows'",
      "text/html": "<p><strong style='color: red;'><pre style='display: inline;'>q33</pre> results:</strong></p><p><strong><pre style='display: inline;'>q33 - 1</pre> result:</strong></p><pre>    Trying:\n        sorted(farmers_markets_locations.labels)\n    Expecting:\n        ['MarketName', 'State', 'city', 'x', 'y']\n    **********************************************************************\n    Line 1, in q33 0\n    Failed example:\n        sorted(farmers_markets_locations.labels)\n    Exception raised:\n        Traceback (most recent call last):\n          File \"/usr/local/lib/python3.9/doctest.py\", line 1334, in __run\n            exec(compile(example.source, filename, \"single\",\n          File \"<doctest q33 0[0]>\", line 1, in <module>\n            sorted(farmers_markets_locations.labels)\n        AttributeError: 'ellipsis' object has no attribute 'labels'\n</pre><p><strong><pre style='display: inline;'>q33 - 2</pre> result:</strong></p><pre>    Trying:\n        farmers_markets_locations.num_rows == 8546\n    Expecting:\n        True\n    **********************************************************************\n    Line 1, in q33 1\n    Failed example:\n        farmers_markets_locations.num_rows == 8546\n    Exception raised:\n        Traceback (most recent call last):\n          File \"/usr/local/lib/python3.9/doctest.py\", line 1334, in __run\n            exec(compile(example.source, filename, \"single\",\n          File \"<doctest q33 1[0]>\", line 1, in <module>\n            farmers_markets_locations.num_rows == 8546\n        AttributeError: 'ellipsis' object has no attribute 'num_rows'\n</pre>"
     },
     "metadata": {}
    }
   ]
  },
  {
   "cell_type": "markdown",
   "source": "### `drop`\n\n`drop` serves the same purpose as `select`, but it takes away the columns that you provide rather than the ones that you don't provide. Like `select`, `drop` returns a new table.\n\n**Question 3.4.** Suppose you just didn't want the `FMID` and `updateTime` columns in `farmers_markets`.  Create a table that's a copy of `farmers_markets` but doesn't include those columns.  Call that table `farmers_markets_without_fmid`.\n\n<!--\nBEGIN QUESTION\nname: q34\n-->",
   "metadata": {
    "deletable": false,
    "editable": false,
    "cell_id": "00037-e71cb291-1daf-477c-9fd9-a16fa649069b",
    "deepnote_cell_type": "markdown",
    "deepnote_cell_height": 196.35000610351562
   }
  },
  {
   "cell_type": "code",
   "metadata": {
    "deletable": false,
    "execution": {
     "iopub.execute_input": "2022-01-24T23:01:30.277576Z",
     "iopub.status.busy": "2022-01-24T23:01:30.266983Z",
     "iopub.status.idle": "2022-01-24T23:01:30.368958Z",
     "shell.execute_reply": "2022-01-24T23:01:30.368364Z"
    },
    "cell_id": "00038-9d403900-c7aa-4791-abb8-9f11033f9799",
    "deepnote_to_be_reexecuted": false,
    "source_hash": "9cf56dc5",
    "execution_start": 1655415362291,
    "execution_millis": 8,
    "deepnote_cell_type": "code",
    "deepnote_cell_height": 483,
    "deepnote_output_heights": [
     368
    ]
   },
   "source": "farmers_markets_without_fmid = farmers_markets.drop('FMID','updateTime')\nfarmers_markets_without_fmid",
   "execution_count": null,
   "outputs": [
    {
     "output_type": "execute_result",
     "execution_count": 51,
     "data": {
      "text/plain": "MarketName                                       | street                                                   | city       | County               | State                | zip   | x        | y       | Website                                               | Facebook                                                     | Twitter                             | Youtube | OtherMedia                                                   | Organic | Tofu | Bakedgoods | Cheese | Crafts | Flowers | Eggs | Seafood | Herbs | Vegetables | Honey | Jams | Maple | Meat | Nursery | Nuts | Plants | Poultry | Prepared | Soap | Trees | Wine | Coffee | Beans | Fruits | Grains | Juices | Mushrooms | PetFood | WildHarvested | Location                                                   | Credit | WIC  | WICcash | SFMNP | SNAP | Season1Date              | Season1Time                                  | Season2Date | Season2Time | Season3Date | Season3Time | Season4Date | Season4Time\n Caledonia Farmers Market Association - Danville | nan                                                      | Danville   | Caledonia            | Vermont              | 05828 | -72.1403 | 44.411  | https://sites.google.com/site/caledoniafarmersmarket/ | https://www.facebook.com/Danville.VT.Farmers.Market/         | nan                                 | nan     | nan                                                          | Y       | N    | Y          | Y      | Y      | Y       | Y    | N       | Y     | Y          | Y     | Y    | Y     | Y    | N       | N    | Y      | Y       | Y        | Y    | Y     | N    | Y      | Y     | Y      | N      | Y      | N         | Y       | N             | nan                                                        | Y      | Y    | N       | Y     | N    | 06/08/2016 to 10/12/2016 | Wed: 9:00 AM-1:00 PM;                        | nan         | nan         | nan         | nan         | nan         | nan\n Stearns Homestead Farmers' Market               | 6975 Ridge Road                                          | Parma      | Cuyahoga             | Ohio                 | 44130 | -81.7286 | 41.3751 | http://Stearnshomestead.com                           | nan                                                          | nan                                 | nan     | nan                                                          | -       | N    | Y          | N      | N      | Y       | Y    | N       | Y     | Y          | Y     | Y    | Y     | Y    | N       | N    | Y      | N       | N        | N    | N     | N    | N      | N     | Y      | N      | N      | N         | Y       | N             | nan                                                        | Y      | Y    | N       | Y     | Y    | 06/25/2016 to 10/01/2016 | Sat: 9:00 AM-1:00 PM;                        | nan         | nan         | nan         | nan         | nan         | nan\n100 Mile Market                                  | 507 Harrison St                                          | Kalamazoo  | Kalamazoo            | Michigan             | 49007 | -85.5749 | 42.296  | http://www.pfcmarkets.com                             | https://www.facebook.com/100MileMarket/?fref=ts              | nan                                 | nan     | https://www.instagram.com/100milemarket/                     | N       | N    | Y          | Y      | N      | Y       | Y    | N       | Y     | Y          | Y     | Y    | Y     | Y    | N       | N    | N      | Y       | Y        | Y    | N     | Y    | N      | N     | Y      | Y      | N      | N         | N       | N             | nan                                                        | Y      | Y    | N       | Y     | Y    | 05/04/2016 to 10/12/2016 | Wed: 3:00 PM-7:00 PM;                        | nan         | nan         | nan         | nan         | nan         | nan\n106 S. Main Street Farmers Market                | 106 S. Main Street                                       | Six Mile   | nan                  | South Carolina       | 29682 | -82.8187 | 34.8042 | http://thetownofsixmile.wordpress.com/                | nan                                                          | nan                                 | nan     | nan                                                          | -       | N    | N          | N      | N      | N       | N    | N       | N     | N          | N     | N    | N     | N    | N       | N    | N      | N       | N        | N    | N     | N    | N      | N     | N      | N      | N      | N         | N       | N             | nan                                                        | Y      | N    | N       | N     | N    | nan                      | nan                                          | nan         | nan         | nan         | nan         | nan         | nan\n10th Steet Community Farmers Market              | 10th Street and Poplar                                   | Lamar      | Barton               | Missouri             | 64759 | -94.2746 | 37.4956 | nan                                                   | nan                                                          | nan                                 | nan     | http://agrimissouri.com/mo-grown/grodetail.php?type=mo-g ... | -       | N    | Y          | N      | Y      | N       | Y    | N       | Y     | Y          | Y     | Y    | N     | Y    | N       | N    | Y      | Y       | Y        | Y    | N     | N    | N      | N     | Y      | N      | N      | N         | N       | N             | nan                                                        | Y      | N    | N       | N     | N    | 04/02/2014 to 11/30/2014 | Wed: 3:00 PM-6:00 PM;Sat: 8:00 AM-1:00 PM;   | nan         | nan         | nan         | nan         | nan         | nan\n112st Madison Avenue                             | 112th Madison Avenue                                     | New York   | New York             | New York             | 10029 | -73.9493 | 40.7939 | nan                                                   | nan                                                          | nan                                 | nan     | nan                                                          | -       | N    | Y          | N      | Y      | Y       | N    | N       | Y     | Y          | Y     | Y    | N     | N    | N       | Y    | N      | N       | Y        | Y    | N     | N    | N      | N     | N      | N      | N      | N         | N       | N             | Private business parking lot                               | N      | N    | Y       | Y     | N    | July to November         | Tue:8:00 am - 5:00 pm;Sat:8:00 am - 8:00 pm; | nan         | nan         | nan         | nan         | nan         | nan\n12 South Farmers Market                          | 3000 Granny White Pike                                   | Nashville  | Davidson             | Tennessee            | 37204 | -86.7907 | 36.1184 | http://www.12southfarmersmarket.com                   | 12_South_Farmers_Market                                      | @12southfrmsmkt                     | nan     | @12southfrmsmkt                                              | Y       | N    | Y          | Y      | N      | Y       | Y    | N       | Y     | Y          | Y     | Y    | Y     | Y    | N       | N    | N      | Y       | Y        | Y    | N     | N    | Y      | N     | Y      | N      | Y      | Y         | Y       | N             | nan                                                        | Y      | N    | N       | N     | Y    | 05/05/2015 to 10/27/2015 | Tue: 3:30 PM-6:30 PM;                        | nan         | nan         | nan         | nan         | nan         | nan\n125th Street Fresh Connect Farmers' Market       | 163 West 125th Street and Adam Clayton Powell, Jr. Blvd. | New York   | New York             | New York             | 10027 | -73.9482 | 40.809  | http://www.125thStreetFarmersMarket.com               | https://www.facebook.com/125thStreetFarmersMarket            | https://twitter.com/FarmMarket125th | nan     | Instagram--> 125thStreetFarmersMarket                        | Y       | N    | Y          | Y      | Y      | Y       | Y    | N       | Y     | Y          | Y     | Y    | Y     | Y    | N       | Y    | N      | Y       | Y        | Y    | N     | Y    | Y      | N     | Y      | N      | Y      | N         | N       | N             | Federal/State government building grounds                  | Y      | Y    | N       | Y     | Y    | 06/10/2014 to 11/25/2014 | Tue: 10:00 AM-7:00 PM;                       | nan         | nan         | nan         | nan         | nan         | nan\n12th & Brandywine Urban Farm Market              | 12th & Brandywine Streets                                | Wilmington | New Castle           | Delaware             | 19801 | -75.5345 | 39.7421 | nan                                                   | https://www.facebook.com/pages/12th-Brandywine-Urban-Far ... | nan                                 | nan     | https://www.facebook.com/delawareurbanfarmcoalition          | N       | N    | N          | N      | N      | N       | N    | N       | Y     | Y          | N     | N    | N     | N    | N       | N    | N      | N       | N        | N    | N     | N    | N      | N     | Y      | N      | N      | N         | N       | N             | On a farm from: a barn, a greenhouse, a tent, a stand, etc | N      | N    | N       | N     | Y    | 05/16/2014 to 10/17/2014 | Fri: 8:00 AM-11:00 AM;                       | nan         | nan         | nan         | nan         | nan         | nan\n14&U Farmers' Market                             | 1400 U Street NW                                         | Washington | District of Columbia | District of Columbia | 20009 | -77.0321 | 38.917  | nan                                                   | https://www.facebook.com/14UFarmersMarket                    | https://twitter.com/14UFarmersMkt   | nan     | nan                                                          | Y       | N    | Y          | Y      | N      | Y       | Y    | N       | Y     | Y          | Y     | Y    | N     | Y    | N       | Y    | Y      | Y       | N        | N    | N     | N    | N      | Y     | Y      | Y      | Y      | N         | N       | N             | Other                                                      | Y      | Y    | Y       | Y     | Y    | 05/03/2014 to 11/22/2014 | Sat: 9:00 AM-1:00 PM;                        | nan         | nan         | nan         | nan         | nan         | nan\n... (8536 rows omitted)",
      "text/html": "<table border=\"1\" class=\"dataframe\">\n    <thead>\n        <tr>\n            <th>MarketName</th> <th>street</th> <th>city</th> <th>County</th> <th>State</th> <th>zip</th> <th>x</th> <th>y</th> <th>Website</th> <th>Facebook</th> <th>Twitter</th> <th>Youtube</th> <th>OtherMedia</th> <th>Organic</th> <th>Tofu</th> <th>Bakedgoods</th> <th>Cheese</th> <th>Crafts</th> <th>Flowers</th> <th>Eggs</th> <th>Seafood</th> <th>Herbs</th> <th>Vegetables</th> <th>Honey</th> <th>Jams</th> <th>Maple</th> <th>Meat</th> <th>Nursery</th> <th>Nuts</th> <th>Plants</th> <th>Poultry</th> <th>Prepared</th> <th>Soap</th> <th>Trees</th> <th>Wine</th> <th>Coffee</th> <th>Beans</th> <th>Fruits</th> <th>Grains</th> <th>Juices</th> <th>Mushrooms</th> <th>PetFood</th> <th>WildHarvested</th> <th>Location</th> <th>Credit</th> <th>WIC</th> <th>WICcash</th> <th>SFMNP</th> <th>SNAP</th> <th>Season1Date</th> <th>Season1Time</th> <th>Season2Date</th> <th>Season2Time</th> <th>Season3Date</th> <th>Season3Time</th> <th>Season4Date</th> <th>Season4Time</th>\n        </tr>\n    </thead>\n    <tbody>\n        <tr>\n            <td> Caledonia Farmers Market Association - Danville</td> <td>nan                                                     </td> <td>Danville  </td> <td>Caledonia           </td> <td>Vermont             </td> <td>05828</td> <td>-72.1403</td> <td>44.411 </td> <td>https://sites.google.com/site/caledoniafarmersmarket/</td> <td>https://www.facebook.com/Danville.VT.Farmers.Market/        </td> <td>nan                                </td> <td>nan    </td> <td>nan                                                         </td> <td>Y      </td> <td>N   </td> <td>Y         </td> <td>Y     </td> <td>Y     </td> <td>Y      </td> <td>Y   </td> <td>N      </td> <td>Y    </td> <td>Y         </td> <td>Y    </td> <td>Y   </td> <td>Y    </td> <td>Y   </td> <td>N      </td> <td>N   </td> <td>Y     </td> <td>Y      </td> <td>Y       </td> <td>Y   </td> <td>Y    </td> <td>N   </td> <td>Y     </td> <td>Y    </td> <td>Y     </td> <td>N     </td> <td>Y     </td> <td>N        </td> <td>Y      </td> <td>N            </td> <td>nan                                                       </td> <td>Y     </td> <td>Y   </td> <td>N      </td> <td>Y    </td> <td>N   </td> <td>06/08/2016 to 10/12/2016</td> <td>Wed: 9:00 AM-1:00 PM;                       </td> <td>nan        </td> <td>nan        </td> <td>nan        </td> <td>nan        </td> <td>nan        </td> <td>nan        </td>\n        </tr>\n        <tr>\n            <td> Stearns Homestead Farmers' Market              </td> <td>6975 Ridge Road                                         </td> <td>Parma     </td> <td>Cuyahoga            </td> <td>Ohio                </td> <td>44130</td> <td>-81.7286</td> <td>41.3751</td> <td>http://Stearnshomestead.com                          </td> <td>nan                                                         </td> <td>nan                                </td> <td>nan    </td> <td>nan                                                         </td> <td>-      </td> <td>N   </td> <td>Y         </td> <td>N     </td> <td>N     </td> <td>Y      </td> <td>Y   </td> <td>N      </td> <td>Y    </td> <td>Y         </td> <td>Y    </td> <td>Y   </td> <td>Y    </td> <td>Y   </td> <td>N      </td> <td>N   </td> <td>Y     </td> <td>N      </td> <td>N       </td> <td>N   </td> <td>N    </td> <td>N   </td> <td>N     </td> <td>N    </td> <td>Y     </td> <td>N     </td> <td>N     </td> <td>N        </td> <td>Y      </td> <td>N            </td> <td>nan                                                       </td> <td>Y     </td> <td>Y   </td> <td>N      </td> <td>Y    </td> <td>Y   </td> <td>06/25/2016 to 10/01/2016</td> <td>Sat: 9:00 AM-1:00 PM;                       </td> <td>nan        </td> <td>nan        </td> <td>nan        </td> <td>nan        </td> <td>nan        </td> <td>nan        </td>\n        </tr>\n        <tr>\n            <td>100 Mile Market                                 </td> <td>507 Harrison St                                         </td> <td>Kalamazoo </td> <td>Kalamazoo           </td> <td>Michigan            </td> <td>49007</td> <td>-85.5749</td> <td>42.296 </td> <td>http://www.pfcmarkets.com                            </td> <td>https://www.facebook.com/100MileMarket/?fref=ts             </td> <td>nan                                </td> <td>nan    </td> <td>https://www.instagram.com/100milemarket/                    </td> <td>N      </td> <td>N   </td> <td>Y         </td> <td>Y     </td> <td>N     </td> <td>Y      </td> <td>Y   </td> <td>N      </td> <td>Y    </td> <td>Y         </td> <td>Y    </td> <td>Y   </td> <td>Y    </td> <td>Y   </td> <td>N      </td> <td>N   </td> <td>N     </td> <td>Y      </td> <td>Y       </td> <td>Y   </td> <td>N    </td> <td>Y   </td> <td>N     </td> <td>N    </td> <td>Y     </td> <td>Y     </td> <td>N     </td> <td>N        </td> <td>N      </td> <td>N            </td> <td>nan                                                       </td> <td>Y     </td> <td>Y   </td> <td>N      </td> <td>Y    </td> <td>Y   </td> <td>05/04/2016 to 10/12/2016</td> <td>Wed: 3:00 PM-7:00 PM;                       </td> <td>nan        </td> <td>nan        </td> <td>nan        </td> <td>nan        </td> <td>nan        </td> <td>nan        </td>\n        </tr>\n        <tr>\n            <td>106 S. Main Street Farmers Market               </td> <td>106 S. Main Street                                      </td> <td>Six Mile  </td> <td>nan                 </td> <td>South Carolina      </td> <td>29682</td> <td>-82.8187</td> <td>34.8042</td> <td>http://thetownofsixmile.wordpress.com/               </td> <td>nan                                                         </td> <td>nan                                </td> <td>nan    </td> <td>nan                                                         </td> <td>-      </td> <td>N   </td> <td>N         </td> <td>N     </td> <td>N     </td> <td>N      </td> <td>N   </td> <td>N      </td> <td>N    </td> <td>N         </td> <td>N    </td> <td>N   </td> <td>N    </td> <td>N   </td> <td>N      </td> <td>N   </td> <td>N     </td> <td>N      </td> <td>N       </td> <td>N   </td> <td>N    </td> <td>N   </td> <td>N     </td> <td>N    </td> <td>N     </td> <td>N     </td> <td>N     </td> <td>N        </td> <td>N      </td> <td>N            </td> <td>nan                                                       </td> <td>Y     </td> <td>N   </td> <td>N      </td> <td>N    </td> <td>N   </td> <td>nan                     </td> <td>nan                                         </td> <td>nan        </td> <td>nan        </td> <td>nan        </td> <td>nan        </td> <td>nan        </td> <td>nan        </td>\n        </tr>\n        <tr>\n            <td>10th Steet Community Farmers Market             </td> <td>10th Street and Poplar                                  </td> <td>Lamar     </td> <td>Barton              </td> <td>Missouri            </td> <td>64759</td> <td>-94.2746</td> <td>37.4956</td> <td>nan                                                  </td> <td>nan                                                         </td> <td>nan                                </td> <td>nan    </td> <td>http://agrimissouri.com/mo-grown/grodetail.php?type=mo-g ...</td> <td>-      </td> <td>N   </td> <td>Y         </td> <td>N     </td> <td>Y     </td> <td>N      </td> <td>Y   </td> <td>N      </td> <td>Y    </td> <td>Y         </td> <td>Y    </td> <td>Y   </td> <td>N    </td> <td>Y   </td> <td>N      </td> <td>N   </td> <td>Y     </td> <td>Y      </td> <td>Y       </td> <td>Y   </td> <td>N    </td> <td>N   </td> <td>N     </td> <td>N    </td> <td>Y     </td> <td>N     </td> <td>N     </td> <td>N        </td> <td>N      </td> <td>N            </td> <td>nan                                                       </td> <td>Y     </td> <td>N   </td> <td>N      </td> <td>N    </td> <td>N   </td> <td>04/02/2014 to 11/30/2014</td> <td>Wed: 3:00 PM-6:00 PM;Sat: 8:00 AM-1:00 PM;  </td> <td>nan        </td> <td>nan        </td> <td>nan        </td> <td>nan        </td> <td>nan        </td> <td>nan        </td>\n        </tr>\n        <tr>\n            <td>112st Madison Avenue                            </td> <td>112th Madison Avenue                                    </td> <td>New York  </td> <td>New York            </td> <td>New York            </td> <td>10029</td> <td>-73.9493</td> <td>40.7939</td> <td>nan                                                  </td> <td>nan                                                         </td> <td>nan                                </td> <td>nan    </td> <td>nan                                                         </td> <td>-      </td> <td>N   </td> <td>Y         </td> <td>N     </td> <td>Y     </td> <td>Y      </td> <td>N   </td> <td>N      </td> <td>Y    </td> <td>Y         </td> <td>Y    </td> <td>Y   </td> <td>N    </td> <td>N   </td> <td>N      </td> <td>Y   </td> <td>N     </td> <td>N      </td> <td>Y       </td> <td>Y   </td> <td>N    </td> <td>N   </td> <td>N     </td> <td>N    </td> <td>N     </td> <td>N     </td> <td>N     </td> <td>N        </td> <td>N      </td> <td>N            </td> <td>Private business parking lot                              </td> <td>N     </td> <td>N   </td> <td>Y      </td> <td>Y    </td> <td>N   </td> <td>July to November        </td> <td>Tue:8:00 am - 5:00 pm;Sat:8:00 am - 8:00 pm;</td> <td>nan        </td> <td>nan        </td> <td>nan        </td> <td>nan        </td> <td>nan        </td> <td>nan        </td>\n        </tr>\n        <tr>\n            <td>12 South Farmers Market                         </td> <td>3000 Granny White Pike                                  </td> <td>Nashville </td> <td>Davidson            </td> <td>Tennessee           </td> <td>37204</td> <td>-86.7907</td> <td>36.1184</td> <td>http://www.12southfarmersmarket.com                  </td> <td>12_South_Farmers_Market                                     </td> <td>@12southfrmsmkt                    </td> <td>nan    </td> <td>@12southfrmsmkt                                             </td> <td>Y      </td> <td>N   </td> <td>Y         </td> <td>Y     </td> <td>N     </td> <td>Y      </td> <td>Y   </td> <td>N      </td> <td>Y    </td> <td>Y         </td> <td>Y    </td> <td>Y   </td> <td>Y    </td> <td>Y   </td> <td>N      </td> <td>N   </td> <td>N     </td> <td>Y      </td> <td>Y       </td> <td>Y   </td> <td>N    </td> <td>N   </td> <td>Y     </td> <td>N    </td> <td>Y     </td> <td>N     </td> <td>Y     </td> <td>Y        </td> <td>Y      </td> <td>N            </td> <td>nan                                                       </td> <td>Y     </td> <td>N   </td> <td>N      </td> <td>N    </td> <td>Y   </td> <td>05/05/2015 to 10/27/2015</td> <td>Tue: 3:30 PM-6:30 PM;                       </td> <td>nan        </td> <td>nan        </td> <td>nan        </td> <td>nan        </td> <td>nan        </td> <td>nan        </td>\n        </tr>\n        <tr>\n            <td>125th Street Fresh Connect Farmers' Market      </td> <td>163 West 125th Street and Adam Clayton Powell, Jr. Blvd.</td> <td>New York  </td> <td>New York            </td> <td>New York            </td> <td>10027</td> <td>-73.9482</td> <td>40.809 </td> <td>http://www.125thStreetFarmersMarket.com              </td> <td>https://www.facebook.com/125thStreetFarmersMarket           </td> <td>https://twitter.com/FarmMarket125th</td> <td>nan    </td> <td>Instagram--> 125thStreetFarmersMarket                       </td> <td>Y      </td> <td>N   </td> <td>Y         </td> <td>Y     </td> <td>Y     </td> <td>Y      </td> <td>Y   </td> <td>N      </td> <td>Y    </td> <td>Y         </td> <td>Y    </td> <td>Y   </td> <td>Y    </td> <td>Y   </td> <td>N      </td> <td>Y   </td> <td>N     </td> <td>Y      </td> <td>Y       </td> <td>Y   </td> <td>N    </td> <td>Y   </td> <td>Y     </td> <td>N    </td> <td>Y     </td> <td>N     </td> <td>Y     </td> <td>N        </td> <td>N      </td> <td>N            </td> <td>Federal/State government building grounds                 </td> <td>Y     </td> <td>Y   </td> <td>N      </td> <td>Y    </td> <td>Y   </td> <td>06/10/2014 to 11/25/2014</td> <td>Tue: 10:00 AM-7:00 PM;                      </td> <td>nan        </td> <td>nan        </td> <td>nan        </td> <td>nan        </td> <td>nan        </td> <td>nan        </td>\n        </tr>\n        <tr>\n            <td>12th & Brandywine Urban Farm Market             </td> <td>12th & Brandywine Streets                               </td> <td>Wilmington</td> <td>New Castle          </td> <td>Delaware            </td> <td>19801</td> <td>-75.5345</td> <td>39.7421</td> <td>nan                                                  </td> <td>https://www.facebook.com/pages/12th-Brandywine-Urban-Far ...</td> <td>nan                                </td> <td>nan    </td> <td>https://www.facebook.com/delawareurbanfarmcoalition         </td> <td>N      </td> <td>N   </td> <td>N         </td> <td>N     </td> <td>N     </td> <td>N      </td> <td>N   </td> <td>N      </td> <td>Y    </td> <td>Y         </td> <td>N    </td> <td>N   </td> <td>N    </td> <td>N   </td> <td>N      </td> <td>N   </td> <td>N     </td> <td>N      </td> <td>N       </td> <td>N   </td> <td>N    </td> <td>N   </td> <td>N     </td> <td>N    </td> <td>Y     </td> <td>N     </td> <td>N     </td> <td>N        </td> <td>N      </td> <td>N            </td> <td>On a farm from: a barn, a greenhouse, a tent, a stand, etc</td> <td>N     </td> <td>N   </td> <td>N      </td> <td>N    </td> <td>Y   </td> <td>05/16/2014 to 10/17/2014</td> <td>Fri: 8:00 AM-11:00 AM;                      </td> <td>nan        </td> <td>nan        </td> <td>nan        </td> <td>nan        </td> <td>nan        </td> <td>nan        </td>\n        </tr>\n        <tr>\n            <td>14&U Farmers' Market                            </td> <td>1400 U Street NW                                        </td> <td>Washington</td> <td>District of Columbia</td> <td>District of Columbia</td> <td>20009</td> <td>-77.0321</td> <td>38.917 </td> <td>nan                                                  </td> <td>https://www.facebook.com/14UFarmersMarket                   </td> <td>https://twitter.com/14UFarmersMkt  </td> <td>nan    </td> <td>nan                                                         </td> <td>Y      </td> <td>N   </td> <td>Y         </td> <td>Y     </td> <td>N     </td> <td>Y      </td> <td>Y   </td> <td>N      </td> <td>Y    </td> <td>Y         </td> <td>Y    </td> <td>Y   </td> <td>N    </td> <td>Y   </td> <td>N      </td> <td>Y   </td> <td>Y     </td> <td>Y      </td> <td>N       </td> <td>N   </td> <td>N    </td> <td>N   </td> <td>N     </td> <td>Y    </td> <td>Y     </td> <td>Y     </td> <td>Y     </td> <td>N        </td> <td>N      </td> <td>N            </td> <td>Other                                                     </td> <td>Y     </td> <td>Y   </td> <td>Y      </td> <td>Y    </td> <td>Y   </td> <td>05/03/2014 to 11/22/2014</td> <td>Sat: 9:00 AM-1:00 PM;                       </td> <td>nan        </td> <td>nan        </td> <td>nan        </td> <td>nan        </td> <td>nan        </td> <td>nan        </td>\n        </tr>\n    </tbody>\n</table>\n<p>... (8536 rows omitted)</p>"
     },
     "metadata": {}
    }
   ]
  },
  {
   "cell_type": "code",
   "metadata": {
    "deletable": false,
    "editable": false,
    "cell_id": "00039-de6fda49-a17f-4b17-b73c-7fbafee18f58",
    "deepnote_to_be_reexecuted": false,
    "source_hash": "88890290",
    "execution_start": 1655415365427,
    "execution_millis": 50,
    "owner_user_id": "acd79234-d34d-46f3-916d-8366f0a59e44",
    "deepnote_cell_type": "code",
    "deepnote_cell_height": 142,
    "deepnote_output_heights": [
     45
    ]
   },
   "source": "grader.check(\"q34\")",
   "execution_count": null,
   "outputs": [
    {
     "output_type": "execute_result",
     "execution_count": 52,
     "data": {
      "text/plain": "q34 results: All test cases passed!",
      "text/html": "<p><strong><pre style='display: inline;'>q34</pre></strong> passed!</p>"
     },
     "metadata": {}
    }
   ]
  },
  {
   "cell_type": "markdown",
   "source": "Now, suppose we want to answer some questions about farmers' markets in the US. For example, which market(s) have the largest longitude (given by the `x` column)? \n\nTo answer this, we'll sort `farmers_markets_locations` by longitude.",
   "metadata": {
    "cell_id": "00040-f40d6b66-ac8d-474b-a70a-9dbe6b1c4b56",
    "deepnote_cell_type": "markdown",
    "deepnote_cell_height": 111.19999694824219
   }
  },
  {
   "cell_type": "code",
   "metadata": {
    "execution": {
     "iopub.execute_input": "2022-01-24T23:01:30.390105Z",
     "iopub.status.busy": "2022-01-24T23:01:30.389552Z",
     "iopub.status.idle": "2022-01-24T23:01:30.417843Z",
     "shell.execute_reply": "2022-01-24T23:01:30.417220Z"
    },
    "cell_id": "00041-14a001b7-d092-4ddf-9b8f-75e8f4b44429",
    "deepnote_to_be_reexecuted": false,
    "source_hash": "e2c47fc4",
    "execution_start": 1655413765344,
    "execution_millis": 483,
    "deepnote_cell_type": "code",
    "deepnote_cell_height": 586.2000122070312,
    "deepnote_output_heights": [
     49,
     33,
     57,
     33,
     52
    ]
   },
   "source": "farmers_markets_locations.sort('x')",
   "execution_count": null,
   "outputs": [
    {
     "data": {
      "text/plain": "<IPython.core.display.Markdown object>",
      "text/markdown": "## **Uh-o it seems we have an error!**"
     },
     "metadata": {},
     "output_type": "display_data"
    },
    {
     "data": {
      "text/plain": "<IPython.core.display.Markdown object>",
      "text/markdown": "It seems we have a AttributeError. AttributeErrors are usually because of:"
     },
     "metadata": {},
     "output_type": "display_data"
    },
    {
     "data": {
      "text/plain": "<IPython.core.display.Markdown object>",
      "text/markdown": "1. Trying to get an attribute that doesn't exist, or misspelled, i.e \n ` a = Table().with_columns(\"Column 1\", data)` then calling `a.num_row` instead of `a.num_rows` "
     },
     "metadata": {},
     "output_type": "display_data"
    },
    {
     "data": {
      "text/plain": "<IPython.core.display.Markdown object>",
      "text/markdown": "The Data 8 Reference might be helpful to look over for examples and usage: [Data 8 Reference](http://data8.org/fa21/python-reference.html)"
     },
     "metadata": {},
     "output_type": "display_data"
    },
    {
     "data": {
      "text/plain": "<IPython.core.display.Markdown object>",
      "text/markdown": "If you are having more trouble please feel free to consult a staff member at [Office Hours](https://oh.data8.org)                        \n or see the error message below "
     },
     "metadata": {},
     "output_type": "display_data"
    },
    {
     "data": {
      "text/plain": "Accordion(children=(VBox(children=(VBox(children=(Label(value='Was the message you saw useful?'), Dropdown(opt…",
      "application/vnd.jupyter.widget-view+json": {
       "version_major": 2,
       "version_minor": 0,
       "model_id": "5a68c72768ff42699dca850a34a72e37"
      }
     },
     "metadata": {},
     "output_type": "display_data"
    },
    {
     "output_type": "error",
     "ename": "AttributeError",
     "evalue": "'ellipsis' object has no attribute 'sort'",
     "traceback": [
      "\u001b[0;31m---------------------------------------------------------------------------\u001b[0m",
      "\u001b[0;31mAttributeError\u001b[0m                            Traceback (most recent call last)",
      "\u001b[0;32m<ipython-input-23-56b6a52bb87f>\u001b[0m in \u001b[0;36m<cell line: 1>\u001b[0;34m()\u001b[0m\n\u001b[0;32m----> 1\u001b[0;31m \u001b[0mfarmers_markets_locations\u001b[0m\u001b[0;34m.\u001b[0m\u001b[0msort\u001b[0m\u001b[0;34m(\u001b[0m\u001b[0;34m'x'\u001b[0m\u001b[0;34m)\u001b[0m\u001b[0;34m\u001b[0m\u001b[0;34m\u001b[0m\u001b[0m\n\u001b[0m",
      "\u001b[0;31mAttributeError\u001b[0m: 'ellipsis' object has no attribute 'sort'"
     ]
    }
   ]
  },
  {
   "cell_type": "markdown",
   "source": "Oops, that didn't answer our question because we sorted from smallest to largest longitude. To look at the largest longitudes, we'll have to sort in reverse order.",
   "metadata": {
    "cell_id": "00042-ddacce12-06ef-4815-b199-0f9a2cd5efa0",
    "deepnote_cell_type": "markdown",
    "deepnote_cell_height": 74.80000305175781
   }
  },
  {
   "cell_type": "code",
   "metadata": {
    "execution": {
     "iopub.execute_input": "2022-01-24T23:01:30.423356Z",
     "iopub.status.busy": "2022-01-24T23:01:30.422381Z",
     "iopub.status.idle": "2022-01-24T23:01:30.435692Z",
     "shell.execute_reply": "2022-01-24T23:01:30.434994Z"
    },
    "cell_id": "00043-483df4b7-1db2-4663-aef9-e1e0c5bdc534",
    "deepnote_to_be_reexecuted": true,
    "source_hash": "688f3560",
    "deepnote_cell_type": "code",
    "deepnote_cell_height": 81
   },
   "source": "farmers_markets_locations.sort('x', descending=True)",
   "execution_count": null,
   "outputs": []
  },
  {
   "cell_type": "markdown",
   "source": "(The `descending=True` bit is called an *optional argument*. It has a default value of `False`, so when you explicitly tell the function `descending=True`, then the function will sort in descending order.)\n\n### `sort`\n\nSome details about sort:\n\n1. The first argument to `sort` is the name of a column to sort by.\n2. If the column has text in it, `sort` will sort alphabetically; if the column has numbers, it will sort numerically - both in ascending order by default.\n3. The value of `farmers_markets_locations.sort(\"x\")` is a *copy* of `farmers_markets_locations`; the `farmers_markets_locations` table doesn't get modified. For example, if we called `farmers_markets_locations.sort(\"x\")`, then running `farmers_markets_locations` by itself would still return the unsorted table.\n4. Rows always stick together when a table is sorted.  It wouldn't make sense to sort just one column and leave the other columns alone.  For example, in this case, if we sorted just the `x` column, the farmers' markets would all end up with the wrong longitudes.\n\n**Question 3.5.** Create a version of `farmers_markets_locations` that's sorted by **latitude (`y`)**, with the largest latitudes first.  Call it `farmers_markets_locations_by_latitude`.\n\n<!--\nBEGIN QUESTION\nname: q35\n-->",
   "metadata": {
    "deletable": false,
    "editable": false,
    "cell_id": "00044-b5221f36-1b64-491f-9a11-9837189cbf85",
    "deepnote_cell_type": "markdown",
    "deepnote_cell_height": 457.3500061035156
   }
  },
  {
   "cell_type": "code",
   "metadata": {
    "deletable": false,
    "execution": {
     "iopub.execute_input": "2022-01-24T23:01:30.441224Z",
     "iopub.status.busy": "2022-01-24T23:01:30.440274Z",
     "iopub.status.idle": "2022-01-24T23:01:30.453479Z",
     "shell.execute_reply": "2022-01-24T23:01:30.452727Z"
    },
    "scrolled": true,
    "cell_id": "00045-f11ab837-e077-4c4b-bde9-b76c704cf027",
    "deepnote_to_be_reexecuted": true,
    "source_hash": "a8a13cb7",
    "deepnote_cell_type": "code",
    "deepnote_cell_height": 99
   },
   "source": "farmers_markets_locations_by_latitude = ...\nfarmers_markets_locations_by_latitude",
   "execution_count": null,
   "outputs": []
  },
  {
   "cell_type": "code",
   "metadata": {
    "deletable": false,
    "editable": false,
    "cell_id": "00046-a4616d49-72b5-4218-a2d0-595ab4b3d12e",
    "deepnote_to_be_reexecuted": true,
    "source_hash": "3128bf80",
    "deepnote_cell_type": "code",
    "deepnote_cell_height": 81
   },
   "source": "grader.check(\"q35\")",
   "execution_count": null,
   "outputs": []
  },
  {
   "cell_type": "markdown",
   "source": "Now let's say we want a table of all farmers' markets in California. Sorting won't help us much here because California  is closer to the middle of the dataset.\n\nInstead, we use the table method `where`.",
   "metadata": {
    "cell_id": "00047-39d67508-5567-43f3-9526-a58781240698",
    "deepnote_cell_type": "markdown",
    "deepnote_cell_height": 111.19999694824219
   }
  },
  {
   "cell_type": "code",
   "metadata": {
    "deletable": false,
    "execution": {
     "iopub.execute_input": "2022-01-24T23:01:30.517660Z",
     "iopub.status.busy": "2022-01-24T23:01:30.516710Z",
     "iopub.status.idle": "2022-01-24T23:01:30.523461Z",
     "shell.execute_reply": "2022-01-24T23:01:30.522645Z"
    },
    "cell_id": "00048-d4de7574-9e82-47de-a4ae-a3d145260d71",
    "deepnote_to_be_reexecuted": true,
    "source_hash": "7dc9cfe7",
    "deepnote_cell_type": "code",
    "deepnote_cell_height": 99
   },
   "source": "california_farmers_markets = farmers_markets_locations.where('State', are.equal_to('California'))\ncalifornia_farmers_markets",
   "execution_count": null,
   "outputs": []
  },
  {
   "cell_type": "markdown",
   "source": "Ignore the syntax for the moment.  Instead, try to read that line like this:\n\n> Assign the name **`california_farmers_markets`** to a table whose rows are the rows in the **`farmers_markets_locations`** table **`where`** the **`\"State\"`** **`are equal to` `\"California\"`**.",
   "metadata": {
    "cell_id": "00049-a84f68f8-52a3-4672-992c-a3328b13a526",
    "deepnote_cell_type": "markdown",
    "deepnote_cell_height": 125.19999694824219
   }
  },
  {
   "cell_type": "markdown",
   "source": "### `where`\n\nNow let's dive into the details a bit more.  `where` takes 2 arguments:\n\n1. The name of a column.  `where` finds rows where that column's values meet some criterion.\n2. A predicate that describes the criterion that the column needs to meet.\n\nThe predicate in the example above called the function `are.equal_to` with the value we wanted, 'California'.  We'll see other predicates soon.\n\n`where` returns a table that's a copy of the original table, but **with only the rows that meet the given predicate**.",
   "metadata": {
    "cell_id": "00050-f4cf4e19-3c79-4b21-ae7c-ea4f1429c8a2",
    "deepnote_cell_type": "markdown",
    "deepnote_cell_height": 258.1499938964844
   }
  },
  {
   "cell_type": "markdown",
   "source": "**Question 3.6.** Use `california_farmers_markets` to create a table called `berkeley_markets` containing farmers' markets in Berkeley, California.\n<!--\nBEGIN QUESTION\nname: q36\n-->",
   "metadata": {
    "deletable": false,
    "editable": false,
    "cell_id": "00051-790bd869-19c5-4e62-971b-9fe0ccd87d96",
    "deepnote_cell_type": "markdown",
    "deepnote_cell_height": 88.80000305175781
   }
  },
  {
   "cell_type": "code",
   "metadata": {
    "deletable": false,
    "execution": {
     "iopub.execute_input": "2022-01-24T23:01:30.531885Z",
     "iopub.status.busy": "2022-01-24T23:01:30.531041Z",
     "iopub.status.idle": "2022-01-24T23:01:30.535021Z",
     "shell.execute_reply": "2022-01-24T23:01:30.534280Z"
    },
    "cell_id": "00052-7e13faf1-44c1-4fe5-81de-79bcaf1c2d52",
    "deepnote_to_be_reexecuted": true,
    "source_hash": "3497026a",
    "deepnote_cell_type": "code",
    "deepnote_cell_height": 99
   },
   "source": "berkeley_markets = ...\nberkeley_markets",
   "execution_count": null,
   "outputs": []
  },
  {
   "cell_type": "code",
   "metadata": {
    "deletable": false,
    "editable": false,
    "cell_id": "00053-b1282af3-98fe-4ac1-97d2-a20faf0617a0",
    "deepnote_to_be_reexecuted": true,
    "source_hash": "a342a409",
    "deepnote_cell_type": "code",
    "deepnote_cell_height": 81
   },
   "source": "grader.check(\"q36\")",
   "execution_count": null,
   "outputs": []
  },
  {
   "cell_type": "markdown",
   "source": "So far we've only been using `where` with the predicate that requires finding the values in a column to be *exactly* equal to a certain value. However, there are many other predicates. Here are a few:\n\n|Predicate|Example|Result|\n|-|-|-|\n|`are.equal_to`|`are.equal_to(50)`|Find rows with values equal to 50|\n|`are.not_equal_to`|`are.not_equal_to(50)`|Find rows with values not equal to 50|\n|`are.above`|`are.above(50)`|Find rows with values above (and not equal to) 50|\n|`are.above_or_equal_to`|`are.above_or_equal_to(50)`|Find rows with values above 50 or equal to 50|\n|`are.below`|`are.below(50)`|Find rows with values below 50|\n|`are.between`|`are.between(2, 10)`|Find rows with values above or equal to 2 and below 10|\n|`are.between_or_equal_to`|`are.between_or_equal_to(2, 10)`|Find rows with values above or equal to 2 and below or equal to 10|",
   "metadata": {
    "cell_id": "00054-8158a12b-b5fe-45ee-93a6-a9a3ea9a79d3",
    "deepnote_cell_type": "markdown",
    "deepnote_cell_height": 306.3999938964844
   }
  },
  {
   "cell_type": "markdown",
   "source": "## 4. Analyzing a dataset\n\nNow that you're familiar with table operations, let’s answer an interesting question about a dataset!\n\nRun the cell below to load the `imdb` table. It contains information about the 250 highest-rated movies on IMDb.",
   "metadata": {
    "cell_id": "00055-2ebe4be2-41e9-40f6-b403-cae997193a06",
    "deepnote_cell_type": "markdown",
    "deepnote_cell_height": 144.8000030517578
   }
  },
  {
   "cell_type": "code",
   "metadata": {
    "deletable": false,
    "execution": {
     "iopub.execute_input": "2022-01-24T23:01:30.559408Z",
     "iopub.status.busy": "2022-01-24T23:01:30.558489Z",
     "iopub.status.idle": "2022-01-24T23:01:30.568489Z",
     "shell.execute_reply": "2022-01-24T23:01:30.568911Z"
    },
    "scrolled": true,
    "cell_id": "00056-8d639e55-59b8-4195-acb1-a384d099485c",
    "deepnote_to_be_reexecuted": true,
    "source_hash": "abddf210",
    "execution_start": 1655366507438,
    "execution_millis": 3,
    "deepnote_cell_type": "code",
    "deepnote_cell_height": 504,
    "deepnote_output_heights": [
     353
    ]
   },
   "source": "# Just run this cell\n\nimdb = Table.read_table('imdb.csv')\nimdb",
   "execution_count": null,
   "outputs": [
    {
     "output_type": "execute_result",
     "execution_count": 5,
     "data": {
      "text/plain": "Votes  | Rating | Title                 | Year | Decade\n88355  | 8.4    | M                     | 1931 | 1930\n132823 | 8.3    | Singin' in the Rain   | 1952 | 1950\n74178  | 8.3    | All About Eve         | 1950 | 1950\n635139 | 8.6    | Léon                  | 1994 | 1990\n145514 | 8.2    | The Elephant Man      | 1980 | 1980\n425461 | 8.3    | Full Metal Jacket     | 1987 | 1980\n441174 | 8.1    | Gone Girl             | 2014 | 2010\n850601 | 8.3    | Batman Begins         | 2005 | 2000\n37664  | 8.2    | Judgment at Nuremberg | 1961 | 1960\n46987  | 8      | Relatos salvajes      | 2014 | 2010\n... (240 rows omitted)",
      "text/html": "<table border=\"1\" class=\"dataframe\">\n    <thead>\n        <tr>\n            <th>Votes</th> <th>Rating</th> <th>Title</th> <th>Year</th> <th>Decade</th>\n        </tr>\n    </thead>\n    <tbody>\n        <tr>\n            <td>88355 </td> <td>8.4   </td> <td>M                    </td> <td>1931</td> <td>1930  </td>\n        </tr>\n        <tr>\n            <td>132823</td> <td>8.3   </td> <td>Singin' in the Rain  </td> <td>1952</td> <td>1950  </td>\n        </tr>\n        <tr>\n            <td>74178 </td> <td>8.3   </td> <td>All About Eve        </td> <td>1950</td> <td>1950  </td>\n        </tr>\n        <tr>\n            <td>635139</td> <td>8.6   </td> <td>Léon                 </td> <td>1994</td> <td>1990  </td>\n        </tr>\n        <tr>\n            <td>145514</td> <td>8.2   </td> <td>The Elephant Man     </td> <td>1980</td> <td>1980  </td>\n        </tr>\n        <tr>\n            <td>425461</td> <td>8.3   </td> <td>Full Metal Jacket    </td> <td>1987</td> <td>1980  </td>\n        </tr>\n        <tr>\n            <td>441174</td> <td>8.1   </td> <td>Gone Girl            </td> <td>2014</td> <td>2010  </td>\n        </tr>\n        <tr>\n            <td>850601</td> <td>8.3   </td> <td>Batman Begins        </td> <td>2005</td> <td>2000  </td>\n        </tr>\n        <tr>\n            <td>37664 </td> <td>8.2   </td> <td>Judgment at Nuremberg</td> <td>1961</td> <td>1960  </td>\n        </tr>\n        <tr>\n            <td>46987 </td> <td>8     </td> <td>Relatos salvajes     </td> <td>2014</td> <td>2010  </td>\n        </tr>\n    </tbody>\n</table>\n<p>... (240 rows omitted)</p>"
     },
     "metadata": {}
    }
   ]
  },
  {
   "cell_type": "markdown",
   "source": "Often, we want to perform multiple operations - sorting, filtering, or others - in order to turn a table we have into something more useful. You can do these operations one by one, e.g.\n\n```\nfirst_step = original_tbl.where(“col1”, are.equal_to(12))\nsecond_step = first_step.sort(‘col2’, descending=True)\n```\n\nHowever, since the value of the expression `original_tbl.where(“col1”, are.equal_to(12))` is itself a table, you can just call a table method on it:\n\n```\noriginal_tbl.where(“col1”, are.equal_to(12)).sort(‘col2’, descending=True)\n```\nYou should organize your work in the way that makes the most sense to you, using informative names for any intermediate tables you create. ",
   "metadata": {
    "cell_id": "00057-3a89ea0d-ed08-438f-b398-522f6cfeb081",
    "deepnote_cell_type": "markdown",
    "deepnote_cell_height": 294.79998779296875
   }
  },
  {
   "cell_type": "markdown",
   "source": "**Question 4.1.** Create a table of movies released between 2010 and 2015 (inclusive) with ratings above 8. The table should only contain the columns `Title` and `Rating`, **in that order**.\n\nAssign the table to the name `above_eight`.\n\n*Hint:* Think about the steps you need to take, and try to put them in an order that make sense. Feel free to create intermediate tables for each step, but please make sure you assign your final table the name `above_eight`!\n\n<!--\nBEGIN QUESTION\nname: q41\n-->",
   "metadata": {
    "deletable": false,
    "editable": false,
    "cell_id": "00058-e93907d0-7183-48bf-b053-3f4389d90a70",
    "deepnote_cell_type": "markdown",
    "deepnote_cell_height": 184
   }
  },
  {
   "cell_type": "code",
   "metadata": {
    "deletable": false,
    "execution": {
     "iopub.execute_input": "2022-01-24T23:01:30.578244Z",
     "iopub.status.busy": "2022-01-24T23:01:30.577652Z",
     "iopub.status.idle": "2022-01-24T23:01:30.609679Z",
     "shell.execute_reply": "2022-01-24T23:01:30.581364Z"
    },
    "cell_id": "00059-a7cbebd3-d34c-49bb-9c13-74f9a34e0473",
    "deepnote_to_be_reexecuted": true,
    "source_hash": "287863a4",
    "deepnote_cell_type": "code",
    "deepnote_cell_height": 99
   },
   "source": "above_eight = ...\nabove_eight",
   "execution_count": null,
   "outputs": []
  },
  {
   "cell_type": "code",
   "metadata": {
    "deletable": false,
    "editable": false,
    "cell_id": "00060-97c6b1fd-50c2-4af6-89b2-4be26c985133",
    "deepnote_to_be_reexecuted": true,
    "source_hash": "e1ed7d83",
    "deepnote_cell_type": "code",
    "deepnote_cell_height": 81
   },
   "source": "grader.check(\"q41\")",
   "execution_count": null,
   "outputs": []
  },
  {
   "cell_type": "markdown",
   "source": "**Question 4.2.** Use `num_rows` (and arithmetic) to find the *proportion* of movies in the dataset that were released 1900-1999, and the *proportion* of movies in the dataset that were released in the year 2000 or later.\n\nAssign `proportion_in_20th_century` to the proportion of movies in the dataset that were released 1900-1999, and `proportion_in_21st_century` to the proportion of movies in the dataset that were released in the year 2000 or later.\n\n*Hint:* The *proportion* of movies released in the 1900's is the *number* of movies released in the 1900's, divided by the *total number* of movies.\n\n<!--\nBEGIN QUESTION\nname: q42\n-->",
   "metadata": {
    "deletable": false,
    "editable": false,
    "cell_id": "00061-63012f25-0b91-42a1-9d2a-3269cb0e71e5",
    "deepnote_cell_type": "markdown",
    "deepnote_cell_height": 206.39999389648438
   }
  },
  {
   "cell_type": "code",
   "metadata": {
    "deletable": false,
    "execution": {
     "iopub.execute_input": "2022-01-24T23:01:30.642375Z",
     "iopub.status.busy": "2022-01-24T23:01:30.639831Z",
     "iopub.status.idle": "2022-01-24T23:01:30.646015Z",
     "shell.execute_reply": "2022-01-24T23:01:30.645479Z"
    },
    "cell_id": "00062-b6566e2c-0453-4ac6-b82a-3c3d4896ddaa",
    "deepnote_to_be_reexecuted": true,
    "source_hash": "f1d25a86",
    "deepnote_cell_type": "code",
    "deepnote_cell_height": 189
   },
   "source": "num_movies_in_dataset = ...\nnum_in_20th_century = ...\nnum_in_21st_century = ...\nproportion_in_20th_century = ...\nproportion_in_21st_century = ...\nprint(\"Proportion in 20th century:\", proportion_in_20th_century)\nprint(\"Proportion in 21st century:\", proportion_in_21st_century)",
   "execution_count": null,
   "outputs": []
  },
  {
   "cell_type": "code",
   "metadata": {
    "deletable": false,
    "editable": false,
    "cell_id": "00063-945aa107-c997-431f-92bb-0dbc5dcf4b85",
    "deepnote_to_be_reexecuted": true,
    "source_hash": "794b69da",
    "deepnote_cell_type": "code",
    "deepnote_cell_height": 81
   },
   "source": "grader.check(\"q42\")",
   "execution_count": null,
   "outputs": []
  },
  {
   "cell_type": "markdown",
   "source": "## 5. Summary\n\nFor your reference, here's a table of all the functions and methods we saw in this lab. We'll learn more methods to add to this table in the coming week!\n\n|Name|Example|Purpose|\n|-|-|-|\n|`sort`|`tbl.sort(\"N\")`|Create a copy of a table sorted by the values in a column|\n|`where`|`tbl.where(\"N\", are.above(2))`|Create a copy of a table with only the rows that match some *predicate*|\n|`num_rows`|`tbl.num_rows`|Compute the number of rows in a table|\n|`num_columns`|`tbl.num_columns`|Compute the number of columns in a table|\n|`select`|`tbl.select(\"N\")`|Create a copy of a table with only some of the columns|\n|`drop`|`tbl.drop(\"N\")`|Create a copy of a table without some of the columns|",
   "metadata": {
    "cell_id": "00064-32a8c430-597c-48d5-87b8-4eed3788c538",
    "deepnote_cell_type": "markdown",
    "deepnote_cell_height": 315.6000061035156
   }
  },
  {
   "cell_type": "markdown",
   "source": "\n## 6. Lab Attendance Checkoff\n\nLet an AI or GSI know you are ready for checkoff on [lab.data8.org](https://lab.data8.org/). Explain the difference between the `.sort` and `.where` table manipulations.\n\n---\n\nYou're done with Lab 2! To double-check your work, the cell below will rerun all of the autograder tests.",
   "metadata": {
    "cell_id": "00065-94dd832b-50d6-489c-bfaa-9dfa7812ed36",
    "deepnote_cell_type": "markdown",
    "deepnote_cell_height": 168.1999969482422
   }
  },
  {
   "cell_type": "markdown",
   "source": "**Important submission information:** Be sure to run all the tests and verify that they all pass, then choose **Save** from the **File** menu, then **run the final cell** and click the link to download the zip file. Then, go to [Gradescope](https://www.gradescope.com/courses/349879) and submit the zip file to the corresponding assignment. The name of this assignment is \"Lab 02 Autograder\". **It is your responsibility to make sure your work is saved before running the last cell.**\n\nShah and Katsu wanted to congratulate you on finishing lab 2! \n\n![Katsu_Shah](shah_katsu.png)",
   "metadata": {
    "cell_id": "00066-8fe041bc-8798-489d-ae5a-7af14494687c",
    "deepnote_cell_type": "markdown",
    "deepnote_cell_height": 601
   }
  },
  {
   "cell_type": "markdown",
   "source": "---\n\nTo double-check your work, the cell below will rerun all of the autograder tests.",
   "metadata": {
    "deletable": false,
    "editable": false,
    "cell_id": "00067-6b00997b-0ef6-4d22-a367-992cd3ff96c6",
    "deepnote_cell_type": "markdown",
    "deepnote_cell_height": 53.399993896484375
   }
  },
  {
   "cell_type": "code",
   "metadata": {
    "deletable": false,
    "editable": false,
    "cell_id": "00068-b2e0ee66-bf48-4765-9006-291253d73ac6",
    "deepnote_to_be_reexecuted": true,
    "source_hash": "3e4d35bc",
    "execution_start": 1655366448399,
    "execution_millis": 108,
    "deepnote_cell_type": "code",
    "deepnote_cell_height": 708,
    "deepnote_output_heights": [
     611
    ]
   },
   "source": "grader.check_all()",
   "execution_count": null,
   "outputs": [
    {
     "output_type": "execute_result",
     "execution_count": 4,
     "data": {
      "text/plain": "q11 results:\n    q11 - 1 result:\n        Trying:\n            new_year\n        Expecting:\n            2022\n        **********************************************************************\n        Line 1, in q11 0\n        Failed example:\n            new_year\n        Exception raised:\n            Traceback (most recent call last):\n              File \"/usr/local/lib/python3.9/doctest.py\", line 1334, in __run\n                exec(compile(example.source, filename, \"single\",\n              File \"<doctest q11 0[0]>\", line 1, in <module>\n                new_year\n            NameError: name 'new_year' is not defined\n\nq21 results:\n    q21 - 1 result:\n        Trying:\n            round(near_twenty, 8)\n        Expecting:\n            19.99909998\n        **********************************************************************\n        Line 1, in q21 0\n        Failed example:\n            round(near_twenty, 8)\n        Exception raised:\n            Traceback (most recent call last):\n              File \"/usr/local/lib/python3.9/doctest.py\", line 1334, in __run\n                exec(compile(example.source, filename, \"single\",\n              File \"<doctest q21 0[0]>\", line 1, in <module>\n                round(near_twenty, 8)\n            NameError: name 'near_twenty' is not defined\n\nq211 results:\n    q211 - 1 result:\n        Trying:\n            import math\n        Expecting nothing\n        ok\n        Trying:\n            floor_of_pi == 3\n        Expecting:\n            True\n        **********************************************************************\n        Line 2, in q211 0\n        Failed example:\n            floor_of_pi == 3\n        Exception raised:\n            Traceback (most recent call last):\n              File \"/usr/local/lib/python3.9/doctest.py\", line 1334, in __run\n                exec(compile(example.source, filename, \"single\",\n              File \"<doctest q211 0[1]>\", line 1, in <module>\n                floor_of_pi == 3\n            NameError: name 'floor_of_pi' is not defined\n\nq32 results:\n    q32 - 1 result:\n        Trying:\n            num_farmers_markets_columns == 59\n        Expecting:\n            True\n        **********************************************************************\n        Line 1, in q32 0\n        Failed example:\n            num_farmers_markets_columns == 59\n        Exception raised:\n            Traceback (most recent call last):\n              File \"/usr/local/lib/python3.9/doctest.py\", line 1334, in __run\n                exec(compile(example.source, filename, \"single\",\n              File \"<doctest q32 0[0]>\", line 1, in <module>\n                num_farmers_markets_columns == 59\n            NameError: name 'num_farmers_markets_columns' is not defined\n\nq33 results:\n    q33 - 1 result:\n        Trying:\n            sorted(farmers_markets_locations.labels)\n        Expecting:\n            ['MarketName', 'State', 'city', 'x', 'y']\n        **********************************************************************\n        Line 1, in q33 0\n        Failed example:\n            sorted(farmers_markets_locations.labels)\n        Exception raised:\n            Traceback (most recent call last):\n              File \"/usr/local/lib/python3.9/doctest.py\", line 1334, in __run\n                exec(compile(example.source, filename, \"single\",\n              File \"<doctest q33 0[0]>\", line 1, in <module>\n                sorted(farmers_markets_locations.labels)\n            NameError: name 'farmers_markets_locations' is not defined\n\n    q33 - 2 result:\n        Trying:\n            farmers_markets_locations.num_rows == 8546\n        Expecting:\n            True\n        **********************************************************************\n        Line 1, in q33 1\n        Failed example:\n            farmers_markets_locations.num_rows == 8546\n        Exception raised:\n            Traceback (most recent call last):\n              File \"/usr/local/lib/python3.9/doctest.py\", line 1334, in __run\n                exec(compile(example.source, filename, \"single\",\n              File \"<doctest q33 1[0]>\", line 1, in <module>\n                farmers_markets_locations.num_rows == 8546\n            NameError: name 'farmers_markets_locations' is not defined\n\nq34 results:\n    q34 - 1 result:\n        Trying:\n            farmers_markets_without_fmid.num_columns\n        Expecting:\n            57\n        **********************************************************************\n        Line 1, in q34 0\n        Failed example:\n            farmers_markets_without_fmid.num_columns\n        Exception raised:\n            Traceback (most recent call last):\n              File \"/usr/local/lib/python3.9/doctest.py\", line 1334, in __run\n                exec(compile(example.source, filename, \"single\",\n              File \"<doctest q34 0[0]>\", line 1, in <module>\n                farmers_markets_without_fmid.num_columns\n            NameError: name 'farmers_markets_without_fmid' is not defined\n\n    q34 - 2 result:\n        Trying:\n            print(sorted(farmers_markets_without_fmid.labels))\n        Expecting:\n            ['Bakedgoods', 'Beans', 'Cheese', 'Coffee', 'County', 'Crafts', 'Credit', 'Eggs', 'Facebook', 'Flowers', 'Fruits', 'Grains', 'Herbs', 'Honey', 'Jams', 'Juices', 'Location', 'Maple', 'MarketName', 'Meat', 'Mushrooms', 'Nursery', 'Nuts', 'Organic', 'OtherMedia', 'PetFood', 'Plants', 'Poultry', 'Prepared', 'SFMNP', 'SNAP', 'Seafood', 'Season1Date', 'Season1Time', 'Season2Date', 'Season2Time', 'Season3Date', 'Season3Time', 'Season4Date', 'Season4Time', 'Soap', 'State', 'Tofu', 'Trees', 'Twitter', 'Vegetables', 'WIC', 'WICcash', 'Website', 'WildHarvested', 'Wine', 'Youtube', 'city', 'street', 'x', 'y', 'zip']\n        **********************************************************************\n        Line 1, in q34 1\n        Failed example:\n            print(sorted(farmers_markets_without_fmid.labels))\n        Exception raised:\n            Traceback (most recent call last):\n              File \"/usr/local/lib/python3.9/doctest.py\", line 1334, in __run\n                exec(compile(example.source, filename, \"single\",\n              File \"<doctest q34 1[0]>\", line 1, in <module>\n                print(sorted(farmers_markets_without_fmid.labels))\n            NameError: name 'farmers_markets_without_fmid' is not defined\n\nq35 results:\n    q35 - 1 result:\n        Trying:\n            type(farmers_markets_locations_by_latitude) == tables.Table\n        Expecting:\n            True\n        **********************************************************************\n        Line 1, in q35 0\n        Failed example:\n            type(farmers_markets_locations_by_latitude) == tables.Table\n        Exception raised:\n            Traceback (most recent call last):\n              File \"/usr/local/lib/python3.9/doctest.py\", line 1334, in __run\n                exec(compile(example.source, filename, \"single\",\n              File \"<doctest q35 0[0]>\", line 1, in <module>\n                type(farmers_markets_locations_by_latitude) == tables.Table\n            NameError: name 'farmers_markets_locations_by_latitude' is not defined\n\n    q35 - 2 result:\n        Trying:\n            list(farmers_markets_locations_by_latitude.column('y').take(range(3)))\n        Expecting:\n            [64.86275, 64.8459, 64.844414]\n        **********************************************************************\n        Line 2, in q35 1\n        Failed example:\n            list(farmers_markets_locations_by_latitude.column('y').take(range(3)))\n        Exception raised:\n            Traceback (most recent call last):\n              File \"/usr/local/lib/python3.9/doctest.py\", line 1334, in __run\n                exec(compile(example.source, filename, \"single\",\n              File \"<doctest q35 1[0]>\", line 1, in <module>\n                list(farmers_markets_locations_by_latitude.column('y').take(range(3)))\n            NameError: name 'farmers_markets_locations_by_latitude' is not defined\n\nq36 results:\n    q36 - 1 result:\n        Trying:\n            berkeley_markets.num_rows == 3\n        Expecting:\n            True\n        **********************************************************************\n        Line 1, in q36 0\n        Failed example:\n            berkeley_markets.num_rows == 3\n        Exception raised:\n            Traceback (most recent call last):\n              File \"/usr/local/lib/python3.9/doctest.py\", line 1334, in __run\n                exec(compile(example.source, filename, \"single\",\n              File \"<doctest q36 0[0]>\", line 1, in <module>\n                berkeley_markets.num_rows == 3\n            NameError: name 'berkeley_markets' is not defined\n\n    q36 - 2 result:\n        Trying:\n            list(berkeley_markets.column('city')) == ['Berkeley', 'Berkeley', 'Berkeley']\n        Expecting:\n            True\n        **********************************************************************\n        Line 1, in q36 1\n        Failed example:\n            list(berkeley_markets.column('city')) == ['Berkeley', 'Berkeley', 'Berkeley']\n        Exception raised:\n            Traceback (most recent call last):\n              File \"/usr/local/lib/python3.9/doctest.py\", line 1334, in __run\n                exec(compile(example.source, filename, \"single\",\n              File \"<doctest q36 1[0]>\", line 1, in <module>\n                list(berkeley_markets.column('city')) == ['Berkeley', 'Berkeley', 'Berkeley']\n            NameError: name 'berkeley_markets' is not defined\n\nq41 results:\n    q41 - 1 result:\n        Trying:\n            type(above_eight) == tables.Table\n        Expecting:\n            True\n        **********************************************************************\n        Line 1, in q41 0\n        Failed example:\n            type(above_eight) == tables.Table\n        Exception raised:\n            Traceback (most recent call last):\n              File \"/usr/local/lib/python3.9/doctest.py\", line 1334, in __run\n                exec(compile(example.source, filename, \"single\",\n              File \"<doctest q41 0[0]>\", line 1, in <module>\n                type(above_eight) == tables.Table\n            NameError: name 'above_eight' is not defined\n\n    q41 - 2 result:\n        Trying:\n            above_eight.num_rows == 20\n        Expecting:\n            True\n        **********************************************************************\n        Line 1, in q41 1\n        Failed example:\n            above_eight.num_rows == 20\n        Exception raised:\n            Traceback (most recent call last):\n              File \"/usr/local/lib/python3.9/doctest.py\", line 1334, in __run\n                exec(compile(example.source, filename, \"single\",\n              File \"<doctest q41 1[0]>\", line 1, in <module>\n                above_eight.num_rows == 20\n            NameError: name 'above_eight' is not defined\n\n    q41 - 3 result:\n        Trying:\n            print(above_eight.sort(0).take([17]))\n        Expecting:\n            Title       | Rating\n            Toy Story 3 | 8.3\n        **********************************************************************\n        Line 3, in q41 2\n        Failed example:\n            print(above_eight.sort(0).take([17]))\n        Exception raised:\n            Traceback (most recent call last):\n              File \"/usr/local/lib/python3.9/doctest.py\", line 1334, in __run\n                exec(compile(example.source, filename, \"single\",\n              File \"<doctest q41 2[0]>\", line 1, in <module>\n                print(above_eight.sort(0).take([17]))\n            NameError: name 'above_eight' is not defined\n\nq42 results:\n    q42 - 1 result:\n        Trying:\n            proportion_in_20th_century == 0.684\n        Expecting:\n            True\n        **********************************************************************\n        Line 1, in q42 0\n        Failed example:\n            proportion_in_20th_century == 0.684\n        Exception raised:\n            Traceback (most recent call last):\n              File \"/usr/local/lib/python3.9/doctest.py\", line 1334, in __run\n                exec(compile(example.source, filename, \"single\",\n              File \"<doctest q42 0[0]>\", line 1, in <module>\n                proportion_in_20th_century == 0.684\n            NameError: name 'proportion_in_20th_century' is not defined\n\n    q42 - 2 result:\n        Trying:\n            proportion_in_21st_century == 0.316\n        Expecting:\n            True\n        **********************************************************************\n        Line 1, in q42 1\n        Failed example:\n            proportion_in_21st_century == 0.316\n        Exception raised:\n            Traceback (most recent call last):\n              File \"/usr/local/lib/python3.9/doctest.py\", line 1334, in __run\n                exec(compile(example.source, filename, \"single\",\n              File \"<doctest q42 1[0]>\", line 1, in <module>\n                proportion_in_21st_century == 0.316\n            NameError: name 'proportion_in_21st_century' is not defined"
     },
     "metadata": {}
    }
   ]
  },
  {
   "cell_type": "markdown",
   "source": "## Submission\n\nMake sure you have run all cells in your notebook in order before running the cell below, so that all images/graphs appear in the output. The cell below will generate a zip file for you to submit. **Please save before exporting!**",
   "metadata": {
    "deletable": false,
    "editable": false,
    "cell_id": "00069-4b429e08-c3c5-43ff-889a-801b11f87b1e",
    "deepnote_cell_type": "markdown",
    "deepnote_cell_height": 130.8000030517578
   }
  },
  {
   "cell_type": "code",
   "metadata": {
    "deletable": false,
    "editable": false,
    "cell_id": "00070-95627705-5603-4785-a5c1-c56eed4168f1",
    "deepnote_to_be_reexecuted": true,
    "source_hash": "840e29cf",
    "execution_start": 1655366434915,
    "execution_millis": 2,
    "deepnote_cell_type": "code",
    "deepnote_cell_height": 166,
    "deepnote_output_heights": [
     33
    ]
   },
   "source": "# Save your notebook first, then run this cell to export your submission.\n# Send this PDF to Carlos\ngrader.export(pdf=False)",
   "execution_count": null,
   "outputs": [
    {
     "data": {
      "text/plain": "<IPython.core.display.HTML object>",
      "text/html": "\n            <p>Your submission has been exported. Click <a href=\"lab02_2022_06_16T08_00_34_876219.zip\" download=\"lab02_2022_06_16T08_00_34_876219.zip\" target=\"_blank\">here</a>\n            to download the zip file.</p>\n            "
     },
     "metadata": {},
     "output_type": "display_data"
    }
   ]
  },
  {
   "cell_type": "markdown",
   "source": " ",
   "metadata": {
    "cell_id": "00071-2ff25adb-8881-4c37-83b1-fa90429412bc",
    "deepnote_cell_type": "markdown",
    "deepnote_cell_height": 46
   }
  },
  {
   "cell_type": "markdown",
   "source": "<a style='text-decoration:none;line-height:16px;display:flex;color:#5B5B62;padding:10px;justify-content:end;' href='https://deepnote.com?utm_source=created-in-deepnote-cell&projectId=ef6c0823-e062-4ba0-8bfb-7690ef03f945' target=\"_blank\">\n<img alt='Created in deepnote.com' style='display:inline;max-height:16px;margin:0px;margin-right:7.5px;' src='data:image/svg+xml;base64,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' > </img>\nCreated in <span style='font-weight:600;margin-left:4px;'>Deepnote</span></a>",
   "metadata": {
    "tags": [],
    "created_in_deepnote_cell": true,
    "deepnote_cell_type": "markdown"
   }
  }
 ],
 "nbformat": 4,
 "nbformat_minor": 5,
 "metadata": {
  "kernelspec": {
   "display_name": "Python 3",
   "language": "python",
   "name": "python3"
  },
  "language_info": {
   "codemirror_mode": {
    "name": "ipython",
    "version": 3
   },
   "file_extension": ".py",
   "mimetype": "text/x-python",
   "name": "python",
   "nbconvert_exporter": "python",
   "pygments_lexer": "ipython3",
   "version": "3.9.9"
  },
  "deepnote_notebook_id": "fc709cb3-7815-4aff-b5c5-6aa9607f68cc",
  "deepnote": {},
  "deepnote_execution_queue": []
 }
}