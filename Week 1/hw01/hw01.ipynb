{
 "cells": [
  {
   "cell_type": "code",
   "metadata": {
    "deletable": false,
    "editable": false,
    "cell_id": "4c8b694e-7b2d-4193-8ff5-d2bc14ffd89c",
    "deepnote_to_be_reexecuted": false,
    "source_hash": "b8d4cd0e",
    "execution_start": 1655749541996,
    "execution_millis": 6534,
    "deepnote_cell_type": "code",
    "deepnote_cell_height": 755
   },
   "source": "# Initialize Otter\n!pip install otter-grader\nimport otter\ngrader = otter.Notebook(\"hw01.ipynb\")",
   "execution_count": 1,
   "outputs": [
    {
     "name": "stdout",
     "text": "Collecting otter-grader\n  Downloading otter_grader-3.3.0-py3-none-any.whl (165 kB)\n\u001b[2K     \u001b[90m━━━━━━━━━━━━━━━━━━━━━━━━━━━━━━━━━━━━━━\u001b[0m \u001b[32m166.0/166.0 KB\u001b[0m \u001b[31m20.9 MB/s\u001b[0m eta \u001b[36m0:00:00\u001b[0m\n\u001b[?25hRequirement already satisfied: pandas in /shared-libs/python3.9/py/lib/python3.9/site-packages (from otter-grader) (1.2.5)\nRequirement already satisfied: nbformat in /shared-libs/python3.9/py-core/lib/python3.9/site-packages (from otter-grader) (5.1.3)\nCollecting gspread\n  Downloading gspread-5.4.0-py3-none-any.whl (37 kB)\nRequirement already satisfied: nbconvert in /shared-libs/python3.9/py-core/lib/python3.9/site-packages (from otter-grader) (6.0.7)\nCollecting PyPDF2\n  Downloading PyPDF2-2.3.1-py3-none-any.whl (198 kB)\n\u001b[2K     \u001b[90m━━━━━━━━━━━━━━━━━━━━━━━━━━━━━━━━━━━━━━\u001b[0m \u001b[32m198.4/198.4 KB\u001b[0m \u001b[31m33.8 MB/s\u001b[0m eta \u001b[36m0:00:00\u001b[0m\n\u001b[?25hCollecting PyYAML\n  Downloading PyYAML-6.0-cp39-cp39-manylinux_2_5_x86_64.manylinux1_x86_64.manylinux_2_12_x86_64.manylinux2010_x86_64.whl (661 kB)\n\u001b[2K     \u001b[90m━━━━━━━━━━━━━━━━━━━━━━━━━━━━━━━━━━━━━━\u001b[0m \u001b[32m661.8/661.8 KB\u001b[0m \u001b[31m61.4 MB/s\u001b[0m eta \u001b[36m0:00:00\u001b[0m\n\u001b[?25hCollecting google-api-python-client\n  Downloading google_api_python_client-2.51.0-py2.py3-none-any.whl (8.6 MB)\n\u001b[2K     \u001b[90m━━━━━━━━━━━━━━━━━━━━━━━━━━━━━━━━━━━━━━━━\u001b[0m \u001b[32m8.6/8.6 MB\u001b[0m \u001b[31m83.4 MB/s\u001b[0m eta \u001b[36m0:00:00\u001b[0m\n\u001b[?25hRequirement already satisfied: ipykernel in /shared-libs/python3.9/py-core/lib/python3.9/site-packages (from otter-grader) (5.5.5)\nCollecting python-on-whales\n  Downloading python_on_whales-0.46.0-py3-none-any.whl (94 kB)\n\u001b[2K     \u001b[90m━━━━━━━━━━━━━━━━━━━━━━━━━━━━━━━━━━━━━━━━\u001b[0m \u001b[32m94.7/94.7 KB\u001b[0m \u001b[31m26.5 MB/s\u001b[0m eta \u001b[36m0:00:00\u001b[0m\n\u001b[?25hRequirement already satisfied: jupyter-client in /shared-libs/python3.9/py-core/lib/python3.9/site-packages (from otter-grader) (6.1.12)\nRequirement already satisfied: requests in /shared-libs/python3.9/py/lib/python3.9/site-packages (from otter-grader) (2.27.1)\nRequirement already satisfied: dill in /shared-libs/python3.9/py/lib/python3.9/site-packages (from otter-grader) (0.3.5.1)\nRequirement already satisfied: matplotlib in /shared-libs/python3.9/py/lib/python3.9/site-packages (from otter-grader) (3.5.2)\nRequirement already satisfied: six in /shared-libs/python3.9/py-core/lib/python3.9/site-packages (from otter-grader) (1.16.0)\nCollecting pdfkit\n  Downloading pdfkit-1.0.0-py3-none-any.whl (12 kB)\nRequirement already satisfied: google-auth-oauthlib in /shared-libs/python3.9/py/lib/python3.9/site-packages (from otter-grader) (0.4.6)\nRequirement already satisfied: jinja2 in /shared-libs/python3.9/py-core/lib/python3.9/site-packages (from otter-grader) (2.11.3)\nCollecting uritemplate<5,>=3.0.1\n  Downloading uritemplate-4.1.1-py2.py3-none-any.whl (10 kB)\nCollecting google-auth-httplib2>=0.1.0\n  Downloading google_auth_httplib2-0.1.0-py2.py3-none-any.whl (9.3 kB)\nRequirement already satisfied: google-auth<3.0.0dev,>=1.16.0 in /shared-libs/python3.9/py/lib/python3.9/site-packages (from google-api-python-client->otter-grader) (2.7.0)\nCollecting httplib2<1dev,>=0.15.0\n  Downloading httplib2-0.20.4-py3-none-any.whl (96 kB)\n\u001b[2K     \u001b[90m━━━━━━━━━━━━━━━━━━━━━━━━━━━━━━━━━━━━━━━━\u001b[0m \u001b[32m96.6/96.6 KB\u001b[0m \u001b[31m26.7 MB/s\u001b[0m eta \u001b[36m0:00:00\u001b[0m\n\u001b[?25hRequirement already satisfied: google-api-core!=2.0.*,!=2.1.*,!=2.2.*,!=2.3.0,<3.0.0dev,>=1.31.5 in /shared-libs/python3.9/py/lib/python3.9/site-packages (from google-api-python-client->otter-grader) (2.8.1)\nRequirement already satisfied: requests-oauthlib>=0.7.0 in /shared-libs/python3.9/py/lib/python3.9/site-packages (from google-auth-oauthlib->otter-grader) (1.3.1)\nRequirement already satisfied: ipython>=5.0.0 in /shared-libs/python3.9/py-core/lib/python3.9/site-packages (from ipykernel->otter-grader) (7.34.0)\nRequirement already satisfied: tornado>=4.2 in /shared-libs/python3.9/py-core/lib/python3.9/site-packages (from ipykernel->otter-grader) (6.1)\nRequirement already satisfied: traitlets>=4.1.0 in /shared-libs/python3.9/py-core/lib/python3.9/site-packages (from ipykernel->otter-grader) (4.3.3)\nRequirement already satisfied: MarkupSafe>=0.23 in /shared-libs/python3.9/py-core/lib/python3.9/site-packages (from jinja2->otter-grader) (2.0.1)\nRequirement already satisfied: python-dateutil>=2.1 in /shared-libs/python3.9/py-core/lib/python3.9/site-packages (from jupyter-client->otter-grader) (2.8.2)\nRequirement already satisfied: jupyter-core>=4.6.0 in /shared-libs/python3.9/py-core/lib/python3.9/site-packages (from jupyter-client->otter-grader) (4.7.1)\nRequirement already satisfied: pyzmq>=13 in /shared-libs/python3.9/py-core/lib/python3.9/site-packages (from jupyter-client->otter-grader) (23.1.0)\nRequirement already satisfied: numpy>=1.17 in /shared-libs/python3.9/py/lib/python3.9/site-packages (from matplotlib->otter-grader) (1.22.4)\nRequirement already satisfied: fonttools>=4.22.0 in /shared-libs/python3.9/py/lib/python3.9/site-packages (from matplotlib->otter-grader) (4.33.3)\nRequirement already satisfied: kiwisolver>=1.0.1 in /shared-libs/python3.9/py/lib/python3.9/site-packages (from matplotlib->otter-grader) (1.4.2)\nRequirement already satisfied: packaging>=20.0 in /shared-libs/python3.9/py/lib/python3.9/site-packages (from matplotlib->otter-grader) (21.3)\nRequirement already satisfied: pillow>=6.2.0 in /shared-libs/python3.9/py/lib/python3.9/site-packages (from matplotlib->otter-grader) (9.1.1)\nRequirement already satisfied: pyparsing>=2.2.1 in /shared-libs/python3.9/py/lib/python3.9/site-packages (from matplotlib->otter-grader) (3.0.9)\nRequirement already satisfied: cycler>=0.10 in /shared-libs/python3.9/py/lib/python3.9/site-packages (from matplotlib->otter-grader) (0.11.0)\nRequirement already satisfied: pandocfilters>=1.4.1 in /shared-libs/python3.9/py-core/lib/python3.9/site-packages (from nbconvert->otter-grader) (1.5.0)\nRequirement already satisfied: testpath in /shared-libs/python3.9/py-core/lib/python3.9/site-packages (from nbconvert->otter-grader) (0.6.0)\nRequirement already satisfied: mistune<2,>=0.8.1 in /shared-libs/python3.9/py-core/lib/python3.9/site-packages (from nbconvert->otter-grader) (0.8.4)\nRequirement already satisfied: pygments>=2.4.1 in /shared-libs/python3.9/py-core/lib/python3.9/site-packages (from nbconvert->otter-grader) (2.12.0)\nRequirement already satisfied: nbclient<0.6.0,>=0.5.0 in /shared-libs/python3.9/py-core/lib/python3.9/site-packages (from nbconvert->otter-grader) (0.5.9)\nRequirement already satisfied: jupyterlab-pygments in /shared-libs/python3.9/py-core/lib/python3.9/site-packages (from nbconvert->otter-grader) (0.2.2)\nRequirement already satisfied: defusedxml in /shared-libs/python3.9/py-core/lib/python3.9/site-packages (from nbconvert->otter-grader) (0.7.1)\nRequirement already satisfied: entrypoints>=0.2.2 in /shared-libs/python3.9/py-core/lib/python3.9/site-packages (from nbconvert->otter-grader) (0.4)\nRequirement already satisfied: bleach in /shared-libs/python3.9/py-core/lib/python3.9/site-packages (from nbconvert->otter-grader) (5.0.0)\nRequirement already satisfied: ipython-genutils in /shared-libs/python3.9/py-core/lib/python3.9/site-packages (from nbformat->otter-grader) (0.2.0)\nRequirement already satisfied: jsonschema!=2.5.0,>=2.4 in /shared-libs/python3.9/py-core/lib/python3.9/site-packages (from nbformat->otter-grader) (3.2.0)\nRequirement already satisfied: pytz>=2017.3 in /shared-libs/python3.9/py/lib/python3.9/site-packages (from pandas->otter-grader) (2022.1)\nRequirement already satisfied: typing-extensions in /shared-libs/python3.9/py/lib/python3.9/site-packages (from PyPDF2->otter-grader) (4.2.0)\nRequirement already satisfied: tqdm in /shared-libs/python3.9/py/lib/python3.9/site-packages (from python-on-whales->otter-grader) (4.64.0)\nRequirement already satisfied: pydantic in /shared-libs/python3.9/py/lib/python3.9/site-packages (from python-on-whales->otter-grader) (1.8.2)\nRequirement already satisfied: typer>=0.4.1 in /shared-libs/python3.9/py/lib/python3.9/site-packages (from python-on-whales->otter-grader) (0.4.1)\nRequirement already satisfied: charset-normalizer~=2.0.0 in /shared-libs/python3.9/py-core/lib/python3.9/site-packages (from requests->otter-grader) (2.0.12)\nRequirement already satisfied: certifi>=2017.4.17 in /shared-libs/python3.9/py/lib/python3.9/site-packages (from requests->otter-grader) (2022.5.18.1)\nRequirement already satisfied: idna<4,>=2.5 in /shared-libs/python3.9/py-core/lib/python3.9/site-packages (from requests->otter-grader) (3.3)\nRequirement already satisfied: urllib3<1.27,>=1.21.1 in /shared-libs/python3.9/py/lib/python3.9/site-packages (from requests->otter-grader) (1.26.9)\nRequirement already satisfied: protobuf<4.0.0dev,>=3.15.0 in /shared-libs/python3.9/py/lib/python3.9/site-packages (from google-api-core!=2.0.*,!=2.1.*,!=2.2.*,!=2.3.0,<3.0.0dev,>=1.31.5->google-api-python-client->otter-grader) (3.19.4)\nRequirement already satisfied: googleapis-common-protos<2.0dev,>=1.56.2 in /shared-libs/python3.9/py/lib/python3.9/site-packages (from google-api-core!=2.0.*,!=2.1.*,!=2.2.*,!=2.3.0,<3.0.0dev,>=1.31.5->google-api-python-client->otter-grader) (1.56.2)\nRequirement already satisfied: cachetools<6.0,>=2.0.0 in /shared-libs/python3.9/py/lib/python3.9/site-packages (from google-auth<3.0.0dev,>=1.16.0->google-api-python-client->otter-grader) (5.2.0)\nRequirement already satisfied: rsa<5,>=3.1.4 in /shared-libs/python3.9/py/lib/python3.9/site-packages (from google-auth<3.0.0dev,>=1.16.0->google-api-python-client->otter-grader) (4.8)\nRequirement already satisfied: pyasn1-modules>=0.2.1 in /shared-libs/python3.9/py/lib/python3.9/site-packages (from google-auth<3.0.0dev,>=1.16.0->google-api-python-client->otter-grader) (0.2.8)\nRequirement already satisfied: jedi>=0.16 in /shared-libs/python3.9/py-core/lib/python3.9/site-packages (from ipython>=5.0.0->ipykernel->otter-grader) (0.17.2)\nRequirement already satisfied: pickleshare in /shared-libs/python3.9/py-core/lib/python3.9/site-packages (from ipython>=5.0.0->ipykernel->otter-grader) (0.7.5)\nRequirement already satisfied: matplotlib-inline in /shared-libs/python3.9/py-core/lib/python3.9/site-packages (from ipython>=5.0.0->ipykernel->otter-grader) (0.1.3)\nRequirement already satisfied: decorator in /shared-libs/python3.9/py-core/lib/python3.9/site-packages (from ipython>=5.0.0->ipykernel->otter-grader) (5.1.1)\nRequirement already satisfied: prompt-toolkit!=3.0.0,!=3.0.1,<3.1.0,>=2.0.0 in /shared-libs/python3.9/py-core/lib/python3.9/site-packages (from ipython>=5.0.0->ipykernel->otter-grader) (3.0.29)\nRequirement already satisfied: backcall in /shared-libs/python3.9/py-core/lib/python3.9/site-packages (from ipython>=5.0.0->ipykernel->otter-grader) (0.2.0)\nRequirement already satisfied: pexpect>4.3 in /shared-libs/python3.9/py-core/lib/python3.9/site-packages (from ipython>=5.0.0->ipykernel->otter-grader) (4.8.0)\nRequirement already satisfied: setuptools>=18.5 in /root/venv/lib/python3.9/site-packages (from ipython>=5.0.0->ipykernel->otter-grader) (58.1.0)\nRequirement already satisfied: attrs>=17.4.0 in /shared-libs/python3.9/py-core/lib/python3.9/site-packages (from jsonschema!=2.5.0,>=2.4->nbformat->otter-grader) (21.4.0)\nRequirement already satisfied: pyrsistent>=0.14.0 in /shared-libs/python3.9/py-core/lib/python3.9/site-packages (from jsonschema!=2.5.0,>=2.4->nbformat->otter-grader) (0.18.1)\nRequirement already satisfied: nest-asyncio in /shared-libs/python3.9/py-core/lib/python3.9/site-packages (from nbclient<0.6.0,>=0.5.0->nbconvert->otter-grader) (1.5.5)\nRequirement already satisfied: oauthlib>=3.0.0 in /shared-libs/python3.9/py/lib/python3.9/site-packages (from requests-oauthlib>=0.7.0->google-auth-oauthlib->otter-grader) (3.2.0)\nRequirement already satisfied: click<9.0.0,>=7.1.1 in /shared-libs/python3.9/py/lib/python3.9/site-packages (from typer>=0.4.1->python-on-whales->otter-grader) (8.1.3)\nRequirement already satisfied: webencodings in /shared-libs/python3.9/py-core/lib/python3.9/site-packages (from bleach->nbconvert->otter-grader) (0.5.1)\nRequirement already satisfied: parso<0.8.0,>=0.7.0 in /shared-libs/python3.9/py-core/lib/python3.9/site-packages (from jedi>=0.16->ipython>=5.0.0->ipykernel->otter-grader) (0.7.1)\nRequirement already satisfied: ptyprocess>=0.5 in /shared-libs/python3.9/py-core/lib/python3.9/site-packages (from pexpect>4.3->ipython>=5.0.0->ipykernel->otter-grader) (0.7.0)\nRequirement already satisfied: wcwidth in /shared-libs/python3.9/py-core/lib/python3.9/site-packages (from prompt-toolkit!=3.0.0,!=3.0.1,<3.1.0,>=2.0.0->ipython>=5.0.0->ipykernel->otter-grader) (0.2.5)\nRequirement already satisfied: pyasn1<0.5.0,>=0.4.6 in /shared-libs/python3.9/py/lib/python3.9/site-packages (from pyasn1-modules>=0.2.1->google-auth<3.0.0dev,>=1.16.0->google-api-python-client->otter-grader) (0.4.8)\nInstalling collected packages: pdfkit, uritemplate, PyYAML, PyPDF2, httplib2, python-on-whales, google-auth-httplib2, gspread, google-api-python-client, otter-grader\nSuccessfully installed PyPDF2-2.3.1 PyYAML-6.0 google-api-python-client-2.51.0 google-auth-httplib2-0.1.0 gspread-5.4.0 httplib2-0.20.4 otter-grader-3.3.0 pdfkit-1.0.0 python-on-whales-0.46.0 uritemplate-4.1.1\n\u001b[33mWARNING: You are using pip version 22.0.4; however, version 22.1.2 is available.\nYou should consider upgrading via the '/root/venv/bin/python -m pip install --upgrade pip' command.\u001b[0m\u001b[33m\n\u001b[0m",
     "output_type": "stream"
    }
   ]
  },
  {
   "cell_type": "markdown",
   "source": "# Homework 1: Causality and Expressions\n\nPlease complete this notebook by filling in the cells provided. Before you begin, run the previous cell to load the provided tests.",
   "metadata": {
    "cell_id": "00001-167029f8-2d51-4f40-accb-46450285ad2f",
    "deepnote_cell_type": "markdown",
    "deepnote_cell_height": 120.39999389648438
   }
  },
  {
   "cell_type": "markdown",
   "source": "**Recommended Readings:**\n\n- [What is Data Science?](http://www.inferentialthinking.com/chapters/01/what-is-data-science.html)\n- [Causality and Experiments](http://www.inferentialthinking.com/chapters/02/causality-and-experiments.html) \n- [Programming in Python](http://www.inferentialthinking.com/chapters/03/programming-in-python.html)\n\nFor all problems that you must write explanations and sentences for, you **must** provide your answer in the designated space. Moreover, throughout this homework and all future ones, please be sure to not re-assign variables throughout the notebook! For example, if you use `max_temperature` in your answer to one question, do not reassign it later on. Otherwise, you will fail tests that you thought you were passing previously!\n\n**Deadline:**\n\nThis assignment is due Thursday, 1/27 at 11:59pm PT. Turn it in by Wednesday, 1/26 at 11:59pm PT for 5 extra credit points. Late work will not be accepted as per the [policies](http://data8.org/sp22/policies.html) page.\n\n**Note: This homework has hidden tests on it. That means even though tests may say 100% passed, it doesn't mean your final grade will be 100%. We will be running more hidden tests for correctness once everyone turns in the homework.**\n\nDirectly sharing answers is not okay, but discussing problems with the course staff or with other students is encouraged. Refer to the policies page to learn more about how to learn cooperatively.\n\nYou should start early so that you have time to get help if you're stuck. Office hours are held Tuesday-Thursday. The schedule appears on [http://data8.org/sp22/office-hours.html](http://data8.org/sp22/office-hours.html).",
   "metadata": {
    "cell_id": "00002-7cbff1e6-0a13-4d37-bcf2-ae30c851dbdd",
    "deepnote_cell_type": "markdown",
    "deepnote_cell_height": 514.7999877929688
   }
  },
  {
   "cell_type": "markdown",
   "source": "## 1. Scary Arithmetic",
   "metadata": {
    "cell_id": "00003-933ecd7a-9efe-425b-a038-542eebef0d16",
    "deepnote_cell_type": "markdown",
    "deepnote_cell_height": 70
   }
  },
  {
   "cell_type": "markdown",
   "source": "<!-- BEGIN QUESTION -->\n\nAn ad for ADT Security Systems says,\n\n> \"When you go on vacation, burglars go to work [...] According to FBI statistics, over 25% of home burglaries occur between Memorial Day to Labor Day.\"\n\nDo the data in the ad support the claim that burglars are more likely to go to work during the time between Memorial Day to Labor Day? Please explain your answer. **(6 Points)**\n\n**Note:** You can assume that \"over 25%\" means only slightly over. Had it been much over, say closer to 30%, then the marketers would have said so.\n\n**Note:** Memorial Day is observed on the last Monday of May and Labor Day is observed on the first Monday of September.\n\n<!--\nBEGIN QUESTION\nname: q1\nmanual: True\n-->",
   "metadata": {
    "deletable": false,
    "editable": false,
    "cell_id": "00004-502d3231-adea-442b-bc21-c2d8af6933ac",
    "deepnote_cell_type": "markdown",
    "deepnote_cell_height": 279.20001220703125
   }
  },
  {
   "cell_type": "markdown",
   "source": "_Type your answer here, replacing this text._",
   "metadata": {
    "cell_id": "00005-e3740e84-3a28-40f7-a676-3a58fc3b9d73",
    "deepnote_cell_type": "markdown",
    "deepnote_cell_height": 52.399993896484375
   }
  },
  {
   "cell_type": "markdown",
   "source": "<!-- END QUESTION -->\n\n\n\n## 2. Characters in Little Women\n",
   "metadata": {
    "cell_id": "00006-f3b68a24-8de6-489d-9bb1-e945c7304169",
    "deepnote_cell_type": "markdown",
    "deepnote_cell_height": 70
   }
  },
  {
   "cell_type": "markdown",
   "source": "In lecture, we counted the number of times that the literary characters were named in each chapter of the classic book, [*Little Women*](https://inferentialthinking.com/chapters/01/3/1/Literary_Characters.html?highlight=little%20women). In computer science, the word \"character\" also refers to a letter, digit, space, or punctuation mark; any single element of a text. The following code generates a scatter plot in which each dot corresponds to a chapter of *Little Women*. The horizontal position of a dot measures the number of periods in the chapter. The vertical position measures the total number of characters.",
   "metadata": {
    "cell_id": "00007-23b44cdd-cede-4670-a3d4-24b390d4475e",
    "deepnote_cell_type": "markdown",
    "deepnote_cell_height": 119.60000610351562
   }
  },
  {
   "cell_type": "code",
   "metadata": {
    "scrolled": true,
    "tags": [],
    "cell_id": "00008-d4713bb7-41b4-47db-866b-fd88235c7acc",
    "deepnote_to_be_reexecuted": false,
    "source_hash": "1a7d6aff",
    "execution_start": 1655495980990,
    "execution_millis": 8203,
    "deepnote_cell_type": "code",
    "deepnote_cell_height": 1398,
    "deepnote_output_heights": [
     null,
     324
    ]
   },
   "source": "# Don't change this cell; just run it. \n!pip install datascience\n!pip install ipywidgets==7.7.0\n\n# This cell contains code that hasn't yet been covered in the course,\n# but you should be able to interpret the scatter plot it generates.\n\nfrom datascience import *\nfrom urllib.request import urlopen\nimport numpy as np\nimport d8error\n%matplotlib inline\n\nlittle_women_url = 'https://www.inferentialthinking.com/data/little_women.txt'\nchapters = urlopen(little_women_url).read().decode().split('CHAPTER ')[1:]\ntext = Table().with_column('Chapters', chapters)\nTable().with_columns(\n    'Periods',    np.char.count(chapters, '.'),\n    'Characters', text.apply(len, 0)\n    ).scatter(0)",
   "execution_count": null,
   "outputs": [
    {
     "name": "stdout",
     "text": "Requirement already satisfied: datascience in /shared-libs/python3.9/py/lib/python3.9/site-packages (0.17.2)\nRequirement already satisfied: plotly in /shared-libs/python3.9/py/lib/python3.9/site-packages (from datascience) (5.8.1)\nRequirement already satisfied: matplotlib>=3.0.0 in /shared-libs/python3.9/py/lib/python3.9/site-packages (from datascience) (3.5.2)\nRequirement already satisfied: branca in /shared-libs/python3.9/py/lib/python3.9/site-packages (from datascience) (0.5.0)\nRequirement already satisfied: ipython in /shared-libs/python3.9/py-core/lib/python3.9/site-packages (from datascience) (7.34.0)\nRequirement already satisfied: pandas in /shared-libs/python3.9/py/lib/python3.9/site-packages (from datascience) (1.2.5)\nRequirement already satisfied: numpy in /shared-libs/python3.9/py/lib/python3.9/site-packages (from datascience) (1.22.4)\nRequirement already satisfied: scipy in /shared-libs/python3.9/py/lib/python3.9/site-packages (from datascience) (1.8.1)\nRequirement already satisfied: setuptools in /root/venv/lib/python3.9/site-packages (from datascience) (58.1.0)\nRequirement already satisfied: folium>=0.9.1 in /shared-libs/python3.9/py/lib/python3.9/site-packages (from datascience) (0.12.1.post1)\nRequirement already satisfied: jinja2>=2.9 in /shared-libs/python3.9/py-core/lib/python3.9/site-packages (from folium>=0.9.1->datascience) (2.11.3)\nRequirement already satisfied: requests in /shared-libs/python3.9/py/lib/python3.9/site-packages (from folium>=0.9.1->datascience) (2.27.1)\nRequirement already satisfied: python-dateutil>=2.7 in /shared-libs/python3.9/py-core/lib/python3.9/site-packages (from matplotlib>=3.0.0->datascience) (2.8.2)\nRequirement already satisfied: fonttools>=4.22.0 in /shared-libs/python3.9/py/lib/python3.9/site-packages (from matplotlib>=3.0.0->datascience) (4.33.3)\nRequirement already satisfied: pillow>=6.2.0 in /shared-libs/python3.9/py/lib/python3.9/site-packages (from matplotlib>=3.0.0->datascience) (9.1.1)\nRequirement already satisfied: kiwisolver>=1.0.1 in /shared-libs/python3.9/py/lib/python3.9/site-packages (from matplotlib>=3.0.0->datascience) (1.4.2)\nRequirement already satisfied: cycler>=0.10 in /shared-libs/python3.9/py/lib/python3.9/site-packages (from matplotlib>=3.0.0->datascience) (0.11.0)\nRequirement already satisfied: pyparsing>=2.2.1 in /shared-libs/python3.9/py/lib/python3.9/site-packages (from matplotlib>=3.0.0->datascience) (3.0.9)\nRequirement already satisfied: packaging>=20.0 in /shared-libs/python3.9/py/lib/python3.9/site-packages (from matplotlib>=3.0.0->datascience) (21.3)\nRequirement already satisfied: jedi>=0.16 in /shared-libs/python3.9/py-core/lib/python3.9/site-packages (from ipython->datascience) (0.17.2)\nRequirement already satisfied: pickleshare in /shared-libs/python3.9/py-core/lib/python3.9/site-packages (from ipython->datascience) (0.7.5)\nRequirement already satisfied: prompt-toolkit!=3.0.0,!=3.0.1,<3.1.0,>=2.0.0 in /shared-libs/python3.9/py-core/lib/python3.9/site-packages (from ipython->datascience) (3.0.29)\nRequirement already satisfied: matplotlib-inline in /shared-libs/python3.9/py-core/lib/python3.9/site-packages (from ipython->datascience) (0.1.3)\nRequirement already satisfied: pexpect>4.3 in /shared-libs/python3.9/py-core/lib/python3.9/site-packages (from ipython->datascience) (4.8.0)\nRequirement already satisfied: decorator in /shared-libs/python3.9/py-core/lib/python3.9/site-packages (from ipython->datascience) (5.1.1)\nRequirement already satisfied: traitlets>=4.2 in /shared-libs/python3.9/py-core/lib/python3.9/site-packages (from ipython->datascience) (4.3.3)\nRequirement already satisfied: pygments in /shared-libs/python3.9/py-core/lib/python3.9/site-packages (from ipython->datascience) (2.12.0)\nRequirement already satisfied: backcall in /shared-libs/python3.9/py-core/lib/python3.9/site-packages (from ipython->datascience) (0.2.0)\nRequirement already satisfied: pytz>=2017.3 in /shared-libs/python3.9/py/lib/python3.9/site-packages (from pandas->datascience) (2022.1)\nRequirement already satisfied: tenacity>=6.2.0 in /shared-libs/python3.9/py/lib/python3.9/site-packages (from plotly->datascience) (8.0.1)\nRequirement already satisfied: parso<0.8.0,>=0.7.0 in /shared-libs/python3.9/py-core/lib/python3.9/site-packages (from jedi>=0.16->ipython->datascience) (0.7.1)\nRequirement already satisfied: MarkupSafe>=0.23 in /shared-libs/python3.9/py-core/lib/python3.9/site-packages (from jinja2>=2.9->folium>=0.9.1->datascience) (2.0.1)\nRequirement already satisfied: ptyprocess>=0.5 in /shared-libs/python3.9/py-core/lib/python3.9/site-packages (from pexpect>4.3->ipython->datascience) (0.7.0)\nRequirement already satisfied: wcwidth in /shared-libs/python3.9/py-core/lib/python3.9/site-packages (from prompt-toolkit!=3.0.0,!=3.0.1,<3.1.0,>=2.0.0->ipython->datascience) (0.2.5)\nRequirement already satisfied: six>=1.5 in /shared-libs/python3.9/py-core/lib/python3.9/site-packages (from python-dateutil>=2.7->matplotlib>=3.0.0->datascience) (1.16.0)\nRequirement already satisfied: ipython-genutils in /shared-libs/python3.9/py-core/lib/python3.9/site-packages (from traitlets>=4.2->ipython->datascience) (0.2.0)\nRequirement already satisfied: urllib3<1.27,>=1.21.1 in /shared-libs/python3.9/py/lib/python3.9/site-packages (from requests->folium>=0.9.1->datascience) (1.26.9)\nRequirement already satisfied: charset-normalizer~=2.0.0 in /shared-libs/python3.9/py-core/lib/python3.9/site-packages (from requests->folium>=0.9.1->datascience) (2.0.12)\nRequirement already satisfied: idna<4,>=2.5 in /shared-libs/python3.9/py-core/lib/python3.9/site-packages (from requests->folium>=0.9.1->datascience) (3.3)\nRequirement already satisfied: certifi>=2017.4.17 in /shared-libs/python3.9/py/lib/python3.9/site-packages (from requests->folium>=0.9.1->datascience) (2022.5.18.1)\n\u001b[33mWARNING: You are using pip version 22.0.4; however, version 22.1.2 is available.\nYou should consider upgrading via the '/root/venv/bin/python -m pip install --upgrade pip' command.\u001b[0m\u001b[33m\n\u001b[0mRequirement already satisfied: ipywidgets==7.7.0 in /root/venv/lib/python3.9/site-packages (7.7.0)\nRequirement already satisfied: ipykernel>=4.5.1 in /shared-libs/python3.9/py-core/lib/python3.9/site-packages (from ipywidgets==7.7.0) (5.5.5)\nRequirement already satisfied: widgetsnbextension~=3.6.0 in /root/venv/lib/python3.9/site-packages (from ipywidgets==7.7.0) (3.6.0)\nRequirement already satisfied: jupyterlab-widgets>=1.0.0 in /root/venv/lib/python3.9/site-packages (from ipywidgets==7.7.0) (1.1.0)\nRequirement already satisfied: ipython-genutils~=0.2.0 in /shared-libs/python3.9/py-core/lib/python3.9/site-packages (from ipywidgets==7.7.0) (0.2.0)\nRequirement already satisfied: nbformat>=4.2.0 in /shared-libs/python3.9/py-core/lib/python3.9/site-packages (from ipywidgets==7.7.0) (5.1.3)\nRequirement already satisfied: ipython>=4.0.0 in /shared-libs/python3.9/py-core/lib/python3.9/site-packages (from ipywidgets==7.7.0) (7.34.0)\nRequirement already satisfied: traitlets>=4.3.1 in /shared-libs/python3.9/py-core/lib/python3.9/site-packages (from ipywidgets==7.7.0) (4.3.3)\nRequirement already satisfied: jupyter-client in /shared-libs/python3.9/py-core/lib/python3.9/site-packages (from ipykernel>=4.5.1->ipywidgets==7.7.0) (6.1.12)\nRequirement already satisfied: tornado>=4.2 in /shared-libs/python3.9/py-core/lib/python3.9/site-packages (from ipykernel>=4.5.1->ipywidgets==7.7.0) (6.1)\nRequirement already satisfied: matplotlib-inline in /shared-libs/python3.9/py-core/lib/python3.9/site-packages (from ipython>=4.0.0->ipywidgets==7.7.0) (0.1.3)\nRequirement already satisfied: decorator in /shared-libs/python3.9/py-core/lib/python3.9/site-packages (from ipython>=4.0.0->ipywidgets==7.7.0) (5.1.1)\nRequirement already satisfied: prompt-toolkit!=3.0.0,!=3.0.1,<3.1.0,>=2.0.0 in /shared-libs/python3.9/py-core/lib/python3.9/site-packages (from ipython>=4.0.0->ipywidgets==7.7.0) (3.0.29)\nRequirement already satisfied: pickleshare in /shared-libs/python3.9/py-core/lib/python3.9/site-packages (from ipython>=4.0.0->ipywidgets==7.7.0) (0.7.5)\nRequirement already satisfied: backcall in /shared-libs/python3.9/py-core/lib/python3.9/site-packages (from ipython>=4.0.0->ipywidgets==7.7.0) (0.2.0)\nRequirement already satisfied: pygments in /shared-libs/python3.9/py-core/lib/python3.9/site-packages (from ipython>=4.0.0->ipywidgets==7.7.0) (2.12.0)\nRequirement already satisfied: jedi>=0.16 in /shared-libs/python3.9/py-core/lib/python3.9/site-packages (from ipython>=4.0.0->ipywidgets==7.7.0) (0.17.2)\nRequirement already satisfied: setuptools>=18.5 in /root/venv/lib/python3.9/site-packages (from ipython>=4.0.0->ipywidgets==7.7.0) (58.1.0)\nRequirement already satisfied: pexpect>4.3 in /shared-libs/python3.9/py-core/lib/python3.9/site-packages (from ipython>=4.0.0->ipywidgets==7.7.0) (4.8.0)\nRequirement already satisfied: jupyter-core in /shared-libs/python3.9/py-core/lib/python3.9/site-packages (from nbformat>=4.2.0->ipywidgets==7.7.0) (4.7.1)\nRequirement already satisfied: jsonschema!=2.5.0,>=2.4 in /shared-libs/python3.9/py-core/lib/python3.9/site-packages (from nbformat>=4.2.0->ipywidgets==7.7.0) (3.2.0)\nRequirement already satisfied: six in /shared-libs/python3.9/py-core/lib/python3.9/site-packages (from traitlets>=4.3.1->ipywidgets==7.7.0) (1.16.0)\nRequirement already satisfied: notebook>=4.4.1 in /shared-libs/python3.9/py-core/lib/python3.9/site-packages (from widgetsnbextension~=3.6.0->ipywidgets==7.7.0) (6.3.0)\nRequirement already satisfied: parso<0.8.0,>=0.7.0 in /shared-libs/python3.9/py-core/lib/python3.9/site-packages (from jedi>=0.16->ipython>=4.0.0->ipywidgets==7.7.0) (0.7.1)\nRequirement already satisfied: attrs>=17.4.0 in /shared-libs/python3.9/py-core/lib/python3.9/site-packages (from jsonschema!=2.5.0,>=2.4->nbformat>=4.2.0->ipywidgets==7.7.0) (21.4.0)\nRequirement already satisfied: pyrsistent>=0.14.0 in /shared-libs/python3.9/py-core/lib/python3.9/site-packages (from jsonschema!=2.5.0,>=2.4->nbformat>=4.2.0->ipywidgets==7.7.0) (0.18.1)\nRequirement already satisfied: pyzmq>=17 in /shared-libs/python3.9/py-core/lib/python3.9/site-packages (from notebook>=4.4.1->widgetsnbextension~=3.6.0->ipywidgets==7.7.0) (23.1.0)\nRequirement already satisfied: nbconvert==6.0.7 in /shared-libs/python3.9/py-core/lib/python3.9/site-packages (from notebook>=4.4.1->widgetsnbextension~=3.6.0->ipywidgets==7.7.0) (6.0.7)\nRequirement already satisfied: prometheus-client in /shared-libs/python3.9/py-core/lib/python3.9/site-packages (from notebook>=4.4.1->widgetsnbextension~=3.6.0->ipywidgets==7.7.0) (0.14.1)\nRequirement already satisfied: Send2Trash>=1.5.0 in /shared-libs/python3.9/py-core/lib/python3.9/site-packages (from notebook>=4.4.1->widgetsnbextension~=3.6.0->ipywidgets==7.7.0) (1.8.0)\nRequirement already satisfied: jinja2 in /shared-libs/python3.9/py-core/lib/python3.9/site-packages (from notebook>=4.4.1->widgetsnbextension~=3.6.0->ipywidgets==7.7.0) (2.11.3)\nRequirement already satisfied: argon2-cffi in /shared-libs/python3.9/py-core/lib/python3.9/site-packages (from notebook>=4.4.1->widgetsnbextension~=3.6.0->ipywidgets==7.7.0) (21.3.0)\nRequirement already satisfied: terminado>=0.8.3 in /shared-libs/python3.9/py-core/lib/python3.9/site-packages (from notebook>=4.4.1->widgetsnbextension~=3.6.0->ipywidgets==7.7.0) (0.15.0)\nRequirement already satisfied: python-dateutil>=2.1 in /shared-libs/python3.9/py-core/lib/python3.9/site-packages (from jupyter-client->ipykernel>=4.5.1->ipywidgets==7.7.0) (2.8.2)\nRequirement already satisfied: pandocfilters>=1.4.1 in /shared-libs/python3.9/py-core/lib/python3.9/site-packages (from nbconvert==6.0.7->notebook>=4.4.1->widgetsnbextension~=3.6.0->ipywidgets==7.7.0) (1.5.0)\nRequirement already satisfied: bleach in /shared-libs/python3.9/py-core/lib/python3.9/site-packages (from nbconvert==6.0.7->notebook>=4.4.1->widgetsnbextension~=3.6.0->ipywidgets==7.7.0) (5.0.0)\nRequirement already satisfied: defusedxml in /shared-libs/python3.9/py-core/lib/python3.9/site-packages (from nbconvert==6.0.7->notebook>=4.4.1->widgetsnbextension~=3.6.0->ipywidgets==7.7.0) (0.7.1)\nRequirement already satisfied: entrypoints>=0.2.2 in /shared-libs/python3.9/py-core/lib/python3.9/site-packages (from nbconvert==6.0.7->notebook>=4.4.1->widgetsnbextension~=3.6.0->ipywidgets==7.7.0) (0.4)\nRequirement already satisfied: jupyterlab-pygments in /shared-libs/python3.9/py-core/lib/python3.9/site-packages (from nbconvert==6.0.7->notebook>=4.4.1->widgetsnbextension~=3.6.0->ipywidgets==7.7.0) (0.2.2)\nRequirement already satisfied: testpath in /shared-libs/python3.9/py-core/lib/python3.9/site-packages (from nbconvert==6.0.7->notebook>=4.4.1->widgetsnbextension~=3.6.0->ipywidgets==7.7.0) (0.6.0)\nRequirement already satisfied: mistune<2,>=0.8.1 in /shared-libs/python3.9/py-core/lib/python3.9/site-packages (from nbconvert==6.0.7->notebook>=4.4.1->widgetsnbextension~=3.6.0->ipywidgets==7.7.0) (0.8.4)\nRequirement already satisfied: nbclient<0.6.0,>=0.5.0 in /shared-libs/python3.9/py-core/lib/python3.9/site-packages (from nbconvert==6.0.7->notebook>=4.4.1->widgetsnbextension~=3.6.0->ipywidgets==7.7.0) (0.5.9)\nRequirement already satisfied: ptyprocess>=0.5 in /shared-libs/python3.9/py-core/lib/python3.9/site-packages (from pexpect>4.3->ipython>=4.0.0->ipywidgets==7.7.0) (0.7.0)\nRequirement already satisfied: wcwidth in /shared-libs/python3.9/py-core/lib/python3.9/site-packages (from prompt-toolkit!=3.0.0,!=3.0.1,<3.1.0,>=2.0.0->ipython>=4.0.0->ipywidgets==7.7.0) (0.2.5)\nRequirement already satisfied: MarkupSafe>=0.23 in /shared-libs/python3.9/py-core/lib/python3.9/site-packages (from jinja2->notebook>=4.4.1->widgetsnbextension~=3.6.0->ipywidgets==7.7.0) (2.0.1)\nRequirement already satisfied: argon2-cffi-bindings in /shared-libs/python3.9/py-core/lib/python3.9/site-packages (from argon2-cffi->notebook>=4.4.1->widgetsnbextension~=3.6.0->ipywidgets==7.7.0) (21.2.0)\nRequirement already satisfied: nest-asyncio in /shared-libs/python3.9/py-core/lib/python3.9/site-packages (from nbclient<0.6.0,>=0.5.0->nbconvert==6.0.7->notebook>=4.4.1->widgetsnbextension~=3.6.0->ipywidgets==7.7.0) (1.5.5)\nRequirement already satisfied: cffi>=1.0.1 in /shared-libs/python3.9/py-core/lib/python3.9/site-packages (from argon2-cffi-bindings->argon2-cffi->notebook>=4.4.1->widgetsnbextension~=3.6.0->ipywidgets==7.7.0) (1.15.0)\nRequirement already satisfied: webencodings in /shared-libs/python3.9/py-core/lib/python3.9/site-packages (from bleach->nbconvert==6.0.7->notebook>=4.4.1->widgetsnbextension~=3.6.0->ipywidgets==7.7.0) (0.5.1)\nRequirement already satisfied: pycparser in /shared-libs/python3.9/py-core/lib/python3.9/site-packages (from cffi>=1.0.1->argon2-cffi-bindings->argon2-cffi->notebook>=4.4.1->widgetsnbextension~=3.6.0->ipywidgets==7.7.0) (2.21)\n\u001b[33mWARNING: You are using pip version 22.0.4; however, version 22.1.2 is available.\nYou should consider upgrading via the '/root/venv/bin/python -m pip install --upgrade pip' command.\u001b[0m\u001b[33m\n\u001b[0m",
     "output_type": "stream"
    },
    {
     "data": {
      "text/plain": "<Figure size 360x360 with 1 Axes>",
      "image/png": "[encoded data removed]"
     },
     "metadata": {
      "needs_background": "light",
      "image/png": {
       "width": 350,
       "height": 322
      }
     },
     "output_type": "display_data"
    }
   ]
  },
  {
   "cell_type": "markdown",
   "source": "**Question 1.** Around how many periods are there in the chapter with the most characters? Assign either 1, 2, 3, 4, or 5 to the name `characters_q1` below. **(4 Points)**\n\n1. 250\n2. 390\n3. 440\n4. 32,000\n5. 40,000\n\n\n**Note:** If you run into a `NameError: name 'grader' is not defined` error in the autograder cell below (and in any assignment), please re-run the first cell at the very top of this notebook!\n\n<!--\nBEGIN QUESTION\nname: q2_1\nmanual: false\npoints:\n - 0\n - 4\n-->",
   "metadata": {
    "deletable": false,
    "editable": false,
    "cell_id": "00009-72ff8b51-2305-4e05-9bcc-3ff17475320a",
    "deepnote_cell_type": "markdown",
    "deepnote_cell_height": 285.6000061035156
   }
  },
  {
   "cell_type": "code",
   "metadata": {
    "cell_id": "00010-6709ad9e-9f24-438d-8a7d-de2085885643",
    "deepnote_to_be_reexecuted": false,
    "source_hash": "3d1ecda3",
    "execution_start": 1655496122050,
    "execution_millis": 1,
    "deepnote_cell_type": "code",
    "deepnote_cell_height": 81
   },
   "source": "characters_q1 = 5",
   "execution_count": null,
   "outputs": []
  },
  {
   "cell_type": "code",
   "metadata": {
    "deletable": false,
    "editable": false,
    "cell_id": "00011-69b56b7b-ab4b-4167-8837-13c18b3eb27c",
    "deepnote_to_be_reexecuted": false,
    "source_hash": "a19e2eb2",
    "execution_start": 1655496124783,
    "execution_millis": 283,
    "deepnote_cell_type": "code",
    "deepnote_cell_height": 143,
    "deepnote_output_heights": [
     46
    ]
   },
   "source": "grader.check(\"q2_1\")",
   "execution_count": null,
   "outputs": [
    {
     "output_type": "execute_result",
     "execution_count": 10,
     "data": {
      "text/plain": "q2_1 results: All test cases passed!",
      "text/html": "<p><strong><pre style='display: inline;'>q2_1</pre></strong> passed!</p>"
     },
     "metadata": {}
    }
   ]
  },
  {
   "cell_type": "markdown",
   "source": "The test above checks that your answers are in the correct format. **This test does not check that you answered correctly**, only that you assigned a number successfully in each multiple-choice answer cell.",
   "metadata": {
    "cell_id": "00012-c417cf65-e066-4381-a3ea-6db0ca430282",
    "deepnote_cell_type": "markdown",
    "deepnote_cell_height": 74.80000305175781
   }
  },
  {
   "cell_type": "markdown",
   "source": "**Question 2.** Which of the following chapters has the most characters per period? Assign either 1, 2, or 3 to the name `characters_q2` below. **(4 Points)**\n\n1. The chapter with about 60 periods\n2. The chapter with about 350 periods\n3. The chapter with about 440 periods\n\n<!--\nBEGIN QUESTION\nname: q2_2\nmanual: false\npoints:\n - 0\n - 4\n-->",
   "metadata": {
    "deletable": false,
    "editable": false,
    "cell_id": "00013-1c6be886-0719-4637-a705-62625f4ef21a",
    "deepnote_cell_type": "markdown",
    "deepnote_cell_height": 176
   }
  },
  {
   "cell_type": "code",
   "metadata": {
    "tags": [],
    "cell_id": "00014-1208cdb5-b330-40c8-be9c-50276f44bcb1",
    "deepnote_to_be_reexecuted": false,
    "source_hash": "73bedf31",
    "execution_start": 1655496131965,
    "execution_millis": 0,
    "deepnote_cell_type": "code",
    "deepnote_cell_height": 81
   },
   "source": "characters_q2 = 3",
   "execution_count": null,
   "outputs": []
  },
  {
   "cell_type": "code",
   "metadata": {
    "deletable": false,
    "editable": false,
    "cell_id": "00015-82e4dd26-2aae-40de-8943-20e87a50bee8",
    "deepnote_to_be_reexecuted": false,
    "source_hash": "11e67844",
    "execution_start": 1655496133994,
    "execution_millis": 20,
    "deepnote_cell_type": "code",
    "deepnote_cell_height": 143,
    "deepnote_output_heights": [
     46
    ]
   },
   "source": "grader.check(\"q2_2\")",
   "execution_count": null,
   "outputs": [
    {
     "output_type": "execute_result",
     "execution_count": 12,
     "data": {
      "text/plain": "q2_2 results: All test cases passed!",
      "text/html": "<p><strong><pre style='display: inline;'>q2_2</pre></strong> passed!</p>"
     },
     "metadata": {}
    }
   ]
  },
  {
   "cell_type": "markdown",
   "source": "Again, the test above checks that your answers are in the correct format, but not that you have answered correctly.",
   "metadata": {
    "cell_id": "00016-111bd3f1-fd8b-4a0b-8be1-5db6797e4dfb",
    "deepnote_cell_type": "markdown",
    "deepnote_cell_height": 52.399993896484375
   }
  },
  {
   "cell_type": "markdown",
   "source": "To discover more interesting facts from this plot, check out [Section 1.3.2](https://inferentialthinking.com/chapters/01/3/2/Another_Kind_Of_Character.html) in the textbook.",
   "metadata": {
    "cell_id": "00017-291a1ab8-a9e2-438f-b0e2-f856687a4c84",
    "deepnote_cell_type": "markdown",
    "deepnote_cell_height": 52.399993896484375
   }
  },
  {
   "cell_type": "markdown",
   "source": "## 3. Names and Assignment Statements",
   "metadata": {
    "cell_id": "00018-8596429b-50af-4710-b1dd-310e3b152bfe",
    "deepnote_cell_type": "markdown",
    "deepnote_cell_height": 70
   }
  },
  {
   "cell_type": "markdown",
   "source": "**Question 1.** When you run the following cell, Python produces a cryptic error message.",
   "metadata": {
    "cell_id": "00019-01045cd5-43cd-41c9-bd79-8594c1759dfc",
    "deepnote_cell_type": "markdown",
    "deepnote_cell_height": 52.399993896484375
   }
  },
  {
   "cell_type": "code",
   "metadata": {
    "tags": [
     "raises-exception"
    ],
    "cell_id": "00020-10492ca4-56e9-434d-9203-cb48eb05c7cc",
    "deepnote_to_be_reexecuted": false,
    "source_hash": "dd1b664",
    "execution_start": 1655496156598,
    "execution_millis": 68,
    "deepnote_cell_type": "code",
    "deepnote_cell_height": 144.1999969482422
   },
   "source": "4 = 2 + 2",
   "execution_count": null,
   "outputs": [
    {
     "output_type": "error",
     "ename": "SyntaxError",
     "evalue": "cannot assign to literal (<ipython-input-14-4c8b769209ad>, line 1)",
     "traceback": [
      "\u001b[0;36m  File \u001b[0;32m\"<ipython-input-14-4c8b769209ad>\"\u001b[0;36m, line \u001b[0;32m1\u001b[0m\n\u001b[0;31m    4 = 2 + 2\u001b[0m\n\u001b[0m    ^\u001b[0m\n\u001b[0;31mSyntaxError\u001b[0m\u001b[0;31m:\u001b[0m cannot assign to literal\n"
     ]
    }
   ]
  },
  {
   "cell_type": "markdown",
   "source": "Choose the best explanation of what's wrong with the code, and then assign 1, 2, 3, or 4 to `names_q1` below to indicate your answer. **(4 Points)**\n\n1. Python is smart and already knows `4 = 2 + 2`.\n\n2. In Python, it's a rule that the `=` sign must have a variable name to its left, and `4` isn't a variable name.\n\n3. It should be `2 + 2 = 4`.\n\n4. I don't get an error message. This is a trick question.\n\n<!--\nBEGIN QUESTION\nname: q3_1\nmanual: False\npoints:\n - 0\n - 4\n-->",
   "metadata": {
    "deletable": false,
    "editable": false,
    "cell_id": "00021-5405beef-186a-4960-9719-f33ae177d201",
    "deepnote_cell_type": "markdown",
    "deepnote_cell_height": 201.39999389648438
   }
  },
  {
   "cell_type": "code",
   "metadata": {
    "cell_id": "00022-977a4cb8-6232-45b1-ab1e-0c8fdf95ae29",
    "deepnote_to_be_reexecuted": false,
    "source_hash": "5fd529b8",
    "execution_start": 1655496161514,
    "execution_millis": 4,
    "deepnote_cell_type": "code",
    "deepnote_cell_height": 81
   },
   "source": "names_q1 = 4",
   "execution_count": null,
   "outputs": []
  },
  {
   "cell_type": "code",
   "metadata": {
    "deletable": false,
    "editable": false,
    "cell_id": "00023-83ee77fa-f047-4d40-802e-c97782a2161a",
    "deepnote_to_be_reexecuted": false,
    "source_hash": "a2a8d8c7",
    "execution_start": 1655496162936,
    "execution_millis": 649,
    "deepnote_cell_type": "code",
    "deepnote_cell_height": 143,
    "deepnote_output_heights": [
     46
    ]
   },
   "source": "grader.check(\"q3_1\")",
   "execution_count": null,
   "outputs": [
    {
     "output_type": "execute_result",
     "execution_count": 16,
     "data": {
      "text/plain": "q3_1 results: All test cases passed!",
      "text/html": "<p><strong><pre style='display: inline;'>q3_1</pre></strong> passed!</p>"
     },
     "metadata": {}
    }
   ]
  },
  {
   "cell_type": "markdown",
   "source": "**Question 2.** When you run the following cell, Python will produce another cryptic error message.",
   "metadata": {
    "cell_id": "00024-f93de7c8-c2db-4625-b960-10dddf4d009f",
    "deepnote_cell_type": "markdown",
    "deepnote_cell_height": 52.399993896484375
   }
  },
  {
   "cell_type": "code",
   "metadata": {
    "tags": [
     "raises-exception"
    ],
    "cell_id": "00025-6d7da332-6e7d-432c-ac64-edec9392539f",
    "deepnote_to_be_reexecuted": false,
    "source_hash": "4f0798ae",
    "execution_start": 1655496172474,
    "execution_millis": 282,
    "deepnote_cell_type": "code",
    "deepnote_cell_height": 652.2000122070312,
    "deepnote_output_heights": [
     49,
     33,
     37,
     37,
     33,
     52
    ]
   },
   "source": "two = 3\nsix = two plus two",
   "execution_count": null,
   "outputs": [
    {
     "data": {
      "text/plain": "<IPython.core.display.Markdown object>",
      "text/markdown": "## **Uh-o it seems we have an error!**"
     },
     "metadata": {},
     "output_type": "display_data"
    },
    {
     "data": {
      "text/plain": "<IPython.core.display.Markdown object>",
      "text/markdown": "It seems we have a SyntaxError. SyntaxErrors are usually because of:"
     },
     "metadata": {},
     "output_type": "display_data"
    },
    {
     "data": {
      "text/plain": "<IPython.core.display.Markdown object>",
      "text/markdown": "1. Adding extra parenthesis"
     },
     "metadata": {},
     "output_type": "display_data"
    },
    {
     "data": {
      "text/plain": "<IPython.core.display.Markdown object>",
      "text/markdown": "2. Not following python define or for loop structure, not adding a colon"
     },
     "metadata": {},
     "output_type": "display_data"
    },
    {
     "data": {
      "text/plain": "<IPython.core.display.Markdown object>",
      "text/markdown": "The Data 8 Reference might be helpful to look over for examples and usage: [Data 8 Reference](http://data8.org/sp22/python-reference.html)"
     },
     "metadata": {},
     "output_type": "display_data"
    },
    {
     "data": {
      "text/plain": "<IPython.core.display.Markdown object>",
      "text/markdown": "If you are having more trouble please feel free to consult a staff member at [Office Hours](https://oh.data8.org)                        \n or see the error message below "
     },
     "metadata": {},
     "output_type": "display_data"
    },
    {
     "data": {
      "text/plain": "Accordion(children=(VBox(children=(VBox(children=(Label(value='Was the message you saw useful?'), Dropdown(opt…",
      "application/vnd.jupyter.widget-view+json": {
       "version_major": 2,
       "version_minor": 0,
       "model_id": "9535308d1fbd4353a07f9d549cd96c33"
      }
     },
     "metadata": {},
     "output_type": "display_data"
    },
    {
     "output_type": "error",
     "ename": "SyntaxError",
     "evalue": "invalid syntax (<ipython-input-17-820d4d61e3dd>, line 2)",
     "traceback": [
      "\u001b[0;36m  File \u001b[0;32m\"<ipython-input-17-820d4d61e3dd>\"\u001b[0;36m, line \u001b[0;32m2\u001b[0m\n\u001b[0;31m    six = two plus two\u001b[0m\n\u001b[0m              ^\u001b[0m\n\u001b[0;31mSyntaxError\u001b[0m\u001b[0;31m:\u001b[0m invalid syntax\n"
     ]
    }
   ]
  },
  {
   "cell_type": "markdown",
   "source": "Choose the best explanation of what's wrong with the code and assign 1, 2, 3, or 4 to `names_q2` below to indicate your answer. **(4 Points)**\n\n1. The `plus` operation only applies to numbers, not the word \"two\".\n\n2. The name \"two\" cannot be assigned to the number 3.\n\n3. Two plus two is four, not six.\n\n4. The name `plus` isn't a built-in operator; instead, addition uses `+`.\n\n<!--\nBEGIN QUESTION\nname: q3_2\nmanual: False\npoints:\n - 0\n - 4\n-->",
   "metadata": {
    "deletable": false,
    "editable": false,
    "cell_id": "00026-8dc8c6c9-b438-4524-b295-53341db32d8b",
    "deepnote_cell_type": "markdown",
    "deepnote_cell_height": 201.39999389648438
   }
  },
  {
   "cell_type": "code",
   "metadata": {
    "cell_id": "00027-2771ffb1-6832-40e5-852c-b4296716f717",
    "deepnote_to_be_reexecuted": false,
    "source_hash": "3c75430c",
    "execution_start": 1655496186679,
    "execution_millis": 3,
    "deepnote_cell_type": "code",
    "deepnote_cell_height": 81
   },
   "source": "names_q2 = 4",
   "execution_count": null,
   "outputs": []
  },
  {
   "cell_type": "code",
   "metadata": {
    "deletable": false,
    "editable": false,
    "cell_id": "00028-10162b8c-bfb5-4c55-b16a-ab121b574636",
    "deepnote_to_be_reexecuted": false,
    "source_hash": "a9c741f5",
    "execution_start": 1655496188102,
    "execution_millis": 406,
    "deepnote_cell_type": "code",
    "deepnote_cell_height": 143,
    "deepnote_output_heights": [
     46
    ]
   },
   "source": "grader.check(\"q3_2\")",
   "execution_count": null,
   "outputs": [
    {
     "output_type": "execute_result",
     "execution_count": 20,
     "data": {
      "text/plain": "q3_2 results: All test cases passed!",
      "text/html": "<p><strong><pre style='display: inline;'>q3_2</pre></strong> passed!</p>"
     },
     "metadata": {}
    }
   ]
  },
  {
   "cell_type": "markdown",
   "source": "**Question 3.** Run the following cell.",
   "metadata": {
    "cell_id": "00029-8e0ee745-a5f7-4967-89a9-0e954d7be62a",
    "deepnote_cell_type": "markdown",
    "deepnote_cell_height": 52.399993896484375
   }
  },
  {
   "cell_type": "code",
   "metadata": {
    "tags": [
     "raises-exception"
    ],
    "cell_id": "00030-0af5c5d7-a60a-4de0-b96b-81c3dc95d7aa",
    "deepnote_to_be_reexecuted": false,
    "source_hash": "fd8ab8e4",
    "execution_start": 1655496809286,
    "execution_millis": 0,
    "deepnote_cell_type": "code",
    "deepnote_cell_height": 117
   },
   "source": "x = 2\ny = 3 * x\nx = 4",
   "execution_count": null,
   "outputs": []
  },
  {
   "cell_type": "markdown",
   "source": "What is `y` after running this cell, and why? Choose the best explanation and assign 1, 2, 3, or 4 to `names_q3` below to indicate your answer. **(4 Points)**\n\n1. `y` is equal to 6, because the second `x = 4` has no effect since `x` was already defined.\n\n2. `y` is equal to 6, because `x` was 2 when `y` was assigned, and 3 * 2 is 6.\n\n3. `y` is equal to 12, because `x` is 4 and 3 * 4 is 12.\n\n4. `y` is equal to 12, because assigning `x` to 4 will update `y` to 12 since `y` was defined in terms of `x`.\n\n<!--\nBEGIN QUESTION\nname: q3_3\nmanual: false\npoints:\n - 0\n - 4\n-->",
   "metadata": {
    "deletable": false,
    "editable": false,
    "cell_id": "00031-2e498c2f-fbfe-46e5-8455-528f4de935c5",
    "deepnote_cell_type": "markdown",
    "deepnote_cell_height": 201.39999389648438
   }
  },
  {
   "cell_type": "code",
   "metadata": {
    "cell_id": "00032-ed78cab0-040b-41ae-8f6a-9551634f8258",
    "deepnote_to_be_reexecuted": false,
    "source_hash": "ef811559",
    "execution_start": 1655496198764,
    "execution_millis": 0,
    "deepnote_cell_type": "code",
    "deepnote_cell_height": 81
   },
   "source": "names_q3 = 4",
   "execution_count": null,
   "outputs": []
  },
  {
   "cell_type": "code",
   "metadata": {
    "deletable": false,
    "editable": false,
    "cell_id": "00033-28113dbf-b75e-4812-96c7-3c972ecdf873",
    "deepnote_to_be_reexecuted": false,
    "source_hash": "810aedcc",
    "execution_start": 1655496200095,
    "execution_millis": 21,
    "deepnote_cell_type": "code",
    "deepnote_cell_height": 142,
    "deepnote_output_heights": [
     45
    ]
   },
   "source": "grader.check(\"q3_3\")",
   "execution_count": null,
   "outputs": [
    {
     "output_type": "execute_result",
     "execution_count": 23,
     "data": {
      "text/plain": "q3_3 results: All test cases passed!",
      "text/html": "<p><strong><pre style='display: inline;'>q3_3</pre></strong> passed!</p>"
     },
     "metadata": {}
    }
   ]
  },
  {
   "cell_type": "markdown",
   "source": "## 4. Differences Between Majors",
   "metadata": {
    "cell_id": "00034-1f52a78f-f86c-440a-9077-40162ad06724",
    "deepnote_cell_type": "markdown",
    "deepnote_cell_height": 70
   }
  },
  {
   "cell_type": "markdown",
   "source": "Berkeley’s Office of Planning and Analysis provides data on numerous aspects of the campus. Adapted from the OPA website, the table below displays the number of degree recipients in three majors in the 2008-2009 and 2017-2018 academic years.\n\n| Major                              | 2008-2009    | 2017-2018   |\n|------------------------------------|--------------|-------------|\n| Gender and Women's Studies         |      17      |    28       |\n| Linguistics                        |      49      |    67       |\n| Rhetoric                           |      113     |    56       |\n\n",
   "metadata": {
    "cell_id": "00035-6e15423e-5d8a-41e9-9fed-eb63051031e8",
    "deepnote_cell_type": "markdown",
    "deepnote_cell_height": 186.39999389648438
   }
  },
  {
   "cell_type": "markdown",
   "source": "**Question 1.** Suppose you want to find the **biggest** absolute difference between the number of degree recipients in the two years, among the three majors.\n\nIn the cell below, compute this value and call it `biggest_change`. Use a single expression (a single line of code) to compute the answer. Let Python perform all the arithmetic (like subtracting 49 from 67) rather than simplifying the expression yourself. The built-in `abs` function takes a numerical input and returns the absolute value. The built-in `max` function can take in 3 arguments and returns the maximum of the three numbers. **(5 Points)**\n\n<!--\nBEGIN QUESTION\nname: q4_1\nmanual: False\npoints:\n - 0\n - 5\n-->",
   "metadata": {
    "deletable": false,
    "editable": false,
    "cell_id": "00036-41edc6a2-b097-403a-b519-7fd0306510af",
    "deepnote_cell_type": "markdown",
    "deepnote_cell_height": 192.39999389648438
   }
  },
  {
   "cell_type": "code",
   "metadata": {
    "deletable": false,
    "cell_id": "00037-48ba8a46-707b-419c-a306-35f2604ca736",
    "deepnote_to_be_reexecuted": false,
    "source_hash": "e9ecbc8f",
    "execution_start": 1655496675838,
    "execution_millis": 1,
    "deepnote_cell_type": "code",
    "deepnote_cell_height": 136,
    "deepnote_output_heights": [
     21
    ]
   },
   "source": "biggest_change = max(abs(17 - 28),(49 - 67),(113 - 56))\nbiggest_change",
   "execution_count": null,
   "outputs": [
    {
     "output_type": "execute_result",
     "execution_count": 29,
     "data": {
      "text/plain": "57"
     },
     "metadata": {}
    }
   ]
  },
  {
   "cell_type": "code",
   "metadata": {
    "deletable": false,
    "editable": false,
    "cell_id": "00038-6743b7a8-324c-48c6-a9d7-eae106c64af8",
    "deepnote_to_be_reexecuted": false,
    "source_hash": "7f5c7086",
    "execution_start": 1655496678302,
    "execution_millis": 37,
    "deepnote_cell_type": "code",
    "deepnote_cell_height": 142,
    "deepnote_output_heights": [
     45
    ]
   },
   "source": "grader.check(\"q4_1\")",
   "execution_count": null,
   "outputs": [
    {
     "output_type": "execute_result",
     "execution_count": 30,
     "data": {
      "text/plain": "q4_1 results: All test cases passed!",
      "text/html": "<p><strong><pre style='display: inline;'>q4_1</pre></strong> passed!</p>"
     },
     "metadata": {}
    }
   ]
  },
  {
   "cell_type": "markdown",
   "source": "**Question 2.** Which of the three majors had the **smallest** absolute difference? Assign `smallest_change_major` to 1, 2, or 3 where each number corresponds to the following major:\n\n1. Gender and Women's Studies  \n2. Linguistics  \n3. Rhetoric\n\nChoose the number that corresponds to the major with the smallest absolute difference.\n\nYou should be able to answer by rough mental arithmetic, without having to calculate the exact value for each major. **(4 Points)** \n\n<!--\nBEGIN QUESTION\nname: q4_2\nmanual: False\npoints:\n - 0\n - 4\n-->",
   "metadata": {
    "deletable": false,
    "editable": false,
    "cell_id": "00039-f67d5635-9a56-4027-9d0c-3d570ca99829",
    "deepnote_cell_type": "markdown",
    "deepnote_cell_height": 248.8000030517578
   }
  },
  {
   "cell_type": "code",
   "metadata": {
    "deletable": false,
    "cell_id": "00040-e86a3f3e-53ed-4b97-a0c5-0bde1b353826",
    "deepnote_to_be_reexecuted": false,
    "source_hash": "ba5f8391",
    "execution_start": 1655496711936,
    "execution_millis": 4,
    "deepnote_cell_type": "code",
    "deepnote_cell_height": 136,
    "deepnote_output_heights": [
     21
    ]
   },
   "source": "smallest_change_major = min(abs(17 - 28),(49 - 67),(113 - 56))\nsmallest_change_major",
   "execution_count": null,
   "outputs": [
    {
     "output_type": "execute_result",
     "execution_count": 31,
     "data": {
      "text/plain": "-18"
     },
     "metadata": {}
    }
   ]
  },
  {
   "cell_type": "code",
   "metadata": {
    "deletable": false,
    "editable": false,
    "cell_id": "00041-8dd7a4bc-0ca7-4370-b3d5-520ca1304e26",
    "deepnote_to_be_reexecuted": false,
    "source_hash": "ef85153d",
    "execution_start": 1655496714290,
    "execution_millis": 41,
    "deepnote_cell_type": "code",
    "deepnote_cell_height": 142,
    "deepnote_output_heights": [
     45
    ]
   },
   "source": "grader.check(\"q4_2\")",
   "execution_count": null,
   "outputs": [
    {
     "output_type": "execute_result",
     "execution_count": 32,
     "data": {
      "text/plain": "q4_2 results: All test cases passed!",
      "text/html": "<p><strong><pre style='display: inline;'>q4_2</pre></strong> passed!</p>"
     },
     "metadata": {}
    }
   ]
  },
  {
   "cell_type": "markdown",
   "source": "**Question 3.**  For each major, define the “relative change” to be the following: $\\large{\\frac{\\text{absolute difference}}{\\text{value in 2008-2009}} * 100}$ \n\nFill in the code below such that `gws_relative_change`, `linguistics_relative_change` and `rhetoric_relative_change` are assigned to the relative changes for their respective majors. **(5 Points)**\n\n<!--\nBEGIN QUESTION\nname: q4_3\nmanual: False\npoints:\n - 0\n - 0 \n - 0\n - 1\n - 2\n - 2\n-->",
   "metadata": {
    "deletable": false,
    "editable": false,
    "cell_id": "00042-d178a1fa-cba2-46b3-a46c-bf4113f7bffe",
    "deepnote_cell_type": "markdown",
    "deepnote_cell_height": 128.26666259765625
   }
  },
  {
   "cell_type": "code",
   "metadata": {
    "deletable": false,
    "for_assignment_type": "student",
    "cell_id": "00043-cda1ab62-857d-4e18-96fb-f770e93a7f6b",
    "deepnote_to_be_reexecuted": false,
    "source_hash": "8b569776",
    "execution_start": 1655496881538,
    "execution_millis": 90,
    "deepnote_cell_type": "code",
    "deepnote_cell_height": 172,
    "deepnote_output_heights": [
     21
    ]
   },
   "source": "gws_relative_change = (abs(28) / 17) * 100\nlinguistics_relative_change = (abs(67) / 49) * 100\nrhetoric_relative_change = (abs(56) / 113) * 100\ngws_relative_change, linguistics_relative_change, rhetoric_relative_change",
   "execution_count": null,
   "outputs": [
    {
     "output_type": "execute_result",
     "execution_count": 35,
     "data": {
      "text/plain": "(164.70588235294116, 136.73469387755102, 49.557522123893804)"
     },
     "metadata": {}
    }
   ]
  },
  {
   "cell_type": "code",
   "metadata": {
    "deletable": false,
    "editable": false,
    "cell_id": "00044-b7fc0b44-d5d7-42ec-a0fe-c0377b74e067",
    "deepnote_to_be_reexecuted": false,
    "source_hash": "8e2a63d5",
    "execution_start": 1655496884197,
    "execution_millis": 264,
    "deepnote_cell_type": "code",
    "deepnote_cell_height": 142,
    "deepnote_output_heights": [
     45
    ]
   },
   "source": "grader.check(\"q4_3\")",
   "execution_count": null,
   "outputs": [
    {
     "output_type": "execute_result",
     "execution_count": 36,
     "data": {
      "text/plain": "q4_3 results: All test cases passed!",
      "text/html": "<p><strong><pre style='display: inline;'>q4_3</pre></strong> passed!</p>"
     },
     "metadata": {}
    }
   ]
  },
  {
   "cell_type": "markdown",
   "source": "**Question 4.** Assign `biggest_rel_change_major` to 1, 2, or 3 where each number corresponds to to the following: \n\n1. Gender and Women's Studies  \n2. Linguistics  \n3. Rhetoric\n\nChoose the number that corresponds to the major with the biggest relative change. **(4 Points)**\n\n<!--\nBEGIN QUESTION\nname: q4_4\nmanual: False\npoints:\n - 0\n - 4\n-->",
   "metadata": {
    "deletable": false,
    "editable": false,
    "cell_id": "00045-255d8510-5d17-443a-918e-6a4f6455d10a",
    "deepnote_cell_type": "markdown",
    "deepnote_cell_height": 190
   }
  },
  {
   "cell_type": "code",
   "metadata": {
    "deletable": false,
    "cell_id": "00046-51601686-a57a-4e0e-93a8-1361e600639f",
    "deepnote_to_be_reexecuted": false,
    "source_hash": "74f05def",
    "execution_start": 1655496909093,
    "execution_millis": 759,
    "deepnote_cell_type": "code",
    "deepnote_cell_height": 136,
    "deepnote_output_heights": [
     21
    ]
   },
   "source": "biggest_rel_change_major = 1\nbiggest_rel_change_major",
   "execution_count": null,
   "outputs": [
    {
     "output_type": "execute_result",
     "execution_count": 38,
     "data": {
      "text/plain": "1"
     },
     "metadata": {}
    }
   ]
  },
  {
   "cell_type": "code",
   "metadata": {
    "deletable": false,
    "editable": false,
    "cell_id": "00047-346c0f37-c27b-4556-a77a-8f8324dfb706",
    "deepnote_to_be_reexecuted": false,
    "source_hash": "e53d2afb",
    "execution_start": 1655496911786,
    "execution_millis": 10,
    "deepnote_cell_type": "code",
    "deepnote_cell_height": 142,
    "deepnote_output_heights": [
     45
    ]
   },
   "source": "grader.check(\"q4_4\")",
   "execution_count": null,
   "outputs": [
    {
     "output_type": "execute_result",
     "execution_count": 39,
     "data": {
      "text/plain": "q4_4 results: All test cases passed!",
      "text/html": "<p><strong><pre style='display: inline;'>q4_4</pre></strong> passed!</p>"
     },
     "metadata": {}
    }
   ]
  },
  {
   "cell_type": "markdown",
   "source": "## 5. Nearsightedness Study",
   "metadata": {
    "cell_id": "00048-56bdbc15-c4cd-4628-b6fe-ae97e5c3ba3c",
    "deepnote_cell_type": "markdown",
    "deepnote_cell_height": 70
   }
  },
  {
   "cell_type": "markdown",
   "source": "[Myopia](https://en.wikipedia.org/wiki/Myopia), or nearsightedness, results from a number of genetic and environmental factors. In 1999, Quinn et al studied the relation between myopia and ambient lighting at night (for example, from nightlights or room lights) during childhood.",
   "metadata": {
    "cell_id": "00049-3dcfce32-e0c3-4baa-b8c0-bca396dfcb3c",
    "deepnote_cell_type": "markdown",
    "deepnote_cell_height": 74.80000305175781
   }
  },
  {
   "cell_type": "markdown",
   "source": "<!-- BEGIN QUESTION -->\n\n**Question 1.** The data were gathered by the following procedure, reported in the study. \"Between January and June 1998, parents of children aged 2-16 years [...] that were seen as outpatients in a university pediatric ophthalmology clinic completed a questionnaire on the child's light exposure both at present and before the age of 2 years.\" Was this study observational, or was it a controlled experiment? Explain. **(5 Points)**\n\n<!--\nBEGIN QUESTION\nname: q5_1\nmanual: True\n-->",
   "metadata": {
    "deletable": false,
    "editable": false,
    "cell_id": "00050-b5a7d536-9923-4551-81fd-598e856de242",
    "deepnote_cell_type": "markdown",
    "deepnote_cell_height": 133.60000610351562
   }
  },
  {
   "cell_type": "markdown",
   "source": "I believe this study was observational",
   "metadata": {
    "cell_id": "00051-572db0e0-fe6d-4111-bb95-8032e97828f5",
    "deepnote_cell_type": "markdown",
    "deepnote_cell_height": 52.399993896484375
   }
  },
  {
   "cell_type": "markdown",
   "source": "<!-- END QUESTION -->\n\n<!-- BEGIN QUESTION -->\n\n**Question 2.** The study found that of the children who slept with a room light on before the age of 2, 55% were myopic. Of the children who slept with a night light on before the age of 2, 34% were myopic. Of the children who slept in the dark before the age of 2, 10% were myopic. The study concluded the following: \"The prevalence of myopia [...] during childhood was strongly associated with ambient light exposure during sleep at night in the first two years after birth.\"\n\nDo the data support this statement? Why or why not? You may interpret \"strongly\" in any reasonable qualitative way. **(5 Points)**\n\n<!--\nBEGIN QUESTION\nname: q5_2\nmanual: True\n-->",
   "metadata": {
    "deletable": false,
    "editable": false,
    "cell_id": "00052-90eea840-1c69-4c01-a563-cae26fc11df2",
    "deepnote_cell_type": "markdown",
    "deepnote_cell_height": 170
   }
  },
  {
   "cell_type": "markdown",
   "source": "I believe the data strongly supports the statement. As comparing the kids before age 2, 34% were myopic with a night light, while only 10% were when they just slept in the dark.",
   "metadata": {
    "cell_id": "00053-653e9634-2138-4330-87f2-125ac3fe6a7f",
    "deepnote_cell_type": "markdown",
    "deepnote_cell_height": 74.80000305175781
   }
  },
  {
   "cell_type": "markdown",
   "source": "<!-- END QUESTION -->\n\n<!-- BEGIN QUESTION -->\n\n**Question 3.** On May 13, 1999, CNN reported the results of this study under the headline, \"Night light may lead to nearsightedness.\" Does the conclusion of the study claim that night light causes nearsightedness? **(5 Points)**\n\n<!--\nBEGIN QUESTION\nname: q5_3\nmanual: True\n-->",
   "metadata": {
    "deletable": false,
    "editable": false,
    "cell_id": "00054-32dc08d6-1196-42f5-9fa0-87a71ee2ef05",
    "deepnote_cell_type": "markdown",
    "deepnote_cell_height": 88.80000305175781
   }
  },
  {
   "cell_type": "markdown",
   "source": "It never explicitly said that a night light causes nearsightedness but that there is an association.",
   "metadata": {
    "cell_id": "00055-e4c646e3-6901-4f3f-b94d-13bf687133a3",
    "deepnote_cell_type": "markdown",
    "deepnote_cell_height": 52.399993896484375
   }
  },
  {
   "cell_type": "markdown",
   "source": "<!-- END QUESTION -->\n\n<!-- BEGIN QUESTION -->\n\n**Question 4.** The final paragraph of the CNN report said that \"several eye specialists\" had pointed out that the study should have accounted for heredity.\n\nMyopia is passed down from parents to children. Myopic parents are more likely to have myopic children, and may also be more likely to leave lights on habitually (since the parents have poor vision). In what way does the knowledge of this possible genetic link affect how we interpret the data from the study? Explain. **(5 Points)**\n\n<!--\nBEGIN QUESTION\nname: q5_4\nmanual: True\n-->",
   "metadata": {
    "deletable": false,
    "editable": false,
    "cell_id": "00056-e74011d0-df22-48ce-ae1e-eb6271267903",
    "deepnote_cell_type": "markdown",
    "deepnote_cell_height": 170
   }
  },
  {
   "cell_type": "markdown",
   "source": "It is a major confounding factor that throws off the entire study. Without this included in the stdudy, we cannot truly say if the night light was the reason of the myopia in these children.",
   "metadata": {
    "cell_id": "00057-c6b117bd-d0f6-45e7-af64-8296790c0dd0",
    "deepnote_cell_type": "markdown",
    "deepnote_cell_height": 74.80000305175781
   }
  },
  {
   "cell_type": "markdown",
   "source": "<!-- END QUESTION -->\n\n\n\n## 6. Studying the Survivors",
   "metadata": {
    "cell_id": "00058-1726888a-24a0-48b7-b81e-89e2d97c69e7",
    "deepnote_cell_type": "markdown",
    "deepnote_cell_height": 70
   }
  },
  {
   "cell_type": "markdown",
   "source": "The Reverend Henry Whitehead was skeptical of John Snow’s conclusion about the Broad Street pump. After the Broad Street cholera epidemic ended, Whitehead set about trying to prove Snow wrong.  (The history of the event is detailed [here](http://www.ncbi.nlm.nih.gov/pmc/articles/PMC1034367/pdf/medhist00183-0026.pdf).)\n\nHe realized that Snow had focused his analysis almost entirely on those who had died. Whitehead, therefore, investigated the drinking habits of people in the Broad Street area who had not died in the outbreak.\n\nWhat is the main reason it was important to study this group? Assign either 1, 2, or 3 to the name `survivor_answer` below. **(4 Points)**\n\n1. If Whitehead had found that many people had drunk water from the Broad Street pump and not caught cholera, that would have been evidence against Snow's hypothesis.\n\n2. Survivors could provide additional information about what else could have caused the cholera, potentially unearthing another cause.\n\n3. Through considering the survivors, Whitehead could have identified a cure for cholera.\n\n<!--\nBEGIN QUESTION\nname: q6_1\nmanual: False\npoints:\n - 0\n - 4\n-->",
   "metadata": {
    "deletable": false,
    "editable": false,
    "cell_id": "00059-cfacde33-a3d0-492b-a3ca-4b572f0a702d",
    "deepnote_cell_type": "markdown",
    "deepnote_cell_height": 338.3999938964844
   }
  },
  {
   "cell_type": "code",
   "metadata": {
    "deletable": false,
    "tags": [],
    "cell_id": "00060-1ee5db11-239e-494c-b9f5-2d7aec619e95",
    "deepnote_to_be_reexecuted": false,
    "source_hash": "e0bab513",
    "execution_start": 1655496932414,
    "execution_millis": 1,
    "deepnote_cell_type": "code",
    "deepnote_cell_height": 81
   },
   "source": "survivor_answer = 3",
   "execution_count": null,
   "outputs": []
  },
  {
   "cell_type": "code",
   "metadata": {
    "deletable": false,
    "editable": false,
    "cell_id": "00061-65140776-fd26-4850-b9ed-098cb8c4365c",
    "deepnote_to_be_reexecuted": false,
    "source_hash": "3db3bcd2",
    "execution_start": 1655496934972,
    "execution_millis": 574,
    "deepnote_cell_type": "code",
    "deepnote_cell_height": 142,
    "deepnote_output_heights": [
     45
    ]
   },
   "source": "grader.check(\"q6_1\")",
   "execution_count": null,
   "outputs": [
    {
     "output_type": "execute_result",
     "execution_count": 42,
     "data": {
      "text/plain": "q6_1 results: All test cases passed!",
      "text/html": "<p><strong><pre style='display: inline;'>q6_1</pre></strong> passed!</p>"
     },
     "metadata": {}
    }
   ]
  },
  {
   "cell_type": "markdown",
   "source": "**Note:** Whitehead ended up finding further proof that the Broad Street pump played a central role in spreading the disease to the people who lived near it. Eventually, he became one of Snow’s greatest defenders.",
   "metadata": {
    "cell_id": "00062-51b7dd85-0a31-4662-839c-94a263eaa1cb",
    "deepnote_cell_type": "markdown",
    "deepnote_cell_height": 74.80000305175781
   }
  },
  {
   "cell_type": "markdown",
   "source": "---\n\nTo double-check your work, the cell below will rerun all of the autograder tests.",
   "metadata": {
    "deletable": false,
    "editable": false,
    "cell_id": "00095-b4b1f417-27ce-4239-b087-61081374d235",
    "deepnote_cell_type": "markdown",
    "deepnote_cell_height": 53.399993896484375
   }
  },
  {
   "cell_type": "code",
   "metadata": {
    "deletable": false,
    "editable": false,
    "cell_id": "00096-78bd8cc8-e8d3-4198-b544-60093551e51e",
    "deepnote_to_be_reexecuted": false,
    "source_hash": "3e4d35bc",
    "execution_start": 1655497619632,
    "execution_millis": 89,
    "deepnote_cell_type": "code",
    "deepnote_cell_height": 708,
    "deepnote_output_heights": [
     611
    ]
   },
   "source": "grader.check_all()",
   "execution_count": null,
   "outputs": [
    {
     "output_type": "execute_result",
     "execution_count": 44,
     "data": {
      "text/plain": "q2_1 results: All test cases passed!\n\nq2_2 results: All test cases passed!\n\nq3_1 results: All test cases passed!\n\nq3_2 results: All test cases passed!\n\nq3_3 results: All test cases passed!\n\nq4_1 results: All test cases passed!\n\nq4_2 results: All test cases passed!\n\nq4_3 results: All test cases passed!\n\nq4_4 results: All test cases passed!\n\nq6_1 results: All test cases passed!\n\nq7_1 results:\n    q7_1 - 1 result:\n        Trying:\n            contact == 3\n        Expecting:\n            True\n        **********************************************************************\n        Line 1, in q7_1 0\n        Failed example:\n            contact == 3\n        Exception raised:\n            Traceback (most recent call last):\n              File \"/usr/local/lib/python3.9/doctest.py\", line 1334, in __run\n                exec(compile(example.source, filename, \"single\",\n              File \"<doctest q7_1 0[0]>\", line 1, in <module>\n                contact == 3\n            NameError: name 'contact' is not defined\n\nq7_2 results:\n    q7_2 - 1 result:\n        Trying:\n            grades == 2\n        Expecting:\n            True\n        **********************************************************************\n        Line 1, in q7_2 0\n        Failed example:\n            grades == 2\n        Exception raised:\n            Traceback (most recent call last):\n              File \"/usr/local/lib/python3.9/doctest.py\", line 1334, in __run\n                exec(compile(example.source, filename, \"single\",\n              File \"<doctest q7_2 0[0]>\", line 1, in <module>\n                grades == 2\n            NameError: name 'grades' is not defined\n\nq7_3 results:\n    q7_3 - 1 result:\n        Trying:\n            regrade == 2\n        Expecting:\n            True\n        **********************************************************************\n        Line 1, in q7_3 0\n        Failed example:\n            regrade == 2\n        Exception raised:\n            Traceback (most recent call last):\n              File \"/usr/local/lib/python3.9/doctest.py\", line 1334, in __run\n                exec(compile(example.source, filename, \"single\",\n              File \"<doctest q7_3 0[0]>\", line 1, in <module>\n                regrade == 2\n            NameError: name 'regrade' is not defined\n\nq7_4 results:\n    q7_4 - 1 result:\n        Trying:\n            gradescope == 349879\n        Expecting:\n            True\n        **********************************************************************\n        Line 1, in q7_4 0\n        Failed example:\n            gradescope == 349879\n        Exception raised:\n            Traceback (most recent call last):\n              File \"/usr/local/lib/python3.9/doctest.py\", line 1334, in __run\n                exec(compile(example.source, filename, \"single\",\n              File \"<doctest q7_4 0[0]>\", line 1, in <module>\n                gradescope == 349879\n            NameError: name 'gradescope' is not defined\n\nq7_5 results:\n    q7_5 - 1 result:\n        Trying:\n            acceptable == 2\n        Expecting:\n            True\n        **********************************************************************\n        Line 1, in q7_5 0\n        Failed example:\n            acceptable == 2\n        Exception raised:\n            Traceback (most recent call last):\n              File \"/usr/local/lib/python3.9/doctest.py\", line 1334, in __run\n                exec(compile(example.source, filename, \"single\",\n              File \"<doctest q7_5 0[0]>\", line 1, in <module>\n                acceptable == 2\n            NameError: name 'acceptable' is not defined\n\nq7_6 results:\n    q7_6 - 1 result:\n        Trying:\n            drops == 2\n        Expecting:\n            True\n        **********************************************************************\n        Line 1, in q7_6 0\n        Failed example:\n            drops == 2\n        Exception raised:\n            Traceback (most recent call last):\n              File \"/usr/local/lib/python3.9/doctest.py\", line 1334, in __run\n                exec(compile(example.source, filename, \"single\",\n              File \"<doctest q7_6 0[0]>\", line 1, in <module>\n                drops == 2\n            NameError: name 'drops' is not defined\n\nq7_7 results:\n    q7_7 - 1 result:\n        Trying:\n            exams == 1\n        Expecting:\n            True\n        **********************************************************************\n        Line 1, in q7_7 0\n        Failed example:\n            exams == 1\n        Exception raised:\n            Traceback (most recent call last):\n              File \"/usr/local/lib/python3.9/doctest.py\", line 1334, in __run\n                exec(compile(example.source, filename, \"single\",\n              File \"<doctest q7_7 0[0]>\", line 1, in <module>\n                exams == 1\n            NameError: name 'exams' is not defined\n\nq7_8 results:\n    q7_8 - 1 result:\n        Trying:\n            type(secret) == str\n        Expecting:\n            True\n        **********************************************************************\n        Line 3, in q7_8 0\n        Failed example:\n            type(secret) == str\n        Exception raised:\n            Traceback (most recent call last):\n              File \"/usr/local/lib/python3.9/doctest.py\", line 1334, in __run\n                exec(compile(example.source, filename, \"single\",\n              File \"<doctest q7_8 0[0]>\", line 1, in <module>\n                type(secret) == str\n            NameError: name 'secret' is not defined\n\n    q7_8 - 2 result:\n        Trying:\n            len(secret)\n        Expecting:\n            5\n        **********************************************************************\n        Line 1, in q7_8 1\n        Failed example:\n            len(secret)\n        Exception raised:\n            Traceback (most recent call last):\n              File \"/usr/local/lib/python3.9/doctest.py\", line 1334, in __run\n                exec(compile(example.source, filename, \"single\",\n              File \"<doctest q7_8 1[0]>\", line 1, in <module>\n                len(secret)\n            NameError: name 'secret' is not defined\n\nq8_1 results:\n    q8_1 - 1 result:\n        Trying:\n            survey == \"data8 is data gr8\"\n        Expecting:\n            True\n        **********************************************************************\n        Line 1, in q8_1 0\n        Failed example:\n            survey == \"data8 is data gr8\"\n        Exception raised:\n            Traceback (most recent call last):\n              File \"/usr/local/lib/python3.9/doctest.py\", line 1334, in __run\n                exec(compile(example.source, filename, \"single\",\n              File \"<doctest q8_1 0[0]>\", line 1, in <module>\n                survey == \"data8 is data gr8\"\n            NameError: name 'survey' is not defined"
     },
     "metadata": {}
    }
   ]
  },
  {
   "cell_type": "markdown",
   "source": "## Submission\n\nMake sure you have run all cells in your notebook in order before running the cell below, so that all images/graphs appear in the output. The cell below will generate a zip file for you to submit. **Please save before exporting!**",
   "metadata": {
    "deletable": false,
    "editable": false,
    "cell_id": "00097-0db2a29e-c8df-4196-88b6-9612bb82b7e5",
    "deepnote_cell_type": "markdown",
    "deepnote_cell_height": 130.8000030517578
   }
  },
  {
   "cell_type": "code",
   "metadata": {
    "deletable": false,
    "editable": false,
    "cell_id": "00098-1a80720a-7819-4316-a0ca-f3025241b97c",
    "deepnote_to_be_reexecuted": false,
    "source_hash": "6f724915",
    "owner_user_id": "80fe8cbc-043d-4a7e-9c6f-799b39be207a",
    "execution_start": 1655749549971,
    "execution_millis": 21,
    "deepnote_cell_type": "code",
    "deepnote_cell_height": 148,
    "deepnote_output_heights": [
     33
    ]
   },
   "source": "# Save your notebook first, then run this cell to export your submission.\ngrader.export(pdf=False)",
   "execution_count": 2,
   "outputs": [
    {
     "data": {
      "text/plain": "<IPython.core.display.HTML object>",
      "text/html": "\n            <p>Your submission has been exported. Click <a href=\"hw01_2022_06_20T18_25_49_971774.zip\" download=\"hw01_2022_06_20T18_25_49_971774.zip\" target=\"_blank\">here</a>\n            to download the zip file.</p>\n            "
     },
     "metadata": {},
     "output_type": "display_data"
    }
   ]
  },
  {
   "cell_type": "markdown",
   "source": " ",
   "metadata": {
    "cell_id": "00099-a3c72fd4-3cf0-4eb4-9dfa-e2d23bfb318c",
    "deepnote_cell_type": "markdown",
    "deepnote_cell_height": 46
   }
  },
  {
   "cell_type": "markdown",
   "source": "<a style='text-decoration:none;line-height:16px;display:flex;color:#5B5B62;padding:10px;justify-content:end;' href='https://deepnote.com?utm_source=created-in-deepnote-cell&projectId=ef6c0823-e062-4ba0-8bfb-7690ef03f945' target=\"_blank\">\n<img alt='Created in deepnote.com' style='display:inline;max-height:16px;margin:0px;margin-right:7.5px;' src='data:image/svg+xml;base64,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' > </img>\nCreated in <span style='font-weight:600;margin-left:4px;'>Deepnote</span></a>",
   "metadata": {
    "tags": [],
    "created_in_deepnote_cell": true,
    "deepnote_cell_type": "markdown"
   }
  }
 ],
 "nbformat": 4,
 "nbformat_minor": 5,
 "metadata": {
  "kernelspec": {
   "display_name": "Python 3 (ipykernel)",
   "language": "python",
   "name": "python3"
  },
  "language_info": {
   "codemirror_mode": {
    "name": "ipython",
    "version": 3
   },
   "file_extension": ".py",
   "mimetype": "text/x-python",
   "name": "python",
   "nbconvert_exporter": "python",
   "pygments_lexer": "ipython3",
   "version": "3.9.9"
  },
  "widgets": {
   "application/vnd.jupyter.widget-state+json": {
    "state": {
     "03f08d337f984ced9f6742ec4e4aa49e": {
      "model_module": "@jupyter-widgets/controls",
      "model_module_version": "1.5.0",
      "model_name": "VBoxModel",
      "state": {
       "_dom_classes": [],
       "_model_module": "@jupyter-widgets/controls",
       "_model_module_version": "1.5.0",
       "_model_name": "VBoxModel",
       "_view_count": null,
       "_view_module": "@jupyter-widgets/controls",
       "_view_module_version": "1.5.0",
       "_view_name": "VBoxView",
       "box_style": "",
       "children": [
        "IPY_MODEL_0f44992ec34a4e928d90c4dc6de69140",
        "IPY_MODEL_79b1d6ca737e44fba087f31ea33d576c"
       ],
       "layout": "IPY_MODEL_70d3929012074741bba3a09b2adb7a88"
      }
     },
     "049d95a80ac047dcbb84cb3060d58369": {
      "model_module": "@jupyter-widgets/base",
      "model_module_version": "1.2.0",
      "model_name": "LayoutModel",
      "state": {
       "_model_module": "@jupyter-widgets/base",
       "_model_module_version": "1.2.0",
       "_model_name": "LayoutModel",
       "_view_count": null,
       "_view_module": "@jupyter-widgets/base",
       "_view_module_version": "1.2.0",
       "_view_name": "LayoutView",
       "align_content": null,
       "align_items": null,
       "align_self": null,
       "border": null,
       "bottom": null,
       "display": null,
       "flex": null,
       "flex_flow": null,
       "grid_area": null,
       "grid_auto_columns": null,
       "grid_auto_flow": null,
       "grid_auto_rows": null,
       "grid_column": null,
       "grid_gap": null,
       "grid_row": null,
       "grid_template_areas": null,
       "grid_template_columns": null,
       "grid_template_rows": null,
       "height": null,
       "justify_content": null,
       "justify_items": null,
       "left": null,
       "margin": null,
       "max_height": null,
       "max_width": null,
       "min_height": null,
       "min_width": null,
       "object_fit": null,
       "object_position": null,
       "order": null,
       "overflow": null,
       "overflow_x": null,
       "overflow_y": null,
       "padding": null,
       "right": null,
       "top": null,
       "visibility": null,
       "width": null
      }
     },
     "0aed6e75464342cd940976caff12ad6b": {
      "model_module": "@jupyter-widgets/controls",
      "model_module_version": "1.5.0",
      "model_name": "DescriptionStyleModel",
      "state": {
       "_model_module": "@jupyter-widgets/controls",
       "_model_module_version": "1.5.0",
       "_model_name": "DescriptionStyleModel",
       "_view_count": null,
       "_view_module": "@jupyter-widgets/base",
       "_view_module_version": "1.2.0",
       "_view_name": "StyleView",
       "description_width": ""
      }
     },
     "0f44992ec34a4e928d90c4dc6de69140": {
      "model_module": "@jupyter-widgets/controls",
      "model_module_version": "1.5.0",
      "model_name": "VBoxModel",
      "state": {
       "_dom_classes": [],
       "_model_module": "@jupyter-widgets/controls",
       "_model_module_version": "1.5.0",
       "_model_name": "VBoxModel",
       "_view_count": null,
       "_view_module": "@jupyter-widgets/controls",
       "_view_module_version": "1.5.0",
       "_view_name": "VBoxView",
       "box_style": "",
       "children": [
        "IPY_MODEL_196a7889d5664e87afe7fc66a5d4bc42",
        "IPY_MODEL_4fdf6a234ad14f93a87799f7ff3c0670"
       ],
       "layout": "IPY_MODEL_366ba5b37c5a4c468935749aec810c1c"
      }
     },
     "1022692ff59b4323802f87565722798c": {
      "model_module": "@jupyter-widgets/controls",
      "model_module_version": "1.5.0",
      "model_name": "ButtonModel",
      "state": {
       "_dom_classes": [],
       "_model_module": "@jupyter-widgets/controls",
       "_model_module_version": "1.5.0",
       "_model_name": "ButtonModel",
       "_view_count": null,
       "_view_module": "@jupyter-widgets/controls",
       "_view_module_version": "1.5.0",
       "_view_name": "ButtonView",
       "button_style": "",
       "description": "Submit",
       "disabled": false,
       "icon": "",
       "layout": "IPY_MODEL_d6b2a0fd9b5246a49e6760396fd18040",
       "style": "IPY_MODEL_c46feefcea3740fe92b4893f357afa10",
       "tooltip": ""
      }
     },
     "196a7889d5664e87afe7fc66a5d4bc42": {
      "model_module": "@jupyter-widgets/controls",
      "model_module_version": "1.5.0",
      "model_name": "LabelModel",
      "state": {
       "_dom_classes": [],
       "_model_module": "@jupyter-widgets/controls",
       "_model_module_version": "1.5.0",
       "_model_name": "LabelModel",
       "_view_count": null,
       "_view_module": "@jupyter-widgets/controls",
       "_view_module_version": "1.5.0",
       "_view_name": "LabelView",
       "description": "",
       "description_tooltip": null,
       "layout": "IPY_MODEL_049d95a80ac047dcbb84cb3060d58369",
       "placeholder": "​",
       "style": "IPY_MODEL_974a60e0786241e89130f226ac5551d8",
       "value": "Was the message you saw useful?"
      }
     },
     "366ba5b37c5a4c468935749aec810c1c": {
      "model_module": "@jupyter-widgets/base",
      "model_module_version": "1.2.0",
      "model_name": "LayoutModel",
      "state": {
       "_model_module": "@jupyter-widgets/base",
       "_model_module_version": "1.2.0",
       "_model_name": "LayoutModel",
       "_view_count": null,
       "_view_module": "@jupyter-widgets/base",
       "_view_module_version": "1.2.0",
       "_view_name": "LayoutView",
       "align_content": null,
       "align_items": null,
       "align_self": null,
       "border": null,
       "bottom": null,
       "display": null,
       "flex": null,
       "flex_flow": null,
       "grid_area": null,
       "grid_auto_columns": null,
       "grid_auto_flow": null,
       "grid_auto_rows": null,
       "grid_column": null,
       "grid_gap": null,
       "grid_row": null,
       "grid_template_areas": null,
       "grid_template_columns": null,
       "grid_template_rows": null,
       "height": null,
       "justify_content": null,
       "justify_items": null,
       "left": null,
       "margin": null,
       "max_height": null,
       "max_width": null,
       "min_height": null,
       "min_width": null,
       "object_fit": null,
       "object_position": null,
       "order": null,
       "overflow": null,
       "overflow_x": null,
       "overflow_y": null,
       "padding": null,
       "right": null,
       "top": null,
       "visibility": null,
       "width": null
      }
     },
     "48d7a65923f84ba38153210dd20435f6": {
      "model_module": "@jupyter-widgets/controls",
      "model_module_version": "1.5.0",
      "model_name": "LabelModel",
      "state": {
       "_dom_classes": [],
       "_model_module": "@jupyter-widgets/controls",
       "_model_module_version": "1.5.0",
       "_model_name": "LabelModel",
       "_view_count": null,
       "_view_module": "@jupyter-widgets/controls",
       "_view_module_version": "1.5.0",
       "_view_name": "LabelView",
       "description": "",
       "description_tooltip": null,
       "layout": "IPY_MODEL_e85b4fd3c69041668155109c815768d9",
       "placeholder": "​",
       "style": "IPY_MODEL_0aed6e75464342cd940976caff12ad6b",
       "value": "Any other feedback?"
      }
     },
     "4fdf6a234ad14f93a87799f7ff3c0670": {
      "model_module": "@jupyter-widgets/controls",
      "model_module_version": "1.5.0",
      "model_name": "DropdownModel",
      "state": {
       "_dom_classes": [],
       "_model_module": "@jupyter-widgets/controls",
       "_model_module_version": "1.5.0",
       "_model_name": "DropdownModel",
       "_options_labels": [
        "",
        "Extremely useful",
        "Very useful",
        "Somewhat useful",
        "Slightly useful",
        "Not at all useful"
       ],
       "_view_count": null,
       "_view_module": "@jupyter-widgets/controls",
       "_view_module_version": "1.5.0",
       "_view_name": "DropdownView",
       "description": "",
       "description_tooltip": null,
       "disabled": false,
       "index": 0,
       "layout": "IPY_MODEL_eedd0adcddc44b2fb63789aee966969c",
       "style": "IPY_MODEL_d9f0486562484f2b992dec58f2fb5152"
      }
     },
     "537f50b0ad90491f800f31afe79435e5": {
      "model_module": "@jupyter-widgets/base",
      "model_module_version": "1.2.0",
      "model_name": "LayoutModel",
      "state": {
       "_model_module": "@jupyter-widgets/base",
       "_model_module_version": "1.2.0",
       "_model_name": "LayoutModel",
       "_view_count": null,
       "_view_module": "@jupyter-widgets/base",
       "_view_module_version": "1.2.0",
       "_view_name": "LayoutView",
       "align_content": null,
       "align_items": null,
       "align_self": null,
       "border": null,
       "bottom": null,
       "display": null,
       "flex": null,
       "flex_flow": null,
       "grid_area": null,
       "grid_auto_columns": null,
       "grid_auto_flow": null,
       "grid_auto_rows": null,
       "grid_column": null,
       "grid_gap": null,
       "grid_row": null,
       "grid_template_areas": null,
       "grid_template_columns": null,
       "grid_template_rows": null,
       "height": null,
       "justify_content": null,
       "justify_items": null,
       "left": null,
       "margin": null,
       "max_height": null,
       "max_width": null,
       "min_height": null,
       "min_width": null,
       "object_fit": null,
       "object_position": null,
       "order": null,
       "overflow": null,
       "overflow_x": null,
       "overflow_y": null,
       "padding": null,
       "right": null,
       "top": null,
       "visibility": null,
       "width": null
      }
     },
     "5fe2226e5a27414b95785f3809f9881a": {
      "model_module": "@jupyter-widgets/controls",
      "model_module_version": "1.5.0",
      "model_name": "DescriptionStyleModel",
      "state": {
       "_model_module": "@jupyter-widgets/controls",
       "_model_module_version": "1.5.0",
       "_model_name": "DescriptionStyleModel",
       "_view_count": null,
       "_view_module": "@jupyter-widgets/base",
       "_view_module_version": "1.2.0",
       "_view_name": "StyleView",
       "description_width": ""
      }
     },
     "70557177d4bd456b91bc83a928022636": {
      "model_module": "@jupyter-widgets/controls",
      "model_module_version": "1.5.0",
      "model_name": "TextModel",
      "state": {
       "_dom_classes": [],
       "_model_module": "@jupyter-widgets/controls",
       "_model_module_version": "1.5.0",
       "_model_name": "TextModel",
       "_view_count": null,
       "_view_module": "@jupyter-widgets/controls",
       "_view_module_version": "1.5.0",
       "_view_name": "TextView",
       "continuous_update": true,
       "description": "",
       "description_tooltip": null,
       "disabled": false,
       "layout": "IPY_MODEL_949b91c1ae9e4b7697272cb8a7997d5d",
       "placeholder": "Press enter to submit.",
       "style": "IPY_MODEL_5fe2226e5a27414b95785f3809f9881a",
       "value": ""
      }
     },
     "70d3929012074741bba3a09b2adb7a88": {
      "model_module": "@jupyter-widgets/base",
      "model_module_version": "1.2.0",
      "model_name": "LayoutModel",
      "state": {
       "_model_module": "@jupyter-widgets/base",
       "_model_module_version": "1.2.0",
       "_model_name": "LayoutModel",
       "_view_count": null,
       "_view_module": "@jupyter-widgets/base",
       "_view_module_version": "1.2.0",
       "_view_name": "LayoutView",
       "align_content": null,
       "align_items": null,
       "align_self": null,
       "border": null,
       "bottom": null,
       "display": null,
       "flex": null,
       "flex_flow": null,
       "grid_area": null,
       "grid_auto_columns": null,
       "grid_auto_flow": null,
       "grid_auto_rows": null,
       "grid_column": null,
       "grid_gap": null,
       "grid_row": null,
       "grid_template_areas": null,
       "grid_template_columns": null,
       "grid_template_rows": null,
       "height": null,
       "justify_content": null,
       "justify_items": null,
       "left": null,
       "margin": null,
       "max_height": null,
       "max_width": null,
       "min_height": null,
       "min_width": null,
       "object_fit": null,
       "object_position": null,
       "order": null,
       "overflow": null,
       "overflow_x": null,
       "overflow_y": null,
       "padding": null,
       "right": null,
       "top": null,
       "visibility": null,
       "width": null
      }
     },
     "79b1d6ca737e44fba087f31ea33d576c": {
      "model_module": "@jupyter-widgets/controls",
      "model_module_version": "1.5.0",
      "model_name": "VBoxModel",
      "state": {
       "_dom_classes": [],
       "_model_module": "@jupyter-widgets/controls",
       "_model_module_version": "1.5.0",
       "_model_name": "VBoxModel",
       "_view_count": null,
       "_view_module": "@jupyter-widgets/controls",
       "_view_module_version": "1.5.0",
       "_view_name": "VBoxView",
       "box_style": "",
       "children": [
        "IPY_MODEL_48d7a65923f84ba38153210dd20435f6",
        "IPY_MODEL_911407197c5b4563a56eb3c7b427fc59"
       ],
       "layout": "IPY_MODEL_537f50b0ad90491f800f31afe79435e5"
      }
     },
     "911407197c5b4563a56eb3c7b427fc59": {
      "model_module": "@jupyter-widgets/controls",
      "model_module_version": "1.5.0",
      "model_name": "HBoxModel",
      "state": {
       "_dom_classes": [],
       "_model_module": "@jupyter-widgets/controls",
       "_model_module_version": "1.5.0",
       "_model_name": "HBoxModel",
       "_view_count": null,
       "_view_module": "@jupyter-widgets/controls",
       "_view_module_version": "1.5.0",
       "_view_name": "HBoxView",
       "box_style": "",
       "children": [
        "IPY_MODEL_70557177d4bd456b91bc83a928022636",
        "IPY_MODEL_1022692ff59b4323802f87565722798c"
       ],
       "layout": "IPY_MODEL_95dce6117b904fee8a4ae76b5c901ace"
      }
     },
     "949b91c1ae9e4b7697272cb8a7997d5d": {
      "model_module": "@jupyter-widgets/base",
      "model_module_version": "1.2.0",
      "model_name": "LayoutModel",
      "state": {
       "_model_module": "@jupyter-widgets/base",
       "_model_module_version": "1.2.0",
       "_model_name": "LayoutModel",
       "_view_count": null,
       "_view_module": "@jupyter-widgets/base",
       "_view_module_version": "1.2.0",
       "_view_name": "LayoutView",
       "align_content": null,
       "align_items": null,
       "align_self": null,
       "border": null,
       "bottom": null,
       "display": null,
       "flex": null,
       "flex_flow": null,
       "grid_area": null,
       "grid_auto_columns": null,
       "grid_auto_flow": null,
       "grid_auto_rows": null,
       "grid_column": null,
       "grid_gap": null,
       "grid_row": null,
       "grid_template_areas": null,
       "grid_template_columns": null,
       "grid_template_rows": null,
       "height": null,
       "justify_content": null,
       "justify_items": null,
       "left": null,
       "margin": "0px 8px 0px 0px",
       "max_height": null,
       "max_width": null,
       "min_height": null,
       "min_width": null,
       "object_fit": null,
       "object_position": null,
       "order": null,
       "overflow": null,
       "overflow_x": null,
       "overflow_y": null,
       "padding": "0px",
       "right": null,
       "top": null,
       "visibility": null,
       "width": "50%"
      }
     },
     "95dce6117b904fee8a4ae76b5c901ace": {
      "model_module": "@jupyter-widgets/base",
      "model_module_version": "1.2.0",
      "model_name": "LayoutModel",
      "state": {
       "_model_module": "@jupyter-widgets/base",
       "_model_module_version": "1.2.0",
       "_model_name": "LayoutModel",
       "_view_count": null,
       "_view_module": "@jupyter-widgets/base",
       "_view_module_version": "1.2.0",
       "_view_name": "LayoutView",
       "align_content": null,
       "align_items": "center",
       "align_self": null,
       "border": null,
       "bottom": null,
       "display": null,
       "flex": null,
       "flex_flow": null,
       "grid_area": null,
       "grid_auto_columns": null,
       "grid_auto_flow": null,
       "grid_auto_rows": null,
       "grid_column": null,
       "grid_gap": null,
       "grid_row": null,
       "grid_template_areas": null,
       "grid_template_columns": null,
       "grid_template_rows": null,
       "height": null,
       "justify_content": null,
       "justify_items": null,
       "left": null,
       "margin": null,
       "max_height": null,
       "max_width": null,
       "min_height": null,
       "min_width": null,
       "object_fit": null,
       "object_position": null,
       "order": null,
       "overflow": null,
       "overflow_x": null,
       "overflow_y": null,
       "padding": null,
       "right": null,
       "top": null,
       "visibility": null,
       "width": null
      }
     },
     "974a60e0786241e89130f226ac5551d8": {
      "model_module": "@jupyter-widgets/controls",
      "model_module_version": "1.5.0",
      "model_name": "DescriptionStyleModel",
      "state": {
       "_model_module": "@jupyter-widgets/controls",
       "_model_module_version": "1.5.0",
       "_model_name": "DescriptionStyleModel",
       "_view_count": null,
       "_view_module": "@jupyter-widgets/base",
       "_view_module_version": "1.2.0",
       "_view_name": "StyleView",
       "description_width": ""
      }
     },
     "c46feefcea3740fe92b4893f357afa10": {
      "model_module": "@jupyter-widgets/controls",
      "model_module_version": "1.5.0",
      "model_name": "ButtonStyleModel",
      "state": {
       "_model_module": "@jupyter-widgets/controls",
       "_model_module_version": "1.5.0",
       "_model_name": "ButtonStyleModel",
       "_view_count": null,
       "_view_module": "@jupyter-widgets/base",
       "_view_module_version": "1.2.0",
       "_view_name": "StyleView",
       "button_color": null,
       "font_weight": ""
      }
     },
     "d6b2a0fd9b5246a49e6760396fd18040": {
      "model_module": "@jupyter-widgets/base",
      "model_module_version": "1.2.0",
      "model_name": "LayoutModel",
      "state": {
       "_model_module": "@jupyter-widgets/base",
       "_model_module_version": "1.2.0",
       "_model_name": "LayoutModel",
       "_view_count": null,
       "_view_module": "@jupyter-widgets/base",
       "_view_module_version": "1.2.0",
       "_view_name": "LayoutView",
       "align_content": null,
       "align_items": null,
       "align_self": null,
       "border": null,
       "bottom": null,
       "display": null,
       "flex": null,
       "flex_flow": null,
       "grid_area": null,
       "grid_auto_columns": null,
       "grid_auto_flow": null,
       "grid_auto_rows": null,
       "grid_column": null,
       "grid_gap": null,
       "grid_row": null,
       "grid_template_areas": null,
       "grid_template_columns": null,
       "grid_template_rows": null,
       "height": null,
       "justify_content": null,
       "justify_items": null,
       "left": null,
       "margin": null,
       "max_height": null,
       "max_width": null,
       "min_height": null,
       "min_width": "80px",
       "object_fit": null,
       "object_position": null,
       "order": null,
       "overflow": null,
       "overflow_x": null,
       "overflow_y": null,
       "padding": null,
       "right": null,
       "top": null,
       "visibility": null,
       "width": "10%"
      }
     },
     "d9f0486562484f2b992dec58f2fb5152": {
      "model_module": "@jupyter-widgets/controls",
      "model_module_version": "1.5.0",
      "model_name": "DescriptionStyleModel",
      "state": {
       "_model_module": "@jupyter-widgets/controls",
       "_model_module_version": "1.5.0",
       "_model_name": "DescriptionStyleModel",
       "_view_count": null,
       "_view_module": "@jupyter-widgets/base",
       "_view_module_version": "1.2.0",
       "_view_name": "StyleView",
       "description_width": ""
      }
     },
     "e85b4fd3c69041668155109c815768d9": {
      "model_module": "@jupyter-widgets/base",
      "model_module_version": "1.2.0",
      "model_name": "LayoutModel",
      "state": {
       "_model_module": "@jupyter-widgets/base",
       "_model_module_version": "1.2.0",
       "_model_name": "LayoutModel",
       "_view_count": null,
       "_view_module": "@jupyter-widgets/base",
       "_view_module_version": "1.2.0",
       "_view_name": "LayoutView",
       "align_content": null,
       "align_items": null,
       "align_self": null,
       "border": null,
       "bottom": null,
       "display": null,
       "flex": null,
       "flex_flow": null,
       "grid_area": null,
       "grid_auto_columns": null,
       "grid_auto_flow": null,
       "grid_auto_rows": null,
       "grid_column": null,
       "grid_gap": null,
       "grid_row": null,
       "grid_template_areas": null,
       "grid_template_columns": null,
       "grid_template_rows": null,
       "height": null,
       "justify_content": null,
       "justify_items": null,
       "left": null,
       "margin": null,
       "max_height": null,
       "max_width": null,
       "min_height": null,
       "min_width": null,
       "object_fit": null,
       "object_position": null,
       "order": null,
       "overflow": null,
       "overflow_x": null,
       "overflow_y": null,
       "padding": null,
       "right": null,
       "top": null,
       "visibility": null,
       "width": null
      }
     },
     "eadd865ebbcf4c9c9bf763b569e061c3": {
      "model_module": "@jupyter-widgets/base",
      "model_module_version": "1.2.0",
      "model_name": "LayoutModel",
      "state": {
       "_model_module": "@jupyter-widgets/base",
       "_model_module_version": "1.2.0",
       "_model_name": "LayoutModel",
       "_view_count": null,
       "_view_module": "@jupyter-widgets/base",
       "_view_module_version": "1.2.0",
       "_view_name": "LayoutView",
       "align_content": null,
       "align_items": null,
       "align_self": null,
       "border": null,
       "bottom": null,
       "display": null,
       "flex": null,
       "flex_flow": null,
       "grid_area": null,
       "grid_auto_columns": null,
       "grid_auto_flow": null,
       "grid_auto_rows": null,
       "grid_column": null,
       "grid_gap": null,
       "grid_row": null,
       "grid_template_areas": null,
       "grid_template_columns": null,
       "grid_template_rows": null,
       "height": null,
       "justify_content": null,
       "justify_items": null,
       "left": null,
       "margin": null,
       "max_height": null,
       "max_width": null,
       "min_height": null,
       "min_width": null,
       "object_fit": null,
       "object_position": null,
       "order": null,
       "overflow": null,
       "overflow_x": null,
       "overflow_y": null,
       "padding": null,
       "right": null,
       "top": null,
       "visibility": null,
       "width": null
      }
     },
     "eedd0adcddc44b2fb63789aee966969c": {
      "model_module": "@jupyter-widgets/base",
      "model_module_version": "1.2.0",
      "model_name": "LayoutModel",
      "state": {
       "_model_module": "@jupyter-widgets/base",
       "_model_module_version": "1.2.0",
       "_model_name": "LayoutModel",
       "_view_count": null,
       "_view_module": "@jupyter-widgets/base",
       "_view_module_version": "1.2.0",
       "_view_name": "LayoutView",
       "align_content": null,
       "align_items": null,
       "align_self": null,
       "border": null,
       "bottom": null,
       "display": null,
       "flex": null,
       "flex_flow": null,
       "grid_area": null,
       "grid_auto_columns": null,
       "grid_auto_flow": null,
       "grid_auto_rows": null,
       "grid_column": null,
       "grid_gap": null,
       "grid_row": null,
       "grid_template_areas": null,
       "grid_template_columns": null,
       "grid_template_rows": null,
       "height": null,
       "justify_content": null,
       "justify_items": null,
       "left": null,
       "margin": null,
       "max_height": null,
       "max_width": null,
       "min_height": null,
       "min_width": null,
       "object_fit": null,
       "object_position": null,
       "order": null,
       "overflow": null,
       "overflow_x": null,
       "overflow_y": null,
       "padding": null,
       "right": null,
       "top": null,
       "visibility": null,
       "width": null
      }
     },
     "f13938bf0d2840d3970e0f1faf87eb27": {
      "model_module": "@jupyter-widgets/controls",
      "model_module_version": "1.5.0",
      "model_name": "AccordionModel",
      "state": {
       "_dom_classes": [],
       "_model_module": "@jupyter-widgets/controls",
       "_model_module_version": "1.5.0",
       "_model_name": "AccordionModel",
       "_titles": {
        "0": "  Feedback Form"
       },
       "_view_count": null,
       "_view_module": "@jupyter-widgets/controls",
       "_view_module_version": "1.5.0",
       "_view_name": "AccordionView",
       "box_style": "",
       "children": [
        "IPY_MODEL_03f08d337f984ced9f6742ec4e4aa49e"
       ],
       "layout": "IPY_MODEL_eadd865ebbcf4c9c9bf763b569e061c3",
       "selected_index": 0
      }
     }
    },
    "version_major": 2,
    "version_minor": 0
   }
  },
  "deepnote_notebook_id": "5b8ec61a-efd9-464c-a2ab-f483850c8bf1",
  "deepnote": {},
  "deepnote_execution_queue": []
 }
}