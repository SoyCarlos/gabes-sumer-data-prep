{
 "cells": [
  {
   "cell_type": "code",
   "metadata": {
    "deletable": false,
    "editable": false,
    "cell_id": "91b2fb57-add5-4021-bcde-01bb3c9674b5",
    "deepnote_to_be_reexecuted": false,
    "source_hash": "c9c32603",
    "execution_start": 1656358777525,
    "execution_millis": 11559,
    "owner_user_id": "80fe8cbc-043d-4a7e-9c6f-799b39be207a",
    "deepnote_cell_type": "code",
    "deepnote_cell_height": 755
   },
   "source": "# Initialize Otter\n!pip install otter-grader\nimport otter\ngrader = otter.Notebook(\"lab03.ipynb\")",
   "execution_count": null,
   "outputs": [
    {
     "name": "stdout",
     "text": "Collecting otter-grader\n  Downloading otter_grader-3.3.0-py3-none-any.whl (165 kB)\n\u001b[2K     \u001b[90m━━━━━━━━━━━━━━━━━━━━━━━━━━━━━━━━━━━━━━\u001b[0m \u001b[32m166.0/166.0 KB\u001b[0m \u001b[31m18.2 MB/s\u001b[0m eta \u001b[36m0:00:00\u001b[0m\n\u001b[?25hCollecting gspread\n  Downloading gspread-5.4.0-py3-none-any.whl (37 kB)\nRequirement already satisfied: nbconvert in /shared-libs/python3.9/py-core/lib/python3.9/site-packages (from otter-grader) (6.0.7)\nRequirement already satisfied: matplotlib in /shared-libs/python3.9/py/lib/python3.9/site-packages (from otter-grader) (3.5.2)\nCollecting python-on-whales\n  Downloading python_on_whales-0.46.0-py3-none-any.whl (94 kB)\n\u001b[2K     \u001b[90m━━━━━━━━━━━━━━━━━━━━━━━━━━━━━━━━━━━━━━━━\u001b[0m \u001b[32m94.7/94.7 KB\u001b[0m \u001b[31m17.6 MB/s\u001b[0m eta \u001b[36m0:00:00\u001b[0m\n\u001b[?25hRequirement already satisfied: pandas in /shared-libs/python3.9/py/lib/python3.9/site-packages (from otter-grader) (1.2.5)\nRequirement already satisfied: google-auth-oauthlib in /shared-libs/python3.9/py/lib/python3.9/site-packages (from otter-grader) (0.4.6)\nCollecting google-api-python-client\n  Downloading google_api_python_client-2.51.0-py2.py3-none-any.whl (8.6 MB)\n\u001b[2K     \u001b[90m━━━━━━━━━━━━━━━━━━━━━━━━━━━━━━━━━━━━━━━━\u001b[0m \u001b[32m8.6/8.6 MB\u001b[0m \u001b[31m67.5 MB/s\u001b[0m eta \u001b[36m0:00:00\u001b[0m\n\u001b[?25hRequirement already satisfied: jinja2 in /shared-libs/python3.9/py-core/lib/python3.9/site-packages (from otter-grader) (2.11.3)\nRequirement already satisfied: jupyter-client in /shared-libs/python3.9/py-core/lib/python3.9/site-packages (from otter-grader) (6.1.12)\nRequirement already satisfied: dill in /shared-libs/python3.9/py/lib/python3.9/site-packages (from otter-grader) (0.3.5.1)\nCollecting PyPDF2\n  Downloading PyPDF2-2.4.0-py3-none-any.whl (197 kB)\n\u001b[2K     \u001b[90m━━━━━━━━━━━━━━━━━━━━━━━━━━━━━━━━━━━━━━\u001b[0m \u001b[32m197.3/197.3 KB\u001b[0m \u001b[31m16.2 MB/s\u001b[0m eta \u001b[36m0:00:00\u001b[0m\n\u001b[?25hCollecting PyYAML\n  Downloading PyYAML-6.0-cp39-cp39-manylinux_2_5_x86_64.manylinux1_x86_64.manylinux_2_12_x86_64.manylinux2010_x86_64.whl (661 kB)\n\u001b[2K     \u001b[90m━━━━━━━━━━━━━━━━━━━━━━━━━━━━━━━━━━━━━━\u001b[0m \u001b[32m661.8/661.8 KB\u001b[0m \u001b[31m35.3 MB/s\u001b[0m eta \u001b[36m0:00:00\u001b[0m\n\u001b[?25hRequirement already satisfied: nbformat in /shared-libs/python3.9/py-core/lib/python3.9/site-packages (from otter-grader) (5.1.3)\nRequirement already satisfied: six in /shared-libs/python3.9/py-core/lib/python3.9/site-packages (from otter-grader) (1.16.0)\nCollecting pdfkit\n  Downloading pdfkit-1.0.0-py3-none-any.whl (12 kB)\nRequirement already satisfied: requests in /shared-libs/python3.9/py/lib/python3.9/site-packages (from otter-grader) (2.27.1)\nRequirement already satisfied: ipykernel in /shared-libs/python3.9/py-core/lib/python3.9/site-packages (from otter-grader) (5.5.5)\nRequirement already satisfied: google-api-core!=2.0.*,!=2.1.*,!=2.2.*,!=2.3.0,<3.0.0dev,>=1.31.5 in /shared-libs/python3.9/py/lib/python3.9/site-packages (from google-api-python-client->otter-grader) (2.8.1)\nCollecting google-auth-httplib2>=0.1.0\n  Downloading google_auth_httplib2-0.1.0-py2.py3-none-any.whl (9.3 kB)\nCollecting uritemplate<5,>=3.0.1\n  Downloading uritemplate-4.1.1-py2.py3-none-any.whl (10 kB)\nRequirement already satisfied: google-auth<3.0.0dev,>=1.16.0 in /shared-libs/python3.9/py/lib/python3.9/site-packages (from google-api-python-client->otter-grader) (2.7.0)\nCollecting httplib2<1dev,>=0.15.0\n  Downloading httplib2-0.20.4-py3-none-any.whl (96 kB)\n\u001b[2K     \u001b[90m━━━━━━━━━━━━━━━━━━━━━━━━━━━━━━━━━━━━━━━━\u001b[0m \u001b[32m96.6/96.6 KB\u001b[0m \u001b[31m16.4 MB/s\u001b[0m eta \u001b[36m0:00:00\u001b[0m\n\u001b[?25hRequirement already satisfied: requests-oauthlib>=0.7.0 in /shared-libs/python3.9/py/lib/python3.9/site-packages (from google-auth-oauthlib->otter-grader) (1.3.1)\nRequirement already satisfied: traitlets>=4.1.0 in /shared-libs/python3.9/py-core/lib/python3.9/site-packages (from ipykernel->otter-grader) (4.3.3)\nRequirement already satisfied: ipython>=5.0.0 in /shared-libs/python3.9/py-core/lib/python3.9/site-packages (from ipykernel->otter-grader) (7.34.0)\nRequirement already satisfied: tornado>=4.2 in /shared-libs/python3.9/py-core/lib/python3.9/site-packages (from ipykernel->otter-grader) (6.1)\nRequirement already satisfied: MarkupSafe>=0.23 in /shared-libs/python3.9/py-core/lib/python3.9/site-packages (from jinja2->otter-grader) (2.0.1)\nRequirement already satisfied: python-dateutil>=2.1 in /shared-libs/python3.9/py-core/lib/python3.9/site-packages (from jupyter-client->otter-grader) (2.8.2)\nRequirement already satisfied: jupyter-core>=4.6.0 in /shared-libs/python3.9/py-core/lib/python3.9/site-packages (from jupyter-client->otter-grader) (4.7.1)\nRequirement already satisfied: pyzmq>=13 in /shared-libs/python3.9/py-core/lib/python3.9/site-packages (from jupyter-client->otter-grader) (23.1.0)\nRequirement already satisfied: kiwisolver>=1.0.1 in /shared-libs/python3.9/py/lib/python3.9/site-packages (from matplotlib->otter-grader) (1.4.2)\nRequirement already satisfied: cycler>=0.10 in /shared-libs/python3.9/py/lib/python3.9/site-packages (from matplotlib->otter-grader) (0.11.0)\nRequirement already satisfied: fonttools>=4.22.0 in /shared-libs/python3.9/py/lib/python3.9/site-packages (from matplotlib->otter-grader) (4.33.3)\nRequirement already satisfied: packaging>=20.0 in /shared-libs/python3.9/py/lib/python3.9/site-packages (from matplotlib->otter-grader) (21.3)\nRequirement already satisfied: pyparsing>=2.2.1 in /shared-libs/python3.9/py/lib/python3.9/site-packages (from matplotlib->otter-grader) (3.0.9)\nRequirement already satisfied: numpy>=1.17 in /shared-libs/python3.9/py/lib/python3.9/site-packages (from matplotlib->otter-grader) (1.22.4)\nRequirement already satisfied: pillow>=6.2.0 in /shared-libs/python3.9/py/lib/python3.9/site-packages (from matplotlib->otter-grader) (9.1.1)\nRequirement already satisfied: jupyterlab-pygments in /shared-libs/python3.9/py-core/lib/python3.9/site-packages (from nbconvert->otter-grader) (0.2.2)\nRequirement already satisfied: nbclient<0.6.0,>=0.5.0 in /shared-libs/python3.9/py-core/lib/python3.9/site-packages (from nbconvert->otter-grader) (0.5.9)\nRequirement already satisfied: entrypoints>=0.2.2 in /shared-libs/python3.9/py-core/lib/python3.9/site-packages (from nbconvert->otter-grader) (0.4)\nRequirement already satisfied: bleach in /shared-libs/python3.9/py-core/lib/python3.9/site-packages (from nbconvert->otter-grader) (5.0.0)\nRequirement already satisfied: defusedxml in /shared-libs/python3.9/py-core/lib/python3.9/site-packages (from nbconvert->otter-grader) (0.7.1)\nRequirement already satisfied: pandocfilters>=1.4.1 in /shared-libs/python3.9/py-core/lib/python3.9/site-packages (from nbconvert->otter-grader) (1.5.0)\nRequirement already satisfied: mistune<2,>=0.8.1 in /shared-libs/python3.9/py-core/lib/python3.9/site-packages (from nbconvert->otter-grader) (0.8.4)\nRequirement already satisfied: pygments>=2.4.1 in /shared-libs/python3.9/py-core/lib/python3.9/site-packages (from nbconvert->otter-grader) (2.12.0)\nRequirement already satisfied: testpath in /shared-libs/python3.9/py-core/lib/python3.9/site-packages (from nbconvert->otter-grader) (0.6.0)\nRequirement already satisfied: ipython-genutils in /shared-libs/python3.9/py-core/lib/python3.9/site-packages (from nbformat->otter-grader) (0.2.0)\nRequirement already satisfied: jsonschema!=2.5.0,>=2.4 in /shared-libs/python3.9/py-core/lib/python3.9/site-packages (from nbformat->otter-grader) (3.2.0)\nRequirement already satisfied: pytz>=2017.3 in /shared-libs/python3.9/py/lib/python3.9/site-packages (from pandas->otter-grader) (2022.1)\nRequirement already satisfied: typing-extensions in /shared-libs/python3.9/py/lib/python3.9/site-packages (from PyPDF2->otter-grader) (4.2.0)\nRequirement already satisfied: tqdm in /shared-libs/python3.9/py/lib/python3.9/site-packages (from python-on-whales->otter-grader) (4.64.0)\nRequirement already satisfied: pydantic in /shared-libs/python3.9/py/lib/python3.9/site-packages (from python-on-whales->otter-grader) (1.8.2)\nRequirement already satisfied: typer>=0.4.1 in /shared-libs/python3.9/py/lib/python3.9/site-packages (from python-on-whales->otter-grader) (0.4.1)\nRequirement already satisfied: charset-normalizer~=2.0.0 in /shared-libs/python3.9/py-core/lib/python3.9/site-packages (from requests->otter-grader) (2.0.12)\nRequirement already satisfied: urllib3<1.27,>=1.21.1 in /shared-libs/python3.9/py/lib/python3.9/site-packages (from requests->otter-grader) (1.26.9)\nRequirement already satisfied: certifi>=2017.4.17 in /shared-libs/python3.9/py/lib/python3.9/site-packages (from requests->otter-grader) (2022.5.18.1)\nRequirement already satisfied: idna<4,>=2.5 in /shared-libs/python3.9/py-core/lib/python3.9/site-packages (from requests->otter-grader) (3.3)\nRequirement already satisfied: googleapis-common-protos<2.0dev,>=1.56.2 in /shared-libs/python3.9/py/lib/python3.9/site-packages (from google-api-core!=2.0.*,!=2.1.*,!=2.2.*,!=2.3.0,<3.0.0dev,>=1.31.5->google-api-python-client->otter-grader) (1.56.2)\nRequirement already satisfied: protobuf<4.0.0dev,>=3.15.0 in /shared-libs/python3.9/py/lib/python3.9/site-packages (from google-api-core!=2.0.*,!=2.1.*,!=2.2.*,!=2.3.0,<3.0.0dev,>=1.31.5->google-api-python-client->otter-grader) (3.19.4)\nRequirement already satisfied: cachetools<6.0,>=2.0.0 in /shared-libs/python3.9/py/lib/python3.9/site-packages (from google-auth<3.0.0dev,>=1.16.0->google-api-python-client->otter-grader) (5.2.0)\nRequirement already satisfied: pyasn1-modules>=0.2.1 in /shared-libs/python3.9/py/lib/python3.9/site-packages (from google-auth<3.0.0dev,>=1.16.0->google-api-python-client->otter-grader) (0.2.8)\nRequirement already satisfied: rsa<5,>=3.1.4 in /shared-libs/python3.9/py/lib/python3.9/site-packages (from google-auth<3.0.0dev,>=1.16.0->google-api-python-client->otter-grader) (4.8)\nRequirement already satisfied: matplotlib-inline in /shared-libs/python3.9/py-core/lib/python3.9/site-packages (from ipython>=5.0.0->ipykernel->otter-grader) (0.1.3)\nRequirement already satisfied: setuptools>=18.5 in /root/venv/lib/python3.9/site-packages (from ipython>=5.0.0->ipykernel->otter-grader) (58.1.0)\nRequirement already satisfied: pexpect>4.3 in /shared-libs/python3.9/py-core/lib/python3.9/site-packages (from ipython>=5.0.0->ipykernel->otter-grader) (4.8.0)\nRequirement already satisfied: backcall in /shared-libs/python3.9/py-core/lib/python3.9/site-packages (from ipython>=5.0.0->ipykernel->otter-grader) (0.2.0)\nRequirement already satisfied: decorator in /shared-libs/python3.9/py-core/lib/python3.9/site-packages (from ipython>=5.0.0->ipykernel->otter-grader) (5.1.1)\nRequirement already satisfied: pickleshare in /shared-libs/python3.9/py-core/lib/python3.9/site-packages (from ipython>=5.0.0->ipykernel->otter-grader) (0.7.5)\nRequirement already satisfied: jedi>=0.16 in /shared-libs/python3.9/py-core/lib/python3.9/site-packages (from ipython>=5.0.0->ipykernel->otter-grader) (0.17.2)\nRequirement already satisfied: prompt-toolkit!=3.0.0,!=3.0.1,<3.1.0,>=2.0.0 in /shared-libs/python3.9/py-core/lib/python3.9/site-packages (from ipython>=5.0.0->ipykernel->otter-grader) (3.0.29)\nRequirement already satisfied: attrs>=17.4.0 in /shared-libs/python3.9/py-core/lib/python3.9/site-packages (from jsonschema!=2.5.0,>=2.4->nbformat->otter-grader) (21.4.0)\nRequirement already satisfied: pyrsistent>=0.14.0 in /shared-libs/python3.9/py-core/lib/python3.9/site-packages (from jsonschema!=2.5.0,>=2.4->nbformat->otter-grader) (0.18.1)\nRequirement already satisfied: nest-asyncio in /shared-libs/python3.9/py-core/lib/python3.9/site-packages (from nbclient<0.6.0,>=0.5.0->nbconvert->otter-grader) (1.5.5)\nRequirement already satisfied: oauthlib>=3.0.0 in /shared-libs/python3.9/py/lib/python3.9/site-packages (from requests-oauthlib>=0.7.0->google-auth-oauthlib->otter-grader) (3.2.0)\nRequirement already satisfied: click<9.0.0,>=7.1.1 in /shared-libs/python3.9/py/lib/python3.9/site-packages (from typer>=0.4.1->python-on-whales->otter-grader) (8.1.3)\nRequirement already satisfied: webencodings in /shared-libs/python3.9/py-core/lib/python3.9/site-packages (from bleach->nbconvert->otter-grader) (0.5.1)\nRequirement already satisfied: parso<0.8.0,>=0.7.0 in /shared-libs/python3.9/py-core/lib/python3.9/site-packages (from jedi>=0.16->ipython>=5.0.0->ipykernel->otter-grader) (0.7.1)\nRequirement already satisfied: ptyprocess>=0.5 in /shared-libs/python3.9/py-core/lib/python3.9/site-packages (from pexpect>4.3->ipython>=5.0.0->ipykernel->otter-grader) (0.7.0)\nRequirement already satisfied: wcwidth in /shared-libs/python3.9/py-core/lib/python3.9/site-packages (from prompt-toolkit!=3.0.0,!=3.0.1,<3.1.0,>=2.0.0->ipython>=5.0.0->ipykernel->otter-grader) (0.2.5)\nRequirement already satisfied: pyasn1<0.5.0,>=0.4.6 in /shared-libs/python3.9/py/lib/python3.9/site-packages (from pyasn1-modules>=0.2.1->google-auth<3.0.0dev,>=1.16.0->google-api-python-client->otter-grader) (0.4.8)\nInstalling collected packages: pdfkit, uritemplate, PyYAML, PyPDF2, httplib2, python-on-whales, google-auth-httplib2, gspread, google-api-python-client, otter-grader\nSuccessfully installed PyPDF2-2.4.0 PyYAML-6.0 google-api-python-client-2.51.0 google-auth-httplib2-0.1.0 gspread-5.4.0 httplib2-0.20.4 otter-grader-3.3.0 pdfkit-1.0.0 python-on-whales-0.46.0 uritemplate-4.1.1\n\u001b[33mWARNING: You are using pip version 22.0.4; however, version 22.1.2 is available.\nYou should consider upgrading via the '/root/venv/bin/python -m pip install --upgrade pip' command.\u001b[0m\u001b[33m\n\u001b[0m",
     "output_type": "stream"
    }
   ]
  },
  {
   "cell_type": "markdown",
   "source": "# Lab 3: Data Types and Arrays\nWelcome to Lab 3!\n\nSo far, we've used Python to manipulate numbers and work with tables. But we need to discuss data types to deepen our understanding of how to work with data in Python.\n\nIn this lab, you'll first see how to represent and manipulate another fundamental type of data: text.  A piece of text is called a *string* in Python. You'll also see how to work with *arrays* of data. An array could contain all the numbers between 0 and 100 or all the words in the chapter of a book. Lastly, you'll create tables and practice analyzing them with your knowledge of table operations. The [Python Reference](http://data8.org/sp22/python-reference.html) has information that will be useful for this lab.\n\n**Lab Queue**: You can find the Lab Queue at [lab.data8.org](https://lab.data8.org/). Whenever you feel stuck or need some further clarification, add yourself to the queue to get help from a GSI or academic intern! If you are in an online lab, please list your name, breakout room number, and a brief description (i.e. \"checkoff\", \"help on 2.2\"...) on your ticket! \n\n**Grading**: Here are the policies for getting full credit:\n\n1. To receive credit for this lab notebook (8% final grade), you must submit it by **Friday Feb 4th at 5pm**.\n\n2. To receive credit for the lab attendance (2% final grade), you must attend at least 5 out of the 14 labs. \n\n**Submission**: Once you're finished, select \"Save and Checkpoint\" in the File menu and then execute the final cell below. The result will contain a zip file that you can use to submit on Gradescope.",
   "metadata": {
    "cell_id": "00001-3be0e6bc-91f5-4e49-ae94-8f511239c0f4",
    "deepnote_cell_type": "markdown",
    "deepnote_cell_height": 521
   }
  },
  {
   "cell_type": "markdown",
   "source": "Set up the tests and imports by running the cell below.",
   "metadata": {
    "cell_id": "00002-fc11a2c8-0168-42a4-a727-e137664d5efd",
    "deepnote_cell_type": "markdown",
    "deepnote_cell_height": 52.399993896484375
   }
  },
  {
   "cell_type": "code",
   "metadata": {
    "deletable": false,
    "execution": {
     "iopub.execute_input": "2022-02-01T05:58:41.378437Z",
     "iopub.status.busy": "2022-02-01T05:58:41.377788Z",
     "iopub.status.idle": "2022-02-01T05:58:42.985680Z",
     "shell.execute_reply": "2022-02-01T05:58:42.985025Z"
    },
    "cell_id": "00003-961d887f-f116-46bc-b5ac-a9f2f2eb171a",
    "deepnote_to_be_reexecuted": false,
    "source_hash": "6343442a",
    "execution_start": 1656358789095,
    "execution_millis": 15487,
    "deepnote_cell_type": "code",
    "deepnote_cell_height": 809
   },
   "source": "# Just run this cell\n!pip install datascience\n!pip install ipywidgets\nimport numpy as np\nimport math\nfrom datascience import *\nimport d8error",
   "execution_count": null,
   "outputs": [
    {
     "name": "stdout",
     "text": "Requirement already satisfied: datascience in /shared-libs/python3.9/py/lib/python3.9/site-packages (0.17.2)\nRequirement already satisfied: numpy in /shared-libs/python3.9/py/lib/python3.9/site-packages (from datascience) (1.22.4)\nRequirement already satisfied: branca in /shared-libs/python3.9/py/lib/python3.9/site-packages (from datascience) (0.5.0)\nRequirement already satisfied: ipython in /shared-libs/python3.9/py-core/lib/python3.9/site-packages (from datascience) (7.34.0)\nRequirement already satisfied: setuptools in /root/venv/lib/python3.9/site-packages (from datascience) (58.1.0)\nRequirement already satisfied: matplotlib>=3.0.0 in /shared-libs/python3.9/py/lib/python3.9/site-packages (from datascience) (3.5.2)\nRequirement already satisfied: pandas in /shared-libs/python3.9/py/lib/python3.9/site-packages (from datascience) (1.2.5)\nRequirement already satisfied: plotly in /shared-libs/python3.9/py/lib/python3.9/site-packages (from datascience) (5.8.1)\nRequirement already satisfied: folium>=0.9.1 in /shared-libs/python3.9/py/lib/python3.9/site-packages (from datascience) (0.12.1.post1)\nRequirement already satisfied: scipy in /shared-libs/python3.9/py/lib/python3.9/site-packages (from datascience) (1.8.1)\nRequirement already satisfied: requests in /shared-libs/python3.9/py/lib/python3.9/site-packages (from folium>=0.9.1->datascience) (2.27.1)\nRequirement already satisfied: jinja2>=2.9 in /shared-libs/python3.9/py-core/lib/python3.9/site-packages (from folium>=0.9.1->datascience) (2.11.3)\nRequirement already satisfied: cycler>=0.10 in /shared-libs/python3.9/py/lib/python3.9/site-packages (from matplotlib>=3.0.0->datascience) (0.11.0)\nRequirement already satisfied: pyparsing>=2.2.1 in /shared-libs/python3.9/py/lib/python3.9/site-packages (from matplotlib>=3.0.0->datascience) (3.0.9)\nRequirement already satisfied: kiwisolver>=1.0.1 in /shared-libs/python3.9/py/lib/python3.9/site-packages (from matplotlib>=3.0.0->datascience) (1.4.2)\nRequirement already satisfied: pillow>=6.2.0 in /shared-libs/python3.9/py/lib/python3.9/site-packages (from matplotlib>=3.0.0->datascience) (9.1.1)\nRequirement already satisfied: python-dateutil>=2.7 in /shared-libs/python3.9/py-core/lib/python3.9/site-packages (from matplotlib>=3.0.0->datascience) (2.8.2)\nRequirement already satisfied: fonttools>=4.22.0 in /shared-libs/python3.9/py/lib/python3.9/site-packages (from matplotlib>=3.0.0->datascience) (4.33.3)\nRequirement already satisfied: packaging>=20.0 in /shared-libs/python3.9/py/lib/python3.9/site-packages (from matplotlib>=3.0.0->datascience) (21.3)\nRequirement already satisfied: traitlets>=4.2 in /shared-libs/python3.9/py-core/lib/python3.9/site-packages (from ipython->datascience) (4.3.3)\nRequirement already satisfied: pygments in /shared-libs/python3.9/py-core/lib/python3.9/site-packages (from ipython->datascience) (2.12.0)\nRequirement already satisfied: matplotlib-inline in /shared-libs/python3.9/py-core/lib/python3.9/site-packages (from ipython->datascience) (0.1.3)\nRequirement already satisfied: decorator in /shared-libs/python3.9/py-core/lib/python3.9/site-packages (from ipython->datascience) (5.1.1)\nRequirement already satisfied: backcall in /shared-libs/python3.9/py-core/lib/python3.9/site-packages (from ipython->datascience) (0.2.0)\nRequirement already satisfied: pickleshare in /shared-libs/python3.9/py-core/lib/python3.9/site-packages (from ipython->datascience) (0.7.5)\nRequirement already satisfied: jedi>=0.16 in /shared-libs/python3.9/py-core/lib/python3.9/site-packages (from ipython->datascience) (0.17.2)\nRequirement already satisfied: prompt-toolkit!=3.0.0,!=3.0.1,<3.1.0,>=2.0.0 in /shared-libs/python3.9/py-core/lib/python3.9/site-packages (from ipython->datascience) (3.0.29)\nRequirement already satisfied: pexpect>4.3 in /shared-libs/python3.9/py-core/lib/python3.9/site-packages (from ipython->datascience) (4.8.0)\nRequirement already satisfied: pytz>=2017.3 in /shared-libs/python3.9/py/lib/python3.9/site-packages (from pandas->datascience) (2022.1)\nRequirement already satisfied: tenacity>=6.2.0 in /shared-libs/python3.9/py/lib/python3.9/site-packages (from plotly->datascience) (8.0.1)\nRequirement already satisfied: parso<0.8.0,>=0.7.0 in /shared-libs/python3.9/py-core/lib/python3.9/site-packages (from jedi>=0.16->ipython->datascience) (0.7.1)\nRequirement already satisfied: MarkupSafe>=0.23 in /shared-libs/python3.9/py-core/lib/python3.9/site-packages (from jinja2>=2.9->folium>=0.9.1->datascience) (2.0.1)\nRequirement already satisfied: ptyprocess>=0.5 in /shared-libs/python3.9/py-core/lib/python3.9/site-packages (from pexpect>4.3->ipython->datascience) (0.7.0)\nRequirement already satisfied: wcwidth in /shared-libs/python3.9/py-core/lib/python3.9/site-packages (from prompt-toolkit!=3.0.0,!=3.0.1,<3.1.0,>=2.0.0->ipython->datascience) (0.2.5)\nRequirement already satisfied: six>=1.5 in /shared-libs/python3.9/py-core/lib/python3.9/site-packages (from python-dateutil>=2.7->matplotlib>=3.0.0->datascience) (1.16.0)\nRequirement already satisfied: ipython-genutils in /shared-libs/python3.9/py-core/lib/python3.9/site-packages (from traitlets>=4.2->ipython->datascience) (0.2.0)\nRequirement already satisfied: urllib3<1.27,>=1.21.1 in /shared-libs/python3.9/py/lib/python3.9/site-packages (from requests->folium>=0.9.1->datascience) (1.26.9)\nRequirement already satisfied: certifi>=2017.4.17 in /shared-libs/python3.9/py/lib/python3.9/site-packages (from requests->folium>=0.9.1->datascience) (2022.5.18.1)\nRequirement already satisfied: charset-normalizer~=2.0.0 in /shared-libs/python3.9/py-core/lib/python3.9/site-packages (from requests->folium>=0.9.1->datascience) (2.0.12)\nRequirement already satisfied: idna<4,>=2.5 in /shared-libs/python3.9/py-core/lib/python3.9/site-packages (from requests->folium>=0.9.1->datascience) (3.3)\n\u001b[33mWARNING: You are using pip version 22.0.4; however, version 22.1.2 is available.\nYou should consider upgrading via the '/root/venv/bin/python -m pip install --upgrade pip' command.\u001b[0m\u001b[33m\n\u001b[0mCollecting ipywidgets\n  Downloading ipywidgets-7.7.1-py2.py3-none-any.whl (123 kB)\n\u001b[2K     \u001b[90m━━━━━━━━━━━━━━━━━━━━━━━━━━━━━━━━━━━━━━\u001b[0m \u001b[32m123.4/123.4 KB\u001b[0m \u001b[31m20.2 MB/s\u001b[0m eta \u001b[36m0:00:00\u001b[0m\n\u001b[?25hRequirement already satisfied: ipython>=4.0.0 in /shared-libs/python3.9/py-core/lib/python3.9/site-packages (from ipywidgets) (7.34.0)\nCollecting jupyterlab-widgets>=1.0.0\n  Downloading jupyterlab_widgets-1.1.1-py3-none-any.whl (245 kB)\n\u001b[2K     \u001b[90m━━━━━━━━━━━━━━━━━━━━━━━━━━━━━━━━━━━━━━\u001b[0m \u001b[32m245.3/245.3 KB\u001b[0m \u001b[31m34.4 MB/s\u001b[0m eta \u001b[36m0:00:00\u001b[0m\n\u001b[?25hCollecting widgetsnbextension~=3.6.0\n  Downloading widgetsnbextension-3.6.1-py2.py3-none-any.whl (1.6 MB)\n\u001b[2K     \u001b[90m━━━━━━━━━━━━━━━━━━━━━━━━━━━━━━━━━━━━━━━━\u001b[0m \u001b[32m1.6/1.6 MB\u001b[0m \u001b[31m78.0 MB/s\u001b[0m eta \u001b[36m0:00:00\u001b[0m\n\u001b[?25hRequirement already satisfied: ipykernel>=4.5.1 in /shared-libs/python3.9/py-core/lib/python3.9/site-packages (from ipywidgets) (5.5.5)\nRequirement already satisfied: traitlets>=4.3.1 in /shared-libs/python3.9/py-core/lib/python3.9/site-packages (from ipywidgets) (4.3.3)\nRequirement already satisfied: ipython-genutils~=0.2.0 in /shared-libs/python3.9/py-core/lib/python3.9/site-packages (from ipywidgets) (0.2.0)\nRequirement already satisfied: jupyter-client in /shared-libs/python3.9/py-core/lib/python3.9/site-packages (from ipykernel>=4.5.1->ipywidgets) (6.1.12)\nRequirement already satisfied: tornado>=4.2 in /shared-libs/python3.9/py-core/lib/python3.9/site-packages (from ipykernel>=4.5.1->ipywidgets) (6.1)\nRequirement already satisfied: pickleshare in /shared-libs/python3.9/py-core/lib/python3.9/site-packages (from ipython>=4.0.0->ipywidgets) (0.7.5)\nRequirement already satisfied: backcall in /shared-libs/python3.9/py-core/lib/python3.9/site-packages (from ipython>=4.0.0->ipywidgets) (0.2.0)\nRequirement already satisfied: pygments in /shared-libs/python3.9/py-core/lib/python3.9/site-packages (from ipython>=4.0.0->ipywidgets) (2.12.0)\nRequirement already satisfied: matplotlib-inline in /shared-libs/python3.9/py-core/lib/python3.9/site-packages (from ipython>=4.0.0->ipywidgets) (0.1.3)\nRequirement already satisfied: decorator in /shared-libs/python3.9/py-core/lib/python3.9/site-packages (from ipython>=4.0.0->ipywidgets) (5.1.1)\nRequirement already satisfied: jedi>=0.16 in /shared-libs/python3.9/py-core/lib/python3.9/site-packages (from ipython>=4.0.0->ipywidgets) (0.17.2)\nRequirement already satisfied: setuptools>=18.5 in /root/venv/lib/python3.9/site-packages (from ipython>=4.0.0->ipywidgets) (58.1.0)\nRequirement already satisfied: pexpect>4.3 in /shared-libs/python3.9/py-core/lib/python3.9/site-packages (from ipython>=4.0.0->ipywidgets) (4.8.0)\nRequirement already satisfied: prompt-toolkit!=3.0.0,!=3.0.1,<3.1.0,>=2.0.0 in /shared-libs/python3.9/py-core/lib/python3.9/site-packages (from ipython>=4.0.0->ipywidgets) (3.0.29)\nRequirement already satisfied: six in /shared-libs/python3.9/py-core/lib/python3.9/site-packages (from traitlets>=4.3.1->ipywidgets) (1.16.0)\nRequirement already satisfied: notebook>=4.4.1 in /shared-libs/python3.9/py-core/lib/python3.9/site-packages (from widgetsnbextension~=3.6.0->ipywidgets) (6.3.0)\nRequirement already satisfied: parso<0.8.0,>=0.7.0 in /shared-libs/python3.9/py-core/lib/python3.9/site-packages (from jedi>=0.16->ipython>=4.0.0->ipywidgets) (0.7.1)\nRequirement already satisfied: nbconvert==6.0.7 in /shared-libs/python3.9/py-core/lib/python3.9/site-packages (from notebook>=4.4.1->widgetsnbextension~=3.6.0->ipywidgets) (6.0.7)\nRequirement already satisfied: Send2Trash>=1.5.0 in /shared-libs/python3.9/py-core/lib/python3.9/site-packages (from notebook>=4.4.1->widgetsnbextension~=3.6.0->ipywidgets) (1.8.0)\nRequirement already satisfied: jinja2 in /shared-libs/python3.9/py-core/lib/python3.9/site-packages (from notebook>=4.4.1->widgetsnbextension~=3.6.0->ipywidgets) (2.11.3)\nRequirement already satisfied: jupyter-core==4.7.1 in /shared-libs/python3.9/py-core/lib/python3.9/site-packages (from notebook>=4.4.1->widgetsnbextension~=3.6.0->ipywidgets) (4.7.1)\nRequirement already satisfied: argon2-cffi in /shared-libs/python3.9/py-core/lib/python3.9/site-packages (from notebook>=4.4.1->widgetsnbextension~=3.6.0->ipywidgets) (21.3.0)\nRequirement already satisfied: nbformat==5.1.3 in /shared-libs/python3.9/py-core/lib/python3.9/site-packages (from notebook>=4.4.1->widgetsnbextension~=3.6.0->ipywidgets) (5.1.3)\nRequirement already satisfied: pyzmq>=17 in /shared-libs/python3.9/py-core/lib/python3.9/site-packages (from notebook>=4.4.1->widgetsnbextension~=3.6.0->ipywidgets) (23.1.0)\nRequirement already satisfied: prometheus-client in /shared-libs/python3.9/py-core/lib/python3.9/site-packages (from notebook>=4.4.1->widgetsnbextension~=3.6.0->ipywidgets) (0.14.1)\nRequirement already satisfied: terminado>=0.8.3 in /shared-libs/python3.9/py-core/lib/python3.9/site-packages (from notebook>=4.4.1->widgetsnbextension~=3.6.0->ipywidgets) (0.15.0)\nRequirement already satisfied: python-dateutil>=2.1 in /shared-libs/python3.9/py-core/lib/python3.9/site-packages (from jupyter-client->ipykernel>=4.5.1->ipywidgets) (2.8.2)\nRequirement already satisfied: entrypoints>=0.2.2 in /shared-libs/python3.9/py-core/lib/python3.9/site-packages (from nbconvert==6.0.7->notebook>=4.4.1->widgetsnbextension~=3.6.0->ipywidgets) (0.4)\nRequirement already satisfied: defusedxml in /shared-libs/python3.9/py-core/lib/python3.9/site-packages (from nbconvert==6.0.7->notebook>=4.4.1->widgetsnbextension~=3.6.0->ipywidgets) (0.7.1)\nRequirement already satisfied: nbclient<0.6.0,>=0.5.0 in /shared-libs/python3.9/py-core/lib/python3.9/site-packages (from nbconvert==6.0.7->notebook>=4.4.1->widgetsnbextension~=3.6.0->ipywidgets) (0.5.9)\nRequirement already satisfied: testpath in /shared-libs/python3.9/py-core/lib/python3.9/site-packages (from nbconvert==6.0.7->notebook>=4.4.1->widgetsnbextension~=3.6.0->ipywidgets) (0.6.0)\nRequirement already satisfied: mistune<2,>=0.8.1 in /shared-libs/python3.9/py-core/lib/python3.9/site-packages (from nbconvert==6.0.7->notebook>=4.4.1->widgetsnbextension~=3.6.0->ipywidgets) (0.8.4)\nRequirement already satisfied: jupyterlab-pygments in /shared-libs/python3.9/py-core/lib/python3.9/site-packages (from nbconvert==6.0.7->notebook>=4.4.1->widgetsnbextension~=3.6.0->ipywidgets) (0.2.2)\nRequirement already satisfied: bleach in /shared-libs/python3.9/py-core/lib/python3.9/site-packages (from nbconvert==6.0.7->notebook>=4.4.1->widgetsnbextension~=3.6.0->ipywidgets) (5.0.0)\nRequirement already satisfied: pandocfilters>=1.4.1 in /shared-libs/python3.9/py-core/lib/python3.9/site-packages (from nbconvert==6.0.7->notebook>=4.4.1->widgetsnbextension~=3.6.0->ipywidgets) (1.5.0)\nRequirement already satisfied: jsonschema!=2.5.0,>=2.4 in /shared-libs/python3.9/py-core/lib/python3.9/site-packages (from nbformat==5.1.3->notebook>=4.4.1->widgetsnbextension~=3.6.0->ipywidgets) (3.2.0)\nRequirement already satisfied: ptyprocess>=0.5 in /shared-libs/python3.9/py-core/lib/python3.9/site-packages (from pexpect>4.3->ipython>=4.0.0->ipywidgets) (0.7.0)\nRequirement already satisfied: wcwidth in /shared-libs/python3.9/py-core/lib/python3.9/site-packages (from prompt-toolkit!=3.0.0,!=3.0.1,<3.1.0,>=2.0.0->ipython>=4.0.0->ipywidgets) (0.2.5)\nRequirement already satisfied: MarkupSafe>=0.23 in /shared-libs/python3.9/py-core/lib/python3.9/site-packages (from jinja2->notebook>=4.4.1->widgetsnbextension~=3.6.0->ipywidgets) (2.0.1)\nRequirement already satisfied: argon2-cffi-bindings in /shared-libs/python3.9/py-core/lib/python3.9/site-packages (from argon2-cffi->notebook>=4.4.1->widgetsnbextension~=3.6.0->ipywidgets) (21.2.0)\nRequirement already satisfied: pyrsistent>=0.14.0 in /shared-libs/python3.9/py-core/lib/python3.9/site-packages (from jsonschema!=2.5.0,>=2.4->nbformat==5.1.3->notebook>=4.4.1->widgetsnbextension~=3.6.0->ipywidgets) (0.18.1)\nRequirement already satisfied: attrs>=17.4.0 in /shared-libs/python3.9/py-core/lib/python3.9/site-packages (from jsonschema!=2.5.0,>=2.4->nbformat==5.1.3->notebook>=4.4.1->widgetsnbextension~=3.6.0->ipywidgets) (21.4.0)\nRequirement already satisfied: nest-asyncio in /shared-libs/python3.9/py-core/lib/python3.9/site-packages (from nbclient<0.6.0,>=0.5.0->nbconvert==6.0.7->notebook>=4.4.1->widgetsnbextension~=3.6.0->ipywidgets) (1.5.5)\nRequirement already satisfied: cffi>=1.0.1 in /shared-libs/python3.9/py-core/lib/python3.9/site-packages (from argon2-cffi-bindings->argon2-cffi->notebook>=4.4.1->widgetsnbextension~=3.6.0->ipywidgets) (1.15.0)\nRequirement already satisfied: webencodings in /shared-libs/python3.9/py-core/lib/python3.9/site-packages (from bleach->nbconvert==6.0.7->notebook>=4.4.1->widgetsnbextension~=3.6.0->ipywidgets) (0.5.1)\nRequirement already satisfied: pycparser in /shared-libs/python3.9/py-core/lib/python3.9/site-packages (from cffi>=1.0.1->argon2-cffi-bindings->argon2-cffi->notebook>=4.4.1->widgetsnbextension~=3.6.0->ipywidgets) (2.21)\nInstalling collected packages: jupyterlab-widgets, widgetsnbextension, ipywidgets\nSuccessfully installed ipywidgets-7.7.1 jupyterlab-widgets-1.1.1 widgetsnbextension-3.6.1\n\u001b[33mWARNING: You are using pip version 22.0.4; however, version 22.1.2 is available.\nYou should consider upgrading via the '/root/venv/bin/python -m pip install --upgrade pip' command.\u001b[0m\u001b[33m\n\u001b[0m",
     "output_type": "stream"
    }
   ]
  },
  {
   "cell_type": "markdown",
   "source": "# 1. Text\nProgramming doesn't just concern numbers. Text is one of the most common data types used in programs. \n\nText is represented by a **string value** in Python. The word \"string\" is a programming term for a sequence of characters. A string might contain a single character, a word, a sentence, or a whole book.\n\nTo distinguish text data from actual code, we demarcate strings by putting quotation marks around them. Single quotes (`'`) and double quotes (`\"`) are both valid, but the types of opening and closing quotation marks must match. The contents can be any sequence of characters, including numbers and symbols. \n\nWe've seen strings before in `print` statements.  Below, two different strings are passed as arguments to the `print` function.",
   "metadata": {
    "cell_id": "00004-9f719715-40ae-44ea-88a2-b86c53a5d2d0",
    "deepnote_cell_type": "markdown",
    "deepnote_cell_height": 296.79998779296875
   }
  },
  {
   "cell_type": "code",
   "metadata": {
    "execution": {
     "iopub.execute_input": "2022-02-01T05:58:42.990426Z",
     "iopub.status.busy": "2022-02-01T05:58:42.989900Z",
     "iopub.status.idle": "2022-02-01T05:58:42.993478Z",
     "shell.execute_reply": "2022-02-01T05:58:42.992885Z"
    },
    "cell_id": "00005-39dcf95f-6117-4ce3-b6b3-1ff670b2d109",
    "deepnote_to_be_reexecuted": false,
    "source_hash": "9f2820eb",
    "execution_start": 1656358804593,
    "execution_millis": 2,
    "deepnote_cell_type": "code",
    "deepnote_cell_height": 111.69999694824219
   },
   "source": "print(\"I <3\", 'Data Science')",
   "execution_count": null,
   "outputs": [
    {
     "name": "stdout",
     "text": "I <3 Data Science\n",
     "output_type": "stream"
    }
   ]
  },
  {
   "cell_type": "markdown",
   "source": "Just as names can be given to numbers, names can be given to string values.  The names and strings aren't required to be similar in any way. Any name can be assigned to any string.",
   "metadata": {
    "cell_id": "00006-2ef04b85-af11-4c3f-97bd-b3cb5d26205b",
    "deepnote_cell_type": "markdown",
    "deepnote_cell_height": 74.80000305175781
   }
  },
  {
   "cell_type": "code",
   "metadata": {
    "execution": {
     "iopub.execute_input": "2022-02-01T05:58:42.998469Z",
     "iopub.status.busy": "2022-02-01T05:58:42.997894Z",
     "iopub.status.idle": "2022-02-01T05:58:43.000725Z",
     "shell.execute_reply": "2022-02-01T05:58:43.001154Z"
    },
    "cell_id": "00007-4a477b16-9d7a-4c1e-985a-c5cad8dd4582",
    "deepnote_to_be_reexecuted": false,
    "source_hash": "730dbe8c",
    "execution_start": 1656358804615,
    "deepnote_cell_type": "code",
    "deepnote_cell_height": 147.6999969482422
   },
   "source": "one = 'two'\nplus = '*'\nprint(one, plus, one)",
   "execution_count": null,
   "outputs": [
    {
     "name": "stdout",
     "text": "two * two\n",
     "output_type": "stream"
    }
   ]
  },
  {
   "cell_type": "markdown",
   "source": "**Question 1.1.** Yuri Gagarin was the first person to travel through outer space.  When he emerged from his capsule upon landing on Earth, he [reportedly](https://en.wikiquote.org/wiki/Yuri_Gagarin) had the following conversation with a woman and girl who saw the landing:\n\n    The woman asked: \"Can it be that you have come from outer space?\"\n    Gagarin replied: \"As a matter of fact, I have!\"\n\nThe cell below contains unfinished code.  Fill in the `...`s so that it prints out this conversation *exactly* as it appears above.\n\n<!--\nBEGIN QUESTION\nname: q11\n-->",
   "metadata": {
    "deletable": false,
    "editable": false,
    "cell_id": "00008-c3cb6ea3-ca4e-4986-8de6-882ec5bc07b2",
    "deepnote_cell_type": "markdown",
    "deepnote_cell_height": 186.8000030517578
   }
  },
  {
   "cell_type": "code",
   "metadata": {
    "deletable": false,
    "execution": {
     "iopub.execute_input": "2022-02-01T05:58:43.006150Z",
     "iopub.status.busy": "2022-02-01T05:58:43.005659Z",
     "iopub.status.idle": "2022-02-01T05:58:43.008953Z",
     "shell.execute_reply": "2022-02-01T05:58:43.008438Z"
    },
    "cell_id": "00009-901486de-4e85-4c0d-860d-e5c1603fd708",
    "deepnote_to_be_reexecuted": false,
    "source_hash": "365b5442",
    "execution_start": 1656358804662,
    "execution_millis": 517736389,
    "deepnote_cell_type": "code",
    "deepnote_cell_height": 239.39999389648438
   },
   "source": "woman_asking = 'The woman asked:'\nwoman_quote = '\"Can it be that you have come from outer space?\"'\ngagarin_reply = 'Gagarin replied:'\ngagarin_quote = \"Yes\"\n\nprint(woman_asking, woman_quote)\nprint(gagarin_reply, gagarin_quote)",
   "execution_count": null,
   "outputs": [
    {
     "name": "stdout",
     "text": "The woman asked: \"Can it be that you have come from outer space?\"\nGagarin replied: Yes\n",
     "output_type": "stream"
    }
   ]
  },
  {
   "cell_type": "code",
   "metadata": {
    "deletable": false,
    "editable": false,
    "cell_id": "00010-e1355418-7f5d-435f-9b04-42058ae9725b",
    "deepnote_to_be_reexecuted": false,
    "source_hash": "74350b1b",
    "execution_start": 1656358804663,
    "execution_millis": 4,
    "deepnote_cell_type": "code",
    "deepnote_cell_height": 466,
    "deepnote_output_heights": [
     369
    ]
   },
   "source": "grader.check(\"q11\")",
   "execution_count": null,
   "outputs": [
    {
     "output_type": "execute_result",
     "execution_count": 6,
     "data": {
      "text/plain": "q11 results:\n    q11 - 1 result:\n        Test case passed!\n\n    q11 - 2 result:\n        Trying:\n            gagarin_quote\n        Expecting:\n            '\"As a matter of fact, I have!\"'\n        **********************************************************************\n        Line 1, in q11 1\n        Failed example:\n            gagarin_quote\n        Expected:\n            '\"As a matter of fact, I have!\"'\n        Got:\n            'Yes'",
      "text/html": "<p><strong style='color: red;'><pre style='display: inline;'>q11</pre> results:</strong></p><p><strong><pre style='display: inline;'>q11 - 1</pre> result:</strong></p><pre>    Test case passed!</pre><p><strong><pre style='display: inline;'>q11 - 2</pre> result:</strong></p><pre>    Trying:\n        gagarin_quote\n    Expecting:\n        '\"As a matter of fact, I have!\"'\n    **********************************************************************\n    Line 1, in q11 1\n    Failed example:\n        gagarin_quote\n    Expected:\n        '\"As a matter of fact, I have!\"'\n    Got:\n        'Yes'\n</pre>"
     },
     "metadata": {}
    }
   ]
  },
  {
   "cell_type": "markdown",
   "source": "## 1.1. String Methods",
   "metadata": {
    "cell_id": "00011-6294359f-1a39-4f25-8bf2-47db3687b915",
    "deepnote_cell_type": "markdown",
    "deepnote_cell_height": 70
   }
  },
  {
   "cell_type": "markdown",
   "source": "Strings can be transformed using **methods**. Recall that methods and functions are not the same thing. Here is the textbook section on string methods: [4.2.1 String Methods](https://inferentialthinking.com/chapters/04/2/1/String_Methods.html?highlight=methods). \n\nHere's a sketch of how to call methods on a string:\n\n    <expression that evaluates to a string>.<method name>(<argument>, <argument>, ...)\n    \nOne example of a string method is `replace`, which replaces all instances of some part of the original string (or a *substring*) with a new string. \n\n    <original string>.replace(<old substring>, <new substring>)\n    \n`replace` returns (evaluates to) a new string, leaving the original string unchanged.\n    \nTry to predict the output of this example, then run the cell!",
   "metadata": {
    "cell_id": "00012-6e4f4b36-defa-4ee1-a0ac-0bdb0faea645",
    "deepnote_cell_type": "markdown",
    "deepnote_cell_height": 324.3999938964844
   }
  },
  {
   "cell_type": "code",
   "metadata": {
    "execution": {
     "iopub.execute_input": "2022-02-01T05:58:43.034242Z",
     "iopub.status.busy": "2022-02-01T05:58:43.033738Z",
     "iopub.status.idle": "2022-02-01T05:58:43.036769Z",
     "shell.execute_reply": "2022-02-01T05:58:43.036267Z"
    },
    "cell_id": "00013-adaba62e-8491-4d2f-ba9d-82aa647c7180",
    "deepnote_to_be_reexecuted": false,
    "source_hash": "5226cde3",
    "execution_start": 1656358804706,
    "execution_millis": 0,
    "deepnote_cell_type": "code",
    "deepnote_cell_height": 147.6999969482422
   },
   "source": "# Replace one letter\nbag = 'bag'\nprint(bag.replace('g', 't'), bag)",
   "execution_count": null,
   "outputs": [
    {
     "name": "stdout",
     "text": "bat bag\n",
     "output_type": "stream"
    }
   ]
  },
  {
   "cell_type": "markdown",
   "source": "You can call functions on the results of other functions.  For example, `max(abs(-5), abs(3))` evaluates to 5.  Similarly, you can call methods on the results of other method or function calls.\n\nYou may have already noticed one difference between functions and methods - a function like `max` does not require a `.` before it's called, but a string method like `replace` does. Here's a handy [Python reference](http://data8.org/fa21/python-reference.html) on the Data 8 website. It's a good idea to refer to this whenever you're unsure of how to call a function or method.",
   "metadata": {
    "cell_id": "00014-c96e510a-353a-4213-8027-00dc56c4718a",
    "deepnote_cell_type": "markdown",
    "deepnote_cell_height": 156
   }
  },
  {
   "cell_type": "code",
   "metadata": {
    "execution": {
     "iopub.execute_input": "2022-02-01T05:58:43.041436Z",
     "iopub.status.busy": "2022-02-01T05:58:43.040866Z",
     "iopub.status.idle": "2022-02-01T05:58:43.043712Z",
     "shell.execute_reply": "2022-02-01T05:58:43.044090Z"
    },
    "scrolled": true,
    "cell_id": "00015-3e93f9b4-cb42-42d6-8677-eb87686a615b",
    "deepnote_to_be_reexecuted": false,
    "source_hash": "c1e9ba49",
    "execution_start": 1656358804707,
    "execution_millis": 2,
    "deepnote_cell_type": "code",
    "deepnote_cell_height": 136,
    "deepnote_output_heights": [
     21
    ]
   },
   "source": "# Calling replace on the output of another call to replace\n'train'.replace('t', 'ing').replace('in', 'de')",
   "execution_count": null,
   "outputs": [
    {
     "output_type": "execute_result",
     "execution_count": 8,
     "data": {
      "text/plain": "'degrade'"
     },
     "metadata": {}
    }
   ]
  },
  {
   "cell_type": "markdown",
   "source": "Here's a picture of how Python evaluates a \"chained\" method call like that:\n\n<img src=\"/work/gabes-sumer-data-prep/Week 2/Tuesday/lab03/chaining_method_calls.png\"/>",
   "metadata": {
    "cell_id": "00016-83d2f6ed-7a80-46f5-99f9-64565f14b249",
    "deepnote_cell_type": "markdown",
    "deepnote_cell_height": 92.39999389648438
   }
  },
  {
   "cell_type": "markdown",
   "source": "**Question 1.1.1.** Use `replace` to transform the string `'hitchhiker'` into `'matchmaker'`. Assign your result to `new_word`.\n\n<!--\nBEGIN QUESTION\nname: q111\n-->",
   "metadata": {
    "deletable": false,
    "editable": false,
    "cell_id": "00017-0450030d-394f-427c-a1df-e1413d8f931a",
    "deepnote_cell_type": "markdown",
    "deepnote_cell_height": 66.39999389648438
   }
  },
  {
   "cell_type": "code",
   "metadata": {
    "deletable": false,
    "execution": {
     "iopub.execute_input": "2022-02-01T05:58:43.049716Z",
     "iopub.status.busy": "2022-02-01T05:58:43.048837Z",
     "iopub.status.idle": "2022-02-01T05:58:43.052668Z",
     "shell.execute_reply": "2022-02-01T05:58:43.052015Z"
    },
    "cell_id": "00018-97358b9b-7a69-4421-9a41-f031d2f5b532",
    "deepnote_to_be_reexecuted": false,
    "source_hash": "a4412936",
    "execution_start": 1656358804707,
    "execution_millis": 48,
    "deepnote_cell_type": "code",
    "deepnote_cell_height": 136,
    "deepnote_output_heights": [
     21
    ]
   },
   "source": "new_word = 'hitchhiker'.replace('hi','ma').replace('i','a')\nnew_word",
   "execution_count": null,
   "outputs": [
    {
     "output_type": "execute_result",
     "execution_count": 9,
     "data": {
      "text/plain": "'matchmaker'"
     },
     "metadata": {}
    }
   ]
  },
  {
   "cell_type": "code",
   "metadata": {
    "deletable": false,
    "editable": false,
    "cell_id": "00019-93020828-4c25-4ab2-b449-11f7fcf66989",
    "deepnote_to_be_reexecuted": false,
    "source_hash": "ed9c7fc0",
    "execution_start": 1656358804752,
    "execution_millis": 3,
    "deepnote_cell_type": "code",
    "deepnote_cell_height": 161,
    "deepnote_output_heights": [
     64
    ]
   },
   "source": "grader.check(\"q111\")",
   "execution_count": null,
   "outputs": [
    {
     "output_type": "execute_result",
     "execution_count": 10,
     "data": {
      "text/plain": "q111 results: All test cases passed!",
      "text/html": "<p><strong><pre style='display: inline;'>q111</pre></strong> passed!</p>"
     },
     "metadata": {}
    }
   ]
  },
  {
   "cell_type": "markdown",
   "source": "There are many more string methods in Python, but most programmers don't memorize their names or how to use them.  In the \"real world,\" people usually just search the internet for documentation and examples. A complete [list of string methods](https://docs.python.org/3/library/stdtypes.html#string-methods) appears in the Python language documentation. [Stack Overflow](http://stackoverflow.com) has a huge database of answered questions that often demonstrate how to use these methods to achieve various ends. Material covered in these resources that haven't already been introduced in this class will be out of scope. ",
   "metadata": {
    "cell_id": "00020-2bb84941-983f-4487-ba29-e0c29c4d061b",
    "deepnote_cell_type": "markdown",
    "deepnote_cell_height": 142
   }
  },
  {
   "cell_type": "markdown",
   "source": "## 1.2. Converting to and from Strings",
   "metadata": {
    "cell_id": "00021-7d6af127-427e-442d-9bfa-b65835e30fdb",
    "deepnote_cell_type": "markdown",
    "deepnote_cell_height": 70
   }
  },
  {
   "cell_type": "markdown",
   "source": "Strings and numbers are different *types* of values, even when a string contains the digits of a number. For example, evaluating the following cell causes an error because an integer cannot be added to a string.",
   "metadata": {
    "cell_id": "00022-3fe495ce-f353-4de8-9795-f6d076d97d58",
    "deepnote_cell_type": "markdown",
    "deepnote_cell_height": 74.80000305175781
   }
  },
  {
   "cell_type": "code",
   "metadata": {
    "execution": {
     "iopub.execute_input": "2022-02-01T05:58:43.096245Z",
     "iopub.status.busy": "2022-02-01T05:58:43.095742Z",
     "iopub.status.idle": "2022-02-01T05:58:43.654288Z",
     "shell.execute_reply": "2022-02-01T05:58:43.653757Z"
    },
    "tags": [
     "raises-exception"
    ],
    "cell_id": "00023-c5dd2ef6-9816-4dd5-aa3d-80a34b31431e",
    "deepnote_to_be_reexecuted": false,
    "source_hash": "c76fa814",
    "execution_start": 1656358804754,
    "execution_millis": 1251,
    "deepnote_cell_type": "code",
    "deepnote_cell_height": 1736,
    "deepnote_output_heights": [
     222,
     225,
     172,
     340,
     456
    ]
   },
   "source": "8 + \"8\"",
   "execution_count": null,
   "outputs": [
    {
     "data": {
      "text/plain": "<IPython.core.display.Markdown object>",
      "text/markdown": "## **Uh-o it seems we have an error!**"
     },
     "metadata": {},
     "output_type": "display_data"
    },
    {
     "data": {
      "text/plain": "<IPython.core.display.Markdown object>",
      "text/markdown": "It seems we have a TypeError. TypeErrors are usually because of:"
     },
     "metadata": {},
     "output_type": "display_data"
    },
    {
     "data": {
      "text/plain": "<IPython.core.display.Markdown object>",
      "text/markdown": "1. Using the wrong type of input, i.e `np.arange(\"3\")`"
     },
     "metadata": {},
     "output_type": "display_data"
    },
    {
     "data": {
      "text/plain": "<IPython.core.display.Markdown object>",
      "text/markdown": "The Data 8 Reference might be helpful to look over for examples and usage: [Data 8 Reference](http://data8.org/fa21/python-reference.html)"
     },
     "metadata": {},
     "output_type": "display_data"
    },
    {
     "data": {
      "text/plain": "<IPython.core.display.Markdown object>",
      "text/markdown": "If you are having more trouble please feel free to consult a staff member at [Office Hours](https://oh.data8.org)                        \n or see the error message below "
     },
     "metadata": {},
     "output_type": "display_data"
    },
    {
     "data": {
      "text/plain": "Accordion(children=(VBox(children=(VBox(children=(Label(value='Was the message you saw useful?'), Dropdown(opt…",
      "application/vnd.jupyter.widget-view+json": {
       "version_major": 2,
       "version_minor": 0,
       "model_id": "5ee1d409a9c9447e9af414220a663825"
      }
     },
     "metadata": {},
     "output_type": "display_data"
    },
    {
     "output_type": "error",
     "ename": "TypeError",
     "evalue": "unsupported operand type(s) for +: 'int' and 'str'",
     "traceback": [
      "\u001b[0;31m---------------------------------------------------------------------------\u001b[0m",
      "\u001b[0;31mTypeError\u001b[0m                                 Traceback (most recent call last)",
      "\u001b[0;32m<ipython-input-11-ea74adbd7634>\u001b[0m in \u001b[0;36m<cell line: 1>\u001b[0;34m()\u001b[0m\n\u001b[0;32m----> 1\u001b[0;31m \u001b[0;36m8\u001b[0m \u001b[0;34m+\u001b[0m \u001b[0;34m\"8\"\u001b[0m\u001b[0;34m\u001b[0m\u001b[0;34m\u001b[0m\u001b[0m\n\u001b[0m",
      "\u001b[0;31mTypeError\u001b[0m: unsupported operand type(s) for +: 'int' and 'str'"
     ]
    }
   ]
  },
  {
   "cell_type": "markdown",
   "source": "However, there are built-in functions to convert numbers to strings and strings to numbers. Some of these built-in functions have restrictions on the type of argument they take:\n\n|Function |Description|\n|-|-|\n|`int`|Converts a string of digits or a float to an integer (\"int\") value|\n|`float`|Converts a string of digits (perhaps with a decimal point) or an int to a decimal (\"float\") value|\n|`str`|Converts any value to a string|",
   "metadata": {
    "cell_id": "00024-a67159ae-cb4f-4e7f-92da-48cb6044cfe5",
    "deepnote_cell_type": "markdown",
    "deepnote_cell_height": 186.39999389648438
   }
  },
  {
   "cell_type": "markdown",
   "source": "Try to predict what data type and value `example` evaluates to, then run the cell.",
   "metadata": {
    "cell_id": "00025-99bbf22e-6e40-4de8-86ca-4b16d26676e2",
    "deepnote_cell_type": "markdown",
    "deepnote_cell_height": 52.399993896484375
   }
  },
  {
   "cell_type": "code",
   "metadata": {
    "execution": {
     "iopub.execute_input": "2022-02-01T05:58:43.659562Z",
     "iopub.status.busy": "2022-02-01T05:58:43.659016Z",
     "iopub.status.idle": "2022-02-01T05:58:43.662290Z",
     "shell.execute_reply": "2022-02-01T05:58:43.661867Z"
    },
    "cell_id": "00026-f1a80f0d-b8e3-49f6-b6b3-f4b0ea73c7ad",
    "deepnote_to_be_reexecuted": true,
    "source_hash": "6dd1a954",
    "execution_start": 1655841524477,
    "execution_millis": 2,
    "deepnote_cell_type": "code",
    "deepnote_cell_height": 185.39999389648438
   },
   "source": "example = 8 + int(\"10\") + float(\"8\")\n\nprint(example)\nprint(\"This example returned a \" + str(type(example)) + \"!\")",
   "execution_count": null,
   "outputs": [
    {
     "name": "stdout",
     "text": "26.0\nThis example returned a <class 'float'>!\n",
     "output_type": "stream"
    }
   ]
  },
  {
   "cell_type": "markdown",
   "source": "Suppose you're writing a program that looks for dates in a text, and you want your program to find the amount of time that elapsed between two years it has identified.  It doesn't make sense to subtract two texts, but you can first convert the text containing the years into numbers.\n\n**Question 1.2.1.** Finish the code below to compute the number of years that elapsed between `one_year` and `another_year`.  Don't just write the numbers `1618` and `1648` (or `30`); use a conversion function to turn the given text data into numbers.\n\n<!--\nBEGIN QUESTION\nname: q121\n-->",
   "metadata": {
    "deletable": false,
    "editable": false,
    "cell_id": "00027-613df0e9-1540-4626-ba5d-3c6ddea7dfb2",
    "deepnote_cell_type": "markdown",
    "deepnote_cell_height": 170
   }
  },
  {
   "cell_type": "code",
   "metadata": {
    "deletable": false,
    "execution": {
     "iopub.execute_input": "2022-02-01T05:58:43.667545Z",
     "iopub.status.busy": "2022-02-01T05:58:43.666992Z",
     "iopub.status.idle": "2022-02-01T05:58:43.670203Z",
     "shell.execute_reply": "2022-02-01T05:58:43.669626Z"
    },
    "cell_id": "00028-71cf05e4-9a30-4414-b7aa-adebf9edb3dc",
    "deepnote_to_be_reexecuted": true,
    "source_hash": "215d8faf",
    "execution_start": 1655841854746,
    "execution_millis": 3,
    "deepnote_cell_type": "code",
    "deepnote_cell_height": 280,
    "deepnote_output_heights": [
     21
    ]
   },
   "source": "# Some text data:\none_year = \"1618\"\nanother_year = \"1648\"\n\n# Complete the next line.  Note that we can't just write:\n#   another_year - one_year\n# If you don't see why, try seeing what happens when you\n# write that here.\ndifference = abs(int(one_year) - int(another_year))\ndifference",
   "execution_count": null,
   "outputs": [
    {
     "output_type": "execute_result",
     "execution_count": 29,
     "data": {
      "text/plain": "30"
     },
     "metadata": {}
    }
   ]
  },
  {
   "cell_type": "code",
   "metadata": {
    "deletable": false,
    "editable": false,
    "cell_id": "00029-06b6901e-009b-46a4-aa06-b524ad7e796c",
    "deepnote_to_be_reexecuted": true,
    "source_hash": "8ff75966",
    "execution_start": 1655841821152,
    "execution_millis": 65,
    "deepnote_cell_type": "code",
    "deepnote_cell_height": 161,
    "deepnote_output_heights": [
     64
    ]
   },
   "source": "grader.check(\"q121\")",
   "execution_count": null,
   "outputs": [
    {
     "output_type": "execute_result",
     "execution_count": 27,
     "data": {
      "text/plain": "q121 results: All test cases passed!",
      "text/html": "<p><strong><pre style='display: inline;'>q121</pre></strong> passed!</p>"
     },
     "metadata": {}
    }
   ]
  },
  {
   "cell_type": "markdown",
   "source": "## 1.3. Passing strings to functions\n\nString values, like numbers, can be arguments to functions and can be returned by functions. \n\nThe function `len` (derived from the word \"length\") takes a single string as its argument and returns the number of characters (including spaces) in the string.\n\nNote that it doesn't count *words*. `len(\"one small step for man\")` evaluates to 22 characters, not 5 words.\n\n**Question 1.3.1.**  Use `len` to find the number of characters in the long string in the next cell.  Characters include things like spaces and punctuation. Assign `sentence_length` to that number.\n\n(The string is the first sentence of the English translation of the French [Declaration of the Rights of Man](http://avalon.law.yale.edu/18th_century/rightsof.asp).)  \n\n<!--\nBEGIN QUESTION\nname: q131\n-->",
   "metadata": {
    "deletable": false,
    "editable": false,
    "cell_id": "00030-685453c1-2cf4-481e-9109-75ef8070b4c7",
    "deepnote_cell_type": "markdown",
    "deepnote_cell_height": 312.79998779296875
   }
  },
  {
   "cell_type": "code",
   "metadata": {
    "deletable": false,
    "execution": {
     "iopub.execute_input": "2022-02-01T05:58:43.692800Z",
     "iopub.status.busy": "2022-02-01T05:58:43.692258Z",
     "iopub.status.idle": "2022-02-01T05:58:43.695463Z",
     "shell.execute_reply": "2022-02-01T05:58:43.694992Z"
    },
    "cell_id": "00031-0c4ff387-ce90-4f47-86c3-0cac5b4f2630",
    "deepnote_to_be_reexecuted": true,
    "source_hash": "19f8b648",
    "execution_start": 1655841947802,
    "execution_millis": 6,
    "deepnote_cell_type": "code",
    "deepnote_cell_height": 154,
    "deepnote_output_heights": [
     21
    ]
   },
   "source": "a_very_long_sentence = \"The representatives of the French people, organized as a National Assembly, believing that the ignorance, neglect, or contempt of the rights of man are the sole cause of public calamities and of the corruption of governments, have determined to set forth in a solemn declaration the natural, unalienable, and sacred rights of man, in order that this declaration, being constantly before all the members of the Social body, shall remind them continually of their rights and duties; in order that the acts of the legislative power, as well as those of the executive power, may be compared at any moment with the objects and purposes of all political institutions and may thus be more respected, and, lastly, in order that the grievances of the citizens, based hereafter upon simple and incontestable principles, shall tend to the maintenance of the constitution and redound to the happiness of all.\"\nsentence_length = len(a_very_long_sentence)\nsentence_length",
   "execution_count": null,
   "outputs": [
    {
     "output_type": "execute_result",
     "execution_count": 30,
     "data": {
      "text/plain": "896"
     },
     "metadata": {}
    }
   ]
  },
  {
   "cell_type": "code",
   "metadata": {
    "deletable": false,
    "editable": false,
    "cell_id": "00032-c16bc40f-6c55-4042-9bfa-016100f3f67e",
    "deepnote_to_be_reexecuted": true,
    "source_hash": "393f161e",
    "execution_start": 1655841949828,
    "execution_millis": 43,
    "deepnote_cell_type": "code",
    "deepnote_cell_height": 161,
    "deepnote_output_heights": [
     64
    ]
   },
   "source": "grader.check(\"q131\")",
   "execution_count": null,
   "outputs": [
    {
     "output_type": "execute_result",
     "execution_count": 31,
     "data": {
      "text/plain": "q131 results: All test cases passed!",
      "text/html": "<p><strong><pre style='display: inline;'>q131</pre></strong> passed!</p>"
     },
     "metadata": {}
    }
   ]
  },
  {
   "cell_type": "markdown",
   "source": "# 2. Arrays\n\nComputers are most useful when you can use a small amount of code to *do the same action* to *many different things*.\n\nFor example, in the time it takes you to calculate the 18% tip on a restaurant bill, a laptop can calculate 18% tips for every restaurant bill paid by every human on Earth that day.  (That's if you're pretty fast at doing arithmetic in your head!)\n\n**Arrays** are how we put many values in one place so that we can operate on them as a group. For example, if `billions_of_numbers` is an array of numbers, the expression\n\n    .18 * billions_of_numbers\n\ngives a new array of numbers that contains the result of multiplying **each number** in `billions_of_numbers` by .18.  Arrays are not limited to numbers; we can also put all the words in a book into an array of strings.\n\nConcretely, an array is a **collection of values of the same type**. ",
   "metadata": {
    "cell_id": "00033-ef717535-a1dd-4e03-a017-2c934190f6d3",
    "deepnote_cell_type": "markdown",
    "deepnote_cell_height": 374
   }
  },
  {
   "cell_type": "markdown",
   "source": "## 2.1. Making arrays\n\nFirst, let's learn how to manually input values into an array. This typically isn't how programs work. Normally, we create arrays by loading them from an external source, like a data file.\n\nTo create an array by hand, call the function `make_array`.  Each argument you pass to `make_array` will be in the array it returns.  Run this cell to see an example:",
   "metadata": {
    "cell_id": "00034-2c2e8e79-e274-4f1c-933c-aa88bb86c1b3",
    "deepnote_cell_type": "markdown",
    "deepnote_cell_height": 189.60000610351562
   }
  },
  {
   "cell_type": "code",
   "metadata": {
    "execution": {
     "iopub.execute_input": "2022-02-01T05:58:43.707252Z",
     "iopub.status.busy": "2022-02-01T05:58:43.706546Z",
     "iopub.status.idle": "2022-02-01T05:58:43.710107Z",
     "shell.execute_reply": "2022-02-01T05:58:43.709551Z"
    },
    "scrolled": true,
    "cell_id": "00035-e50c8153-9b79-4467-91c4-5fa965456bbf",
    "deepnote_to_be_reexecuted": true,
    "source_hash": "a979e74f",
    "execution_start": 1655842083318,
    "execution_millis": 1,
    "deepnote_cell_type": "code",
    "deepnote_cell_height": 118,
    "deepnote_output_heights": [
     21
    ]
   },
   "source": "make_array(0.125, 4.75, -1.3)",
   "execution_count": null,
   "outputs": [
    {
     "output_type": "execute_result",
     "execution_count": 32,
     "data": {
      "text/plain": "array([ 0.125,  4.75 , -1.3  ])"
     },
     "metadata": {}
    }
   ]
  },
  {
   "cell_type": "markdown",
   "source": "Each value in an array (in the above case, the numbers 0.125, 4.75, and -1.3) is called an *element* of that array.\n\nArrays themselves are also values, just like numbers and strings.  That means you can assign them to names or use them as arguments to functions. For example, `len(<some_array>)` returns the number of elements in `some_array`.",
   "metadata": {
    "cell_id": "00036-9f808e8a-6c46-44be-aeec-fc71df4823e5",
    "deepnote_cell_type": "markdown",
    "deepnote_cell_height": 111.19999694824219
   }
  },
  {
   "cell_type": "markdown",
   "source": "**Question 2.1.1.** Make an array containing the numbers 0, 1, -1, and $\\pi$, in that order.  Name it `interesting_numbers`.  \n\n*Hint:* How did you get the value $\\pi$ in lab 2?  You can refer to it the same way here. The `math` module has been imported at the top of this notebook.\n\n<!--\nBEGIN QUESTION\nname: q211\n-->",
   "metadata": {
    "deletable": false,
    "editable": false,
    "cell_id": "00037-3ee7a5bd-d34a-4c47-a4fc-e13a56f088b6",
    "deepnote_cell_type": "markdown",
    "deepnote_cell_height": 125.19999694824219
   }
  },
  {
   "cell_type": "code",
   "metadata": {
    "deletable": false,
    "execution": {
     "iopub.execute_input": "2022-02-01T05:58:43.715191Z",
     "iopub.status.busy": "2022-02-01T05:58:43.714529Z",
     "iopub.status.idle": "2022-02-01T05:58:43.716976Z",
     "shell.execute_reply": "2022-02-01T05:58:43.717425Z"
    },
    "cell_id": "00038-ddd5d7ab-c20d-41b4-86d1-66a4a5e42e61",
    "deepnote_to_be_reexecuted": true,
    "source_hash": "cf0af56f",
    "execution_start": 1655842257469,
    "execution_millis": 3,
    "deepnote_cell_type": "code",
    "deepnote_cell_height": 154,
    "deepnote_output_heights": [
     21
    ]
   },
   "source": "import numpy\ninteresting_numbers = make_array(0, 1, -1, numpy.pi)\ninteresting_numbers",
   "execution_count": null,
   "outputs": [
    {
     "output_type": "execute_result",
     "execution_count": 39,
     "data": {
      "text/plain": "array([ 0.        ,  1.        , -1.        ,  3.14159265])"
     },
     "metadata": {}
    }
   ]
  },
  {
   "cell_type": "code",
   "metadata": {
    "deletable": false,
    "editable": false,
    "cell_id": "00039-6acbadde-4972-47e1-ad8f-11c9a1c9dd8f",
    "deepnote_to_be_reexecuted": true,
    "source_hash": "788ad328",
    "execution_start": 1655842260112,
    "execution_millis": 54,
    "owner_user_id": "acd79234-d34d-46f3-916d-8366f0a59e44",
    "deepnote_cell_type": "code",
    "deepnote_cell_height": 142,
    "deepnote_output_heights": [
     45
    ]
   },
   "source": "grader.check(\"q211\")",
   "execution_count": null,
   "outputs": [
    {
     "output_type": "execute_result",
     "execution_count": 40,
     "data": {
      "text/plain": "q211 results: All test cases passed!",
      "text/html": "<p><strong><pre style='display: inline;'>q211</pre></strong> passed!</p>"
     },
     "metadata": {}
    }
   ]
  },
  {
   "cell_type": "markdown",
   "source": "**Question 2.1.2.** Make an array containing the five strings `\"Hello\"`, `\",\"`, `\" \"`, `\"world\"`, and `\"!\"`.  (The third one is a single space inside quotes.)  Name it `hello_world_components`.\n\n*Note:* If you evaluate `hello_world_components`, you'll notice some extra information in addition to its contents: `dtype='<U5'`.  That's just NumPy's extremely cryptic way of saying that the data types in the array are strings.\n\n<!--\nBEGIN QUESTION\nname: q212\n-->",
   "metadata": {
    "deletable": false,
    "editable": false,
    "cell_id": "00040-758987f1-6333-40f5-9447-a0bb82bf65b9",
    "deepnote_cell_type": "markdown",
    "deepnote_cell_height": 147.60000610351562
   }
  },
  {
   "cell_type": "code",
   "metadata": {
    "deletable": false,
    "execution": {
     "iopub.execute_input": "2022-02-01T05:58:43.744301Z",
     "iopub.status.busy": "2022-02-01T05:58:43.743569Z",
     "iopub.status.idle": "2022-02-01T05:58:43.746500Z",
     "shell.execute_reply": "2022-02-01T05:58:43.746916Z"
    },
    "cell_id": "00041-6f0d7e1d-db46-4954-b6e5-c7071ef7c7a9",
    "deepnote_to_be_reexecuted": true,
    "source_hash": "b40515db",
    "deepnote_cell_type": "code",
    "deepnote_cell_height": 99
   },
   "source": "hello_world_components = ...\nhello_world_components",
   "execution_count": null,
   "outputs": []
  },
  {
   "cell_type": "code",
   "metadata": {
    "deletable": false,
    "editable": false,
    "cell_id": "00042-2366007b-64d6-45a6-b1c3-95e597f4dbb5",
    "deepnote_to_be_reexecuted": true,
    "source_hash": "4af2a979",
    "deepnote_cell_type": "code",
    "deepnote_cell_height": 81
   },
   "source": "grader.check(\"q212\")",
   "execution_count": null,
   "outputs": []
  },
  {
   "cell_type": "markdown",
   "source": "###  `np.arange`\nArrays are provided by a package called [NumPy](http://www.numpy.org/) (pronounced \"NUM-pie\"). The package is called `numpy`, but it's standard to rename it `np` for brevity.  You can do that with:\n\n    import numpy as np\n\nVery often in data science, we want to work with many numbers that are evenly spaced within some range.  NumPy provides a special function for this called `arange`.  The line of code `np.arange(start, stop, step)` evaluates to an array with all the numbers starting at `start` and counting up by `step`, stopping **before** `stop` is reached.\n\nRun the following cells to see some examples!",
   "metadata": {
    "cell_id": "00043-f88ac9af-52be-495c-8ddc-2f1d4f118649",
    "deepnote_cell_type": "markdown",
    "deepnote_cell_height": 281.95001220703125
   }
  },
  {
   "cell_type": "code",
   "metadata": {
    "execution": {
     "iopub.execute_input": "2022-02-01T05:58:43.812492Z",
     "iopub.status.busy": "2022-02-01T05:58:43.812017Z",
     "iopub.status.idle": "2022-02-01T05:58:43.814769Z",
     "shell.execute_reply": "2022-02-01T05:58:43.815198Z"
    },
    "cell_id": "00044-706b3878-e034-47b0-9ea2-379aa9410114",
    "deepnote_to_be_reexecuted": true,
    "source_hash": "1c242e6b",
    "deepnote_cell_type": "code",
    "deepnote_cell_height": 117
   },
   "source": "# This array starts at 1 and counts up by 2\n# and then stops before 6\nnp.arange(1, 6, 2)",
   "execution_count": null,
   "outputs": []
  },
  {
   "cell_type": "code",
   "metadata": {
    "execution": {
     "iopub.execute_input": "2022-02-01T05:58:43.820029Z",
     "iopub.status.busy": "2022-02-01T05:58:43.819475Z",
     "iopub.status.idle": "2022-02-01T05:58:43.823148Z",
     "shell.execute_reply": "2022-02-01T05:58:43.822634Z"
    },
    "cell_id": "00045-5651222a-1003-4d4d-9020-6d12e5476343",
    "deepnote_to_be_reexecuted": true,
    "source_hash": "baf273aa",
    "deepnote_cell_type": "code",
    "deepnote_cell_height": 102
   },
   "source": "# This array doesn't contain 9\n# because np.arange stops *before* the stop value is reached\nnp.arange(4, 9, 1)",
   "execution_count": null,
   "outputs": []
  },
  {
   "cell_type": "markdown",
   "source": "**Question 2.1.3.** Import `numpy` as `np` and then use `np.arange` to create an array with the multiples of 99 from 0 up to (**and including**) 9999.  (So its elements are 0, 99, 198, 297, etc.)\n\n<!--\nBEGIN QUESTION\nname: q213\n-->",
   "metadata": {
    "deletable": false,
    "editable": false,
    "cell_id": "00046-eed4c2bd-de92-472f-a0e4-8426bb1926dd",
    "deepnote_cell_type": "markdown"
   }
  },
  {
   "cell_type": "code",
   "metadata": {
    "deletable": false,
    "execution": {
     "iopub.execute_input": "2022-02-01T05:58:43.828282Z",
     "iopub.status.busy": "2022-02-01T05:58:43.827831Z",
     "iopub.status.idle": "2022-02-01T05:58:43.830875Z",
     "shell.execute_reply": "2022-02-01T05:58:43.831254Z"
    },
    "cell_id": "00047-092a6c22-ee60-406d-a3ae-fadd729c34a4",
    "deepnote_to_be_reexecuted": true,
    "source_hash": "4d93f855",
    "deepnote_cell_type": "code"
   },
   "source": "...\nmultiples_of_99 = ...\nmultiples_of_99",
   "execution_count": null,
   "outputs": []
  },
  {
   "cell_type": "code",
   "metadata": {
    "deletable": false,
    "editable": false,
    "cell_id": "00048-eb312ac0-a809-40ba-b144-883f43010714",
    "deepnote_to_be_reexecuted": true,
    "source_hash": "93831c69",
    "deepnote_cell_type": "code"
   },
   "source": "grader.check(\"q213\")",
   "execution_count": null,
   "outputs": []
  },
  {
   "cell_type": "markdown",
   "source": "## 2.2. Working with single elements of arrays (\"indexing\")\nLet's work with a more interesting dataset.  The next cell creates an array called `population_amounts` that includes estimated world populations of every year from **1950** to roughly the present.  (The estimates come from the US Census Bureau website.)\n\nRather than type in the data manually, we've loaded them from a file on your computer called `world_population.csv`.  You'll learn how to do that later in this lab!",
   "metadata": {
    "deletable": false,
    "cell_id": "00049-1b0e7bdd-f5ac-43cf-bdf1-9694a2719dbb",
    "deepnote_cell_type": "markdown"
   }
  },
  {
   "cell_type": "code",
   "metadata": {
    "deletable": false,
    "execution": {
     "iopub.execute_input": "2022-02-01T05:58:43.857764Z",
     "iopub.status.busy": "2022-02-01T05:58:43.857278Z",
     "iopub.status.idle": "2022-02-01T05:58:43.892181Z",
     "shell.execute_reply": "2022-02-01T05:58:43.891776Z"
    },
    "cell_id": "00050-18c05345-2932-4444-9430-578a7e7f04e8",
    "deepnote_to_be_reexecuted": true,
    "source_hash": "eb3cf053",
    "deepnote_cell_type": "code"
   },
   "source": "population_amounts = Table.read_table(\"world_population.csv\").column(\"Population\")\npopulation_amounts",
   "execution_count": null,
   "outputs": []
  },
  {
   "cell_type": "markdown",
   "source": "Here's how we get the first element of `population_amounts`, which is the world population in the first year in the dataset, 1950.",
   "metadata": {
    "cell_id": "00051-192c15b0-5449-4333-a1a1-f5eab526fd99",
    "deepnote_cell_type": "markdown"
   }
  },
  {
   "cell_type": "code",
   "metadata": {
    "execution": {
     "iopub.execute_input": "2022-02-01T05:58:43.897233Z",
     "iopub.status.busy": "2022-02-01T05:58:43.896542Z",
     "iopub.status.idle": "2022-02-01T05:58:43.899265Z",
     "shell.execute_reply": "2022-02-01T05:58:43.899675Z"
    },
    "cell_id": "00052-881135e2-aa30-445e-8d95-a0893c1dc84d",
    "deepnote_to_be_reexecuted": true,
    "source_hash": "22636588",
    "deepnote_cell_type": "code"
   },
   "source": "population_amounts.item(0)",
   "execution_count": null,
   "outputs": []
  },
  {
   "cell_type": "markdown",
   "source": "The value of that expression is the number 2,557,628,654 (around 2.5 billion), because that's the first thing in the array `population_amounts`.\n\nNotice that we wrote `.item(0)`, not `.item(1)`, to get the first element.  This is a weird convention in computer science.  **0 is called the *index* of the first item.**  It's the number of elements that appear *before* that item.  So 3 is the index of the 4th item.\n\nHere are some more examples.  In the examples, we've given names to the things we get out of `population_amounts`.  Read and run each cell.",
   "metadata": {
    "cell_id": "00053-9a366435-4f46-45bc-a76e-2b428cc233b6",
    "deepnote_cell_type": "markdown"
   }
  },
  {
   "cell_type": "code",
   "metadata": {
    "execution": {
     "iopub.execute_input": "2022-02-01T05:58:43.904617Z",
     "iopub.status.busy": "2022-02-01T05:58:43.903892Z",
     "iopub.status.idle": "2022-02-01T05:58:43.907080Z",
     "shell.execute_reply": "2022-02-01T05:58:43.907472Z"
    },
    "cell_id": "00054-3cc73439-265e-48a0-a460-0ba70b8fe79a",
    "deepnote_to_be_reexecuted": true,
    "source_hash": "67a46367",
    "deepnote_cell_type": "code"
   },
   "source": "# The 13th element in the array is the population\n# in 1962 (which is 1950 + 12).\npopulation_1962 = population_amounts.item(12)\npopulation_1962",
   "execution_count": null,
   "outputs": []
  },
  {
   "cell_type": "code",
   "metadata": {
    "execution": {
     "iopub.execute_input": "2022-02-01T05:58:43.912148Z",
     "iopub.status.busy": "2022-02-01T05:58:43.911577Z",
     "iopub.status.idle": "2022-02-01T05:58:43.913921Z",
     "shell.execute_reply": "2022-02-01T05:58:43.914262Z"
    },
    "cell_id": "00055-093a4321-4ccd-42d2-8728-d4bc2bf86a3b",
    "deepnote_to_be_reexecuted": true,
    "source_hash": "3dc8c982",
    "deepnote_cell_type": "code"
   },
   "source": "# The 66th element is the population in 2015.\npopulation_2015 = population_amounts.item(65)\npopulation_2015",
   "execution_count": null,
   "outputs": []
  },
  {
   "cell_type": "code",
   "metadata": {
    "execution": {
     "iopub.execute_input": "2022-02-01T05:58:43.918020Z",
     "iopub.status.busy": "2022-02-01T05:58:43.917556Z",
     "iopub.status.idle": "2022-02-01T05:58:43.935664Z",
     "shell.execute_reply": "2022-02-01T05:58:43.935187Z"
    },
    "tags": [
     "raises-exception"
    ],
    "cell_id": "00056-72a6e989-c6ec-4a5a-9741-007529c5b289",
    "deepnote_to_be_reexecuted": true,
    "source_hash": "9d8651d0",
    "deepnote_cell_type": "code"
   },
   "source": "# The array has only 66 elements, so this doesn't work.\n# (There's no element with 66 other elements before it.)\npopulation_2016 = population_amounts.item(66)\npopulation_2016",
   "execution_count": null,
   "outputs": []
  },
  {
   "cell_type": "markdown",
   "source": "Since `make_array` returns an array, we can call `.item(3)` on its output to get its 4th element, just like we \"chained\" together calls to the method `replace` earlier.",
   "metadata": {
    "cell_id": "00057-42cf7ecc-63a1-4c33-9f6d-89ff40bbbddc",
    "deepnote_cell_type": "markdown"
   }
  },
  {
   "cell_type": "code",
   "metadata": {
    "execution": {
     "iopub.execute_input": "2022-02-01T05:58:43.940647Z",
     "iopub.status.busy": "2022-02-01T05:58:43.939974Z",
     "iopub.status.idle": "2022-02-01T05:58:43.942908Z",
     "shell.execute_reply": "2022-02-01T05:58:43.943255Z"
    },
    "cell_id": "00058-c36cd06f-ef43-44ad-8ced-6c121e443968",
    "deepnote_to_be_reexecuted": true,
    "source_hash": "8ce5b50d",
    "deepnote_cell_type": "code"
   },
   "source": "make_array(-1, -3, 4, -2).item(3)",
   "execution_count": null,
   "outputs": []
  },
  {
   "cell_type": "markdown",
   "source": "**Question 2.2.1.** Set `population_1973` to the world population in 1973, by getting the appropriate element from `population_amounts` using `item`.\n\n<!--\nBEGIN QUESTION\nname: q221\n-->",
   "metadata": {
    "deletable": false,
    "editable": false,
    "cell_id": "00059-1d11338c-8222-4c7a-b7c3-4e92ee3eb5fe",
    "deepnote_cell_type": "markdown"
   }
  },
  {
   "cell_type": "code",
   "metadata": {
    "deletable": false,
    "execution": {
     "iopub.execute_input": "2022-02-01T05:58:43.947675Z",
     "iopub.status.busy": "2022-02-01T05:58:43.947184Z",
     "iopub.status.idle": "2022-02-01T05:58:43.950196Z",
     "shell.execute_reply": "2022-02-01T05:58:43.949740Z"
    },
    "cell_id": "00060-a942fb2a-6e61-46f6-92a8-b2646598a870",
    "deepnote_to_be_reexecuted": true,
    "source_hash": "d602b74f",
    "deepnote_cell_type": "code"
   },
   "source": "population_1973 = ...\npopulation_1973",
   "execution_count": null,
   "outputs": []
  },
  {
   "cell_type": "code",
   "metadata": {
    "deletable": false,
    "editable": false,
    "cell_id": "00061-64691eb0-2254-4fd3-8f8e-8485aebd2ebc",
    "deepnote_to_be_reexecuted": true,
    "source_hash": "1dcd2083",
    "deepnote_cell_type": "code"
   },
   "source": "grader.check(\"q221\")",
   "execution_count": null,
   "outputs": []
  },
  {
   "cell_type": "markdown",
   "source": "## 2.3. Doing something to every element of an array\nArrays are primarily useful for doing the same operation many times, so we don't often have to use `.item` and work with single elements.\n\n##### Rounding\nHere is one simple question we might ask about world population:\n\n> How big was the population in each year, rounded to the nearest million?\n\nRounding is often used with large numbers when we don't need as much precision in our numbers. One example of this is when we present data in tables and visualizations. \n\nWe could try to answer our question using the `round` function that is built into Python and the `item` method you just saw. \n\n**Note:** the `round` function takes in two arguments: the number to be rounded, and the number of decimal places to round to. The second argument can be thought of as how many steps right or left you move from the decimal point. Negative numbers tell us to move left, and positive numbers tell us to move right. So, if we have `round(1234.5, -2)`, it means that we should move two places left, and then make all numbers to the right of this place zeroes. This would output the number 1200.0. On the other hand, if we have `round(6.789, 1)`, we should move one place right, and then make all numbers to the right of this place zeroes. This would output the number 6.8.",
   "metadata": {
    "cell_id": "00062-c538c8fb-2d4c-4d02-b8c1-4d26342bae3a",
    "deepnote_cell_type": "markdown"
   }
  },
  {
   "cell_type": "code",
   "metadata": {
    "execution": {
     "iopub.execute_input": "2022-02-01T05:58:43.988431Z",
     "iopub.status.busy": "2022-02-01T05:58:43.987845Z",
     "iopub.status.idle": "2022-02-01T05:58:43.990203Z",
     "shell.execute_reply": "2022-02-01T05:58:43.989779Z"
    },
    "scrolled": true,
    "cell_id": "00063-a1afefc7-a5df-4560-85b7-2d9061e54c66",
    "deepnote_to_be_reexecuted": true,
    "source_hash": "ddabf14b",
    "deepnote_cell_type": "code"
   },
   "source": "population_1950_magnitude = round(population_amounts.item(0), -6)\npopulation_1951_magnitude = round(population_amounts.item(1), -6)\npopulation_1952_magnitude = round(population_amounts.item(2), -6)\npopulation_1953_magnitude = round(population_amounts.item(3), -6)",
   "execution_count": null,
   "outputs": []
  },
  {
   "cell_type": "markdown",
   "source": "But this is tedious and doesn't really take advantage of the fact that we are using a computer.\n\nInstead, NumPy provides its own version of `round` that rounds each element of an array.  It takes in two arguments: a single array of numbers, and the number of decimal places to round to.  It returns an array of the same length, where the first element of the result is the first element of the argument rounded, and so on.\n\n**Question 2.3.1.** Use `np.round` to compute the world population in every year, rounded to the nearest million (6 zeroes).  Give the result (an array of 66 numbers) the name `population_rounded`.  Your code should be very short.\n\n<!--\nBEGIN QUESTION\nname: q231\n-->",
   "metadata": {
    "deletable": false,
    "editable": false,
    "cell_id": "00064-14c8ae0d-5384-4370-8578-e173283026c9",
    "deepnote_cell_type": "markdown"
   }
  },
  {
   "cell_type": "code",
   "metadata": {
    "deletable": false,
    "execution": {
     "iopub.execute_input": "2022-02-01T05:58:43.995004Z",
     "iopub.status.busy": "2022-02-01T05:58:43.994514Z",
     "iopub.status.idle": "2022-02-01T05:58:43.998158Z",
     "shell.execute_reply": "2022-02-01T05:58:43.997747Z"
    },
    "cell_id": "00065-da4f4c3a-a105-4bd0-a32b-3ab26de50d41",
    "deepnote_to_be_reexecuted": true,
    "source_hash": "7a16ffa1",
    "deepnote_cell_type": "code"
   },
   "source": "population_rounded = ...\npopulation_rounded",
   "execution_count": null,
   "outputs": []
  },
  {
   "cell_type": "code",
   "metadata": {
    "deletable": false,
    "editable": false,
    "cell_id": "00066-715fe548-fdb6-422f-92cc-14b92ef710db",
    "deepnote_to_be_reexecuted": true,
    "source_hash": "4e348b04",
    "deepnote_cell_type": "code"
   },
   "source": "grader.check(\"q231\")",
   "execution_count": null,
   "outputs": []
  },
  {
   "cell_type": "markdown",
   "source": "What you just did is called **elementwise** application of `np.round`, since `np.round` operates separately on each element of the array that it's called on. Here's a picture of what's going on:",
   "metadata": {
    "cell_id": "00067-69bda5ac-8c1f-4339-be3f-e40ae2f2122b",
    "deepnote_cell_type": "markdown"
   }
  },
  {
   "cell_type": "markdown",
   "source": "<img src=\"/work/gabes-sumer-data-prep/Week 2/Tuesday/lab03/array_round.jpg\">\n\nThe textbook's [section](https://www.inferentialthinking.com/chapters/05/1/Arrays)  on arrays has a useful list of NumPy functions that are designed to work elementwise, like `np.round`.",
   "metadata": {
    "cell_id": "00068-f8fbec43-6ec2-44ce-b569-5abce69cf480",
    "deepnote_cell_type": "markdown"
   }
  },
  {
   "cell_type": "markdown",
   "source": "##### Arithmetic\nArithmetic also works elementwise on arrays, meaning that if you perform an arithmetic operation (like subtraction, division, etc) on an array, Python will do the operation to every element of the array individually and return an array of all of the results. For example, you can divide all the population numbers by 1 billion to get numbers in billions:",
   "metadata": {
    "cell_id": "00069-fac6a2ba-e18a-4e15-a672-822fb9bfc6ae",
    "deepnote_cell_type": "markdown"
   }
  },
  {
   "cell_type": "code",
   "metadata": {
    "execution": {
     "iopub.execute_input": "2022-02-01T05:58:44.020041Z",
     "iopub.status.busy": "2022-02-01T05:58:44.019576Z",
     "iopub.status.idle": "2022-02-01T05:58:44.022851Z",
     "shell.execute_reply": "2022-02-01T05:58:44.022404Z"
    },
    "cell_id": "00070-9017d8ff-4804-4451-a3a6-d7660402f9ef",
    "deepnote_to_be_reexecuted": true,
    "source_hash": "8a0ee469",
    "deepnote_cell_type": "code"
   },
   "source": "population_in_billions = population_amounts / 1000000000\npopulation_in_billions",
   "execution_count": null,
   "outputs": []
  },
  {
   "cell_type": "markdown",
   "source": "You can do the same with addition, subtraction, multiplication, and exponentiation (`**`).\n\n---\n## Lab Attendance Check-in\n\nLet an AI or GSI know you are ready for check-in on [lab.data8.org](https://lab.data8.org/). Explain `np.arange` to your AI or GSI. What are its inputs/arguments and what are its outputs? Feel free to reference the following code: `np.arange(0,10,2)`.\n\n\n---",
   "metadata": {
    "cell_id": "00071-4332879c-5ac1-4aa7-b6f0-435d4896ce80",
    "deepnote_cell_type": "markdown"
   }
  },
  {
   "cell_type": "markdown",
   "source": "## 3. Creating Tables\n\nAn array is useful for describing a single attribute of each element in a collection. For example, let's say our collection is all US States. Then an array could describe the land area of each state. \n\nTables extend this idea by containing multiple columns stored and represented as arrays, each one describing a different attribute for every element of a collection. In this way, tables allow us to not only store data about many entities but to also contain several kinds of data about each entity. \n\nFor example, in the cell below we have two arrays. The first one, `population_amounts`, was defined above in section 2.2 and contains the world population in each year (estimated by the US Census Bureau). The second array, `years`, contains the years themselves. These elements are in order, so the year and the world population for that year have the same index in their corresponding arrays.",
   "metadata": {
    "deletable": false,
    "cell_id": "00072-9f009143-1ae9-4f6d-af5c-b5dd61da8d02",
    "deepnote_cell_type": "markdown"
   }
  },
  {
   "cell_type": "code",
   "metadata": {
    "deletable": false,
    "execution": {
     "iopub.execute_input": "2022-02-01T05:58:44.027913Z",
     "iopub.status.busy": "2022-02-01T05:58:44.027399Z",
     "iopub.status.idle": "2022-02-01T05:58:44.030601Z",
     "shell.execute_reply": "2022-02-01T05:58:44.029984Z"
    },
    "scrolled": true,
    "cell_id": "00073-79463a90-2c92-4e48-b6af-07273e1cae39",
    "deepnote_to_be_reexecuted": true,
    "source_hash": "51aa4dfb",
    "deepnote_cell_type": "code"
   },
   "source": "# Just run this cell\n\nyears = np.arange(1950, 2015+1)\nprint(\"Population column:\", population_amounts)\nprint(\"Years column:\", years)",
   "execution_count": null,
   "outputs": []
  },
  {
   "cell_type": "markdown",
   "source": "Suppose we want to answer this question:\n\n> In which year did the world's population cross 6 billion?\n\nYou could technically answer this question just from staring at the arrays, but it's a bit convoluted, since you would have to count the position where the population first crossed 6 billion, then find the corresponding element in the years array. In cases like these, it might be easier to put the data into a *`Table`*, a 2-dimensional type of dataset. \n\nThe expression below:\n\n- creates an empty table using the expression `Table()`,\n- adds two columns by calling `with_columns` with four arguments,\n- assigns the result to the name `population`, and finally\n- evaluates `population` so that we can see the table.\n\nThe strings `\"Year\"` and `\"Population\"` are column labels that we have chosen. The names `population_amounts` and `years` were assigned above to two arrays of the **same length**. The function `with_columns` (you can find the documentation [here](http://data8.org/fa21/python-reference.html)) takes in alternating strings (to represent column labels) and arrays (representing the data in those columns). The strings and arrays are separated by commas.",
   "metadata": {
    "deletable": false,
    "cell_id": "00074-55fea1cb-83a1-4223-9813-c374e422ec0c",
    "deepnote_cell_type": "markdown"
   }
  },
  {
   "cell_type": "code",
   "metadata": {
    "deletable": false,
    "execution": {
     "iopub.execute_input": "2022-02-01T05:58:44.036100Z",
     "iopub.status.busy": "2022-02-01T05:58:44.035630Z",
     "iopub.status.idle": "2022-02-01T05:58:44.038825Z",
     "shell.execute_reply": "2022-02-01T05:58:44.038333Z"
    },
    "cell_id": "00075-37e10d03-9cb2-4150-ae28-0df95c106b3e",
    "deepnote_to_be_reexecuted": true,
    "source_hash": "b8db8b03",
    "deepnote_cell_type": "code"
   },
   "source": "population = Table().with_columns(\n    \"Population\", population_amounts,\n    \"Year\", years\n)\npopulation",
   "execution_count": null,
   "outputs": []
  },
  {
   "cell_type": "markdown",
   "source": "Now the data is combined into a single table! It's much easier to parse this data. If you need to know what the population was in 1959, for example, you can tell from a single glance.",
   "metadata": {
    "deletable": false,
    "cell_id": "00076-7e771519-0d4d-41be-9c8b-a53e5754368d",
    "deepnote_cell_type": "markdown"
   }
  },
  {
   "cell_type": "markdown",
   "source": "**Question 3.1.** In the cell below, we've created 2 arrays. Using the steps above, assign `top_10_movies` to a table that has two columns called \"Name\" and \"Rating\", which hold `top_10_movie_names` and `top_10_movie_ratings` respectively.\n\n<!--\nBEGIN QUESTION\nname: q31\n-->",
   "metadata": {
    "deletable": false,
    "editable": false,
    "cell_id": "00077-b562667b-6da9-424a-b1e9-1564ac290d29",
    "deepnote_cell_type": "markdown"
   }
  },
  {
   "cell_type": "code",
   "metadata": {
    "deletable": false,
    "execution": {
     "iopub.execute_input": "2022-02-01T05:58:44.045682Z",
     "iopub.status.busy": "2022-02-01T05:58:44.041136Z",
     "iopub.status.idle": "2022-02-01T05:58:44.048594Z",
     "shell.execute_reply": "2022-02-01T05:58:44.048167Z"
    },
    "cell_id": "00078-2808b8b6-ac3c-4bbe-b95c-55547ebcf557",
    "deepnote_to_be_reexecuted": true,
    "source_hash": "14bb1742",
    "deepnote_cell_type": "code"
   },
   "source": "top_10_movie_names = make_array(\n        'The Shawshank Redemption (1994)',\n        'The Godfather (1972)',\n        'The Godfather: Part II (1974)',\n        'Pulp Fiction (1994)',\n        \"Schindler's List (1993)\",\n        'The Lord of the Rings: The Return of the King (2003)',\n        '12 Angry Men (1957)',\n        'The Dark Knight (2008)',\n        'Il buono, il brutto, il cattivo (1966)',\n        'The Lord of the Rings: The Fellowship of the Ring (2001)')\ntop_10_movie_ratings = make_array(9.2, 9.2, 9., 8.9, 8.9, 8.9, 8.9, 8.9, 8.9, 8.8)\n\ntop_10_movies = ...\n\n# We've put this next line here \n# so your table will get printed out \n# when you run this cell.\ntop_10_movies",
   "execution_count": null,
   "outputs": []
  },
  {
   "cell_type": "code",
   "metadata": {
    "deletable": false,
    "editable": false,
    "cell_id": "00079-5a6b9d57-e4da-45ce-b87e-d753ef531083",
    "deepnote_to_be_reexecuted": true,
    "source_hash": "afd36b2",
    "deepnote_cell_type": "code"
   },
   "source": "grader.check(\"q31\")",
   "execution_count": null,
   "outputs": []
  },
  {
   "cell_type": "markdown",
   "source": "#### Loading a table from a file\n\nIn most cases, we aren't going to go through the trouble of typing in all the data manually. Instead, we load them in from an external source, like a data file. There are many formats for data files, but CSV (\"comma-separated values\") is the most common.\n\n`Table.read_table(...)` takes one argument (a path to a data file in **string** format) and returns a table.  \n\n**Question 3.2.** `imdb.csv` contains a table of information about the 250 highest-rated movies on IMDb.  Load it as a table called `imdb`.\n\n(You may remember working with this table in Lab 2!)\n\n<!--\nBEGIN QUESTION\nname: q32\n-->",
   "metadata": {
    "deletable": false,
    "editable": false,
    "cell_id": "00080-505b68fa-0204-403e-980c-80f617126d72",
    "deepnote_cell_type": "markdown"
   }
  },
  {
   "cell_type": "code",
   "metadata": {
    "deletable": false,
    "execution": {
     "iopub.execute_input": "2022-02-01T05:58:44.097172Z",
     "iopub.status.busy": "2022-02-01T05:58:44.096701Z",
     "iopub.status.idle": "2022-02-01T05:58:44.103726Z",
     "shell.execute_reply": "2022-02-01T05:58:44.104087Z"
    },
    "cell_id": "00081-a816f9f8-f10a-4097-ad52-d69acbe24b86",
    "deepnote_to_be_reexecuted": true,
    "source_hash": "abf325ee",
    "deepnote_cell_type": "code"
   },
   "source": "imdb = ...\nimdb",
   "execution_count": null,
   "outputs": []
  },
  {
   "cell_type": "code",
   "metadata": {
    "deletable": false,
    "editable": false,
    "cell_id": "00082-8cfa19ea-e2ef-41a9-b32a-7bdd95b602ce",
    "deepnote_to_be_reexecuted": true,
    "source_hash": "88de721c",
    "deepnote_cell_type": "code"
   },
   "source": "grader.check(\"q32\")",
   "execution_count": null,
   "outputs": []
  },
  {
   "cell_type": "markdown",
   "source": "Where did `imdb.csv` come from? Take a look at [this lab's folder](./). You should see a file called `imdb.csv`.\n\nOpen up the `imdb.csv` file in that folder and look at the format. What do you notice? The `.csv` filename ending says that this file is in the [CSV (comma-separated value) format](http://edoceo.com/utilitas/csv-file-format).",
   "metadata": {
    "cell_id": "00083-8c73e04f-9652-4b48-ae33-98c13230268d",
    "deepnote_cell_type": "markdown"
   }
  },
  {
   "cell_type": "markdown",
   "source": "## 4. More Table Operations!\n\nNow that you've worked with arrays, let's add a few more methods to the list of table operations that you saw in Lab 2.\n\n### `column`\n\n`column` takes the column name of a table (in string format) as its argument and returns the values in that column as an **array**. ",
   "metadata": {
    "cell_id": "00084-3349202f-8699-4017-b2d4-e983f6f89215",
    "deepnote_cell_type": "markdown"
   }
  },
  {
   "cell_type": "code",
   "metadata": {
    "execution": {
     "iopub.execute_input": "2022-02-01T05:58:44.134725Z",
     "iopub.status.busy": "2022-02-01T05:58:44.134137Z",
     "iopub.status.idle": "2022-02-01T05:58:44.136773Z",
     "shell.execute_reply": "2022-02-01T05:58:44.137127Z"
    },
    "scrolled": true,
    "cell_id": "00085-88a7ec14-9ea0-46ae-a8f6-e71156be88f0",
    "deepnote_to_be_reexecuted": true,
    "source_hash": "e587896",
    "deepnote_cell_type": "code"
   },
   "source": "# Returns an array of movie names\ntop_10_movies.column('Name')",
   "execution_count": null,
   "outputs": []
  },
  {
   "cell_type": "markdown",
   "source": "### `take`\nThe table method `take` takes as its argument an array of numbers.  Each number should be the index of a row in the table.  It returns a **new table** with only those rows. \n\nYou'll usually want to use `take` in conjunction with `np.arange` to take the first few rows of a table.",
   "metadata": {
    "cell_id": "00086-a9d51fab-f5de-4d6b-b4fe-6c5e47c545e6",
    "deepnote_cell_type": "markdown"
   }
  },
  {
   "cell_type": "code",
   "metadata": {
    "execution": {
     "iopub.execute_input": "2022-02-01T05:58:44.142541Z",
     "iopub.status.busy": "2022-02-01T05:58:44.141959Z",
     "iopub.status.idle": "2022-02-01T05:58:44.144998Z",
     "shell.execute_reply": "2022-02-01T05:58:44.145397Z"
    },
    "scrolled": true,
    "cell_id": "00087-011dd4f2-1e01-47e1-9cbd-7e8983e943e3",
    "deepnote_to_be_reexecuted": true,
    "source_hash": "fcb9339e",
    "deepnote_cell_type": "code"
   },
   "source": "# Take first 5 movies of top_10_movies\ntop_10_movies.take(np.arange(0, 5, 1))",
   "execution_count": null,
   "outputs": []
  },
  {
   "cell_type": "markdown",
   "source": "The next three questions will give you practice with combining the operations you've learned in this lab and the previous one to answer questions about the `population` and `imdb` tables. First, check out the `population` table from section 2.",
   "metadata": {
    "cell_id": "00088-600fd7ad-42dc-49f0-a9aa-ef484b0f4d6c",
    "deepnote_cell_type": "markdown"
   }
  },
  {
   "cell_type": "code",
   "metadata": {
    "execution": {
     "iopub.execute_input": "2022-02-01T05:58:44.150793Z",
     "iopub.status.busy": "2022-02-01T05:58:44.150190Z",
     "iopub.status.idle": "2022-02-01T05:58:44.187975Z",
     "shell.execute_reply": "2022-02-01T05:58:44.187264Z"
    },
    "cell_id": "00089-e56dde0d-6f61-4182-8a54-7abc469543be",
    "deepnote_to_be_reexecuted": true,
    "source_hash": "eab0d98c",
    "deepnote_cell_type": "code"
   },
   "source": "# Run this cell to display the population table.\npopulation",
   "execution_count": null,
   "outputs": []
  },
  {
   "cell_type": "markdown",
   "source": "**Question 4.1.** Check out the `population` table from section 2 of this lab.  Compute the year when the world population first went above 6 billion. Assign the year to `year_population_crossed_6_billion`.\n\n<!--\nBEGIN QUESTION\nname: q41\n-->",
   "metadata": {
    "deletable": false,
    "editable": false,
    "cell_id": "00090-18f21f60-bd0b-4049-ae50-90f494686c7c",
    "deepnote_cell_type": "markdown"
   }
  },
  {
   "cell_type": "code",
   "metadata": {
    "deletable": false,
    "execution": {
     "iopub.execute_input": "2022-02-01T05:58:44.194588Z",
     "iopub.status.busy": "2022-02-01T05:58:44.193787Z",
     "iopub.status.idle": "2022-02-01T05:58:44.196489Z",
     "shell.execute_reply": "2022-02-01T05:58:44.197034Z"
    },
    "cell_id": "00091-e349ad80-7aa6-4de6-a420-f7ba7ca1d102",
    "deepnote_to_be_reexecuted": true,
    "source_hash": "9b2aed1c",
    "deepnote_cell_type": "code"
   },
   "source": "year_population_crossed_6_billion = ...\nyear_population_crossed_6_billion",
   "execution_count": null,
   "outputs": []
  },
  {
   "cell_type": "code",
   "metadata": {
    "deletable": false,
    "editable": false,
    "cell_id": "00092-bace8b97-0daf-4331-944d-5ab6917de63a",
    "deepnote_to_be_reexecuted": true,
    "source_hash": "e1ed7d83",
    "deepnote_cell_type": "code"
   },
   "source": "grader.check(\"q41\")",
   "execution_count": null,
   "outputs": []
  },
  {
   "cell_type": "markdown",
   "source": "**Question 4.2.** Find the average rating for movies released before the year 2000 and the average rating for movies released in the year 2000 or after for the movies in `imdb`.\n\n*Hint*: Think of the steps you need to do (take the average, find the ratings, find movies released in 20th/21st centuries), and try to put them in an order that makes sense.\n\n<!--\nBEGIN QUESTION\nname: q42\n-->",
   "metadata": {
    "deletable": false,
    "editable": false,
    "cell_id": "00093-64e29f64-6c8c-4e5f-b9af-8354efa38e0b",
    "deepnote_cell_type": "markdown"
   }
  },
  {
   "cell_type": "code",
   "metadata": {
    "deletable": false,
    "execution": {
     "iopub.execute_input": "2022-02-01T05:58:44.219840Z",
     "iopub.status.busy": "2022-02-01T05:58:44.219265Z",
     "iopub.status.idle": "2022-02-01T05:58:44.222593Z",
     "shell.execute_reply": "2022-02-01T05:58:44.223149Z"
    },
    "cell_id": "00094-fc0ead17-fed0-4d2b-827b-0dcbbab1a874",
    "deepnote_to_be_reexecuted": true,
    "source_hash": "a6ee44ab",
    "deepnote_cell_type": "code"
   },
   "source": "before_2000 = ...\nafter_or_in_2000 = ...\nprint(\"Average before 2000 rating:\", before_2000)\nprint(\"Average after or in 2000 rating:\", after_or_in_2000)",
   "execution_count": null,
   "outputs": []
  },
  {
   "cell_type": "code",
   "metadata": {
    "deletable": false,
    "editable": false,
    "cell_id": "00095-e21f22b3-98ca-406b-a2a3-dc5b13581c48",
    "deepnote_to_be_reexecuted": true,
    "source_hash": "794b69da",
    "deepnote_cell_type": "code"
   },
   "source": "grader.check(\"q42\")",
   "execution_count": null,
   "outputs": []
  },
  {
   "cell_type": "markdown",
   "source": "**Question 4.3.** Here's a challenge: Find the number of movies that came out in *even* years.\n\n*Hint:* The operator `%` computes the remainder when dividing by a number.  So `5 % 2` is 1 and `6 % 2` is 0.  A number is even if the remainder is 0 when you divide by 2.\n\n*Hint 2:* `%` can be used on arrays, operating elementwise like `+` or `*`.  So `make_array(5, 6, 7) % 2` is `array([1, 0, 1])`.\n\n*Hint 3:* Add a new column called \"Year Remainder\" that's the remainder when each movie's release year is divided by 2. To do this, you can use `tbl.with_column(col_name, col_values)`: a table method that takes in the name of the new column and an array of values and returns a copy of the original `tbl` with the new column.  Then, use `where` to find rows where that new column is equal to 0.  Finally, use `num_rows` to count the number of such rows.\n\n*Note:* These steps can be chained in one single statement, or broken up across several lines with intermediate names assigned. You’re always welcome to break down problems however you wish!\n\n<!--\nBEGIN QUESTION\nname: q43\n-->",
   "metadata": {
    "deletable": false,
    "editable": false,
    "cell_id": "00096-285825ec-5f16-41c7-97fa-2fa769fdd38c",
    "deepnote_cell_type": "markdown"
   }
  },
  {
   "cell_type": "code",
   "metadata": {
    "deletable": false,
    "execution": {
     "iopub.execute_input": "2022-02-01T05:58:44.244683Z",
     "iopub.status.busy": "2022-02-01T05:58:44.243494Z",
     "iopub.status.idle": "2022-02-01T05:58:44.248022Z",
     "shell.execute_reply": "2022-02-01T05:58:44.247461Z"
    },
    "cell_id": "00097-01444c81-8e0f-40aa-aedf-1255eece5a15",
    "deepnote_to_be_reexecuted": true,
    "source_hash": "e8875e3",
    "deepnote_cell_type": "code"
   },
   "source": "num_even_year_movies = ...\nnum_even_year_movies",
   "execution_count": null,
   "outputs": []
  },
  {
   "cell_type": "code",
   "metadata": {
    "deletable": false,
    "editable": false,
    "cell_id": "00098-815cf0bb-29ee-44b2-be56-2c04660c7ec3",
    "deepnote_to_be_reexecuted": true,
    "source_hash": "5fc0e278",
    "deepnote_cell_type": "code"
   },
   "source": "grader.check(\"q43\")",
   "execution_count": null,
   "outputs": []
  },
  {
   "cell_type": "markdown",
   "source": "## 5. More Array Practice\n\nThe following questions will be great practice for learning how to generate arrays in different ways, as well as executing different methods of array arithmetic!",
   "metadata": {
    "cell_id": "00099-8842ae97-5370-4c99-8e2a-3d9c676b32d2",
    "deepnote_cell_type": "markdown"
   }
  },
  {
   "cell_type": "markdown",
   "source": "###  5.1 `np.arange` (cont.)",
   "metadata": {
    "cell_id": "00100-be984f3b-9044-4bad-8766-504f0fb2a242",
    "deepnote_cell_type": "markdown"
   }
  },
  {
   "cell_type": "markdown",
   "source": "##### Temperature readings\nNOAA (the US National Oceanic and Atmospheric Administration) operates weather stations that measure surface temperatures at different sites around the United States.  The hourly readings are [publicly available](http://www.ncdc.noaa.gov/qclcd/QCLCD?prior=N).\n\nSuppose we download all the hourly data from the Oakland, California site for the month of December 2015.  To analyze the data, we want to know when each reading was taken, but we find that the data don't include the timestamps of the readings (the time at which each one was taken).\n\nHowever, we know the first reading was taken at the first instant of December 2015 (midnight on December 1st) and each subsequent reading was taken exactly 1 hour after the last.\n\n**Question 5.1.1.** Create an array of the *time, in seconds, since the start of the month* at which **each hourly reading** was taken.  Name it `collection_times`.\n\n*Hint 1:* There were 31 days in December, which is equivalent to ($31 \\times 24$) hours or ($31 \\times 24 \\times 60 \\times 60$) seconds.  So your array should have $31 \\times 24$ elements in it.\n\n*Hint 2:* The `len` function works on arrays, too!  If your `collection_times` isn't passing the tests, check its length and make sure it has $31 \\times 24$ elements.\n\n<!--\nBEGIN QUESTION\nname: q511\n-->",
   "metadata": {
    "deletable": false,
    "editable": false,
    "cell_id": "00101-69c16ad6-4aa7-433b-ae2a-31923f0a2af4",
    "deepnote_cell_type": "markdown"
   }
  },
  {
   "cell_type": "code",
   "metadata": {
    "execution": {
     "iopub.execute_input": "2022-02-01T05:58:44.292880Z",
     "iopub.status.busy": "2022-02-01T05:58:44.292302Z",
     "iopub.status.idle": "2022-02-01T05:58:44.296871Z",
     "shell.execute_reply": "2022-02-01T05:58:44.296062Z"
    },
    "cell_id": "00102-15ba0961-e008-4222-b133-2c79f7b3441d",
    "deepnote_to_be_reexecuted": true,
    "source_hash": "cda0ac90",
    "deepnote_cell_type": "code"
   },
   "source": "collection_times = ...\ncollection_times",
   "execution_count": null,
   "outputs": []
  },
  {
   "cell_type": "code",
   "metadata": {
    "deletable": false,
    "editable": false,
    "cell_id": "00103-0ede7c42-4884-401b-bf2e-d6ebe090f9ce",
    "deepnote_to_be_reexecuted": true,
    "source_hash": "a365f494",
    "deepnote_cell_type": "code"
   },
   "source": "grader.check(\"q511\")",
   "execution_count": null,
   "outputs": []
  },
  {
   "cell_type": "markdown",
   "source": "### 5.2 Doing something to every element of an array (cont.)\n\nCalculate a tip on several restaurant bills at once (in this case just 3):",
   "metadata": {
    "cell_id": "00104-64dcb27c-071e-44fb-a214-23ef15a04c4c",
    "deepnote_cell_type": "markdown"
   }
  },
  {
   "cell_type": "code",
   "metadata": {
    "execution": {
     "iopub.execute_input": "2022-02-01T05:58:44.332210Z",
     "iopub.status.busy": "2022-02-01T05:58:44.331662Z",
     "iopub.status.idle": "2022-02-01T05:58:44.334277Z",
     "shell.execute_reply": "2022-02-01T05:58:44.334671Z"
    },
    "cell_id": "00105-6fcab000-4488-4a4e-96d2-c9fc2c3a1acb",
    "deepnote_to_be_reexecuted": true,
    "source_hash": "98410128",
    "deepnote_cell_type": "code"
   },
   "source": "restaurant_bills = make_array(20.12, 39.90, 31.01)\nprint(\"Restaurant bills:\\t\", restaurant_bills)\n\n# Array multiplication\ntips = .2 * restaurant_bills\nprint(\"Tips:\\t\\t\\t\", tips)",
   "execution_count": null,
   "outputs": []
  },
  {
   "cell_type": "markdown",
   "source": "<img src=\"/work/gabes-sumer-data-prep/Week 2/Tuesday/lab03/array_multiplication.jpg\">\n\n**Question 5.2.1** Suppose the total charge at a restaurant is the original bill plus the tip. If the tip is 20%, that means we can multiply the original bill by 1.2 to get the total charge.  Compute the total charge for each bill in `restaurant_bills`, and assign the resulting array to `total_charges`.\n\n<!--\nBEGIN QUESTION\nname: q521\n-->",
   "metadata": {
    "deletable": false,
    "editable": false,
    "cell_id": "00106-5c95edda-46b4-4373-a081-678ef1273337",
    "deepnote_cell_type": "markdown"
   }
  },
  {
   "cell_type": "code",
   "metadata": {
    "execution": {
     "iopub.execute_input": "2022-02-01T05:58:44.339653Z",
     "iopub.status.busy": "2022-02-01T05:58:44.338996Z",
     "iopub.status.idle": "2022-02-01T05:58:44.341887Z",
     "shell.execute_reply": "2022-02-01T05:58:44.342239Z"
    },
    "cell_id": "00107-7ba1f218-8891-4e37-affd-7f17913fea54",
    "deepnote_to_be_reexecuted": true,
    "source_hash": "d35230e1",
    "deepnote_cell_type": "code"
   },
   "source": "total_charges = ...\ntotal_charges",
   "execution_count": null,
   "outputs": []
  },
  {
   "cell_type": "code",
   "metadata": {
    "deletable": false,
    "editable": false,
    "cell_id": "00108-67d50304-a87c-421c-aa68-7d5b3c41634c",
    "deepnote_to_be_reexecuted": true,
    "source_hash": "27ddfc65",
    "deepnote_cell_type": "code"
   },
   "source": "grader.check(\"q521\")",
   "execution_count": null,
   "outputs": []
  },
  {
   "cell_type": "markdown",
   "source": "**Question 5.2.2.** The array `more_restaurant_bills` contains 100,000 bills!  Compute the total charge for each one in `more_restaurant_bills`.  How is your code different?\n\n<!--\nBEGIN QUESTION\nname: q522\n-->",
   "metadata": {
    "deletable": false,
    "editable": false,
    "cell_id": "00109-19992d36-4adc-42f2-9b18-522eff7d0b15",
    "deepnote_cell_type": "markdown"
   }
  },
  {
   "cell_type": "code",
   "metadata": {
    "execution": {
     "iopub.execute_input": "2022-02-01T05:58:44.396759Z",
     "iopub.status.busy": "2022-02-01T05:58:44.396229Z",
     "iopub.status.idle": "2022-02-01T05:58:44.434094Z",
     "shell.execute_reply": "2022-02-01T05:58:44.434503Z"
    },
    "cell_id": "00110-b6a9588b-ffb5-46d0-ac3c-461bbb7c8d1c",
    "deepnote_to_be_reexecuted": true,
    "source_hash": "17238397",
    "deepnote_cell_type": "code"
   },
   "source": "more_restaurant_bills = Table.read_table(\"more_restaurant_bills.csv\").column(\"Bill\")\nmore_total_charges = ...\nmore_total_charges",
   "execution_count": null,
   "outputs": []
  },
  {
   "cell_type": "code",
   "metadata": {
    "deletable": false,
    "editable": false,
    "cell_id": "00111-e7b2543f-af68-435e-9fad-302c89861615",
    "deepnote_to_be_reexecuted": true,
    "source_hash": "36c9611c",
    "deepnote_cell_type": "code"
   },
   "source": "grader.check(\"q522\")",
   "execution_count": null,
   "outputs": []
  },
  {
   "cell_type": "markdown",
   "source": "The function `sum` takes a single array of numbers as its argument.  It returns the sum of all the numbers in that array (so it returns a single number, not an array).\n\n**Question 5.2.3.** What was the sum of all the bills in `more_restaurant_bills`, *including tips*?\n\n<!--\nBEGIN QUESTION\nname: q523\n-->",
   "metadata": {
    "deletable": false,
    "editable": false,
    "cell_id": "00112-8fe622e3-59a2-435c-86b2-b0407414da4e",
    "deepnote_cell_type": "markdown"
   }
  },
  {
   "cell_type": "code",
   "metadata": {
    "execution": {
     "iopub.execute_input": "2022-02-01T05:58:44.489174Z",
     "iopub.status.busy": "2022-02-01T05:58:44.488295Z",
     "iopub.status.idle": "2022-02-01T05:58:44.492286Z",
     "shell.execute_reply": "2022-02-01T05:58:44.492705Z"
    },
    "cell_id": "00113-d8d5ccaf-e0cd-44c5-bd4b-b2f745bff98a",
    "deepnote_to_be_reexecuted": true,
    "source_hash": "8b4dde20",
    "deepnote_cell_type": "code"
   },
   "source": "sum_of_bills = ...\nsum_of_bills",
   "execution_count": null,
   "outputs": []
  },
  {
   "cell_type": "code",
   "metadata": {
    "deletable": false,
    "editable": false,
    "cell_id": "00114-fe6fd04b-e332-4dd7-a831-ce682feb1bf6",
    "deepnote_to_be_reexecuted": true,
    "source_hash": "85ec0b8",
    "deepnote_cell_type": "code"
   },
   "source": "grader.check(\"q523\")",
   "execution_count": null,
   "outputs": []
  },
  {
   "cell_type": "markdown",
   "source": "**Question 5.2.4.** The powers of 2 ($2^0 = 1$, $2^1 = 2$, $2^2 = 4$, etc) arise frequently in computer science.  (For example, you may have noticed that storage on smartphones or USBs come in powers of 2, like 16 GB, 32 GB, or 64 GB.)  Use `np.arange` and the exponentiation operator `**` to compute the first 30 powers of 2, starting from `2^0`.\n\n*Hint 1:* `np.arange(1, 2**30, 1)` creates an array with $2^{30}$ elements and **will crash your kernel**.\n\n*Hint 2:* Part of your solution will involve `np.arange`, but your array shouldn't have more than 30 elements.\n\n<!--\nBEGIN QUESTION\nname: q524\n-->",
   "metadata": {
    "deletable": false,
    "editable": false,
    "cell_id": "00115-42c66bdb-9037-46bd-9055-ef6b8ac7eaf3",
    "deepnote_cell_type": "markdown"
   }
  },
  {
   "cell_type": "code",
   "metadata": {
    "execution": {
     "iopub.execute_input": "2022-02-01T05:58:44.506544Z",
     "iopub.status.busy": "2022-02-01T05:58:44.505871Z",
     "iopub.status.idle": "2022-02-01T05:58:44.508952Z",
     "shell.execute_reply": "2022-02-01T05:58:44.509283Z"
    },
    "cell_id": "00116-d93762af-c86e-4cc3-8e76-f345d4d85bde",
    "deepnote_to_be_reexecuted": true,
    "source_hash": "1599704a",
    "deepnote_cell_type": "code"
   },
   "source": "powers_of_2 = ...\npowers_of_2",
   "execution_count": null,
   "outputs": []
  },
  {
   "cell_type": "code",
   "metadata": {
    "deletable": false,
    "editable": false,
    "cell_id": "00117-a87e84c4-da12-4e0f-9f80-b95f9b33f261",
    "deepnote_to_be_reexecuted": true,
    "source_hash": "5c727e3d",
    "deepnote_cell_type": "code"
   },
   "source": "grader.check(\"q524\")",
   "execution_count": null,
   "outputs": []
  },
  {
   "cell_type": "markdown",
   "source": "---\n\n<img src=\"/work/gabes-sumer-data-prep/Week 2/Tuesday/lab03/maple_syrup.jpeg\" alt=\"drawing\" width=\"300\"/>\n\nMaple Syrup (Professor DeNero's dog) wanted to congratulate you on finishing Lab 3!!\n\nTo double-check your work, the cell below will rerun all of the autograder tests.\n",
   "metadata": {
    "cell_id": "00118-66f9bcf4-8153-4ad8-a2d9-ddf6d5cfebbc",
    "deepnote_cell_type": "markdown"
   }
  },
  {
   "cell_type": "markdown",
   "source": "## 6. Submission \n\nBe sure to \n- **run all the tests** and verify that they all pass (you can run the shortcut grade_all cell), \n- **Save** from the `File` menu,\n- **run the last cell to generate the zip file**, \n- **click the link to download the zip file** and submit your work to Lab 03 Autograder on [Gradescope](https://www.gradescope.com/courses/349879),\n- and if you are in lab, **ask one of the staff members to check you off.**\n\n**It is your responsibility to make sure your work is saved before running the last cell.**",
   "metadata": {
    "cell_id": "00119-7095aaae-4131-45a5-9c17-6fa3959c2acd",
    "deepnote_cell_type": "markdown"
   }
  },
  {
   "cell_type": "markdown",
   "source": "---\n\nTo double-check your work, the cell below will rerun all of the autograder tests.",
   "metadata": {
    "deletable": false,
    "editable": false,
    "cell_id": "00120-24db7d89-c535-445a-837b-77eecd6fe4d4",
    "deepnote_cell_type": "markdown"
   }
  },
  {
   "cell_type": "code",
   "metadata": {
    "deletable": false,
    "editable": false,
    "cell_id": "00121-d3af402b-9e1b-4bbf-9776-88919d3c0197",
    "deepnote_to_be_reexecuted": true,
    "source_hash": "3e4d35bc",
    "deepnote_cell_type": "code"
   },
   "source": "grader.check_all()",
   "execution_count": null,
   "outputs": []
  },
  {
   "cell_type": "markdown",
   "source": "## Submission\n\nMake sure you have run all cells in your notebook in order before running the cell below, so that all images/graphs appear in the output. The cell below will generate a zip file for you to submit. **Please save before exporting!**",
   "metadata": {
    "deletable": false,
    "editable": false,
    "cell_id": "00122-79548d4b-58b4-46ff-b809-177e88995cca",
    "deepnote_cell_type": "markdown"
   }
  },
  {
   "cell_type": "code",
   "metadata": {
    "deletable": false,
    "editable": false,
    "cell_id": "00123-eff2960a-4427-4137-badd-49473fbed7f1",
    "deepnote_to_be_reexecuted": true,
    "source_hash": "6f724915",
    "deepnote_cell_type": "code"
   },
   "source": "# Save your notebook first, then run this cell to export your submission.\ngrader.export(pdf=False)",
   "execution_count": null,
   "outputs": []
  },
  {
   "cell_type": "markdown",
   "source": " ",
   "metadata": {
    "cell_id": "00124-40295609-3b26-4b07-aa74-951bb77d45bd",
    "deepnote_cell_type": "markdown"
   }
  },
  {
   "cell_type": "markdown",
   "source": "<a style='text-decoration:none;line-height:16px;display:flex;color:#5B5B62;padding:10px;justify-content:end;' href='https://deepnote.com?utm_source=created-in-deepnote-cell&projectId=ef6c0823-e062-4ba0-8bfb-7690ef03f945' target=\"_blank\">\n<img alt='Created in deepnote.com' style='display:inline;max-height:16px;margin:0px;margin-right:7.5px;' src='data:image/svg+xml;base64,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' > </img>\nCreated in <span style='font-weight:600;margin-left:4px;'>Deepnote</span></a>",
   "metadata": {
    "tags": [],
    "created_in_deepnote_cell": true,
    "deepnote_cell_type": "markdown"
   }
  }
 ],
 "nbformat": 4,
 "nbformat_minor": 5,
 "metadata": {
  "kernelspec": {
   "display_name": "Python 3",
   "language": "python",
   "name": "python3"
  },
  "language_info": {
   "codemirror_mode": {
    "name": "ipython",
    "version": 3
   },
   "file_extension": ".py",
   "mimetype": "text/x-python",
   "name": "python",
   "nbconvert_exporter": "python",
   "pygments_lexer": "ipython3",
   "version": "3.9.9"
  },
  "widgets": {
   "application/vnd.jupyter.widget-state+json": {
    "state": {
     "08f02aff24f645dd8c2ab422ab9d094d": {
      "model_module": "@jupyter-widgets/controls",
      "model_module_version": "1.5.0",
      "model_name": "VBoxModel",
      "state": {
       "_dom_classes": [],
       "_model_module": "@jupyter-widgets/controls",
       "_model_module_version": "1.5.0",
       "_model_name": "VBoxModel",
       "_view_count": null,
       "_view_module": "@jupyter-widgets/controls",
       "_view_module_version": "1.5.0",
       "_view_name": "VBoxView",
       "box_style": "",
       "children": [
        "IPY_MODEL_c2212997a6ac41c69a60f59cb5ff80d2",
        "IPY_MODEL_877fa111af934bee8aed0a3510686498"
       ],
       "layout": "IPY_MODEL_f22e874e7d6e4a85823273a5a74391e6"
      }
     },
     "10add0c50e294f3dbd4f4028e7dc00ca": {
      "model_module": "@jupyter-widgets/controls",
      "model_module_version": "1.5.0",
      "model_name": "DescriptionStyleModel",
      "state": {
       "_model_module": "@jupyter-widgets/controls",
       "_model_module_version": "1.5.0",
       "_model_name": "DescriptionStyleModel",
       "_view_count": null,
       "_view_module": "@jupyter-widgets/base",
       "_view_module_version": "1.2.0",
       "_view_name": "StyleView",
       "description_width": ""
      }
     },
     "137bee1936854940a2cc7f762405209d": {
      "model_module": "@jupyter-widgets/controls",
      "model_module_version": "1.5.0",
      "model_name": "DescriptionStyleModel",
      "state": {
       "_model_module": "@jupyter-widgets/controls",
       "_model_module_version": "1.5.0",
       "_model_name": "DescriptionStyleModel",
       "_view_count": null,
       "_view_module": "@jupyter-widgets/base",
       "_view_module_version": "1.2.0",
       "_view_name": "StyleView",
       "description_width": ""
      }
     },
     "24927c5632da41cd9ed1ca6f93d0e831": {
      "model_module": "@jupyter-widgets/base",
      "model_module_version": "1.2.0",
      "model_name": "LayoutModel",
      "state": {
       "_model_module": "@jupyter-widgets/base",
       "_model_module_version": "1.2.0",
       "_model_name": "LayoutModel",
       "_view_count": null,
       "_view_module": "@jupyter-widgets/base",
       "_view_module_version": "1.2.0",
       "_view_name": "LayoutView",
       "align_content": null,
       "align_items": null,
       "align_self": null,
       "border": null,
       "bottom": null,
       "display": null,
       "flex": null,
       "flex_flow": null,
       "grid_area": null,
       "grid_auto_columns": null,
       "grid_auto_flow": null,
       "grid_auto_rows": null,
       "grid_column": null,
       "grid_gap": null,
       "grid_row": null,
       "grid_template_areas": null,
       "grid_template_columns": null,
       "grid_template_rows": null,
       "height": null,
       "justify_content": null,
       "justify_items": null,
       "left": null,
       "margin": null,
       "max_height": null,
       "max_width": null,
       "min_height": null,
       "min_width": "80px",
       "object_fit": null,
       "object_position": null,
       "order": null,
       "overflow": null,
       "overflow_x": null,
       "overflow_y": null,
       "padding": null,
       "right": null,
       "top": null,
       "visibility": null,
       "width": "10%"
      }
     },
     "271d528792054294b5cf8de58e422894": {
      "model_module": "@jupyter-widgets/controls",
      "model_module_version": "1.5.0",
      "model_name": "VBoxModel",
      "state": {
       "_dom_classes": [],
       "_model_module": "@jupyter-widgets/controls",
       "_model_module_version": "1.5.0",
       "_model_name": "VBoxModel",
       "_view_count": null,
       "_view_module": "@jupyter-widgets/controls",
       "_view_module_version": "1.5.0",
       "_view_name": "VBoxView",
       "box_style": "",
       "children": [
        "IPY_MODEL_c0980d346e7f466c965a3182bcd4c6a0",
        "IPY_MODEL_08f02aff24f645dd8c2ab422ab9d094d"
       ],
       "layout": "IPY_MODEL_82ab8e60d2f049e88ba3fa4b70d04a5c"
      }
     },
     "2e4b3375e55a4a1286c52508cc154c5d": {
      "model_module": "@jupyter-widgets/controls",
      "model_module_version": "1.5.0",
      "model_name": "ButtonStyleModel",
      "state": {
       "_model_module": "@jupyter-widgets/controls",
       "_model_module_version": "1.5.0",
       "_model_name": "ButtonStyleModel",
       "_view_count": null,
       "_view_module": "@jupyter-widgets/base",
       "_view_module_version": "1.2.0",
       "_view_name": "StyleView",
       "button_color": null,
       "font_weight": ""
      }
     },
     "34a123d8a58f4944a3fde013a70e6d84": {
      "model_module": "@jupyter-widgets/controls",
      "model_module_version": "1.5.0",
      "model_name": "LabelModel",
      "state": {
       "_dom_classes": [],
       "_model_module": "@jupyter-widgets/controls",
       "_model_module_version": "1.5.0",
       "_model_name": "LabelModel",
       "_view_count": null,
       "_view_module": "@jupyter-widgets/controls",
       "_view_module_version": "1.5.0",
       "_view_name": "LabelView",
       "description": "",
       "description_tooltip": null,
       "layout": "IPY_MODEL_7abcdfc1278c47eb8c62df5513729149",
       "placeholder": "​",
       "style": "IPY_MODEL_59e2d8a674634d09bb6b93961c9ec1cf",
       "value": "Was the message you saw useful?"
      }
     },
     "393ddfae9ce740d0b0694ab4d82058a6": {
      "model_module": "@jupyter-widgets/base",
      "model_module_version": "1.2.0",
      "model_name": "LayoutModel",
      "state": {
       "_model_module": "@jupyter-widgets/base",
       "_model_module_version": "1.2.0",
       "_model_name": "LayoutModel",
       "_view_count": null,
       "_view_module": "@jupyter-widgets/base",
       "_view_module_version": "1.2.0",
       "_view_name": "LayoutView",
       "align_content": null,
       "align_items": null,
       "align_self": null,
       "border": null,
       "bottom": null,
       "display": null,
       "flex": null,
       "flex_flow": null,
       "grid_area": null,
       "grid_auto_columns": null,
       "grid_auto_flow": null,
       "grid_auto_rows": null,
       "grid_column": null,
       "grid_gap": null,
       "grid_row": null,
       "grid_template_areas": null,
       "grid_template_columns": null,
       "grid_template_rows": null,
       "height": null,
       "justify_content": null,
       "justify_items": null,
       "left": null,
       "margin": "0px 8px 0px 0px",
       "max_height": null,
       "max_width": null,
       "min_height": null,
       "min_width": null,
       "object_fit": null,
       "object_position": null,
       "order": null,
       "overflow": null,
       "overflow_x": null,
       "overflow_y": null,
       "padding": "0px",
       "right": null,
       "top": null,
       "visibility": null,
       "width": "50%"
      }
     },
     "40c17a99d53d408b8844d7667c001b60": {
      "model_module": "@jupyter-widgets/controls",
      "model_module_version": "1.5.0",
      "model_name": "DescriptionStyleModel",
      "state": {
       "_model_module": "@jupyter-widgets/controls",
       "_model_module_version": "1.5.0",
       "_model_name": "DescriptionStyleModel",
       "_view_count": null,
       "_view_module": "@jupyter-widgets/base",
       "_view_module_version": "1.2.0",
       "_view_name": "StyleView",
       "description_width": ""
      }
     },
     "4620ff2dac804aa0a581aebb90512f96": {
      "model_module": "@jupyter-widgets/base",
      "model_module_version": "1.2.0",
      "model_name": "LayoutModel",
      "state": {
       "_model_module": "@jupyter-widgets/base",
       "_model_module_version": "1.2.0",
       "_model_name": "LayoutModel",
       "_view_count": null,
       "_view_module": "@jupyter-widgets/base",
       "_view_module_version": "1.2.0",
       "_view_name": "LayoutView",
       "align_content": null,
       "align_items": null,
       "align_self": null,
       "border": null,
       "bottom": null,
       "display": null,
       "flex": null,
       "flex_flow": null,
       "grid_area": null,
       "grid_auto_columns": null,
       "grid_auto_flow": null,
       "grid_auto_rows": null,
       "grid_column": null,
       "grid_gap": null,
       "grid_row": null,
       "grid_template_areas": null,
       "grid_template_columns": null,
       "grid_template_rows": null,
       "height": null,
       "justify_content": null,
       "justify_items": null,
       "left": null,
       "margin": null,
       "max_height": null,
       "max_width": null,
       "min_height": null,
       "min_width": null,
       "object_fit": null,
       "object_position": null,
       "order": null,
       "overflow": null,
       "overflow_x": null,
       "overflow_y": null,
       "padding": null,
       "right": null,
       "top": null,
       "visibility": null,
       "width": null
      }
     },
     "4c5685b2cb254f74bed59f59bbbbbcda": {
      "model_module": "@jupyter-widgets/controls",
      "model_module_version": "1.5.0",
      "model_name": "ButtonModel",
      "state": {
       "_dom_classes": [],
       "_model_module": "@jupyter-widgets/controls",
       "_model_module_version": "1.5.0",
       "_model_name": "ButtonModel",
       "_view_count": null,
       "_view_module": "@jupyter-widgets/controls",
       "_view_module_version": "1.5.0",
       "_view_name": "ButtonView",
       "button_style": "",
       "description": "Submit",
       "disabled": false,
       "icon": "",
       "layout": "IPY_MODEL_24927c5632da41cd9ed1ca6f93d0e831",
       "style": "IPY_MODEL_2e4b3375e55a4a1286c52508cc154c5d",
       "tooltip": ""
      }
     },
     "59e2d8a674634d09bb6b93961c9ec1cf": {
      "model_module": "@jupyter-widgets/controls",
      "model_module_version": "1.5.0",
      "model_name": "DescriptionStyleModel",
      "state": {
       "_model_module": "@jupyter-widgets/controls",
       "_model_module_version": "1.5.0",
       "_model_name": "DescriptionStyleModel",
       "_view_count": null,
       "_view_module": "@jupyter-widgets/base",
       "_view_module_version": "1.2.0",
       "_view_name": "StyleView",
       "description_width": ""
      }
     },
     "73da8147dd424df08565f291be114947": {
      "model_module": "@jupyter-widgets/controls",
      "model_module_version": "1.5.0",
      "model_name": "TextModel",
      "state": {
       "_dom_classes": [],
       "_model_module": "@jupyter-widgets/controls",
       "_model_module_version": "1.5.0",
       "_model_name": "TextModel",
       "_view_count": null,
       "_view_module": "@jupyter-widgets/controls",
       "_view_module_version": "1.5.0",
       "_view_name": "TextView",
       "continuous_update": true,
       "description": "",
       "description_tooltip": null,
       "disabled": false,
       "layout": "IPY_MODEL_393ddfae9ce740d0b0694ab4d82058a6",
       "placeholder": "Press enter to submit.",
       "style": "IPY_MODEL_137bee1936854940a2cc7f762405209d",
       "value": ""
      }
     },
     "7abcdfc1278c47eb8c62df5513729149": {
      "model_module": "@jupyter-widgets/base",
      "model_module_version": "1.2.0",
      "model_name": "LayoutModel",
      "state": {
       "_model_module": "@jupyter-widgets/base",
       "_model_module_version": "1.2.0",
       "_model_name": "LayoutModel",
       "_view_count": null,
       "_view_module": "@jupyter-widgets/base",
       "_view_module_version": "1.2.0",
       "_view_name": "LayoutView",
       "align_content": null,
       "align_items": null,
       "align_self": null,
       "border": null,
       "bottom": null,
       "display": null,
       "flex": null,
       "flex_flow": null,
       "grid_area": null,
       "grid_auto_columns": null,
       "grid_auto_flow": null,
       "grid_auto_rows": null,
       "grid_column": null,
       "grid_gap": null,
       "grid_row": null,
       "grid_template_areas": null,
       "grid_template_columns": null,
       "grid_template_rows": null,
       "height": null,
       "justify_content": null,
       "justify_items": null,
       "left": null,
       "margin": null,
       "max_height": null,
       "max_width": null,
       "min_height": null,
       "min_width": null,
       "object_fit": null,
       "object_position": null,
       "order": null,
       "overflow": null,
       "overflow_x": null,
       "overflow_y": null,
       "padding": null,
       "right": null,
       "top": null,
       "visibility": null,
       "width": null
      }
     },
     "82ab8e60d2f049e88ba3fa4b70d04a5c": {
      "model_module": "@jupyter-widgets/base",
      "model_module_version": "1.2.0",
      "model_name": "LayoutModel",
      "state": {
       "_model_module": "@jupyter-widgets/base",
       "_model_module_version": "1.2.0",
       "_model_name": "LayoutModel",
       "_view_count": null,
       "_view_module": "@jupyter-widgets/base",
       "_view_module_version": "1.2.0",
       "_view_name": "LayoutView",
       "align_content": null,
       "align_items": null,
       "align_self": null,
       "border": null,
       "bottom": null,
       "display": null,
       "flex": null,
       "flex_flow": null,
       "grid_area": null,
       "grid_auto_columns": null,
       "grid_auto_flow": null,
       "grid_auto_rows": null,
       "grid_column": null,
       "grid_gap": null,
       "grid_row": null,
       "grid_template_areas": null,
       "grid_template_columns": null,
       "grid_template_rows": null,
       "height": null,
       "justify_content": null,
       "justify_items": null,
       "left": null,
       "margin": null,
       "max_height": null,
       "max_width": null,
       "min_height": null,
       "min_width": null,
       "object_fit": null,
       "object_position": null,
       "order": null,
       "overflow": null,
       "overflow_x": null,
       "overflow_y": null,
       "padding": null,
       "right": null,
       "top": null,
       "visibility": null,
       "width": null
      }
     },
     "877fa111af934bee8aed0a3510686498": {
      "model_module": "@jupyter-widgets/controls",
      "model_module_version": "1.5.0",
      "model_name": "HBoxModel",
      "state": {
       "_dom_classes": [],
       "_model_module": "@jupyter-widgets/controls",
       "_model_module_version": "1.5.0",
       "_model_name": "HBoxModel",
       "_view_count": null,
       "_view_module": "@jupyter-widgets/controls",
       "_view_module_version": "1.5.0",
       "_view_name": "HBoxView",
       "box_style": "",
       "children": [
        "IPY_MODEL_73da8147dd424df08565f291be114947",
        "IPY_MODEL_4c5685b2cb254f74bed59f59bbbbbcda"
       ],
       "layout": "IPY_MODEL_ed0983003a4d4044adf8e07c32446a99"
      }
     },
     "a0225a91b96342e7ba4013ff6955295f": {
      "model_module": "@jupyter-widgets/controls",
      "model_module_version": "1.5.0",
      "model_name": "DropdownModel",
      "state": {
       "_dom_classes": [],
       "_model_module": "@jupyter-widgets/controls",
       "_model_module_version": "1.5.0",
       "_model_name": "DropdownModel",
       "_options_labels": [
        "",
        "Extremely useful",
        "Very useful",
        "Somewhat useful",
        "Slightly useful",
        "Not at all useful"
       ],
       "_view_count": null,
       "_view_module": "@jupyter-widgets/controls",
       "_view_module_version": "1.5.0",
       "_view_name": "DropdownView",
       "description": "",
       "description_tooltip": null,
       "disabled": false,
       "index": 0,
       "layout": "IPY_MODEL_e553213fe6df4b7fb0f4f6eec8e417a9",
       "style": "IPY_MODEL_40c17a99d53d408b8844d7667c001b60"
      }
     },
     "b7117ca6b7bd4fa0b5fd55dfdd77c955": {
      "model_module": "@jupyter-widgets/base",
      "model_module_version": "1.2.0",
      "model_name": "LayoutModel",
      "state": {
       "_model_module": "@jupyter-widgets/base",
       "_model_module_version": "1.2.0",
       "_model_name": "LayoutModel",
       "_view_count": null,
       "_view_module": "@jupyter-widgets/base",
       "_view_module_version": "1.2.0",
       "_view_name": "LayoutView",
       "align_content": null,
       "align_items": null,
       "align_self": null,
       "border": null,
       "bottom": null,
       "display": null,
       "flex": null,
       "flex_flow": null,
       "grid_area": null,
       "grid_auto_columns": null,
       "grid_auto_flow": null,
       "grid_auto_rows": null,
       "grid_column": null,
       "grid_gap": null,
       "grid_row": null,
       "grid_template_areas": null,
       "grid_template_columns": null,
       "grid_template_rows": null,
       "height": null,
       "justify_content": null,
       "justify_items": null,
       "left": null,
       "margin": null,
       "max_height": null,
       "max_width": null,
       "min_height": null,
       "min_width": null,
       "object_fit": null,
       "object_position": null,
       "order": null,
       "overflow": null,
       "overflow_x": null,
       "overflow_y": null,
       "padding": null,
       "right": null,
       "top": null,
       "visibility": null,
       "width": null
      }
     },
     "c0980d346e7f466c965a3182bcd4c6a0": {
      "model_module": "@jupyter-widgets/controls",
      "model_module_version": "1.5.0",
      "model_name": "VBoxModel",
      "state": {
       "_dom_classes": [],
       "_model_module": "@jupyter-widgets/controls",
       "_model_module_version": "1.5.0",
       "_model_name": "VBoxModel",
       "_view_count": null,
       "_view_module": "@jupyter-widgets/controls",
       "_view_module_version": "1.5.0",
       "_view_name": "VBoxView",
       "box_style": "",
       "children": [
        "IPY_MODEL_34a123d8a58f4944a3fde013a70e6d84",
        "IPY_MODEL_a0225a91b96342e7ba4013ff6955295f"
       ],
       "layout": "IPY_MODEL_b7117ca6b7bd4fa0b5fd55dfdd77c955"
      }
     },
     "c2212997a6ac41c69a60f59cb5ff80d2": {
      "model_module": "@jupyter-widgets/controls",
      "model_module_version": "1.5.0",
      "model_name": "LabelModel",
      "state": {
       "_dom_classes": [],
       "_model_module": "@jupyter-widgets/controls",
       "_model_module_version": "1.5.0",
       "_model_name": "LabelModel",
       "_view_count": null,
       "_view_module": "@jupyter-widgets/controls",
       "_view_module_version": "1.5.0",
       "_view_name": "LabelView",
       "description": "",
       "description_tooltip": null,
       "layout": "IPY_MODEL_edcdde18265544978f8b4dafb455cc87",
       "placeholder": "​",
       "style": "IPY_MODEL_10add0c50e294f3dbd4f4028e7dc00ca",
       "value": "Any other feedback?"
      }
     },
     "cad58b81145a4613a0b67b2d4e912818": {
      "model_module": "@jupyter-widgets/controls",
      "model_module_version": "1.5.0",
      "model_name": "AccordionModel",
      "state": {
       "_dom_classes": [],
       "_model_module": "@jupyter-widgets/controls",
       "_model_module_version": "1.5.0",
       "_model_name": "AccordionModel",
       "_titles": {
        "0": "  Feedback Form"
       },
       "_view_count": null,
       "_view_module": "@jupyter-widgets/controls",
       "_view_module_version": "1.5.0",
       "_view_name": "AccordionView",
       "box_style": "",
       "children": [
        "IPY_MODEL_271d528792054294b5cf8de58e422894"
       ],
       "layout": "IPY_MODEL_4620ff2dac804aa0a581aebb90512f96",
       "selected_index": 0
      }
     },
     "e553213fe6df4b7fb0f4f6eec8e417a9": {
      "model_module": "@jupyter-widgets/base",
      "model_module_version": "1.2.0",
      "model_name": "LayoutModel",
      "state": {
       "_model_module": "@jupyter-widgets/base",
       "_model_module_version": "1.2.0",
       "_model_name": "LayoutModel",
       "_view_count": null,
       "_view_module": "@jupyter-widgets/base",
       "_view_module_version": "1.2.0",
       "_view_name": "LayoutView",
       "align_content": null,
       "align_items": null,
       "align_self": null,
       "border": null,
       "bottom": null,
       "display": null,
       "flex": null,
       "flex_flow": null,
       "grid_area": null,
       "grid_auto_columns": null,
       "grid_auto_flow": null,
       "grid_auto_rows": null,
       "grid_column": null,
       "grid_gap": null,
       "grid_row": null,
       "grid_template_areas": null,
       "grid_template_columns": null,
       "grid_template_rows": null,
       "height": null,
       "justify_content": null,
       "justify_items": null,
       "left": null,
       "margin": null,
       "max_height": null,
       "max_width": null,
       "min_height": null,
       "min_width": null,
       "object_fit": null,
       "object_position": null,
       "order": null,
       "overflow": null,
       "overflow_x": null,
       "overflow_y": null,
       "padding": null,
       "right": null,
       "top": null,
       "visibility": null,
       "width": null
      }
     },
     "ed0983003a4d4044adf8e07c32446a99": {
      "model_module": "@jupyter-widgets/base",
      "model_module_version": "1.2.0",
      "model_name": "LayoutModel",
      "state": {
       "_model_module": "@jupyter-widgets/base",
       "_model_module_version": "1.2.0",
       "_model_name": "LayoutModel",
       "_view_count": null,
       "_view_module": "@jupyter-widgets/base",
       "_view_module_version": "1.2.0",
       "_view_name": "LayoutView",
       "align_content": null,
       "align_items": "center",
       "align_self": null,
       "border": null,
       "bottom": null,
       "display": null,
       "flex": null,
       "flex_flow": null,
       "grid_area": null,
       "grid_auto_columns": null,
       "grid_auto_flow": null,
       "grid_auto_rows": null,
       "grid_column": null,
       "grid_gap": null,
       "grid_row": null,
       "grid_template_areas": null,
       "grid_template_columns": null,
       "grid_template_rows": null,
       "height": null,
       "justify_content": null,
       "justify_items": null,
       "left": null,
       "margin": null,
       "max_height": null,
       "max_width": null,
       "min_height": null,
       "min_width": null,
       "object_fit": null,
       "object_position": null,
       "order": null,
       "overflow": null,
       "overflow_x": null,
       "overflow_y": null,
       "padding": null,
       "right": null,
       "top": null,
       "visibility": null,
       "width": null
      }
     },
     "edcdde18265544978f8b4dafb455cc87": {
      "model_module": "@jupyter-widgets/base",
      "model_module_version": "1.2.0",
      "model_name": "LayoutModel",
      "state": {
       "_model_module": "@jupyter-widgets/base",
       "_model_module_version": "1.2.0",
       "_model_name": "LayoutModel",
       "_view_count": null,
       "_view_module": "@jupyter-widgets/base",
       "_view_module_version": "1.2.0",
       "_view_name": "LayoutView",
       "align_content": null,
       "align_items": null,
       "align_self": null,
       "border": null,
       "bottom": null,
       "display": null,
       "flex": null,
       "flex_flow": null,
       "grid_area": null,
       "grid_auto_columns": null,
       "grid_auto_flow": null,
       "grid_auto_rows": null,
       "grid_column": null,
       "grid_gap": null,
       "grid_row": null,
       "grid_template_areas": null,
       "grid_template_columns": null,
       "grid_template_rows": null,
       "height": null,
       "justify_content": null,
       "justify_items": null,
       "left": null,
       "margin": null,
       "max_height": null,
       "max_width": null,
       "min_height": null,
       "min_width": null,
       "object_fit": null,
       "object_position": null,
       "order": null,
       "overflow": null,
       "overflow_x": null,
       "overflow_y": null,
       "padding": null,
       "right": null,
       "top": null,
       "visibility": null,
       "width": null
      }
     },
     "f22e874e7d6e4a85823273a5a74391e6": {
      "model_module": "@jupyter-widgets/base",
      "model_module_version": "1.2.0",
      "model_name": "LayoutModel",
      "state": {
       "_model_module": "@jupyter-widgets/base",
       "_model_module_version": "1.2.0",
       "_model_name": "LayoutModel",
       "_view_count": null,
       "_view_module": "@jupyter-widgets/base",
       "_view_module_version": "1.2.0",
       "_view_name": "LayoutView",
       "align_content": null,
       "align_items": null,
       "align_self": null,
       "border": null,
       "bottom": null,
       "display": null,
       "flex": null,
       "flex_flow": null,
       "grid_area": null,
       "grid_auto_columns": null,
       "grid_auto_flow": null,
       "grid_auto_rows": null,
       "grid_column": null,
       "grid_gap": null,
       "grid_row": null,
       "grid_template_areas": null,
       "grid_template_columns": null,
       "grid_template_rows": null,
       "height": null,
       "justify_content": null,
       "justify_items": null,
       "left": null,
       "margin": null,
       "max_height": null,
       "max_width": null,
       "min_height": null,
       "min_width": null,
       "object_fit": null,
       "object_position": null,
       "order": null,
       "overflow": null,
       "overflow_x": null,
       "overflow_y": null,
       "padding": null,
       "right": null,
       "top": null,
       "visibility": null,
       "width": null
      }
     }
    },
    "version_major": 2,
    "version_minor": 0
   }
  },
  "deepnote_notebook_id": "2eca0932-eb26-47c2-90f0-63f999257a39",
  "deepnote": {},
  "deepnote_execution_queue": []
 }
}