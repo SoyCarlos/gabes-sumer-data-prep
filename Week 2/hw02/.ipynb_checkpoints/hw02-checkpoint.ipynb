{
 "cells": [
  {
   "cell_type": "code",
   "metadata": {
    "deletable": false,
    "editable": false,
    "cell_id": "cd2a6da6-2fd7-4e83-a3f2-1d92d1218e0e",
    "deepnote_cell_type": "code",
    "deepnote_cell_height": 102
   },
   "source": "# Initialize Otter\nimport otter\ngrader = otter.Notebook(\"hw02.ipynb\")",
   "execution_count": null,
   "outputs": []
  },
  {
   "cell_type": "markdown",
   "source": "# Homework 2: Arrays and Tables\n\nPlease complete this notebook by filling in the cells provided. Before you begin, execute the previous cell to load the provided tests.",
   "metadata": {
    "cell_id": "00001-f3a3eec6-67ff-43f5-8e02-d8b0267bcf1c",
    "deepnote_cell_type": "markdown",
    "deepnote_cell_height": 142.78125
   }
  },
  {
   "cell_type": "code",
   "metadata": {
    "tags": [],
    "cell_id": "00002-9cd5e8b0-3d75-4356-a456-620c423bf693",
    "deepnote_cell_type": "code",
    "deepnote_cell_height": 120
   },
   "source": "# Run this cell and ignore the output. It is checking to see if you ran the first cell! \n# If you get a NameError, please run the cell at the very TOP of this notebook!\n\ngrader",
   "execution_count": null,
   "outputs": []
  },
  {
   "cell_type": "markdown",
   "source": "**Helpful Resource:**\n- [Python Reference](http://data8.org/sp22/python-reference.html): Cheat sheet of helpful array & table methods used in Data 8!\n\n**Recommended Readings:**\n- [Arrays](https://inferentialthinking.com/chapters/05/1/Arrays.html)\n- [What is Data Science?](http://www.inferentialthinking.com/chapters/01/what-is-data-science.html)\n- [Causality and Experiments](http://www.inferentialthinking.com/chapters/02/causality-and-experiments.html) \n- [Programming in Python](http://www.inferentialthinking.com/chapters/03/programming-in-python.html)\n\nFor all problems that you must write explanations and sentences for, you **must** provide your answer in the designated space. Moreover, throughout this homework and all future ones, **please be sure to not re-assign variables throughout the notebook!** For example, if you use `max_temperature` in your answer to one question, do not reassign it later on. Otherwise, you will fail tests that you thought you were passing previously!\n\n**Deadline:**\n\nThis assignment is due Thursday, 2/3 at 11:59pm PT. Turn it in by Wednesday, 2/2 at 11:59pm PT for 5 extra credit points. Late work will not be accepted as per the [policies](http://data8.org/sp22/policies.html) page.\n\n**Note: This homework has hidden tests on it. That means even though tests may say 100% passed, it doesn't mean your final grade will be 100%. We will be running more tests for correctness once everyone turns in the homework.**\n\nDirectly sharing answers is not okay, but discussing problems with the course staff or with other students is encouraged. Refer to the policies page to learn more about how to learn cooperatively.\n\nYou should start early so that you have time to get help if you're stuck. Office hours are held Tuesday through Thursday. The schedule appears on [http://data8.org/sp22/office-hours.html](http://data8.org/sp22/office-hours.html).",
   "metadata": {
    "cell_id": "00003-91d356ea-a709-4299-b99e-825cb15e39ba",
    "deepnote_cell_type": "markdown",
    "deepnote_cell_height": 612.8125
   }
  },
  {
   "cell_type": "markdown",
   "source": "## 1. Creating Arrays",
   "metadata": {
    "cell_id": "00004-03dec9fa-0bc1-43a3-a2f2-d0632e160a93",
    "deepnote_cell_type": "markdown",
    "deepnote_cell_height": 70
   }
  },
  {
   "cell_type": "code",
   "metadata": {
    "tags": [],
    "cell_id": "00005-7817313e-2005-4751-a25a-c077b304552b",
    "deepnote_cell_type": "code",
    "deepnote_cell_height": 174
   },
   "source": "# Run this cell to set up the notebook, but please don't change it.\n\nimport numpy as np\nfrom datascience import *\nimport d8error\nimport warnings\nwarnings.simplefilter('ignore', FutureWarning)",
   "execution_count": null,
   "outputs": []
  },
  {
   "cell_type": "markdown",
   "source": "**Question 1.** Make an array called `weird_numbers` containing the following numbers (in the given order) **(4 Points)**:\n\n1. -2\n2. the floor of 12.6\n3. 3\n4. 5 to the power of the ceil of 5.3\n\n*Hint:* `floor` and `ceil` are functions in the `math` module. Importing modules is covered in Lab 2!\n\n*Note:* Python lists are different/behave differently than NumPy arrays. In Data 8, we use NumPy arrays, so please make an **array**, not a Python list.\n\n<!--\nBEGIN QUESTION\nname: q1_1\npoints:\n - 0\n - 0\n - 4\n-->",
   "metadata": {
    "deletable": false,
    "editable": false,
    "cell_id": "00006-5e9eb307-b5ef-426d-86c1-b3a1d44e539b",
    "deepnote_cell_type": "markdown",
    "deepnote_cell_height": 274.125
   }
  },
  {
   "cell_type": "code",
   "metadata": {
    "cell_id": "00007-f11ac9f0-17f8-4706-9eb2-a6bb50ed3b53",
    "deepnote_cell_type": "code",
    "deepnote_cell_height": 138
   },
   "source": "# Our solution involved one extra line of code before creating\n# weird_numbers.\n...\nweird_numbers = ...\nweird_numbers",
   "execution_count": null,
   "outputs": []
  },
  {
   "cell_type": "code",
   "metadata": {
    "deletable": false,
    "editable": false,
    "cell_id": "00008-9384106a-cc42-43c3-8721-883d0f6f9390",
    "deepnote_cell_type": "code",
    "deepnote_cell_height": 66
   },
   "source": "grader.check(\"q1_1\")",
   "execution_count": null,
   "outputs": []
  },
  {
   "cell_type": "markdown",
   "source": "**Question 2.** Make an array called `book_title_words` containing the following three strings: \"Eats\", \"Shoots\", and \"and Leaves\". **(4 Points)**\n\n<!--\nBEGIN QUESTION\nname: q1_2\npoints:\n - 0\n - 0\n - 0\n - 0\n - 4\n-->",
   "metadata": {
    "deletable": false,
    "editable": false,
    "cell_id": "00009-4d566949-a4d1-4627-8b72-d9e18fb7ed2d",
    "deepnote_cell_type": "markdown",
    "deepnote_cell_height": 88.78125
   }
  },
  {
   "cell_type": "code",
   "metadata": {
    "cell_id": "00010-11419276-d070-4253-a180-d40b65237e75",
    "deepnote_cell_type": "code",
    "deepnote_cell_height": 84
   },
   "source": "book_title_words = ...\nbook_title_words",
   "execution_count": null,
   "outputs": []
  },
  {
   "cell_type": "code",
   "metadata": {
    "deletable": false,
    "editable": false,
    "cell_id": "00011-e9bdd5ac-e0bc-4145-bf31-a903a31cfcac",
    "deepnote_cell_type": "code",
    "deepnote_cell_height": 66
   },
   "source": "grader.check(\"q1_2\")",
   "execution_count": null,
   "outputs": []
  },
  {
   "cell_type": "markdown",
   "source": "Strings have a method called `join`.  `join` takes one argument, an array of strings.  It returns a single string.  Specifically, the value of `a_string.join(an_array)` is a single string that's the [concatenation](https://en.wikipedia.org/wiki/Concatenation) (\"putting together\") of all the strings in `an_array`, **except** `a_string` is inserted in between each string.\n\n**Question 3.** Use the array `book_title_words` and the method `join` to make two strings **(4 Points)**:\n\n1. \"Eats, Shoots, and Leaves\" (call this one `with_commas`)\n2. \"Eats Shoots and Leaves\" (call this one `without_commas`)\n\n*Hint:* If you're not sure what `join` does, first try just calling, for example, `\"data8\".join(book_title_words)` .\n\n<!--\nBEGIN QUESTION\nname: q1_3\npoints:\n - 2\n - 2\n-->",
   "metadata": {
    "deletable": false,
    "editable": false,
    "cell_id": "00012-52a13f51-5e3f-44c7-ad12-bb0e29b21106",
    "deepnote_cell_type": "markdown",
    "deepnote_cell_height": 245.734375
   }
  },
  {
   "cell_type": "code",
   "metadata": {
    "cell_id": "00013-66949a63-0120-40fc-ae96-7ac8ec1aee0f",
    "deepnote_cell_type": "code",
    "deepnote_cell_height": 156
   },
   "source": "with_commas = ...\nwithout_commas = ...\n\n# These lines are provided just to print out your answers.\nprint('with_commas:', with_commas)\nprint('without_commas:', without_commas)",
   "execution_count": null,
   "outputs": []
  },
  {
   "cell_type": "code",
   "metadata": {
    "deletable": false,
    "editable": false,
    "cell_id": "00014-cb569934-84c7-4a2a-9adc-2beaced2d0df",
    "deepnote_cell_type": "code",
    "deepnote_cell_height": 66
   },
   "source": "grader.check(\"q1_3\")",
   "execution_count": null,
   "outputs": []
  },
  {
   "cell_type": "markdown",
   "source": "## 2. Indexing Arrays",
   "metadata": {
    "cell_id": "00015-f9158a2f-3fca-4ce8-b56b-d1c833fdedc7",
    "deepnote_cell_type": "markdown",
    "deepnote_cell_height": 70
   }
  },
  {
   "cell_type": "markdown",
   "source": "These exercises give you practice accessing individual elements of arrays.  In Python (and in many programming languages), each element is accessed by its *index*; for example, the first element is the element at index 0. Indices must be **integers**.\n\n***Note:* If you have previous coding experience, you may be familiar with bracket notation. DO NOT use bracket notation when indexing (i.e. `arr[0]`), as this can yield different data type outputs than what we will be expecting. This can cause you to fail an autograder test.**\n\nBe sure to refer to the [Python Reference](http://data8.org/sp22/python-reference.html) on the website if you feel stuck!",
   "metadata": {
    "cell_id": "00016-7b661c08-4989-4876-81bd-32d323a9ee85",
    "deepnote_cell_type": "markdown",
    "deepnote_cell_height": 192.34375
   }
  },
  {
   "cell_type": "markdown",
   "source": "**Question 1.** The cell below creates an array of some numbers.  Set `third_element` to the third element of `some_numbers`. **(4 Points)**\n\n<!--\nBEGIN QUESTION\nname: q2_1\npoints:\n - 0\n - 4\n-->",
   "metadata": {
    "deletable": false,
    "editable": false,
    "cell_id": "00017-7be0bd96-2bd4-43d2-8415-5bdfd6ba4333",
    "deepnote_cell_type": "markdown",
    "deepnote_cell_height": 88.78125
   }
  },
  {
   "cell_type": "code",
   "metadata": {
    "cell_id": "00018-33932451-b16e-4010-bc7e-6a0932f9588f",
    "deepnote_cell_type": "code",
    "deepnote_cell_height": 120
   },
   "source": "some_numbers = make_array(-1, -3, -6, -10, -15)\n\nthird_element = ...\nthird_element",
   "execution_count": null,
   "outputs": []
  },
  {
   "cell_type": "code",
   "metadata": {
    "deletable": false,
    "editable": false,
    "cell_id": "00019-9036395d-b1bd-4122-bd5f-6bcfde14f919",
    "deepnote_cell_type": "code",
    "deepnote_cell_height": 66
   },
   "source": "grader.check(\"q2_1\")",
   "execution_count": null,
   "outputs": []
  },
  {
   "cell_type": "markdown",
   "source": "**Question 2.** The next cell creates a table that displays some information about the elements of `some_numbers` and their order.  Run the cell to see the partially-completed table, then fill in the missing information (the cells that say \"Ellipsis\") by assigning `blank_a`, `blank_b`, `blank_c`, and `blank_d` to the correct elements in the table. **(4 Points)**\n\n*Hint:* Replace the `...` with strings or numbers. As a reminder, indices should be **integers**.\n\n<!--\nBEGIN QUESTION\nname: q2_2\npoints:\n - 1\n - 1\n - 1\n - 1\n-->",
   "metadata": {
    "deletable": false,
    "editable": false,
    "cell_id": "00020-a4f80c9f-325a-4612-946a-bc0dcb0bd8b5",
    "deepnote_cell_type": "markdown",
    "deepnote_cell_height": 147.5625
   }
  },
  {
   "cell_type": "code",
   "metadata": {
    "for_assignment_type": "student",
    "cell_id": "00021-74c1cef1-3a45-4426-b95c-c360ea650c72",
    "deepnote_cell_type": "code",
    "deepnote_cell_height": 210
   },
   "source": "blank_a = ...\nblank_b = ...\nblank_c = ...\nblank_d = ...\nelements_of_some_numbers = Table().with_columns(\n    \"English name for position\", make_array(\"first\", \"second\", blank_a, blank_b, \"fifth\"),\n    \"Index\",                     make_array(blank_c, 1, 2, blank_d, 4),\n    \"Element\",                   some_numbers)\nelements_of_some_numbers",
   "execution_count": null,
   "outputs": []
  },
  {
   "cell_type": "code",
   "metadata": {
    "deletable": false,
    "editable": false,
    "cell_id": "00022-6931e287-0583-4347-a717-b3f66a2e3cd3",
    "deepnote_cell_type": "code",
    "deepnote_cell_height": 66
   },
   "source": "grader.check(\"q2_2\")",
   "execution_count": null,
   "outputs": []
  },
  {
   "cell_type": "markdown",
   "source": "**Question 3.** You'll sometimes want to find the **last** element of an array.  Suppose an array has 142 elements.  What is the index of its last element? **(4 Points)**\n\n<!--\nBEGIN QUESTION\nname: q2_3\npoints:\n - 4\n-->",
   "metadata": {
    "deletable": false,
    "editable": false,
    "cell_id": "00023-64142bcc-70f2-4d33-97a6-e7069fbf3290",
    "deepnote_cell_type": "markdown",
    "deepnote_cell_height": 88.78125
   }
  },
  {
   "cell_type": "code",
   "metadata": {
    "cell_id": "00024-bfce7b66-8ff6-4b2e-ac93-ed687277e805",
    "deepnote_cell_type": "code",
    "deepnote_cell_height": 66
   },
   "source": "index_of_last_element = ...",
   "execution_count": null,
   "outputs": []
  },
  {
   "cell_type": "code",
   "metadata": {
    "deletable": false,
    "editable": false,
    "cell_id": "00025-9a309292-01c6-44c1-b4cc-7cd40b4f3a83",
    "deepnote_cell_type": "code",
    "deepnote_cell_height": 66
   },
   "source": "grader.check(\"q2_3\")",
   "execution_count": null,
   "outputs": []
  },
  {
   "cell_type": "markdown",
   "source": "More often, you don't know the number of elements in an array, its *length*.  (For example, it might be a large dataset you found on the Internet.)  The function `len` takes a single argument, an array, and returns an integer that represents the `len`gth of that array.\n\n**Question 4.** The cell below loads an array called `president_birth_years`.  Calling `tbl.column(...)` on a table returns an array of the column specified, in this case the `Birth Year` column of the `president_births` table. The last element in that array is the most recent among the birth years of all the deceased Presidents. Assign that year to `most_recent_birth_year`. **(4 Points)**\n\n<!--\nBEGIN QUESTION\nname: q2_4\npoints:\n - 4\n-->",
   "metadata": {
    "deletable": false,
    "editable": false,
    "cell_id": "00026-996bdefc-4273-45f6-9ebe-34e87ca27272",
    "deepnote_cell_type": "markdown",
    "deepnote_cell_height": 169.953125
   }
  },
  {
   "cell_type": "code",
   "metadata": {
    "cell_id": "00027-23de1faa-9c1e-4b8e-a26a-f3294a120b8a",
    "deepnote_cell_type": "code",
    "deepnote_cell_height": 120
   },
   "source": "president_birth_years = Table.read_table(\"president_births.csv\").column('Birth Year')\n\nmost_recent_birth_year = ...\nmost_recent_birth_year",
   "execution_count": null,
   "outputs": []
  },
  {
   "cell_type": "code",
   "metadata": {
    "deletable": false,
    "editable": false,
    "cell_id": "00028-3663c11c-b76b-4fd6-bc53-9dd8fdb09d77",
    "deepnote_cell_type": "code",
    "deepnote_cell_height": 66
   },
   "source": "grader.check(\"q2_4\")",
   "execution_count": null,
   "outputs": []
  },
  {
   "cell_type": "markdown",
   "source": "**Question 5.** Finally, assign `min_of_birth_years` to the minimum of the first, sixteenth, and last birth years listed in `president_birth_years`. **(4 Points)**\n\n<!--\nBEGIN QUESTION\nname: q2_5\npoints:\n - 0\n - 4\n-->",
   "metadata": {
    "deletable": false,
    "editable": false,
    "cell_id": "00029-e098f214-bddb-4ee7-a898-66c9bb5a8a5f",
    "deepnote_cell_type": "markdown",
    "deepnote_cell_height": 88.78125
   }
  },
  {
   "cell_type": "code",
   "metadata": {
    "cell_id": "00030-e9c28065-eba4-463f-8286-325a59d90bc5",
    "deepnote_cell_type": "code",
    "deepnote_cell_height": 84
   },
   "source": "min_of_birth_years = ...\nmin_of_birth_years",
   "execution_count": null,
   "outputs": []
  },
  {
   "cell_type": "code",
   "metadata": {
    "deletable": false,
    "editable": false,
    "cell_id": "00031-6773b71d-5507-44e3-95e0-299eabffd6fb",
    "deepnote_cell_type": "code",
    "deepnote_cell_height": 66
   },
   "source": "grader.check(\"q2_5\")",
   "execution_count": null,
   "outputs": []
  },
  {
   "cell_type": "markdown",
   "source": "## 3. Basic Array Arithmetic",
   "metadata": {
    "cell_id": "00032-e6cc6579-2b16-4e17-b554-362e28ab63bb",
    "deepnote_cell_type": "markdown",
    "deepnote_cell_height": 70
   }
  },
  {
   "cell_type": "markdown",
   "source": "**Question 1.** Multiply the numbers 42, -4224, 424224242, and 250 by 157. Assign each variable below such that `first_product` is assigned to the result of $42 * 157$, `second_product` is assigned to the result of $-4224 * 157$, and so on. **(4 Points)**\n\n*Note*: For this question, **don't** use arrays.\n\n<!--\nBEGIN QUESTION\nname: q3_1\npoints:\n - 0\n - 4\n-->",
   "metadata": {
    "deletable": false,
    "editable": false,
    "cell_id": "00033-f8a070f3-47cb-47d6-8c2b-6145825ec486",
    "deepnote_cell_type": "markdown",
    "deepnote_cell_height": 147.5625
   }
  },
  {
   "cell_type": "code",
   "metadata": {
    "cell_id": "00034-11cbcabe-5522-47d4-ba26-703e2897cd42",
    "deepnote_cell_type": "code",
    "deepnote_cell_height": 192
   },
   "source": "first_product = ...\nsecond_product = ...\nthird_product = ...\nfourth_product = ...\nprint(\"First Product:\", first_product)\nprint(\"Second Product:\", second_product)\nprint(\"Third Product:\", third_product)\nprint(\"Fourth Product:\", fourth_product)",
   "execution_count": null,
   "outputs": []
  },
  {
   "cell_type": "code",
   "metadata": {
    "deletable": false,
    "editable": false,
    "cell_id": "00035-6c99607d-3bca-4297-9319-f8b82ab3a3bc",
    "deepnote_cell_type": "code",
    "deepnote_cell_height": 66
   },
   "source": "grader.check(\"q3_1\")",
   "execution_count": null,
   "outputs": []
  },
  {
   "cell_type": "markdown",
   "source": "**Question 2.** Now, do the same calculation, but using an array called `numbers` and only a single multiplication (`*`) operator.  Store the 4 results in an array named `products`. **(4 Points)**\n\n<!--\nBEGIN QUESTION\nname: q3_2\npoints:\n - 0\n - 4\n-->",
   "metadata": {
    "deletable": false,
    "editable": false,
    "cell_id": "00036-ff9ec52b-7fce-4aef-8b97-fdc3ad30f0c4",
    "deepnote_cell_type": "markdown",
    "deepnote_cell_height": 88.78125
   }
  },
  {
   "cell_type": "code",
   "metadata": {
    "cell_id": "00037-8015d900-91cb-4624-83b4-48b6f5f58e63",
    "deepnote_cell_type": "code",
    "deepnote_cell_height": 102
   },
   "source": "numbers = ...\nproducts = ...\nproducts",
   "execution_count": null,
   "outputs": []
  },
  {
   "cell_type": "code",
   "metadata": {
    "deletable": false,
    "editable": false,
    "cell_id": "00038-0bf0f93e-88a2-4928-ac2d-5e3aa3f12d1e",
    "deepnote_cell_type": "code",
    "deepnote_cell_height": 66
   },
   "source": "grader.check(\"q3_2\")",
   "execution_count": null,
   "outputs": []
  },
  {
   "cell_type": "markdown",
   "source": "**Question 3.** Oops, we made a typo!  Instead of 157, we wanted to multiply each number by 1577.  Compute the correct products in the cell below using array arithmetic.  Notice that your job is really easy if you previously defined an array containing the 4 numbers. **(4 Points)**\n\n<!--\nBEGIN QUESTION\nname: q3_3\npoints:\n - 0\n - 4\n-->",
   "metadata": {
    "deletable": false,
    "editable": false,
    "cell_id": "00039-af48576b-77e0-4e5a-b15f-d670f3c82242",
    "deepnote_cell_type": "markdown",
    "deepnote_cell_height": 111.171875
   }
  },
  {
   "cell_type": "code",
   "metadata": {
    "cell_id": "00040-20c02752-88da-499e-b320-e21a84e30240",
    "deepnote_cell_type": "code",
    "deepnote_cell_height": 84
   },
   "source": "correct_products = ...\ncorrect_products",
   "execution_count": null,
   "outputs": []
  },
  {
   "cell_type": "code",
   "metadata": {
    "deletable": false,
    "editable": false,
    "cell_id": "00041-eee6432d-51fe-4ebd-a0ff-3ecbc75b7a78",
    "deepnote_cell_type": "code",
    "deepnote_cell_height": 66
   },
   "source": "grader.check(\"q3_3\")",
   "execution_count": null,
   "outputs": []
  },
  {
   "cell_type": "markdown",
   "source": "**Question 4.** We've loaded an array of temperatures in the next cell.  Each number is the highest temperature observed on a day at a climate observation station, mostly from the US.  Since they're from the US government agency [NOAA](https://www.noaa.gov/), all the temperatures are in Fahrenheit.\n\nConvert all the temperatures to Celsius by first subtracting 32 from them, then multiplying the results by $\\frac{5}{9}$, i.e. $C = (F - 32) * \\frac{5}{9}$. After converting the temperatures to Celsius, make sure to **ROUND** the final result  to the nearest integer using the `np.round` function. **(4 Points)**\n\n<!--\nBEGIN QUESTION\nname: q3_4\npoints:\n - 1\n - 1\n - 1\n - 1\n-->",
   "metadata": {
    "deletable": false,
    "editable": false,
    "cell_id": "00042-93bcb023-4bfc-4935-ab81-e916e4ea55b8",
    "deepnote_cell_type": "markdown",
    "deepnote_cell_height": 192.34375
   }
  },
  {
   "cell_type": "code",
   "metadata": {
    "cell_id": "00043-be965e92-e781-42ed-b9a2-013e347b5194",
    "deepnote_cell_type": "code",
    "deepnote_cell_height": 120
   },
   "source": "max_temperatures = Table.read_table(\"temperatures.csv\").column(\"Daily Max Temperature\")\n\ncelsius_max_temperatures = ...\ncelsius_max_temperatures",
   "execution_count": null,
   "outputs": []
  },
  {
   "cell_type": "code",
   "metadata": {
    "deletable": false,
    "editable": false,
    "cell_id": "00044-edde6864-6c68-4609-918e-4693faffa4c7",
    "deepnote_cell_type": "code",
    "deepnote_cell_height": 66
   },
   "source": "grader.check(\"q3_4\")",
   "execution_count": null,
   "outputs": []
  },
  {
   "cell_type": "markdown",
   "source": "**Question 5.** The cell below loads all the *lowest* temperatures from each day (in Fahrenheit).  Compute the daily temperature range for each day. That is, compute the difference between each daily maximum temperature and the corresponding daily minimum temperature.  **Pay attention to the units and give your answer in Celsius!** Make sure **NOT** to round your answer for this question! **(4 Points)**\n\n*Note:* Remember that in Question 4, `celsius_max_temperatures` was rounded, so you might not want to use that variable in this question.\n\n\n<!--\nBEGIN QUESTION\nname: q3_5\npoints:\n - 0\n - 4\n - 0\n-->",
   "metadata": {
    "deletable": false,
    "editable": false,
    "cell_id": "00045-c53b21c4-6f2e-4954-8e1a-62d3423d706a",
    "deepnote_cell_type": "markdown",
    "deepnote_cell_height": 192.34375
   }
  },
  {
   "cell_type": "code",
   "metadata": {
    "cell_id": "00046-17e10202-7f1c-43f8-9b14-c89dbfa61a33",
    "deepnote_cell_type": "code",
    "deepnote_cell_height": 120
   },
   "source": "min_temperatures = Table.read_table(\"temperatures.csv\").column(\"Daily Min Temperature\")\n\ncelsius_temperature_ranges = ...\ncelsius_temperature_ranges",
   "execution_count": null,
   "outputs": []
  },
  {
   "cell_type": "code",
   "metadata": {
    "deletable": false,
    "editable": false,
    "cell_id": "00047-d88771c9-b22b-4028-bf57-ac07b0c9958a",
    "deepnote_cell_type": "code",
    "deepnote_cell_height": 66
   },
   "source": "grader.check(\"q3_5\")",
   "execution_count": null,
   "outputs": []
  },
  {
   "cell_type": "markdown",
   "source": "## 4. Old Faithful",
   "metadata": {
    "cell_id": "00048-adf1dbb6-8aa3-42dc-8ce3-7846fab9aa0d",
    "deepnote_cell_type": "markdown",
    "deepnote_cell_height": 70
   }
  },
  {
   "cell_type": "markdown",
   "source": "Old Faithful is a geyser in Yellowstone that erupts every 44 to 125 minutes (according to [Wikipedia](https://en.wikipedia.org/wiki/Old_Faithful)). People are [often told that the geyser erupts every hour](http://yellowstone.net/geysers/old-faithful/), but in fact the waiting time between eruptions is more variable. Let's take a look.",
   "metadata": {
    "cell_id": "00049-cdbc46cd-e7e8-425e-9639-3c31f5b31110",
    "deepnote_cell_type": "markdown",
    "deepnote_cell_height": 74.78125
   }
  },
  {
   "cell_type": "markdown",
   "source": "**Question 1.** The first line below assigns `waiting_times` to an array of 272 consecutive waiting times between eruptions, taken from a classic 1938 dataset. Assign the names `shortest`, `longest`, and `average` so that the `print` statement is correct. **(4 Points)**\n\n<!--\nBEGIN QUESTION\nname: q4_1\npoints:\n - 0\n - 0\n - 2\n - 2\n-->",
   "metadata": {
    "deletable": false,
    "editable": false,
    "cell_id": "00050-7764bb46-5b77-4fed-a1ff-559da2502888",
    "deepnote_cell_type": "markdown",
    "deepnote_cell_height": 111.171875
   }
  },
  {
   "cell_type": "code",
   "metadata": {
    "cell_id": "00051-1db59f95-8d70-4b02-8da5-9d6eb2bd1715",
    "deepnote_cell_type": "code",
    "deepnote_cell_height": 174
   },
   "source": "waiting_times = Table.read_table('old_faithful.csv').column('waiting')\n\nshortest = ...\nlongest = ...\naverage = ...\n\nprint(\"Old Faithful erupts every\", shortest, \"to\", longest, \"minutes and every\", average, \"minutes on average.\")",
   "execution_count": null,
   "outputs": []
  },
  {
   "cell_type": "code",
   "metadata": {
    "deletable": false,
    "editable": false,
    "cell_id": "00052-cb657f94-6c1a-4161-90df-2590f304a9a7",
    "deepnote_cell_type": "code",
    "deepnote_cell_height": 66
   },
   "source": "grader.check(\"q4_1\")",
   "execution_count": null,
   "outputs": []
  },
  {
   "cell_type": "markdown",
   "source": "**Question 2.** Assign `biggest_decrease` to the biggest decrease in waiting time between two consecutive eruptions. For example, the third eruption occurred after 74 minutes and the fourth after 62 minutes, so the decrease in waiting time was 74 - 62 = 12 minutes. **(4 Points)**\n\n*Hint*: We want to return the absolute value of the biggest decrease.\n\n*Note*: `np.diff()` calculates the difference between subsequent values in an array. For example, calling `np.diff()` on the array `make_array(1, 8, 3, 5)` evaluates to `array([8 - 1, 3 - 8, 5 - 3])`, or `array([7, -5, 2])`.\n\n<!--\nBEGIN QUESTION\nname: q4_2\npoints:\n - 0\n - 0\n - 4\n-->",
   "metadata": {
    "deletable": false,
    "editable": false,
    "cell_id": "00053-f06c433b-b2e5-4760-a5d3-155edf30c740",
    "deepnote_cell_type": "markdown",
    "deepnote_cell_height": 206.34375
   }
  },
  {
   "cell_type": "code",
   "metadata": {
    "cell_id": "00054-dd60fc19-e12f-42aa-8e7f-48ad55a22b37",
    "deepnote_cell_type": "code",
    "deepnote_cell_height": 138
   },
   "source": "# np.diff() calculates the difference between subsequent values  \n# in a NumPy array.\ndifferences = np.diff(waiting_times)\nbiggest_decrease = ...\nbiggest_decrease",
   "execution_count": null,
   "outputs": []
  },
  {
   "cell_type": "code",
   "metadata": {
    "deletable": false,
    "editable": false,
    "cell_id": "00055-8bbcf18a-e2d3-4855-ad0b-d4d4d1bd7ed2",
    "deepnote_cell_type": "code",
    "deepnote_cell_height": 66
   },
   "source": "grader.check(\"q4_2\")",
   "execution_count": null,
   "outputs": []
  },
  {
   "cell_type": "markdown",
   "source": "**Question 3.** The `faithful_with_eruption_nums` table contains two columns: `eruption_number`, which represents the number of that eruption, and `waiting`, which represents the time spent waiting after that eruption. For example, take the first two rows of the table:\n\n| eruption number | waiting |\n|-----------------|---------|\n| 1               | 79      |\n| 2               | 54      |\n\nWe can read this as follows: after the first eruption, we waited 79 minutes for the second eruption. Then, after the second eruption, we waited 54 minutes for the third eruption.\n\nSuppose Oscar and Wendy started watching Old Faithful at the start of the first eruption. Assume that they watch until the end of the tenth eruption. For some of that time they will be watching eruptions, and for the rest of the time they will be waiting for Old Faithful to erupt. How many minutes will they spend waiting for eruptions? **(4 Points)**\n\n*Hint #1:* One way to approach this problem is to use the `take` or `where` method on the table `faithful_with_eruption_nums`. \n\n*Hint #2:* `first_nine_waiting_times` must be an array.\n\n<!--\nBEGIN QUESTION\nname: q4_3\npoints:\n - 0\n - 4\n-->",
   "metadata": {
    "deletable": false,
    "editable": false,
    "cell_id": "00056-2dded855-502a-4a6b-8ecc-ee1b37a57024",
    "deepnote_cell_type": "markdown",
    "deepnote_cell_height": 397.078125
   }
  },
  {
   "cell_type": "code",
   "metadata": {
    "cell_id": "00057-1020b884-19bf-4208-a5c8-860d5163e9dc",
    "deepnote_cell_type": "code",
    "deepnote_cell_height": 174
   },
   "source": "# The following two lines load in our faithful_with_eruption_nums table\nfaithful = Table.read_table('old_faithful.csv').drop(\"eruptions\")\nfaithful_with_eruption_nums = faithful.with_column(\"eruption number\", np.arange(faithful.num_rows) + 1).select(1, 0)\n\nfirst_nine_waiting_times = ...\ntotal_waiting_time_until_tenth = ...\ntotal_waiting_time_until_tenth",
   "execution_count": null,
   "outputs": []
  },
  {
   "cell_type": "code",
   "metadata": {
    "deletable": false,
    "editable": false,
    "cell_id": "00058-d6d302cc-6f7f-4241-91b0-b3e78082bb4e",
    "deepnote_cell_type": "code",
    "deepnote_cell_height": 66
   },
   "source": "grader.check(\"q4_3\")",
   "execution_count": null,
   "outputs": []
  },
  {
   "cell_type": "markdown",
   "source": "**Question 4.** Let’s imagine your guess for the next waiting time was always just the length of the previous waiting time. If you always guessed the previous waiting time, how big would your error in guessing the waiting times be, on average? **(4 Points)**\n\nFor example, since the first four waiting times are 79, 54, 74, and 62, the average difference between your guess and the actual time for just the second, third, and fourth eruptions would be $\\frac{|79-54|+ |54-74|+ |74-62|}{3} = 19$.\n\n<!--\nBEGIN QUESTION\nname: q4_4\npoints:\n - 0\n - 4\n-->",
   "metadata": {
    "deletable": false,
    "editable": false,
    "cell_id": "00059-99f6eda5-38fe-47c3-b95b-b8d0f4ae8714",
    "deepnote_cell_type": "markdown",
    "deepnote_cell_height": 148.671875
   }
  },
  {
   "cell_type": "code",
   "metadata": {
    "cell_id": "00060-ff5e3d35-1a78-41cb-a91c-79cde18a23ed",
    "deepnote_cell_type": "code",
    "deepnote_cell_height": 102
   },
   "source": "differences = np.diff(waiting_times)\naverage_error = ...\naverage_error",
   "execution_count": null,
   "outputs": []
  },
  {
   "cell_type": "code",
   "metadata": {
    "deletable": false,
    "editable": false,
    "cell_id": "00061-d629ad9a-9499-4ec5-a976-8ac292306d86",
    "deepnote_cell_type": "code",
    "deepnote_cell_height": 66
   },
   "source": "grader.check(\"q4_4\")",
   "execution_count": null,
   "outputs": []
  },
  {
   "cell_type": "markdown",
   "source": "## 5. Tables",
   "metadata": {
    "cell_id": "00062-7de164f0-43e9-4122-90ee-54002c6ffc93",
    "deepnote_cell_type": "markdown",
    "deepnote_cell_height": 70
   }
  },
  {
   "cell_type": "markdown",
   "source": "**Question 1.** Suppose you have 4 apples, 3 oranges, and 3 pineapples.  (Perhaps you're using Python to solve a high school Algebra problem.)  Create a table that contains this information.  It should have two columns: `fruit name` and `count`.  Assign the new table to the variable `fruits`. **(4 Points)**\n\n*Note:* Use lower-case and singular words for the name of each fruit, like `\"apple\"`.\n\n<!--\nBEGIN QUESTION\nname: q5_1\npoints:\n - 4\n-->",
   "metadata": {
    "deletable": false,
    "editable": false,
    "cell_id": "00063-55250b83-0bac-4fb3-8bd0-4964d64cc454",
    "deepnote_cell_type": "markdown",
    "deepnote_cell_height": 147.5625
   }
  },
  {
   "cell_type": "code",
   "metadata": {
    "cell_id": "00064-4798d5be-f64c-4b1e-9f2a-afc7fd3bbddd",
    "deepnote_cell_type": "code",
    "deepnote_cell_height": 138
   },
   "source": "# Our solution uses 1 statement split over 3 lines.\nfruits = ...\n        ...\n        ...\nfruits",
   "execution_count": null,
   "outputs": []
  },
  {
   "cell_type": "code",
   "metadata": {
    "deletable": false,
    "editable": false,
    "cell_id": "00065-fcc39910-6531-42fe-a998-7a15aeec5921",
    "deepnote_cell_type": "code",
    "deepnote_cell_height": 66
   },
   "source": "grader.check(\"q5_1\")",
   "execution_count": null,
   "outputs": []
  },
  {
   "cell_type": "markdown",
   "source": "**Question 2.** The file `inventory.csv` contains information about the inventory at a fruit stand.  Each row represents the contents of one box of fruit. Load it as a table named `inventory` using the `Table.read_table()` function. `Table.read_table(...)` takes one argument (data file name in string format) and returns a table. **(4 Points)**\n\n<!--\nBEGIN QUESTION\nname: q5_2\npoints:\n - 4\n-->",
   "metadata": {
    "deletable": false,
    "editable": false,
    "cell_id": "00066-cfd66e2a-182d-4a6a-a467-78588f4ebcfc",
    "deepnote_cell_type": "markdown",
    "deepnote_cell_height": 111.171875
   }
  },
  {
   "cell_type": "code",
   "metadata": {
    "cell_id": "00067-3ec04e46-296e-43bc-b759-8e34ae8b9c77",
    "deepnote_cell_type": "code",
    "deepnote_cell_height": 84
   },
   "source": "inventory = ...\ninventory",
   "execution_count": null,
   "outputs": []
  },
  {
   "cell_type": "code",
   "metadata": {
    "deletable": false,
    "editable": false,
    "cell_id": "00068-6b8c87f5-b2ff-49ff-971b-0d7af7d2ea02",
    "deepnote_cell_type": "code",
    "deepnote_cell_height": 66
   },
   "source": "grader.check(\"q5_2\")",
   "execution_count": null,
   "outputs": []
  },
  {
   "cell_type": "markdown",
   "source": "**Question 3.** Does each box at the fruit stand contain a different fruit? Set `all_different` to `True` if each box contains a different fruit or to `False` if multiple boxes contain the same fruit. **(4 Points)**\n\n*Hint:* You don't have to write code to calculate the True/False value for `all_different`. Just look at the `inventory` table and assign `all_different` to either `True` or `False` according to what you can see from the table in answering the question.\n\n<!--\nBEGIN QUESTION\nname: q5_3\npoints:\n - 0\n - 4\n-->",
   "metadata": {
    "deletable": false,
    "editable": false,
    "cell_id": "00069-9d1975c5-a439-4051-a714-10ab95f2f0d1",
    "deepnote_cell_type": "markdown",
    "deepnote_cell_height": 147.5625
   }
  },
  {
   "cell_type": "code",
   "metadata": {
    "cell_id": "00070-1773b6a4-a287-4f78-859c-6c8251edd695",
    "deepnote_cell_type": "code",
    "deepnote_cell_height": 84
   },
   "source": "all_different = ...\nall_different",
   "execution_count": null,
   "outputs": []
  },
  {
   "cell_type": "code",
   "metadata": {
    "deletable": false,
    "editable": false,
    "cell_id": "00071-cd506a80-e6fc-4c51-914a-dc57c308eaf9",
    "deepnote_cell_type": "code",
    "deepnote_cell_height": 66
   },
   "source": "grader.check(\"q5_3\")",
   "execution_count": null,
   "outputs": []
  },
  {
   "cell_type": "markdown",
   "source": "**Question 4.** The file `sales.csv` contains the number of fruit sold from each box last Saturday.  It has an extra column called `price per fruit ($)` that's the price *per item of fruit* for fruit in that box.  The rows are in the same order as the `inventory` table.  Load these data into a table called `sales`. **(5 Points)**\n\n<!--\nBEGIN QUESTION\nname: q5_4\npoints:\n - 5\n-->",
   "metadata": {
    "deletable": false,
    "editable": false,
    "cell_id": "00072-8cdc2934-8e07-4d19-9382-64eb8d3e0e75",
    "deepnote_cell_type": "markdown",
    "deepnote_cell_height": 111.171875
   }
  },
  {
   "cell_type": "code",
   "metadata": {
    "cell_id": "00073-fa7d7963-f446-4cc5-a58d-df4085a1fcff",
    "deepnote_cell_type": "code",
    "deepnote_cell_height": 84
   },
   "source": "sales = ...\nsales",
   "execution_count": null,
   "outputs": []
  },
  {
   "cell_type": "code",
   "metadata": {
    "deletable": false,
    "editable": false,
    "cell_id": "00074-175e7641-5ace-4cc8-8b55-2114a3af5412",
    "deepnote_cell_type": "code",
    "deepnote_cell_height": 66
   },
   "source": "grader.check(\"q5_4\")",
   "execution_count": null,
   "outputs": []
  },
  {
   "cell_type": "markdown",
   "source": "**Question 5.** How many fruits did the store sell in total on that day? **(5 Points)**\n\n<!--\nBEGIN QUESTION\nname: q5_5\npoints:\n - 0\n - 5\n-->",
   "metadata": {
    "deletable": false,
    "editable": false,
    "cell_id": "00075-79a2c361-4449-46b3-85ab-5f9dfb7f0317",
    "deepnote_cell_type": "markdown",
    "deepnote_cell_height": 66.390625
   }
  },
  {
   "cell_type": "code",
   "metadata": {
    "cell_id": "00076-56a62dd8-be4c-428c-902f-2b7c7cd5f029",
    "deepnote_cell_type": "code",
    "deepnote_cell_height": 84
   },
   "source": "total_fruits_sold = ...\ntotal_fruits_sold",
   "execution_count": null,
   "outputs": []
  },
  {
   "cell_type": "code",
   "metadata": {
    "deletable": false,
    "editable": false,
    "cell_id": "00077-38dacfe4-abb1-48ea-a796-95a63c5d6348",
    "deepnote_cell_type": "code",
    "deepnote_cell_height": 66
   },
   "source": "grader.check(\"q5_5\")",
   "execution_count": null,
   "outputs": []
  },
  {
   "cell_type": "markdown",
   "source": "**Question 6.** What was the store's total revenue (the total price of all fruits sold) on that day? **(5 Points)**\n\n*Hint:* If you're stuck, think first about how you would compute the total revenue from just the grape sales.\n\n<!--\nBEGIN QUESTION\nname: q5_6\npoints:\n - 0\n - 5\n-->",
   "metadata": {
    "deletable": false,
    "editable": false,
    "cell_id": "00078-aff1b0de-2f3a-40b6-8f93-a1d865152388",
    "deepnote_cell_type": "markdown",
    "deepnote_cell_height": 102.78125
   }
  },
  {
   "cell_type": "code",
   "metadata": {
    "cell_id": "00079-fa23463b-d815-49ae-8de8-da05caaa9e7c",
    "deepnote_cell_type": "code",
    "deepnote_cell_height": 84
   },
   "source": "total_revenue = ...\ntotal_revenue",
   "execution_count": null,
   "outputs": []
  },
  {
   "cell_type": "code",
   "metadata": {
    "deletable": false,
    "editable": false,
    "cell_id": "00080-8dd7f6d3-ee3e-4dbe-9db0-76f9267436b8",
    "deepnote_cell_type": "code",
    "deepnote_cell_height": 66
   },
   "source": "grader.check(\"q5_6\")",
   "execution_count": null,
   "outputs": []
  },
  {
   "cell_type": "markdown",
   "source": "**Question 7.** Make a new table called `remaining_inventory`.  It should have the same rows and columns as `inventory`, except that the amount of fruit sold from each box should be subtracted from that box's **original** count, so that the `count` column is **updated to be** the amount of fruit remaining after Saturday. **(5 Points)**\n\n<!--\nBEGIN QUESTION\nname: q5_7\npoints:\n - 0\n - 2\n - 3\n-->",
   "metadata": {
    "deletable": false,
    "editable": false,
    "cell_id": "00081-905c711d-f90b-4daf-bcb1-7fc0f97ddfbd",
    "deepnote_cell_type": "markdown",
    "deepnote_cell_height": 111.171875
   }
  },
  {
   "cell_type": "code",
   "metadata": {
    "cell_id": "00082-2e989436-e7ac-4390-8cf0-d652b3906794",
    "deepnote_cell_type": "code",
    "deepnote_cell_height": 138
   },
   "source": "remaining_inventory = ...\n    ...\n    ...\n    ...\nremaining_inventory",
   "execution_count": null,
   "outputs": []
  },
  {
   "cell_type": "code",
   "metadata": {
    "deletable": false,
    "editable": false,
    "cell_id": "00083-f95f7b67-bb7a-4b78-8e34-c425e9ba47c9",
    "deepnote_cell_type": "code",
    "deepnote_cell_height": 66
   },
   "source": "grader.check(\"q5_7\")",
   "execution_count": null,
   "outputs": []
  },
  {
   "cell_type": "markdown",
   "source": "You're done with Homework 2!  \n\n**Important submission information:** Be sure to run the tests and verify that they all pass, then choose **Save Notebook** from the **File** menu, then **run the final cell** and click the link to download the zip file. Then, go to [Gradescope](https://www.gradescope.com/courses/349879) and submit the zip file to the corresponding assignment. The name of this assignment is \"Homework 02 Autograder\". **It is your responsibility to make sure your work is saved before running the last cell.**\n\nOnce you have submitted, your Gradescope assignment should show you passing all the tests you passed in your assignment notebook.",
   "metadata": {
    "cell_id": "00084-cb3da08d-9ccb-4975-8ad0-98398da19a78",
    "deepnote_cell_type": "markdown",
    "deepnote_cell_height": 214.734375
   }
  },
  {
   "cell_type": "markdown",
   "source": "---\n\nTo double-check your work, the cell below will rerun all of the autograder tests.",
   "metadata": {
    "deletable": false,
    "editable": false,
    "cell_id": "00085-ac7280ce-3524-47a1-8c32-ae01e6a9f125",
    "deepnote_cell_type": "markdown",
    "deepnote_cell_height": 53.390625
   }
  },
  {
   "cell_type": "code",
   "metadata": {
    "deletable": false,
    "editable": false,
    "cell_id": "00086-4152d0aa-6d3a-4f3a-afbe-017045548007",
    "deepnote_cell_type": "code",
    "deepnote_cell_height": 66
   },
   "source": "grader.check_all()",
   "execution_count": null,
   "outputs": []
  },
  {
   "cell_type": "markdown",
   "source": "## Submission\n\nMake sure you have run all cells in your notebook in order before running the cell below, so that all images/graphs appear in the output. The cell below will generate a zip file for you to submit. **Please save before exporting!**",
   "metadata": {
    "deletable": false,
    "editable": false,
    "cell_id": "00087-9f2f5466-e5f1-411e-bc07-08235a9fd66c",
    "deepnote_cell_type": "markdown",
    "deepnote_cell_height": 130.78125
   }
  },
  {
   "cell_type": "code",
   "metadata": {
    "deletable": false,
    "editable": false,
    "cell_id": "00088-df1cd6c2-4265-4da7-b559-e3e165993146",
    "deepnote_cell_type": "code",
    "deepnote_cell_height": 84
   },
   "source": "# Save your notebook first, then run this cell to export your submission.\ngrader.export(pdf=False)",
   "execution_count": null,
   "outputs": []
  },
  {
   "cell_type": "markdown",
   "source": " ",
   "metadata": {
    "cell_id": "00089-cda9d341-6304-45d3-9f2a-d77f9ab40383",
    "deepnote_cell_type": "markdown",
    "deepnote_cell_height": 46
   }
  },
  {
   "cell_type": "markdown",
   "source": "<a style='text-decoration:none;line-height:16px;display:flex;color:#5B5B62;padding:10px;justify-content:end;' href='https://deepnote.com?utm_source=created-in-deepnote-cell&projectId=ef6c0823-e062-4ba0-8bfb-7690ef03f945' target=\"_blank\">\n<img alt='Created in deepnote.com' style='display:inline;max-height:16px;margin:0px;margin-right:7.5px;' src='data:image/svg+xml;base64,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' > </img>\nCreated in <span style='font-weight:600;margin-left:4px;'>Deepnote</span></a>",
   "metadata": {
    "tags": [],
    "created_in_deepnote_cell": true,
    "deepnote_cell_type": "markdown"
   }
  }
 ],
 "nbformat": 4,
 "nbformat_minor": 5,
 "metadata": {
  "kernelspec": {
   "display_name": "Python 3 (ipykernel)",
   "language": "python",
   "name": "python3"
  },
  "language_info": {
   "codemirror_mode": {
    "name": "ipython",
    "version": 3
   },
   "file_extension": ".py",
   "mimetype": "text/x-python",
   "name": "python",
   "nbconvert_exporter": "python",
   "pygments_lexer": "ipython3",
   "version": "3.7.3"
  },
  "deepnote_notebook_id": "8ac61954-8397-4c74-931d-463677ec9a4e",
  "deepnote": {},
  "deepnote_execution_queue": []
 }
}