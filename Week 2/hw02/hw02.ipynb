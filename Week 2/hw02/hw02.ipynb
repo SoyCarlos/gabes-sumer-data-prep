{
 "cells": [
  {
   "cell_type": "code",
   "metadata": {
    "deletable": false,
    "editable": false,
    "cell_id": "81ca7673-ca9d-46c0-9de1-a50eb8b678c5",
    "deepnote_to_be_reexecuted": false,
    "source_hash": "269cc510",
    "execution_start": 1655749668562,
    "execution_millis": 4676,
    "deepnote_cell_type": "code",
    "deepnote_cell_height": 755
   },
   "source": "# Initialize Otter\n!pip install otter-grader\nimport otter\ngrader = otter.Notebook(\"hw02.ipynb\")",
   "execution_count": 1,
   "outputs": [
    {
     "name": "stdout",
     "text": "Requirement already satisfied: otter-grader in /root/venv/lib/python3.9/site-packages (3.3.0)\nRequirement already satisfied: pandas in /shared-libs/python3.9/py/lib/python3.9/site-packages (from otter-grader) (1.2.5)\nRequirement already satisfied: google-auth-oauthlib in /shared-libs/python3.9/py/lib/python3.9/site-packages (from otter-grader) (0.4.6)\nRequirement already satisfied: six in /shared-libs/python3.9/py-core/lib/python3.9/site-packages (from otter-grader) (1.16.0)\nRequirement already satisfied: PyPDF2 in /root/venv/lib/python3.9/site-packages (from otter-grader) (2.3.1)\nRequirement already satisfied: PyYAML in /root/venv/lib/python3.9/site-packages (from otter-grader) (6.0)\nRequirement already satisfied: python-on-whales in /root/venv/lib/python3.9/site-packages (from otter-grader) (0.46.0)\nRequirement already satisfied: dill in /shared-libs/python3.9/py/lib/python3.9/site-packages (from otter-grader) (0.3.5.1)\nRequirement already satisfied: nbconvert in /shared-libs/python3.9/py-core/lib/python3.9/site-packages (from otter-grader) (6.0.7)\nRequirement already satisfied: jupyter-client in /shared-libs/python3.9/py-core/lib/python3.9/site-packages (from otter-grader) (6.1.12)\nRequirement already satisfied: requests in /shared-libs/python3.9/py/lib/python3.9/site-packages (from otter-grader) (2.27.1)\nRequirement already satisfied: gspread in /root/venv/lib/python3.9/site-packages (from otter-grader) (5.4.0)\nRequirement already satisfied: ipykernel in /shared-libs/python3.9/py-core/lib/python3.9/site-packages (from otter-grader) (5.5.5)\nRequirement already satisfied: google-api-python-client in /root/venv/lib/python3.9/site-packages (from otter-grader) (2.51.0)\nRequirement already satisfied: jinja2 in /shared-libs/python3.9/py-core/lib/python3.9/site-packages (from otter-grader) (2.11.3)\nRequirement already satisfied: nbformat in /shared-libs/python3.9/py-core/lib/python3.9/site-packages (from otter-grader) (5.1.3)\nRequirement already satisfied: pdfkit in /root/venv/lib/python3.9/site-packages (from otter-grader) (1.0.0)\nRequirement already satisfied: matplotlib in /shared-libs/python3.9/py/lib/python3.9/site-packages (from otter-grader) (3.5.2)\nRequirement already satisfied: google-auth-httplib2>=0.1.0 in /root/venv/lib/python3.9/site-packages (from google-api-python-client->otter-grader) (0.1.0)\nRequirement already satisfied: google-api-core!=2.0.*,!=2.1.*,!=2.2.*,!=2.3.0,<3.0.0dev,>=1.31.5 in /shared-libs/python3.9/py/lib/python3.9/site-packages (from google-api-python-client->otter-grader) (2.8.1)\nRequirement already satisfied: httplib2<1dev,>=0.15.0 in /root/venv/lib/python3.9/site-packages (from google-api-python-client->otter-grader) (0.20.4)\nRequirement already satisfied: google-auth<3.0.0dev,>=1.16.0 in /shared-libs/python3.9/py/lib/python3.9/site-packages (from google-api-python-client->otter-grader) (2.7.0)\nRequirement already satisfied: uritemplate<5,>=3.0.1 in /root/venv/lib/python3.9/site-packages (from google-api-python-client->otter-grader) (4.1.1)\nRequirement already satisfied: requests-oauthlib>=0.7.0 in /shared-libs/python3.9/py/lib/python3.9/site-packages (from google-auth-oauthlib->otter-grader) (1.3.1)\nRequirement already satisfied: ipython>=5.0.0 in /shared-libs/python3.9/py-core/lib/python3.9/site-packages (from ipykernel->otter-grader) (7.34.0)\nRequirement already satisfied: traitlets>=4.1.0 in /shared-libs/python3.9/py-core/lib/python3.9/site-packages (from ipykernel->otter-grader) (4.3.3)\nRequirement already satisfied: tornado>=4.2 in /shared-libs/python3.9/py-core/lib/python3.9/site-packages (from ipykernel->otter-grader) (6.1)\nRequirement already satisfied: MarkupSafe>=0.23 in /shared-libs/python3.9/py-core/lib/python3.9/site-packages (from jinja2->otter-grader) (2.0.1)\nRequirement already satisfied: python-dateutil>=2.1 in /shared-libs/python3.9/py-core/lib/python3.9/site-packages (from jupyter-client->otter-grader) (2.8.2)\nRequirement already satisfied: jupyter-core>=4.6.0 in /shared-libs/python3.9/py-core/lib/python3.9/site-packages (from jupyter-client->otter-grader) (4.7.1)\nRequirement already satisfied: pyzmq>=13 in /shared-libs/python3.9/py-core/lib/python3.9/site-packages (from jupyter-client->otter-grader) (23.1.0)\nRequirement already satisfied: pyparsing>=2.2.1 in /shared-libs/python3.9/py/lib/python3.9/site-packages (from matplotlib->otter-grader) (3.0.9)\nRequirement already satisfied: pillow>=6.2.0 in /shared-libs/python3.9/py/lib/python3.9/site-packages (from matplotlib->otter-grader) (9.1.1)\nRequirement already satisfied: numpy>=1.17 in /shared-libs/python3.9/py/lib/python3.9/site-packages (from matplotlib->otter-grader) (1.22.4)\nRequirement already satisfied: kiwisolver>=1.0.1 in /shared-libs/python3.9/py/lib/python3.9/site-packages (from matplotlib->otter-grader) (1.4.2)\nRequirement already satisfied: cycler>=0.10 in /shared-libs/python3.9/py/lib/python3.9/site-packages (from matplotlib->otter-grader) (0.11.0)\nRequirement already satisfied: packaging>=20.0 in /shared-libs/python3.9/py/lib/python3.9/site-packages (from matplotlib->otter-grader) (21.3)\nRequirement already satisfied: fonttools>=4.22.0 in /shared-libs/python3.9/py/lib/python3.9/site-packages (from matplotlib->otter-grader) (4.33.3)\nRequirement already satisfied: mistune<2,>=0.8.1 in /shared-libs/python3.9/py-core/lib/python3.9/site-packages (from nbconvert->otter-grader) (0.8.4)\nRequirement already satisfied: jupyterlab-pygments in /shared-libs/python3.9/py-core/lib/python3.9/site-packages (from nbconvert->otter-grader) (0.2.2)\nRequirement already satisfied: pandocfilters>=1.4.1 in /shared-libs/python3.9/py-core/lib/python3.9/site-packages (from nbconvert->otter-grader) (1.5.0)\nRequirement already satisfied: entrypoints>=0.2.2 in /shared-libs/python3.9/py-core/lib/python3.9/site-packages (from nbconvert->otter-grader) (0.4)\nRequirement already satisfied: bleach in /shared-libs/python3.9/py-core/lib/python3.9/site-packages (from nbconvert->otter-grader) (5.0.0)\nRequirement already satisfied: nbclient<0.6.0,>=0.5.0 in /shared-libs/python3.9/py-core/lib/python3.9/site-packages (from nbconvert->otter-grader) (0.5.9)\nRequirement already satisfied: testpath in /shared-libs/python3.9/py-core/lib/python3.9/site-packages (from nbconvert->otter-grader) (0.6.0)\nRequirement already satisfied: pygments>=2.4.1 in /shared-libs/python3.9/py-core/lib/python3.9/site-packages (from nbconvert->otter-grader) (2.12.0)\nRequirement already satisfied: defusedxml in /shared-libs/python3.9/py-core/lib/python3.9/site-packages (from nbconvert->otter-grader) (0.7.1)\nRequirement already satisfied: ipython-genutils in /shared-libs/python3.9/py-core/lib/python3.9/site-packages (from nbformat->otter-grader) (0.2.0)\nRequirement already satisfied: jsonschema!=2.5.0,>=2.4 in /shared-libs/python3.9/py-core/lib/python3.9/site-packages (from nbformat->otter-grader) (3.2.0)\nRequirement already satisfied: pytz>=2017.3 in /shared-libs/python3.9/py/lib/python3.9/site-packages (from pandas->otter-grader) (2022.1)\nRequirement already satisfied: typing-extensions in /shared-libs/python3.9/py/lib/python3.9/site-packages (from PyPDF2->otter-grader) (4.2.0)\nRequirement already satisfied: typer>=0.4.1 in /shared-libs/python3.9/py/lib/python3.9/site-packages (from python-on-whales->otter-grader) (0.4.1)\nRequirement already satisfied: tqdm in /shared-libs/python3.9/py/lib/python3.9/site-packages (from python-on-whales->otter-grader) (4.64.0)\nRequirement already satisfied: pydantic in /shared-libs/python3.9/py/lib/python3.9/site-packages (from python-on-whales->otter-grader) (1.8.2)\nRequirement already satisfied: urllib3<1.27,>=1.21.1 in /shared-libs/python3.9/py/lib/python3.9/site-packages (from requests->otter-grader) (1.26.9)\nRequirement already satisfied: charset-normalizer~=2.0.0 in /shared-libs/python3.9/py-core/lib/python3.9/site-packages (from requests->otter-grader) (2.0.12)\nRequirement already satisfied: certifi>=2017.4.17 in /shared-libs/python3.9/py/lib/python3.9/site-packages (from requests->otter-grader) (2022.5.18.1)\nRequirement already satisfied: idna<4,>=2.5 in /shared-libs/python3.9/py-core/lib/python3.9/site-packages (from requests->otter-grader) (3.3)\nRequirement already satisfied: protobuf<4.0.0dev,>=3.15.0 in /shared-libs/python3.9/py/lib/python3.9/site-packages (from google-api-core!=2.0.*,!=2.1.*,!=2.2.*,!=2.3.0,<3.0.0dev,>=1.31.5->google-api-python-client->otter-grader) (3.19.4)\nRequirement already satisfied: googleapis-common-protos<2.0dev,>=1.56.2 in /shared-libs/python3.9/py/lib/python3.9/site-packages (from google-api-core!=2.0.*,!=2.1.*,!=2.2.*,!=2.3.0,<3.0.0dev,>=1.31.5->google-api-python-client->otter-grader) (1.56.2)\nRequirement already satisfied: cachetools<6.0,>=2.0.0 in /shared-libs/python3.9/py/lib/python3.9/site-packages (from google-auth<3.0.0dev,>=1.16.0->google-api-python-client->otter-grader) (5.2.0)\nRequirement already satisfied: pyasn1-modules>=0.2.1 in /shared-libs/python3.9/py/lib/python3.9/site-packages (from google-auth<3.0.0dev,>=1.16.0->google-api-python-client->otter-grader) (0.2.8)\nRequirement already satisfied: rsa<5,>=3.1.4 in /shared-libs/python3.9/py/lib/python3.9/site-packages (from google-auth<3.0.0dev,>=1.16.0->google-api-python-client->otter-grader) (4.8)\nRequirement already satisfied: jedi>=0.16 in /shared-libs/python3.9/py-core/lib/python3.9/site-packages (from ipython>=5.0.0->ipykernel->otter-grader) (0.17.2)\nRequirement already satisfied: prompt-toolkit!=3.0.0,!=3.0.1,<3.1.0,>=2.0.0 in /shared-libs/python3.9/py-core/lib/python3.9/site-packages (from ipython>=5.0.0->ipykernel->otter-grader) (3.0.29)\nRequirement already satisfied: backcall in /shared-libs/python3.9/py-core/lib/python3.9/site-packages (from ipython>=5.0.0->ipykernel->otter-grader) (0.2.0)\nRequirement already satisfied: pexpect>4.3 in /shared-libs/python3.9/py-core/lib/python3.9/site-packages (from ipython>=5.0.0->ipykernel->otter-grader) (4.8.0)\nRequirement already satisfied: decorator in /shared-libs/python3.9/py-core/lib/python3.9/site-packages (from ipython>=5.0.0->ipykernel->otter-grader) (5.1.1)\nRequirement already satisfied: matplotlib-inline in /shared-libs/python3.9/py-core/lib/python3.9/site-packages (from ipython>=5.0.0->ipykernel->otter-grader) (0.1.3)\nRequirement already satisfied: pickleshare in /shared-libs/python3.9/py-core/lib/python3.9/site-packages (from ipython>=5.0.0->ipykernel->otter-grader) (0.7.5)\nRequirement already satisfied: setuptools>=18.5 in /root/venv/lib/python3.9/site-packages (from ipython>=5.0.0->ipykernel->otter-grader) (58.1.0)\nRequirement already satisfied: attrs>=17.4.0 in /shared-libs/python3.9/py-core/lib/python3.9/site-packages (from jsonschema!=2.5.0,>=2.4->nbformat->otter-grader) (21.4.0)\nRequirement already satisfied: pyrsistent>=0.14.0 in /shared-libs/python3.9/py-core/lib/python3.9/site-packages (from jsonschema!=2.5.0,>=2.4->nbformat->otter-grader) (0.18.1)\nRequirement already satisfied: nest-asyncio in /shared-libs/python3.9/py-core/lib/python3.9/site-packages (from nbclient<0.6.0,>=0.5.0->nbconvert->otter-grader) (1.5.5)\nRequirement already satisfied: oauthlib>=3.0.0 in /shared-libs/python3.9/py/lib/python3.9/site-packages (from requests-oauthlib>=0.7.0->google-auth-oauthlib->otter-grader) (3.2.0)\nRequirement already satisfied: click<9.0.0,>=7.1.1 in /shared-libs/python3.9/py/lib/python3.9/site-packages (from typer>=0.4.1->python-on-whales->otter-grader) (8.1.3)\nRequirement already satisfied: webencodings in /shared-libs/python3.9/py-core/lib/python3.9/site-packages (from bleach->nbconvert->otter-grader) (0.5.1)\nRequirement already satisfied: parso<0.8.0,>=0.7.0 in /shared-libs/python3.9/py-core/lib/python3.9/site-packages (from jedi>=0.16->ipython>=5.0.0->ipykernel->otter-grader) (0.7.1)\nRequirement already satisfied: ptyprocess>=0.5 in /shared-libs/python3.9/py-core/lib/python3.9/site-packages (from pexpect>4.3->ipython>=5.0.0->ipykernel->otter-grader) (0.7.0)\nRequirement already satisfied: wcwidth in /shared-libs/python3.9/py-core/lib/python3.9/site-packages (from prompt-toolkit!=3.0.0,!=3.0.1,<3.1.0,>=2.0.0->ipython>=5.0.0->ipykernel->otter-grader) (0.2.5)\nRequirement already satisfied: pyasn1<0.5.0,>=0.4.6 in /shared-libs/python3.9/py/lib/python3.9/site-packages (from pyasn1-modules>=0.2.1->google-auth<3.0.0dev,>=1.16.0->google-api-python-client->otter-grader) (0.4.8)\n\u001b[33mWARNING: You are using pip version 22.0.4; however, version 22.1.2 is available.\nYou should consider upgrading via the '/root/venv/bin/python -m pip install --upgrade pip' command.\u001b[0m\u001b[33m\n\u001b[0m",
     "output_type": "stream"
    }
   ]
  },
  {
   "cell_type": "markdown",
   "source": "# Homework 2: Arrays and Tables\n\nPlease complete this notebook by filling in the cells provided. Before you begin, execute the previous cell to load the provided tests.",
   "metadata": {
    "cell_id": "00001-4d5502b1-edf6-4f6e-b323-a24d1ab0647a",
    "deepnote_cell_type": "markdown",
    "deepnote_cell_height": 142.8000030517578
   }
  },
  {
   "cell_type": "code",
   "metadata": {
    "tags": [],
    "cell_id": "00002-05367192-7981-46cf-adcd-99850052fc7c",
    "deepnote_cell_type": "code",
    "deepnote_cell_height": 120
   },
   "source": "# Run this cell and ignore the output. It is checking to see if you ran the first cell! \n# If you get a NameError, please run the cell at the very TOP of this notebook!\n\ngrader",
   "execution_count": null,
   "outputs": []
  },
  {
   "cell_type": "markdown",
   "source": "**Helpful Resource:**\n- [Python Reference](http://data8.org/sp22/python-reference.html): Cheat sheet of helpful array & table methods used in Data 8!\n\n**Recommended Readings:**\n- [Arrays](https://inferentialthinking.com/chapters/05/1/Arrays.html)\n- [What is Data Science?](http://www.inferentialthinking.com/chapters/01/what-is-data-science.html)\n- [Causality and Experiments](http://www.inferentialthinking.com/chapters/02/causality-and-experiments.html) \n- [Programming in Python](http://www.inferentialthinking.com/chapters/03/programming-in-python.html)\n\nFor all problems that you must write explanations and sentences for, you **must** provide your answer in the designated space. Moreover, throughout this homework and all future ones, **please be sure to not re-assign variables throughout the notebook!** For example, if you use `max_temperature` in your answer to one question, do not reassign it later on. Otherwise, you will fail tests that you thought you were passing previously!\n\n**Deadline:**\n\nThis assignment is due Thursday, 2/3 at 11:59pm PT. Turn it in by Wednesday, 2/2 at 11:59pm PT for 5 extra credit points. Late work will not be accepted as per the [policies](http://data8.org/sp22/policies.html) page.\n\n**Note: This homework has hidden tests on it. That means even though tests may say 100% passed, it doesn't mean your final grade will be 100%. We will be running more tests for correctness once everyone turns in the homework.**\n\nDirectly sharing answers is not okay, but discussing problems with the course staff or with other students is encouraged. Refer to the policies page to learn more about how to learn cooperatively.\n\nYou should start early so that you have time to get help if you're stuck. Office hours are held Tuesday through Thursday. The schedule appears on [http://data8.org/sp22/office-hours.html](http://data8.org/sp22/office-hours.html).",
   "metadata": {
    "cell_id": "00003-4edd177d-208c-437b-a938-aacb21cc8e23",
    "deepnote_cell_type": "markdown",
    "deepnote_cell_height": 613
   }
  },
  {
   "cell_type": "markdown",
   "source": "## 1. Creating Arrays",
   "metadata": {
    "cell_id": "00004-8077e18d-2bba-469c-adbf-983e69a54ec3",
    "deepnote_cell_type": "markdown",
    "deepnote_cell_height": 70
   }
  },
  {
   "cell_type": "code",
   "metadata": {
    "tags": [],
    "cell_id": "00005-8f053c2e-3934-4993-97ea-a75935ac52fd",
    "deepnote_to_be_reexecuted": false,
    "source_hash": "e11cf32",
    "execution_start": 1655749691693,
    "execution_millis": 6073,
    "deepnote_cell_type": "code",
    "deepnote_cell_height": 950.2000122070312
   },
   "source": "# Run this cell to set up the notebook, but please don't change it.\n!pip install datascience\n\nimport numpy as np\nfrom datascience import *\nimport d8error\nimport warnings\nwarnings.simplefilter('ignore', FutureWarning)",
   "execution_count": 2,
   "outputs": [
    {
     "name": "stdout",
     "text": "Requirement already satisfied: datascience in /shared-libs/python3.9/py/lib/python3.9/site-packages (0.17.2)\nRequirement already satisfied: matplotlib>=3.0.0 in /shared-libs/python3.9/py/lib/python3.9/site-packages (from datascience) (3.5.2)\nRequirement already satisfied: folium>=0.9.1 in /shared-libs/python3.9/py/lib/python3.9/site-packages (from datascience) (0.12.1.post1)\nRequirement already satisfied: plotly in /shared-libs/python3.9/py/lib/python3.9/site-packages (from datascience) (5.8.1)\nRequirement already satisfied: numpy in /shared-libs/python3.9/py/lib/python3.9/site-packages (from datascience) (1.22.4)\nRequirement already satisfied: pandas in /shared-libs/python3.9/py/lib/python3.9/site-packages (from datascience) (1.2.5)\nRequirement already satisfied: scipy in /shared-libs/python3.9/py/lib/python3.9/site-packages (from datascience) (1.8.1)\nRequirement already satisfied: setuptools in /root/venv/lib/python3.9/site-packages (from datascience) (58.1.0)\nRequirement already satisfied: ipython in /shared-libs/python3.9/py-core/lib/python3.9/site-packages (from datascience) (7.34.0)\nRequirement already satisfied: branca in /shared-libs/python3.9/py/lib/python3.9/site-packages (from datascience) (0.5.0)\nRequirement already satisfied: requests in /shared-libs/python3.9/py/lib/python3.9/site-packages (from folium>=0.9.1->datascience) (2.27.1)\nRequirement already satisfied: jinja2>=2.9 in /shared-libs/python3.9/py-core/lib/python3.9/site-packages (from folium>=0.9.1->datascience) (2.11.3)\nRequirement already satisfied: pyparsing>=2.2.1 in /shared-libs/python3.9/py/lib/python3.9/site-packages (from matplotlib>=3.0.0->datascience) (3.0.9)\nRequirement already satisfied: pillow>=6.2.0 in /shared-libs/python3.9/py/lib/python3.9/site-packages (from matplotlib>=3.0.0->datascience) (9.1.1)\nRequirement already satisfied: kiwisolver>=1.0.1 in /shared-libs/python3.9/py/lib/python3.9/site-packages (from matplotlib>=3.0.0->datascience) (1.4.2)\nRequirement already satisfied: fonttools>=4.22.0 in /shared-libs/python3.9/py/lib/python3.9/site-packages (from matplotlib>=3.0.0->datascience) (4.33.3)\nRequirement already satisfied: cycler>=0.10 in /shared-libs/python3.9/py/lib/python3.9/site-packages (from matplotlib>=3.0.0->datascience) (0.11.0)\nRequirement already satisfied: python-dateutil>=2.7 in /shared-libs/python3.9/py-core/lib/python3.9/site-packages (from matplotlib>=3.0.0->datascience) (2.8.2)\nRequirement already satisfied: packaging>=20.0 in /shared-libs/python3.9/py/lib/python3.9/site-packages (from matplotlib>=3.0.0->datascience) (21.3)\nRequirement already satisfied: pygments in /shared-libs/python3.9/py-core/lib/python3.9/site-packages (from ipython->datascience) (2.12.0)\nRequirement already satisfied: decorator in /shared-libs/python3.9/py-core/lib/python3.9/site-packages (from ipython->datascience) (5.1.1)\nRequirement already satisfied: pickleshare in /shared-libs/python3.9/py-core/lib/python3.9/site-packages (from ipython->datascience) (0.7.5)\nRequirement already satisfied: backcall in /shared-libs/python3.9/py-core/lib/python3.9/site-packages (from ipython->datascience) (0.2.0)\nRequirement already satisfied: prompt-toolkit!=3.0.0,!=3.0.1,<3.1.0,>=2.0.0 in /shared-libs/python3.9/py-core/lib/python3.9/site-packages (from ipython->datascience) (3.0.29)\nRequirement already satisfied: jedi>=0.16 in /shared-libs/python3.9/py-core/lib/python3.9/site-packages (from ipython->datascience) (0.17.2)\nRequirement already satisfied: matplotlib-inline in /shared-libs/python3.9/py-core/lib/python3.9/site-packages (from ipython->datascience) (0.1.3)\nRequirement already satisfied: traitlets>=4.2 in /shared-libs/python3.9/py-core/lib/python3.9/site-packages (from ipython->datascience) (4.3.3)\nRequirement already satisfied: pexpect>4.3 in /shared-libs/python3.9/py-core/lib/python3.9/site-packages (from ipython->datascience) (4.8.0)\nRequirement already satisfied: pytz>=2017.3 in /shared-libs/python3.9/py/lib/python3.9/site-packages (from pandas->datascience) (2022.1)\nRequirement already satisfied: tenacity>=6.2.0 in /shared-libs/python3.9/py/lib/python3.9/site-packages (from plotly->datascience) (8.0.1)\nRequirement already satisfied: parso<0.8.0,>=0.7.0 in /shared-libs/python3.9/py-core/lib/python3.9/site-packages (from jedi>=0.16->ipython->datascience) (0.7.1)\nRequirement already satisfied: MarkupSafe>=0.23 in /shared-libs/python3.9/py-core/lib/python3.9/site-packages (from jinja2>=2.9->folium>=0.9.1->datascience) (2.0.1)\nRequirement already satisfied: ptyprocess>=0.5 in /shared-libs/python3.9/py-core/lib/python3.9/site-packages (from pexpect>4.3->ipython->datascience) (0.7.0)\nRequirement already satisfied: wcwidth in /shared-libs/python3.9/py-core/lib/python3.9/site-packages (from prompt-toolkit!=3.0.0,!=3.0.1,<3.1.0,>=2.0.0->ipython->datascience) (0.2.5)\nRequirement already satisfied: six>=1.5 in /shared-libs/python3.9/py-core/lib/python3.9/site-packages (from python-dateutil>=2.7->matplotlib>=3.0.0->datascience) (1.16.0)\nRequirement already satisfied: ipython-genutils in /shared-libs/python3.9/py-core/lib/python3.9/site-packages (from traitlets>=4.2->ipython->datascience) (0.2.0)\nRequirement already satisfied: idna<4,>=2.5 in /shared-libs/python3.9/py-core/lib/python3.9/site-packages (from requests->folium>=0.9.1->datascience) (3.3)\nRequirement already satisfied: certifi>=2017.4.17 in /shared-libs/python3.9/py/lib/python3.9/site-packages (from requests->folium>=0.9.1->datascience) (2022.5.18.1)\nRequirement already satisfied: charset-normalizer~=2.0.0 in /shared-libs/python3.9/py-core/lib/python3.9/site-packages (from requests->folium>=0.9.1->datascience) (2.0.12)\nRequirement already satisfied: urllib3<1.27,>=1.21.1 in /shared-libs/python3.9/py/lib/python3.9/site-packages (from requests->folium>=0.9.1->datascience) (1.26.9)\n\u001b[33mWARNING: You are using pip version 22.0.4; however, version 22.1.2 is available.\nYou should consider upgrading via the '/root/venv/bin/python -m pip install --upgrade pip' command.\u001b[0m\u001b[33m\n\u001b[0m",
     "output_type": "stream"
    },
    {
     "output_type": "error",
     "ename": "ModuleNotFoundError",
     "evalue": "No module named 'ipywidgets'",
     "traceback": [
      "\u001b[0;31m---------------------------------------------------------------------------\u001b[0m",
      "\u001b[0;31mModuleNotFoundError\u001b[0m                       Traceback (most recent call last)",
      "\u001b[0;32m<ipython-input-2-3c87dbccbb52>\u001b[0m in \u001b[0;36m<cell line: 6>\u001b[0;34m()\u001b[0m\n\u001b[1;32m      4\u001b[0m \u001b[0;32mimport\u001b[0m \u001b[0mnumpy\u001b[0m \u001b[0;32mas\u001b[0m \u001b[0mnp\u001b[0m\u001b[0;34m\u001b[0m\u001b[0;34m\u001b[0m\u001b[0m\n\u001b[1;32m      5\u001b[0m \u001b[0;32mfrom\u001b[0m \u001b[0mdatascience\u001b[0m \u001b[0;32mimport\u001b[0m \u001b[0;34m*\u001b[0m\u001b[0;34m\u001b[0m\u001b[0;34m\u001b[0m\u001b[0m\n\u001b[0;32m----> 6\u001b[0;31m \u001b[0;32mimport\u001b[0m \u001b[0md8error\u001b[0m\u001b[0;34m\u001b[0m\u001b[0;34m\u001b[0m\u001b[0m\n\u001b[0m\u001b[1;32m      7\u001b[0m \u001b[0;32mimport\u001b[0m \u001b[0mwarnings\u001b[0m\u001b[0;34m\u001b[0m\u001b[0;34m\u001b[0m\u001b[0m\n\u001b[1;32m      8\u001b[0m \u001b[0mwarnings\u001b[0m\u001b[0;34m.\u001b[0m\u001b[0msimplefilter\u001b[0m\u001b[0;34m(\u001b[0m\u001b[0;34m'ignore'\u001b[0m\u001b[0;34m,\u001b[0m \u001b[0mFutureWarning\u001b[0m\u001b[0;34m)\u001b[0m\u001b[0;34m\u001b[0m\u001b[0;34m\u001b[0m\u001b[0m\n",
      "\u001b[0;32m~/work/gabes-sumer-data-prep/Week 2/hw02/d8error.py\u001b[0m in \u001b[0;36m<module>\u001b[0;34m\u001b[0m\n\u001b[1;32m      3\u001b[0m \u001b[0;32mimport\u001b[0m \u001b[0mos\u001b[0m\u001b[0;34m.\u001b[0m\u001b[0mpath\u001b[0m\u001b[0;34m\u001b[0m\u001b[0;34m\u001b[0m\u001b[0m\n\u001b[1;32m      4\u001b[0m \u001b[0;32mimport\u001b[0m \u001b[0mcsv\u001b[0m\u001b[0;34m\u001b[0m\u001b[0;34m\u001b[0m\u001b[0m\n\u001b[0;32m----> 5\u001b[0;31m \u001b[0;32mimport\u001b[0m \u001b[0mipywidgets\u001b[0m \u001b[0;32mas\u001b[0m \u001b[0mwidgets\u001b[0m\u001b[0;34m\u001b[0m\u001b[0;34m\u001b[0m\u001b[0m\n\u001b[0m\u001b[1;32m      6\u001b[0m \u001b[0;32mimport\u001b[0m \u001b[0mdatetime\u001b[0m\u001b[0;34m\u001b[0m\u001b[0;34m\u001b[0m\u001b[0m\n\u001b[1;32m      7\u001b[0m \u001b[0;34m\u001b[0m\u001b[0m\n",
      "\u001b[0;31mModuleNotFoundError\u001b[0m: No module named 'ipywidgets'"
     ]
    }
   ]
  },
  {
   "cell_type": "markdown",
   "source": "**Question 1.** Make an array called `weird_numbers` containing the following numbers (in the given order) **(4 Points)**:\n\n1. -2\n2. the floor of 12.6\n3. 3\n4. 5 to the power of the ceil of 5.3\n\n*Hint:* `floor` and `ceil` are functions in the `math` module. Importing modules is covered in Lab 2!\n\n*Note:* Python lists are different/behave differently than NumPy arrays. In Data 8, we use NumPy arrays, so please make an **array**, not a Python list.\n\n<!--\nBEGIN QUESTION\nname: q1_1\npoints:\n - 0\n - 0\n - 4\n-->",
   "metadata": {
    "deletable": false,
    "editable": false,
    "cell_id": "00006-a2250d17-f31c-4c1c-bb38-0a27e1c431f1",
    "deepnote_cell_type": "markdown",
    "deepnote_cell_height": 274.20001220703125
   }
  },
  {
   "cell_type": "code",
   "metadata": {
    "cell_id": "00007-4108705c-aab6-4f4a-adb8-9a7f8d9d8c88",
    "deepnote_cell_type": "code",
    "deepnote_cell_height": 138
   },
   "source": "# Our solution involved one extra line of code before creating\n# weird_numbers.\n...\nweird_numbers = ...\nweird_numbers",
   "execution_count": null,
   "outputs": []
  },
  {
   "cell_type": "code",
   "metadata": {
    "deletable": false,
    "editable": false,
    "cell_id": "00008-88ddaf03-a261-47cf-957f-7b8362f0ba42",
    "deepnote_cell_type": "code",
    "deepnote_cell_height": 66
   },
   "source": "grader.check(\"q1_1\")",
   "execution_count": null,
   "outputs": []
  },
  {
   "cell_type": "markdown",
   "source": "**Question 2.** Make an array called `book_title_words` containing the following three strings: \"Eats\", \"Shoots\", and \"and Leaves\". **(4 Points)**\n\n<!--\nBEGIN QUESTION\nname: q1_2\npoints:\n - 0\n - 0\n - 0\n - 0\n - 4\n-->",
   "metadata": {
    "deletable": false,
    "editable": false,
    "cell_id": "00009-9353cb0b-ce24-4896-b8d4-2c330b16fd6f",
    "deepnote_cell_type": "markdown",
    "deepnote_cell_height": 88.80000305175781
   }
  },
  {
   "cell_type": "code",
   "metadata": {
    "cell_id": "00010-948f023a-a813-451e-8da1-bbc6b2275e51",
    "deepnote_cell_type": "code",
    "deepnote_cell_height": 84
   },
   "source": "book_title_words = ...\nbook_title_words",
   "execution_count": null,
   "outputs": []
  },
  {
   "cell_type": "code",
   "metadata": {
    "deletable": false,
    "editable": false,
    "cell_id": "00011-52716663-208b-4ceb-884c-5b57b19e4f3a",
    "deepnote_cell_type": "code",
    "deepnote_cell_height": 66
   },
   "source": "grader.check(\"q1_2\")",
   "execution_count": null,
   "outputs": []
  },
  {
   "cell_type": "markdown",
   "source": "Strings have a method called `join`.  `join` takes one argument, an array of strings.  It returns a single string.  Specifically, the value of `a_string.join(an_array)` is a single string that's the [concatenation](https://en.wikipedia.org/wiki/Concatenation) (\"putting together\") of all the strings in `an_array`, **except** `a_string` is inserted in between each string.\n\n**Question 3.** Use the array `book_title_words` and the method `join` to make two strings **(4 Points)**:\n\n1. \"Eats, Shoots, and Leaves\" (call this one `with_commas`)\n2. \"Eats Shoots and Leaves\" (call this one `without_commas`)\n\n*Hint:* If you're not sure what `join` does, first try just calling, for example, `\"data8\".join(book_title_words)` .\n\n<!--\nBEGIN QUESTION\nname: q1_3\npoints:\n - 2\n - 2\n-->",
   "metadata": {
    "deletable": false,
    "editable": false,
    "cell_id": "00012-e5c77d55-a035-4f7b-b8a5-debb350b3c00",
    "deepnote_cell_type": "markdown",
    "deepnote_cell_height": 245.8000030517578
   }
  },
  {
   "cell_type": "code",
   "metadata": {
    "cell_id": "00013-5101ccf3-ffb2-4d32-b057-2e0d1b766107",
    "deepnote_cell_type": "code",
    "deepnote_cell_height": 156
   },
   "source": "with_commas = ...\nwithout_commas = ...\n\n# These lines are provided just to print out your answers.\nprint('with_commas:', with_commas)\nprint('without_commas:', without_commas)",
   "execution_count": null,
   "outputs": []
  },
  {
   "cell_type": "code",
   "metadata": {
    "deletable": false,
    "editable": false,
    "cell_id": "00014-15e920f3-02d3-4bd0-b48c-9ce3fe62c778",
    "deepnote_cell_type": "code",
    "deepnote_cell_height": 66
   },
   "source": "grader.check(\"q1_3\")",
   "execution_count": null,
   "outputs": []
  },
  {
   "cell_type": "markdown",
   "source": "## 2. Indexing Arrays",
   "metadata": {
    "cell_id": "00015-59d3e143-b182-4aa5-8eda-b60374db7416",
    "deepnote_cell_type": "markdown",
    "deepnote_cell_height": 70
   }
  },
  {
   "cell_type": "markdown",
   "source": "These exercises give you practice accessing individual elements of arrays.  In Python (and in many programming languages), each element is accessed by its *index*; for example, the first element is the element at index 0. Indices must be **integers**.\n\n***Note:* If you have previous coding experience, you may be familiar with bracket notation. DO NOT use bracket notation when indexing (i.e. `arr[0]`), as this can yield different data type outputs than what we will be expecting. This can cause you to fail an autograder test.**\n\nBe sure to refer to the [Python Reference](http://data8.org/sp22/python-reference.html) on the website if you feel stuck!",
   "metadata": {
    "cell_id": "00016-c07f8a60-d970-4b9e-8a06-d7e213667c61",
    "deepnote_cell_type": "markdown",
    "deepnote_cell_height": 192.39999389648438
   }
  },
  {
   "cell_type": "markdown",
   "source": "**Question 1.** The cell below creates an array of some numbers.  Set `third_element` to the third element of `some_numbers`. **(4 Points)**\n\n<!--\nBEGIN QUESTION\nname: q2_1\npoints:\n - 0\n - 4\n-->",
   "metadata": {
    "deletable": false,
    "editable": false,
    "cell_id": "00017-f0783ac4-8186-4b3e-b3c6-eeb8441861dd",
    "deepnote_cell_type": "markdown",
    "deepnote_cell_height": 88.80000305175781
   }
  },
  {
   "cell_type": "code",
   "metadata": {
    "cell_id": "00018-6e371830-e420-4758-9c02-0eed558521cc",
    "deepnote_cell_type": "code",
    "deepnote_cell_height": 120
   },
   "source": "some_numbers = make_array(-1, -3, -6, -10, -15)\n\nthird_element = ...\nthird_element",
   "execution_count": null,
   "outputs": []
  },
  {
   "cell_type": "code",
   "metadata": {
    "deletable": false,
    "editable": false,
    "cell_id": "00019-cd401914-817f-4092-bb1e-717d1decc2f5",
    "deepnote_cell_type": "code",
    "deepnote_cell_height": 66
   },
   "source": "grader.check(\"q2_1\")",
   "execution_count": null,
   "outputs": []
  },
  {
   "cell_type": "markdown",
   "source": "**Question 2.** The next cell creates a table that displays some information about the elements of `some_numbers` and their order.  Run the cell to see the partially-completed table, then fill in the missing information (the cells that say \"Ellipsis\") by assigning `blank_a`, `blank_b`, `blank_c`, and `blank_d` to the correct elements in the table. **(4 Points)**\n\n*Hint:* Replace the `...` with strings or numbers. As a reminder, indices should be **integers**.\n\n<!--\nBEGIN QUESTION\nname: q2_2\npoints:\n - 1\n - 1\n - 1\n - 1\n-->",
   "metadata": {
    "deletable": false,
    "editable": false,
    "cell_id": "00020-62312055-1df3-4c57-b0bb-71ed7f1eb593",
    "deepnote_cell_type": "markdown",
    "deepnote_cell_height": 147.60000610351562
   }
  },
  {
   "cell_type": "code",
   "metadata": {
    "for_assignment_type": "student",
    "cell_id": "00021-38745c2f-fa06-48e1-9197-a2ee033c59a5",
    "deepnote_cell_type": "code",
    "deepnote_cell_height": 210
   },
   "source": "blank_a = ...\nblank_b = ...\nblank_c = ...\nblank_d = ...\nelements_of_some_numbers = Table().with_columns(\n    \"English name for position\", make_array(\"first\", \"second\", blank_a, blank_b, \"fifth\"),\n    \"Index\",                     make_array(blank_c, 1, 2, blank_d, 4),\n    \"Element\",                   some_numbers)\nelements_of_some_numbers",
   "execution_count": null,
   "outputs": []
  },
  {
   "cell_type": "code",
   "metadata": {
    "deletable": false,
    "editable": false,
    "cell_id": "00022-a21dd786-2107-4074-9efe-57e3c88fc068",
    "deepnote_cell_type": "code",
    "deepnote_cell_height": 66
   },
   "source": "grader.check(\"q2_2\")",
   "execution_count": null,
   "outputs": []
  },
  {
   "cell_type": "markdown",
   "source": "**Question 3.** You'll sometimes want to find the **last** element of an array.  Suppose an array has 142 elements.  What is the index of its last element? **(4 Points)**\n\n<!--\nBEGIN QUESTION\nname: q2_3\npoints:\n - 4\n-->",
   "metadata": {
    "deletable": false,
    "editable": false,
    "cell_id": "00023-ee67893e-a2ea-4604-831c-0f19c594a8bf",
    "deepnote_cell_type": "markdown",
    "deepnote_cell_height": 88.80000305175781
   }
  },
  {
   "cell_type": "code",
   "metadata": {
    "cell_id": "00024-e7190861-b1f6-428c-912c-4fa59a01bf83",
    "deepnote_cell_type": "code",
    "deepnote_cell_height": 66
   },
   "source": "index_of_last_element = ...",
   "execution_count": null,
   "outputs": []
  },
  {
   "cell_type": "code",
   "metadata": {
    "deletable": false,
    "editable": false,
    "cell_id": "00025-d88d1775-c808-4153-8d6b-9a0498d6015a",
    "deepnote_cell_type": "code",
    "deepnote_cell_height": 66
   },
   "source": "grader.check(\"q2_3\")",
   "execution_count": null,
   "outputs": []
  },
  {
   "cell_type": "markdown",
   "source": "More often, you don't know the number of elements in an array, its *length*.  (For example, it might be a large dataset you found on the Internet.)  The function `len` takes a single argument, an array, and returns an integer that represents the `len`gth of that array.\n\n**Question 4.** The cell below loads an array called `president_birth_years`.  Calling `tbl.column(...)` on a table returns an array of the column specified, in this case the `Birth Year` column of the `president_births` table. The last element in that array is the most recent among the birth years of all the deceased Presidents. Assign that year to `most_recent_birth_year`. **(4 Points)**\n\n<!--\nBEGIN QUESTION\nname: q2_4\npoints:\n - 4\n-->",
   "metadata": {
    "deletable": false,
    "editable": false,
    "cell_id": "00026-43f89db7-7bcf-47da-8365-9650771b003c",
    "deepnote_cell_type": "markdown",
    "deepnote_cell_height": 170
   }
  },
  {
   "cell_type": "code",
   "metadata": {
    "cell_id": "00027-cf3f4f5d-3290-402f-b8da-af2c76500a42",
    "deepnote_cell_type": "code",
    "deepnote_cell_height": 120
   },
   "source": "president_birth_years = Table.read_table(\"president_births.csv\").column('Birth Year')\n\nmost_recent_birth_year = ...\nmost_recent_birth_year",
   "execution_count": null,
   "outputs": []
  },
  {
   "cell_type": "code",
   "metadata": {
    "deletable": false,
    "editable": false,
    "cell_id": "00028-b7617694-5156-450c-a3ed-05f376cc7e0c",
    "deepnote_cell_type": "code",
    "deepnote_cell_height": 66
   },
   "source": "grader.check(\"q2_4\")",
   "execution_count": null,
   "outputs": []
  },
  {
   "cell_type": "markdown",
   "source": "**Question 5.** Finally, assign `min_of_birth_years` to the minimum of the first, sixteenth, and last birth years listed in `president_birth_years`. **(4 Points)**\n\n<!--\nBEGIN QUESTION\nname: q2_5\npoints:\n - 0\n - 4\n-->",
   "metadata": {
    "deletable": false,
    "editable": false,
    "cell_id": "00029-21e7397a-6921-48db-bbb2-06697fe2851a",
    "deepnote_cell_type": "markdown",
    "deepnote_cell_height": 88.80000305175781
   }
  },
  {
   "cell_type": "code",
   "metadata": {
    "cell_id": "00030-76eb5d9f-1cab-46b4-9239-9dbef81163ed",
    "deepnote_cell_type": "code",
    "deepnote_cell_height": 84
   },
   "source": "min_of_birth_years = ...\nmin_of_birth_years",
   "execution_count": null,
   "outputs": []
  },
  {
   "cell_type": "code",
   "metadata": {
    "deletable": false,
    "editable": false,
    "cell_id": "00031-7862a390-d0fa-454b-8303-b04cc0d5e5c3",
    "deepnote_cell_type": "code",
    "deepnote_cell_height": 66
   },
   "source": "grader.check(\"q2_5\")",
   "execution_count": null,
   "outputs": []
  },
  {
   "cell_type": "markdown",
   "source": "## 3. Basic Array Arithmetic",
   "metadata": {
    "cell_id": "00032-01f8b75c-ec28-4e82-8b7d-c93ec0931908",
    "deepnote_cell_type": "markdown",
    "deepnote_cell_height": 70
   }
  },
  {
   "cell_type": "markdown",
   "source": "**Question 1.** Multiply the numbers 42, -4224, 424224242, and 250 by 157. Assign each variable below such that `first_product` is assigned to the result of $42 * 157$, `second_product` is assigned to the result of $-4224 * 157$, and so on. **(4 Points)**\n\n*Note*: For this question, **don't** use arrays.\n\n<!--\nBEGIN QUESTION\nname: q3_1\npoints:\n - 0\n - 4\n-->",
   "metadata": {
    "deletable": false,
    "editable": false,
    "cell_id": "00033-24ccee60-c657-445f-9331-6035f57c8dce",
    "deepnote_cell_type": "markdown",
    "deepnote_cell_height": 125.19999694824219
   }
  },
  {
   "cell_type": "code",
   "metadata": {
    "cell_id": "00034-00e73c52-334c-4ac9-a6ea-68ecda21bdd4",
    "deepnote_cell_type": "code",
    "deepnote_cell_height": 192
   },
   "source": "first_product = ...\nsecond_product = ...\nthird_product = ...\nfourth_product = ...\nprint(\"First Product:\", first_product)\nprint(\"Second Product:\", second_product)\nprint(\"Third Product:\", third_product)\nprint(\"Fourth Product:\", fourth_product)",
   "execution_count": null,
   "outputs": []
  },
  {
   "cell_type": "code",
   "metadata": {
    "deletable": false,
    "editable": false,
    "cell_id": "00035-6bf18cba-7b92-4363-8069-ced3002b81ad",
    "deepnote_cell_type": "code",
    "deepnote_cell_height": 66
   },
   "source": "grader.check(\"q3_1\")",
   "execution_count": null,
   "outputs": []
  },
  {
   "cell_type": "markdown",
   "source": "**Question 2.** Now, do the same calculation, but using an array called `numbers` and only a single multiplication (`*`) operator.  Store the 4 results in an array named `products`. **(4 Points)**\n\n<!--\nBEGIN QUESTION\nname: q3_2\npoints:\n - 0\n - 4\n-->",
   "metadata": {
    "deletable": false,
    "editable": false,
    "cell_id": "00036-588bd5b5-2db2-4d31-91db-6c1c8e98c4e1",
    "deepnote_cell_type": "markdown",
    "deepnote_cell_height": 88.80000305175781
   }
  },
  {
   "cell_type": "code",
   "metadata": {
    "cell_id": "00037-aab77ffd-ab1f-4f2c-9cc9-a5a2dbc819b6",
    "deepnote_cell_type": "code",
    "deepnote_cell_height": 102
   },
   "source": "numbers = ...\nproducts = ...\nproducts",
   "execution_count": null,
   "outputs": []
  },
  {
   "cell_type": "code",
   "metadata": {
    "deletable": false,
    "editable": false,
    "cell_id": "00038-38fcf375-0d5c-4c2f-841f-2253e3fa7c95",
    "deepnote_cell_type": "code",
    "deepnote_cell_height": 66
   },
   "source": "grader.check(\"q3_2\")",
   "execution_count": null,
   "outputs": []
  },
  {
   "cell_type": "markdown",
   "source": "**Question 3.** Oops, we made a typo!  Instead of 157, we wanted to multiply each number by 1577.  Compute the correct products in the cell below using array arithmetic.  Notice that your job is really easy if you previously defined an array containing the 4 numbers. **(4 Points)**\n\n<!--\nBEGIN QUESTION\nname: q3_3\npoints:\n - 0\n - 4\n-->",
   "metadata": {
    "deletable": false,
    "editable": false,
    "cell_id": "00039-5a085f72-acd2-47f0-b046-75e55a898850",
    "deepnote_cell_type": "markdown",
    "deepnote_cell_height": 111.19999694824219
   }
  },
  {
   "cell_type": "code",
   "metadata": {
    "cell_id": "00040-6246d308-eac8-43fd-99ae-fd7c02bef467",
    "deepnote_cell_type": "code",
    "deepnote_cell_height": 84
   },
   "source": "correct_products = ...\ncorrect_products",
   "execution_count": null,
   "outputs": []
  },
  {
   "cell_type": "code",
   "metadata": {
    "deletable": false,
    "editable": false,
    "cell_id": "00041-64d58c8e-6bfc-400f-946b-4e296bf1e269",
    "deepnote_cell_type": "code",
    "deepnote_cell_height": 66
   },
   "source": "grader.check(\"q3_3\")",
   "execution_count": null,
   "outputs": []
  },
  {
   "cell_type": "markdown",
   "source": "**Question 4.** We've loaded an array of temperatures in the next cell.  Each number is the highest temperature observed on a day at a climate observation station, mostly from the US.  Since they're from the US government agency [NOAA](https://www.noaa.gov/), all the temperatures are in Fahrenheit.\n\nConvert all the temperatures to Celsius by first subtracting 32 from them, then multiplying the results by $\\frac{5}{9}$, i.e. $C = (F - 32) * \\frac{5}{9}$. After converting the temperatures to Celsius, make sure to **ROUND** the final result  to the nearest integer using the `np.round` function. **(4 Points)**\n\n<!--\nBEGIN QUESTION\nname: q3_4\npoints:\n - 1\n - 1\n - 1\n - 1\n-->",
   "metadata": {
    "deletable": false,
    "editable": false,
    "cell_id": "00042-0f1de15a-58a8-43cb-aaca-5aa442764eed",
    "deepnote_cell_type": "markdown",
    "deepnote_cell_height": 192.39999389648438
   }
  },
  {
   "cell_type": "code",
   "metadata": {
    "cell_id": "00043-55e72523-4930-431f-ae13-557f5183bd38",
    "deepnote_cell_type": "code",
    "deepnote_cell_height": 120
   },
   "source": "max_temperatures = Table.read_table(\"temperatures.csv\").column(\"Daily Max Temperature\")\n\ncelsius_max_temperatures = ...\ncelsius_max_temperatures",
   "execution_count": null,
   "outputs": []
  },
  {
   "cell_type": "code",
   "metadata": {
    "deletable": false,
    "editable": false,
    "cell_id": "00044-e3bb2921-6d68-4f57-bb44-3f959b2e2949",
    "deepnote_cell_type": "code",
    "deepnote_cell_height": 66
   },
   "source": "grader.check(\"q3_4\")",
   "execution_count": null,
   "outputs": []
  },
  {
   "cell_type": "markdown",
   "source": "**Question 5.** The cell below loads all the *lowest* temperatures from each day (in Fahrenheit).  Compute the daily temperature range for each day. That is, compute the difference between each daily maximum temperature and the corresponding daily minimum temperature.  **Pay attention to the units and give your answer in Celsius!** Make sure **NOT** to round your answer for this question! **(4 Points)**\n\n*Note:* Remember that in Question 4, `celsius_max_temperatures` was rounded, so you might not want to use that variable in this question.\n\n\n<!--\nBEGIN QUESTION\nname: q3_5\npoints:\n - 0\n - 4\n - 0\n-->",
   "metadata": {
    "deletable": false,
    "editable": false,
    "cell_id": "00045-6840a57f-a520-423a-8a37-993424fa4d10",
    "deepnote_cell_type": "markdown",
    "deepnote_cell_height": 192.39999389648438
   }
  },
  {
   "cell_type": "code",
   "metadata": {
    "cell_id": "00046-18fd7bb5-48d6-4d2d-9659-60d85df097fc",
    "deepnote_cell_type": "code",
    "deepnote_cell_height": 120
   },
   "source": "min_temperatures = Table.read_table(\"temperatures.csv\").column(\"Daily Min Temperature\")\n\ncelsius_temperature_ranges = ...\ncelsius_temperature_ranges",
   "execution_count": null,
   "outputs": []
  },
  {
   "cell_type": "code",
   "metadata": {
    "deletable": false,
    "editable": false,
    "cell_id": "00047-b6c41dca-c409-43d9-9ddd-8915434a8150",
    "deepnote_cell_type": "code",
    "deepnote_cell_height": 66
   },
   "source": "grader.check(\"q3_5\")",
   "execution_count": null,
   "outputs": []
  },
  {
   "cell_type": "markdown",
   "source": "## 4. Old Faithful",
   "metadata": {
    "cell_id": "00048-1feb78ee-5023-44ab-bb1f-c6fa3a8d2863",
    "deepnote_cell_type": "markdown",
    "deepnote_cell_height": 70
   }
  },
  {
   "cell_type": "markdown",
   "source": "Old Faithful is a geyser in Yellowstone that erupts every 44 to 125 minutes (according to [Wikipedia](https://en.wikipedia.org/wiki/Old_Faithful)). People are [often told that the geyser erupts every hour](http://yellowstone.net/geysers/old-faithful/), but in fact the waiting time between eruptions is more variable. Let's take a look.",
   "metadata": {
    "cell_id": "00049-82fb3f64-4975-4dd5-9f27-b9e5c23002f4",
    "deepnote_cell_type": "markdown",
    "deepnote_cell_height": 74.80000305175781
   }
  },
  {
   "cell_type": "markdown",
   "source": "**Question 1.** The first line below assigns `waiting_times` to an array of 272 consecutive waiting times between eruptions, taken from a classic 1938 dataset. Assign the names `shortest`, `longest`, and `average` so that the `print` statement is correct. **(4 Points)**\n\n<!--\nBEGIN QUESTION\nname: q4_1\npoints:\n - 0\n - 0\n - 2\n - 2\n-->",
   "metadata": {
    "deletable": false,
    "editable": false,
    "cell_id": "00050-d6ee3d5a-2b2b-4b03-bab9-858b331b5512",
    "deepnote_cell_type": "markdown",
    "deepnote_cell_height": 111.19999694824219
   }
  },
  {
   "cell_type": "code",
   "metadata": {
    "cell_id": "00051-c260e75c-62c5-4417-8c4a-c8661f71360f",
    "deepnote_cell_type": "code",
    "deepnote_cell_height": 174
   },
   "source": "waiting_times = Table.read_table('old_faithful.csv').column('waiting')\n\nshortest = ...\nlongest = ...\naverage = ...\n\nprint(\"Old Faithful erupts every\", shortest, \"to\", longest, \"minutes and every\", average, \"minutes on average.\")",
   "execution_count": null,
   "outputs": []
  },
  {
   "cell_type": "code",
   "metadata": {
    "deletable": false,
    "editable": false,
    "cell_id": "00052-bda4d9a7-001e-46dc-bb45-f74a77d6f218",
    "deepnote_cell_type": "code",
    "deepnote_cell_height": 66
   },
   "source": "grader.check(\"q4_1\")",
   "execution_count": null,
   "outputs": []
  },
  {
   "cell_type": "markdown",
   "source": "**Question 2.** Assign `biggest_decrease` to the biggest decrease in waiting time between two consecutive eruptions. For example, the third eruption occurred after 74 minutes and the fourth after 62 minutes, so the decrease in waiting time was 74 - 62 = 12 minutes. **(4 Points)**\n\n*Hint*: We want to return the absolute value of the biggest decrease.\n\n*Note*: `np.diff()` calculates the difference between subsequent values in an array. For example, calling `np.diff()` on the array `make_array(1, 8, 3, 5)` evaluates to `array([8 - 1, 3 - 8, 5 - 3])`, or `array([7, -5, 2])`.\n\n<!--\nBEGIN QUESTION\nname: q4_2\npoints:\n - 0\n - 0\n - 4\n-->",
   "metadata": {
    "deletable": false,
    "editable": false,
    "cell_id": "00053-9131555e-5736-46d2-9c38-1eef7522584c",
    "deepnote_cell_type": "markdown",
    "deepnote_cell_height": 206.39999389648438
   }
  },
  {
   "cell_type": "code",
   "metadata": {
    "cell_id": "00054-395066c8-df41-4800-b75d-9c6a775278f6",
    "deepnote_cell_type": "code",
    "deepnote_cell_height": 138
   },
   "source": "# np.diff() calculates the difference between subsequent values  \n# in a NumPy array.\ndifferences = np.diff(waiting_times)\nbiggest_decrease = ...\nbiggest_decrease",
   "execution_count": null,
   "outputs": []
  },
  {
   "cell_type": "code",
   "metadata": {
    "deletable": false,
    "editable": false,
    "cell_id": "00055-6c900a18-f5b6-40b5-815c-7e189be16bb3",
    "deepnote_cell_type": "code",
    "deepnote_cell_height": 66
   },
   "source": "grader.check(\"q4_2\")",
   "execution_count": null,
   "outputs": []
  },
  {
   "cell_type": "markdown",
   "source": "**Question 3.** The `faithful_with_eruption_nums` table contains two columns: `eruption_number`, which represents the number of that eruption, and `waiting`, which represents the time spent waiting after that eruption. For example, take the first two rows of the table:\n\n| eruption number | waiting |\n|-----------------|---------|\n| 1               | 79      |\n| 2               | 54      |\n\nWe can read this as follows: after the first eruption, we waited 79 minutes for the second eruption. Then, after the second eruption, we waited 54 minutes for the third eruption.\n\nSuppose Oscar and Wendy started watching Old Faithful at the start of the first eruption. Assume that they watch until the end of the tenth eruption. For some of that time they will be watching eruptions, and for the rest of the time they will be waiting for Old Faithful to erupt. How many minutes will they spend waiting for eruptions? **(4 Points)**\n\n*Hint #1:* One way to approach this problem is to use the `take` or `where` method on the table `faithful_with_eruption_nums`. \n\n*Hint #2:* `first_nine_waiting_times` must be an array.\n\n<!--\nBEGIN QUESTION\nname: q4_3\npoints:\n - 0\n - 4\n-->",
   "metadata": {
    "deletable": false,
    "editable": false,
    "cell_id": "00056-ec6dca80-a343-4500-9771-4dc7e63fcf36",
    "deepnote_cell_type": "markdown",
    "deepnote_cell_height": 397.20001220703125
   }
  },
  {
   "cell_type": "code",
   "metadata": {
    "cell_id": "00057-74c692f6-54a3-4617-bbbf-58fd04e4f884",
    "deepnote_cell_type": "code",
    "deepnote_cell_height": 174
   },
   "source": "# The following two lines load in our faithful_with_eruption_nums table\nfaithful = Table.read_table('old_faithful.csv').drop(\"eruptions\")\nfaithful_with_eruption_nums = faithful.with_column(\"eruption number\", np.arange(faithful.num_rows) + 1).select(1, 0)\n\nfirst_nine_waiting_times = ...\ntotal_waiting_time_until_tenth = ...\ntotal_waiting_time_until_tenth",
   "execution_count": null,
   "outputs": []
  },
  {
   "cell_type": "code",
   "metadata": {
    "deletable": false,
    "editable": false,
    "cell_id": "00058-f87c0bd9-046b-4d63-91db-bb3134bffeaa",
    "deepnote_cell_type": "code",
    "deepnote_cell_height": 66
   },
   "source": "grader.check(\"q4_3\")",
   "execution_count": null,
   "outputs": []
  },
  {
   "cell_type": "markdown",
   "source": "**Question 4.** Let’s imagine your guess for the next waiting time was always just the length of the previous waiting time. If you always guessed the previous waiting time, how big would your error in guessing the waiting times be, on average? **(4 Points)**\n\nFor example, since the first four waiting times are 79, 54, 74, and 62, the average difference between your guess and the actual time for just the second, third, and fourth eruptions would be $\\frac{|79-54|+ |54-74|+ |74-62|}{3} = 19$.\n\n<!--\nBEGIN QUESTION\nname: q4_4\npoints:\n - 0\n - 4\n-->",
   "metadata": {
    "deletable": false,
    "editable": false,
    "cell_id": "00059-33e71e90-8bee-4676-a230-5eaad910ba49",
    "deepnote_cell_type": "markdown",
    "deepnote_cell_height": 148.26666259765625
   }
  },
  {
   "cell_type": "code",
   "metadata": {
    "cell_id": "00060-16819b09-e57c-436a-a2aa-25362d1690e0",
    "deepnote_cell_type": "code",
    "deepnote_cell_height": 102
   },
   "source": "differences = np.diff(waiting_times)\naverage_error = ...\naverage_error",
   "execution_count": null,
   "outputs": []
  },
  {
   "cell_type": "code",
   "metadata": {
    "deletable": false,
    "editable": false,
    "cell_id": "00061-c4398885-7062-446c-bdb1-9991242ad057",
    "deepnote_cell_type": "code",
    "deepnote_cell_height": 66
   },
   "source": "grader.check(\"q4_4\")",
   "execution_count": null,
   "outputs": []
  },
  {
   "cell_type": "markdown",
   "source": "## 5. Tables",
   "metadata": {
    "cell_id": "00062-eb3f0a8e-1323-4f8a-9cce-0bbd04f35d95",
    "deepnote_cell_type": "markdown",
    "deepnote_cell_height": 70
   }
  },
  {
   "cell_type": "markdown",
   "source": "**Question 1.** Suppose you have 4 apples, 3 oranges, and 3 pineapples.  (Perhaps you're using Python to solve a high school Algebra problem.)  Create a table that contains this information.  It should have two columns: `fruit name` and `count`.  Assign the new table to the variable `fruits`. **(4 Points)**\n\n*Note:* Use lower-case and singular words for the name of each fruit, like `\"apple\"`.\n\n<!--\nBEGIN QUESTION\nname: q5_1\npoints:\n - 4\n-->",
   "metadata": {
    "deletable": false,
    "editable": false,
    "cell_id": "00063-8a6c2813-b353-462e-aac0-6ace7b943005",
    "deepnote_cell_type": "markdown",
    "deepnote_cell_height": 147.60000610351562
   }
  },
  {
   "cell_type": "code",
   "metadata": {
    "cell_id": "00064-3d3f25b3-780b-4c8f-b016-57c17707317e",
    "deepnote_cell_type": "code",
    "deepnote_cell_height": 138
   },
   "source": "# Our solution uses 1 statement split over 3 lines.\nfruits = ...\n        ...\n        ...\nfruits",
   "execution_count": null,
   "outputs": []
  },
  {
   "cell_type": "code",
   "metadata": {
    "deletable": false,
    "editable": false,
    "cell_id": "00065-35c2b969-8772-4c1b-ae60-224b6374b359",
    "deepnote_cell_type": "code",
    "deepnote_cell_height": 66
   },
   "source": "grader.check(\"q5_1\")",
   "execution_count": null,
   "outputs": []
  },
  {
   "cell_type": "markdown",
   "source": "**Question 2.** The file `inventory.csv` contains information about the inventory at a fruit stand.  Each row represents the contents of one box of fruit. Load it as a table named `inventory` using the `Table.read_table()` function. `Table.read_table(...)` takes one argument (data file name in string format) and returns a table. **(4 Points)**\n\n<!--\nBEGIN QUESTION\nname: q5_2\npoints:\n - 4\n-->",
   "metadata": {
    "deletable": false,
    "editable": false,
    "cell_id": "00066-3524472f-48f7-45d5-8e8d-9f85e18eb051",
    "deepnote_cell_type": "markdown",
    "deepnote_cell_height": 111.19999694824219
   }
  },
  {
   "cell_type": "code",
   "metadata": {
    "cell_id": "00067-b6c56621-c032-4e8c-867d-4486a7817653",
    "deepnote_cell_type": "code",
    "deepnote_cell_height": 84
   },
   "source": "inventory = ...\ninventory",
   "execution_count": null,
   "outputs": []
  },
  {
   "cell_type": "code",
   "metadata": {
    "deletable": false,
    "editable": false,
    "cell_id": "00068-8b2f0636-f455-4a68-a3fa-317c2866ba0c",
    "deepnote_cell_type": "code",
    "deepnote_cell_height": 66
   },
   "source": "grader.check(\"q5_2\")",
   "execution_count": null,
   "outputs": []
  },
  {
   "cell_type": "markdown",
   "source": "**Question 3.** Does each box at the fruit stand contain a different fruit? Set `all_different` to `True` if each box contains a different fruit or to `False` if multiple boxes contain the same fruit. **(4 Points)**\n\n*Hint:* You don't have to write code to calculate the True/False value for `all_different`. Just look at the `inventory` table and assign `all_different` to either `True` or `False` according to what you can see from the table in answering the question.\n\n<!--\nBEGIN QUESTION\nname: q5_3\npoints:\n - 0\n - 4\n-->",
   "metadata": {
    "deletable": false,
    "editable": false,
    "cell_id": "00069-70efd149-2a3f-4944-a0eb-bce521f886d9",
    "deepnote_cell_type": "markdown",
    "deepnote_cell_height": 147.60000610351562
   }
  },
  {
   "cell_type": "code",
   "metadata": {
    "cell_id": "00070-f2c99078-92ac-4198-869d-928cc4ef38e0",
    "deepnote_cell_type": "code",
    "deepnote_cell_height": 84
   },
   "source": "all_different = ...\nall_different",
   "execution_count": null,
   "outputs": []
  },
  {
   "cell_type": "code",
   "metadata": {
    "deletable": false,
    "editable": false,
    "cell_id": "00071-ba3eec25-e9f4-4e8a-bedb-f136f9c25f9f",
    "deepnote_cell_type": "code",
    "deepnote_cell_height": 66
   },
   "source": "grader.check(\"q5_3\")",
   "execution_count": null,
   "outputs": []
  },
  {
   "cell_type": "markdown",
   "source": "**Question 4.** The file `sales.csv` contains the number of fruit sold from each box last Saturday.  It has an extra column called `price per fruit ($)` that's the price *per item of fruit* for fruit in that box.  The rows are in the same order as the `inventory` table.  Load these data into a table called `sales`. **(5 Points)**\n\n<!--\nBEGIN QUESTION\nname: q5_4\npoints:\n - 5\n-->",
   "metadata": {
    "deletable": false,
    "editable": false,
    "cell_id": "00072-24c343bf-8a7b-4d7c-a68b-e2767a0c4dce",
    "deepnote_cell_type": "markdown",
    "deepnote_cell_height": 111.19999694824219
   }
  },
  {
   "cell_type": "code",
   "metadata": {
    "cell_id": "00073-2fc90dfa-ca86-42c6-96c2-30d1863156ee",
    "deepnote_cell_type": "code",
    "deepnote_cell_height": 84
   },
   "source": "sales = ...\nsales",
   "execution_count": null,
   "outputs": []
  },
  {
   "cell_type": "code",
   "metadata": {
    "deletable": false,
    "editable": false,
    "cell_id": "00074-c1a57aaf-1287-4c3e-8963-0d78a38361cb",
    "deepnote_cell_type": "code",
    "deepnote_cell_height": 66
   },
   "source": "grader.check(\"q5_4\")",
   "execution_count": null,
   "outputs": []
  },
  {
   "cell_type": "markdown",
   "source": "**Question 5.** How many fruits did the store sell in total on that day? **(5 Points)**\n\n<!--\nBEGIN QUESTION\nname: q5_5\npoints:\n - 0\n - 5\n-->",
   "metadata": {
    "deletable": false,
    "editable": false,
    "cell_id": "00075-80a8d912-d450-45de-9eeb-831820c1ae9d",
    "deepnote_cell_type": "markdown",
    "deepnote_cell_height": 66.39999389648438
   }
  },
  {
   "cell_type": "code",
   "metadata": {
    "cell_id": "00076-59b80c2c-73e6-40ce-ba5c-97b295a9fbf7",
    "deepnote_cell_type": "code",
    "deepnote_cell_height": 84
   },
   "source": "total_fruits_sold = ...\ntotal_fruits_sold",
   "execution_count": null,
   "outputs": []
  },
  {
   "cell_type": "code",
   "metadata": {
    "deletable": false,
    "editable": false,
    "cell_id": "00077-7123607c-9d76-467b-b064-a63a5011fd97",
    "deepnote_cell_type": "code",
    "deepnote_cell_height": 66
   },
   "source": "grader.check(\"q5_5\")",
   "execution_count": null,
   "outputs": []
  },
  {
   "cell_type": "markdown",
   "source": "**Question 6.** What was the store's total revenue (the total price of all fruits sold) on that day? **(5 Points)**\n\n*Hint:* If you're stuck, think first about how you would compute the total revenue from just the grape sales.\n\n<!--\nBEGIN QUESTION\nname: q5_6\npoints:\n - 0\n - 5\n-->",
   "metadata": {
    "deletable": false,
    "editable": false,
    "cell_id": "00078-de87819a-d375-4524-9f9c-72a836bfbdad",
    "deepnote_cell_type": "markdown",
    "deepnote_cell_height": 102.80000305175781
   }
  },
  {
   "cell_type": "code",
   "metadata": {
    "cell_id": "00079-61aa3031-20f6-47c9-9122-b14367449830",
    "deepnote_cell_type": "code",
    "deepnote_cell_height": 84
   },
   "source": "total_revenue = ...\ntotal_revenue",
   "execution_count": null,
   "outputs": []
  },
  {
   "cell_type": "code",
   "metadata": {
    "deletable": false,
    "editable": false,
    "cell_id": "00080-16ad474e-5624-4ce2-95af-14a1633f7ea0",
    "deepnote_cell_type": "code",
    "deepnote_cell_height": 66
   },
   "source": "grader.check(\"q5_6\")",
   "execution_count": null,
   "outputs": []
  },
  {
   "cell_type": "markdown",
   "source": "**Question 7.** Make a new table called `remaining_inventory`.  It should have the same rows and columns as `inventory`, except that the amount of fruit sold from each box should be subtracted from that box's **original** count, so that the `count` column is **updated to be** the amount of fruit remaining after Saturday. **(5 Points)**\n\n<!--\nBEGIN QUESTION\nname: q5_7\npoints:\n - 0\n - 2\n - 3\n-->",
   "metadata": {
    "deletable": false,
    "editable": false,
    "cell_id": "00081-c905ea34-9c47-477a-b886-128f408ed3d7",
    "deepnote_cell_type": "markdown",
    "deepnote_cell_height": 111.19999694824219
   }
  },
  {
   "cell_type": "code",
   "metadata": {
    "cell_id": "00082-77632a05-f4ec-4820-a0db-29bd55196f78",
    "deepnote_cell_type": "code",
    "deepnote_cell_height": 138
   },
   "source": "remaining_inventory = ...\n    ...\n    ...\n    ...\nremaining_inventory",
   "execution_count": null,
   "outputs": []
  },
  {
   "cell_type": "code",
   "metadata": {
    "deletable": false,
    "editable": false,
    "cell_id": "00083-3eb70b17-fcc3-4695-a4c1-1b881e4410a1",
    "deepnote_cell_type": "code",
    "deepnote_cell_height": 66
   },
   "source": "grader.check(\"q5_7\")",
   "execution_count": null,
   "outputs": []
  },
  {
   "cell_type": "markdown",
   "source": "You're done with Homework 2!  \n\n**Important submission information:** Be sure to run the tests and verify that they all pass, then choose **Save Notebook** from the **File** menu, then **run the final cell** and click the link to download the zip file. Then, go to [Gradescope](https://www.gradescope.com/courses/349879) and submit the zip file to the corresponding assignment. The name of this assignment is \"Homework 02 Autograder\". **It is your responsibility to make sure your work is saved before running the last cell.**\n\nOnce you have submitted, your Gradescope assignment should show you passing all the tests you passed in your assignment notebook.",
   "metadata": {
    "cell_id": "00084-5ccb2602-118e-4cb7-8181-1f626e579068",
    "owner_user_id": "80fe8cbc-043d-4a7e-9c6f-799b39be207a",
    "deepnote_cell_type": "markdown",
    "deepnote_cell_height": 214.8000030517578
   }
  },
  {
   "cell_type": "markdown",
   "source": "---\n\nTo double-check your work, the cell below will rerun all of the autograder tests.",
   "metadata": {
    "deletable": false,
    "editable": false,
    "cell_id": "00085-a5a4e7ac-2b1b-4d68-96df-8220450a4023",
    "deepnote_cell_type": "markdown",
    "deepnote_cell_height": 53.399993896484375
   }
  },
  {
   "cell_type": "code",
   "metadata": {
    "deletable": false,
    "editable": false,
    "cell_id": "00086-a7992fd4-3932-42aa-b7cc-97abca10678b",
    "deepnote_cell_type": "code",
    "deepnote_cell_height": 66
   },
   "source": "grader.check_all()",
   "execution_count": null,
   "outputs": []
  },
  {
   "cell_type": "markdown",
   "source": "## Submission\n\nMake sure you have run all cells in your notebook in order before running the cell below, so that all images/graphs appear in the output. The cell below will generate a zip file for you to submit. **Please save before exporting!**",
   "metadata": {
    "deletable": false,
    "editable": false,
    "cell_id": "00087-98ed5004-8ed0-4018-9807-6e7137fdf435",
    "deepnote_cell_type": "markdown",
    "deepnote_cell_height": 130.8000030517578
   }
  },
  {
   "cell_type": "code",
   "metadata": {
    "deletable": false,
    "editable": false,
    "cell_id": "00088-39db08ff-1b42-4050-ab4f-e5daefc233f0",
    "deepnote_cell_type": "code",
    "deepnote_cell_height": 84
   },
   "source": "# Save your notebook first, then run this cell to export your submission.\ngrader.export(pdf=False)",
   "execution_count": null,
   "outputs": []
  },
  {
   "cell_type": "markdown",
   "source": " ",
   "metadata": {
    "cell_id": "00089-e3b9da00-c368-4755-9981-b9dc726a79c4",
    "deepnote_cell_type": "markdown",
    "deepnote_cell_height": 46
   }
  },
  {
   "cell_type": "markdown",
   "source": "<a style='text-decoration:none;line-height:16px;display:flex;color:#5B5B62;padding:10px;justify-content:end;' href='https://deepnote.com?utm_source=created-in-deepnote-cell&projectId=ef6c0823-e062-4ba0-8bfb-7690ef03f945' target=\"_blank\">\n<img alt='Created in deepnote.com' style='display:inline;max-height:16px;margin:0px;margin-right:7.5px;' src='data:image/svg+xml;base64,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' > </img>\nCreated in <span style='font-weight:600;margin-left:4px;'>Deepnote</span></a>",
   "metadata": {
    "tags": [],
    "created_in_deepnote_cell": true,
    "deepnote_cell_type": "markdown"
   }
  }
 ],
 "nbformat": 4,
 "nbformat_minor": 5,
 "metadata": {
  "kernelspec": {
   "display_name": "Python 3 (ipykernel)",
   "language": "python",
   "name": "python3"
  },
  "language_info": {
   "codemirror_mode": {
    "name": "ipython",
    "version": 3
   },
   "file_extension": ".py",
   "mimetype": "text/x-python",
   "name": "python",
   "nbconvert_exporter": "python",
   "pygments_lexer": "ipython3",
   "version": "3.7.3"
  },
  "deepnote_notebook_id": "df0491fd-5724-438c-9e3f-5d616afa8b5a",
  "deepnote": {},
  "deepnote_execution_queue": []
 }
}