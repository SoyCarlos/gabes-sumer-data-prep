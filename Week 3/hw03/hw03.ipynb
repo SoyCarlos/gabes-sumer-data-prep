{
 "cells": [
  {
   "cell_type": "code",
   "metadata": {
    "deletable": false,
    "editable": false,
    "cell_id": "c7e71037-5c7f-4fad-aa69-d7caf1f8fce5",
    "deepnote_to_be_reexecuted": false,
    "source_hash": "ebbf33c3",
    "execution_start": 1658964411013,
    "execution_millis": 9856,
    "deepnote_cell_type": "code",
    "deepnote_cell_height": 786
   },
   "source": "# Initialize Otter\n!pip install datascience\n!pip install otter-grader\n!pip install ipywidgets\nimport otter\ngrader = otter.Notebook(\"hw03.ipynb\")",
   "execution_count": null,
   "outputs": [
    {
     "name": "stdout",
     "text": "Requirement already satisfied: datascience in /shared-libs/python3.9/py/lib/python3.9/site-packages (0.17.2)\nRequirement already satisfied: plotly in /shared-libs/python3.9/py/lib/python3.9/site-packages (from datascience) (5.8.1)\nRequirement already satisfied: branca in /shared-libs/python3.9/py/lib/python3.9/site-packages (from datascience) (0.5.0)\nRequirement already satisfied: scipy in /shared-libs/python3.9/py/lib/python3.9/site-packages (from datascience) (1.8.1)\nRequirement already satisfied: pandas in /shared-libs/python3.9/py/lib/python3.9/site-packages (from datascience) (1.2.5)\nRequirement already satisfied: numpy in /shared-libs/python3.9/py/lib/python3.9/site-packages (from datascience) (1.22.4)\nRequirement already satisfied: folium>=0.9.1 in /shared-libs/python3.9/py/lib/python3.9/site-packages (from datascience) (0.12.1.post1)\nRequirement already satisfied: setuptools in /root/venv/lib/python3.9/site-packages (from datascience) (58.1.0)\nRequirement already satisfied: ipython in /shared-libs/python3.9/py-core/lib/python3.9/site-packages (from datascience) (7.34.0)\nRequirement already satisfied: matplotlib>=3.0.0 in /shared-libs/python3.9/py/lib/python3.9/site-packages (from datascience) (3.5.2)\nRequirement already satisfied: requests in /shared-libs/python3.9/py/lib/python3.9/site-packages (from folium>=0.9.1->datascience) (2.27.1)\nRequirement already satisfied: jinja2>=2.9 in /shared-libs/python3.9/py-core/lib/python3.9/site-packages (from folium>=0.9.1->datascience) (2.11.3)\nRequirement already satisfied: python-dateutil>=2.7 in /shared-libs/python3.9/py-core/lib/python3.9/site-packages (from matplotlib>=3.0.0->datascience) (2.8.2)\nRequirement already satisfied: pillow>=6.2.0 in /shared-libs/python3.9/py/lib/python3.9/site-packages (from matplotlib>=3.0.0->datascience) (9.1.1)\nRequirement already satisfied: pyparsing>=2.2.1 in /shared-libs/python3.9/py/lib/python3.9/site-packages (from matplotlib>=3.0.0->datascience) (3.0.9)\nRequirement already satisfied: packaging>=20.0 in /shared-libs/python3.9/py/lib/python3.9/site-packages (from matplotlib>=3.0.0->datascience) (21.3)\nRequirement already satisfied: cycler>=0.10 in /shared-libs/python3.9/py/lib/python3.9/site-packages (from matplotlib>=3.0.0->datascience) (0.11.0)\nRequirement already satisfied: fonttools>=4.22.0 in /shared-libs/python3.9/py/lib/python3.9/site-packages (from matplotlib>=3.0.0->datascience) (4.33.3)\nRequirement already satisfied: kiwisolver>=1.0.1 in /shared-libs/python3.9/py/lib/python3.9/site-packages (from matplotlib>=3.0.0->datascience) (1.4.2)\nRequirement already satisfied: jedi>=0.16 in /shared-libs/python3.9/py-core/lib/python3.9/site-packages (from ipython->datascience) (0.17.2)\nRequirement already satisfied: prompt-toolkit!=3.0.0,!=3.0.1,<3.1.0,>=2.0.0 in /shared-libs/python3.9/py-core/lib/python3.9/site-packages (from ipython->datascience) (3.0.29)\nRequirement already satisfied: matplotlib-inline in /shared-libs/python3.9/py-core/lib/python3.9/site-packages (from ipython->datascience) (0.1.3)\nRequirement already satisfied: traitlets>=4.2 in /shared-libs/python3.9/py-core/lib/python3.9/site-packages (from ipython->datascience) (4.3.3)\nRequirement already satisfied: pygments in /shared-libs/python3.9/py-core/lib/python3.9/site-packages (from ipython->datascience) (2.12.0)\nRequirement already satisfied: pickleshare in /shared-libs/python3.9/py-core/lib/python3.9/site-packages (from ipython->datascience) (0.7.5)\nRequirement already satisfied: decorator in /shared-libs/python3.9/py-core/lib/python3.9/site-packages (from ipython->datascience) (5.1.1)\nRequirement already satisfied: backcall in /shared-libs/python3.9/py-core/lib/python3.9/site-packages (from ipython->datascience) (0.2.0)\nRequirement already satisfied: pexpect>4.3 in /shared-libs/python3.9/py-core/lib/python3.9/site-packages (from ipython->datascience) (4.8.0)\nRequirement already satisfied: pytz>=2017.3 in /shared-libs/python3.9/py/lib/python3.9/site-packages (from pandas->datascience) (2022.1)\nRequirement already satisfied: tenacity>=6.2.0 in /shared-libs/python3.9/py/lib/python3.9/site-packages (from plotly->datascience) (8.0.1)\nRequirement already satisfied: parso<0.8.0,>=0.7.0 in /shared-libs/python3.9/py-core/lib/python3.9/site-packages (from jedi>=0.16->ipython->datascience) (0.7.1)\nRequirement already satisfied: MarkupSafe>=0.23 in /shared-libs/python3.9/py-core/lib/python3.9/site-packages (from jinja2>=2.9->folium>=0.9.1->datascience) (2.0.1)\nRequirement already satisfied: ptyprocess>=0.5 in /shared-libs/python3.9/py-core/lib/python3.9/site-packages (from pexpect>4.3->ipython->datascience) (0.7.0)\nRequirement already satisfied: wcwidth in /shared-libs/python3.9/py-core/lib/python3.9/site-packages (from prompt-toolkit!=3.0.0,!=3.0.1,<3.1.0,>=2.0.0->ipython->datascience) (0.2.5)\nRequirement already satisfied: six>=1.5 in /shared-libs/python3.9/py-core/lib/python3.9/site-packages (from python-dateutil>=2.7->matplotlib>=3.0.0->datascience) (1.16.0)\nRequirement already satisfied: ipython-genutils in /shared-libs/python3.9/py-core/lib/python3.9/site-packages (from traitlets>=4.2->ipython->datascience) (0.2.0)\nRequirement already satisfied: charset-normalizer~=2.0.0 in /shared-libs/python3.9/py-core/lib/python3.9/site-packages (from requests->folium>=0.9.1->datascience) (2.0.12)\nRequirement already satisfied: idna<4,>=2.5 in /shared-libs/python3.9/py-core/lib/python3.9/site-packages (from requests->folium>=0.9.1->datascience) (3.3)\nRequirement already satisfied: certifi>=2017.4.17 in /shared-libs/python3.9/py/lib/python3.9/site-packages (from requests->folium>=0.9.1->datascience) (2022.5.18.1)\nRequirement already satisfied: urllib3<1.27,>=1.21.1 in /shared-libs/python3.9/py/lib/python3.9/site-packages (from requests->folium>=0.9.1->datascience) (1.26.9)\n\u001b[33mWARNING: You are using pip version 22.0.4; however, version 22.2.1 is available.\nYou should consider upgrading via the '/root/venv/bin/python -m pip install --upgrade pip' command.\u001b[0m\u001b[33m\n\u001b[0mRequirement already satisfied: otter-grader in /root/venv/lib/python3.9/site-packages (3.3.0)\nRequirement already satisfied: google-auth-oauthlib in /shared-libs/python3.9/py/lib/python3.9/site-packages (from otter-grader) (0.4.6)\nRequirement already satisfied: google-api-python-client in /root/venv/lib/python3.9/site-packages (from otter-grader) (2.55.0)\nRequirement already satisfied: ipykernel in /shared-libs/python3.9/py-core/lib/python3.9/site-packages (from otter-grader) (5.5.5)\nRequirement already satisfied: dill in /shared-libs/python3.9/py/lib/python3.9/site-packages (from otter-grader) (0.3.5.1)\nRequirement already satisfied: matplotlib in /shared-libs/python3.9/py/lib/python3.9/site-packages (from otter-grader) (3.5.2)\nRequirement already satisfied: nbformat in /shared-libs/python3.9/py-core/lib/python3.9/site-packages (from otter-grader) (5.1.3)\nRequirement already satisfied: jupyter-client in /shared-libs/python3.9/py-core/lib/python3.9/site-packages (from otter-grader) (6.1.12)\nRequirement already satisfied: requests in /shared-libs/python3.9/py/lib/python3.9/site-packages (from otter-grader) (2.27.1)\nRequirement already satisfied: jinja2 in /shared-libs/python3.9/py-core/lib/python3.9/site-packages (from otter-grader) (2.11.3)\nRequirement already satisfied: PyPDF2 in /root/venv/lib/python3.9/site-packages (from otter-grader) (2.8.1)\nRequirement already satisfied: six in /shared-libs/python3.9/py-core/lib/python3.9/site-packages (from otter-grader) (1.16.0)\nRequirement already satisfied: nbconvert in /shared-libs/python3.9/py-core/lib/python3.9/site-packages (from otter-grader) (6.0.7)\nRequirement already satisfied: pdfkit in /root/venv/lib/python3.9/site-packages (from otter-grader) (1.0.0)\nRequirement already satisfied: python-on-whales in /root/venv/lib/python3.9/site-packages (from otter-grader) (0.50.0)\nRequirement already satisfied: PyYAML in /root/venv/lib/python3.9/site-packages (from otter-grader) (6.0)\nRequirement already satisfied: pandas in /shared-libs/python3.9/py/lib/python3.9/site-packages (from otter-grader) (1.2.5)\nRequirement already satisfied: gspread in /root/venv/lib/python3.9/site-packages (from otter-grader) (5.4.0)\nRequirement already satisfied: google-api-core!=2.0.*,!=2.1.*,!=2.2.*,!=2.3.0,<3.0.0dev,>=1.31.5 in /shared-libs/python3.9/py/lib/python3.9/site-packages (from google-api-python-client->otter-grader) (2.8.1)\nRequirement already satisfied: google-auth-httplib2>=0.1.0 in /root/venv/lib/python3.9/site-packages (from google-api-python-client->otter-grader) (0.1.0)\nRequirement already satisfied: google-auth<3.0.0dev,>=1.19.0 in /shared-libs/python3.9/py/lib/python3.9/site-packages (from google-api-python-client->otter-grader) (2.7.0)\nRequirement already satisfied: uritemplate<5,>=3.0.1 in /root/venv/lib/python3.9/site-packages (from google-api-python-client->otter-grader) (4.1.1)\nRequirement already satisfied: httplib2<1dev,>=0.15.0 in /root/venv/lib/python3.9/site-packages (from google-api-python-client->otter-grader) (0.20.4)\nRequirement already satisfied: requests-oauthlib>=0.7.0 in /shared-libs/python3.9/py/lib/python3.9/site-packages (from google-auth-oauthlib->otter-grader) (1.3.1)\nRequirement already satisfied: traitlets>=4.1.0 in /shared-libs/python3.9/py-core/lib/python3.9/site-packages (from ipykernel->otter-grader) (4.3.3)\nRequirement already satisfied: ipython>=5.0.0 in /shared-libs/python3.9/py-core/lib/python3.9/site-packages (from ipykernel->otter-grader) (7.34.0)\nRequirement already satisfied: tornado>=4.2 in /shared-libs/python3.9/py-core/lib/python3.9/site-packages (from ipykernel->otter-grader) (6.1)\nRequirement already satisfied: MarkupSafe>=0.23 in /shared-libs/python3.9/py-core/lib/python3.9/site-packages (from jinja2->otter-grader) (2.0.1)\nRequirement already satisfied: pyzmq>=13 in /shared-libs/python3.9/py-core/lib/python3.9/site-packages (from jupyter-client->otter-grader) (23.1.0)\nRequirement already satisfied: python-dateutil>=2.1 in /shared-libs/python3.9/py-core/lib/python3.9/site-packages (from jupyter-client->otter-grader) (2.8.2)\nRequirement already satisfied: jupyter-core>=4.6.0 in /shared-libs/python3.9/py-core/lib/python3.9/site-packages (from jupyter-client->otter-grader) (4.7.1)\nRequirement already satisfied: fonttools>=4.22.0 in /shared-libs/python3.9/py/lib/python3.9/site-packages (from matplotlib->otter-grader) (4.33.3)\nRequirement already satisfied: pyparsing>=2.2.1 in /shared-libs/python3.9/py/lib/python3.9/site-packages (from matplotlib->otter-grader) (3.0.9)\nRequirement already satisfied: packaging>=20.0 in /shared-libs/python3.9/py/lib/python3.9/site-packages (from matplotlib->otter-grader) (21.3)\nRequirement already satisfied: cycler>=0.10 in /shared-libs/python3.9/py/lib/python3.9/site-packages (from matplotlib->otter-grader) (0.11.0)\nRequirement already satisfied: pillow>=6.2.0 in /shared-libs/python3.9/py/lib/python3.9/site-packages (from matplotlib->otter-grader) (9.1.1)\nRequirement already satisfied: numpy>=1.17 in /shared-libs/python3.9/py/lib/python3.9/site-packages (from matplotlib->otter-grader) (1.22.4)\nRequirement already satisfied: kiwisolver>=1.0.1 in /shared-libs/python3.9/py/lib/python3.9/site-packages (from matplotlib->otter-grader) (1.4.2)\nRequirement already satisfied: nbclient<0.6.0,>=0.5.0 in /shared-libs/python3.9/py-core/lib/python3.9/site-packages (from nbconvert->otter-grader) (0.5.9)\nRequirement already satisfied: defusedxml in /shared-libs/python3.9/py-core/lib/python3.9/site-packages (from nbconvert->otter-grader) (0.7.1)\nRequirement already satisfied: jupyterlab-pygments in /shared-libs/python3.9/py-core/lib/python3.9/site-packages (from nbconvert->otter-grader) (0.2.2)\nRequirement already satisfied: pandocfilters>=1.4.1 in /shared-libs/python3.9/py-core/lib/python3.9/site-packages (from nbconvert->otter-grader) (1.5.0)\nRequirement already satisfied: testpath in /shared-libs/python3.9/py-core/lib/python3.9/site-packages (from nbconvert->otter-grader) (0.6.0)\nRequirement already satisfied: entrypoints>=0.2.2 in /shared-libs/python3.9/py-core/lib/python3.9/site-packages (from nbconvert->otter-grader) (0.4)\nRequirement already satisfied: bleach in /shared-libs/python3.9/py-core/lib/python3.9/site-packages (from nbconvert->otter-grader) (5.0.0)\nRequirement already satisfied: mistune<2,>=0.8.1 in /shared-libs/python3.9/py-core/lib/python3.9/site-packages (from nbconvert->otter-grader) (0.8.4)\nRequirement already satisfied: pygments>=2.4.1 in /shared-libs/python3.9/py-core/lib/python3.9/site-packages (from nbconvert->otter-grader) (2.12.0)\nRequirement already satisfied: jsonschema!=2.5.0,>=2.4 in /shared-libs/python3.9/py-core/lib/python3.9/site-packages (from nbformat->otter-grader) (3.2.0)\nRequirement already satisfied: ipython-genutils in /shared-libs/python3.9/py-core/lib/python3.9/site-packages (from nbformat->otter-grader) (0.2.0)\nRequirement already satisfied: pytz>=2017.3 in /shared-libs/python3.9/py/lib/python3.9/site-packages (from pandas->otter-grader) (2022.1)\nRequirement already satisfied: typing-extensions in /shared-libs/python3.9/py/lib/python3.9/site-packages (from PyPDF2->otter-grader) (4.2.0)\nRequirement already satisfied: pydantic in /shared-libs/python3.9/py/lib/python3.9/site-packages (from python-on-whales->otter-grader) (1.8.2)\nRequirement already satisfied: typer>=0.4.1 in /shared-libs/python3.9/py/lib/python3.9/site-packages (from python-on-whales->otter-grader) (0.4.1)\nRequirement already satisfied: tqdm in /shared-libs/python3.9/py/lib/python3.9/site-packages (from python-on-whales->otter-grader) (4.64.0)\nRequirement already satisfied: idna<4,>=2.5 in /shared-libs/python3.9/py-core/lib/python3.9/site-packages (from requests->otter-grader) (3.3)\nRequirement already satisfied: certifi>=2017.4.17 in /shared-libs/python3.9/py/lib/python3.9/site-packages (from requests->otter-grader) (2022.5.18.1)\nRequirement already satisfied: charset-normalizer~=2.0.0 in /shared-libs/python3.9/py-core/lib/python3.9/site-packages (from requests->otter-grader) (2.0.12)\nRequirement already satisfied: urllib3<1.27,>=1.21.1 in /shared-libs/python3.9/py/lib/python3.9/site-packages (from requests->otter-grader) (1.26.9)\nRequirement already satisfied: googleapis-common-protos<2.0dev,>=1.56.2 in /shared-libs/python3.9/py/lib/python3.9/site-packages (from google-api-core!=2.0.*,!=2.1.*,!=2.2.*,!=2.3.0,<3.0.0dev,>=1.31.5->google-api-python-client->otter-grader) (1.56.2)\nRequirement already satisfied: protobuf<4.0.0dev,>=3.15.0 in /shared-libs/python3.9/py/lib/python3.9/site-packages (from google-api-core!=2.0.*,!=2.1.*,!=2.2.*,!=2.3.0,<3.0.0dev,>=1.31.5->google-api-python-client->otter-grader) (3.19.4)\nRequirement already satisfied: pyasn1-modules>=0.2.1 in /shared-libs/python3.9/py/lib/python3.9/site-packages (from google-auth<3.0.0dev,>=1.19.0->google-api-python-client->otter-grader) (0.2.8)\nRequirement already satisfied: rsa<5,>=3.1.4 in /shared-libs/python3.9/py/lib/python3.9/site-packages (from google-auth<3.0.0dev,>=1.19.0->google-api-python-client->otter-grader) (4.8)\nRequirement already satisfied: cachetools<6.0,>=2.0.0 in /shared-libs/python3.9/py/lib/python3.9/site-packages (from google-auth<3.0.0dev,>=1.19.0->google-api-python-client->otter-grader) (5.2.0)\nRequirement already satisfied: backcall in /shared-libs/python3.9/py-core/lib/python3.9/site-packages (from ipython>=5.0.0->ipykernel->otter-grader) (0.2.0)\nRequirement already satisfied: matplotlib-inline in /shared-libs/python3.9/py-core/lib/python3.9/site-packages (from ipython>=5.0.0->ipykernel->otter-grader) (0.1.3)\nRequirement already satisfied: pickleshare in /shared-libs/python3.9/py-core/lib/python3.9/site-packages (from ipython>=5.0.0->ipykernel->otter-grader) (0.7.5)\nRequirement already satisfied: prompt-toolkit!=3.0.0,!=3.0.1,<3.1.0,>=2.0.0 in /shared-libs/python3.9/py-core/lib/python3.9/site-packages (from ipython>=5.0.0->ipykernel->otter-grader) (3.0.29)\nRequirement already satisfied: setuptools>=18.5 in /root/venv/lib/python3.9/site-packages (from ipython>=5.0.0->ipykernel->otter-grader) (58.1.0)\nRequirement already satisfied: pexpect>4.3 in /shared-libs/python3.9/py-core/lib/python3.9/site-packages (from ipython>=5.0.0->ipykernel->otter-grader) (4.8.0)\nRequirement already satisfied: decorator in /shared-libs/python3.9/py-core/lib/python3.9/site-packages (from ipython>=5.0.0->ipykernel->otter-grader) (5.1.1)\nRequirement already satisfied: jedi>=0.16 in /shared-libs/python3.9/py-core/lib/python3.9/site-packages (from ipython>=5.0.0->ipykernel->otter-grader) (0.17.2)\nRequirement already satisfied: pyrsistent>=0.14.0 in /shared-libs/python3.9/py-core/lib/python3.9/site-packages (from jsonschema!=2.5.0,>=2.4->nbformat->otter-grader) (0.18.1)\nRequirement already satisfied: attrs>=17.4.0 in /shared-libs/python3.9/py-core/lib/python3.9/site-packages (from jsonschema!=2.5.0,>=2.4->nbformat->otter-grader) (21.4.0)\nRequirement already satisfied: nest-asyncio in /shared-libs/python3.9/py-core/lib/python3.9/site-packages (from nbclient<0.6.0,>=0.5.0->nbconvert->otter-grader) (1.5.5)\nRequirement already satisfied: oauthlib>=3.0.0 in /shared-libs/python3.9/py/lib/python3.9/site-packages (from requests-oauthlib>=0.7.0->google-auth-oauthlib->otter-grader) (3.2.0)\nRequirement already satisfied: click<9.0.0,>=7.1.1 in /shared-libs/python3.9/py/lib/python3.9/site-packages (from typer>=0.4.1->python-on-whales->otter-grader) (8.1.3)\nRequirement already satisfied: webencodings in /shared-libs/python3.9/py-core/lib/python3.9/site-packages (from bleach->nbconvert->otter-grader) (0.5.1)\nRequirement already satisfied: parso<0.8.0,>=0.7.0 in /shared-libs/python3.9/py-core/lib/python3.9/site-packages (from jedi>=0.16->ipython>=5.0.0->ipykernel->otter-grader) (0.7.1)\nRequirement already satisfied: ptyprocess>=0.5 in /shared-libs/python3.9/py-core/lib/python3.9/site-packages (from pexpect>4.3->ipython>=5.0.0->ipykernel->otter-grader) (0.7.0)\nRequirement already satisfied: wcwidth in /shared-libs/python3.9/py-core/lib/python3.9/site-packages (from prompt-toolkit!=3.0.0,!=3.0.1,<3.1.0,>=2.0.0->ipython>=5.0.0->ipykernel->otter-grader) (0.2.5)\nRequirement already satisfied: pyasn1<0.5.0,>=0.4.6 in /shared-libs/python3.9/py/lib/python3.9/site-packages (from pyasn1-modules>=0.2.1->google-auth<3.0.0dev,>=1.19.0->google-api-python-client->otter-grader) (0.4.8)\n\u001b[33mWARNING: You are using pip version 22.0.4; however, version 22.2.1 is available.\nYou should consider upgrading via the '/root/venv/bin/python -m pip install --upgrade pip' command.\u001b[0m\u001b[33m\n\u001b[0mCollecting ipywidgets\n  Downloading ipywidgets-7.7.1-py2.py3-none-any.whl (123 kB)\n\u001b[2K     \u001b[90m━━━━━━━━━━━━━━━━━━━━━━━━━━━━━━━━━━━━━━\u001b[0m \u001b[32m123.4/123.4 KB\u001b[0m \u001b[31m20.6 MB/s\u001b[0m eta \u001b[36m0:00:00\u001b[0m\n\u001b[?25hRequirement already satisfied: ipython>=4.0.0 in /shared-libs/python3.9/py-core/lib/python3.9/site-packages (from ipywidgets) (7.34.0)\nCollecting jupyterlab-widgets>=1.0.0\n  Downloading jupyterlab_widgets-1.1.1-py3-none-any.whl (245 kB)\n\u001b[2K     \u001b[90m━━━━━━━━━━━━━━━━━━━━━━━━━━━━━━━━━━━━━━\u001b[0m \u001b[32m245.3/245.3 KB\u001b[0m \u001b[31m47.0 MB/s\u001b[0m eta \u001b[36m0:00:00\u001b[0m\n\u001b[?25hRequirement already satisfied: ipykernel>=4.5.1 in /shared-libs/python3.9/py-core/lib/python3.9/site-packages (from ipywidgets) (5.5.5)\nRequirement already satisfied: ipython-genutils~=0.2.0 in /shared-libs/python3.9/py-core/lib/python3.9/site-packages (from ipywidgets) (0.2.0)\nRequirement already satisfied: traitlets>=4.3.1 in /shared-libs/python3.9/py-core/lib/python3.9/site-packages (from ipywidgets) (4.3.3)\nCollecting widgetsnbextension~=3.6.0\n  Downloading widgetsnbextension-3.6.1-py2.py3-none-any.whl (1.6 MB)\n\u001b[2K     \u001b[90m━━━━━━━━━━━━━━━━━━━━━━━━━━━━━━━━━━━━━━━━\u001b[0m \u001b[32m1.6/1.6 MB\u001b[0m \u001b[31m72.1 MB/s\u001b[0m eta \u001b[36m0:00:00\u001b[0m\n\u001b[?25hRequirement already satisfied: jupyter-client in /shared-libs/python3.9/py-core/lib/python3.9/site-packages (from ipykernel>=4.5.1->ipywidgets) (6.1.12)\nRequirement already satisfied: tornado>=4.2 in /shared-libs/python3.9/py-core/lib/python3.9/site-packages (from ipykernel>=4.5.1->ipywidgets) (6.1)\nRequirement already satisfied: matplotlib-inline in /shared-libs/python3.9/py-core/lib/python3.9/site-packages (from ipython>=4.0.0->ipywidgets) (0.1.3)\nRequirement already satisfied: setuptools>=18.5 in /root/venv/lib/python3.9/site-packages (from ipython>=4.0.0->ipywidgets) (58.1.0)\nRequirement already satisfied: jedi>=0.16 in /shared-libs/python3.9/py-core/lib/python3.9/site-packages (from ipython>=4.0.0->ipywidgets) (0.17.2)\nRequirement already satisfied: backcall in /shared-libs/python3.9/py-core/lib/python3.9/site-packages (from ipython>=4.0.0->ipywidgets) (0.2.0)\nRequirement already satisfied: pygments in /shared-libs/python3.9/py-core/lib/python3.9/site-packages (from ipython>=4.0.0->ipywidgets) (2.12.0)\nRequirement already satisfied: pexpect>4.3 in /shared-libs/python3.9/py-core/lib/python3.9/site-packages (from ipython>=4.0.0->ipywidgets) (4.8.0)\nRequirement already satisfied: prompt-toolkit!=3.0.0,!=3.0.1,<3.1.0,>=2.0.0 in /shared-libs/python3.9/py-core/lib/python3.9/site-packages (from ipython>=4.0.0->ipywidgets) (3.0.29)\nRequirement already satisfied: decorator in /shared-libs/python3.9/py-core/lib/python3.9/site-packages (from ipython>=4.0.0->ipywidgets) (5.1.1)\nRequirement already satisfied: pickleshare in /shared-libs/python3.9/py-core/lib/python3.9/site-packages (from ipython>=4.0.0->ipywidgets) (0.7.5)\nRequirement already satisfied: six in /shared-libs/python3.9/py-core/lib/python3.9/site-packages (from traitlets>=4.3.1->ipywidgets) (1.16.0)\nRequirement already satisfied: notebook>=4.4.1 in /shared-libs/python3.9/py-core/lib/python3.9/site-packages (from widgetsnbextension~=3.6.0->ipywidgets) (6.3.0)\nRequirement already satisfied: parso<0.8.0,>=0.7.0 in /shared-libs/python3.9/py-core/lib/python3.9/site-packages (from jedi>=0.16->ipython>=4.0.0->ipywidgets) (0.7.1)\nRequirement already satisfied: pyzmq>=17 in /shared-libs/python3.9/py-core/lib/python3.9/site-packages (from notebook>=4.4.1->widgetsnbextension~=3.6.0->ipywidgets) (23.1.0)\nRequirement already satisfied: prometheus-client in /shared-libs/python3.9/py-core/lib/python3.9/site-packages (from notebook>=4.4.1->widgetsnbextension~=3.6.0->ipywidgets) (0.14.1)\nRequirement already satisfied: terminado>=0.8.3 in /shared-libs/python3.9/py-core/lib/python3.9/site-packages (from notebook>=4.4.1->widgetsnbextension~=3.6.0->ipywidgets) (0.15.0)\nRequirement already satisfied: Send2Trash>=1.5.0 in /shared-libs/python3.9/py-core/lib/python3.9/site-packages (from notebook>=4.4.1->widgetsnbextension~=3.6.0->ipywidgets) (1.8.0)\nRequirement already satisfied: jupyter-core==4.7.1 in /shared-libs/python3.9/py-core/lib/python3.9/site-packages (from notebook>=4.4.1->widgetsnbextension~=3.6.0->ipywidgets) (4.7.1)\nRequirement already satisfied: argon2-cffi in /shared-libs/python3.9/py-core/lib/python3.9/site-packages (from notebook>=4.4.1->widgetsnbextension~=3.6.0->ipywidgets) (21.3.0)\nRequirement already satisfied: nbformat==5.1.3 in /shared-libs/python3.9/py-core/lib/python3.9/site-packages (from notebook>=4.4.1->widgetsnbextension~=3.6.0->ipywidgets) (5.1.3)\nRequirement already satisfied: nbconvert==6.0.7 in /shared-libs/python3.9/py-core/lib/python3.9/site-packages (from notebook>=4.4.1->widgetsnbextension~=3.6.0->ipywidgets) (6.0.7)\nRequirement already satisfied: jinja2 in /shared-libs/python3.9/py-core/lib/python3.9/site-packages (from notebook>=4.4.1->widgetsnbextension~=3.6.0->ipywidgets) (2.11.3)\nRequirement already satisfied: python-dateutil>=2.1 in /shared-libs/python3.9/py-core/lib/python3.9/site-packages (from jupyter-client->ipykernel>=4.5.1->ipywidgets) (2.8.2)\nRequirement already satisfied: mistune<2,>=0.8.1 in /shared-libs/python3.9/py-core/lib/python3.9/site-packages (from nbconvert==6.0.7->notebook>=4.4.1->widgetsnbextension~=3.6.0->ipywidgets) (0.8.4)\nRequirement already satisfied: defusedxml in /shared-libs/python3.9/py-core/lib/python3.9/site-packages (from nbconvert==6.0.7->notebook>=4.4.1->widgetsnbextension~=3.6.0->ipywidgets) (0.7.1)\nRequirement already satisfied: pandocfilters>=1.4.1 in /shared-libs/python3.9/py-core/lib/python3.9/site-packages (from nbconvert==6.0.7->notebook>=4.4.1->widgetsnbextension~=3.6.0->ipywidgets) (1.5.0)\nRequirement already satisfied: jupyterlab-pygments in /shared-libs/python3.9/py-core/lib/python3.9/site-packages (from nbconvert==6.0.7->notebook>=4.4.1->widgetsnbextension~=3.6.0->ipywidgets) (0.2.2)\nRequirement already satisfied: testpath in /shared-libs/python3.9/py-core/lib/python3.9/site-packages (from nbconvert==6.0.7->notebook>=4.4.1->widgetsnbextension~=3.6.0->ipywidgets) (0.6.0)\nRequirement already satisfied: nbclient<0.6.0,>=0.5.0 in /shared-libs/python3.9/py-core/lib/python3.9/site-packages (from nbconvert==6.0.7->notebook>=4.4.1->widgetsnbextension~=3.6.0->ipywidgets) (0.5.9)\nRequirement already satisfied: bleach in /shared-libs/python3.9/py-core/lib/python3.9/site-packages (from nbconvert==6.0.7->notebook>=4.4.1->widgetsnbextension~=3.6.0->ipywidgets) (5.0.0)\nRequirement already satisfied: entrypoints>=0.2.2 in /shared-libs/python3.9/py-core/lib/python3.9/site-packages (from nbconvert==6.0.7->notebook>=4.4.1->widgetsnbextension~=3.6.0->ipywidgets) (0.4)\nRequirement already satisfied: jsonschema!=2.5.0,>=2.4 in /shared-libs/python3.9/py-core/lib/python3.9/site-packages (from nbformat==5.1.3->notebook>=4.4.1->widgetsnbextension~=3.6.0->ipywidgets) (3.2.0)\nRequirement already satisfied: ptyprocess>=0.5 in /shared-libs/python3.9/py-core/lib/python3.9/site-packages (from pexpect>4.3->ipython>=4.0.0->ipywidgets) (0.7.0)\nRequirement already satisfied: wcwidth in /shared-libs/python3.9/py-core/lib/python3.9/site-packages (from prompt-toolkit!=3.0.0,!=3.0.1,<3.1.0,>=2.0.0->ipython>=4.0.0->ipywidgets) (0.2.5)\nRequirement already satisfied: MarkupSafe>=0.23 in /shared-libs/python3.9/py-core/lib/python3.9/site-packages (from jinja2->notebook>=4.4.1->widgetsnbextension~=3.6.0->ipywidgets) (2.0.1)\nRequirement already satisfied: argon2-cffi-bindings in /shared-libs/python3.9/py-core/lib/python3.9/site-packages (from argon2-cffi->notebook>=4.4.1->widgetsnbextension~=3.6.0->ipywidgets) (21.2.0)\nRequirement already satisfied: attrs>=17.4.0 in /shared-libs/python3.9/py-core/lib/python3.9/site-packages (from jsonschema!=2.5.0,>=2.4->nbformat==5.1.3->notebook>=4.4.1->widgetsnbextension~=3.6.0->ipywidgets) (21.4.0)\nRequirement already satisfied: pyrsistent>=0.14.0 in /shared-libs/python3.9/py-core/lib/python3.9/site-packages (from jsonschema!=2.5.0,>=2.4->nbformat==5.1.3->notebook>=4.4.1->widgetsnbextension~=3.6.0->ipywidgets) (0.18.1)\nRequirement already satisfied: nest-asyncio in /shared-libs/python3.9/py-core/lib/python3.9/site-packages (from nbclient<0.6.0,>=0.5.0->nbconvert==6.0.7->notebook>=4.4.1->widgetsnbextension~=3.6.0->ipywidgets) (1.5.5)\nRequirement already satisfied: cffi>=1.0.1 in /shared-libs/python3.9/py-core/lib/python3.9/site-packages (from argon2-cffi-bindings->argon2-cffi->notebook>=4.4.1->widgetsnbextension~=3.6.0->ipywidgets) (1.15.0)\nRequirement already satisfied: webencodings in /shared-libs/python3.9/py-core/lib/python3.9/site-packages (from bleach->nbconvert==6.0.7->notebook>=4.4.1->widgetsnbextension~=3.6.0->ipywidgets) (0.5.1)\nRequirement already satisfied: pycparser in /shared-libs/python3.9/py-core/lib/python3.9/site-packages (from cffi>=1.0.1->argon2-cffi-bindings->argon2-cffi->notebook>=4.4.1->widgetsnbextension~=3.6.0->ipywidgets) (2.21)\nInstalling collected packages: jupyterlab-widgets, widgetsnbextension, ipywidgets\nSuccessfully installed ipywidgets-7.7.1 jupyterlab-widgets-1.1.1 widgetsnbextension-3.6.1\n\u001b[33mWARNING: You are using pip version 22.0.4; however, version 22.2.1 is available.\nYou should consider upgrading via the '/root/venv/bin/python -m pip install --upgrade pip' command.\u001b[0m\u001b[33m\n\u001b[0m",
     "output_type": "stream"
    }
   ]
  },
  {
   "cell_type": "markdown",
   "source": "# Homework 3: Table Manipulation and Visualization\n\nPlease complete this notebook by filling in the cells provided. Before you begin, execute the previous cell to load the provided tests.",
   "metadata": {
    "cell_id": "00001-4942e972-c76d-4789-8bce-97681dfd9873",
    "deepnote_cell_type": "markdown",
    "deepnote_cell_height": 194
   }
  },
  {
   "cell_type": "markdown",
   "source": "**Helpful Resource:**\n- [Python Reference](http://data8.org/sp22/python-reference.html): Cheat sheet of helpful array & table methods used in Data 8!\n\n**Recommended Reading**: \n* [Visualization](https://inferentialthinking.com/chapters/07/Visualization.html)",
   "metadata": {
    "cell_id": "00002-298928b7-2966-4d5b-a259-088bd2280625",
    "deepnote_cell_type": "markdown",
    "deepnote_cell_height": 174
   }
  },
  {
   "cell_type": "markdown",
   "source": "For all problems that you must write explanations and sentences for, you **must** provide your answer in the designated space. **Moreover, throughout this homework and all future ones, please be sure to not re-assign variables throughout the notebook!** For example, if you use `max_temperature` in your answer to one question, do not reassign it later on. Otherwise, you will fail tests that you thought you were passing previously!\n\n**Deadline:**\n\nThis assignment is due Thursday, 2/10 at 11:59pm PT. Turn it in by Wednesday, 2/9 at 11:59pm PT for 5 extra credit points. Late work will not be accepted as per the [policies](http://data8.org/sp22/policies.html) page.\n\n\n**Note: This homework has hidden tests on it. That means even though tests may say 100% passed, doesn't mean your final grade will be 100%. We will be running more tests for correctness once everyone turns in the homework.**\n\n\nDirectly sharing answers is not okay, but discussing problems with the course staff or with other students is encouraged. Refer to the policies page to learn more about how to learn cooperatively.\n\nYou should start early so that you have time to get help if you're stuck. Office hours are held Tuesday through Friday. The schedule appears on [http://data8.org/sp22/office-hours.html](http://data8.org/sp22/office-hours.html).",
   "metadata": {
    "cell_id": "00003-5703f3b4-6b7f-4e33-b212-8b1ab0a4d5df",
    "deepnote_cell_type": "markdown",
    "deepnote_cell_height": 386
   }
  },
  {
   "cell_type": "code",
   "metadata": {
    "cell_id": "00004-1240751f-29b4-47aa-bdef-488976e4441b",
    "deepnote_to_be_reexecuted": false,
    "source_hash": "1c4b0af9",
    "execution_start": 1658964426801,
    "execution_millis": 69,
    "deepnote_cell_type": "code",
    "deepnote_cell_height": 292
   },
   "source": "# Don't change this cell; just run it. \n\nimport numpy as np\nfrom datascience import *\nimport d8error\nimport warnings\nwarnings.simplefilter('ignore', FutureWarning)\n\n# These lines do some fancy plotting magic.\\n\",\nimport matplotlib\n%matplotlib inline\nimport matplotlib.pyplot as plots\nplots.style.use('fivethirtyeight')",
   "execution_count": null,
   "outputs": []
  },
  {
   "cell_type": "markdown",
   "source": "## 1. Unemployment",
   "metadata": {
    "cell_id": "00005-dbcb66a5-c7d4-4c60-8b8d-a20575c7a53f",
    "deepnote_cell_type": "markdown",
    "deepnote_cell_height": 70
   }
  },
  {
   "cell_type": "markdown",
   "source": "The Great Recession of 2008-2009 was a period of economic decline observed globally, with scale and timing varying from country to country. In the United States, it resulted in a rapid rise in unemployment that affected industries and population groups to different extents.\n\nThe Federal Reserve Bank of St. Louis publishes data about jobs in the US.  Below, we've loaded data on unemployment in the United States. There are many ways of defining unemployment, and our dataset includes two notions of the unemployment rate:\n\n1. Among people who are able to work and are looking for a full-time job, the percentage who can't find a job.  This is called the Non-Employment Index, or NEI.\n2. Among people who are able to work and are looking for a full-time job, the percentage who can't find any job *or* are only working at a part-time job.  The latter group is called \"Part-Time for Economic Reasons\", so the acronym for this index is NEI-PTER.  (Economists are great at marketing.)\n\nThe source of the data is [here](https://fred.stlouisfed.org/categories/33509).",
   "metadata": {
    "cell_id": "00006-31d2ab16-5702-4181-b027-828a11c73056",
    "deepnote_cell_type": "markdown",
    "deepnote_cell_height": 317
   }
  },
  {
   "cell_type": "markdown",
   "source": "**Question 1.** The data are in a CSV file called `unemployment.csv`.  Load that file into a table called `unemployment`. **(4 Points)**\n\n<!--\nBEGIN QUESTION\nname: q1_1\npoints:\n - 4\n-->",
   "metadata": {
    "deletable": false,
    "editable": false,
    "cell_id": "00007-3a88f2a1-d02b-47bb-986e-e01446bed46b",
    "deepnote_cell_type": "markdown",
    "deepnote_cell_height": 66
   }
  },
  {
   "cell_type": "code",
   "metadata": {
    "cell_id": "00008-4a82b972-9c4a-4768-94e9-b253047ca473",
    "deepnote_to_be_reexecuted": false,
    "source_hash": "4a43cf93",
    "execution_start": 1658964429054,
    "execution_millis": 12,
    "deepnote_cell_type": "code",
    "deepnote_cell_height": 463,
    "deepnote_output_heights": [
     353
    ]
   },
   "source": "unemployment = Table.read_table('unemployment.csv')\nunemployment",
   "execution_count": null,
   "outputs": [
    {
     "output_type": "execute_result",
     "execution_count": 6,
     "data": {
      "text/plain": "Date       | NEI     | NEI-PTER\n1994-01-01 | 10.0974 | 11.172\n1994-04-01 | 9.6239  | 10.7883\n1994-07-01 | 9.3276  | 10.4831\n1994-10-01 | 9.1071  | 10.2361\n1995-01-01 | 8.9693  | 10.1832\n1995-04-01 | 9.0314  | 10.1071\n1995-07-01 | 8.9802  | 10.1084\n1995-10-01 | 8.9932  | 10.1046\n1996-01-01 | 9.0002  | 10.0531\n1996-04-01 | 8.9038  | 9.9782\n... (80 rows omitted)",
      "text/html": "<table border=\"1\" class=\"dataframe\">\n    <thead>\n        <tr>\n            <th>Date</th> <th>NEI</th> <th>NEI-PTER</th>\n        </tr>\n    </thead>\n    <tbody>\n        <tr>\n            <td>1994-01-01</td> <td>10.0974</td> <td>11.172  </td>\n        </tr>\n        <tr>\n            <td>1994-04-01</td> <td>9.6239 </td> <td>10.7883 </td>\n        </tr>\n        <tr>\n            <td>1994-07-01</td> <td>9.3276 </td> <td>10.4831 </td>\n        </tr>\n        <tr>\n            <td>1994-10-01</td> <td>9.1071 </td> <td>10.2361 </td>\n        </tr>\n        <tr>\n            <td>1995-01-01</td> <td>8.9693 </td> <td>10.1832 </td>\n        </tr>\n        <tr>\n            <td>1995-04-01</td> <td>9.0314 </td> <td>10.1071 </td>\n        </tr>\n        <tr>\n            <td>1995-07-01</td> <td>8.9802 </td> <td>10.1084 </td>\n        </tr>\n        <tr>\n            <td>1995-10-01</td> <td>8.9932 </td> <td>10.1046 </td>\n        </tr>\n        <tr>\n            <td>1996-01-01</td> <td>9.0002 </td> <td>10.0531 </td>\n        </tr>\n        <tr>\n            <td>1996-04-01</td> <td>8.9038 </td> <td>9.9782  </td>\n        </tr>\n    </tbody>\n</table>\n<p>... (80 rows omitted)</p>"
     },
     "metadata": {}
    }
   ]
  },
  {
   "cell_type": "code",
   "metadata": {
    "deletable": false,
    "editable": false,
    "cell_id": "00009-ac8bf990-0fff-4638-9f2c-bd24931950ba",
    "deepnote_to_be_reexecuted": false,
    "source_hash": "694c3413",
    "execution_start": 1658964429161,
    "execution_millis": 17,
    "deepnote_cell_type": "code",
    "deepnote_cell_height": 137,
    "deepnote_output_heights": [
     45
    ]
   },
   "source": "grader.check(\"q1_1\")",
   "execution_count": null,
   "outputs": [
    {
     "output_type": "execute_result",
     "execution_count": 7,
     "data": {
      "text/plain": "q1_1 results: All test cases passed!",
      "text/html": "<p><strong><pre style='display: inline;'>q1_1</pre></strong> passed!</p>"
     },
     "metadata": {}
    }
   ]
  },
  {
   "cell_type": "markdown",
   "source": "**Question 2.** Sort the data in descending order by NEI, naming the sorted table `by_nei`.  Create another table called `by_nei_pter` that's sorted in descending order by NEI-PTER instead. **(4 Points)**\n\n<!--\nBEGIN QUESTION\nname: q1_2\npoints:\n - 2\n - 2\n-->",
   "metadata": {
    "deletable": false,
    "editable": false,
    "cell_id": "00010-643d55c9-f62e-4f10-afc6-54ba9b9a2688",
    "deepnote_cell_type": "markdown",
    "deepnote_cell_height": 88
   }
  },
  {
   "cell_type": "code",
   "metadata": {
    "cell_id": "00011-7aea2478-4e52-406a-b32b-7f500d49dd24",
    "deepnote_to_be_reexecuted": false,
    "source_hash": "39a946e3",
    "execution_start": 1658964429946,
    "execution_millis": 3,
    "deepnote_cell_type": "code",
    "deepnote_cell_height": 94
   },
   "source": "by_nei = unemployment.sort('NEI', descending=True)\nby_nei_pter = unemployment.sort(\"NEI-PTER\", descending=True)",
   "execution_count": null,
   "outputs": []
  },
  {
   "cell_type": "code",
   "metadata": {
    "deletable": false,
    "editable": false,
    "cell_id": "00012-80d0d24f-1786-4982-83ad-afff55d45656",
    "deepnote_to_be_reexecuted": false,
    "source_hash": "cb3629cc",
    "execution_start": 1658964431151,
    "execution_millis": 37,
    "deepnote_cell_type": "code",
    "deepnote_cell_height": 137,
    "deepnote_output_heights": [
     45
    ]
   },
   "source": "grader.check(\"q1_2\")",
   "execution_count": null,
   "outputs": [
    {
     "output_type": "execute_result",
     "execution_count": 9,
     "data": {
      "text/plain": "q1_2 results: All test cases passed!",
      "text/html": "<p><strong><pre style='display: inline;'>q1_2</pre></strong> passed!</p>"
     },
     "metadata": {}
    }
   ]
  },
  {
   "cell_type": "code",
   "metadata": {
    "cell_id": "00013-94447542-4c4e-46d0-bf44-a957e66c597c",
    "deepnote_to_be_reexecuted": false,
    "source_hash": "7b979240",
    "execution_start": 1658964431170,
    "execution_millis": 19,
    "deepnote_cell_type": "code",
    "deepnote_cell_height": 318,
    "deepnote_output_heights": [
     208
    ]
   },
   "source": "# Run this cell to check your by_nei table. You do not need to change the code.\nby_nei.show(5)",
   "execution_count": null,
   "outputs": [
    {
     "data": {
      "text/plain": "<IPython.core.display.HTML object>",
      "text/html": "<table border=\"1\" class=\"dataframe\">\n    <thead>\n        <tr>\n            <th>Date</th> <th>NEI</th> <th>NEI-PTER</th>\n        </tr>\n    </thead>\n    <tbody>\n        <tr>\n            <td>2009-10-01</td> <td>10.9698</td> <td>12.8557 </td>\n        </tr>\n        <tr>\n            <td>2010-01-01</td> <td>10.9054</td> <td>12.7311 </td>\n        </tr>\n        <tr>\n            <td>2009-07-01</td> <td>10.8089</td> <td>12.7404 </td>\n        </tr>\n        <tr>\n            <td>2009-04-01</td> <td>10.7082</td> <td>12.5497 </td>\n        </tr>\n        <tr>\n            <td>2010-04-01</td> <td>10.6597</td> <td>12.5664 </td>\n        </tr>\n    </tbody>\n</table>\n<p>... (85 rows omitted)</p>"
     },
     "metadata": {},
     "output_type": "display_data"
    }
   ]
  },
  {
   "cell_type": "code",
   "metadata": {
    "cell_id": "00014-fc666269-f79a-4a60-8185-612e0f0d4d9d",
    "deepnote_to_be_reexecuted": false,
    "source_hash": "cdfa46f0",
    "execution_start": 1658964431183,
    "execution_millis": 7,
    "deepnote_cell_type": "code",
    "deepnote_cell_height": 318,
    "deepnote_output_heights": [
     208
    ]
   },
   "source": "# Run this cell to check your by_nei_pter table. You do not need to change the code.\nby_nei_pter.show(5)",
   "execution_count": null,
   "outputs": [
    {
     "data": {
      "text/plain": "<IPython.core.display.HTML object>",
      "text/html": "<table border=\"1\" class=\"dataframe\">\n    <thead>\n        <tr>\n            <th>Date</th> <th>NEI</th> <th>NEI-PTER</th>\n        </tr>\n    </thead>\n    <tbody>\n        <tr>\n            <td>2009-10-01</td> <td>10.9698</td> <td>12.8557 </td>\n        </tr>\n        <tr>\n            <td>2009-07-01</td> <td>10.8089</td> <td>12.7404 </td>\n        </tr>\n        <tr>\n            <td>2010-01-01</td> <td>10.9054</td> <td>12.7311 </td>\n        </tr>\n        <tr>\n            <td>2010-04-01</td> <td>10.6597</td> <td>12.5664 </td>\n        </tr>\n        <tr>\n            <td>2009-04-01</td> <td>10.7082</td> <td>12.5497 </td>\n        </tr>\n    </tbody>\n</table>\n<p>... (85 rows omitted)</p>"
     },
     "metadata": {},
     "output_type": "display_data"
    }
   ]
  },
  {
   "cell_type": "markdown",
   "source": "**Question 3.** Use `take` to make a table containing the data for the 11 quarters when NEI was greatest.  Call that table `greatest_nei`.\n\n`greatest_nei` should be sorted in descending order of `NEI`. Note that each row of `unemployment` represents a quarter. **(4 Points)**\n\n<!--\nBEGIN QUESTION\nname: q1_3\npoints:\n - 2\n - 2\n-->",
   "metadata": {
    "deletable": false,
    "editable": false,
    "cell_id": "00015-43e03d27-5b32-43f7-88f3-3b6c452f8bdc",
    "deepnote_cell_type": "markdown",
    "deepnote_cell_height": 146
   }
  },
  {
   "cell_type": "code",
   "metadata": {
    "cell_id": "00016-ff25ab09-b093-4423-8fcd-b93858f94602",
    "deepnote_to_be_reexecuted": false,
    "source_hash": "4003d079",
    "execution_start": 1658964432099,
    "execution_millis": 7,
    "deepnote_cell_type": "code",
    "deepnote_cell_height": 463,
    "deepnote_output_heights": [
     353
    ]
   },
   "source": "greatest_nei = unemployment.sort('NEI', descending=True).take(np.arange(11))\ngreatest_nei",
   "execution_count": null,
   "outputs": [
    {
     "output_type": "execute_result",
     "execution_count": 12,
     "data": {
      "text/plain": "Date       | NEI     | NEI-PTER\n2009-10-01 | 10.9698 | 12.8557\n2010-01-01 | 10.9054 | 12.7311\n2009-07-01 | 10.8089 | 12.7404\n2009-04-01 | 10.7082 | 12.5497\n2010-04-01 | 10.6597 | 12.5664\n2010-10-01 | 10.5856 | 12.4329\n2010-07-01 | 10.5521 | 12.3897\n2011-01-01 | 10.5024 | 12.3017\n2011-07-01 | 10.4856 | 12.2507\n2011-04-01 | 10.4409 | 12.247\n... (1 rows omitted)",
      "text/html": "<table border=\"1\" class=\"dataframe\">\n    <thead>\n        <tr>\n            <th>Date</th> <th>NEI</th> <th>NEI-PTER</th>\n        </tr>\n    </thead>\n    <tbody>\n        <tr>\n            <td>2009-10-01</td> <td>10.9698</td> <td>12.8557 </td>\n        </tr>\n        <tr>\n            <td>2010-01-01</td> <td>10.9054</td> <td>12.7311 </td>\n        </tr>\n        <tr>\n            <td>2009-07-01</td> <td>10.8089</td> <td>12.7404 </td>\n        </tr>\n        <tr>\n            <td>2009-04-01</td> <td>10.7082</td> <td>12.5497 </td>\n        </tr>\n        <tr>\n            <td>2010-04-01</td> <td>10.6597</td> <td>12.5664 </td>\n        </tr>\n        <tr>\n            <td>2010-10-01</td> <td>10.5856</td> <td>12.4329 </td>\n        </tr>\n        <tr>\n            <td>2010-07-01</td> <td>10.5521</td> <td>12.3897 </td>\n        </tr>\n        <tr>\n            <td>2011-01-01</td> <td>10.5024</td> <td>12.3017 </td>\n        </tr>\n        <tr>\n            <td>2011-07-01</td> <td>10.4856</td> <td>12.2507 </td>\n        </tr>\n        <tr>\n            <td>2011-04-01</td> <td>10.4409</td> <td>12.247  </td>\n        </tr>\n    </tbody>\n</table>\n<p>... (1 rows omitted)</p>"
     },
     "metadata": {}
    }
   ]
  },
  {
   "cell_type": "code",
   "metadata": {
    "deletable": false,
    "editable": false,
    "cell_id": "00017-19dfc466-a189-4f19-aea4-832d706880d2",
    "deepnote_to_be_reexecuted": false,
    "source_hash": "548428d4",
    "execution_start": 1658964432107,
    "execution_millis": 12,
    "deepnote_cell_type": "code",
    "deepnote_cell_height": 137,
    "deepnote_output_heights": [
     45
    ]
   },
   "source": "grader.check(\"q1_3\")",
   "execution_count": null,
   "outputs": [
    {
     "output_type": "execute_result",
     "execution_count": 13,
     "data": {
      "text/plain": "q1_3 results: All test cases passed!",
      "text/html": "<p><strong><pre style='display: inline;'>q1_3</pre></strong> passed!</p>"
     },
     "metadata": {}
    }
   ]
  },
  {
   "cell_type": "markdown",
   "source": "**Question 4.** It's believed that many people became PTER (recall: \"Part-Time for Economic Reasons\") in the \"Great Recession\" of 2008-2009.  NEI-PTER is the percentage of people who are unemployed (included in the NEI) plus the percentage of people who are PTER.\n\nCompute an array containing the percentage of people who were PTER in each quarter.  (The first element of the array should correspond to the first row of `unemployment`, and so on.) **(4 Points)**\n\n*Note:* Use the original `unemployment` table for this.\n\n<!--\nBEGIN QUESTION\nname: q1_4\npoints:\n - 1\n - 3\n-->",
   "metadata": {
    "deletable": false,
    "editable": false,
    "cell_id": "00018-00166c67-c763-4e73-970a-41d0cecb1a6c",
    "deepnote_cell_type": "markdown",
    "deepnote_cell_height": 204
   }
  },
  {
   "cell_type": "code",
   "metadata": {
    "cell_id": "00019-3a144299-8c7a-453f-8113-fc6e9fc337d8",
    "deepnote_to_be_reexecuted": false,
    "source_hash": "e82b09bb",
    "execution_start": 1658965665910,
    "execution_millis": 5,
    "deepnote_cell_type": "code",
    "deepnote_cell_height": 340,
    "deepnote_output_heights": [
     230
    ]
   },
   "source": "pter = unemployment.column(\"NEI-PTER\") - unemployment.column(\"NEI\")\npter",
   "execution_count": null,
   "outputs": [
    {
     "output_type": "execute_result",
     "execution_count": 33,
     "data": {
      "text/plain": "array([1.0746, 1.1644, 1.1555, 1.129 , 1.2139, 1.0757, 1.1282, 1.1114,\n       1.0529, 1.0744, 1.1004, 1.0747, 1.0705, 1.0455, 1.008 , 0.9734,\n       0.9753, 0.8931, 0.9451, 0.8367, 0.8208, 0.8105, 0.8248, 0.7578,\n       0.7251, 0.7445, 0.7543, 0.7423, 0.7399, 0.7687, 0.8418, 0.9923,\n       0.9181, 0.9629, 0.9703, 0.9575, 1.0333, 1.0781, 1.0675, 1.0354,\n       1.0601, 1.01  , 1.0042, 1.0368, 0.9704, 0.923 , 0.9759, 0.93  ,\n       0.889 , 0.821 , 0.9409, 0.955 , 0.898 , 0.8948, 0.9523, 0.9579,\n       1.0149, 1.0762, 1.2873, 1.4335, 1.7446, 1.8415, 1.9315, 1.8859,\n       1.8257, 1.9067, 1.8376, 1.8473, 1.7993, 1.8061, 1.7651, 1.7927,\n       1.7286, 1.6387, 1.6808, 1.6805, 1.6629, 1.6253, 1.6477, 1.6298,\n       1.4796, 1.5131, 1.4866, 1.4345, 1.3675, 1.3097, 1.2319, 1.1735,\n       1.1844, 1.1746])"
     },
     "metadata": {}
    }
   ]
  },
  {
   "cell_type": "code",
   "metadata": {
    "deletable": false,
    "editable": false,
    "cell_id": "00020-d71991cf-1d8b-41cd-84a5-c5ad716c4818",
    "deepnote_to_be_reexecuted": false,
    "source_hash": "1dfc13b8",
    "execution_start": 1658964852651,
    "execution_millis": 27,
    "deepnote_cell_type": "code",
    "deepnote_cell_height": 137,
    "deepnote_output_heights": [
     45
    ]
   },
   "source": "grader.check(\"q1_4\")",
   "execution_count": null,
   "outputs": [
    {
     "output_type": "execute_result",
     "execution_count": 17,
     "data": {
      "text/plain": "q1_4 results: All test cases passed!",
      "text/html": "<p><strong><pre style='display: inline;'>q1_4</pre></strong> passed!</p>"
     },
     "metadata": {}
    }
   ]
  },
  {
   "cell_type": "markdown",
   "source": "**Question 5.** Add `pter` as a column to `unemployment` (name the column `PTER`) and sort the resulting table by that column in descending order.  Call the resulting table `by_pter`.\n\nTry to do this with a single line of code, if you can. **(4 Points)**\n\n<!--\nBEGIN QUESTION\nname: q1_5\npoints:\n - 4\n-->",
   "metadata": {
    "deletable": false,
    "editable": false,
    "cell_id": "00021-c4e0ef59-f85d-4979-9105-81ef9091c4ea",
    "deepnote_cell_type": "markdown",
    "deepnote_cell_height": 124
   }
  },
  {
   "cell_type": "code",
   "metadata": {
    "cell_id": "00022-507d8b78-8cf7-4432-bb4e-a34917e17176",
    "deepnote_to_be_reexecuted": false,
    "source_hash": "347bff41",
    "execution_start": 1658965794870,
    "execution_millis": 2,
    "deepnote_cell_type": "code",
    "deepnote_cell_height": 517,
    "deepnote_output_heights": [
     353
    ]
   },
   "source": "by_pter = unemployment.with_column(\n    \"PTER\", pter, \n)\nby_pter = by_pter.sort('PTER', descending=True)\nby_pter",
   "execution_count": null,
   "outputs": [
    {
     "output_type": "execute_result",
     "execution_count": 38,
     "data": {
      "text/plain": "Date       | NEI     | NEI-PTER | PTER\n2009-07-01 | 10.8089 | 12.7404  | 1.9315\n2010-04-01 | 10.6597 | 12.5664  | 1.9067\n2009-10-01 | 10.9698 | 12.8557  | 1.8859\n2010-10-01 | 10.5856 | 12.4329  | 1.8473\n2009-04-01 | 10.7082 | 12.5497  | 1.8415\n2010-07-01 | 10.5521 | 12.3897  | 1.8376\n2010-01-01 | 10.9054 | 12.7311  | 1.8257\n2011-04-01 | 10.4409 | 12.247   | 1.8061\n2011-01-01 | 10.5024 | 12.3017  | 1.7993\n2011-10-01 | 10.3287 | 12.1214  | 1.7927\n... (80 rows omitted)",
      "text/html": "<table border=\"1\" class=\"dataframe\">\n    <thead>\n        <tr>\n            <th>Date</th> <th>NEI</th> <th>NEI-PTER</th> <th>PTER</th>\n        </tr>\n    </thead>\n    <tbody>\n        <tr>\n            <td>2009-07-01</td> <td>10.8089</td> <td>12.7404 </td> <td>1.9315</td>\n        </tr>\n        <tr>\n            <td>2010-04-01</td> <td>10.6597</td> <td>12.5664 </td> <td>1.9067</td>\n        </tr>\n        <tr>\n            <td>2009-10-01</td> <td>10.9698</td> <td>12.8557 </td> <td>1.8859</td>\n        </tr>\n        <tr>\n            <td>2010-10-01</td> <td>10.5856</td> <td>12.4329 </td> <td>1.8473</td>\n        </tr>\n        <tr>\n            <td>2009-04-01</td> <td>10.7082</td> <td>12.5497 </td> <td>1.8415</td>\n        </tr>\n        <tr>\n            <td>2010-07-01</td> <td>10.5521</td> <td>12.3897 </td> <td>1.8376</td>\n        </tr>\n        <tr>\n            <td>2010-01-01</td> <td>10.9054</td> <td>12.7311 </td> <td>1.8257</td>\n        </tr>\n        <tr>\n            <td>2011-04-01</td> <td>10.4409</td> <td>12.247  </td> <td>1.8061</td>\n        </tr>\n        <tr>\n            <td>2011-01-01</td> <td>10.5024</td> <td>12.3017 </td> <td>1.7993</td>\n        </tr>\n        <tr>\n            <td>2011-10-01</td> <td>10.3287</td> <td>12.1214 </td> <td>1.7927</td>\n        </tr>\n    </tbody>\n</table>\n<p>... (80 rows omitted)</p>"
     },
     "metadata": {}
    }
   ]
  },
  {
   "cell_type": "code",
   "metadata": {
    "deletable": false,
    "editable": false,
    "cell_id": "00023-20d46b69-a0a3-4efc-814e-d50ac90040c2",
    "deepnote_to_be_reexecuted": false,
    "source_hash": "f0b171b5",
    "execution_start": 1658965800476,
    "execution_millis": 43,
    "deepnote_cell_type": "code",
    "deepnote_cell_height": 137,
    "deepnote_output_heights": [
     45
    ]
   },
   "source": "grader.check(\"q1_5\")",
   "execution_count": null,
   "outputs": [
    {
     "output_type": "execute_result",
     "execution_count": 39,
     "data": {
      "text/plain": "q1_5 results: All test cases passed!",
      "text/html": "<p><strong><pre style='display: inline;'>q1_5</pre></strong> passed!</p>"
     },
     "metadata": {}
    }
   ]
  },
  {
   "cell_type": "markdown",
   "source": "**Question 6.** Create a line plot of PTER over time. To do this, create a new table called `pter_over_time` by making a copy of the `unemployment` table and adding two new columns: `Year` and `PTER` using the `year` array and the `pter` array, respectively. Then, generate a line plot using one of the table methods you've learned in class.\n\nThe order of the columns matter for our correctness tests, so be sure `Year` comes before `PTER`. **(4 Points)**\n\n*Note:* When constructing `pter_over_time`, do not just add the `year` column to the `by_pter` table. Please follow the directions in the question above.\n\n<!--\nBEGIN QUESTION\nname: q1_6\npoints:\n - 0\n - 1\n - 1\n - 2\n-->",
   "metadata": {
    "deletable": false,
    "editable": false,
    "cell_id": "00024-2a6d6085-b892-4dd3-8789-280b4b340031",
    "deepnote_cell_type": "markdown",
    "deepnote_cell_height": 204
   }
  },
  {
   "cell_type": "code",
   "metadata": {
    "cell_id": "00025-f43a7b16-57a1-4d49-ae7c-3b9c0a02340f",
    "deepnote_to_be_reexecuted": false,
    "source_hash": "ed5788ba",
    "execution_start": 1658966652953,
    "execution_millis": 595,
    "deepnote_cell_type": "code",
    "deepnote_cell_height": 608,
    "deepnote_output_heights": [
     408
    ]
   },
   "source": "year = 1994 + np.arange(by_pter.num_rows)/4\npter_over_time = unemployment.with_columns(\n    \"Year\", year,\n    \"PTER\", pter,\n)\npter_over_time.plot('Year','PTER')\nplots.ylim(0,2); # Do not change this line",
   "execution_count": null,
   "outputs": [
    {
     "data": {
      "text/plain": "<Figure size 432x432 with 1 Axes>",
      "image/png": "[encoded data removed]"
     },
     "metadata": {
      "image/png": {
       "width": 443,
       "height": 406
      }
     },
     "output_type": "display_data"
    }
   ]
  },
  {
   "cell_type": "code",
   "metadata": {
    "deletable": false,
    "editable": false,
    "cell_id": "00026-67f6ea27-457b-4bfe-b679-9d49acb101e4",
    "deepnote_to_be_reexecuted": false,
    "source_hash": "98548ee4",
    "execution_start": 1658966656973,
    "execution_millis": 112,
    "deepnote_cell_type": "code",
    "deepnote_cell_height": 137,
    "deepnote_output_heights": [
     45
    ]
   },
   "source": "grader.check(\"q1_6\")",
   "execution_count": null,
   "outputs": [
    {
     "output_type": "execute_result",
     "execution_count": 48,
     "data": {
      "text/plain": "q1_6 results: All test cases passed!",
      "text/html": "<p><strong><pre style='display: inline;'>q1_6</pre></strong> passed!</p>"
     },
     "metadata": {}
    }
   ]
  },
  {
   "cell_type": "markdown",
   "source": "**Question 7.** Were PTER rates high during the Great Recession (that is to say, were PTER rates particularly high in the years 2008 through 2011)? Assign `highPTER` to `True` if you think PTER rates were high in this period, or `False` if you think they weren't. **(4 Points)**\n\n<!--\nBEGIN QUESTION\nname: q1_7\npoints:\n - 0\n - 4\n-->",
   "metadata": {
    "deletable": false,
    "editable": false,
    "cell_id": "00027-4cfa4cbc-7cef-4e6f-b28e-f544c058987c",
    "deepnote_cell_type": "markdown",
    "deepnote_cell_height": 110
   }
  },
  {
   "cell_type": "code",
   "metadata": {
    "cell_id": "00028-ca8a374b-9dae-4eea-95f2-1173084e17d8",
    "deepnote_to_be_reexecuted": false,
    "source_hash": "3477351f",
    "execution_start": 1658966873749,
    "execution_millis": 4,
    "deepnote_cell_type": "code",
    "deepnote_cell_height": 76
   },
   "source": "highPTER = True",
   "execution_count": null,
   "outputs": []
  },
  {
   "cell_type": "code",
   "metadata": {
    "deletable": false,
    "editable": false,
    "cell_id": "00029-d56145b9-e038-403d-85bf-878b541c6efa",
    "deepnote_to_be_reexecuted": false,
    "source_hash": "a4bf95f6",
    "execution_start": 1658966875488,
    "execution_millis": 60,
    "deepnote_cell_type": "code",
    "deepnote_cell_height": 137,
    "deepnote_output_heights": [
     45
    ]
   },
   "source": "grader.check(\"q1_7\")",
   "execution_count": null,
   "outputs": [
    {
     "output_type": "execute_result",
     "execution_count": 50,
     "data": {
      "text/plain": "q1_7 results: All test cases passed!",
      "text/html": "<p><strong><pre style='display: inline;'>q1_7</pre></strong> passed!</p>"
     },
     "metadata": {}
    }
   ]
  },
  {
   "cell_type": "markdown",
   "source": "## 2. Birth Rates",
   "metadata": {
    "cell_id": "00030-eaa48797-0621-465a-a5f0-a950c3a02501",
    "deepnote_cell_type": "markdown",
    "deepnote_cell_height": 70
   }
  },
  {
   "cell_type": "markdown",
   "source": "The following table gives Census-based population estimates for each US state on both July 1, 2015 and July 1, 2016. The last four columns describe the components of the estimated change in population during this time interval. **For all questions below, assume that the word \"states\" refers to all 52 rows including Puerto Rico and the District of Columbia.**\n\nThe data was taken from [here](http://www2.census.gov/programs-surveys/popest/datasets/2010-2016/national/totals/nst-est2016-alldata.csv). (Note: If it doesn't download for you when you click the link, please copy and paste it into your address bar!) If you want to read more about the different column descriptions, click [here](http://www2.census.gov/programs-surveys/popest/datasets/2010-2015/national/totals/nst-est2015-alldata.pdf).\n\nThe raw data is a bit messy—run the cell below to clean the table and make it easier to work with.",
   "metadata": {
    "cell_id": "00031-f0102bc0-69be-4d97-8cb3-f4f58d5840ee",
    "deepnote_cell_type": "markdown",
    "deepnote_cell_height": 190
   }
  },
  {
   "cell_type": "code",
   "metadata": {
    "cell_id": "00032-fe68f725-c54a-480c-9dfb-3ac565835507",
    "deepnote_to_be_reexecuted": false,
    "source_hash": "2413708b",
    "execution_start": 1658966895812,
    "execution_millis": 41,
    "deepnote_cell_type": "code",
    "deepnote_cell_height": 413,
    "deepnote_output_heights": [
     208
    ]
   },
   "source": "# Don't change this cell; just run it.\npop = Table.read_table('nst-est2016-alldata.csv').where('SUMLEV', 40).select([1, 4, 12, 13, 27, 34, 62, 69])\npop = pop.relabeled('POPESTIMATE2015', '2015').relabeled('POPESTIMATE2016', '2016')\npop = pop.relabeled('BIRTHS2016', 'BIRTHS').relabeled('DEATHS2016', 'DEATHS')\npop = pop.relabeled('NETMIG2016', 'MIGRATION').relabeled('RESIDUAL2016', 'OTHER')\npop = pop.with_columns(\"REGION\", np.array([int(region) if region != \"X\" else 0 for region in pop.column(\"REGION\")]))\npop.set_format([2, 3, 4, 5, 6, 7], NumberFormatter(decimals=0)).show(5)",
   "execution_count": null,
   "outputs": [
    {
     "data": {
      "text/plain": "<IPython.core.display.HTML object>",
      "text/html": "<table border=\"1\" class=\"dataframe\">\n    <thead>\n        <tr>\n            <th>REGION</th> <th>NAME</th> <th>2015</th> <th>2016</th> <th>BIRTHS</th> <th>DEATHS</th> <th>MIGRATION</th> <th>OTHER</th>\n        </tr>\n    </thead>\n    <tbody>\n        <tr>\n            <td>3     </td> <td>Alabama   </td> <td>4,853,875 </td> <td>4,863,300 </td> <td>58,556 </td> <td>52,405 </td> <td>3,874    </td> <td>-600  </td>\n        </tr>\n        <tr>\n            <td>4     </td> <td>Alaska    </td> <td>737,709   </td> <td>741,894   </td> <td>11,255 </td> <td>4,511  </td> <td>-2,557   </td> <td>-2    </td>\n        </tr>\n        <tr>\n            <td>4     </td> <td>Arizona   </td> <td>6,817,565 </td> <td>6,931,071 </td> <td>87,204 </td> <td>56,564 </td> <td>76,405   </td> <td>6,461 </td>\n        </tr>\n        <tr>\n            <td>3     </td> <td>Arkansas  </td> <td>2,977,853 </td> <td>2,988,248 </td> <td>37,936 </td> <td>30,581 </td> <td>3,530    </td> <td>-490  </td>\n        </tr>\n        <tr>\n            <td>4     </td> <td>California</td> <td>38,993,940</td> <td>39,250,017</td> <td>502,848</td> <td>273,850</td> <td>33,530   </td> <td>-6,451</td>\n        </tr>\n    </tbody>\n</table>\n<p>... (47 rows omitted)</p>"
     },
     "metadata": {},
     "output_type": "display_data"
    }
   ]
  },
  {
   "cell_type": "markdown",
   "source": "**Question 1.** Assign `us_birth_rate` to the total US annual birth rate during this time interval. The annual birth rate for a year-long period is the total number of births in that period as a proportion of the total population size at the start of the time period. **(4 Points)**\n\n*Hint:* Which year corresponds to the start of the time period?\n\n<!--\nBEGIN QUESTION\nname: q2_1\npoints:\n - 0\n - 4\n-->",
   "metadata": {
    "deletable": false,
    "editable": false,
    "cell_id": "00033-f870e2eb-bb88-48f0-bed7-39968ad042e3",
    "deepnote_cell_type": "markdown",
    "deepnote_cell_height": 146
   }
  },
  {
   "cell_type": "code",
   "metadata": {
    "cell_id": "00034-7279de91-808b-40dd-99d6-37e926160a2c",
    "deepnote_to_be_reexecuted": false,
    "source_hash": "95d34982",
    "execution_start": 1658967361309,
    "execution_millis": 2,
    "deepnote_cell_type": "code",
    "deepnote_cell_height": 131,
    "deepnote_output_heights": [
     21
    ]
   },
   "source": "us_birth_rate = sum(pop.column(\"BIRTHS\")) / sum(pop.column(\"2015\"))\nus_birth_rate",
   "execution_count": null,
   "outputs": [
    {
     "output_type": "execute_result",
     "execution_count": 54,
     "data": {
      "text/plain": "0.012358536498646102"
     },
     "metadata": {}
    }
   ]
  },
  {
   "cell_type": "code",
   "metadata": {
    "deletable": false,
    "editable": false,
    "cell_id": "00035-9e78e6c7-d204-47ec-a97a-d0ebec7155b5",
    "deepnote_to_be_reexecuted": false,
    "source_hash": "a19e2eb2",
    "execution_start": 1658967364615,
    "execution_millis": 65,
    "deepnote_cell_type": "code",
    "deepnote_cell_height": 137,
    "deepnote_output_heights": [
     45
    ]
   },
   "source": "grader.check(\"q2_1\")",
   "execution_count": null,
   "outputs": [
    {
     "output_type": "execute_result",
     "execution_count": 55,
     "data": {
      "text/plain": "q2_1 results: All test cases passed!",
      "text/html": "<p><strong><pre style='display: inline;'>q2_1</pre></strong> passed!</p>"
     },
     "metadata": {}
    }
   ]
  },
  {
   "cell_type": "markdown",
   "source": "**Question 2.** Assign `movers` to the number of states for which the **absolute value** of the **annual rate of migration** was higher than 1%. The annual rate of migration for a year-long period is the net number of migrations (in and out) as a proportion of the population size at the start of the period. The `MIGRATION` column contains estimated annual net migration counts by state. **(4 Points)**\n\n*Hint*: `migration_rates` should be a table and `movers` should be a number.\n\n<!--\nBEGIN QUESTION\nname: q2_2\npoints:\n - 0\n - 4\n-->",
   "metadata": {
    "deletable": false,
    "editable": false,
    "cell_id": "00036-bfa7c47f-b36c-4b3e-951d-282a957f43fc",
    "deepnote_cell_type": "markdown",
    "deepnote_cell_height": 168
   }
  },
  {
   "cell_type": "code",
   "metadata": {
    "cell_id": "00037-424416d7-4f2a-4942-a2c5-f0b24984ae7c",
    "deepnote_to_be_reexecuted": false,
    "source_hash": "f096e23e",
    "execution_start": 1658968333414,
    "execution_millis": 10,
    "deepnote_cell_type": "code",
    "deepnote_cell_height": 203,
    "deepnote_output_heights": [
     21
    ]
   },
   "source": "migration_rates = pop.with_column(\n    \"Migration_Rates\", abs(pop.column(\"MIGRATION\") / pop.column(\"2015\"))\n)\nmovers = migration_rates.where('Migration_Rates', are.above(0.01)).num_rows\n#migration_rates\nmovers",
   "execution_count": null,
   "outputs": [
    {
     "output_type": "execute_result",
     "execution_count": 65,
     "data": {
      "text/plain": "9"
     },
     "metadata": {}
    }
   ]
  },
  {
   "cell_type": "code",
   "metadata": {
    "deletable": false,
    "editable": false,
    "cell_id": "00038-2afb6e2b-5adc-408d-9f2e-cd42fe4aba8d",
    "deepnote_to_be_reexecuted": false,
    "source_hash": "11e67844",
    "execution_start": 1658968336520,
    "execution_millis": 68,
    "deepnote_cell_type": "code",
    "deepnote_cell_height": 137,
    "deepnote_output_heights": [
     45
    ]
   },
   "source": "grader.check(\"q2_2\")",
   "execution_count": null,
   "outputs": [
    {
     "output_type": "execute_result",
     "execution_count": 66,
     "data": {
      "text/plain": "q2_2 results: All test cases passed!",
      "text/html": "<p><strong><pre style='display: inline;'>q2_2</pre></strong> passed!</p>"
     },
     "metadata": {}
    }
   ]
  },
  {
   "cell_type": "markdown",
   "source": "**Question 3.** Assign `west_births` to the total number of births that occurred in region 4 (the Western US). **(4 Points)**\n\n*Hint:* Make sure you double check the type of the values in the `REGION` column and appropriately filter (i.e. the types must match!).\n\n<!--\nBEGIN QUESTION\nname: q2_3\npoints:\n - 0\n - 4\n-->",
   "metadata": {
    "deletable": false,
    "editable": false,
    "cell_id": "00039-6c80c8ab-a374-479f-a8d0-d04173fdcb50",
    "deepnote_cell_type": "markdown",
    "deepnote_cell_height": 124
   }
  },
  {
   "cell_type": "code",
   "metadata": {
    "cell_id": "00040-6413e2e1-6479-4ff5-beaf-e469db04e17e",
    "deepnote_to_be_reexecuted": false,
    "source_hash": "c4fca466",
    "execution_start": 1658968714154,
    "execution_millis": 6,
    "deepnote_cell_type": "code",
    "deepnote_cell_height": 131,
    "deepnote_output_heights": [
     21
    ]
   },
   "source": "west_births = sum(pop.where('REGION', 4).column('BIRTHS'))\nwest_births",
   "execution_count": null,
   "outputs": [
    {
     "output_type": "execute_result",
     "execution_count": 69,
     "data": {
      "text/plain": "979657"
     },
     "metadata": {}
    }
   ]
  },
  {
   "cell_type": "code",
   "metadata": {
    "deletable": false,
    "editable": false,
    "cell_id": "00041-557db5ca-f3eb-426f-8131-ebd2a3dc8068",
    "deepnote_to_be_reexecuted": false,
    "source_hash": "b78f4930",
    "execution_start": 1658968717413,
    "execution_millis": 673,
    "deepnote_cell_type": "code",
    "deepnote_cell_height": 137,
    "deepnote_output_heights": [
     45
    ]
   },
   "source": "grader.check(\"q2_3\")",
   "execution_count": null,
   "outputs": [
    {
     "output_type": "execute_result",
     "execution_count": 70,
     "data": {
      "text/plain": "q2_3 results: All test cases passed!",
      "text/html": "<p><strong><pre style='display: inline;'>q2_3</pre></strong> passed!</p>"
     },
     "metadata": {}
    }
   ]
  },
  {
   "cell_type": "markdown",
   "source": "**Question 4.** In the next question, you will be creating a visualization to understand the relationship between birth and death rates. The annual death rate for a year-long period is the total number of deaths in that period as a proportion of the population size at the start of the time period.\n\nWhat visualization is most appropriate to see if there is an association between birth and death rates during a given time interval?\n\n1. Line Graph\n2. Bar Chart\n3. Scatter Plot\n\nAssign `visualization` below to the number corresponding to the correct visualization. **(4 Points)**\n\n<!--\nBEGIN QUESTION\nname: q2_4\npoints:\n - 0\n - 0\n - 4\n-->",
   "metadata": {
    "deletable": false,
    "editable": false,
    "cell_id": "00042-3b3b129b-d22a-4d97-9ff3-ec3ac17102ce",
    "deepnote_cell_type": "markdown",
    "deepnote_cell_height": 268
   }
  },
  {
   "cell_type": "code",
   "metadata": {
    "cell_id": "00043-6f05f766-4cb3-4343-a3b4-bcd326ce12e2",
    "deepnote_to_be_reexecuted": false,
    "source_hash": "a444062",
    "execution_start": 1658968781808,
    "execution_millis": 0,
    "deepnote_cell_type": "code",
    "deepnote_cell_height": 76
   },
   "source": "visualization = 3",
   "execution_count": null,
   "outputs": []
  },
  {
   "cell_type": "code",
   "metadata": {
    "deletable": false,
    "editable": false,
    "cell_id": "00044-b05aaffc-c310-4136-97f1-7139a2d9f04d",
    "deepnote_to_be_reexecuted": false,
    "source_hash": "c5ceafb3",
    "execution_start": 1658968784048,
    "execution_millis": 97,
    "deepnote_cell_type": "code",
    "deepnote_cell_height": 137,
    "deepnote_output_heights": [
     45
    ]
   },
   "source": "grader.check(\"q2_4\")",
   "execution_count": null,
   "outputs": [
    {
     "output_type": "execute_result",
     "execution_count": 72,
     "data": {
      "text/plain": "q2_4 results: All test cases passed!",
      "text/html": "<p><strong><pre style='display: inline;'>q2_4</pre></strong> passed!</p>"
     },
     "metadata": {}
    }
   ]
  },
  {
   "cell_type": "markdown",
   "source": "<!-- BEGIN QUESTION -->\n\n**Question 5.** In the code cell below, create a visualization that will help us determine if there is an association between birth rate and death rate during this time interval. It may be helpful to create an intermediate table here. **(4 Points)**\n\nThings to consider:\n\n- What type of chart will help us illustrate an association between 2 variables?\n- How can you manipulate a certain table to help generate your chart?\n- Check out the Recommended Reading for this homework!\n\n<!--\nBEGIN QUESTION\nname: q2_5\nmanual: true\n-->",
   "metadata": {
    "deletable": false,
    "editable": false,
    "cell_id": "00045-e57fc494-575d-4cd9-9435-0e7f72dd8cd9",
    "deepnote_cell_type": "markdown",
    "deepnote_cell_height": 210
   }
  },
  {
   "cell_type": "code",
   "metadata": {
    "deletable": false,
    "manual_problem_id": "birth_death_rates_graph",
    "cell_id": "00046-9b96f2cf-2987-43f0-b11f-baf37cca5314",
    "deepnote_to_be_reexecuted": false,
    "source_hash": "f6e60b2c",
    "execution_start": 1658969413001,
    "execution_millis": 153,
    "deepnote_cell_type": "code",
    "deepnote_cell_height": 581,
    "deepnote_output_heights": [
     345
    ]
   },
   "source": "# In this cell, use birth_rates and death_rates to generate your visualization\nbirth_rates = pop.column('BIRTHS') / pop.column('2015')\ndeath_rates = pop.column('DEATHS') / pop.column('2015')\nAssoc = Table().with_columns(\n\"Birth_Rates\", birth_rates,\n\"Death_Rates\", death_rates\n)\n#Assoc\nAssoc.scatter(\"Birth_Rates\", \"Death_Rates\")",
   "execution_count": null,
   "outputs": [
    {
     "data": {
      "text/plain": "<Figure size 360x360 with 1 Axes>",
      "image/png": "[encoded data removed]"
     },
     "metadata": {
      "image/png": {
       "width": 391,
       "height": 343
      }
     },
     "output_type": "display_data"
    }
   ]
  },
  {
   "cell_type": "code",
   "metadata": {
    "cell_id": "12746b811164481abc66127a47b14ece",
    "tags": [],
    "deepnote_to_be_reexecuted": false,
    "source_hash": "b2b76468",
    "execution_start": 1658969469526,
    "execution_millis": 25,
    "deepnote_cell_type": "code",
    "deepnote_cell_height": 765,
    "deepnote_output_heights": [
     611
    ]
   },
   "source": "grader.check(\"q2_5\")",
   "execution_count": null,
   "outputs": [
    {
     "output_type": "error",
     "ename": "KeyError",
     "evalue": "'otter'",
     "traceback": [
      "\u001b[0;31m---------------------------------------------------------------------------\u001b[0m",
      "\u001b[0;31mKeyError\u001b[0m                                  Traceback (most recent call last)",
      "\u001b[0;32m<ipython-input-87-583f61b7d7d1>\u001b[0m in \u001b[0;36m<cell line: 1>\u001b[0;34m()\u001b[0m\n\u001b[0;32m----> 1\u001b[0;31m \u001b[0mgrader\u001b[0m\u001b[0;34m.\u001b[0m\u001b[0mcheck\u001b[0m\u001b[0;34m(\u001b[0m\u001b[0;34m\"q2_5\"\u001b[0m\u001b[0;34m)\u001b[0m\u001b[0;34m\u001b[0m\u001b[0;34m\u001b[0m\u001b[0m\n\u001b[0m",
      "\u001b[0;32m~/venv/lib/python3.9/site-packages/otter/check/utils.py\u001b[0m in \u001b[0;36mrun_function\u001b[0;34m(self, *args, **kwargs)\u001b[0m\n\u001b[1;32m    134\u001b[0m                 \u001b[0;32mexcept\u001b[0m \u001b[0mException\u001b[0m \u001b[0;32mas\u001b[0m \u001b[0me\u001b[0m\u001b[0;34m:\u001b[0m\u001b[0;34m\u001b[0m\u001b[0;34m\u001b[0m\u001b[0m\n\u001b[1;32m    135\u001b[0m                     \u001b[0mself\u001b[0m\u001b[0;34m.\u001b[0m\u001b[0m_log_event\u001b[0m\u001b[0;34m(\u001b[0m\u001b[0mevent_type\u001b[0m\u001b[0;34m,\u001b[0m \u001b[0msuccess\u001b[0m\u001b[0;34m=\u001b[0m\u001b[0;32mFalse\u001b[0m\u001b[0;34m,\u001b[0m \u001b[0merror\u001b[0m\u001b[0;34m=\u001b[0m\u001b[0me\u001b[0m\u001b[0;34m)\u001b[0m\u001b[0;34m\u001b[0m\u001b[0;34m\u001b[0m\u001b[0m\n\u001b[0;32m--> 136\u001b[0;31m                     \u001b[0;32mraise\u001b[0m \u001b[0me\u001b[0m\u001b[0;34m\u001b[0m\u001b[0;34m\u001b[0m\u001b[0m\n\u001b[0m\u001b[1;32m    137\u001b[0m                 \u001b[0;32melse\u001b[0m\u001b[0;34m:\u001b[0m\u001b[0;34m\u001b[0m\u001b[0;34m\u001b[0m\u001b[0m\n\u001b[1;32m    138\u001b[0m                     \u001b[0mself\u001b[0m\u001b[0;34m.\u001b[0m\u001b[0m_log_event\u001b[0m\u001b[0;34m(\u001b[0m\u001b[0mevent_type\u001b[0m\u001b[0;34m,\u001b[0m \u001b[0mresults\u001b[0m\u001b[0;34m=\u001b[0m\u001b[0mresults\u001b[0m\u001b[0;34m,\u001b[0m \u001b[0mquestion\u001b[0m\u001b[0;34m=\u001b[0m\u001b[0mquestion\u001b[0m\u001b[0;34m,\u001b[0m \u001b[0mshelve_env\u001b[0m\u001b[0;34m=\u001b[0m\u001b[0mshelve_env\u001b[0m\u001b[0;34m)\u001b[0m\u001b[0;34m\u001b[0m\u001b[0;34m\u001b[0m\u001b[0m\n",
      "\u001b[0;32m~/venv/lib/python3.9/site-packages/otter/check/utils.py\u001b[0m in \u001b[0;36mrun_function\u001b[0;34m(self, *args, **kwargs)\u001b[0m\n\u001b[1;32m    127\u001b[0m                 \u001b[0;32mtry\u001b[0m\u001b[0;34m:\u001b[0m\u001b[0;34m\u001b[0m\u001b[0;34m\u001b[0m\u001b[0m\n\u001b[1;32m    128\u001b[0m                     \u001b[0;32mif\u001b[0m \u001b[0mevent_type\u001b[0m \u001b[0;34m==\u001b[0m \u001b[0mEventType\u001b[0m\u001b[0;34m.\u001b[0m\u001b[0mCHECK\u001b[0m\u001b[0;34m:\u001b[0m\u001b[0;34m\u001b[0m\u001b[0;34m\u001b[0m\u001b[0m\n\u001b[0;32m--> 129\u001b[0;31m                         \u001b[0mquestion\u001b[0m\u001b[0;34m,\u001b[0m \u001b[0mresults\u001b[0m\u001b[0;34m,\u001b[0m \u001b[0mshelve_env\u001b[0m \u001b[0;34m=\u001b[0m \u001b[0mf\u001b[0m\u001b[0;34m(\u001b[0m\u001b[0mself\u001b[0m\u001b[0;34m,\u001b[0m \u001b[0;34m*\u001b[0m\u001b[0margs\u001b[0m\u001b[0;34m,\u001b[0m \u001b[0;34m**\u001b[0m\u001b[0mkwargs\u001b[0m\u001b[0;34m)\u001b[0m\u001b[0;34m\u001b[0m\u001b[0;34m\u001b[0m\u001b[0m\n\u001b[0m\u001b[1;32m    130\u001b[0m                     \u001b[0;32melse\u001b[0m\u001b[0;34m:\u001b[0m\u001b[0;34m\u001b[0m\u001b[0;34m\u001b[0m\u001b[0m\n\u001b[1;32m    131\u001b[0m                         \u001b[0mresults\u001b[0m \u001b[0;34m=\u001b[0m \u001b[0mf\u001b[0m\u001b[0;34m(\u001b[0m\u001b[0mself\u001b[0m\u001b[0;34m,\u001b[0m \u001b[0;34m*\u001b[0m\u001b[0margs\u001b[0m\u001b[0;34m,\u001b[0m \u001b[0;34m**\u001b[0m\u001b[0mkwargs\u001b[0m\u001b[0;34m)\u001b[0m\u001b[0;34m\u001b[0m\u001b[0;34m\u001b[0m\u001b[0m\n",
      "\u001b[0;32m~/venv/lib/python3.9/site-packages/otter/check/notebook.py\u001b[0m in \u001b[0;36mcheck\u001b[0;34m(self, question, global_env)\u001b[0m\n\u001b[1;32m    177\u001b[0m \u001b[0;34m\u001b[0m\u001b[0m\n\u001b[1;32m    178\u001b[0m         \u001b[0;31m# run the check\u001b[0m\u001b[0;34m\u001b[0m\u001b[0;34m\u001b[0m\u001b[0m\n\u001b[0;32m--> 179\u001b[0;31m         \u001b[0mresult\u001b[0m \u001b[0;34m=\u001b[0m \u001b[0mcheck\u001b[0m\u001b[0;34m(\u001b[0m\u001b[0mtest_path\u001b[0m\u001b[0;34m,\u001b[0m \u001b[0mtest_name\u001b[0m\u001b[0;34m,\u001b[0m \u001b[0mglobal_env\u001b[0m\u001b[0;34m)\u001b[0m\u001b[0;34m\u001b[0m\u001b[0;34m\u001b[0m\u001b[0m\n\u001b[0m\u001b[1;32m    180\u001b[0m \u001b[0;34m\u001b[0m\u001b[0m\n\u001b[1;32m    181\u001b[0m         \u001b[0;32mreturn\u001b[0m \u001b[0mquestion\u001b[0m\u001b[0;34m,\u001b[0m \u001b[0mresult\u001b[0m\u001b[0;34m,\u001b[0m \u001b[0mglobal_env\u001b[0m\u001b[0;34m\u001b[0m\u001b[0;34m\u001b[0m\u001b[0m\n",
      "\u001b[0;32m~/venv/lib/python3.9/site-packages/otter/execute/__init__.py\u001b[0m in \u001b[0;36mcheck\u001b[0;34m(nb_or_test_path, test_name, global_env)\u001b[0m\n\u001b[1;32m     44\u001b[0m         \u001b[0mtest\u001b[0m \u001b[0;34m=\u001b[0m \u001b[0mOKTestFile\u001b[0m\u001b[0;34m.\u001b[0m\u001b[0mfrom_file\u001b[0m\u001b[0;34m(\u001b[0m\u001b[0mnb_or_test_path\u001b[0m\u001b[0;34m)\u001b[0m\u001b[0;34m\u001b[0m\u001b[0;34m\u001b[0m\u001b[0m\n\u001b[1;32m     45\u001b[0m     \u001b[0;32melse\u001b[0m\u001b[0;34m:\u001b[0m\u001b[0;34m\u001b[0m\u001b[0;34m\u001b[0m\u001b[0m\n\u001b[0;32m---> 46\u001b[0;31m         \u001b[0mtest\u001b[0m \u001b[0;34m=\u001b[0m \u001b[0mNotebookMetadataOKTestFile\u001b[0m\u001b[0;34m.\u001b[0m\u001b[0mfrom_file\u001b[0m\u001b[0;34m(\u001b[0m\u001b[0mnb_or_test_path\u001b[0m\u001b[0;34m,\u001b[0m \u001b[0mtest_name\u001b[0m\u001b[0;34m)\u001b[0m\u001b[0;34m\u001b[0m\u001b[0;34m\u001b[0m\u001b[0m\n\u001b[0m\u001b[1;32m     47\u001b[0m \u001b[0;34m\u001b[0m\u001b[0m\n\u001b[1;32m     48\u001b[0m     \u001b[0;32mif\u001b[0m \u001b[0mglobal_env\u001b[0m \u001b[0;32mis\u001b[0m \u001b[0;32mNone\u001b[0m\u001b[0;34m:\u001b[0m\u001b[0;34m\u001b[0m\u001b[0;34m\u001b[0m\u001b[0m\n",
      "\u001b[0;32m~/venv/lib/python3.9/site-packages/otter/test_files/metadata_test.py\u001b[0m in \u001b[0;36mfrom_file\u001b[0;34m(cls, path, test_name)\u001b[0m\n\u001b[1;32m     74\u001b[0m             \u001b[0mnb\u001b[0m \u001b[0;34m=\u001b[0m \u001b[0mjson\u001b[0m\u001b[0;34m.\u001b[0m\u001b[0mload\u001b[0m\u001b[0;34m(\u001b[0m\u001b[0mf\u001b[0m\u001b[0;34m)\u001b[0m\u001b[0;34m\u001b[0m\u001b[0;34m\u001b[0m\u001b[0m\n\u001b[1;32m     75\u001b[0m \u001b[0;34m\u001b[0m\u001b[0m\n\u001b[0;32m---> 76\u001b[0;31m         \u001b[0mtest_spec\u001b[0m \u001b[0;34m=\u001b[0m \u001b[0mnb\u001b[0m\u001b[0;34m[\u001b[0m\u001b[0;34m\"metadata\"\u001b[0m\u001b[0;34m]\u001b[0m\u001b[0;34m[\u001b[0m\u001b[0mNOTEBOOK_METADATA_KEY\u001b[0m\u001b[0;34m]\u001b[0m\u001b[0;34m[\u001b[0m\u001b[0;34m\"tests\"\u001b[0m\u001b[0;34m]\u001b[0m\u001b[0;34m\u001b[0m\u001b[0;34m\u001b[0m\u001b[0m\n\u001b[0m\u001b[1;32m     77\u001b[0m         \u001b[0;32mif\u001b[0m \u001b[0mtest_name\u001b[0m \u001b[0;32mnot\u001b[0m \u001b[0;32min\u001b[0m \u001b[0mtest_spec\u001b[0m\u001b[0;34m:\u001b[0m\u001b[0;34m\u001b[0m\u001b[0;34m\u001b[0m\u001b[0m\n\u001b[1;32m     78\u001b[0m             \u001b[0;32mraise\u001b[0m \u001b[0mValueError\u001b[0m\u001b[0;34m(\u001b[0m\u001b[0;34mf\"Test {test_name} not found\"\u001b[0m\u001b[0;34m)\u001b[0m\u001b[0;34m\u001b[0m\u001b[0;34m\u001b[0m\u001b[0m\n",
      "\u001b[0;31mKeyError\u001b[0m: 'otter'"
     ]
    }
   ]
  },
  {
   "cell_type": "markdown",
   "source": "<!-- END QUESTION -->\n\n**Question 6.** True or False: There is an association between birth rate and death rate during this time interval. \n\nAssign `assoc` to `True` or `False` in the cell below. **(4 Points)**\n\n<!--\nBEGIN QUESTION\nname: q2_6\npoints:\n - 0\n - 4\n-->",
   "metadata": {
    "deletable": false,
    "editable": false,
    "cell_id": "00047-1a957864-2bdd-4bc9-b8f5-ae766ecff9ca",
    "deepnote_cell_type": "markdown",
    "deepnote_cell_height": 102
   }
  },
  {
   "cell_type": "code",
   "metadata": {
    "cell_id": "00048-c3329f30-e591-4751-983c-67a546a7d6ca",
    "deepnote_to_be_reexecuted": false,
    "source_hash": "e8f5a9d4",
    "execution_start": 1658969502172,
    "execution_millis": 1,
    "deepnote_cell_type": "code",
    "deepnote_cell_height": 76
   },
   "source": "assoc = False",
   "execution_count": null,
   "outputs": []
  },
  {
   "cell_type": "code",
   "metadata": {
    "deletable": false,
    "editable": false,
    "cell_id": "00049-a41373ec-873e-4a30-b356-15d2a60bc0f6",
    "deepnote_to_be_reexecuted": false,
    "source_hash": "8c826f59",
    "execution_start": 1658969504629,
    "execution_millis": 553,
    "deepnote_cell_type": "code",
    "deepnote_cell_height": 137,
    "deepnote_output_heights": [
     45
    ]
   },
   "source": "grader.check(\"q2_6\")",
   "execution_count": null,
   "outputs": [
    {
     "output_type": "execute_result",
     "execution_count": 89,
     "data": {
      "text/plain": "q2_6 results: All test cases passed!",
      "text/html": "<p><strong><pre style='display: inline;'>q2_6</pre></strong> passed!</p>"
     },
     "metadata": {}
    }
   ]
  },
  {
   "cell_type": "markdown",
   "source": "## 3. Uber",
   "metadata": {
    "cell_id": "00050-8de66bd8-6cd1-4d3d-ae6c-4da4e269d087",
    "deepnote_cell_type": "markdown",
    "deepnote_cell_height": 70
   }
  },
  {
   "cell_type": "markdown",
   "source": "Below we load tables containing 200,000 weekday Uber rides in the Manila, Philippines, and Boston, Massachusetts metropolitan areas from the [Uber Movement](https://movement.uber.com) project. The `sourceid` and `dstid` columns contain codes corresponding to start and end locations of each ride. The `hod` column contains codes corresponding to the hour of the day the ride took place. The `ride time` column contains the length of the ride in minutes.",
   "metadata": {
    "cell_id": "00051-2c6a218c-2b9e-4dbf-8e32-29006adfdfaf",
    "deepnote_cell_type": "markdown",
    "deepnote_cell_height": 118
   }
  },
  {
   "cell_type": "code",
   "metadata": {
    "for_question_type": "solution",
    "scrolled": true,
    "cell_id": "00052-96b207cf-89f0-4b6f-bbee-97ca14d52537",
    "deepnote_to_be_reexecuted": false,
    "source_hash": "bb944953",
    "execution_start": 1658969598042,
    "execution_millis": 445,
    "deepnote_cell_type": "code",
    "deepnote_cell_height": 663,
    "deepnote_output_heights": [
     null,
     179,
     null,
     179
    ]
   },
   "source": "boston = Table.read_table(\"boston.csv\")\nmanila = Table.read_table(\"manila.csv\")\nprint(\"Boston Table\")\nboston.show(4)\nprint(\"Manila Table\")\nmanila.show(4)",
   "execution_count": null,
   "outputs": [
    {
     "name": "stdout",
     "text": "Boston Table\n",
     "output_type": "stream"
    },
    {
     "data": {
      "text/plain": "<IPython.core.display.HTML object>",
      "text/html": "<table border=\"1\" class=\"dataframe\">\n    <thead>\n        <tr>\n            <th>sourceid</th> <th>dstid</th> <th>hod</th> <th>ride time</th>\n        </tr>\n    </thead>\n    <tbody>\n        <tr>\n            <td>584     </td> <td>33   </td> <td>7   </td> <td>11.866   </td>\n        </tr>\n        <tr>\n            <td>1013    </td> <td>1116 </td> <td>13  </td> <td>17.7993  </td>\n        </tr>\n        <tr>\n            <td>884     </td> <td>1190 </td> <td>22  </td> <td>19.3488  </td>\n        </tr>\n        <tr>\n            <td>211     </td> <td>364  </td> <td>1   </td> <td>1.7235   </td>\n        </tr>\n    </tbody>\n</table>\n<p>... (199996 rows omitted)</p>"
     },
     "metadata": {},
     "output_type": "display_data"
    },
    {
     "name": "stdout",
     "text": "Manila Table\n",
     "output_type": "stream"
    },
    {
     "data": {
      "text/plain": "<IPython.core.display.HTML object>",
      "text/html": "<table border=\"1\" class=\"dataframe\">\n    <thead>\n        <tr>\n            <th>sourceid</th> <th>dstid</th> <th>hod</th> <th>ride time</th>\n        </tr>\n    </thead>\n    <tbody>\n        <tr>\n            <td>544     </td> <td>5    </td> <td>22  </td> <td>22.8115  </td>\n        </tr>\n        <tr>\n            <td>302     </td> <td>240  </td> <td>21  </td> <td>7.02267  </td>\n        </tr>\n        <tr>\n            <td>278     </td> <td>99   </td> <td>16  </td> <td>21.6437  </td>\n        </tr>\n        <tr>\n            <td>720     </td> <td>775  </td> <td>18  </td> <td>13.0597  </td>\n        </tr>\n    </tbody>\n</table>\n<p>... (199996 rows omitted)</p>"
     },
     "metadata": {},
     "output_type": "display_data"
    }
   ]
  },
  {
   "cell_type": "markdown",
   "source": "<!-- BEGIN QUESTION -->\n\n**Question 1.** Produce a histogram that visualizes the distributions of all ride times in Boston using the given bins in `equal_bins`. **(4 Points)**\n\n<!--\nBEGIN QUESTION\nname: q3_1\nmanual: true\n-->",
   "metadata": {
    "deletable": false,
    "editable": false,
    "cell_id": "00053-dd5f0e55-1d3c-4b16-aff0-dfe658a4d602",
    "deepnote_cell_type": "markdown",
    "deepnote_cell_height": 88
   }
  },
  {
   "cell_type": "code",
   "metadata": {
    "deletable": false,
    "manual_problem_id": "uber_1",
    "scrolled": true,
    "cell_id": "00054-c1c16119-b190-48d3-bb8d-563b786566bd",
    "deepnote_to_be_reexecuted": false,
    "source_hash": "263e5b64",
    "execution_start": 1658969709995,
    "execution_millis": 258,
    "deepnote_cell_type": "code",
    "deepnote_cell_height": 396,
    "deepnote_output_heights": [
     286
    ]
   },
   "source": "equal_bins = np.arange(0, 120, 5)\nboston.hist('ride time', bins=equal_bins)",
   "execution_count": null,
   "outputs": [
    {
     "data": {
      "text/plain": "<Figure size 432x288 with 1 Axes>",
      "image/png": "[encoded data removed]"
     },
     "metadata": {
      "image/png": {
       "width": 435,
       "height": 284
      }
     },
     "output_type": "display_data"
    }
   ]
  },
  {
   "cell_type": "markdown",
   "source": "<!-- END QUESTION -->\n\n<!-- BEGIN QUESTION -->\n\n**Question 2.** Now, produce a histogram that visualizes the distribution of all ride times in Manila using the given bins. **(4 Points)**\n\n<!--\nBEGIN QUESTION\nname: q3_2\nmanual: true\n-->",
   "metadata": {
    "deletable": false,
    "editable": false,
    "cell_id": "00055-264d7ca5-3419-47a0-a093-bae3981451a4",
    "deepnote_cell_type": "markdown",
    "deepnote_cell_height": 66
   }
  },
  {
   "cell_type": "code",
   "metadata": {
    "scrolled": true,
    "cell_id": "00056-52613c79-846c-4348-a94f-c31ee6661686",
    "deepnote_to_be_reexecuted": false,
    "source_hash": "be3c9d6c",
    "execution_start": 1658969762957,
    "execution_millis": 339,
    "deepnote_cell_type": "code",
    "deepnote_cell_height": 455,
    "deepnote_output_heights": [
     291
    ]
   },
   "source": "equal_bins = np.arange(0, 120, 5)\nmanila.hist('ride time', bins=equal_bins)\n\n# Don't delete the following line!\nplots.ylim(0, 0.05);",
   "execution_count": null,
   "outputs": [
    {
     "data": {
      "text/plain": "<Figure size 432x288 with 1 Axes>",
      "image/png": "[encoded data removed]"
     },
     "metadata": {
      "image/png": {
       "width": 435,
       "height": 289
      }
     },
     "output_type": "display_data"
    }
   ]
  },
  {
   "cell_type": "markdown",
   "source": "<!-- END QUESTION -->\n\n**Question 3.** Let's take a closer look at the y-axis label. Assign `unit_meaning` to an integer (1, 2, 3) that corresponds to the \"unit\" in \"Percent per unit\". **(4 Points)**\n\n1. minute  \n2. ride time  \n3. second\n\n<!--\nBEGIN QUESTION\nname: q3_3\npoints:\n - 0\n - 4\n-->",
   "metadata": {
    "deletable": false,
    "editable": false,
    "cell_id": "00057-0c484980-dc05-468b-bdad-7a849fac6477",
    "deepnote_cell_type": "markdown",
    "deepnote_cell_height": 174
   }
  },
  {
   "cell_type": "code",
   "metadata": {
    "cell_id": "00058-ed43ecd6-88f3-42d0-a1b3-3c16b8e874e9",
    "deepnote_to_be_reexecuted": false,
    "source_hash": "b1e76f57",
    "execution_start": 1658969808900,
    "execution_millis": 195,
    "deepnote_cell_type": "code",
    "deepnote_cell_height": 131,
    "deepnote_output_heights": [
     21
    ]
   },
   "source": "unit_meaning = 3\nunit_meaning",
   "execution_count": null,
   "outputs": [
    {
     "output_type": "execute_result",
     "execution_count": 95,
     "data": {
      "text/plain": "3"
     },
     "metadata": {}
    }
   ]
  },
  {
   "cell_type": "code",
   "metadata": {
    "deletable": false,
    "editable": false,
    "cell_id": "00059-846aa851-088b-45e4-8ccb-a060971857ee",
    "deepnote_to_be_reexecuted": false,
    "source_hash": "810aedcc",
    "execution_start": 1658969811105,
    "execution_millis": 94,
    "deepnote_cell_type": "code",
    "deepnote_cell_height": 137,
    "deepnote_output_heights": [
     45
    ]
   },
   "source": "grader.check(\"q3_3\")",
   "execution_count": null,
   "outputs": [
    {
     "output_type": "execute_result",
     "execution_count": 96,
     "data": {
      "text/plain": "q3_3 results: All test cases passed!",
      "text/html": "<p><strong><pre style='display: inline;'>q3_3</pre></strong> passed!</p>"
     },
     "metadata": {}
    }
   ]
  },
  {
   "cell_type": "markdown",
   "source": "**Question 4.** Assign `boston_under_15` and `manila_under_15` to the percentage of rides that are less than 15 minutes in their respective metropolitan areas. Use the height variables provided below in order to compute the percentages. Your solution should only use height variables, numbers, and mathematical operations. You should **not** access the tables `boston` and `manila` in any way. **(4 Points)**\n\n<!--\nBEGIN QUESTION\nname: q3_4\nmanual: false\npoints:\n - 0\n - 0\n - 2\n - 2\n-->",
   "metadata": {
    "deletable": false,
    "editable": false,
    "cell_id": "00060-f2f4356f-5f16-44db-843f-4c18b098912e",
    "deepnote_cell_type": "markdown",
    "deepnote_cell_height": 132
   }
  },
  {
   "cell_type": "code",
   "metadata": {
    "deletable": false,
    "manual_problem_id": "uber_2",
    "cell_id": "00061-161b6478-ca32-427a-892e-ac38b129c2f5",
    "deepnote_to_be_reexecuted": false,
    "source_hash": "881b0c31",
    "execution_start": 1658970472853,
    "execution_millis": 429,
    "deepnote_cell_type": "code",
    "deepnote_cell_height": 298,
    "deepnote_output_heights": [
     21
    ]
   },
   "source": "boston_under_5_height = 1.2\nmanila_under_5_height = 0.6\nboston_5_to_under_10_height = 3.2\nmanila_5_to_under_10_height = 1.4\nboston_10_to_under_15_height = 4.9\nmanila_10_to_under_15_height = 2.2\n\nboston_under_15 = boston_under_5_height * 5 + boston_5_to_under_10_height * 5 + boston_10_to_under_15_height * 5\nmanila_under_15 = manila_under_5_height * 5 + manila_5_to_under_10_height * 5 + manila_10_to_under_15_height * 5\n\nboston_under_15, manila_under_15",
   "execution_count": null,
   "outputs": [
    {
     "output_type": "execute_result",
     "execution_count": 97,
     "data": {
      "text/plain": "(46.5, 21.0)"
     },
     "metadata": {}
    }
   ]
  },
  {
   "cell_type": "code",
   "metadata": {
    "deletable": false,
    "editable": false,
    "cell_id": "00062-48b10ebc-7bb7-44d0-be02-38c3ad85c19b",
    "deepnote_to_be_reexecuted": false,
    "source_hash": "6afd526b",
    "execution_start": 1658970476154,
    "execution_millis": 99,
    "deepnote_cell_type": "code",
    "deepnote_cell_height": 137,
    "deepnote_output_heights": [
     45
    ]
   },
   "source": "grader.check(\"q3_4\")",
   "execution_count": null,
   "outputs": [
    {
     "output_type": "execute_result",
     "execution_count": 98,
     "data": {
      "text/plain": "q3_4 results: All test cases passed!",
      "text/html": "<p><strong><pre style='display: inline;'>q3_4</pre></strong> passed!</p>"
     },
     "metadata": {}
    }
   ]
  },
  {
   "cell_type": "markdown",
   "source": "**Question 5.** Let's take a closer look at the distribution of ride times in Boston. Assign `boston_median_bin` to an integer (1, 2, 3, or 4) that corresponds to the bin that contains the median time. **(4 Points)**\n\n1. 0-8 minutes  \n2. 8-14 minutes  \n3. 14-20 minutes  \n4. 20-40 minutes  \n\n*Hint:* The median of a sorted list has half of the list elements to its left, and half to its right.\n\n<!--\nBEGIN QUESTION\nname: q3_5\nmanual: false\npoints:\n - 0\n - 4\n-->",
   "metadata": {
    "deletable": false,
    "editable": false,
    "cell_id": "00063-2485df1b-de70-41e6-a1a6-8020f60d2c66",
    "deepnote_cell_type": "markdown",
    "deepnote_cell_height": 235
   }
  },
  {
   "cell_type": "code",
   "metadata": {
    "cell_id": "00064-e0e9434c-47f9-4de0-b5c4-057601397c97",
    "deepnote_to_be_reexecuted": false,
    "source_hash": "e7f5dcd0",
    "execution_start": 1658970530770,
    "execution_millis": 4,
    "deepnote_cell_type": "code",
    "deepnote_cell_height": 131,
    "deepnote_output_heights": [
     21
    ]
   },
   "source": "boston_median_bin = 3\nboston_median_bin",
   "execution_count": null,
   "outputs": [
    {
     "output_type": "execute_result",
     "execution_count": 99,
     "data": {
      "text/plain": "3"
     },
     "metadata": {}
    }
   ]
  },
  {
   "cell_type": "code",
   "metadata": {
    "deletable": false,
    "editable": false,
    "cell_id": "00065-13bb93c6-b277-4250-b986-0deb7a8a3747",
    "deepnote_to_be_reexecuted": false,
    "source_hash": "5cbc2b8e",
    "execution_start": 1658970533765,
    "execution_millis": 97,
    "deepnote_cell_type": "code",
    "deepnote_cell_height": 137,
    "deepnote_output_heights": [
     45
    ]
   },
   "source": "grader.check(\"q3_5\")",
   "execution_count": null,
   "outputs": [
    {
     "output_type": "execute_result",
     "execution_count": 100,
     "data": {
      "text/plain": "q3_5 results: All test cases passed!",
      "text/html": "<p><strong><pre style='display: inline;'>q3_5</pre></strong> passed!</p>"
     },
     "metadata": {}
    }
   ]
  },
  {
   "cell_type": "markdown",
   "source": "<!-- BEGIN QUESTION -->\n\n**Question 6.** Identify one difference between the histograms, in terms of the statistical properties. Can you comment on the average and/or skew of each histogram? **(4 Points)**\n\n*Hint*: The best way to do this is to compare the two histograms (from 3.1 and 3.2) visually.\n\n<!--\nBEGIN QUESTION\nname: q3_6\nmanual: true\n-->",
   "metadata": {
    "deletable": false,
    "editable": false,
    "cell_id": "00066-5c3dbead-2dbe-4e82-b6c9-1ade18655296",
    "deepnote_cell_type": "markdown",
    "deepnote_cell_height": 124
   }
  },
  {
   "cell_type": "markdown",
   "source": "Boston's histogram is in general taller than Manila's, but Manila's histogram is in general wider than the Boston's.",
   "metadata": {
    "cell_id": "00067-ea0186ad-98b3-4a99-ae72-1046daa01f13",
    "deepnote_cell_type": "markdown",
    "deepnote_cell_height": 52
   }
  },
  {
   "cell_type": "markdown",
   "source": "<!-- END QUESTION -->\n\n<!-- BEGIN QUESTION -->\n\n**Question 7.** Why is your solution in Question 6 the case? Based on one of the following two readings, why are the distributions for Boston and Manila different? **(4 Points)**\n\n- [Boston reading](https://www.climatestotravel.com/climate/united-states/boston)\n- [Manila reading](https://manilafyi.com/why-is-manila-traffic-so-bad/)\n\n*Hint:* Try thinking about external factors of the two cities that may be causing the difference! There may be multiple different factors that come into play.\n\n<!--\nBEGIN QUESTION\nname: q3_7\nmanual: true\n-->",
   "metadata": {
    "deletable": false,
    "editable": false,
    "cell_id": "00068-8c60be47-427b-41b3-8e62-b2806eec2a29",
    "deepnote_cell_type": "markdown",
    "deepnote_cell_height": 207
   }
  },
  {
   "cell_type": "markdown",
   "source": "Manila has longer riding times mostly due to traffic laws not being enforced. Which causes drivers to get in each other's ways, disrupting the flow of traffic. One reason we can deduce that Boston has better driving times is that Manila's transit is far worse than most cities, one of them likely being Boston. With the temperature being colder in Boston as well, we can conclude that less people are going to drive compared to people in Manila.",
   "metadata": {
    "cell_id": "00069-797a3e47-6889-4cdc-994a-51c3dfbacb1f",
    "deepnote_cell_type": "markdown",
    "deepnote_cell_height": 118
   }
  },
  {
   "cell_type": "markdown",
   "source": "<!-- END QUESTION -->\n\n\n\n## 4. Histograms",
   "metadata": {
    "tags": [],
    "cell_id": "00070-120ab4c7-246c-47f3-ad62-b3be14d215f2",
    "deepnote_cell_type": "markdown",
    "deepnote_cell_height": 70
   }
  },
  {
   "cell_type": "markdown",
   "source": "Consider the following scatter plot: \n\n![](scatter.png)\n\nThe axes of the plot represent values of two variables: $x$ and $y$. ",
   "metadata": {
    "cell_id": "00071-19d05f61-816f-4901-ae9b-c45ad07b13df",
    "deepnote_cell_type": "markdown",
    "deepnote_cell_height": 472
   }
  },
  {
   "cell_type": "markdown",
   "source": "Suppose we have a table called `t` that has two columns in it:\n\n- `x`: a column containing the x-values of the points in the scatter plot\n- `y`: a column containing the y-values of the points in the scatter plot",
   "metadata": {
    "cell_id": "00072-08dfa15e-8356-47a2-8f5e-b3e1d8b6dab9",
    "deepnote_cell_type": "markdown",
    "deepnote_cell_height": 127
   }
  },
  {
   "cell_type": "markdown",
   "source": "Below, you are given three histograms—one corresponds to column `x`, one corresponds to column `y`, and one does not correspond to either column. ",
   "metadata": {
    "cell_id": "00073-ff6842e1-bcac-4842-935e-290b7daf62b1",
    "deepnote_cell_type": "markdown",
    "deepnote_cell_height": 74
   }
  },
  {
   "cell_type": "markdown",
   "source": "**Histogram A:**\n\n![](var3.png)\n\n**Histogram B:**\n\n![](var1.png)\n\n**Histogram C:**\n\n![](var2.png)",
   "metadata": {
    "cell_id": "00074-ae49301c-2ed6-49ac-9877-81e9ea6e15d0",
    "deepnote_cell_type": "markdown",
    "deepnote_cell_height": 1033
   }
  },
  {
   "cell_type": "markdown",
   "source": "**Question 1.** Suppose we run `t.hist('x')`. Which histogram does this code produce? Assign `histogram_column_x` to either 1, 2, or 3. **(5 Points)**\n\n1. Histogram A\n2. Histogram B\n3. Histogram C\n\n<!--\nBEGIN QUESTION\nname: q4_1\nmanual: false\npoints:\n - 0\n - 1\n - 4\n-->",
   "metadata": {
    "deletable": false,
    "editable": false,
    "cell_id": "00075-4bc41de1-1057-48a2-9694-0db3a317303d",
    "deepnote_cell_type": "markdown",
    "deepnote_cell_height": 174
   }
  },
  {
   "cell_type": "code",
   "metadata": {
    "cell_id": "00076-9df2f2ab-e4a5-4309-8c73-2105b20e45e3",
    "deepnote_to_be_reexecuted": true,
    "source_hash": "3a12bea7",
    "execution_start": 1658949759309,
    "execution_millis": 1,
    "deepnote_cell_type": "code",
    "deepnote_cell_height": 76
   },
   "source": "histogram_column_x = 1",
   "execution_count": null,
   "outputs": []
  },
  {
   "cell_type": "code",
   "metadata": {
    "deletable": false,
    "editable": false,
    "cell_id": "00077-61a231e7-13ea-4414-a79c-39e2a0842069",
    "deepnote_to_be_reexecuted": true,
    "source_hash": "7f5c7086",
    "execution_start": 1658949762185,
    "execution_millis": 37,
    "deepnote_cell_type": "code",
    "deepnote_cell_height": 137,
    "deepnote_output_heights": [
     45
    ]
   },
   "source": "grader.check(\"q4_1\")",
   "execution_count": null,
   "outputs": [
    {
     "output_type": "execute_result",
     "execution_count": 26,
     "data": {
      "text/plain": "q4_1 results: All test cases passed!",
      "text/html": "<p><strong><pre style='display: inline;'>q4_1</pre></strong> passed!</p>"
     },
     "metadata": {}
    }
   ]
  },
  {
   "cell_type": "markdown",
   "source": "<!-- BEGIN QUESTION -->\n\n**Question 2.** State at least one reason why you chose the histogram from Question 1. **Make sure to clearly indicate which histogram you selected** (ex: \"I chose histogram A because ...\"). **(5 Points)**\n\n<!--\nBEGIN QUESTION\nname: q4_2\nmanual: true\n-->",
   "metadata": {
    "deletable": false,
    "editable": false,
    "cell_id": "00078-9aa33309-717c-49cf-92e0-746624194dac",
    "deepnote_cell_type": "markdown",
    "deepnote_cell_height": 88
   }
  },
  {
   "cell_type": "markdown",
   "source": "I chose Histogram A because I noticed the most x points would be around 0.",
   "metadata": {
    "cell_id": "00079-893d6314-4d74-4b51-866e-54069bb2a899",
    "deepnote_cell_type": "markdown",
    "deepnote_cell_height": 52
   }
  },
  {
   "cell_type": "markdown",
   "source": "<!-- END QUESTION -->\n\n**Question 3.** Suppose we run `t.hist('y')`. Which histogram does this code produce? Assign `histogram_column_y` to either 1, 2, or 3. **(5 Points)**\n\n1. Histogram A\n2. Histogram B\n3. Histogram C\n\n<!--\nBEGIN QUESTION\nname: q4_3\nmanual: false\npoints:\n - 0\n - 1\n - 4\n-->",
   "metadata": {
    "deletable": false,
    "editable": false,
    "cell_id": "00080-db6d1eef-68e0-408a-a7f8-41bbb58cbb65",
    "deepnote_cell_type": "markdown",
    "deepnote_cell_height": 174
   }
  },
  {
   "cell_type": "code",
   "metadata": {
    "cell_id": "00081-e150a755-e798-4e64-be42-94653ec5831e",
    "deepnote_to_be_reexecuted": true,
    "source_hash": "beb0ad55",
    "execution_start": 1658949838680,
    "execution_millis": 0,
    "deepnote_cell_type": "code",
    "deepnote_cell_height": 76
   },
   "source": "histogram_column_y = 2",
   "execution_count": null,
   "outputs": []
  },
  {
   "cell_type": "code",
   "metadata": {
    "deletable": false,
    "editable": false,
    "cell_id": "00082-4402d463-e738-45ff-b1e7-1344ff2204d0",
    "deepnote_to_be_reexecuted": true,
    "source_hash": "8e2a63d5",
    "execution_start": 1658949840417,
    "execution_millis": 624,
    "deepnote_cell_type": "code",
    "deepnote_cell_height": 137,
    "deepnote_output_heights": [
     45
    ]
   },
   "source": "grader.check(\"q4_3\")",
   "execution_count": null,
   "outputs": [
    {
     "output_type": "execute_result",
     "execution_count": 28,
     "data": {
      "text/plain": "q4_3 results: All test cases passed!",
      "text/html": "<p><strong><pre style='display: inline;'>q4_3</pre></strong> passed!</p>"
     },
     "metadata": {}
    }
   ]
  },
  {
   "cell_type": "markdown",
   "source": "<!-- BEGIN QUESTION -->\n\n**Question 4.** State at least one reason why you chose the histogram from Question 3.  **Make sure to clearly indicate which histogram you selected** (ex: \"I chose histogram A because ...\"). **(5 Points)**\n\n<!--\nBEGIN QUESTION\nname: q4_4\nmanual: true\n-->",
   "metadata": {
    "deletable": false,
    "editable": false,
    "cell_id": "00083-5d888967-8d4f-4ced-be14-259da2297725",
    "deepnote_cell_type": "markdown",
    "deepnote_cell_height": 88
   }
  },
  {
   "cell_type": "markdown",
   "source": "I chose Histogram B because I knew there would be no y points around the 0.",
   "metadata": {
    "cell_id": "00084-d25364d1-e8c2-4bad-bc9c-847ea66846af",
    "deepnote_cell_type": "markdown",
    "deepnote_cell_height": 52
   }
  },
  {
   "cell_type": "markdown",
   "source": "<!-- END QUESTION -->\n\n\n\n## 5. IUSE Survey (Optional)",
   "metadata": {
    "cell_id": "00085-0ffba687-6745-4000-a684-cc9a2f52afdc",
    "deepnote_cell_type": "markdown",
    "deepnote_cell_height": 70
   }
  },
  {
   "cell_type": "markdown",
   "source": "You're done with Homework 3!  \n\n**Important submission steps:** \n1. Run the tests and verify that they all pass.\n2. Choose **Save Notebook** from the **File** menu, then **run the final cell**. \n3. Click the link to download the zip file.\n4. Go to [Gradescope](https://www.gradescope.com/courses/349879) and submit the zip file to the corresponding assignment. The name of this assignment is \"Homework 3 Autograder\". \n\n**It is your responsibility to make sure your work is saved before running the last cell.**",
   "metadata": {
    "cell_id": "00087-63140d85-9f0b-4154-a380-18a0dd033a34",
    "owner_user_id": "80fe8cbc-043d-4a7e-9c6f-799b39be207a",
    "deepnote_cell_type": "markdown",
    "deepnote_cell_height": 257
   }
  },
  {
   "cell_type": "markdown",
   "source": "---\n\nTo double-check your work, the cell below will rerun all of the autograder tests.",
   "metadata": {
    "deletable": false,
    "editable": false,
    "cell_id": "00088-36088c94-3f36-4d97-8cfa-a4063309349f",
    "deepnote_cell_type": "markdown",
    "deepnote_cell_height": 53
   }
  },
  {
   "cell_type": "code",
   "metadata": {
    "deletable": false,
    "editable": false,
    "cell_id": "00089-e0fda008-dbbd-49a5-a560-98707acede91",
    "deepnote_to_be_reexecuted": false,
    "source_hash": "3e4d35bc",
    "execution_start": 1658971331517,
    "execution_millis": 160,
    "deepnote_cell_type": "code",
    "deepnote_cell_height": 703,
    "deepnote_output_heights": [
     611
    ]
   },
   "source": "grader.check_all()",
   "execution_count": null,
   "outputs": [
    {
     "output_type": "execute_result",
     "execution_count": 101,
     "data": {
      "text/plain": "q1_1 results: All test cases passed!\n\nq1_2 results: All test cases passed!\n\nq1_3 results: All test cases passed!\n\nq1_4 results: All test cases passed!\n\nq1_5 results: All test cases passed!\n\nq1_6 results: All test cases passed!\n\nq1_7 results: All test cases passed!\n\nq2_1 results: All test cases passed!\n\nq2_2 results: All test cases passed!\n\nq2_3 results: All test cases passed!\n\nq2_4 results: All test cases passed!\n\nq2_6 results: All test cases passed!\n\nq3_3 results: All test cases passed!\n\nq3_4 results: All test cases passed!\n\nq3_5 results: All test cases passed!\n\nq4_1 results:\n    q4_1 - 1 result:\n        Trying:\n            type(histogram_column_x) == int\n        Expecting:\n            True\n        **********************************************************************\n        Line 2, in q4_1 0\n        Failed example:\n            type(histogram_column_x) == int\n        Exception raised:\n            Traceback (most recent call last):\n              File \"/usr/local/lib/python3.9/doctest.py\", line 1334, in __run\n                exec(compile(example.source, filename, \"single\",\n              File \"<doctest q4_1 0[0]>\", line 1, in <module>\n                type(histogram_column_x) == int\n            NameError: name 'histogram_column_x' is not defined\n\n    q4_1 - 2 result:\n        Trying:\n            histogram_column_x == 1 or histogram_column_x == 2 or histogram_column_x == 3\n        Expecting:\n            True\n        **********************************************************************\n        Line 1, in q4_1 1\n        Failed example:\n            histogram_column_x == 1 or histogram_column_x == 2 or histogram_column_x == 3\n        Exception raised:\n            Traceback (most recent call last):\n              File \"/usr/local/lib/python3.9/doctest.py\", line 1334, in __run\n                exec(compile(example.source, filename, \"single\",\n              File \"<doctest q4_1 1[0]>\", line 1, in <module>\n                histogram_column_x == 1 or histogram_column_x == 2 or histogram_column_x == 3\n            NameError: name 'histogram_column_x' is not defined\n\nq4_3 results:\n    q4_3 - 1 result:\n        Trying:\n            type(histogram_column_y) == int\n        Expecting:\n            True\n        **********************************************************************\n        Line 2, in q4_3 0\n        Failed example:\n            type(histogram_column_y) == int\n        Exception raised:\n            Traceback (most recent call last):\n              File \"/usr/local/lib/python3.9/doctest.py\", line 1334, in __run\n                exec(compile(example.source, filename, \"single\",\n              File \"<doctest q4_3 0[0]>\", line 1, in <module>\n                type(histogram_column_y) == int\n            NameError: name 'histogram_column_y' is not defined\n\n    q4_3 - 2 result:\n        Trying:\n            histogram_column_y == 1 or histogram_column_y == 2 or histogram_column_y == 3\n        Expecting:\n            True\n        **********************************************************************\n        Line 2, in q4_3 1\n        Failed example:\n            histogram_column_y == 1 or histogram_column_y == 2 or histogram_column_y == 3\n        Exception raised:\n            Traceback (most recent call last):\n              File \"/usr/local/lib/python3.9/doctest.py\", line 1334, in __run\n                exec(compile(example.source, filename, \"single\",\n              File \"<doctest q4_3 1[0]>\", line 1, in <module>\n                histogram_column_y == 1 or histogram_column_y == 2 or histogram_column_y == 3\n            NameError: name 'histogram_column_y' is not defined"
     },
     "metadata": {}
    }
   ]
  },
  {
   "cell_type": "markdown",
   "source": "## Submission\n\nMake sure you have run all cells in your notebook in order before running the cell below, so that all images/graphs appear in the output. The cell below will generate a zip file for you to submit. **Please save before exporting!**",
   "metadata": {
    "deletable": false,
    "editable": false,
    "cell_id": "00090-e2ee4a7f-9e46-48b7-9458-f53348ebb173",
    "deepnote_cell_type": "markdown",
    "deepnote_cell_height": 130
   }
  },
  {
   "cell_type": "code",
   "metadata": {
    "deletable": false,
    "editable": false,
    "cell_id": "00091-567d8ad8-5de2-4043-ba7f-07561ea08455",
    "deepnote_to_be_reexecuted": false,
    "source_hash": "6f724915",
    "execution_start": 1658971336261,
    "execution_millis": 23,
    "deepnote_cell_type": "code",
    "deepnote_cell_height": 143,
    "deepnote_output_heights": [
     33
    ]
   },
   "source": "# Save your notebook first, then run this cell to export your submission.\ngrader.export(pdf=False)",
   "execution_count": null,
   "outputs": [
    {
     "data": {
      "text/plain": "<IPython.core.display.HTML object>",
      "text/html": "\n            <p>Your submission has been exported. Click <a href=\"hw03_2022_07_28T01_22_16_262062.zip\" download=\"hw03_2022_07_28T01_22_16_262062.zip\" target=\"_blank\">here</a>\n            to download the zip file.</p>\n            "
     },
     "metadata": {},
     "output_type": "display_data"
    }
   ]
  },
  {
   "cell_type": "markdown",
   "source": " ",
   "metadata": {
    "cell_id": "00092-2dea1ee9-360c-4cea-b2d6-948ef84ae00d",
    "deepnote_cell_type": "markdown",
    "deepnote_cell_height": 46
   }
  },
  {
   "cell_type": "markdown",
   "source": "<a style='text-decoration:none;line-height:16px;display:flex;color:#5B5B62;padding:10px;justify-content:end;' href='https://deepnote.com?utm_source=created-in-deepnote-cell&projectId=ef6c0823-e062-4ba0-8bfb-7690ef03f945' target=\"_blank\">\n<img alt='Created in deepnote.com' style='display:inline;max-height:16px;margin:0px;margin-right:7.5px;' src='data:image/svg+xml;base64,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' > </img>\nCreated in <span style='font-weight:600;margin-left:4px;'>Deepnote</span></a>",
   "metadata": {
    "tags": [],
    "created_in_deepnote_cell": true,
    "deepnote_cell_type": "markdown"
   }
  }
 ],
 "nbformat": 4,
 "nbformat_minor": 5,
 "metadata": {
  "kernelspec": {
   "display_name": "Python 3 (ipykernel)",
   "language": "python",
   "name": "python3"
  },
  "language_info": {
   "codemirror_mode": {
    "name": "ipython",
    "version": 3
   },
   "file_extension": ".py",
   "mimetype": "text/x-python",
   "name": "python",
   "nbconvert_exporter": "python",
   "pygments_lexer": "ipython3",
   "version": "3.9.9"
  },
  "deepnote_notebook_id": "671b9f1e-eb27-4c61-9c9c-1f2616339c70",
  "deepnote": {},
  "deepnote_execution_queue": []
 }
}