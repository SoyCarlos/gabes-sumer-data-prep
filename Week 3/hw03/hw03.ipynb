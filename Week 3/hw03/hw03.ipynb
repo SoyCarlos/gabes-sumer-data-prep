{
 "cells": [
  {
   "cell_type": "code",
   "metadata": {
    "deletable": false,
    "editable": false,
    "cell_id": "c7e71037-5c7f-4fad-aa69-d7caf1f8fce5",
    "deepnote_to_be_reexecuted": false,
    "source_hash": "62b8b0b7",
    "execution_start": 1656696822227,
    "execution_millis": 11500,
    "deepnote_cell_type": "code",
    "deepnote_cell_height": 773
   },
   "source": "# Initialize Otter\n!pip install datascience\n!pip install otter-grader\nimport otter\ngrader = otter.Notebook(\"hw03.ipynb\")",
   "execution_count": 1,
   "outputs": [
    {
     "name": "stdout",
     "text": "Requirement already satisfied: datascience in /shared-libs/python3.9/py/lib/python3.9/site-packages (0.17.2)\nRequirement already satisfied: branca in /shared-libs/python3.9/py/lib/python3.9/site-packages (from datascience) (0.5.0)\nRequirement already satisfied: pandas in /shared-libs/python3.9/py/lib/python3.9/site-packages (from datascience) (1.2.5)\nRequirement already satisfied: matplotlib>=3.0.0 in /shared-libs/python3.9/py/lib/python3.9/site-packages (from datascience) (3.5.2)\nRequirement already satisfied: ipython in /shared-libs/python3.9/py-core/lib/python3.9/site-packages (from datascience) (7.34.0)\nRequirement already satisfied: scipy in /shared-libs/python3.9/py/lib/python3.9/site-packages (from datascience) (1.8.1)\nRequirement already satisfied: numpy in /shared-libs/python3.9/py/lib/python3.9/site-packages (from datascience) (1.22.4)\nRequirement already satisfied: setuptools in /root/venv/lib/python3.9/site-packages (from datascience) (58.1.0)\nRequirement already satisfied: folium>=0.9.1 in /shared-libs/python3.9/py/lib/python3.9/site-packages (from datascience) (0.12.1.post1)\nRequirement already satisfied: plotly in /shared-libs/python3.9/py/lib/python3.9/site-packages (from datascience) (5.8.1)\nRequirement already satisfied: jinja2>=2.9 in /shared-libs/python3.9/py-core/lib/python3.9/site-packages (from folium>=0.9.1->datascience) (2.11.3)\nRequirement already satisfied: requests in /shared-libs/python3.9/py/lib/python3.9/site-packages (from folium>=0.9.1->datascience) (2.27.1)\nRequirement already satisfied: pyparsing>=2.2.1 in /shared-libs/python3.9/py/lib/python3.9/site-packages (from matplotlib>=3.0.0->datascience) (3.0.9)\nRequirement already satisfied: pillow>=6.2.0 in /shared-libs/python3.9/py/lib/python3.9/site-packages (from matplotlib>=3.0.0->datascience) (9.1.1)\nRequirement already satisfied: kiwisolver>=1.0.1 in /shared-libs/python3.9/py/lib/python3.9/site-packages (from matplotlib>=3.0.0->datascience) (1.4.2)\nRequirement already satisfied: packaging>=20.0 in /shared-libs/python3.9/py/lib/python3.9/site-packages (from matplotlib>=3.0.0->datascience) (21.3)\nRequirement already satisfied: cycler>=0.10 in /shared-libs/python3.9/py/lib/python3.9/site-packages (from matplotlib>=3.0.0->datascience) (0.11.0)\nRequirement already satisfied: fonttools>=4.22.0 in /shared-libs/python3.9/py/lib/python3.9/site-packages (from matplotlib>=3.0.0->datascience) (4.33.3)\nRequirement already satisfied: python-dateutil>=2.7 in /shared-libs/python3.9/py-core/lib/python3.9/site-packages (from matplotlib>=3.0.0->datascience) (2.8.2)\nRequirement already satisfied: pexpect>4.3 in /shared-libs/python3.9/py-core/lib/python3.9/site-packages (from ipython->datascience) (4.8.0)\nRequirement already satisfied: prompt-toolkit!=3.0.0,!=3.0.1,<3.1.0,>=2.0.0 in /shared-libs/python3.9/py-core/lib/python3.9/site-packages (from ipython->datascience) (3.0.29)\nRequirement already satisfied: jedi>=0.16 in /shared-libs/python3.9/py-core/lib/python3.9/site-packages (from ipython->datascience) (0.17.2)\nRequirement already satisfied: matplotlib-inline in /shared-libs/python3.9/py-core/lib/python3.9/site-packages (from ipython->datascience) (0.1.3)\nRequirement already satisfied: decorator in /shared-libs/python3.9/py-core/lib/python3.9/site-packages (from ipython->datascience) (5.1.1)\nRequirement already satisfied: backcall in /shared-libs/python3.9/py-core/lib/python3.9/site-packages (from ipython->datascience) (0.2.0)\nRequirement already satisfied: pickleshare in /shared-libs/python3.9/py-core/lib/python3.9/site-packages (from ipython->datascience) (0.7.5)\nRequirement already satisfied: traitlets>=4.2 in /shared-libs/python3.9/py-core/lib/python3.9/site-packages (from ipython->datascience) (4.3.3)\nRequirement already satisfied: pygments in /shared-libs/python3.9/py-core/lib/python3.9/site-packages (from ipython->datascience) (2.12.0)\nRequirement already satisfied: pytz>=2017.3 in /shared-libs/python3.9/py/lib/python3.9/site-packages (from pandas->datascience) (2022.1)\nRequirement already satisfied: tenacity>=6.2.0 in /shared-libs/python3.9/py/lib/python3.9/site-packages (from plotly->datascience) (8.0.1)\nRequirement already satisfied: parso<0.8.0,>=0.7.0 in /shared-libs/python3.9/py-core/lib/python3.9/site-packages (from jedi>=0.16->ipython->datascience) (0.7.1)\nRequirement already satisfied: MarkupSafe>=0.23 in /shared-libs/python3.9/py-core/lib/python3.9/site-packages (from jinja2>=2.9->folium>=0.9.1->datascience) (2.0.1)\nRequirement already satisfied: ptyprocess>=0.5 in /shared-libs/python3.9/py-core/lib/python3.9/site-packages (from pexpect>4.3->ipython->datascience) (0.7.0)\nRequirement already satisfied: wcwidth in /shared-libs/python3.9/py-core/lib/python3.9/site-packages (from prompt-toolkit!=3.0.0,!=3.0.1,<3.1.0,>=2.0.0->ipython->datascience) (0.2.5)\nRequirement already satisfied: six>=1.5 in /shared-libs/python3.9/py-core/lib/python3.9/site-packages (from python-dateutil>=2.7->matplotlib>=3.0.0->datascience) (1.16.0)\nRequirement already satisfied: ipython-genutils in /shared-libs/python3.9/py-core/lib/python3.9/site-packages (from traitlets>=4.2->ipython->datascience) (0.2.0)\nRequirement already satisfied: charset-normalizer~=2.0.0 in /shared-libs/python3.9/py-core/lib/python3.9/site-packages (from requests->folium>=0.9.1->datascience) (2.0.12)\nRequirement already satisfied: idna<4,>=2.5 in /shared-libs/python3.9/py-core/lib/python3.9/site-packages (from requests->folium>=0.9.1->datascience) (3.3)\nRequirement already satisfied: urllib3<1.27,>=1.21.1 in /shared-libs/python3.9/py/lib/python3.9/site-packages (from requests->folium>=0.9.1->datascience) (1.26.9)\nRequirement already satisfied: certifi>=2017.4.17 in /shared-libs/python3.9/py/lib/python3.9/site-packages (from requests->folium>=0.9.1->datascience) (2022.5.18.1)\n\u001b[33mWARNING: You are using pip version 22.0.4; however, version 22.1.2 is available.\nYou should consider upgrading via the '/root/venv/bin/python -m pip install --upgrade pip' command.\u001b[0m\u001b[33m\n\u001b[0mCollecting otter-grader\n  Downloading otter_grader-3.3.0-py3-none-any.whl (165 kB)\n\u001b[2K     \u001b[90m━━━━━━━━━━━━━━━━━━━━━━━━━━━━━━━━━━━━━━\u001b[0m \u001b[32m166.0/166.0 KB\u001b[0m \u001b[31m15.2 MB/s\u001b[0m eta \u001b[36m0:00:00\u001b[0m\n\u001b[?25hRequirement already satisfied: nbconvert in /shared-libs/python3.9/py-core/lib/python3.9/site-packages (from otter-grader) (6.0.7)\nRequirement already satisfied: matplotlib in /shared-libs/python3.9/py/lib/python3.9/site-packages (from otter-grader) (3.5.2)\nCollecting gspread\n  Downloading gspread-5.4.0-py3-none-any.whl (37 kB)\nRequirement already satisfied: jinja2 in /shared-libs/python3.9/py-core/lib/python3.9/site-packages (from otter-grader) (2.11.3)\nRequirement already satisfied: six in /shared-libs/python3.9/py-core/lib/python3.9/site-packages (from otter-grader) (1.16.0)\nCollecting PyPDF2\n  Downloading PyPDF2-2.4.1-py3-none-any.whl (198 kB)\n\u001b[2K     \u001b[90m━━━━━━━━━━━━━━━━━━━━━━━━━━━━━━━━━━━━━━\u001b[0m \u001b[32m198.8/198.8 KB\u001b[0m \u001b[31m42.8 MB/s\u001b[0m eta \u001b[36m0:00:00\u001b[0m\n\u001b[?25hCollecting pdfkit\n  Downloading pdfkit-1.0.0-py3-none-any.whl (12 kB)\nRequirement already satisfied: jupyter-client in /shared-libs/python3.9/py-core/lib/python3.9/site-packages (from otter-grader) (6.1.12)\nRequirement already satisfied: ipykernel in /shared-libs/python3.9/py-core/lib/python3.9/site-packages (from otter-grader) (5.5.5)\nRequirement already satisfied: requests in /shared-libs/python3.9/py/lib/python3.9/site-packages (from otter-grader) (2.27.1)\nRequirement already satisfied: dill in /shared-libs/python3.9/py/lib/python3.9/site-packages (from otter-grader) (0.3.5.1)\nRequirement already satisfied: nbformat in /shared-libs/python3.9/py-core/lib/python3.9/site-packages (from otter-grader) (5.1.3)\nRequirement already satisfied: google-auth-oauthlib in /shared-libs/python3.9/py/lib/python3.9/site-packages (from otter-grader) (0.4.6)\nCollecting PyYAML\n  Downloading PyYAML-6.0-cp39-cp39-manylinux_2_5_x86_64.manylinux1_x86_64.manylinux_2_12_x86_64.manylinux2010_x86_64.whl (661 kB)\n\u001b[2K     \u001b[90m━━━━━━━━━━━━━━━━━━━━━━━━━━━━━━━━━━━━━━\u001b[0m \u001b[32m661.8/661.8 KB\u001b[0m \u001b[31m57.8 MB/s\u001b[0m eta \u001b[36m0:00:00\u001b[0m\n\u001b[?25hCollecting google-api-python-client\n  Downloading google_api_python_client-2.52.0-py2.py3-none-any.whl (8.7 MB)\n\u001b[2K     \u001b[90m━━━━━━━━━━━━━━━━━━━━━━━━━━━━━━━━━━━━━━━━\u001b[0m \u001b[32m8.7/8.7 MB\u001b[0m \u001b[31m67.1 MB/s\u001b[0m eta \u001b[36m0:00:00\u001b[0m\n\u001b[?25hRequirement already satisfied: pandas in /shared-libs/python3.9/py/lib/python3.9/site-packages (from otter-grader) (1.2.5)\nCollecting python-on-whales\n  Downloading python_on_whales-0.47.0-py3-none-any.whl (95 kB)\n\u001b[2K     \u001b[90m━━━━━━━━━━━━━━━━━━━━━━━━━━━━━━━━━━━━━━━━\u001b[0m \u001b[32m95.3/95.3 KB\u001b[0m \u001b[31m24.3 MB/s\u001b[0m eta \u001b[36m0:00:00\u001b[0m\n\u001b[?25hCollecting uritemplate<5,>=3.0.1\n  Downloading uritemplate-4.1.1-py2.py3-none-any.whl (10 kB)\nRequirement already satisfied: google-api-core!=2.0.*,!=2.1.*,!=2.2.*,!=2.3.0,<3.0.0dev,>=1.31.5 in /shared-libs/python3.9/py/lib/python3.9/site-packages (from google-api-python-client->otter-grader) (2.8.1)\nCollecting google-auth-httplib2>=0.1.0\n  Downloading google_auth_httplib2-0.1.0-py2.py3-none-any.whl (9.3 kB)\nCollecting httplib2<1dev,>=0.15.0\n  Downloading httplib2-0.20.4-py3-none-any.whl (96 kB)\n\u001b[2K     \u001b[90m━━━━━━━━━━━━━━━━━━━━━━━━━━━━━━━━━━━━━━━━\u001b[0m \u001b[32m96.6/96.6 KB\u001b[0m \u001b[31m19.5 MB/s\u001b[0m eta \u001b[36m0:00:00\u001b[0m\n\u001b[?25hRequirement already satisfied: google-auth<3.0.0dev,>=1.19.0 in /shared-libs/python3.9/py/lib/python3.9/site-packages (from google-api-python-client->otter-grader) (2.7.0)\nRequirement already satisfied: requests-oauthlib>=0.7.0 in /shared-libs/python3.9/py/lib/python3.9/site-packages (from google-auth-oauthlib->otter-grader) (1.3.1)\nRequirement already satisfied: ipython>=5.0.0 in /shared-libs/python3.9/py-core/lib/python3.9/site-packages (from ipykernel->otter-grader) (7.34.0)\nRequirement already satisfied: tornado>=4.2 in /shared-libs/python3.9/py-core/lib/python3.9/site-packages (from ipykernel->otter-grader) (6.1)\nRequirement already satisfied: traitlets>=4.1.0 in /shared-libs/python3.9/py-core/lib/python3.9/site-packages (from ipykernel->otter-grader) (4.3.3)\nRequirement already satisfied: MarkupSafe>=0.23 in /shared-libs/python3.9/py-core/lib/python3.9/site-packages (from jinja2->otter-grader) (2.0.1)\nRequirement already satisfied: python-dateutil>=2.1 in /shared-libs/python3.9/py-core/lib/python3.9/site-packages (from jupyter-client->otter-grader) (2.8.2)\nRequirement already satisfied: pyzmq>=13 in /shared-libs/python3.9/py-core/lib/python3.9/site-packages (from jupyter-client->otter-grader) (23.1.0)\nRequirement already satisfied: jupyter-core>=4.6.0 in /shared-libs/python3.9/py-core/lib/python3.9/site-packages (from jupyter-client->otter-grader) (4.7.1)\nRequirement already satisfied: numpy>=1.17 in /shared-libs/python3.9/py/lib/python3.9/site-packages (from matplotlib->otter-grader) (1.22.4)\nRequirement already satisfied: kiwisolver>=1.0.1 in /shared-libs/python3.9/py/lib/python3.9/site-packages (from matplotlib->otter-grader) (1.4.2)\nRequirement already satisfied: pyparsing>=2.2.1 in /shared-libs/python3.9/py/lib/python3.9/site-packages (from matplotlib->otter-grader) (3.0.9)\nRequirement already satisfied: packaging>=20.0 in /shared-libs/python3.9/py/lib/python3.9/site-packages (from matplotlib->otter-grader) (21.3)\nRequirement already satisfied: pillow>=6.2.0 in /shared-libs/python3.9/py/lib/python3.9/site-packages (from matplotlib->otter-grader) (9.1.1)\nRequirement already satisfied: fonttools>=4.22.0 in /shared-libs/python3.9/py/lib/python3.9/site-packages (from matplotlib->otter-grader) (4.33.3)\nRequirement already satisfied: cycler>=0.10 in /shared-libs/python3.9/py/lib/python3.9/site-packages (from matplotlib->otter-grader) (0.11.0)\nRequirement already satisfied: bleach in /shared-libs/python3.9/py-core/lib/python3.9/site-packages (from nbconvert->otter-grader) (5.0.0)\nRequirement already satisfied: pygments>=2.4.1 in /shared-libs/python3.9/py-core/lib/python3.9/site-packages (from nbconvert->otter-grader) (2.12.0)\nRequirement already satisfied: defusedxml in /shared-libs/python3.9/py-core/lib/python3.9/site-packages (from nbconvert->otter-grader) (0.7.1)\nRequirement already satisfied: entrypoints>=0.2.2 in /shared-libs/python3.9/py-core/lib/python3.9/site-packages (from nbconvert->otter-grader) (0.4)\nRequirement already satisfied: nbclient<0.6.0,>=0.5.0 in /shared-libs/python3.9/py-core/lib/python3.9/site-packages (from nbconvert->otter-grader) (0.5.9)\nRequirement already satisfied: jupyterlab-pygments in /shared-libs/python3.9/py-core/lib/python3.9/site-packages (from nbconvert->otter-grader) (0.2.2)\nRequirement already satisfied: mistune<2,>=0.8.1 in /shared-libs/python3.9/py-core/lib/python3.9/site-packages (from nbconvert->otter-grader) (0.8.4)\nRequirement already satisfied: pandocfilters>=1.4.1 in /shared-libs/python3.9/py-core/lib/python3.9/site-packages (from nbconvert->otter-grader) (1.5.0)\nRequirement already satisfied: testpath in /shared-libs/python3.9/py-core/lib/python3.9/site-packages (from nbconvert->otter-grader) (0.6.0)\nRequirement already satisfied: jsonschema!=2.5.0,>=2.4 in /shared-libs/python3.9/py-core/lib/python3.9/site-packages (from nbformat->otter-grader) (3.2.0)\nRequirement already satisfied: ipython-genutils in /shared-libs/python3.9/py-core/lib/python3.9/site-packages (from nbformat->otter-grader) (0.2.0)\nRequirement already satisfied: pytz>=2017.3 in /shared-libs/python3.9/py/lib/python3.9/site-packages (from pandas->otter-grader) (2022.1)\nRequirement already satisfied: typing-extensions in /shared-libs/python3.9/py/lib/python3.9/site-packages (from PyPDF2->otter-grader) (4.2.0)\nRequirement already satisfied: tqdm in /shared-libs/python3.9/py/lib/python3.9/site-packages (from python-on-whales->otter-grader) (4.64.0)\nRequirement already satisfied: pydantic in /shared-libs/python3.9/py/lib/python3.9/site-packages (from python-on-whales->otter-grader) (1.8.2)\nRequirement already satisfied: typer>=0.4.1 in /shared-libs/python3.9/py/lib/python3.9/site-packages (from python-on-whales->otter-grader) (0.4.1)\nRequirement already satisfied: certifi>=2017.4.17 in /shared-libs/python3.9/py/lib/python3.9/site-packages (from requests->otter-grader) (2022.5.18.1)\nRequirement already satisfied: charset-normalizer~=2.0.0 in /shared-libs/python3.9/py-core/lib/python3.9/site-packages (from requests->otter-grader) (2.0.12)\nRequirement already satisfied: idna<4,>=2.5 in /shared-libs/python3.9/py-core/lib/python3.9/site-packages (from requests->otter-grader) (3.3)\nRequirement already satisfied: urllib3<1.27,>=1.21.1 in /shared-libs/python3.9/py/lib/python3.9/site-packages (from requests->otter-grader) (1.26.9)\nRequirement already satisfied: protobuf<4.0.0dev,>=3.15.0 in /shared-libs/python3.9/py/lib/python3.9/site-packages (from google-api-core!=2.0.*,!=2.1.*,!=2.2.*,!=2.3.0,<3.0.0dev,>=1.31.5->google-api-python-client->otter-grader) (3.19.4)\nRequirement already satisfied: googleapis-common-protos<2.0dev,>=1.56.2 in /shared-libs/python3.9/py/lib/python3.9/site-packages (from google-api-core!=2.0.*,!=2.1.*,!=2.2.*,!=2.3.0,<3.0.0dev,>=1.31.5->google-api-python-client->otter-grader) (1.56.2)\nRequirement already satisfied: rsa<5,>=3.1.4 in /shared-libs/python3.9/py/lib/python3.9/site-packages (from google-auth<3.0.0dev,>=1.19.0->google-api-python-client->otter-grader) (4.8)\nRequirement already satisfied: cachetools<6.0,>=2.0.0 in /shared-libs/python3.9/py/lib/python3.9/site-packages (from google-auth<3.0.0dev,>=1.19.0->google-api-python-client->otter-grader) (5.2.0)\nRequirement already satisfied: pyasn1-modules>=0.2.1 in /shared-libs/python3.9/py/lib/python3.9/site-packages (from google-auth<3.0.0dev,>=1.19.0->google-api-python-client->otter-grader) (0.2.8)\nRequirement already satisfied: backcall in /shared-libs/python3.9/py-core/lib/python3.9/site-packages (from ipython>=5.0.0->ipykernel->otter-grader) (0.2.0)\nRequirement already satisfied: jedi>=0.16 in /shared-libs/python3.9/py-core/lib/python3.9/site-packages (from ipython>=5.0.0->ipykernel->otter-grader) (0.17.2)\nRequirement already satisfied: pickleshare in /shared-libs/python3.9/py-core/lib/python3.9/site-packages (from ipython>=5.0.0->ipykernel->otter-grader) (0.7.5)\nRequirement already satisfied: prompt-toolkit!=3.0.0,!=3.0.1,<3.1.0,>=2.0.0 in /shared-libs/python3.9/py-core/lib/python3.9/site-packages (from ipython>=5.0.0->ipykernel->otter-grader) (3.0.29)\nRequirement already satisfied: decorator in /shared-libs/python3.9/py-core/lib/python3.9/site-packages (from ipython>=5.0.0->ipykernel->otter-grader) (5.1.1)\nRequirement already satisfied: matplotlib-inline in /shared-libs/python3.9/py-core/lib/python3.9/site-packages (from ipython>=5.0.0->ipykernel->otter-grader) (0.1.3)\nRequirement already satisfied: pexpect>4.3 in /shared-libs/python3.9/py-core/lib/python3.9/site-packages (from ipython>=5.0.0->ipykernel->otter-grader) (4.8.0)\nRequirement already satisfied: setuptools>=18.5 in /root/venv/lib/python3.9/site-packages (from ipython>=5.0.0->ipykernel->otter-grader) (58.1.0)\nRequirement already satisfied: pyrsistent>=0.14.0 in /shared-libs/python3.9/py-core/lib/python3.9/site-packages (from jsonschema!=2.5.0,>=2.4->nbformat->otter-grader) (0.18.1)\nRequirement already satisfied: attrs>=17.4.0 in /shared-libs/python3.9/py-core/lib/python3.9/site-packages (from jsonschema!=2.5.0,>=2.4->nbformat->otter-grader) (21.4.0)\nRequirement already satisfied: nest-asyncio in /shared-libs/python3.9/py-core/lib/python3.9/site-packages (from nbclient<0.6.0,>=0.5.0->nbconvert->otter-grader) (1.5.5)\nRequirement already satisfied: oauthlib>=3.0.0 in /shared-libs/python3.9/py/lib/python3.9/site-packages (from requests-oauthlib>=0.7.0->google-auth-oauthlib->otter-grader) (3.2.0)\nRequirement already satisfied: click<9.0.0,>=7.1.1 in /shared-libs/python3.9/py/lib/python3.9/site-packages (from typer>=0.4.1->python-on-whales->otter-grader) (8.1.3)\nRequirement already satisfied: webencodings in /shared-libs/python3.9/py-core/lib/python3.9/site-packages (from bleach->nbconvert->otter-grader) (0.5.1)\nRequirement already satisfied: parso<0.8.0,>=0.7.0 in /shared-libs/python3.9/py-core/lib/python3.9/site-packages (from jedi>=0.16->ipython>=5.0.0->ipykernel->otter-grader) (0.7.1)\nRequirement already satisfied: ptyprocess>=0.5 in /shared-libs/python3.9/py-core/lib/python3.9/site-packages (from pexpect>4.3->ipython>=5.0.0->ipykernel->otter-grader) (0.7.0)\nRequirement already satisfied: wcwidth in /shared-libs/python3.9/py-core/lib/python3.9/site-packages (from prompt-toolkit!=3.0.0,!=3.0.1,<3.1.0,>=2.0.0->ipython>=5.0.0->ipykernel->otter-grader) (0.2.5)\nRequirement already satisfied: pyasn1<0.5.0,>=0.4.6 in /shared-libs/python3.9/py/lib/python3.9/site-packages (from pyasn1-modules>=0.2.1->google-auth<3.0.0dev,>=1.19.0->google-api-python-client->otter-grader) (0.4.8)\nInstalling collected packages: pdfkit, uritemplate, PyYAML, PyPDF2, httplib2, python-on-whales, google-auth-httplib2, gspread, google-api-python-client, otter-grader\nSuccessfully installed PyPDF2-2.4.1 PyYAML-6.0 google-api-python-client-2.52.0 google-auth-httplib2-0.1.0 gspread-5.4.0 httplib2-0.20.4 otter-grader-3.3.0 pdfkit-1.0.0 python-on-whales-0.47.0 uritemplate-4.1.1\n\u001b[33mWARNING: You are using pip version 22.0.4; however, version 22.1.2 is available.\nYou should consider upgrading via the '/root/venv/bin/python -m pip install --upgrade pip' command.\u001b[0m\u001b[33m\n\u001b[0m",
     "output_type": "stream"
    }
   ]
  },
  {
   "cell_type": "markdown",
   "source": "# Homework 3: Table Manipulation and Visualization\n\nPlease complete this notebook by filling in the cells provided. Before you begin, execute the previous cell to load the provided tests.",
   "metadata": {
    "cell_id": "00001-4942e972-c76d-4789-8bce-97681dfd9873",
    "deepnote_cell_type": "markdown",
    "deepnote_cell_height": 194.78125
   }
  },
  {
   "cell_type": "markdown",
   "source": "**Helpful Resource:**\n- [Python Reference](http://data8.org/sp22/python-reference.html): Cheat sheet of helpful array & table methods used in Data 8!\n\n**Recommended Reading**: \n* [Visualization](https://inferentialthinking.com/chapters/07/Visualization.html)",
   "metadata": {
    "cell_id": "00002-298928b7-2966-4d5b-a259-088bd2280625",
    "deepnote_cell_type": "markdown",
    "deepnote_cell_height": 175.5625
   }
  },
  {
   "cell_type": "markdown",
   "source": "For all problems that you must write explanations and sentences for, you **must** provide your answer in the designated space. **Moreover, throughout this homework and all future ones, please be sure to not re-assign variables throughout the notebook!** For example, if you use `max_temperature` in your answer to one question, do not reassign it later on. Otherwise, you will fail tests that you thought you were passing previously!\n\n**Deadline:**\n\nThis assignment is due Thursday, 2/10 at 11:59pm PT. Turn it in by Wednesday, 2/9 at 11:59pm PT for 5 extra credit points. Late work will not be accepted as per the [policies](http://data8.org/sp22/policies.html) page.\n\n\n**Note: This homework has hidden tests on it. That means even though tests may say 100% passed, doesn't mean your final grade will be 100%. We will be running more tests for correctness once everyone turns in the homework.**\n\n\nDirectly sharing answers is not okay, but discussing problems with the course staff or with other students is encouraged. Refer to the policies page to learn more about how to learn cooperatively.\n\nYou should start early so that you have time to get help if you're stuck. Office hours are held Tuesday through Friday. The schedule appears on [http://data8.org/sp22/office-hours.html](http://data8.org/sp22/office-hours.html).",
   "metadata": {
    "cell_id": "00003-5703f3b4-6b7f-4e33-b212-8b1ab0a4d5df",
    "deepnote_cell_type": "markdown",
    "deepnote_cell_height": 391.078125
   }
  },
  {
   "cell_type": "code",
   "metadata": {
    "cell_id": "00004-1240751f-29b4-47aa-bdef-488976e4441b",
    "deepnote_to_be_reexecuted": false,
    "source_hash": "1c4b0af9",
    "execution_start": 1656696964797,
    "execution_millis": 3411,
    "deepnote_cell_type": "code",
    "deepnote_cell_height": 405.1875
   },
   "source": "# Don't change this cell; just run it. \n\nimport numpy as np\nfrom datascience import *\nimport d8error\nimport warnings\nwarnings.simplefilter('ignore', FutureWarning)\n\n# These lines do some fancy plotting magic.\\n\",\nimport matplotlib\n%matplotlib inline\nimport matplotlib.pyplot as plots\nplots.style.use('fivethirtyeight')",
   "execution_count": 2,
   "outputs": [
    {
     "output_type": "error",
     "ename": "ModuleNotFoundError",
     "evalue": "No module named 'ipywidgets'",
     "traceback": [
      "\u001b[0;31m---------------------------------------------------------------------------\u001b[0m",
      "\u001b[0;31mModuleNotFoundError\u001b[0m                       Traceback (most recent call last)",
      "\u001b[0;32m<ipython-input-2-29009e870a51>\u001b[0m in \u001b[0;36m<cell line: 5>\u001b[0;34m()\u001b[0m\n\u001b[1;32m      3\u001b[0m \u001b[0;32mimport\u001b[0m \u001b[0mnumpy\u001b[0m \u001b[0;32mas\u001b[0m \u001b[0mnp\u001b[0m\u001b[0;34m\u001b[0m\u001b[0;34m\u001b[0m\u001b[0m\n\u001b[1;32m      4\u001b[0m \u001b[0;32mfrom\u001b[0m \u001b[0mdatascience\u001b[0m \u001b[0;32mimport\u001b[0m \u001b[0;34m*\u001b[0m\u001b[0;34m\u001b[0m\u001b[0;34m\u001b[0m\u001b[0m\n\u001b[0;32m----> 5\u001b[0;31m \u001b[0;32mimport\u001b[0m \u001b[0md8error\u001b[0m\u001b[0;34m\u001b[0m\u001b[0;34m\u001b[0m\u001b[0m\n\u001b[0m\u001b[1;32m      6\u001b[0m \u001b[0;32mimport\u001b[0m \u001b[0mwarnings\u001b[0m\u001b[0;34m\u001b[0m\u001b[0;34m\u001b[0m\u001b[0m\n\u001b[1;32m      7\u001b[0m \u001b[0mwarnings\u001b[0m\u001b[0;34m.\u001b[0m\u001b[0msimplefilter\u001b[0m\u001b[0;34m(\u001b[0m\u001b[0;34m'ignore'\u001b[0m\u001b[0;34m,\u001b[0m \u001b[0mFutureWarning\u001b[0m\u001b[0;34m)\u001b[0m\u001b[0;34m\u001b[0m\u001b[0;34m\u001b[0m\u001b[0m\n",
      "\u001b[0;32m~/work/gabes-sumer-data-prep/Week 3/hw03/d8error.py\u001b[0m in \u001b[0;36m<module>\u001b[0;34m\u001b[0m\n\u001b[1;32m      3\u001b[0m \u001b[0;32mimport\u001b[0m \u001b[0mos\u001b[0m\u001b[0;34m.\u001b[0m\u001b[0mpath\u001b[0m\u001b[0;34m\u001b[0m\u001b[0;34m\u001b[0m\u001b[0m\n\u001b[1;32m      4\u001b[0m \u001b[0;32mimport\u001b[0m \u001b[0mcsv\u001b[0m\u001b[0;34m\u001b[0m\u001b[0;34m\u001b[0m\u001b[0m\n\u001b[0;32m----> 5\u001b[0;31m \u001b[0;32mimport\u001b[0m \u001b[0mipywidgets\u001b[0m \u001b[0;32mas\u001b[0m \u001b[0mwidgets\u001b[0m\u001b[0;34m\u001b[0m\u001b[0;34m\u001b[0m\u001b[0m\n\u001b[0m\u001b[1;32m      6\u001b[0m \u001b[0;32mimport\u001b[0m \u001b[0mdatetime\u001b[0m\u001b[0;34m\u001b[0m\u001b[0;34m\u001b[0m\u001b[0m\n\u001b[1;32m      7\u001b[0m \u001b[0;34m\u001b[0m\u001b[0m\n",
      "\u001b[0;31mModuleNotFoundError\u001b[0m: No module named 'ipywidgets'"
     ]
    }
   ]
  },
  {
   "cell_type": "markdown",
   "source": "## 1. Unemployment",
   "metadata": {
    "cell_id": "00005-dbcb66a5-c7d4-4c60-8b8d-a20575c7a53f",
    "deepnote_cell_type": "markdown",
    "deepnote_cell_height": 70
   }
  },
  {
   "cell_type": "markdown",
   "source": "The Great Recession of 2008-2009 was a period of economic decline observed globally, with scale and timing varying from country to country. In the United States, it resulted in a rapid rise in unemployment that affected industries and population groups to different extents.\n\nThe Federal Reserve Bank of St. Louis publishes data about jobs in the US.  Below, we've loaded data on unemployment in the United States. There are many ways of defining unemployment, and our dataset includes two notions of the unemployment rate:\n\n1. Among people who are able to work and are looking for a full-time job, the percentage who can't find a job.  This is called the Non-Employment Index, or NEI.\n2. Among people who are able to work and are looking for a full-time job, the percentage who can't find any job *or* are only working at a part-time job.  The latter group is called \"Part-Time for Economic Reasons\", so the acronym for this index is NEI-PTER.  (Economists are great at marketing.)\n\nThe source of the data is [here](https://fred.stlouisfed.org/categories/33509).",
   "metadata": {
    "cell_id": "00006-31d2ab16-5702-4181-b027-828a11c73056",
    "deepnote_cell_type": "markdown",
    "deepnote_cell_height": 321.296875
   }
  },
  {
   "cell_type": "markdown",
   "source": "**Question 1.** The data are in a CSV file called `unemployment.csv`.  Load that file into a table called `unemployment`. **(4 Points)**\n\n<!--\nBEGIN QUESTION\nname: q1_1\npoints:\n - 4\n-->",
   "metadata": {
    "deletable": false,
    "editable": false,
    "cell_id": "00007-3a88f2a1-d02b-47bb-986e-e01446bed46b",
    "deepnote_cell_type": "markdown",
    "deepnote_cell_height": 66.390625
   }
  },
  {
   "cell_type": "code",
   "metadata": {
    "cell_id": "00008-4a82b972-9c4a-4768-94e9-b253047ca473",
    "owner_user_id": "acd79234-d34d-46f3-916d-8366f0a59e44",
    "deepnote_cell_type": "code",
    "deepnote_cell_height": 84
   },
   "source": "unemployment = ...\nunemployment",
   "execution_count": null,
   "outputs": []
  },
  {
   "cell_type": "code",
   "metadata": {
    "deletable": false,
    "editable": false,
    "cell_id": "00009-ac8bf990-0fff-4638-9f2c-bd24931950ba",
    "deepnote_to_be_reexecuted": false,
    "source_hash": "694c3413",
    "execution_start": 1656696996590,
    "execution_millis": 148,
    "deepnote_cell_type": "code",
    "deepnote_cell_height": 480.375,
    "deepnote_output_heights": [
     383.375
    ]
   },
   "source": "grader.check(\"q1_1\")",
   "execution_count": 3,
   "outputs": [
    {
     "output_type": "execute_result",
     "execution_count": 3,
     "data": {
      "text/plain": "q1_1 results:\n    q1_1 - 1 result:\n        Trying:\n            unemployment.select('Date', 'NEI', 'NEI-PTER').take(0)\n        Expecting:\n            Date       | NEI     | NEI-PTER\n            1994-01-01 | 10.0974 | 11.172\n        **********************************************************************\n        Line 1, in q1_1 0\n        Failed example:\n            unemployment.select('Date', 'NEI', 'NEI-PTER').take(0)\n        Exception raised:\n            Traceback (most recent call last):\n              File \"/usr/local/lib/python3.9/doctest.py\", line 1334, in __run\n                exec(compile(example.source, filename, \"single\",\n              File \"<doctest q1_1 0[0]>\", line 1, in <module>\n                unemployment.select('Date', 'NEI', 'NEI-PTER').take(0)\n            NameError: name 'unemployment' is not defined",
      "text/html": "<p><strong style='color: red;'><pre style='display: inline;'>q1_1</pre> results:</strong></p><p><strong><pre style='display: inline;'>q1_1 - 1</pre> result:</strong></p><pre>    Trying:\n        unemployment.select('Date', 'NEI', 'NEI-PTER').take(0)\n    Expecting:\n        Date       | NEI     | NEI-PTER\n        1994-01-01 | 10.0974 | 11.172\n    **********************************************************************\n    Line 1, in q1_1 0\n    Failed example:\n        unemployment.select('Date', 'NEI', 'NEI-PTER').take(0)\n    Exception raised:\n        Traceback (most recent call last):\n          File \"/usr/local/lib/python3.9/doctest.py\", line 1334, in __run\n            exec(compile(example.source, filename, \"single\",\n          File \"<doctest q1_1 0[0]>\", line 1, in <module>\n            unemployment.select('Date', 'NEI', 'NEI-PTER').take(0)\n        NameError: name 'unemployment' is not defined\n</pre>"
     },
     "metadata": {}
    }
   ]
  },
  {
   "cell_type": "markdown",
   "source": "**Question 2.** Sort the data in descending order by NEI, naming the sorted table `by_nei`.  Create another table called `by_nei_pter` that's sorted in descending order by NEI-PTER instead. **(4 Points)**\n\n<!--\nBEGIN QUESTION\nname: q1_2\npoints:\n - 2\n - 2\n-->",
   "metadata": {
    "deletable": false,
    "editable": false,
    "cell_id": "00010-643d55c9-f62e-4f10-afc6-54ba9b9a2688",
    "deepnote_cell_type": "markdown",
    "deepnote_cell_height": 88.78125
   }
  },
  {
   "cell_type": "code",
   "metadata": {
    "cell_id": "00011-7aea2478-4e52-406a-b32b-7f500d49dd24",
    "deepnote_cell_type": "code",
    "deepnote_cell_height": 84
   },
   "source": "by_nei = ...\nby_nei_pter = ...",
   "execution_count": null,
   "outputs": []
  },
  {
   "cell_type": "code",
   "metadata": {
    "deletable": false,
    "editable": false,
    "cell_id": "00012-80d0d24f-1786-4982-83ad-afff55d45656",
    "deepnote_cell_type": "code",
    "deepnote_cell_height": 66
   },
   "source": "grader.check(\"q1_2\")",
   "execution_count": null,
   "outputs": []
  },
  {
   "cell_type": "code",
   "metadata": {
    "cell_id": "00013-94447542-4c4e-46d0-bf44-a957e66c597c",
    "deepnote_cell_type": "code",
    "deepnote_cell_height": 84
   },
   "source": "# Run this cell to check your by_nei table. You do not need to change the code.\nby_nei.show(5)",
   "execution_count": null,
   "outputs": []
  },
  {
   "cell_type": "code",
   "metadata": {
    "cell_id": "00014-fc666269-f79a-4a60-8185-612e0f0d4d9d",
    "deepnote_cell_type": "code",
    "deepnote_cell_height": 84
   },
   "source": "# Run this cell to check your by_nei_pter table. You do not need to change the code.\nby_nei_pter.show(5)",
   "execution_count": null,
   "outputs": []
  },
  {
   "cell_type": "markdown",
   "source": "**Question 3.** Use `take` to make a table containing the data for the 11 quarters when NEI was greatest.  Call that table `greatest_nei`.\n\n`greatest_nei` should be sorted in descending order of `NEI`. Note that each row of `unemployment` represents a quarter. **(4 Points)**\n\n<!--\nBEGIN QUESTION\nname: q1_3\npoints:\n - 2\n - 2\n-->",
   "metadata": {
    "deletable": false,
    "editable": false,
    "cell_id": "00015-43e03d27-5b32-43f7-88f3-3b6c452f8bdc",
    "deepnote_cell_type": "markdown",
    "deepnote_cell_height": 147.5625
   }
  },
  {
   "cell_type": "code",
   "metadata": {
    "cell_id": "00016-ff25ab09-b093-4423-8fcd-b93858f94602",
    "deepnote_cell_type": "code",
    "deepnote_cell_height": 84
   },
   "source": "greatest_nei = ...\ngreatest_nei",
   "execution_count": null,
   "outputs": []
  },
  {
   "cell_type": "code",
   "metadata": {
    "deletable": false,
    "editable": false,
    "cell_id": "00017-19dfc466-a189-4f19-aea4-832d706880d2",
    "deepnote_cell_type": "code",
    "deepnote_cell_height": 66
   },
   "source": "grader.check(\"q1_3\")",
   "execution_count": null,
   "outputs": []
  },
  {
   "cell_type": "markdown",
   "source": "**Question 4.** It's believed that many people became PTER (recall: \"Part-Time for Economic Reasons\") in the \"Great Recession\" of 2008-2009.  NEI-PTER is the percentage of people who are unemployed (included in the NEI) plus the percentage of people who are PTER.\n\nCompute an array containing the percentage of people who were PTER in each quarter.  (The first element of the array should correspond to the first row of `unemployment`, and so on.) **(4 Points)**\n\n*Note:* Use the original `unemployment` table for this.\n\n<!--\nBEGIN QUESTION\nname: q1_4\npoints:\n - 1\n - 3\n-->",
   "metadata": {
    "deletable": false,
    "editable": false,
    "cell_id": "00018-00166c67-c763-4e73-970a-41d0cecb1a6c",
    "deepnote_cell_type": "markdown",
    "deepnote_cell_height": 206.34375
   }
  },
  {
   "cell_type": "code",
   "metadata": {
    "cell_id": "00019-3a144299-8c7a-453f-8113-fc6e9fc337d8",
    "deepnote_cell_type": "code",
    "deepnote_cell_height": 84
   },
   "source": "pter = ...\npter",
   "execution_count": null,
   "outputs": []
  },
  {
   "cell_type": "code",
   "metadata": {
    "deletable": false,
    "editable": false,
    "cell_id": "00020-d71991cf-1d8b-41cd-84a5-c5ad716c4818",
    "deepnote_cell_type": "code",
    "deepnote_cell_height": 66
   },
   "source": "grader.check(\"q1_4\")",
   "execution_count": null,
   "outputs": []
  },
  {
   "cell_type": "markdown",
   "source": "**Question 5.** Add `pter` as a column to `unemployment` (name the column `PTER`) and sort the resulting table by that column in descending order.  Call the resulting table `by_pter`.\n\nTry to do this with a single line of code, if you can. **(4 Points)**\n\n<!--\nBEGIN QUESTION\nname: q1_5\npoints:\n - 4\n-->",
   "metadata": {
    "deletable": false,
    "editable": false,
    "cell_id": "00021-c4e0ef59-f85d-4979-9105-81ef9091c4ea",
    "deepnote_cell_type": "markdown",
    "deepnote_cell_height": 125.171875
   }
  },
  {
   "cell_type": "code",
   "metadata": {
    "cell_id": "00022-507d8b78-8cf7-4432-bb4e-a34917e17176",
    "deepnote_cell_type": "code",
    "deepnote_cell_height": 84
   },
   "source": "by_pter = ...\nby_pter",
   "execution_count": null,
   "outputs": []
  },
  {
   "cell_type": "code",
   "metadata": {
    "deletable": false,
    "editable": false,
    "cell_id": "00023-20d46b69-a0a3-4efc-814e-d50ac90040c2",
    "deepnote_cell_type": "code",
    "deepnote_cell_height": 66
   },
   "source": "grader.check(\"q1_5\")",
   "execution_count": null,
   "outputs": []
  },
  {
   "cell_type": "markdown",
   "source": "**Question 6.** Create a line plot of PTER over time. To do this, create a new table called `pter_over_time` by making a copy of the `unemployment` table and adding two new columns: `Year` and `PTER` using the `year` array and the `pter` array, respectively. Then, generate a line plot using one of the table methods you've learned in class.\n\nThe order of the columns matter for our correctness tests, so be sure `Year` comes before `PTER`. **(4 Points)**\n\n*Note:* When constructing `pter_over_time`, do not just add the `year` column to the `by_pter` table. Please follow the directions in the question above.\n\n<!--\nBEGIN QUESTION\nname: q1_6\npoints:\n - 0\n - 1\n - 1\n - 2\n-->",
   "metadata": {
    "deletable": false,
    "editable": false,
    "cell_id": "00024-2a6d6085-b892-4dd3-8789-280b4b340031",
    "deepnote_cell_type": "markdown",
    "deepnote_cell_height": 206.34375
   }
  },
  {
   "cell_type": "code",
   "metadata": {
    "cell_id": "00025-f43a7b16-57a1-4d49-ae7c-3b9c0a02340f",
    "deepnote_cell_type": "code",
    "deepnote_cell_height": 120
   },
   "source": "year = 1994 + np.arange(by_pter.num_rows)/4\npter_over_time = ...\n...\nplots.ylim(0,2); # Do not change this line",
   "execution_count": null,
   "outputs": []
  },
  {
   "cell_type": "code",
   "metadata": {
    "deletable": false,
    "editable": false,
    "cell_id": "00026-67f6ea27-457b-4bfe-b679-9d49acb101e4",
    "deepnote_cell_type": "code",
    "deepnote_cell_height": 66
   },
   "source": "grader.check(\"q1_6\")",
   "execution_count": null,
   "outputs": []
  },
  {
   "cell_type": "markdown",
   "source": "**Question 7.** Were PTER rates high during the Great Recession (that is to say, were PTER rates particularly high in the years 2008 through 2011)? Assign `highPTER` to `True` if you think PTER rates were high in this period, or `False` if you think they weren't. **(4 Points)**\n\n<!--\nBEGIN QUESTION\nname: q1_7\npoints:\n - 0\n - 4\n-->",
   "metadata": {
    "deletable": false,
    "editable": false,
    "cell_id": "00027-4cfa4cbc-7cef-4e6f-b28e-f544c058987c",
    "deepnote_cell_type": "markdown",
    "deepnote_cell_height": 111.171875
   }
  },
  {
   "cell_type": "code",
   "metadata": {
    "cell_id": "00028-ca8a374b-9dae-4eea-95f2-1173084e17d8",
    "deepnote_cell_type": "code",
    "deepnote_cell_height": 66
   },
   "source": "highPTER = ...",
   "execution_count": null,
   "outputs": []
  },
  {
   "cell_type": "code",
   "metadata": {
    "deletable": false,
    "editable": false,
    "cell_id": "00029-d56145b9-e038-403d-85bf-878b541c6efa",
    "deepnote_cell_type": "code",
    "deepnote_cell_height": 66
   },
   "source": "grader.check(\"q1_7\")",
   "execution_count": null,
   "outputs": []
  },
  {
   "cell_type": "markdown",
   "source": "## 2. Birth Rates",
   "metadata": {
    "cell_id": "00030-eaa48797-0621-465a-a5f0-a950c3a02501",
    "deepnote_cell_type": "markdown",
    "deepnote_cell_height": 70
   }
  },
  {
   "cell_type": "markdown",
   "source": "The following table gives Census-based population estimates for each US state on both July 1, 2015 and July 1, 2016. The last four columns describe the components of the estimated change in population during this time interval. **For all questions below, assume that the word \"states\" refers to all 52 rows including Puerto Rico and the District of Columbia.**\n\nThe data was taken from [here](http://www2.census.gov/programs-surveys/popest/datasets/2010-2016/national/totals/nst-est2016-alldata.csv). (Note: If it doesn't download for you when you click the link, please copy and paste it into your address bar!) If you want to read more about the different column descriptions, click [here](http://www2.census.gov/programs-surveys/popest/datasets/2010-2015/national/totals/nst-est2015-alldata.pdf).\n\nThe raw data is a bit messy—run the cell below to clean the table and make it easier to work with.",
   "metadata": {
    "cell_id": "00031-f0102bc0-69be-4d97-8cb3-f4f58d5840ee",
    "deepnote_cell_type": "markdown",
    "deepnote_cell_height": 192.34375
   }
  },
  {
   "cell_type": "code",
   "metadata": {
    "cell_id": "00032-fe68f725-c54a-480c-9dfb-3ac565835507",
    "deepnote_cell_type": "code",
    "deepnote_cell_height": 174
   },
   "source": "# Don't change this cell; just run it.\npop = Table.read_table('nst-est2016-alldata.csv').where('SUMLEV', 40).select([1, 4, 12, 13, 27, 34, 62, 69])\npop = pop.relabeled('POPESTIMATE2015', '2015').relabeled('POPESTIMATE2016', '2016')\npop = pop.relabeled('BIRTHS2016', 'BIRTHS').relabeled('DEATHS2016', 'DEATHS')\npop = pop.relabeled('NETMIG2016', 'MIGRATION').relabeled('RESIDUAL2016', 'OTHER')\npop = pop.with_columns(\"REGION\", np.array([int(region) if region != \"X\" else 0 for region in pop.column(\"REGION\")]))\npop.set_format([2, 3, 4, 5, 6, 7], NumberFormatter(decimals=0)).show(5)",
   "execution_count": null,
   "outputs": []
  },
  {
   "cell_type": "markdown",
   "source": "**Question 1.** Assign `us_birth_rate` to the total US annual birth rate during this time interval. The annual birth rate for a year-long period is the total number of births in that period as a proportion of the total population size at the start of the time period. **(4 Points)**\n\n*Hint:* Which year corresponds to the start of the time period?\n\n<!--\nBEGIN QUESTION\nname: q2_1\npoints:\n - 0\n - 4\n-->",
   "metadata": {
    "deletable": false,
    "editable": false,
    "cell_id": "00033-f870e2eb-bb88-48f0-bed7-39968ad042e3",
    "deepnote_cell_type": "markdown",
    "deepnote_cell_height": 147.5625
   }
  },
  {
   "cell_type": "code",
   "metadata": {
    "cell_id": "00034-7279de91-808b-40dd-99d6-37e926160a2c",
    "deepnote_cell_type": "code",
    "deepnote_cell_height": 84
   },
   "source": "us_birth_rate = ...\nus_birth_rate",
   "execution_count": null,
   "outputs": []
  },
  {
   "cell_type": "code",
   "metadata": {
    "deletable": false,
    "editable": false,
    "cell_id": "00035-9e78e6c7-d204-47ec-a97a-d0ebec7155b5",
    "deepnote_cell_type": "code",
    "deepnote_cell_height": 66
   },
   "source": "grader.check(\"q2_1\")",
   "execution_count": null,
   "outputs": []
  },
  {
   "cell_type": "markdown",
   "source": "**Question 2.** Assign `movers` to the number of states for which the **absolute value** of the **annual rate of migration** was higher than 1%. The annual rate of migration for a year-long period is the net number of migrations (in and out) as a proportion of the population size at the start of the period. The `MIGRATION` column contains estimated annual net migration counts by state. **(4 Points)**\n\n*Hint*: `migration_rates` should be a table and `movers` should be a number.\n\n<!--\nBEGIN QUESTION\nname: q2_2\npoints:\n - 0\n - 4\n-->",
   "metadata": {
    "deletable": false,
    "editable": false,
    "cell_id": "00036-bfa7c47f-b36c-4b3e-951d-282a957f43fc",
    "deepnote_cell_type": "markdown",
    "deepnote_cell_height": 169.953125
   }
  },
  {
   "cell_type": "code",
   "metadata": {
    "cell_id": "00037-424416d7-4f2a-4942-a2c5-f0b24984ae7c",
    "deepnote_cell_type": "code",
    "deepnote_cell_height": 102
   },
   "source": "migration_rates = ...\nmovers = ...\nmovers",
   "execution_count": null,
   "outputs": []
  },
  {
   "cell_type": "code",
   "metadata": {
    "deletable": false,
    "editable": false,
    "cell_id": "00038-2afb6e2b-5adc-408d-9f2e-cd42fe4aba8d",
    "deepnote_cell_type": "code",
    "deepnote_cell_height": 66
   },
   "source": "grader.check(\"q2_2\")",
   "execution_count": null,
   "outputs": []
  },
  {
   "cell_type": "markdown",
   "source": "**Question 3.** Assign `west_births` to the total number of births that occurred in region 4 (the Western US). **(4 Points)**\n\n*Hint:* Make sure you double check the type of the values in the `REGION` column and appropriately filter (i.e. the types must match!).\n\n<!--\nBEGIN QUESTION\nname: q2_3\npoints:\n - 0\n - 4\n-->",
   "metadata": {
    "deletable": false,
    "editable": false,
    "cell_id": "00039-6c80c8ab-a374-479f-a8d0-d04173fdcb50",
    "deepnote_cell_type": "markdown",
    "deepnote_cell_height": 125.171875
   }
  },
  {
   "cell_type": "code",
   "metadata": {
    "cell_id": "00040-6413e2e1-6479-4ff5-beaf-e469db04e17e",
    "deepnote_cell_type": "code",
    "deepnote_cell_height": 84
   },
   "source": "west_births = ...\nwest_births",
   "execution_count": null,
   "outputs": []
  },
  {
   "cell_type": "code",
   "metadata": {
    "deletable": false,
    "editable": false,
    "cell_id": "00041-557db5ca-f3eb-426f-8131-ebd2a3dc8068",
    "deepnote_cell_type": "code",
    "deepnote_cell_height": 66
   },
   "source": "grader.check(\"q2_3\")",
   "execution_count": null,
   "outputs": []
  },
  {
   "cell_type": "markdown",
   "source": "**Question 4.** In the next question, you will be creating a visualization to understand the relationship between birth and death rates. The annual death rate for a year-long period is the total number of deaths in that period as a proportion of the population size at the start of the time period.\n\nWhat visualization is most appropriate to see if there is an association between birth and death rates during a given time interval?\n\n1. Line Graph\n2. Bar Chart\n3. Scatter Plot\n\nAssign `visualization` below to the number corresponding to the correct visualization. **(4 Points)**\n\n<!--\nBEGIN QUESTION\nname: q2_4\npoints:\n - 0\n - 0\n - 4\n-->",
   "metadata": {
    "deletable": false,
    "editable": false,
    "cell_id": "00042-3b3b129b-d22a-4d97-9ff3-ec3ac17102ce",
    "deepnote_cell_type": "markdown",
    "deepnote_cell_height": 271.125
   }
  },
  {
   "cell_type": "code",
   "metadata": {
    "cell_id": "00043-6f05f766-4cb3-4343-a3b4-bcd326ce12e2",
    "deepnote_cell_type": "code",
    "deepnote_cell_height": 66
   },
   "source": "visualization = ...",
   "execution_count": null,
   "outputs": []
  },
  {
   "cell_type": "code",
   "metadata": {
    "deletable": false,
    "editable": false,
    "cell_id": "00044-b05aaffc-c310-4136-97f1-7139a2d9f04d",
    "deepnote_cell_type": "code",
    "deepnote_cell_height": 66
   },
   "source": "grader.check(\"q2_4\")",
   "execution_count": null,
   "outputs": []
  },
  {
   "cell_type": "markdown",
   "source": "<!-- BEGIN QUESTION -->\n\n**Question 5.** In the code cell below, create a visualization that will help us determine if there is an association between birth rate and death rate during this time interval. It may be helpful to create an intermediate table here. **(4 Points)**\n\nThings to consider:\n\n- What type of chart will help us illustrate an association between 2 variables?\n- How can you manipulate a certain table to help generate your chart?\n- Check out the Recommended Reading for this homework!\n\n<!--\nBEGIN QUESTION\nname: q2_5\nmanual: true\n-->",
   "metadata": {
    "deletable": false,
    "editable": false,
    "cell_id": "00045-e57fc494-575d-4cd9-9435-0e7f72dd8cd9",
    "deepnote_cell_type": "markdown",
    "deepnote_cell_height": 212.34375
   }
  },
  {
   "cell_type": "code",
   "metadata": {
    "deletable": false,
    "manual_problem_id": "birth_death_rates_graph",
    "cell_id": "00046-9b96f2cf-2987-43f0-b11f-baf37cca5314",
    "deepnote_cell_type": "code",
    "deepnote_cell_height": 120
   },
   "source": "# In this cell, use birth_rates and death_rates to generate your visualization\nbirth_rates = pop.column('BIRTHS') / pop.column('2015')\ndeath_rates = pop.column('DEATHS') / pop.column('2015')\n...",
   "execution_count": null,
   "outputs": []
  },
  {
   "cell_type": "markdown",
   "source": "<!-- END QUESTION -->\n\n**Question 6.** True or False: There is an association between birth rate and death rate during this time interval. \n\nAssign `assoc` to `True` or `False` in the cell below. **(4 Points)**\n\n<!--\nBEGIN QUESTION\nname: q2_6\npoints:\n - 0\n - 4\n-->",
   "metadata": {
    "deletable": false,
    "editable": false,
    "cell_id": "00047-1a957864-2bdd-4bc9-b8f5-ae766ecff9ca",
    "deepnote_cell_type": "markdown",
    "deepnote_cell_height": 102.78125
   }
  },
  {
   "cell_type": "code",
   "metadata": {
    "cell_id": "00048-c3329f30-e591-4751-983c-67a546a7d6ca",
    "deepnote_cell_type": "code",
    "deepnote_cell_height": 66
   },
   "source": "assoc = ...",
   "execution_count": null,
   "outputs": []
  },
  {
   "cell_type": "code",
   "metadata": {
    "deletable": false,
    "editable": false,
    "cell_id": "00049-a41373ec-873e-4a30-b356-15d2a60bc0f6",
    "deepnote_cell_type": "code",
    "deepnote_cell_height": 66
   },
   "source": "grader.check(\"q2_6\")",
   "execution_count": null,
   "outputs": []
  },
  {
   "cell_type": "markdown",
   "source": "## 3. Uber",
   "metadata": {
    "cell_id": "00050-8de66bd8-6cd1-4d3d-ae6c-4da4e269d087",
    "deepnote_cell_type": "markdown",
    "deepnote_cell_height": 70
   }
  },
  {
   "cell_type": "markdown",
   "source": "Below we load tables containing 200,000 weekday Uber rides in the Manila, Philippines, and Boston, Massachusetts metropolitan areas from the [Uber Movement](https://movement.uber.com) project. The `sourceid` and `dstid` columns contain codes corresponding to start and end locations of each ride. The `hod` column contains codes corresponding to the hour of the day the ride took place. The `ride time` column contains the length of the ride in minutes.",
   "metadata": {
    "cell_id": "00051-2c6a218c-2b9e-4dbf-8e32-29006adfdfaf",
    "deepnote_cell_type": "markdown",
    "deepnote_cell_height": 119.5625
   }
  },
  {
   "cell_type": "code",
   "metadata": {
    "for_question_type": "solution",
    "scrolled": true,
    "cell_id": "00052-96b207cf-89f0-4b6f-bbee-97ca14d52537",
    "deepnote_cell_type": "code",
    "deepnote_cell_height": 156
   },
   "source": "boston = Table.read_table(\"boston.csv\")\nmanila = Table.read_table(\"manila.csv\")\nprint(\"Boston Table\")\nboston.show(4)\nprint(\"Manila Table\")\nmanila.show(4)",
   "execution_count": null,
   "outputs": []
  },
  {
   "cell_type": "markdown",
   "source": "<!-- BEGIN QUESTION -->\n\n**Question 1.** Produce a histogram that visualizes the distributions of all ride times in Boston using the given bins in `equal_bins`. **(4 Points)**\n\n<!--\nBEGIN QUESTION\nname: q3_1\nmanual: true\n-->",
   "metadata": {
    "deletable": false,
    "editable": false,
    "cell_id": "00053-dd5f0e55-1d3c-4b16-aff0-dfe658a4d602",
    "deepnote_cell_type": "markdown",
    "deepnote_cell_height": 88.78125
   }
  },
  {
   "cell_type": "code",
   "metadata": {
    "deletable": false,
    "manual_problem_id": "uber_1",
    "scrolled": true,
    "cell_id": "00054-c1c16119-b190-48d3-bb8d-563b786566bd",
    "deepnote_cell_type": "code",
    "deepnote_cell_height": 84
   },
   "source": "equal_bins = np.arange(0, 120, 5)\n...",
   "execution_count": null,
   "outputs": []
  },
  {
   "cell_type": "markdown",
   "source": "<!-- END QUESTION -->\n\n<!-- BEGIN QUESTION -->\n\n**Question 2.** Now, produce a histogram that visualizes the distribution of all ride times in Manila using the given bins. **(4 Points)**\n\n<!--\nBEGIN QUESTION\nname: q3_2\nmanual: true\n-->",
   "metadata": {
    "deletable": false,
    "editable": false,
    "cell_id": "00055-264d7ca5-3419-47a0-a093-bae3981451a4",
    "deepnote_cell_type": "markdown",
    "deepnote_cell_height": 66.390625
   }
  },
  {
   "cell_type": "code",
   "metadata": {
    "scrolled": true,
    "cell_id": "00056-52613c79-846c-4348-a94f-c31ee6661686",
    "deepnote_cell_type": "code",
    "deepnote_cell_height": 138
   },
   "source": "equal_bins = np.arange(0, 120, 5)\n...\n\n# Don't delete the following line!\nplots.ylim(0, 0.05);",
   "execution_count": null,
   "outputs": []
  },
  {
   "cell_type": "markdown",
   "source": "<!-- END QUESTION -->\n\n**Question 3.** Let's take a closer look at the y-axis label. Assign `unit_meaning` to an integer (1, 2, 3) that corresponds to the \"unit\" in \"Percent per unit\". **(4 Points)**\n\n1. minute  \n2. ride time  \n3. second\n\n<!--\nBEGIN QUESTION\nname: q3_3\npoints:\n - 0\n - 4\n-->",
   "metadata": {
    "deletable": false,
    "editable": false,
    "cell_id": "00057-0c484980-dc05-468b-bdad-7a849fac6477",
    "deepnote_cell_type": "markdown",
    "deepnote_cell_height": 175.953125
   }
  },
  {
   "cell_type": "code",
   "metadata": {
    "cell_id": "00058-ed43ecd6-88f3-42d0-a1b3-3c16b8e874e9",
    "deepnote_cell_type": "code",
    "deepnote_cell_height": 84
   },
   "source": "unit_meaning = ...\nunit_meaning",
   "execution_count": null,
   "outputs": []
  },
  {
   "cell_type": "code",
   "metadata": {
    "deletable": false,
    "editable": false,
    "cell_id": "00059-846aa851-088b-45e4-8ccb-a060971857ee",
    "deepnote_cell_type": "code",
    "deepnote_cell_height": 66
   },
   "source": "grader.check(\"q3_3\")",
   "execution_count": null,
   "outputs": []
  },
  {
   "cell_type": "markdown",
   "source": "**Question 4.** Assign `boston_under_15` and `manila_under_15` to the percentage of rides that are less than 15 minutes in their respective metropolitan areas. Use the height variables provided below in order to compute the percentages. Your solution should only use height variables, numbers, and mathematical operations. You should **not** access the tables `boston` and `manila` in any way. **(4 Points)**\n\n<!--\nBEGIN QUESTION\nname: q3_4\nmanual: false\npoints:\n - 0\n - 0\n - 2\n - 2\n-->",
   "metadata": {
    "deletable": false,
    "editable": false,
    "cell_id": "00060-f2f4356f-5f16-44db-843f-4c18b098912e",
    "deepnote_cell_type": "markdown",
    "deepnote_cell_height": 133.5625
   }
  },
  {
   "cell_type": "code",
   "metadata": {
    "deletable": false,
    "manual_problem_id": "uber_2",
    "cell_id": "00061-161b6478-ca32-427a-892e-ac38b129c2f5",
    "deepnote_cell_type": "code",
    "deepnote_cell_height": 246
   },
   "source": "boston_under_5_height = 1.2\nmanila_under_5_height = 0.6\nboston_5_to_under_10_height = 3.2\nmanila_5_to_under_10_height = 1.4\nboston_10_to_under_15_height = 4.9\nmanila_10_to_under_15_height = 2.2\n\nboston_under_15 = ...\nmanila_under_15 = ...\n\nboston_under_15, manila_under_15",
   "execution_count": null,
   "outputs": []
  },
  {
   "cell_type": "code",
   "metadata": {
    "deletable": false,
    "editable": false,
    "cell_id": "00062-48b10ebc-7bb7-44d0-be02-38c3ad85c19b",
    "deepnote_cell_type": "code",
    "deepnote_cell_height": 66
   },
   "source": "grader.check(\"q3_4\")",
   "execution_count": null,
   "outputs": []
  },
  {
   "cell_type": "markdown",
   "source": "**Question 5.** Let's take a closer look at the distribution of ride times in Boston. Assign `boston_median_bin` to an integer (1, 2, 3, or 4) that corresponds to the bin that contains the median time. **(4 Points)**\n\n1. 0-8 minutes  \n2. 8-14 minutes  \n3. 14-20 minutes  \n4. 20-40 minutes  \n\n*Hint:* The median of a sorted list has half of the list elements to its left, and half to its right.\n\n<!--\nBEGIN QUESTION\nname: q3_5\nmanual: false\npoints:\n - 0\n - 4\n-->",
   "metadata": {
    "deletable": false,
    "editable": false,
    "cell_id": "00063-2485df1b-de70-41e6-a1a6-8020f60d2c66",
    "deepnote_cell_type": "markdown",
    "deepnote_cell_height": 237.734375
   }
  },
  {
   "cell_type": "code",
   "metadata": {
    "cell_id": "00064-e0e9434c-47f9-4de0-b5c4-057601397c97",
    "deepnote_cell_type": "code",
    "deepnote_cell_height": 84
   },
   "source": "boston_median_bin = ...\nboston_median_bin",
   "execution_count": null,
   "outputs": []
  },
  {
   "cell_type": "code",
   "metadata": {
    "deletable": false,
    "editable": false,
    "cell_id": "00065-13bb93c6-b277-4250-b986-0deb7a8a3747",
    "deepnote_cell_type": "code",
    "deepnote_cell_height": 66
   },
   "source": "grader.check(\"q3_5\")",
   "execution_count": null,
   "outputs": []
  },
  {
   "cell_type": "markdown",
   "source": "<!-- BEGIN QUESTION -->\n\n**Question 6.** Identify one difference between the histograms, in terms of the statistical properties. Can you comment on the average and/or skew of each histogram? **(4 Points)**\n\n*Hint*: The best way to do this is to compare the two histograms (from 3.1 and 3.2) visually.\n\n<!--\nBEGIN QUESTION\nname: q3_6\nmanual: true\n-->",
   "metadata": {
    "deletable": false,
    "editable": false,
    "cell_id": "00066-5c3dbead-2dbe-4e82-b6c9-1ade18655296",
    "deepnote_cell_type": "markdown",
    "deepnote_cell_height": 125.171875
   }
  },
  {
   "cell_type": "markdown",
   "source": "_Type your answer here, replacing this text._",
   "metadata": {
    "cell_id": "00067-ea0186ad-98b3-4a99-ae72-1046daa01f13",
    "deepnote_cell_type": "markdown",
    "deepnote_cell_height": 52.390625
   }
  },
  {
   "cell_type": "markdown",
   "source": "<!-- END QUESTION -->\n\n<!-- BEGIN QUESTION -->\n\n**Question 7.** Why is your solution in Question 6 the case? Based on one of the following two readings, why are the distributions for Boston and Manila different? **(4 Points)**\n\n- [Boston reading](https://www.climatestotravel.com/climate/united-states/boston)\n- [Manila reading](https://manilafyi.com/why-is-manila-traffic-so-bad/)\n\n*Hint:* Try thinking about external factors of the two cities that may be causing the difference! There may be multiple different factors that come into play.\n\n<!--\nBEGIN QUESTION\nname: q3_7\nmanual: true\n-->",
   "metadata": {
    "deletable": false,
    "editable": false,
    "cell_id": "00068-8c60be47-427b-41b3-8e62-b2806eec2a29",
    "deepnote_cell_type": "markdown",
    "deepnote_cell_height": 209.34375
   }
  },
  {
   "cell_type": "markdown",
   "source": "_Type your answer here, replacing this text._",
   "metadata": {
    "cell_id": "00069-797a3e47-6889-4cdc-994a-51c3dfbacb1f",
    "deepnote_cell_type": "markdown",
    "deepnote_cell_height": 52.390625
   }
  },
  {
   "cell_type": "markdown",
   "source": "<!-- END QUESTION -->\n\n\n\n## 4. Histograms",
   "metadata": {
    "tags": [],
    "cell_id": "00070-120ab4c7-246c-47f3-ad62-b3be14d215f2",
    "deepnote_cell_type": "markdown",
    "deepnote_cell_height": 70
   }
  },
  {
   "cell_type": "markdown",
   "source": "Consider the following scatter plot: \n\n![](scatter.png)\n\nThe axes of the plot represent values of two variables: $x$ and $y$. ",
   "metadata": {
    "cell_id": "00071-19d05f61-816f-4901-ae9b-c45ad07b13df",
    "deepnote_cell_type": "markdown",
    "deepnote_cell_height": 472.78125
   }
  },
  {
   "cell_type": "markdown",
   "source": "Suppose we have a table called `t` that has two columns in it:\n\n- `x`: a column containing the x-values of the points in the scatter plot\n- `y`: a column containing the y-values of the points in the scatter plot",
   "metadata": {
    "cell_id": "00072-08dfa15e-8356-47a2-8f5e-b3e1d8b6dab9",
    "deepnote_cell_type": "markdown",
    "deepnote_cell_height": 128.171875
   }
  },
  {
   "cell_type": "markdown",
   "source": "Below, you are given three histograms—one corresponds to column `x`, one corresponds to column `y`, and one does not correspond to either column. ",
   "metadata": {
    "cell_id": "00073-ff6842e1-bcac-4842-935e-290b7daf62b1",
    "deepnote_cell_type": "markdown",
    "deepnote_cell_height": 74.78125
   }
  },
  {
   "cell_type": "markdown",
   "source": "**Histogram A:**\n\n![](var3.png)\n\n**Histogram B:**\n\n![](var1.png)\n\n**Histogram C:**\n\n![](var2.png)",
   "metadata": {
    "cell_id": "00074-ae49301c-2ed6-49ac-9877-81e9ea6e15d0",
    "deepnote_cell_type": "markdown",
    "deepnote_cell_height": 1034.171875
   }
  },
  {
   "cell_type": "markdown",
   "source": "**Question 1.** Suppose we run `t.hist('x')`. Which histogram does this code produce? Assign `histogram_column_x` to either 1, 2, or 3. **(5 Points)**\n\n1. Histogram A\n2. Histogram B\n3. Histogram C\n\n<!--\nBEGIN QUESTION\nname: q4_1\nmanual: false\npoints:\n - 0\n - 1\n - 4\n-->",
   "metadata": {
    "deletable": false,
    "editable": false,
    "cell_id": "00075-4bc41de1-1057-48a2-9694-0db3a317303d",
    "deepnote_cell_type": "markdown",
    "deepnote_cell_height": 175.953125
   }
  },
  {
   "cell_type": "code",
   "metadata": {
    "cell_id": "00076-9df2f2ab-e4a5-4309-8c73-2105b20e45e3",
    "deepnote_cell_type": "code",
    "deepnote_cell_height": 66
   },
   "source": "histogram_column_x = ...",
   "execution_count": null,
   "outputs": []
  },
  {
   "cell_type": "code",
   "metadata": {
    "deletable": false,
    "editable": false,
    "cell_id": "00077-61a231e7-13ea-4414-a79c-39e2a0842069",
    "deepnote_cell_type": "code",
    "deepnote_cell_height": 66
   },
   "source": "grader.check(\"q4_1\")",
   "execution_count": null,
   "outputs": []
  },
  {
   "cell_type": "markdown",
   "source": "<!-- BEGIN QUESTION -->\n\n**Question 2.** State at least one reason why you chose the histogram from Question 1. **Make sure to clearly indicate which histogram you selected** (ex: \"I chose histogram A because ...\"). **(5 Points)**\n\n<!--\nBEGIN QUESTION\nname: q4_2\nmanual: true\n-->",
   "metadata": {
    "deletable": false,
    "editable": false,
    "cell_id": "00078-9aa33309-717c-49cf-92e0-746624194dac",
    "deepnote_cell_type": "markdown",
    "deepnote_cell_height": 88.78125
   }
  },
  {
   "cell_type": "markdown",
   "source": "_Type your answer here, replacing this text._",
   "metadata": {
    "cell_id": "00079-893d6314-4d74-4b51-866e-54069bb2a899",
    "deepnote_cell_type": "markdown",
    "deepnote_cell_height": 52.390625
   }
  },
  {
   "cell_type": "markdown",
   "source": "<!-- END QUESTION -->\n\n**Question 3.** Suppose we run `t.hist('y')`. Which histogram does this code produce? Assign `histogram_column_y` to either 1, 2, or 3. **(5 Points)**\n\n1. Histogram A\n2. Histogram B\n3. Histogram C\n\n<!--\nBEGIN QUESTION\nname: q4_3\nmanual: false\npoints:\n - 0\n - 1\n - 4\n-->",
   "metadata": {
    "deletable": false,
    "editable": false,
    "cell_id": "00080-db6d1eef-68e0-408a-a7f8-41bbb58cbb65",
    "deepnote_cell_type": "markdown",
    "deepnote_cell_height": 175.953125
   }
  },
  {
   "cell_type": "code",
   "metadata": {
    "cell_id": "00081-e150a755-e798-4e64-be42-94653ec5831e",
    "deepnote_cell_type": "code",
    "deepnote_cell_height": 66
   },
   "source": "histogram_column_y = ...",
   "execution_count": null,
   "outputs": []
  },
  {
   "cell_type": "code",
   "metadata": {
    "deletable": false,
    "editable": false,
    "cell_id": "00082-4402d463-e738-45ff-b1e7-1344ff2204d0",
    "deepnote_cell_type": "code",
    "deepnote_cell_height": 66
   },
   "source": "grader.check(\"q4_3\")",
   "execution_count": null,
   "outputs": []
  },
  {
   "cell_type": "markdown",
   "source": "<!-- BEGIN QUESTION -->\n\n**Question 4.** State at least one reason why you chose the histogram from Question 3.  **Make sure to clearly indicate which histogram you selected** (ex: \"I chose histogram A because ...\"). **(5 Points)**\n\n<!--\nBEGIN QUESTION\nname: q4_4\nmanual: true\n-->",
   "metadata": {
    "deletable": false,
    "editable": false,
    "cell_id": "00083-5d888967-8d4f-4ced-be14-259da2297725",
    "deepnote_cell_type": "markdown",
    "deepnote_cell_height": 88.78125
   }
  },
  {
   "cell_type": "markdown",
   "source": "_Type your answer here, replacing this text._",
   "metadata": {
    "cell_id": "00084-d25364d1-e8c2-4bad-bc9c-847ea66846af",
    "deepnote_cell_type": "markdown",
    "deepnote_cell_height": 52.390625
   }
  },
  {
   "cell_type": "markdown",
   "source": "<!-- END QUESTION -->\n\n\n\n## 5. IUSE Survey (Optional)",
   "metadata": {
    "cell_id": "00085-0ffba687-6745-4000-a684-cc9a2f52afdc",
    "deepnote_cell_type": "markdown",
    "deepnote_cell_height": 70
   }
  },
  {
   "cell_type": "markdown",
   "source": "You're done with Homework 3!  \n\n**Important submission steps:** \n1. Run the tests and verify that they all pass.\n2. Choose **Save Notebook** from the **File** menu, then **run the final cell**. \n3. Click the link to download the zip file.\n4. Go to [Gradescope](https://www.gradescope.com/courses/349879) and submit the zip file to the corresponding assignment. The name of this assignment is \"Homework 3 Autograder\". \n\n**It is your responsibility to make sure your work is saved before running the last cell.**",
   "metadata": {
    "cell_id": "00087-63140d85-9f0b-4154-a380-18a0dd033a34",
    "owner_user_id": "80fe8cbc-043d-4a7e-9c6f-799b39be207a",
    "deepnote_cell_type": "markdown",
    "deepnote_cell_height": 260.125
   }
  },
  {
   "cell_type": "markdown",
   "source": "---\n\nTo double-check your work, the cell below will rerun all of the autograder tests.",
   "metadata": {
    "deletable": false,
    "editable": false,
    "cell_id": "00088-36088c94-3f36-4d97-8cfa-a4063309349f",
    "deepnote_cell_type": "markdown",
    "deepnote_cell_height": 53.390625
   }
  },
  {
   "cell_type": "code",
   "metadata": {
    "deletable": false,
    "editable": false,
    "cell_id": "00089-e0fda008-dbbd-49a5-a560-98707acede91",
    "deepnote_cell_type": "code",
    "deepnote_cell_height": 66
   },
   "source": "grader.check_all()",
   "execution_count": null,
   "outputs": []
  },
  {
   "cell_type": "markdown",
   "source": "## Submission\n\nMake sure you have run all cells in your notebook in order before running the cell below, so that all images/graphs appear in the output. The cell below will generate a zip file for you to submit. **Please save before exporting!**",
   "metadata": {
    "deletable": false,
    "editable": false,
    "cell_id": "00090-e2ee4a7f-9e46-48b7-9458-f53348ebb173",
    "deepnote_cell_type": "markdown",
    "deepnote_cell_height": 130.78125
   }
  },
  {
   "cell_type": "code",
   "metadata": {
    "deletable": false,
    "editable": false,
    "cell_id": "00091-567d8ad8-5de2-4043-ba7f-07561ea08455",
    "deepnote_cell_type": "code",
    "deepnote_cell_height": 84
   },
   "source": "# Save your notebook first, then run this cell to export your submission.\ngrader.export(pdf=False)",
   "execution_count": null,
   "outputs": []
  },
  {
   "cell_type": "markdown",
   "source": " ",
   "metadata": {
    "cell_id": "00092-2dea1ee9-360c-4cea-b2d6-948ef84ae00d",
    "deepnote_cell_type": "markdown",
    "deepnote_cell_height": 46
   }
  },
  {
   "cell_type": "markdown",
   "source": "<a style='text-decoration:none;line-height:16px;display:flex;color:#5B5B62;padding:10px;justify-content:end;' href='https://deepnote.com?utm_source=created-in-deepnote-cell&projectId=ef6c0823-e062-4ba0-8bfb-7690ef03f945' target=\"_blank\">\n<img alt='Created in deepnote.com' style='display:inline;max-height:16px;margin:0px;margin-right:7.5px;' src='data:image/svg+xml;base64,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' > </img>\nCreated in <span style='font-weight:600;margin-left:4px;'>Deepnote</span></a>",
   "metadata": {
    "tags": [],
    "created_in_deepnote_cell": true,
    "deepnote_cell_type": "markdown"
   }
  }
 ],
 "nbformat": 4,
 "nbformat_minor": 5,
 "metadata": {
  "kernelspec": {
   "display_name": "Python 3 (ipykernel)",
   "language": "python",
   "name": "python3"
  },
  "language_info": {
   "codemirror_mode": {
    "name": "ipython",
    "version": 3
   },
   "file_extension": ".py",
   "mimetype": "text/x-python",
   "name": "python",
   "nbconvert_exporter": "python",
   "pygments_lexer": "ipython3",
   "version": "3.9.9"
  },
  "deepnote_notebook_id": "671b9f1e-eb27-4c61-9c9c-1f2616339c70",
  "deepnote": {},
  "deepnote_execution_queue": []
 }
}