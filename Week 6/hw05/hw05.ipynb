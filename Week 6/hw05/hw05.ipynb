{
 "cells": [
  {
   "cell_type": "code",
   "metadata": {
    "deletable": false,
    "editable": false,
    "cell_id": "e1deec78-da33-40df-afb0-e3127f43c726",
    "deepnote_to_be_reexecuted": false,
    "source_hash": "148eea35",
    "execution_start": 1659141851659,
    "execution_millis": 10689,
    "deepnote_cell_type": "code",
    "deepnote_cell_height": 768
   },
   "source": "# Initialize Otter\n!pip install otter-grader\n!pip install datascience\nimport otter\ngrader = otter.Notebook(\"hw05.ipynb\")",
   "outputs": [
    {
     "name": "stdout",
     "text": "Collecting otter-grader\n  Downloading otter_grader-3.3.0-py3-none-any.whl (165 kB)\n\u001b[2K     \u001b[90m━━━━━━━━━━━━━━━━━━━━━━━━━━━━━━━━━━━━━━\u001b[0m \u001b[32m166.0/166.0 KB\u001b[0m \u001b[31m22.6 MB/s\u001b[0m eta \u001b[36m0:00:00\u001b[0m\n\u001b[?25hCollecting PyPDF2\n  Downloading PyPDF2-2.8.1-py3-none-any.whl (204 kB)\n\u001b[2K     \u001b[90m━━━━━━━━━━━━━━━━━━━━━━━━━━━━━━━━━━━━━━\u001b[0m \u001b[32m204.8/204.8 KB\u001b[0m \u001b[31m35.3 MB/s\u001b[0m eta \u001b[36m0:00:00\u001b[0m\n\u001b[?25hRequirement already satisfied: matplotlib in /shared-libs/python3.9/py/lib/python3.9/site-packages (from otter-grader) (3.5.2)\nCollecting google-api-python-client\n  Downloading google_api_python_client-2.55.0-py2.py3-none-any.whl (8.8 MB)\n\u001b[2K     \u001b[90m━━━━━━━━━━━━━━━━━━━━━━━━━━━━━━━━━━━━━━━━\u001b[0m \u001b[32m8.8/8.8 MB\u001b[0m \u001b[31m105.3 MB/s\u001b[0m eta \u001b[36m0:00:00\u001b[0m\n\u001b[?25hCollecting gspread\n  Downloading gspread-5.4.0-py3-none-any.whl (37 kB)\nCollecting PyYAML\n  Downloading PyYAML-6.0-cp39-cp39-manylinux_2_5_x86_64.manylinux1_x86_64.manylinux_2_12_x86_64.manylinux2010_x86_64.whl (661 kB)\n\u001b[2K     \u001b[90m━━━━━━━━━━━━━━━━━━━━━━━━━━━━━━━━━━━━━━\u001b[0m \u001b[32m661.8/661.8 KB\u001b[0m \u001b[31m79.4 MB/s\u001b[0m eta \u001b[36m0:00:00\u001b[0m\n\u001b[?25hRequirement already satisfied: jinja2 in /shared-libs/python3.9/py-core/lib/python3.9/site-packages (from otter-grader) (2.11.3)\nRequirement already satisfied: nbformat in /shared-libs/python3.9/py-core/lib/python3.9/site-packages (from otter-grader) (5.1.3)\nRequirement already satisfied: nbconvert in /shared-libs/python3.9/py-core/lib/python3.9/site-packages (from otter-grader) (6.0.7)\nRequirement already satisfied: pandas in /shared-libs/python3.9/py/lib/python3.9/site-packages (from otter-grader) (1.2.5)\nRequirement already satisfied: google-auth-oauthlib in /shared-libs/python3.9/py/lib/python3.9/site-packages (from otter-grader) (0.4.6)\nRequirement already satisfied: jupyter-client in /shared-libs/python3.9/py-core/lib/python3.9/site-packages (from otter-grader) (6.1.12)\nRequirement already satisfied: dill in /shared-libs/python3.9/py/lib/python3.9/site-packages (from otter-grader) (0.3.5.1)\nRequirement already satisfied: requests in /shared-libs/python3.9/py/lib/python3.9/site-packages (from otter-grader) (2.27.1)\nCollecting pdfkit\n  Downloading pdfkit-1.0.0-py3-none-any.whl (12 kB)\nRequirement already satisfied: ipykernel in /shared-libs/python3.9/py-core/lib/python3.9/site-packages (from otter-grader) (5.5.5)\nCollecting python-on-whales\n  Downloading python_on_whales-0.50.0-py3-none-any.whl (96 kB)\n\u001b[2K     \u001b[90m━━━━━━━━━━━━━━━━━━━━━━━━━━━━━━━━━━━━━━━━\u001b[0m \u001b[32m96.6/96.6 KB\u001b[0m \u001b[31m25.5 MB/s\u001b[0m eta \u001b[36m0:00:00\u001b[0m\n\u001b[?25hRequirement already satisfied: six in /shared-libs/python3.9/py-core/lib/python3.9/site-packages (from otter-grader) (1.16.0)\nRequirement already satisfied: google-auth<3.0.0dev,>=1.19.0 in /shared-libs/python3.9/py/lib/python3.9/site-packages (from google-api-python-client->otter-grader) (2.7.0)\nCollecting httplib2<1dev,>=0.15.0\n  Downloading httplib2-0.20.4-py3-none-any.whl (96 kB)\n\u001b[2K     \u001b[90m━━━━━━━━━━━━━━━━━━━━━━━━━━━━━━━━━━━━━━━━\u001b[0m \u001b[32m96.6/96.6 KB\u001b[0m \u001b[31m24.7 MB/s\u001b[0m eta \u001b[36m0:00:00\u001b[0m\n\u001b[?25hCollecting uritemplate<5,>=3.0.1\n  Downloading uritemplate-4.1.1-py2.py3-none-any.whl (10 kB)\nCollecting google-auth-httplib2>=0.1.0\n  Downloading google_auth_httplib2-0.1.0-py2.py3-none-any.whl (9.3 kB)\nRequirement already satisfied: google-api-core!=2.0.*,!=2.1.*,!=2.2.*,!=2.3.0,<3.0.0dev,>=1.31.5 in /shared-libs/python3.9/py/lib/python3.9/site-packages (from google-api-python-client->otter-grader) (2.8.1)\nRequirement already satisfied: requests-oauthlib>=0.7.0 in /shared-libs/python3.9/py/lib/python3.9/site-packages (from google-auth-oauthlib->otter-grader) (1.3.1)\nRequirement already satisfied: traitlets>=4.1.0 in /shared-libs/python3.9/py-core/lib/python3.9/site-packages (from ipykernel->otter-grader) (4.3.3)\nRequirement already satisfied: ipython>=5.0.0 in /shared-libs/python3.9/py-core/lib/python3.9/site-packages (from ipykernel->otter-grader) (7.34.0)\nRequirement already satisfied: tornado>=4.2 in /shared-libs/python3.9/py-core/lib/python3.9/site-packages (from ipykernel->otter-grader) (6.1)\nRequirement already satisfied: MarkupSafe>=0.23 in /shared-libs/python3.9/py-core/lib/python3.9/site-packages (from jinja2->otter-grader) (2.0.1)\nRequirement already satisfied: jupyter-core>=4.6.0 in /shared-libs/python3.9/py-core/lib/python3.9/site-packages (from jupyter-client->otter-grader) (4.7.1)\nRequirement already satisfied: pyzmq>=13 in /shared-libs/python3.9/py-core/lib/python3.9/site-packages (from jupyter-client->otter-grader) (23.1.0)\nRequirement already satisfied: python-dateutil>=2.1 in /shared-libs/python3.9/py-core/lib/python3.9/site-packages (from jupyter-client->otter-grader) (2.8.2)\nRequirement already satisfied: numpy>=1.17 in /shared-libs/python3.9/py/lib/python3.9/site-packages (from matplotlib->otter-grader) (1.22.4)\nRequirement already satisfied: pyparsing>=2.2.1 in /shared-libs/python3.9/py/lib/python3.9/site-packages (from matplotlib->otter-grader) (3.0.9)\nRequirement already satisfied: fonttools>=4.22.0 in /shared-libs/python3.9/py/lib/python3.9/site-packages (from matplotlib->otter-grader) (4.33.3)\nRequirement already satisfied: kiwisolver>=1.0.1 in /shared-libs/python3.9/py/lib/python3.9/site-packages (from matplotlib->otter-grader) (1.4.2)\nRequirement already satisfied: packaging>=20.0 in /shared-libs/python3.9/py/lib/python3.9/site-packages (from matplotlib->otter-grader) (21.3)\nRequirement already satisfied: cycler>=0.10 in /shared-libs/python3.9/py/lib/python3.9/site-packages (from matplotlib->otter-grader) (0.11.0)\nRequirement already satisfied: pillow>=6.2.0 in /shared-libs/python3.9/py/lib/python3.9/site-packages (from matplotlib->otter-grader) (9.1.1)\nRequirement already satisfied: bleach in /shared-libs/python3.9/py-core/lib/python3.9/site-packages (from nbconvert->otter-grader) (5.0.0)\nRequirement already satisfied: mistune<2,>=0.8.1 in /shared-libs/python3.9/py-core/lib/python3.9/site-packages (from nbconvert->otter-grader) (0.8.4)\nRequirement already satisfied: pandocfilters>=1.4.1 in /shared-libs/python3.9/py-core/lib/python3.9/site-packages (from nbconvert->otter-grader) (1.5.0)\nRequirement already satisfied: nbclient<0.6.0,>=0.5.0 in /shared-libs/python3.9/py-core/lib/python3.9/site-packages (from nbconvert->otter-grader) (0.5.9)\nRequirement already satisfied: pygments>=2.4.1 in /shared-libs/python3.9/py-core/lib/python3.9/site-packages (from nbconvert->otter-grader) (2.12.0)\nRequirement already satisfied: testpath in /shared-libs/python3.9/py-core/lib/python3.9/site-packages (from nbconvert->otter-grader) (0.6.0)\nRequirement already satisfied: defusedxml in /shared-libs/python3.9/py-core/lib/python3.9/site-packages (from nbconvert->otter-grader) (0.7.1)\nRequirement already satisfied: jupyterlab-pygments in /shared-libs/python3.9/py-core/lib/python3.9/site-packages (from nbconvert->otter-grader) (0.2.2)\nRequirement already satisfied: entrypoints>=0.2.2 in /shared-libs/python3.9/py-core/lib/python3.9/site-packages (from nbconvert->otter-grader) (0.4)\nRequirement already satisfied: jsonschema!=2.5.0,>=2.4 in /shared-libs/python3.9/py-core/lib/python3.9/site-packages (from nbformat->otter-grader) (3.2.0)\nRequirement already satisfied: ipython-genutils in /shared-libs/python3.9/py-core/lib/python3.9/site-packages (from nbformat->otter-grader) (0.2.0)\nRequirement already satisfied: pytz>=2017.3 in /shared-libs/python3.9/py/lib/python3.9/site-packages (from pandas->otter-grader) (2022.1)\nRequirement already satisfied: typing-extensions in /shared-libs/python3.9/py/lib/python3.9/site-packages (from PyPDF2->otter-grader) (4.2.0)\nRequirement already satisfied: pydantic in /shared-libs/python3.9/py/lib/python3.9/site-packages (from python-on-whales->otter-grader) (1.8.2)\nRequirement already satisfied: tqdm in /shared-libs/python3.9/py/lib/python3.9/site-packages (from python-on-whales->otter-grader) (4.64.0)\nRequirement already satisfied: typer>=0.4.1 in /shared-libs/python3.9/py/lib/python3.9/site-packages (from python-on-whales->otter-grader) (0.4.1)\nRequirement already satisfied: charset-normalizer~=2.0.0 in /shared-libs/python3.9/py-core/lib/python3.9/site-packages (from requests->otter-grader) (2.0.12)\nRequirement already satisfied: idna<4,>=2.5 in /shared-libs/python3.9/py-core/lib/python3.9/site-packages (from requests->otter-grader) (3.3)\nRequirement already satisfied: certifi>=2017.4.17 in /shared-libs/python3.9/py/lib/python3.9/site-packages (from requests->otter-grader) (2022.5.18.1)\nRequirement already satisfied: urllib3<1.27,>=1.21.1 in /shared-libs/python3.9/py/lib/python3.9/site-packages (from requests->otter-grader) (1.26.9)\nRequirement already satisfied: protobuf<4.0.0dev,>=3.15.0 in /shared-libs/python3.9/py/lib/python3.9/site-packages (from google-api-core!=2.0.*,!=2.1.*,!=2.2.*,!=2.3.0,<3.0.0dev,>=1.31.5->google-api-python-client->otter-grader) (3.19.4)\nRequirement already satisfied: googleapis-common-protos<2.0dev,>=1.56.2 in /shared-libs/python3.9/py/lib/python3.9/site-packages (from google-api-core!=2.0.*,!=2.1.*,!=2.2.*,!=2.3.0,<3.0.0dev,>=1.31.5->google-api-python-client->otter-grader) (1.56.2)\nRequirement already satisfied: rsa<5,>=3.1.4 in /shared-libs/python3.9/py/lib/python3.9/site-packages (from google-auth<3.0.0dev,>=1.19.0->google-api-python-client->otter-grader) (4.8)\nRequirement already satisfied: cachetools<6.0,>=2.0.0 in /shared-libs/python3.9/py/lib/python3.9/site-packages (from google-auth<3.0.0dev,>=1.19.0->google-api-python-client->otter-grader) (5.2.0)\nRequirement already satisfied: pyasn1-modules>=0.2.1 in /shared-libs/python3.9/py/lib/python3.9/site-packages (from google-auth<3.0.0dev,>=1.19.0->google-api-python-client->otter-grader) (0.2.8)\nRequirement already satisfied: backcall in /shared-libs/python3.9/py-core/lib/python3.9/site-packages (from ipython>=5.0.0->ipykernel->otter-grader) (0.2.0)\nRequirement already satisfied: pickleshare in /shared-libs/python3.9/py-core/lib/python3.9/site-packages (from ipython>=5.0.0->ipykernel->otter-grader) (0.7.5)\nRequirement already satisfied: matplotlib-inline in /shared-libs/python3.9/py-core/lib/python3.9/site-packages (from ipython>=5.0.0->ipykernel->otter-grader) (0.1.3)\nRequirement already satisfied: setuptools>=18.5 in /root/venv/lib/python3.9/site-packages (from ipython>=5.0.0->ipykernel->otter-grader) (58.1.0)\nRequirement already satisfied: decorator in /shared-libs/python3.9/py-core/lib/python3.9/site-packages (from ipython>=5.0.0->ipykernel->otter-grader) (5.1.1)\nRequirement already satisfied: jedi>=0.16 in /shared-libs/python3.9/py-core/lib/python3.9/site-packages (from ipython>=5.0.0->ipykernel->otter-grader) (0.17.2)\nRequirement already satisfied: prompt-toolkit!=3.0.0,!=3.0.1,<3.1.0,>=2.0.0 in /shared-libs/python3.9/py-core/lib/python3.9/site-packages (from ipython>=5.0.0->ipykernel->otter-grader) (3.0.29)\nRequirement already satisfied: pexpect>4.3 in /shared-libs/python3.9/py-core/lib/python3.9/site-packages (from ipython>=5.0.0->ipykernel->otter-grader) (4.8.0)\nRequirement already satisfied: pyrsistent>=0.14.0 in /shared-libs/python3.9/py-core/lib/python3.9/site-packages (from jsonschema!=2.5.0,>=2.4->nbformat->otter-grader) (0.18.1)\nRequirement already satisfied: attrs>=17.4.0 in /shared-libs/python3.9/py-core/lib/python3.9/site-packages (from jsonschema!=2.5.0,>=2.4->nbformat->otter-grader) (21.4.0)\nRequirement already satisfied: nest-asyncio in /shared-libs/python3.9/py-core/lib/python3.9/site-packages (from nbclient<0.6.0,>=0.5.0->nbconvert->otter-grader) (1.5.5)\nRequirement already satisfied: oauthlib>=3.0.0 in /shared-libs/python3.9/py/lib/python3.9/site-packages (from requests-oauthlib>=0.7.0->google-auth-oauthlib->otter-grader) (3.2.0)\nRequirement already satisfied: click<9.0.0,>=7.1.1 in /shared-libs/python3.9/py/lib/python3.9/site-packages (from typer>=0.4.1->python-on-whales->otter-grader) (8.1.3)\nRequirement already satisfied: webencodings in /shared-libs/python3.9/py-core/lib/python3.9/site-packages (from bleach->nbconvert->otter-grader) (0.5.1)\nRequirement already satisfied: parso<0.8.0,>=0.7.0 in /shared-libs/python3.9/py-core/lib/python3.9/site-packages (from jedi>=0.16->ipython>=5.0.0->ipykernel->otter-grader) (0.7.1)\nRequirement already satisfied: ptyprocess>=0.5 in /shared-libs/python3.9/py-core/lib/python3.9/site-packages (from pexpect>4.3->ipython>=5.0.0->ipykernel->otter-grader) (0.7.0)\nRequirement already satisfied: wcwidth in /shared-libs/python3.9/py-core/lib/python3.9/site-packages (from prompt-toolkit!=3.0.0,!=3.0.1,<3.1.0,>=2.0.0->ipython>=5.0.0->ipykernel->otter-grader) (0.2.5)\nRequirement already satisfied: pyasn1<0.5.0,>=0.4.6 in /shared-libs/python3.9/py/lib/python3.9/site-packages (from pyasn1-modules>=0.2.1->google-auth<3.0.0dev,>=1.19.0->google-api-python-client->otter-grader) (0.4.8)\nInstalling collected packages: pdfkit, uritemplate, PyYAML, PyPDF2, httplib2, python-on-whales, google-auth-httplib2, gspread, google-api-python-client, otter-grader\nSuccessfully installed PyPDF2-2.8.1 PyYAML-6.0 google-api-python-client-2.55.0 google-auth-httplib2-0.1.0 gspread-5.4.0 httplib2-0.20.4 otter-grader-3.3.0 pdfkit-1.0.0 python-on-whales-0.50.0 uritemplate-4.1.1\n\u001b[33mWARNING: You are using pip version 22.0.4; however, version 22.2.1 is available.\nYou should consider upgrading via the '/root/venv/bin/python -m pip install --upgrade pip' command.\u001b[0m\u001b[33m\n\u001b[0mRequirement already satisfied: datascience in /shared-libs/python3.9/py/lib/python3.9/site-packages (0.17.2)\nRequirement already satisfied: ipython in /shared-libs/python3.9/py-core/lib/python3.9/site-packages (from datascience) (7.34.0)\nRequirement already satisfied: pandas in /shared-libs/python3.9/py/lib/python3.9/site-packages (from datascience) (1.2.5)\nRequirement already satisfied: branca in /shared-libs/python3.9/py/lib/python3.9/site-packages (from datascience) (0.5.0)\nRequirement already satisfied: matplotlib>=3.0.0 in /shared-libs/python3.9/py/lib/python3.9/site-packages (from datascience) (3.5.2)\nRequirement already satisfied: numpy in /shared-libs/python3.9/py/lib/python3.9/site-packages (from datascience) (1.22.4)\nRequirement already satisfied: plotly in /shared-libs/python3.9/py/lib/python3.9/site-packages (from datascience) (5.8.1)\nRequirement already satisfied: scipy in /shared-libs/python3.9/py/lib/python3.9/site-packages (from datascience) (1.8.1)\nRequirement already satisfied: folium>=0.9.1 in /shared-libs/python3.9/py/lib/python3.9/site-packages (from datascience) (0.12.1.post1)\nRequirement already satisfied: setuptools in /root/venv/lib/python3.9/site-packages (from datascience) (58.1.0)\nRequirement already satisfied: jinja2>=2.9 in /shared-libs/python3.9/py-core/lib/python3.9/site-packages (from folium>=0.9.1->datascience) (2.11.3)\nRequirement already satisfied: requests in /shared-libs/python3.9/py/lib/python3.9/site-packages (from folium>=0.9.1->datascience) (2.27.1)\nRequirement already satisfied: pillow>=6.2.0 in /shared-libs/python3.9/py/lib/python3.9/site-packages (from matplotlib>=3.0.0->datascience) (9.1.1)\nRequirement already satisfied: fonttools>=4.22.0 in /shared-libs/python3.9/py/lib/python3.9/site-packages (from matplotlib>=3.0.0->datascience) (4.33.3)\nRequirement already satisfied: pyparsing>=2.2.1 in /shared-libs/python3.9/py/lib/python3.9/site-packages (from matplotlib>=3.0.0->datascience) (3.0.9)\nRequirement already satisfied: cycler>=0.10 in /shared-libs/python3.9/py/lib/python3.9/site-packages (from matplotlib>=3.0.0->datascience) (0.11.0)\nRequirement already satisfied: kiwisolver>=1.0.1 in /shared-libs/python3.9/py/lib/python3.9/site-packages (from matplotlib>=3.0.0->datascience) (1.4.2)\nRequirement already satisfied: python-dateutil>=2.7 in /shared-libs/python3.9/py-core/lib/python3.9/site-packages (from matplotlib>=3.0.0->datascience) (2.8.2)\nRequirement already satisfied: packaging>=20.0 in /shared-libs/python3.9/py/lib/python3.9/site-packages (from matplotlib>=3.0.0->datascience) (21.3)\nRequirement already satisfied: decorator in /shared-libs/python3.9/py-core/lib/python3.9/site-packages (from ipython->datascience) (5.1.1)\nRequirement already satisfied: traitlets>=4.2 in /shared-libs/python3.9/py-core/lib/python3.9/site-packages (from ipython->datascience) (4.3.3)\nRequirement already satisfied: matplotlib-inline in /shared-libs/python3.9/py-core/lib/python3.9/site-packages (from ipython->datascience) (0.1.3)\nRequirement already satisfied: pickleshare in /shared-libs/python3.9/py-core/lib/python3.9/site-packages (from ipython->datascience) (0.7.5)\nRequirement already satisfied: prompt-toolkit!=3.0.0,!=3.0.1,<3.1.0,>=2.0.0 in /shared-libs/python3.9/py-core/lib/python3.9/site-packages (from ipython->datascience) (3.0.29)\nRequirement already satisfied: jedi>=0.16 in /shared-libs/python3.9/py-core/lib/python3.9/site-packages (from ipython->datascience) (0.17.2)\nRequirement already satisfied: pexpect>4.3 in /shared-libs/python3.9/py-core/lib/python3.9/site-packages (from ipython->datascience) (4.8.0)\nRequirement already satisfied: backcall in /shared-libs/python3.9/py-core/lib/python3.9/site-packages (from ipython->datascience) (0.2.0)\nRequirement already satisfied: pygments in /shared-libs/python3.9/py-core/lib/python3.9/site-packages (from ipython->datascience) (2.12.0)\nRequirement already satisfied: pytz>=2017.3 in /shared-libs/python3.9/py/lib/python3.9/site-packages (from pandas->datascience) (2022.1)\nRequirement already satisfied: tenacity>=6.2.0 in /shared-libs/python3.9/py/lib/python3.9/site-packages (from plotly->datascience) (8.0.1)\nRequirement already satisfied: parso<0.8.0,>=0.7.0 in /shared-libs/python3.9/py-core/lib/python3.9/site-packages (from jedi>=0.16->ipython->datascience) (0.7.1)\nRequirement already satisfied: MarkupSafe>=0.23 in /shared-libs/python3.9/py-core/lib/python3.9/site-packages (from jinja2>=2.9->folium>=0.9.1->datascience) (2.0.1)\nRequirement already satisfied: ptyprocess>=0.5 in /shared-libs/python3.9/py-core/lib/python3.9/site-packages (from pexpect>4.3->ipython->datascience) (0.7.0)\nRequirement already satisfied: wcwidth in /shared-libs/python3.9/py-core/lib/python3.9/site-packages (from prompt-toolkit!=3.0.0,!=3.0.1,<3.1.0,>=2.0.0->ipython->datascience) (0.2.5)\nRequirement already satisfied: six>=1.5 in /shared-libs/python3.9/py-core/lib/python3.9/site-packages (from python-dateutil>=2.7->matplotlib>=3.0.0->datascience) (1.16.0)\nRequirement already satisfied: ipython-genutils in /shared-libs/python3.9/py-core/lib/python3.9/site-packages (from traitlets>=4.2->ipython->datascience) (0.2.0)\nRequirement already satisfied: certifi>=2017.4.17 in /shared-libs/python3.9/py/lib/python3.9/site-packages (from requests->folium>=0.9.1->datascience) (2022.5.18.1)\nRequirement already satisfied: idna<4,>=2.5 in /shared-libs/python3.9/py-core/lib/python3.9/site-packages (from requests->folium>=0.9.1->datascience) (3.3)\nRequirement already satisfied: urllib3<1.27,>=1.21.1 in /shared-libs/python3.9/py/lib/python3.9/site-packages (from requests->folium>=0.9.1->datascience) (1.26.9)\nRequirement already satisfied: charset-normalizer~=2.0.0 in /shared-libs/python3.9/py-core/lib/python3.9/site-packages (from requests->folium>=0.9.1->datascience) (2.0.12)\n\u001b[33mWARNING: You are using pip version 22.0.4; however, version 22.2.1 is available.\nYou should consider upgrading via the '/root/venv/bin/python -m pip install --upgrade pip' command.\u001b[0m\u001b[33m\n\u001b[0m",
     "output_type": "stream"
    }
   ],
   "execution_count": null
  },
  {
   "cell_type": "markdown",
   "source": "# Homework 5: Applying Functions and Iteration\n\nPlease complete this notebook by filling in the cells provided. Before you begin, execute the previous cell to load the provided tests.",
   "metadata": {
    "cell_id": "00001-961f50d2-b502-4d6f-a66d-731a312e8136",
    "deepnote_cell_type": "markdown",
    "deepnote_cell_height": 194
   }
  },
  {
   "cell_type": "markdown",
   "source": "**Helpful Resource:**\n- [Python Reference](http://data8.org/sp22/python-reference.html): Cheat sheet of helpful array & table methods used in Data 8!\n\n**Recommended Readings**: \n\n* [Tabular Thinking Guide](https://drive.google.com/file/d/13HaWu4rrjeowEOs6S_vaQGM3GremzXQ3/view?usp=sharing)\n* [Applying Functions](https://www.inferentialthinking.com/chapters/08/1/Applying_a_Function_to_a_Column.html)\n* [Conditionals](https://www.inferentialthinking.com/chapters/09/1/Conditional_Statements.html)\n* [Iteration](https://www.inferentialthinking.com/chapters/09/2/Iteration.html)",
   "metadata": {
    "cell_id": "00002-32488a46-265b-475b-8197-c6a5050a68ee",
    "deepnote_cell_type": "markdown",
    "deepnote_cell_height": 249
   }
  },
  {
   "cell_type": "markdown",
   "source": "Please complete this notebook by filling in the cells provided. Before you begin, execute the cell below to setup the notebook by importing some helpful libraries. Each time you start your server, you will need to execute this cell again.\n\nFor all problems that you must write explanations and sentences for, you **must** provide your answer in the designated space. **Moreover, throughout this homework and all future ones, please be sure to not re-assign variables throughout the notebook!** For example, if you use `max_temperature` in your answer to one question, do not reassign it later on. Otherwise, you will fail tests that you thought you were passing previously!\n\n**Deadline:**\n\nThis assignment is due Thursday, 2/24 at 11:59pm PT. Turn it in by Wednesday, 2/23 at 11:59pm PT for 5 extra credit points. Late work will not be accepted as per the [policies](http://data8.org/sp22/policies.html) page.\n\n**Note: This homework has hidden tests on it. That means even though tests may say 100% passed, it doesn't mean your final grade will be 100%. We will be running more tests for correctness once everyone turns in the homework.**\n\nDirectly sharing answers is not okay, but discussing problems with the course staff or with other students is encouraged. Refer to the policies page to learn more about how to learn cooperatively.\n\nYou should start early so that you have time to get help if you're stuck. Office hours are held Tuesday through Friday. The schedule appears on [http://data8.org/sp22/office-hours.html](http://data8.org/sp22/office-hours.html).",
   "metadata": {
    "cell_id": "00003-800e5683-9f00-4666-a10a-a92af386e109",
    "deepnote_cell_type": "markdown",
    "deepnote_cell_height": 444
   }
  },
  {
   "cell_type": "markdown",
   "source": "## 1. 2021 Cal Football Season",
   "metadata": {
    "cell_id": "00004-573078f3-ebeb-472c-b11c-b032be22c750",
    "deepnote_cell_type": "markdown",
    "deepnote_cell_height": 70
   }
  },
  {
   "cell_type": "code",
   "metadata": {
    "cell_id": "00005-810bce79-abda-4864-9ce6-32489691d4f9",
    "deepnote_to_be_reexecuted": false,
    "source_hash": "b348d8b1",
    "execution_start": 1659141862351,
    "execution_millis": 2921,
    "deepnote_cell_type": "code",
    "deepnote_cell_height": 202
   },
   "source": "# Run this cell to set up the notebook, but please don't change it.\n\n# These lines import the numpy and datascience modules.\nimport numpy as np\nfrom datascience import *\nimport d8error\nimport warnings\nwarnings.simplefilter('ignore', FutureWarning)",
   "outputs": [],
   "execution_count": null
  },
  {
   "cell_type": "markdown",
   "source": "James is trying to analyze how well the Cal football team performed in the 2021 season. A football game is divided into four periods, called quarters. The number of points Cal scored in each quarter and the number of points their opponent scored in each quarter are stored in a table called `cal_fb.csv`.",
   "metadata": {
    "cell_id": "00006-5de4985a-964e-4530-81b2-2ca5adb92f72",
    "deepnote_cell_type": "markdown",
    "deepnote_cell_height": 96
   }
  },
  {
   "cell_type": "code",
   "metadata": {
    "deletable": false,
    "editable": false,
    "cell_id": "00007-c7f694f1-91f1-4b48-9d17-e35806e795e4",
    "deepnote_to_be_reexecuted": false,
    "source_hash": "5668f2d5",
    "execution_start": 1659141865276,
    "execution_millis": 19,
    "deepnote_cell_type": "code",
    "deepnote_cell_height": 526,
    "deepnote_output_heights": [
     380
    ]
   },
   "source": "# Just run this cell\n# Read in the cal_fb csv file\ngames = Table().read_table(\"cal_fb.csv\")\ngames.show()",
   "outputs": [
    {
     "data": {
      "text/plain": "<IPython.core.display.HTML object>",
      "text/html": "<table border=\"1\" class=\"dataframe\">\n    <thead>\n        <tr>\n            <th>Opponent</th> <th>Cal 1Q</th> <th>Cal 2Q</th> <th>Cal 3Q</th> <th>Cal 4Q</th> <th>Opp 1Q</th> <th>Opp 2Q</th> <th>Opp 3Q</th> <th>Opp 4Q</th>\n        </tr>\n    </thead>\n    <tbody>\n        <tr>\n            <td>Nevada          </td> <td>14    </td> <td>0     </td> <td>0     </td> <td>3     </td> <td>0     </td> <td>13    </td> <td>9     </td> <td>0     </td>\n        </tr>\n        <tr>\n            <td>TCU             </td> <td>6     </td> <td>13    </td> <td>0     </td> <td>13    </td> <td>0     </td> <td>14    </td> <td>7     </td> <td>13    </td>\n        </tr>\n        <tr>\n            <td>Sacramento State</td> <td>14    </td> <td>7     </td> <td>14    </td> <td>7     </td> <td>6     </td> <td>0     </td> <td>14    </td> <td>10    </td>\n        </tr>\n        <tr>\n            <td>Washington      </td> <td>7     </td> <td>3     </td> <td>7     </td> <td>7     </td> <td>7     </td> <td>14    </td> <td>3     </td> <td>7     </td>\n        </tr>\n        <tr>\n            <td>Washington State</td> <td>6     </td> <td>0     </td> <td>0     </td> <td>0     </td> <td>14    </td> <td>0     </td> <td>7     </td> <td>0     </td>\n        </tr>\n        <tr>\n            <td>Oregon          </td> <td>7     </td> <td>0     </td> <td>3     </td> <td>7     </td> <td>3     </td> <td>7     </td> <td>0     </td> <td>14    </td>\n        </tr>\n        <tr>\n            <td>Colorado        </td> <td>10    </td> <td>13    </td> <td>0     </td> <td>3     </td> <td>0     </td> <td>3     </td> <td>0     </td> <td>0     </td>\n        </tr>\n        <tr>\n            <td>Oregon State    </td> <td>10    </td> <td>7     </td> <td>14    </td> <td>8     </td> <td>0     </td> <td>10    </td> <td>7     </td> <td>8     </td>\n        </tr>\n        <tr>\n            <td>Arizona         </td> <td>0     </td> <td>0     </td> <td>3     </td> <td>0     </td> <td>0     </td> <td>0     </td> <td>3     </td> <td>7     </td>\n        </tr>\n        <tr>\n            <td>Stanford        </td> <td>0     </td> <td>14    </td> <td>13    </td> <td>14    </td> <td>0     </td> <td>3     </td> <td>0     </td> <td>8     </td>\n        </tr>\n        <tr>\n            <td>UCLA            </td> <td>0     </td> <td>14    </td> <td>0     </td> <td>0     </td> <td>3     </td> <td>14    </td> <td>10    </td> <td>15    </td>\n        </tr>\n        <tr>\n            <td>USC             </td> <td>3     </td> <td>14    </td> <td>0     </td> <td>7     </td> <td>0     </td> <td>7     </td> <td>0     </td> <td>7     </td>\n        </tr>\n    </tbody>\n</table>"
     },
     "metadata": {},
     "output_type": "display_data"
    }
   ],
   "execution_count": null
  },
  {
   "cell_type": "markdown",
   "source": "Let's start by finding the total points each team scored in a game.\n\n**Question 1.** Write a function called `sum_scores`.  It should take four arguments, where each argument represents integers corresponding to the team's score for each quarter. It should return the team's total score for that game. **(20 Points)**\n\n*Note:* Don't overthink this question!\n\n\n<!--\nBEGIN QUESTION\nname: q1_1\nmanual: false\npoints:\n - 10\n - 10\n-->",
   "metadata": {
    "deletable": false,
    "editable": false,
    "cell_id": "00008-7194dd9b-8c8e-4b3d-a4ac-e4239f08703e",
    "deepnote_cell_type": "markdown",
    "deepnote_cell_height": 160
   }
  },
  {
   "cell_type": "code",
   "metadata": {
    "cell_id": "00009-8328034f-d8c8-4301-9796-7f49fab33c18",
    "deepnote_to_be_reexecuted": false,
    "source_hash": "b2062ad7",
    "execution_start": 1659141865300,
    "execution_millis": 5,
    "deepnote_cell_type": "code",
    "deepnote_cell_height": 185,
    "deepnote_output_heights": [
     21
    ]
   },
   "source": "def sum_scores(a,b,c,d):\n    '''Returns the total score calculated by adding up the score of each quarter'''\n    return (a+b+c+d)\n\nsum_scores(14, 7, 3, 0) #DO NOT CHANGE THIS LINE",
   "outputs": [
    {
     "output_type": "execute_result",
     "execution_count": 4,
     "data": {
      "text/plain": "24"
     },
     "metadata": {}
    }
   ],
   "execution_count": null
  },
  {
   "cell_type": "code",
   "metadata": {
    "deletable": false,
    "editable": false,
    "cell_id": "00010-6f80c95a-cb73-4bd8-9cd6-f676c5265394",
    "deepnote_to_be_reexecuted": false,
    "source_hash": "694c3413",
    "execution_start": 1659141865340,
    "execution_millis": 3,
    "deepnote_cell_type": "code",
    "deepnote_cell_height": 137,
    "deepnote_output_heights": [
     45
    ]
   },
   "source": "grader.check(\"q1_1\")",
   "outputs": [
    {
     "output_type": "execute_result",
     "execution_count": 5,
     "data": {
      "text/plain": "q1_1 results: All test cases passed!",
      "text/html": "<p><strong><pre style='display: inline;'>q1_1</pre></strong> passed!</p>"
     },
     "metadata": {}
    }
   ],
   "execution_count": null
  },
  {
   "cell_type": "markdown",
   "source": "**Question 2.** Create a new table `final_scores` with three columns in this *specific* order: `Opponent`, `Cal Score`, `Opponent Score`. You will have to create the `Cal Score` and `Opponent Score` columns. Use the function `sum_scores` you just defined in the previous question for this problem. **(20 Points)**\n\n*Hint:* If you want to apply a function that takes in multiple arguments, you can pass multiple column names as arguments in `tbl.apply()`. The column values will be passed into the corresponding arguments of the function. Take a look at the Python Reference Sheet and Lecture 13's demo for syntax.\n\n*Note:* If you’re running into issues creating `final_scores`, check that `cal_scores` and `opponent_scores` output what you want. \n\n<!--\nBEGIN QUESTION\nname: q1_2\nmanual: false\npoints:\n - 0\n - 0\n - 20\n-->",
   "metadata": {
    "deletable": false,
    "editable": false,
    "cell_id": "00011-35efc402-af22-49d7-a4bc-ac5952977c33",
    "deepnote_cell_type": "markdown",
    "deepnote_cell_height": 226
   }
  },
  {
   "cell_type": "code",
   "metadata": {
    "cell_id": "00012-4e749c55-700a-4f2d-a719-28eee9e29697",
    "deepnote_to_be_reexecuted": false,
    "source_hash": "17ec4c57",
    "execution_start": 1659141865341,
    "execution_millis": 2,
    "deepnote_cell_type": "code",
    "deepnote_cell_height": 576,
    "deepnote_output_heights": [
     353
    ]
   },
   "source": "cal_scores = games.apply(sum_scores,\"Cal 1Q\",\"Cal 2Q\",\"Cal 3Q\",\"Cal 4Q\")\nopponent_scores = games.apply(sum_scores,\"Opp 1Q\",\"Opp 2Q\",\"Opp 3Q\",\"Opp 4Q\")\nfinal_scores = games.drop(\"Cal 1Q\",\"Cal 2Q\",\"Cal 3Q\",\"Cal 4Q\",\"Opp 1Q\",\"Opp 2Q\",\"Opp 3Q\",\"Opp 4Q\").with_columns(\n    \"Opponent\", games.column(\"Opponent\"),\n    \"Cal Score\", cal_scores,\n    \"Opponent Score\", opponent_scores\n)\nfinal_scores",
   "outputs": [
    {
     "output_type": "execute_result",
     "execution_count": 6,
     "data": {
      "text/plain": "Opponent         | Cal Score | Opponent Score\nNevada           | 17        | 22\nTCU              | 32        | 34\nSacramento State | 42        | 30\nWashington       | 24        | 31\nWashington State | 6         | 21\nOregon           | 17        | 24\nColorado         | 26        | 3\nOregon State     | 39        | 25\nArizona          | 3         | 10\nStanford         | 41        | 11\n... (2 rows omitted)",
      "text/html": "<table border=\"1\" class=\"dataframe\">\n    <thead>\n        <tr>\n            <th>Opponent</th> <th>Cal Score</th> <th>Opponent Score</th>\n        </tr>\n    </thead>\n    <tbody>\n        <tr>\n            <td>Nevada          </td> <td>17       </td> <td>22            </td>\n        </tr>\n        <tr>\n            <td>TCU             </td> <td>32       </td> <td>34            </td>\n        </tr>\n        <tr>\n            <td>Sacramento State</td> <td>42       </td> <td>30            </td>\n        </tr>\n        <tr>\n            <td>Washington      </td> <td>24       </td> <td>31            </td>\n        </tr>\n        <tr>\n            <td>Washington State</td> <td>6        </td> <td>21            </td>\n        </tr>\n        <tr>\n            <td>Oregon          </td> <td>17       </td> <td>24            </td>\n        </tr>\n        <tr>\n            <td>Colorado        </td> <td>26       </td> <td>3             </td>\n        </tr>\n        <tr>\n            <td>Oregon State    </td> <td>39       </td> <td>25            </td>\n        </tr>\n        <tr>\n            <td>Arizona         </td> <td>3        </td> <td>10            </td>\n        </tr>\n        <tr>\n            <td>Stanford        </td> <td>41       </td> <td>11            </td>\n        </tr>\n    </tbody>\n</table>\n<p>... (2 rows omitted)</p>"
     },
     "metadata": {}
    }
   ],
   "execution_count": null
  },
  {
   "cell_type": "code",
   "metadata": {
    "deletable": false,
    "editable": false,
    "cell_id": "00013-17a9d358-61d8-445c-8b26-5b62a486aa40",
    "deepnote_to_be_reexecuted": false,
    "source_hash": "cb3629cc",
    "execution_start": 1659141865342,
    "execution_millis": 10,
    "deepnote_cell_type": "code",
    "deepnote_cell_height": 137,
    "deepnote_output_heights": [
     45
    ]
   },
   "source": "grader.check(\"q1_2\")",
   "outputs": [
    {
     "output_type": "execute_result",
     "execution_count": 7,
     "data": {
      "text/plain": "q1_2 results: All test cases passed!",
      "text/html": "<p><strong><pre style='display: inline;'>q1_2</pre></strong> passed!</p>"
     },
     "metadata": {}
    }
   ],
   "execution_count": null
  },
  {
   "cell_type": "markdown",
   "source": "We can get specific row objects from a table. You can use `tbl.row(n)` to get the `n`th row of a table. `row.item(\"column_name\")` will allow you to select the element that corresponds to `column_name` in a particular row. Here's an example:",
   "metadata": {
    "cell_id": "00014-61283e40-5ced-4c3f-b064-3315ba5d39b3",
    "deepnote_cell_type": "markdown",
    "deepnote_cell_height": 74
   }
  },
  {
   "cell_type": "code",
   "metadata": {
    "deletable": false,
    "editable": false,
    "cell_id": "00015-ccd334d3-8d16-4f66-8776-d9d440322e24",
    "deepnote_to_be_reexecuted": false,
    "source_hash": "4e038166",
    "execution_start": 1659141865356,
    "execution_millis": 3,
    "deepnote_cell_type": "code",
    "deepnote_cell_height": 149,
    "deepnote_output_heights": [
     21
    ]
   },
   "source": "# Just run this cell\n# We got the Axe!\ngames.row(9)",
   "outputs": [
    {
     "output_type": "execute_result",
     "execution_count": 8,
     "data": {
      "text/plain": "Row(Opponent='Stanford', Cal 1Q=0, Cal 2Q=14, Cal 3Q=13, Cal 4Q=14, Opp 1Q=0, Opp 2Q=3, Opp 3Q=0, Opp 4Q=8)"
     },
     "metadata": {}
    }
   ],
   "execution_count": null
  },
  {
   "cell_type": "code",
   "metadata": {
    "deletable": false,
    "editable": false,
    "cell_id": "00016-06aeb22b-952e-49b0-8059-982b98e600ff",
    "deepnote_to_be_reexecuted": false,
    "source_hash": "d44ce12f",
    "execution_start": 1659141865394,
    "execution_millis": 4,
    "deepnote_cell_type": "code",
    "deepnote_cell_height": 131,
    "deepnote_output_heights": [
     21
    ]
   },
   "source": "# Just run this cell\ngames.row(9).item(\"Cal 4Q\")",
   "outputs": [
    {
     "output_type": "execute_result",
     "execution_count": 9,
     "data": {
      "text/plain": "14"
     },
     "metadata": {}
    }
   ],
   "execution_count": null
  },
  {
   "cell_type": "markdown",
   "source": "**Question 3.** We want to see for a particular game whether or not Cal lost. Write a function called `did_cal_lose`.  It should take one argument: a **row object** from the `final_scores` table. It should return either `True` if Cal's score was less than the Opponent's score, and `False` otherwise. **(20 Points)**\n\n*Note 1*: \"Row object\" means a row from the table that contains all the data for that specific row. It is **not** the index of a row. Do not try and call `final_scores.row(row)` inside of the function.\n\n*Note 2*: If you're still confused by row objects, try printing out `final_scores.row(1)` in a new cell to visually see what it looks like! This piece of code is pulling out the row object located at index 1 of the `final_scores` table and returning it. When you display it in a cell, you'll see that it is not located within a table, but is instead a standalone row object!\n\n<!--\nBEGIN QUESTION\nname: q1_3\nmanual: false\npoints:\n - 0\n - 10\n - 10\n-->",
   "metadata": {
    "deletable": false,
    "editable": false,
    "cell_id": "00017-c9664d86-a30b-4061-9a0a-ef94df10d2eb",
    "deepnote_cell_type": "markdown",
    "deepnote_cell_height": 248
   }
  },
  {
   "cell_type": "code",
   "source": "def did_cal_lose(x):\n    if x.item(\"Cal Score\") < x.item(\"Opponent Score\"):\n        return True\n    else:\n        return False\n\ndid_cal_lose(final_scores.row(1)) #DO NOT CHANGE THIS LINE\n",
   "metadata": {
    "cell_id": "00018-a414a5e0-257b-4e10-a437-6a2f07e26ec7",
    "deepnote_to_be_reexecuted": false,
    "source_hash": "c646235a",
    "execution_start": 1659141865395,
    "execution_millis": 3,
    "deepnote_cell_type": "code",
    "deepnote_cell_height": 239,
    "deepnote_output_heights": [
     21,
     33,
     33,
     52,
     33,
     572
    ]
   },
   "outputs": [
    {
     "output_type": "execute_result",
     "execution_count": 10,
     "data": {
      "text/plain": "True"
     },
     "metadata": {}
    }
   ],
   "execution_count": null
  },
  {
   "cell_type": "code",
   "metadata": {
    "deletable": false,
    "editable": false,
    "cell_id": "00019-42c99e7b-9915-4ff6-95b1-09adff60b719",
    "deepnote_to_be_reexecuted": false,
    "source_hash": "548428d4",
    "execution_start": 1659141865396,
    "execution_millis": 3,
    "deepnote_cell_type": "code",
    "deepnote_cell_height": 137,
    "deepnote_output_heights": [
     45
    ]
   },
   "source": "grader.check(\"q1_3\")",
   "outputs": [
    {
     "output_type": "execute_result",
     "execution_count": 11,
     "data": {
      "text/plain": "q1_3 results: All test cases passed!",
      "text/html": "<p><strong><pre style='display: inline;'>q1_3</pre></strong> passed!</p>"
     },
     "metadata": {}
    }
   ],
   "execution_count": null
  },
  {
   "cell_type": "markdown",
   "source": "**Question 4.** James wants to see how Cal did against every opponent during the 2021 season. Using the `final_scores` table:\n\n1. Assign `results` to an array of `True` and `False` values that correspond to whether or not Cal lost.\n2. Add the `results` array to the `final_scores` table in a column named `Results`, and assign this to `final_scores_with_results`.\n3. Then, respectively assign the number of wins and losses Cal had to `cal_wins` and `cal_losses`.\n\n**(20 Points)**\n\n*Hint 1*: `True` and `False` are **not** strings. What data type are they?\n\n*Hint 2*: `tbl.num_rows` might be helpful too.\n\n*Hint 3*: When you only pass a function name and no column labels through `tbl.apply()`, the function gets applied to every row in `tbl`.\n\n\n<!--\nBEGIN QUESTION\nname: q1_4\nmanual: false\npoints:\n - 0\n - 0\n - 10\n - 10\n-->",
   "metadata": {
    "deletable": false,
    "editable": false,
    "cell_id": "00020-e12c1cbc-d71d-4760-ad09-b623043ede37",
    "deepnote_cell_type": "markdown",
    "deepnote_cell_height": 340
   }
  },
  {
   "cell_type": "code",
   "source": "results = final_scores.apply(did_cal_lose)\nfinal_scores_with_results = final_scores.with_column(\n    \"Results\", results\n)\ncal_losses = sum(results)\ncal_wins = final_scores.num_rows - cal_losses\n\n# Don't delete or edit the following line:\nprint(f\"In the 2021 Season, Cal Football won {cal_wins} games and lost {cal_losses} games. Go Bears! 🐻\")",
   "metadata": {
    "cell_id": "00021-226f6bf7-0f23-4531-933c-0def8b83f7ce",
    "deepnote_to_be_reexecuted": false,
    "source_hash": "aafe0ba",
    "execution_start": 1659142091685,
    "execution_millis": 2,
    "deepnote_cell_type": "code",
    "deepnote_cell_height": 251,
    "deepnote_output_heights": [
     null,
     40
    ]
   },
   "outputs": [
    {
     "name": "stdout",
     "text": "In the 2021 Season, Cal Football won 5 games and lost 7 games. Go Bears! 🐻\n",
     "output_type": "stream"
    }
   ],
   "execution_count": null
  },
  {
   "cell_type": "code",
   "metadata": {
    "deletable": false,
    "editable": false,
    "cell_id": "00022-41f6c395-30d2-499f-a2f8-2fb5dbed9bd7",
    "deepnote_to_be_reexecuted": false,
    "source_hash": "1dfc13b8",
    "execution_start": 1659142094675,
    "execution_millis": 32,
    "deepnote_cell_type": "code",
    "deepnote_cell_height": 137,
    "deepnote_output_heights": [
     45
    ]
   },
   "source": "grader.check(\"q1_4\")",
   "outputs": [
    {
     "output_type": "execute_result",
     "execution_count": 24,
     "data": {
      "text/plain": "q1_4 results: All test cases passed!",
      "text/html": "<p><strong><pre style='display: inline;'>q1_4</pre></strong> passed!</p>"
     },
     "metadata": {}
    }
   ],
   "execution_count": null
  },
  {
   "cell_type": "markdown",
   "source": "**Question 5:** Sometimes in football the two teams are equally matched and the game is quite close. Other times, it is a blowout, where the winning team wins by a large margin of victory. Let's define a **big win** to be a game in which the winning team won by more than 10 points.\n\nUse your `final_scores` table to assign `big_wins` to an array of team names that Cal had big wins against during the 2021 football season. You may find the `is_big_win` function defined below helpful to you! **(20 Points)**\n\n<!--\nBEGIN QUESTION\nname: q1_5\nmanual: false\npoints:\n - 5\n - 5\n - 10\n-->",
   "metadata": {
    "deletable": false,
    "editable": false,
    "cell_id": "00023-ba6d9f30-468b-4e65-9a36-d4d92145eacc",
    "deepnote_cell_type": "markdown",
    "deepnote_cell_height": 168
   }
  },
  {
   "cell_type": "code",
   "source": "def is_big_win(row):\n    '''Return a boolean to describe whether or not a game (row) is a big win'''\n    score_diff = row.item(\"Cal Score\") - row.item(\"Opponent Score\")\n    \n    if score_diff > 10:\n        return True\n    else:\n        return False\n\nbig_wins = make_array()\n\nfor row in final_scores.rows: # This will help us iterate through rows of final_scores table\n    opponent = row.item(\"Opponent\")\n    if is_big_win(row): # You should use the function defined above!\n        big_wins = np.append(big_wins, opponent) # Do not change this line - Adds character to the end of some_string\nbig_wins",
   "metadata": {
    "cell_id": "00024-a995ff6f-524b-4a56-833c-eaca27a01ba0",
    "deepnote_to_be_reexecuted": false,
    "source_hash": "8bdd3389",
    "execution_start": 1659143129178,
    "execution_millis": 2,
    "deepnote_cell_type": "code",
    "deepnote_cell_height": 407,
    "deepnote_output_heights": [
     40
    ]
   },
   "outputs": [
    {
     "output_type": "execute_result",
     "execution_count": 26,
     "data": {
      "text/plain": "array(['Sacramento State', 'Colorado', 'Oregon State', 'Stanford'],\n      dtype='<U32')"
     },
     "metadata": {}
    }
   ],
   "execution_count": null
  },
  {
   "cell_type": "code",
   "metadata": {
    "deletable": false,
    "editable": false,
    "cell_id": "00025-a300dd54-30a4-4ad3-bb3c-43a939324bc3",
    "owner_user_id": "80fe8cbc-043d-4a7e-9c6f-799b39be207a",
    "deepnote_to_be_reexecuted": false,
    "source_hash": "f0b171b5",
    "execution_start": 1659143140496,
    "execution_millis": 36,
    "deepnote_cell_type": "code",
    "deepnote_cell_height": 137,
    "deepnote_output_heights": [
     45
    ]
   },
   "source": "grader.check(\"q1_5\")",
   "outputs": [
    {
     "output_type": "execute_result",
     "execution_count": 27,
     "data": {
      "text/plain": "q1_5 results: All test cases passed!",
      "text/html": "<p><strong><pre style='display: inline;'>q1_5</pre></strong> passed!</p>"
     },
     "metadata": {}
    }
   ],
   "execution_count": null
  },
  {
   "cell_type": "markdown",
   "source": "You're done with the required section of Homework 5! Continue on to the optional section for some more practice with iterations and for loops.\n\nMake sure to **run the submit cell located at the bottom of this notebook.**",
   "metadata": {
    "cell_id": "00026-73f53a57-d5c1-4d02-ab24-447db7ec28a4",
    "deepnote_cell_type": "markdown",
    "deepnote_cell_height": 110
   }
  },
  {
   "cell_type": "markdown",
   "source": "## 2. Unrolling Loops (Optional)",
   "metadata": {
    "cell_id": "00027-c3354766-45d1-424f-a164-4ea8eb2cd943",
    "deepnote_cell_type": "markdown",
    "deepnote_cell_height": 70
   }
  },
  {
   "cell_type": "markdown",
   "source": "**This section of HW5 is optional. Do it for your own practice, but it will not be incorporated into the final grading!**\n\n\"Unrolling\" a `for` loop means to manually write out all the code that it executes.  The result is code that does the same thing as the loop, but without the structure of the loop.  For example, for the following loop:\n\n    for num in np.arange(3):\n        print(\"The number is\", num)\n\nThe unrolled version would look like this:\n\n    print(\"The number is\", 0)\n    print(\"The number is\", 1)\n    print(\"The number is\", 2)\n\n\nUnrolling a `for` loop is a great way to understand what the loop is doing during each step. In this exercise, you'll practice unrolling a `for` loop.\n\n\nIn the question below, write code that does the same thing as the given code, but with any `for` loops unrolled.  It's a good idea to run both your answer and the original code to verify that they do the same thing.  (Of course, if the code does something random, you'll get a different random outcome than the original code!)",
   "metadata": {
    "cell_id": "00028-92efd2b3-8e34-47a7-99aa-19191a0c7730",
    "deepnote_cell_type": "markdown",
    "deepnote_cell_height": 424
   }
  },
  {
   "cell_type": "markdown",
   "source": "**Optional Question 1.** Unroll the code below.\n<!--\nBEGIN QUESTION\nname: q2_1\nmanual: false\n-->",
   "metadata": {
    "deletable": false,
    "editable": false,
    "cell_id": "00029-8b379fec-3f7c-47a2-8340-b2fe22f9da8d",
    "deepnote_cell_type": "markdown",
    "deepnote_cell_height": 66
   }
  },
  {
   "cell_type": "code",
   "metadata": {
    "cell_id": "00030-42a4d75c-2877-4dc3-84e2-9a62d6cce011",
    "deepnote_to_be_reexecuted": false,
    "source_hash": "d8319983",
    "execution_start": 1659143160585,
    "execution_millis": 1,
    "deepnote_cell_type": "code",
    "deepnote_cell_height": 589
   },
   "source": "for joke_iteration in np.arange(3):\n    print(\"Knock, knock.\")\n    print(\"Who's there?\")\n    print(\"Banana.\")\n    print(\"Banana who?\")\nprint(\"Knock, knock.\")\nprint(\"Who's there?\")\nprint(\"Orange.\")\nprint(\"Orange who?\")\nprint(\"Orange you glad I didn't say banana?\")",
   "outputs": [
    {
     "name": "stdout",
     "text": "Knock, knock.\nWho's there?\nBanana.\nBanana who?\nKnock, knock.\nWho's there?\nBanana.\nBanana who?\nKnock, knock.\nWho's there?\nBanana.\nBanana who?\nKnock, knock.\nWho's there?\nOrange.\nOrange who?\nOrange you glad I didn't say banana?\n",
     "output_type": "stream"
    }
   ],
   "execution_count": null
  },
  {
   "cell_type": "code",
   "metadata": {
    "for_assignment_type": "solution",
    "cell_id": "00031-5c2735f5-f13d-488b-91d6-94defd0360a1",
    "deepnote_to_be_reexecuted": false,
    "source_hash": "1f85637f",
    "execution_start": 1659141865541,
    "execution_millis": 6,
    "deepnote_cell_type": "code",
    "deepnote_cell_height": 113,
    "deepnote_output_heights": [
     21
    ]
   },
   "source": "...",
   "outputs": [
    {
     "output_type": "execute_result",
     "execution_count": 17,
     "data": {
      "text/plain": "Ellipsis"
     },
     "metadata": {}
    }
   ],
   "execution_count": null
  },
  {
   "cell_type": "markdown",
   "source": "Congratulations, you are done with Homework 5!\n\n**Important submission steps:** \n\n1. Run the tests and verify that they all pass.\n2. Choose **Save Notebook** from the **File** menu, then **run the final cell**. \n3. Click the link to download the zip file.\n4. Go to [Gradescope](https://www.gradescope.com/courses/349879) and submit the zip file to the corresponding assignment. The name of this assignment is \"HW 05 Autograder\". ",
   "metadata": {
    "cell_id": "00032-43c2f3a6-b3c1-4432-a32d-54fb93deccae",
    "deepnote_cell_type": "markdown",
    "deepnote_cell_height": 235
   }
  },
  {
   "cell_type": "markdown",
   "source": "---\n\nTo double-check your work, the cell below will rerun all of the autograder tests.",
   "metadata": {
    "deletable": false,
    "editable": false,
    "cell_id": "00033-0c8721f2-e8f8-44db-92b8-9dd1bb390c15",
    "deepnote_cell_type": "markdown",
    "deepnote_cell_height": 53
   }
  },
  {
   "cell_type": "code",
   "metadata": {
    "deletable": false,
    "editable": false,
    "cell_id": "00034-7b198496-80aa-436e-afb9-1f128a4f3bfa",
    "deepnote_to_be_reexecuted": false,
    "source_hash": "3e4d35bc",
    "execution_start": 1659143729629,
    "execution_millis": 68,
    "deepnote_cell_type": "code",
    "deepnote_cell_height": 265,
    "deepnote_output_heights": [
     173
    ]
   },
   "source": "grader.check_all()",
   "outputs": [
    {
     "output_type": "execute_result",
     "execution_count": 29,
     "data": {
      "text/plain": "q1_1 results: All test cases passed!\n\nq1_2 results: All test cases passed!\n\nq1_3 results: All test cases passed!\n\nq1_4 results: All test cases passed!\n\nq1_5 results: All test cases passed!"
     },
     "metadata": {}
    }
   ],
   "execution_count": null
  },
  {
   "cell_type": "markdown",
   "source": "## Submission\n\nMake sure you have run all cells in your notebook in order before running the cell below, so that all images/graphs appear in the output. The cell below will generate a zip file for you to submit. **Please save before exporting!**",
   "metadata": {
    "deletable": false,
    "editable": false,
    "cell_id": "00035-60734a9c-863a-40be-acc6-b14dbc684b3a",
    "deepnote_cell_type": "markdown",
    "deepnote_cell_height": 130
   }
  },
  {
   "cell_type": "code",
   "metadata": {
    "deletable": false,
    "editable": false,
    "cell_id": "00036-86383a8a-edd0-4364-969c-2b1e5f478217",
    "deepnote_to_be_reexecuted": false,
    "source_hash": "6f724915",
    "execution_start": 1659143859829,
    "execution_millis": 7,
    "deepnote_cell_type": "code",
    "deepnote_cell_height": 143,
    "deepnote_output_heights": [
     33
    ]
   },
   "source": "# Save your notebook first, then run this cell to export your submission.\ngrader.export(pdf=False)",
   "outputs": [
    {
     "data": {
      "text/plain": "<IPython.core.display.HTML object>",
      "text/html": "\n            <p>Your submission has been exported. Click <a href=\"hw05_2022_07_30T01_17_39_820530.zip\" download=\"hw05_2022_07_30T01_17_39_820530.zip\" target=\"_blank\">here</a>\n            to download the zip file.</p>\n            "
     },
     "metadata": {},
     "output_type": "display_data"
    }
   ],
   "execution_count": null
  },
  {
   "cell_type": "markdown",
   "source": " ",
   "metadata": {
    "cell_id": "00037-fd5df4d2-a3a1-4128-87bf-5d3204c6c0a8",
    "deepnote_cell_type": "markdown",
    "deepnote_cell_height": 46
   }
  },
  {
   "cell_type": "markdown",
   "source": "<a style='text-decoration:none;line-height:16px;display:flex;color:#5B5B62;padding:10px;justify-content:end;' href='https://deepnote.com?utm_source=created-in-deepnote-cell&projectId=ef6c0823-e062-4ba0-8bfb-7690ef03f945' target=\"_blank\">\n<img alt='Created in deepnote.com' style='display:inline;max-height:16px;margin:0px;margin-right:7.5px;' src='data:image/svg+xml;base64,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' > </img>\nCreated in <span style='font-weight:600;margin-left:4px;'>Deepnote</span></a>",
   "metadata": {
    "tags": [],
    "created_in_deepnote_cell": true,
    "deepnote_cell_type": "markdown"
   }
  }
 ],
 "nbformat": 4,
 "nbformat_minor": 5,
 "metadata": {
  "kernelspec": {
   "display_name": "Python 3 (ipykernel)",
   "language": "python",
   "name": "python3"
  },
  "language_info": {
   "codemirror_mode": {
    "name": "ipython",
    "version": 3
   },
   "file_extension": ".py",
   "mimetype": "text/x-python",
   "name": "python",
   "nbconvert_exporter": "python",
   "pygments_lexer": "ipython3",
   "version": "3.9.9"
  },
  "deepnote_notebook_id": "f6652864-f4ff-44df-bd09-e41bdab0494b",
  "deepnote": {},
  "deepnote_execution_queue": []
 }
}