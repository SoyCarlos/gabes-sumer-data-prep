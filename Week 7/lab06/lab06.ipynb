{
 "cells": [
  {
   "cell_type": "code",
   "metadata": {
    "deletable": false,
    "editable": false,
    "cell_id": "998399ac-b1c1-432b-bdeb-7d639aa36b1d",
    "deepnote_to_be_reexecuted": false,
    "source_hash": "e0256d49",
    "execution_start": 1659382809698,
    "execution_millis": 11819,
    "deepnote_cell_type": "code",
    "deepnote_cell_height": 148
   },
   "source": "# Initialize Otter\n!pip install otter-grader\n!pip install datascience\nimport otter\ngrader = otter.Notebook(\"lab06.ipynb\")",
   "execution_count": 1,
   "outputs": [
    {
     "name": "stdout",
     "text": "Collecting otter-grader\n  Downloading otter_grader-3.3.0-py3-none-any.whl (165 kB)\n\u001b[2K     \u001b[90m━━━━━━━━━━━━━━━━━━━━━━━━━━━━━━━━━━━━━━\u001b[0m \u001b[32m166.0/166.0 KB\u001b[0m \u001b[31m25.2 MB/s\u001b[0m eta \u001b[36m0:00:00\u001b[0m\n\u001b[?25hRequirement already satisfied: six in /shared-libs/python3.9/py-core/lib/python3.9/site-packages (from otter-grader) (1.16.0)\nRequirement already satisfied: nbconvert in /shared-libs/python3.9/py-core/lib/python3.9/site-packages (from otter-grader) (6.0.7)\nRequirement already satisfied: requests in /shared-libs/python3.9/py/lib/python3.9/site-packages (from otter-grader) (2.28.1)\nCollecting pdfkit\n  Downloading pdfkit-1.0.0-py3-none-any.whl (12 kB)\nRequirement already satisfied: ipykernel in /shared-libs/python3.9/py-core/lib/python3.9/site-packages (from otter-grader) (5.5.5)\nRequirement already satisfied: jinja2 in /shared-libs/python3.9/py-core/lib/python3.9/site-packages (from otter-grader) (2.11.3)\nCollecting PyPDF2\n  Downloading PyPDF2-2.9.0-py3-none-any.whl (207 kB)\n\u001b[2K     \u001b[90m━━━━━━━━━━━━━━━━━━━━━━━━━━━━━━━━━━━━━━\u001b[0m \u001b[32m207.6/207.6 KB\u001b[0m \u001b[31m42.8 MB/s\u001b[0m eta \u001b[36m0:00:00\u001b[0m\n\u001b[?25hRequirement already satisfied: nbformat in /shared-libs/python3.9/py-core/lib/python3.9/site-packages (from otter-grader) (5.1.3)\nCollecting google-api-python-client\n  Downloading google_api_python_client-2.55.0-py2.py3-none-any.whl (8.8 MB)\n\u001b[2K     \u001b[90m━━━━━━━━━━━━━━━━━━━━━━━━━━━━━━━━━━━━━━━━\u001b[0m \u001b[32m8.8/8.8 MB\u001b[0m \u001b[31m65.1 MB/s\u001b[0m eta \u001b[36m0:00:00\u001b[0m\n\u001b[?25hCollecting gspread\n  Downloading gspread-5.4.0-py3-none-any.whl (37 kB)\nCollecting PyYAML\n  Downloading PyYAML-6.0-cp39-cp39-manylinux_2_5_x86_64.manylinux1_x86_64.manylinux_2_12_x86_64.manylinux2010_x86_64.whl (661 kB)\n\u001b[2K     \u001b[90m━━━━━━━━━━━━━━━━━━━━━━━━━━━━━━━━━━━━━━\u001b[0m \u001b[32m661.8/661.8 KB\u001b[0m \u001b[31m60.2 MB/s\u001b[0m eta \u001b[36m0:00:00\u001b[0m\n\u001b[?25hRequirement already satisfied: pandas in /shared-libs/python3.9/py/lib/python3.9/site-packages (from otter-grader) (1.2.5)\nRequirement already satisfied: dill in /shared-libs/python3.9/py/lib/python3.9/site-packages (from otter-grader) (0.3.5.1)\nRequirement already satisfied: jupyter-client in /shared-libs/python3.9/py-core/lib/python3.9/site-packages (from otter-grader) (6.1.12)\nRequirement already satisfied: matplotlib in /shared-libs/python3.9/py/lib/python3.9/site-packages (from otter-grader) (3.5.2)\nRequirement already satisfied: google-auth-oauthlib in /shared-libs/python3.9/py/lib/python3.9/site-packages (from otter-grader) (0.4.6)\nCollecting python-on-whales\n  Downloading python_on_whales-0.50.0-py3-none-any.whl (96 kB)\n\u001b[2K     \u001b[90m━━━━━━━━━━━━━━━━━━━━━━━━━━━━━━━━━━━━━━━━\u001b[0m \u001b[32m96.6/96.6 KB\u001b[0m \u001b[31m16.7 MB/s\u001b[0m eta \u001b[36m0:00:00\u001b[0m\n\u001b[?25hRequirement already satisfied: google-auth<3.0.0dev,>=1.19.0 in /shared-libs/python3.9/py/lib/python3.9/site-packages (from google-api-python-client->otter-grader) (2.9.1)\nRequirement already satisfied: google-api-core!=2.0.*,!=2.1.*,!=2.2.*,!=2.3.0,<3.0.0dev,>=1.31.5 in /shared-libs/python3.9/py/lib/python3.9/site-packages (from google-api-python-client->otter-grader) (2.8.2)\nCollecting google-auth-httplib2>=0.1.0\n  Downloading google_auth_httplib2-0.1.0-py2.py3-none-any.whl (9.3 kB)\nCollecting uritemplate<5,>=3.0.1\n  Downloading uritemplate-4.1.1-py2.py3-none-any.whl (10 kB)\nCollecting httplib2<1dev,>=0.15.0\n  Downloading httplib2-0.20.4-py3-none-any.whl (96 kB)\n\u001b[2K     \u001b[90m━━━━━━━━━━━━━━━━━━━━━━━━━━━━━━━━━━━━━━━━\u001b[0m \u001b[32m96.6/96.6 KB\u001b[0m \u001b[31m28.4 MB/s\u001b[0m eta \u001b[36m0:00:00\u001b[0m\n\u001b[?25hRequirement already satisfied: requests-oauthlib>=0.7.0 in /shared-libs/python3.9/py/lib/python3.9/site-packages (from google-auth-oauthlib->otter-grader) (1.3.1)\nRequirement already satisfied: ipython>=5.0.0 in /shared-libs/python3.9/py-core/lib/python3.9/site-packages (from ipykernel->otter-grader) (7.34.0)\nRequirement already satisfied: traitlets>=4.1.0 in /shared-libs/python3.9/py-core/lib/python3.9/site-packages (from ipykernel->otter-grader) (4.3.3)\nRequirement already satisfied: tornado>=4.2 in /shared-libs/python3.9/py-core/lib/python3.9/site-packages (from ipykernel->otter-grader) (6.2)\nRequirement already satisfied: MarkupSafe>=0.23 in /shared-libs/python3.9/py-core/lib/python3.9/site-packages (from jinja2->otter-grader) (2.0.1)\nRequirement already satisfied: jupyter-core>=4.6.0 in /shared-libs/python3.9/py-core/lib/python3.9/site-packages (from jupyter-client->otter-grader) (4.7.1)\nRequirement already satisfied: pyzmq>=13 in /shared-libs/python3.9/py-core/lib/python3.9/site-packages (from jupyter-client->otter-grader) (23.2.0)\nRequirement already satisfied: python-dateutil>=2.1 in /shared-libs/python3.9/py-core/lib/python3.9/site-packages (from jupyter-client->otter-grader) (2.8.2)\nRequirement already satisfied: cycler>=0.10 in /shared-libs/python3.9/py/lib/python3.9/site-packages (from matplotlib->otter-grader) (0.11.0)\nRequirement already satisfied: fonttools>=4.22.0 in /shared-libs/python3.9/py/lib/python3.9/site-packages (from matplotlib->otter-grader) (4.34.4)\nRequirement already satisfied: numpy>=1.17 in /shared-libs/python3.9/py/lib/python3.9/site-packages (from matplotlib->otter-grader) (1.23.1)\nRequirement already satisfied: pillow>=6.2.0 in /shared-libs/python3.9/py/lib/python3.9/site-packages (from matplotlib->otter-grader) (9.2.0)\nRequirement already satisfied: pyparsing>=2.2.1 in /shared-libs/python3.9/py/lib/python3.9/site-packages (from matplotlib->otter-grader) (3.0.9)\nRequirement already satisfied: kiwisolver>=1.0.1 in /shared-libs/python3.9/py/lib/python3.9/site-packages (from matplotlib->otter-grader) (1.4.4)\nRequirement already satisfied: packaging>=20.0 in /shared-libs/python3.9/py/lib/python3.9/site-packages (from matplotlib->otter-grader) (21.3)\nRequirement already satisfied: entrypoints>=0.2.2 in /shared-libs/python3.9/py-core/lib/python3.9/site-packages (from nbconvert->otter-grader) (0.4)\nRequirement already satisfied: pygments>=2.4.1 in /shared-libs/python3.9/py-core/lib/python3.9/site-packages (from nbconvert->otter-grader) (2.12.0)\nRequirement already satisfied: jupyterlab-pygments in /shared-libs/python3.9/py-core/lib/python3.9/site-packages (from nbconvert->otter-grader) (0.2.2)\nRequirement already satisfied: bleach in /shared-libs/python3.9/py-core/lib/python3.9/site-packages (from nbconvert->otter-grader) (5.0.1)\nRequirement already satisfied: mistune<2,>=0.8.1 in /shared-libs/python3.9/py-core/lib/python3.9/site-packages (from nbconvert->otter-grader) (0.8.4)\nRequirement already satisfied: pandocfilters>=1.4.1 in /shared-libs/python3.9/py-core/lib/python3.9/site-packages (from nbconvert->otter-grader) (1.5.0)\nRequirement already satisfied: testpath in /shared-libs/python3.9/py-core/lib/python3.9/site-packages (from nbconvert->otter-grader) (0.6.0)\nRequirement already satisfied: nbclient<0.6.0,>=0.5.0 in /shared-libs/python3.9/py-core/lib/python3.9/site-packages (from nbconvert->otter-grader) (0.5.9)\nRequirement already satisfied: defusedxml in /shared-libs/python3.9/py-core/lib/python3.9/site-packages (from nbconvert->otter-grader) (0.7.1)\nRequirement already satisfied: ipython-genutils in /shared-libs/python3.9/py-core/lib/python3.9/site-packages (from nbformat->otter-grader) (0.2.0)\nRequirement already satisfied: jsonschema!=2.5.0,>=2.4 in /shared-libs/python3.9/py-core/lib/python3.9/site-packages (from nbformat->otter-grader) (3.2.0)\nRequirement already satisfied: pytz>=2017.3 in /shared-libs/python3.9/py/lib/python3.9/site-packages (from pandas->otter-grader) (2022.1)\nRequirement already satisfied: typing-extensions in /shared-libs/python3.9/py/lib/python3.9/site-packages (from PyPDF2->otter-grader) (4.3.0)\nRequirement already satisfied: pydantic in /shared-libs/python3.9/py/lib/python3.9/site-packages (from python-on-whales->otter-grader) (1.9.1)\nRequirement already satisfied: typer>=0.4.1 in /shared-libs/python3.9/py/lib/python3.9/site-packages (from python-on-whales->otter-grader) (0.4.2)\nRequirement already satisfied: tqdm in /shared-libs/python3.9/py/lib/python3.9/site-packages (from python-on-whales->otter-grader) (4.64.0)\nRequirement already satisfied: certifi>=2017.4.17 in /shared-libs/python3.9/py/lib/python3.9/site-packages (from requests->otter-grader) (2022.6.15)\nRequirement already satisfied: urllib3<1.27,>=1.21.1 in /shared-libs/python3.9/py/lib/python3.9/site-packages (from requests->otter-grader) (1.26.11)\nRequirement already satisfied: charset-normalizer<3,>=2 in /shared-libs/python3.9/py-core/lib/python3.9/site-packages (from requests->otter-grader) (2.1.0)\nRequirement already satisfied: idna<4,>=2.5 in /shared-libs/python3.9/py-core/lib/python3.9/site-packages (from requests->otter-grader) (3.3)\nRequirement already satisfied: protobuf<5.0.0dev,>=3.15.0 in /shared-libs/python3.9/py/lib/python3.9/site-packages (from google-api-core!=2.0.*,!=2.1.*,!=2.2.*,!=2.3.0,<3.0.0dev,>=1.31.5->google-api-python-client->otter-grader) (3.19.4)\nRequirement already satisfied: googleapis-common-protos<2.0dev,>=1.56.2 in /shared-libs/python3.9/py/lib/python3.9/site-packages (from google-api-core!=2.0.*,!=2.1.*,!=2.2.*,!=2.3.0,<3.0.0dev,>=1.31.5->google-api-python-client->otter-grader) (1.56.4)\nRequirement already satisfied: cachetools<6.0,>=2.0.0 in /shared-libs/python3.9/py/lib/python3.9/site-packages (from google-auth<3.0.0dev,>=1.19.0->google-api-python-client->otter-grader) (5.2.0)\nRequirement already satisfied: pyasn1-modules>=0.2.1 in /shared-libs/python3.9/py/lib/python3.9/site-packages (from google-auth<3.0.0dev,>=1.19.0->google-api-python-client->otter-grader) (0.2.8)\nRequirement already satisfied: rsa<5,>=3.1.4 in /shared-libs/python3.9/py/lib/python3.9/site-packages (from google-auth<3.0.0dev,>=1.19.0->google-api-python-client->otter-grader) (4.9)\nRequirement already satisfied: pexpect>4.3 in /shared-libs/python3.9/py-core/lib/python3.9/site-packages (from ipython>=5.0.0->ipykernel->otter-grader) (4.8.0)\nRequirement already satisfied: pickleshare in /shared-libs/python3.9/py-core/lib/python3.9/site-packages (from ipython>=5.0.0->ipykernel->otter-grader) (0.7.5)\nRequirement already satisfied: jedi>=0.16 in /shared-libs/python3.9/py-core/lib/python3.9/site-packages (from ipython>=5.0.0->ipykernel->otter-grader) (0.17.2)\nRequirement already satisfied: prompt-toolkit!=3.0.0,!=3.0.1,<3.1.0,>=2.0.0 in /shared-libs/python3.9/py-core/lib/python3.9/site-packages (from ipython>=5.0.0->ipykernel->otter-grader) (3.0.30)\nRequirement already satisfied: matplotlib-inline in /shared-libs/python3.9/py-core/lib/python3.9/site-packages (from ipython>=5.0.0->ipykernel->otter-grader) (0.1.3)\nRequirement already satisfied: setuptools>=18.5 in /root/venv/lib/python3.9/site-packages (from ipython>=5.0.0->ipykernel->otter-grader) (58.1.0)\nRequirement already satisfied: backcall in /shared-libs/python3.9/py-core/lib/python3.9/site-packages (from ipython>=5.0.0->ipykernel->otter-grader) (0.2.0)\nRequirement already satisfied: decorator in /shared-libs/python3.9/py-core/lib/python3.9/site-packages (from ipython>=5.0.0->ipykernel->otter-grader) (5.1.1)\nRequirement already satisfied: pyrsistent>=0.14.0 in /shared-libs/python3.9/py-core/lib/python3.9/site-packages (from jsonschema!=2.5.0,>=2.4->nbformat->otter-grader) (0.18.1)\nRequirement already satisfied: attrs>=17.4.0 in /shared-libs/python3.9/py-core/lib/python3.9/site-packages (from jsonschema!=2.5.0,>=2.4->nbformat->otter-grader) (22.1.0)\nRequirement already satisfied: nest-asyncio in /shared-libs/python3.9/py-core/lib/python3.9/site-packages (from nbclient<0.6.0,>=0.5.0->nbconvert->otter-grader) (1.5.5)\nRequirement already satisfied: oauthlib>=3.0.0 in /shared-libs/python3.9/py/lib/python3.9/site-packages (from requests-oauthlib>=0.7.0->google-auth-oauthlib->otter-grader) (3.2.0)\nRequirement already satisfied: click<9.0.0,>=7.1.1 in /shared-libs/python3.9/py/lib/python3.9/site-packages (from typer>=0.4.1->python-on-whales->otter-grader) (8.1.3)\nRequirement already satisfied: webencodings in /shared-libs/python3.9/py-core/lib/python3.9/site-packages (from bleach->nbconvert->otter-grader) (0.5.1)\nRequirement already satisfied: parso<0.8.0,>=0.7.0 in /shared-libs/python3.9/py-core/lib/python3.9/site-packages (from jedi>=0.16->ipython>=5.0.0->ipykernel->otter-grader) (0.7.1)\nRequirement already satisfied: ptyprocess>=0.5 in /shared-libs/python3.9/py-core/lib/python3.9/site-packages (from pexpect>4.3->ipython>=5.0.0->ipykernel->otter-grader) (0.7.0)\nRequirement already satisfied: wcwidth in /shared-libs/python3.9/py-core/lib/python3.9/site-packages (from prompt-toolkit!=3.0.0,!=3.0.1,<3.1.0,>=2.0.0->ipython>=5.0.0->ipykernel->otter-grader) (0.2.5)\nRequirement already satisfied: pyasn1<0.5.0,>=0.4.6 in /shared-libs/python3.9/py/lib/python3.9/site-packages (from pyasn1-modules>=0.2.1->google-auth<3.0.0dev,>=1.19.0->google-api-python-client->otter-grader) (0.4.8)\nInstalling collected packages: pdfkit, uritemplate, PyYAML, PyPDF2, httplib2, python-on-whales, google-auth-httplib2, gspread, google-api-python-client, otter-grader\nSuccessfully installed PyPDF2-2.9.0 PyYAML-6.0 google-api-python-client-2.55.0 google-auth-httplib2-0.1.0 gspread-5.4.0 httplib2-0.20.4 otter-grader-3.3.0 pdfkit-1.0.0 python-on-whales-0.50.0 uritemplate-4.1.1\n\u001b[33mWARNING: You are using pip version 22.0.4; however, version 22.2.1 is available.\nYou should consider upgrading via the '/root/venv/bin/python -m pip install --upgrade pip' command.\u001b[0m\u001b[33m\n\u001b[0mRequirement already satisfied: datascience in /shared-libs/python3.9/py/lib/python3.9/site-packages (0.17.5)\nRequirement already satisfied: numpy in /shared-libs/python3.9/py/lib/python3.9/site-packages (from datascience) (1.23.1)\nRequirement already satisfied: pandas in /shared-libs/python3.9/py/lib/python3.9/site-packages (from datascience) (1.2.5)\nRequirement already satisfied: folium>=0.9.1 in /shared-libs/python3.9/py/lib/python3.9/site-packages (from datascience) (0.12.1.post1)\nRequirement already satisfied: setuptools in /root/venv/lib/python3.9/site-packages (from datascience) (58.1.0)\nRequirement already satisfied: ipython in /shared-libs/python3.9/py-core/lib/python3.9/site-packages (from datascience) (7.34.0)\nRequirement already satisfied: plotly in /shared-libs/python3.9/py/lib/python3.9/site-packages (from datascience) (5.9.0)\nRequirement already satisfied: branca in /shared-libs/python3.9/py/lib/python3.9/site-packages (from datascience) (0.5.0)\nRequirement already satisfied: scipy in /shared-libs/python3.9/py/lib/python3.9/site-packages (from datascience) (1.8.1)\nRequirement already satisfied: matplotlib>=3.0.0 in /shared-libs/python3.9/py/lib/python3.9/site-packages (from datascience) (3.5.2)\nRequirement already satisfied: jinja2>=2.9 in /shared-libs/python3.9/py-core/lib/python3.9/site-packages (from folium>=0.9.1->datascience) (2.11.3)\nRequirement already satisfied: requests in /shared-libs/python3.9/py/lib/python3.9/site-packages (from folium>=0.9.1->datascience) (2.28.1)\nRequirement already satisfied: pillow>=6.2.0 in /shared-libs/python3.9/py/lib/python3.9/site-packages (from matplotlib>=3.0.0->datascience) (9.2.0)\nRequirement already satisfied: cycler>=0.10 in /shared-libs/python3.9/py/lib/python3.9/site-packages (from matplotlib>=3.0.0->datascience) (0.11.0)\nRequirement already satisfied: python-dateutil>=2.7 in /shared-libs/python3.9/py-core/lib/python3.9/site-packages (from matplotlib>=3.0.0->datascience) (2.8.2)\nRequirement already satisfied: pyparsing>=2.2.1 in /shared-libs/python3.9/py/lib/python3.9/site-packages (from matplotlib>=3.0.0->datascience) (3.0.9)\nRequirement already satisfied: kiwisolver>=1.0.1 in /shared-libs/python3.9/py/lib/python3.9/site-packages (from matplotlib>=3.0.0->datascience) (1.4.4)\nRequirement already satisfied: fonttools>=4.22.0 in /shared-libs/python3.9/py/lib/python3.9/site-packages (from matplotlib>=3.0.0->datascience) (4.34.4)\nRequirement already satisfied: packaging>=20.0 in /shared-libs/python3.9/py/lib/python3.9/site-packages (from matplotlib>=3.0.0->datascience) (21.3)\nRequirement already satisfied: traitlets>=4.2 in /shared-libs/python3.9/py-core/lib/python3.9/site-packages (from ipython->datascience) (4.3.3)\nRequirement already satisfied: matplotlib-inline in /shared-libs/python3.9/py-core/lib/python3.9/site-packages (from ipython->datascience) (0.1.3)\nRequirement already satisfied: pygments in /shared-libs/python3.9/py-core/lib/python3.9/site-packages (from ipython->datascience) (2.12.0)\nRequirement already satisfied: pexpect>4.3 in /shared-libs/python3.9/py-core/lib/python3.9/site-packages (from ipython->datascience) (4.8.0)\nRequirement already satisfied: decorator in /shared-libs/python3.9/py-core/lib/python3.9/site-packages (from ipython->datascience) (5.1.1)\nRequirement already satisfied: pickleshare in /shared-libs/python3.9/py-core/lib/python3.9/site-packages (from ipython->datascience) (0.7.5)\nRequirement already satisfied: prompt-toolkit!=3.0.0,!=3.0.1,<3.1.0,>=2.0.0 in /shared-libs/python3.9/py-core/lib/python3.9/site-packages (from ipython->datascience) (3.0.30)\nRequirement already satisfied: backcall in /shared-libs/python3.9/py-core/lib/python3.9/site-packages (from ipython->datascience) (0.2.0)\nRequirement already satisfied: jedi>=0.16 in /shared-libs/python3.9/py-core/lib/python3.9/site-packages (from ipython->datascience) (0.17.2)\nRequirement already satisfied: pytz>=2017.3 in /shared-libs/python3.9/py/lib/python3.9/site-packages (from pandas->datascience) (2022.1)\nRequirement already satisfied: tenacity>=6.2.0 in /shared-libs/python3.9/py/lib/python3.9/site-packages (from plotly->datascience) (8.0.1)\nRequirement already satisfied: parso<0.8.0,>=0.7.0 in /shared-libs/python3.9/py-core/lib/python3.9/site-packages (from jedi>=0.16->ipython->datascience) (0.7.1)\nRequirement already satisfied: MarkupSafe>=0.23 in /shared-libs/python3.9/py-core/lib/python3.9/site-packages (from jinja2>=2.9->folium>=0.9.1->datascience) (2.0.1)\nRequirement already satisfied: ptyprocess>=0.5 in /shared-libs/python3.9/py-core/lib/python3.9/site-packages (from pexpect>4.3->ipython->datascience) (0.7.0)\nRequirement already satisfied: wcwidth in /shared-libs/python3.9/py-core/lib/python3.9/site-packages (from prompt-toolkit!=3.0.0,!=3.0.1,<3.1.0,>=2.0.0->ipython->datascience) (0.2.5)\nRequirement already satisfied: six>=1.5 in /shared-libs/python3.9/py-core/lib/python3.9/site-packages (from python-dateutil>=2.7->matplotlib>=3.0.0->datascience) (1.16.0)\nRequirement already satisfied: ipython-genutils in /shared-libs/python3.9/py-core/lib/python3.9/site-packages (from traitlets>=4.2->ipython->datascience) (0.2.0)\nRequirement already satisfied: idna<4,>=2.5 in /shared-libs/python3.9/py-core/lib/python3.9/site-packages (from requests->folium>=0.9.1->datascience) (3.3)\nRequirement already satisfied: urllib3<1.27,>=1.21.1 in /shared-libs/python3.9/py/lib/python3.9/site-packages (from requests->folium>=0.9.1->datascience) (1.26.11)\nRequirement already satisfied: certifi>=2017.4.17 in /shared-libs/python3.9/py/lib/python3.9/site-packages (from requests->folium>=0.9.1->datascience) (2022.6.15)\nRequirement already satisfied: charset-normalizer<3,>=2 in /shared-libs/python3.9/py-core/lib/python3.9/site-packages (from requests->folium>=0.9.1->datascience) (2.1.0)\n\u001b[33mWARNING: You are using pip version 22.0.4; however, version 22.2.1 is available.\nYou should consider upgrading via the '/root/venv/bin/python -m pip install --upgrade pip' command.\u001b[0m\u001b[33m\n\u001b[0m",
     "output_type": "stream"
    }
   ]
  },
  {
   "cell_type": "markdown",
   "source": "## Lab 6: Examining the Therapeutic Touch\n\nWelcome to Lab 6!\n\nAfter such an extensive introduction to programming for data science, we are finally moving into the section of the course where we can apply our new skils to answer real questions.  \n\nIn this lab, we'll use testing techniques that were introduced in lecture to test the idea of the therapeutic touch, the idea that some practitioner can feel and massage your human energy field. \n\n**Lab Queue**: You can find the Lab Queue at [lab.data8.org](https://lab.data8.org/). Whenever you feel stuck or need some further clarification, add yourself to the queue to get help from a GSI or academic intern! Please list your breakout room number and purpose on your ticket!\n\n**Grading**: Here are the policies for getting full credit:\n\n1. To receive credit for this lab notebook (8% final grade), you must submit it by **Friday March 4th at 5pm**.\n\n2. To receive credit for the lab attendance (2% final grade), you must attend at least 5 out of the 14 labs.\n\n**Submission**: Once you're finished, scroll up to the top of the page, and run every cell in the notebook.  Select \"Save\" in the File menu (please don’t hit Save As), then rerun the last cell of the notebook.  The result will contain a zip file that you can submit to Gradescope. If you are in lab, you can submit a ticket on lab.data8.org to ask a staff member to check you off. ",
   "metadata": {
    "cell_id": "00001-6beac65a-1a06-4bb3-8ab8-366f0e7a71b4",
    "owner_user_id": "80fe8cbc-043d-4a7e-9c6f-799b39be207a",
    "deepnote_cell_type": "markdown",
    "deepnote_cell_height": 464.20001220703125
   }
  },
  {
   "cell_type": "code",
   "metadata": {
    "execution": {
     "iopub.execute_input": "2022-03-01T08:49:10.973945Z",
     "iopub.status.busy": "2022-03-01T08:49:10.971317Z",
     "iopub.status.idle": "2022-03-01T08:49:12.625254Z",
     "shell.execute_reply": "2022-03-01T08:49:12.624276Z"
    },
    "cell_id": "00002-117565c5-a860-4f89-9254-c50997cea5b0",
    "deepnote_to_be_reexecuted": false,
    "source_hash": "99b7a943",
    "execution_start": 1659382821522,
    "execution_millis": 2979,
    "deepnote_cell_type": "code",
    "deepnote_cell_height": 382
   },
   "source": "# Run this cell, but please don't change it.\n\n# These lines import the Numpy and Datascience modules.\nimport numpy as np\nfrom datascience import *\n\n# These lines do some fancy plotting magic\nimport matplotlib\n%matplotlib inline\nimport matplotlib.pyplot as plt\nplt.style.use('fivethirtyeight')\nimport warnings\nwarnings.simplefilter('ignore', FutureWarning)\nfrom matplotlib import patches\nfrom ipywidgets import interact, interactive, fixed\nimport ipywidgets as widgets\n\nimport d8error",
   "execution_count": 2,
   "outputs": [
    {
     "output_type": "error",
     "ename": "ModuleNotFoundError",
     "evalue": "No module named 'ipywidgets'",
     "traceback": [
      "\u001b[0;31m---------------------------------------------------------------------------\u001b[0m",
      "\u001b[0;31mModuleNotFoundError\u001b[0m                       Traceback (most recent call last)",
      "\u001b[0;32m<ipython-input-2-21da85a8eabc>\u001b[0m in \u001b[0;36m<cell line: 15>\u001b[0;34m()\u001b[0m\n\u001b[1;32m     13\u001b[0m \u001b[0mwarnings\u001b[0m\u001b[0;34m.\u001b[0m\u001b[0msimplefilter\u001b[0m\u001b[0;34m(\u001b[0m\u001b[0;34m'ignore'\u001b[0m\u001b[0;34m,\u001b[0m \u001b[0mFutureWarning\u001b[0m\u001b[0;34m)\u001b[0m\u001b[0;34m\u001b[0m\u001b[0;34m\u001b[0m\u001b[0m\n\u001b[1;32m     14\u001b[0m \u001b[0;32mfrom\u001b[0m \u001b[0mmatplotlib\u001b[0m \u001b[0;32mimport\u001b[0m \u001b[0mpatches\u001b[0m\u001b[0;34m\u001b[0m\u001b[0;34m\u001b[0m\u001b[0m\n\u001b[0;32m---> 15\u001b[0;31m \u001b[0;32mfrom\u001b[0m \u001b[0mipywidgets\u001b[0m \u001b[0;32mimport\u001b[0m \u001b[0minteract\u001b[0m\u001b[0;34m,\u001b[0m \u001b[0minteractive\u001b[0m\u001b[0;34m,\u001b[0m \u001b[0mfixed\u001b[0m\u001b[0;34m\u001b[0m\u001b[0;34m\u001b[0m\u001b[0m\n\u001b[0m\u001b[1;32m     16\u001b[0m \u001b[0;32mimport\u001b[0m \u001b[0mipywidgets\u001b[0m \u001b[0;32mas\u001b[0m \u001b[0mwidgets\u001b[0m\u001b[0;34m\u001b[0m\u001b[0;34m\u001b[0m\u001b[0m\n\u001b[1;32m     17\u001b[0m \u001b[0;34m\u001b[0m\u001b[0m\n",
      "\u001b[0;31mModuleNotFoundError\u001b[0m: No module named 'ipywidgets'"
     ]
    }
   ]
  },
  {
   "cell_type": "markdown",
   "source": "## 1. What is the Therapeutic Touch\n\nThe Therapeutic Touch (TT) is the idea that everyone can feel the Human Energy Field (HEF) around individuals.  Those who practice TT have described different people's HEFs as \"warm as Jell-O\" and \"tactile as taffy.\" \n\nTT was a popular technique used throughout the 20th century that was toted as a great way to bring balance to a person's health. Certain practitioners claim they have the ability to feel the HEF and can massage it in order to promote health and relaxation in individuals.\n\n### Emily Rosa\n\n[Emily Rosa](https://en.wikipedia.org/wiki/Emily_Rosa) was a 4th grade student who was very familiar with the world of TT, thanks to her parents, who were both medical practitioners and skeptics of TT.\n\nFor her 4th grade science fair project, Emily decided to test whether or not TT practitioners could truly interact with a person's HEF. She later went on to publish her work in TT, becoming the youngest person to have a research paper published in a peer reviewed medical journal.",
   "metadata": {
    "cell_id": "00003-0dfb0d45-f2f9-4017-b8a5-8fee735bc1cf",
    "deepnote_cell_type": "markdown",
    "deepnote_cell_height": 400
   }
  },
  {
   "cell_type": "markdown",
   "source": "### Emily's Experiment\n\nEmily's experiment was clean, simple, and effective. Due to her parents' occupations in the medical field, she had wide access to people who claimed to be TT practitioners. \n\nEmily took 21 TT practitioners and used them for her science experiment. She would take a TT practitioner and ask them to extend their hands through a screen (which they can't see through). Emily would be on the other side and would flip a fair coin. Depending on how the coin landed, she would put out either her left hand or her right hand. The TT practitioner would then have to answer which hand Emily put out. If a pracitioner could truly interact with a person's HEF, it would be expected that they answered correctly.\n\nOverall, through 210 samples, the practitioner picked the correct hand 44% of the time. \n\nEmily's main goal here was to test whether or not the TT practicioners' guesses were random, like the flip of a coin. In most medical experiments, this is the norm. We want to test whether or not the treatment has an effect, *not* whether or not the treatment actually works. \n\nWe will now begin to formulate this experiment in terms of the terminology we learned in this course. ",
   "metadata": {
    "cell_id": "00004-97ce8d89-9f17-469e-976e-42585feffffe",
    "deepnote_cell_type": "markdown",
    "deepnote_cell_height": 402.79998779296875
   }
  },
  {
   "cell_type": "markdown",
   "source": "**Question 1.1**: Describe Emily’s model for how likely the TT practitioners are to choose the correct hand. What alternative model is her model meant to discredit? Discuss with students around you to come to a conclusion. Check in with a TA or AI if you are stuck.\n\n<!--\nBEGIN QUESTION\nname: q1_1\n-->",
   "metadata": {
    "deletable": false,
    "editable": false,
    "cell_id": "00005-14798082-823e-4405-b590-568f143401c5",
    "deepnote_cell_type": "markdown",
    "deepnote_cell_height": 88.80000305175781
   }
  },
  {
   "cell_type": "markdown",
   "source": "_Type your answer here, replacing this text._",
   "metadata": {
    "cell_id": "00006-8274ce31-79c8-4bc2-8f7d-eeef1fff4c0b",
    "deepnote_cell_type": "markdown",
    "deepnote_cell_height": 52.399993896484375
   }
  },
  {
   "cell_type": "markdown",
   "source": "**Question 1.2:** Remember that the practitioner got the correct answer 44% (0.44) of the time. According to Emily's model, on average, what proportion of times do we expect the practitioner to guess the correct hand? Make sure your answer is a number between 0 and 1. \n\n<!--\nBEGIN QUESTION\nname: q1_2\n-->",
   "metadata": {
    "deletable": false,
    "editable": false,
    "cell_id": "00007-7e49e0f7-48ad-4c54-ac9d-01842e929f06",
    "deepnote_cell_type": "markdown",
    "deepnote_cell_height": 111.19999694824219
   }
  },
  {
   "cell_type": "code",
   "metadata": {
    "execution": {
     "iopub.execute_input": "2022-03-01T08:49:12.633145Z",
     "iopub.status.busy": "2022-03-01T08:49:12.632539Z",
     "iopub.status.idle": "2022-03-01T08:49:12.636232Z",
     "shell.execute_reply": "2022-03-01T08:49:12.635787Z"
    },
    "cell_id": "00008-1a3a013f-b753-445b-a3a3-8c4dded8e584",
    "deepnote_to_be_reexecuted": true,
    "source_hash": "4f48e74e",
    "deepnote_cell_type": "code",
    "deepnote_cell_height": 94
   },
   "source": "expected_proportion_correct = ...\nexpected_proportion_correct",
   "execution_count": null,
   "outputs": []
  },
  {
   "cell_type": "code",
   "metadata": {
    "deletable": false,
    "editable": false,
    "cell_id": "00009-e2027c30-c3b4-49ae-968b-8a4cdfbb4564",
    "deepnote_to_be_reexecuted": true,
    "source_hash": "cb3629cc",
    "deepnote_cell_type": "code",
    "deepnote_cell_height": 76
   },
   "source": "grader.check(\"q1_2\")",
   "execution_count": null,
   "outputs": []
  },
  {
   "cell_type": "markdown",
   "source": "The goal now is to see if our deviation from this expected proportion of correct answers is due to something other than chance. \n\n**Question 1.3:** We usually use a statistic to help determine which model the evidence points towards. What is a statistic that we can use to compare outcomes under Emily’s model to what was observed? Assign `valid_stat` to an array of integer(s) representing test statistics that Emily can use: \n\n1. The difference between the expected percent correct and the actual percent correct\n2. The absolute difference between the expected percent correct and the actual percent correct\n3. The sum of the expected percent correct and the actual percent correct\n\n**NOTE:** Make sure to use `make_array` to create your array of integer(s)!\n\n<!--\nBEGIN QUESTION\nname: q1_3\n-->",
   "metadata": {
    "deletable": false,
    "editable": false,
    "cell_id": "00010-5e6f0992-f614-43b7-9483-526baa68ed70",
    "deepnote_cell_type": "markdown",
    "deepnote_cell_height": 271.20001220703125
   }
  },
  {
   "cell_type": "code",
   "metadata": {
    "execution": {
     "iopub.execute_input": "2022-03-01T08:49:12.657322Z",
     "iopub.status.busy": "2022-03-01T08:49:12.656794Z",
     "iopub.status.idle": "2022-03-01T08:49:12.659911Z",
     "shell.execute_reply": "2022-03-01T08:49:12.659458Z"
    },
    "cell_id": "00011-7ee24c57-146c-4aca-93c6-cbba88f3c291",
    "deepnote_to_be_reexecuted": true,
    "source_hash": "61db7391",
    "deepnote_cell_type": "code",
    "deepnote_cell_height": 94
   },
   "source": "valid_stat = ...\nvalid_stat",
   "execution_count": null,
   "outputs": []
  },
  {
   "cell_type": "code",
   "metadata": {
    "deletable": false,
    "editable": false,
    "cell_id": "00012-a3cc9330-6355-46ab-9756-bb1040a9a18a",
    "deepnote_to_be_reexecuted": true,
    "source_hash": "548428d4",
    "deepnote_cell_type": "code",
    "deepnote_cell_height": 76
   },
   "source": "grader.check(\"q1_3\")",
   "execution_count": null,
   "outputs": []
  },
  {
   "cell_type": "markdown",
   "source": "**Question 1.4:** Why is the statistic from Question 1.3 the appropriate choice for comparing outcomes in Emily's experiment? How does it relate to the models you defined in Question 1.1?\n\n<!--\nBEGIN QUESTION\nname: q1_4\n-->",
   "metadata": {
    "deletable": false,
    "editable": false,
    "cell_id": "00013-7f0337d5-a646-454d-835f-fb12c169a1a0",
    "deepnote_cell_type": "markdown",
    "deepnote_cell_height": 88.80000305175781
   }
  },
  {
   "cell_type": "markdown",
   "source": "_Type your answer here, replacing this text._",
   "metadata": {
    "cell_id": "00014-65d5b769-80ce-4be6-b2e2-3a4a98ed990b",
    "deepnote_cell_type": "markdown",
    "deepnote_cell_height": 52.399993896484375
   }
  },
  {
   "cell_type": "markdown",
   "source": "**Question 1.5:** Define the function `statistic` which takes in an expected proportion and an actual proportion, and returns the value of the statistic chosen in Question 1.3. Assume that the argument takes in proportions, but  return your answer as a percentage. \n\n*Hint:* Remember we are asking for a **percentage**, not a proportion. \n\n<!--\nBEGIN QUESTION\nname: q1_5\n-->",
   "metadata": {
    "deletable": false,
    "editable": false,
    "cell_id": "00015-a61f691e-edaf-4658-b896-6d9c24fd9c61",
    "deepnote_cell_type": "markdown",
    "deepnote_cell_height": 147.60000610351562
   }
  },
  {
   "cell_type": "code",
   "metadata": {
    "execution": {
     "iopub.execute_input": "2022-03-01T08:49:12.681866Z",
     "iopub.status.busy": "2022-03-01T08:49:12.681162Z",
     "iopub.status.idle": "2022-03-01T08:49:12.683882Z",
     "shell.execute_reply": "2022-03-01T08:49:12.683314Z"
    },
    "cell_id": "00016-65e01b7b-ec62-47bd-8cf6-d0879c3ed30d",
    "deepnote_to_be_reexecuted": true,
    "source_hash": "a3d5a61f",
    "deepnote_cell_type": "code",
    "deepnote_cell_height": 94
   },
   "source": "def statistic(expected_prop, actual_prop):\n    ...",
   "execution_count": null,
   "outputs": []
  },
  {
   "cell_type": "code",
   "metadata": {
    "deletable": false,
    "editable": false,
    "cell_id": "00017-6fec9617-ed1d-4de8-9b62-183f72c22d1b",
    "deepnote_to_be_reexecuted": true,
    "source_hash": "f0b171b5",
    "deepnote_cell_type": "code",
    "deepnote_cell_height": 76
   },
   "source": "grader.check(\"q1_5\")",
   "execution_count": null,
   "outputs": []
  },
  {
   "cell_type": "markdown",
   "source": "**Question 1.6:** Use your newly defined function to calculate the observed statistic from Emily's experiment. \n\n<!--\nBEGIN QUESTION\nname: q1_6\n-->",
   "metadata": {
    "deletable": false,
    "editable": false,
    "cell_id": "00018-c83326b1-16a1-46f4-9eda-46125bb7ab41",
    "deepnote_cell_type": "markdown",
    "deepnote_cell_height": 66.39999389648438
   }
  },
  {
   "cell_type": "code",
   "metadata": {
    "execution": {
     "iopub.execute_input": "2022-03-01T08:49:12.704197Z",
     "iopub.status.busy": "2022-03-01T08:49:12.703651Z",
     "iopub.status.idle": "2022-03-01T08:49:12.738812Z",
     "shell.execute_reply": "2022-03-01T08:49:12.739245Z"
    },
    "cell_id": "00019-f39f7527-a2f8-42b7-af45-5759558d9f8d",
    "deepnote_to_be_reexecuted": true,
    "source_hash": "3ac817eb",
    "deepnote_cell_type": "code",
    "deepnote_cell_height": 94
   },
   "source": "observed_statistic = ...\nobserved_statistic",
   "execution_count": null,
   "outputs": []
  },
  {
   "cell_type": "code",
   "metadata": {
    "deletable": false,
    "editable": false,
    "cell_id": "00020-356a2066-3b86-4909-81ba-05332ae56327",
    "deepnote_to_be_reexecuted": true,
    "source_hash": "98548ee4",
    "deepnote_cell_type": "code",
    "deepnote_cell_height": 76
   },
   "source": "grader.check(\"q1_6\")",
   "execution_count": null,
   "outputs": []
  },
  {
   "cell_type": "markdown",
   "source": "**Is this observed statistic consistent with what we expect to see under Emily’s model?**\n\nIn order to answer this question, we must simulate the experiment as though Emily's model was correct, and calculate our statistic for every simulation.\n\n### `sample_proportions`\n\n`sample_proportions` can be used to randomly sample from multiple categories when you know the proportion of data points that are expected to fall in each category. `sample_proportions` takes two arguments: the sample size and an array that contains the distribution of categories in the population (should sum to 1).\n\nConsider flipping a fair coin, where the two outcomes (coin lands heads and coin lands tails) occur with an equal chance. We expect that half of all coin flips will land heads, and half of all coin flips will land tails.\n\nRun the following cell to see the simulation of 10 flips of a fair coin. Let the first item of `coin_proportions` be the proportion of heads and the second item of `coin_proportions` be the proportion of tails.\n\n*Observe what happens when you run this cell multiple times—the proportion of coin flips that land heads and tails appears to change, as you are simulating flipping 10 coins each time!*",
   "metadata": {
    "cell_id": "00021-e063a769-a554-4a6e-8666-92f271c0a8e0",
    "deepnote_cell_type": "markdown",
    "deepnote_cell_height": 417.54998779296875
   }
  },
  {
   "cell_type": "code",
   "metadata": {
    "execution": {
     "iopub.execute_input": "2022-03-01T08:49:12.751836Z",
     "iopub.status.busy": "2022-03-01T08:49:12.750576Z",
     "iopub.status.idle": "2022-03-01T08:49:12.755362Z",
     "shell.execute_reply": "2022-03-01T08:49:12.754846Z"
    },
    "cell_id": "00022-cf719bc5-b9a1-43ad-a99c-f513b0074650",
    "deepnote_to_be_reexecuted": true,
    "source_hash": "3cc6c423",
    "deepnote_cell_type": "code",
    "deepnote_cell_height": 112
   },
   "source": "coin_proportions = make_array(0.5, 0.5) \nten_flips = sample_proportions(10, coin_proportions)\nten_flips",
   "execution_count": null,
   "outputs": []
  },
  {
   "cell_type": "markdown",
   "source": "`sample_proportions` returns an array that is the same length as the proportion array that is passed through. It contains the proportion of each category that appears in the sample. \n\nIn our example, the first item of `ten_flips` is the simulated proportion of heads and the second item of `ten_flips` is the simulated proportion of tails.",
   "metadata": {
    "cell_id": "00023-876c1eee-1272-44dd-9f0f-0465cf591b70",
    "deepnote_cell_type": "markdown",
    "deepnote_cell_height": 133.60000610351562
   }
  },
  {
   "cell_type": "code",
   "metadata": {
    "execution": {
     "iopub.execute_input": "2022-03-01T08:49:12.759836Z",
     "iopub.status.busy": "2022-03-01T08:49:12.757937Z",
     "iopub.status.idle": "2022-03-01T08:49:12.763208Z",
     "shell.execute_reply": "2022-03-01T08:49:12.762728Z"
    },
    "cell_id": "00024-acac5711-d0cd-4d0a-8274-0e26b76c3055",
    "deepnote_to_be_reexecuted": true,
    "source_hash": "16a6e05a",
    "deepnote_cell_type": "code",
    "deepnote_cell_height": 148
   },
   "source": "simulated_proportion_heads = ten_flips.item(0)\nsimulated_proportion_tails = ten_flips.item(1)\n\nprint(\"In our simulation, \" + str(simulated_proportion_heads) + \" of flips were heads and \" \\\n      + str(simulated_proportion_tails) + \" of flips were tails.\")",
   "execution_count": null,
   "outputs": []
  },
  {
   "cell_type": "markdown",
   "source": "## Lab Attendance Check-in\n\nLet an AI or GSI know you are ready for check-in on [lab.data8.org](https://lab.data8.org/). How does sample_proportions work? What are its inputs and outputs?",
   "metadata": {
    "cell_id": "00025-902180c2-138d-4f6c-a8e2-57400145d8a2",
    "deepnote_cell_type": "markdown",
    "deepnote_cell_height": 130.8000030517578
   }
  },
  {
   "cell_type": "markdown",
   "source": "**Question 1.7:** To begin simulating, we should start by creating a representation of Emily's model to use for our simulation. This will be an array with two items in it. The first item should be the proportion of times a TT practictioner picks the correct hand, assuming that Emily’s model was correct. The second item should be the proportion of times, under the same assumption, that the TT practitioner picks the incorrect hand. Assign `model_proportions` to this array. \n\nAfter this, we can simulate 210 hand choices, as Emily evaluated in real life, and find a single statistic to summarize this instance of the simulation. Use the `sample_proportions` function and assign the **proportion of correct hand choices** (out of 210) to `simulation_proportion_correct`. Lastly, use your statistic function to assign `one_statistic`  to the value of the statistic for this one simulation.\n\n*Hint:* `sample_proportions` usage can be found on the [Python Reference](http://data8.org/fa21/python-reference.html).\n\n<!--\nBEGIN QUESTION\nname: q1_7\n-->",
   "metadata": {
    "deletable": false,
    "editable": false,
    "cell_id": "00026-0d66eea5-b79c-43c4-b1c3-9c880f02d3bc",
    "deepnote_cell_type": "markdown",
    "deepnote_cell_height": 273.6000061035156
   }
  },
  {
   "cell_type": "code",
   "metadata": {
    "execution": {
     "iopub.execute_input": "2022-03-01T08:49:12.769448Z",
     "iopub.status.busy": "2022-03-01T08:49:12.768875Z",
     "iopub.status.idle": "2022-03-01T08:49:12.771785Z",
     "shell.execute_reply": "2022-03-01T08:49:12.772137Z"
    },
    "cell_id": "00027-c02aa9b8-b310-4bdb-a493-0ab8e21f2a51",
    "deepnote_to_be_reexecuted": true,
    "source_hash": "f79ab61",
    "deepnote_cell_type": "code",
    "deepnote_cell_height": 220
   },
   "source": "# This saves the random state of our code so that we can \n# generate the same numbers each time we run the code.\n# Please do not change this line. \nnp.random.seed(16)\n\nmodel_proportions = ...\nsimulation_proportion_correct = ...\none_statistic = ...\none_statistic",
   "execution_count": null,
   "outputs": []
  },
  {
   "cell_type": "code",
   "metadata": {
    "deletable": false,
    "editable": false,
    "cell_id": "00028-7939bb4b-05d1-4fcb-beb6-b6fab76bf087",
    "deepnote_to_be_reexecuted": true,
    "source_hash": "a4bf95f6",
    "deepnote_cell_type": "code",
    "deepnote_cell_height": 76
   },
   "source": "grader.check(\"q1_7\")",
   "execution_count": null,
   "outputs": []
  },
  {
   "cell_type": "markdown",
   "source": "**Question 1.8:** Let's now see what the distribution of statistics is actually like under Emily's model. \n\nDefine the function `simulation_and_statistic` to take in the `model_proportions` array and the expected proportion of times a TT practitioner would guess a hand correctly under Emily's model. The function should simulate Emily running through the experiment 210 times and return the statistic of this one simulation. \n\n*Hint:* This should follow the same pattern as the code you did in the previous problem.  ",
   "metadata": {
    "cell_id": "00029-7998569b-638b-4f43-879b-f1c3fad2c379",
    "deepnote_cell_type": "markdown",
    "deepnote_cell_height": 170
   }
  },
  {
   "cell_type": "code",
   "metadata": {
    "execution": {
     "iopub.execute_input": "2022-03-01T08:49:12.861874Z",
     "iopub.status.busy": "2022-03-01T08:49:12.861307Z",
     "iopub.status.idle": "2022-03-01T08:49:12.863773Z",
     "shell.execute_reply": "2022-03-01T08:49:12.863225Z"
    },
    "for_assignment_type": "solution",
    "cell_id": "00030-600cae5e-0236-4c13-8dcf-6c4f3d65edf3",
    "deepnote_to_be_reexecuted": true,
    "source_hash": "612ee974",
    "deepnote_cell_type": "code",
    "deepnote_cell_height": 130
   },
   "source": "def simulation_and_statistic(model_proportions, expected_proportion_correct):\n    '''Simulates 210 TT hand choices under Emily’s model. \n    Returns one statistic from the simulation.'''\n    ...",
   "execution_count": null,
   "outputs": []
  },
  {
   "cell_type": "markdown",
   "source": "Using this function, assign `simulated_statistics` to an array of 1000 statistics that you calculated under the assumption that Emily's model was true.\n\n<!--\nBEGIN QUESTION\nname: q1_8\n-->",
   "metadata": {
    "deletable": false,
    "editable": false,
    "cell_id": "00031-f2914bdb-37ce-451b-b881-4011c100a6cf",
    "deepnote_cell_type": "markdown",
    "deepnote_cell_height": 88.80000305175781
   }
  },
  {
   "cell_type": "code",
   "metadata": {
    "execution": {
     "iopub.execute_input": "2022-03-01T08:49:12.870636Z",
     "iopub.status.busy": "2022-03-01T08:49:12.870089Z",
     "iopub.status.idle": "2022-03-01T08:49:12.886491Z",
     "shell.execute_reply": "2022-03-01T08:49:12.886940Z"
    },
    "cell_id": "00032-4f36fc82-64c3-4018-9cfe-4b352eb10fa4",
    "deepnote_to_be_reexecuted": true,
    "source_hash": "64e1e161",
    "deepnote_cell_type": "code",
    "deepnote_cell_height": 166
   },
   "source": "num_repetitions = 1000\n\nsimulated_statistics = ...\n\nfor ... in ...:\n    ...",
   "execution_count": null,
   "outputs": []
  },
  {
   "cell_type": "code",
   "metadata": {
    "deletable": false,
    "editable": false,
    "cell_id": "00033-5e688490-678e-4d0c-996a-271e626b3e96",
    "deepnote_to_be_reexecuted": true,
    "source_hash": "abe612be",
    "deepnote_cell_type": "code",
    "deepnote_cell_height": 76
   },
   "source": "grader.check(\"q1_8\")",
   "execution_count": null,
   "outputs": []
  },
  {
   "cell_type": "markdown",
   "source": "Let's view the distribution of the simulated statistics under Emily's model, and visually compare where the observed statistic lies relative to the simulated statistics.",
   "metadata": {
    "cell_id": "00034-61a3aa20-a0b3-4640-a863-d4dbc689824c",
    "deepnote_cell_type": "markdown",
    "deepnote_cell_height": 74.80000305175781
   }
  },
  {
   "cell_type": "code",
   "metadata": {
    "execution": {
     "iopub.execute_input": "2022-03-01T08:49:12.971415Z",
     "iopub.status.busy": "2022-03-01T08:49:12.967593Z",
     "iopub.status.idle": "2022-03-01T08:49:13.259610Z",
     "shell.execute_reply": "2022-03-01T08:49:13.260120Z"
    },
    "cell_id": "00035-cbc8404b-af7e-438f-9ae7-ea2b6d30ad06",
    "deepnote_to_be_reexecuted": true,
    "source_hash": "cf05a531",
    "deepnote_cell_type": "code",
    "deepnote_cell_height": 112
   },
   "source": "t = Table().with_column('Simulated Statistics', simulated_statistics)\nt.hist()\nplt.scatter(observed_statistic, 0, color='red', s=100, zorder=2);",
   "execution_count": null,
   "outputs": []
  },
  {
   "cell_type": "markdown",
   "source": "We can make a visual argument as to whether we believe the observed statistic is consistent with Emily’s model. Here, since larger values of the test statistic suggest the alternative model (where the chance of guessing the correct hand is something other than 50%), we can formalize our analysis by finding what proportion of simulated statistics were as large or larger than our observed test statistic (the area at or to the right of the observed test statistic). If this area is small enough, we’ll declare that the observed data are inconsistent with our simulated model. Here is the [link](https://inferentialthinking.com/chapters/11/1/Assessing_a_Model.html) to the section in the textbook.",
   "metadata": {
    "cell_id": "00036-087ec893-2159-4e30-8465-213ca0884111",
    "deepnote_cell_type": "markdown",
    "deepnote_cell_height": 142
   }
  },
  {
   "cell_type": "markdown",
   "source": "**Question 1.9:** Calculate the proportion of simulated statistics greater than or equal to the observed statistic. \n\n*Hint:* `np.count_nonzero` usage can be found [here](http://data8.org/fa21/python-reference.html).\n\n<!--\nBEGIN QUESTION\nname: q1_9\n-->",
   "metadata": {
    "deletable": false,
    "editable": false,
    "cell_id": "00037-6b925dad-ed73-4a35-9d35-8840b0df3aa0",
    "deepnote_cell_type": "markdown",
    "deepnote_cell_height": 102.80000305175781
   }
  },
  {
   "cell_type": "code",
   "metadata": {
    "execution": {
     "iopub.execute_input": "2022-03-01T08:49:13.266528Z",
     "iopub.status.busy": "2022-03-01T08:49:13.265402Z",
     "iopub.status.idle": "2022-03-01T08:49:13.269000Z",
     "shell.execute_reply": "2022-03-01T08:49:13.269376Z"
    },
    "scrolled": true,
    "cell_id": "00038-c1bd3f8b-2e57-4b34-ac36-08d2dc8a7565",
    "deepnote_to_be_reexecuted": true,
    "source_hash": "df9447df",
    "deepnote_cell_type": "code",
    "deepnote_cell_height": 94
   },
   "source": "proportion_greater_or_equal = ...\nproportion_greater_or_equal",
   "execution_count": null,
   "outputs": []
  },
  {
   "cell_type": "code",
   "metadata": {
    "deletable": false,
    "editable": false,
    "cell_id": "00039-f6910d2c-3146-40cf-a175-4162a81a9b98",
    "deepnote_to_be_reexecuted": true,
    "source_hash": "cbbd5319",
    "deepnote_cell_type": "code",
    "deepnote_cell_height": 76
   },
   "source": "grader.check(\"q1_9\")",
   "execution_count": null,
   "outputs": []
  },
  {
   "cell_type": "markdown",
   "source": "By convention, we often compare the proportion we just calculated to 0.05. If the proportion of simulated statistics greater than or equal to the observed statistic is sufficiently small (less than or equal to 0.05), then this is evidence against Emily's model. Conceptually, you may think of this as the case where less than 5% of simulated values are as far or farther away from what we had expected. If this is not the case, we don’t have any reason to doubt Emily’s model. \n\nThis should help you make your own conclusions about Emily Rosa's experiment. \n\nTherapeutic touch fell out of use after this experiment, which was eventually accepted into one of the premier medical journals. TT practitioners hit back and accused Emily and her family of tampering with the results, while some claimed that Emily's bad spiritual mood towards therapeutic touch made it difficult to read her HEF. Whatever it may be, Emily's experiment is a classic example about how anyone, with the right resources, can test anything they want!",
   "metadata": {
    "cell_id": "00040-db7830fb-fb0b-4818-82ad-dd1960a85c30",
    "deepnote_cell_type": "markdown",
    "deepnote_cell_height": 259.6000061035156
   }
  },
  {
   "cell_type": "markdown",
   "source": "**Question 1.10:** Now, take some time to think to yourself and discuss with your peers:\n\n1. Is the data more consistent with Emily' model (practioners were randomly guessing)?\n2. What does this mean in terms of Emily's experiment? Do the TT practitioners' answers follow an even chance model or is there something else at play? \n\nDid you talk to your peers? (T/F)\n\n<!--\nBEGIN QUESTION\nname: q1_10\n-->",
   "metadata": {
    "deletable": false,
    "editable": false,
    "cell_id": "00041-572fa6ae-f6d3-468e-92d2-a729e985ad3c",
    "deepnote_cell_type": "markdown",
    "deepnote_cell_height": 187
   }
  },
  {
   "cell_type": "code",
   "metadata": {
    "execution": {
     "iopub.execute_input": "2022-03-01T08:49:13.292151Z",
     "iopub.status.busy": "2022-03-01T08:49:13.291544Z",
     "iopub.status.idle": "2022-03-01T08:49:13.296069Z",
     "shell.execute_reply": "2022-03-01T08:49:13.295311Z"
    },
    "cell_id": "00042-bd978aa0-fef2-4a6e-9d10-1a1e54f39e39",
    "deepnote_to_be_reexecuted": true,
    "source_hash": "233def22",
    "deepnote_cell_type": "code",
    "deepnote_cell_height": 94
   },
   "source": "peer_talk = ...\npeer_talk",
   "execution_count": null,
   "outputs": []
  },
  {
   "cell_type": "code",
   "metadata": {
    "execution": {
     "iopub.execute_input": "2022-03-01T08:49:13.301845Z",
     "iopub.status.busy": "2022-03-01T08:49:13.301222Z",
     "iopub.status.idle": "2022-03-01T08:49:13.304910Z",
     "shell.execute_reply": "2022-03-01T08:49:13.304350Z"
    },
    "cell_id": "00043-2ffd713d-109c-406e-aea4-cbc9ff862509",
    "deepnote_to_be_reexecuted": true,
    "source_hash": "42fd172f",
    "deepnote_cell_type": "code",
    "deepnote_cell_height": 76
   },
   "source": "peer_talk == True",
   "execution_count": null,
   "outputs": []
  },
  {
   "cell_type": "markdown",
   "source": "## 2. Submission\n\n<img src=\"appa_momo.jpg\" alt=\"drawing\" width=\"300\"/>\n\nAppa and Momo want to congratulate you on completing the lab!! Now you can relax like them! Be sure to \n- **Run all the tests** (the next cell has a shortcut for that). \n- **Save** from the `File` menu.\n- **Run the cell at the bottom to download a .zip file and submit to Gradescope.**.\n- If you're in lab, ask one of the staff members to check you off.",
   "metadata": {
    "cell_id": "00044-c50de678-7e88-48b8-9cd3-266e55577a82",
    "deepnote_cell_type": "markdown",
    "deepnote_cell_height": 281.3999938964844
   }
  },
  {
   "cell_type": "markdown",
   "source": "---\n\nTo double-check your work, the cell below will rerun all of the autograder tests.",
   "metadata": {
    "deletable": false,
    "editable": false,
    "cell_id": "00045-0aff66ae-c588-4078-809d-ba8ae14ef9c8",
    "deepnote_cell_type": "markdown",
    "deepnote_cell_height": 53.399993896484375
   }
  },
  {
   "cell_type": "code",
   "metadata": {
    "deletable": false,
    "editable": false,
    "cell_id": "00046-7c2eee58-3b56-4eff-ae5c-afd64ccf7476",
    "deepnote_to_be_reexecuted": true,
    "source_hash": "3e4d35bc",
    "deepnote_cell_type": "code",
    "deepnote_cell_height": 61
   },
   "source": "grader.check_all()",
   "execution_count": null,
   "outputs": []
  },
  {
   "cell_type": "markdown",
   "source": "## Submission\n\nMake sure you have run all cells in your notebook in order before running the cell below, so that all images/graphs appear in the output. The cell below will generate a zip file for you to submit. **Please save before exporting!**",
   "metadata": {
    "deletable": false,
    "editable": false,
    "cell_id": "00047-63b05827-65b0-4d9f-bcb2-f0a302985c4c",
    "deepnote_cell_type": "markdown",
    "deepnote_cell_height": 130.8000030517578
   }
  },
  {
   "cell_type": "code",
   "metadata": {
    "deletable": false,
    "editable": false,
    "cell_id": "00048-dce5e0c9-3923-4cce-b11e-663b0e032f75",
    "deepnote_to_be_reexecuted": true,
    "source_hash": "6f724915",
    "deepnote_cell_type": "code",
    "deepnote_cell_height": 79
   },
   "source": "# Save your notebook first, then run this cell to export your submission.\ngrader.export(pdf=False)",
   "execution_count": null,
   "outputs": []
  },
  {
   "cell_type": "markdown",
   "source": " ",
   "metadata": {
    "cell_id": "00049-81d23ec7-94ff-43b4-b6ce-68b1b42e93b6",
    "deepnote_cell_type": "markdown",
    "deepnote_cell_height": 46
   }
  },
  {
   "cell_type": "markdown",
   "source": "<a style='text-decoration:none;line-height:16px;display:flex;color:#5B5B62;padding:10px;justify-content:end;' href='https://deepnote.com?utm_source=created-in-deepnote-cell&projectId=ef6c0823-e062-4ba0-8bfb-7690ef03f945' target=\"_blank\">\n<img alt='Created in deepnote.com' style='display:inline;max-height:16px;margin:0px;margin-right:7.5px;' src='data:image/svg+xml;base64,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' > </img>\nCreated in <span style='font-weight:600;margin-left:4px;'>Deepnote</span></a>",
   "metadata": {
    "tags": [],
    "created_in_deepnote_cell": true,
    "deepnote_cell_type": "markdown"
   }
  }
 ],
 "nbformat": 4,
 "nbformat_minor": 5,
 "metadata": {
  "kernelspec": {
   "display_name": "Python 3",
   "language": "python",
   "name": "python3"
  },
  "language_info": {
   "codemirror_mode": {
    "name": "ipython",
    "version": 3
   },
   "file_extension": ".py",
   "mimetype": "text/x-python",
   "name": "python",
   "nbconvert_exporter": "python",
   "pygments_lexer": "ipython3",
   "version": "3.9.9"
  },
  "deepnote_notebook_id": "b3c83958-0d71-4a9e-b60b-8cb47179a2f2",
  "deepnote": {},
  "deepnote_execution_queue": []
 }
}